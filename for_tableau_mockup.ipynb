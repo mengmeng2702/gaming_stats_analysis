{
 "cells": [
  {
   "cell_type": "code",
   "execution_count": 1,
   "metadata": {},
   "outputs": [],
   "source": [
    "import pandas as pd"
   ]
  },
  {
   "cell_type": "code",
   "execution_count": 2,
   "metadata": {},
   "outputs": [],
   "source": [
    "file = pd.read_csv(\"https://raw.githubusercontent.com/mengmeng2702/gaming_stats_analysis/working_B/steam_twitch_plus_playtime_1.csv\")"
   ]
  },
  {
   "cell_type": "code",
   "execution_count": 3,
   "metadata": {},
   "outputs": [
    {
     "data": {
      "text/html": "<div>\n<style scoped>\n    .dataframe tbody tr th:only-of-type {\n        vertical-align: middle;\n    }\n\n    .dataframe tbody tr th {\n        vertical-align: top;\n    }\n\n    .dataframe thead th {\n        text-align: right;\n    }\n</style>\n<table border=\"1\" class=\"dataframe\">\n  <thead>\n    <tr style=\"text-align: right;\">\n      <th></th>\n      <th>Unnamed: 0</th>\n      <th>Unnamed: 0.1</th>\n      <th>time</th>\n      <th>appid</th>\n      <th>name</th>\n      <th>review</th>\n      <th>voted_up</th>\n      <th>release_date</th>\n      <th>english</th>\n      <th>developer</th>\n      <th>...</th>\n      <th>Avg_viewers</th>\n      <th>Avg_channels</th>\n      <th>Avg_viewer_ratio</th>\n      <th>windows</th>\n      <th>mac</th>\n      <th>linux</th>\n      <th>avg</th>\n      <th>gain</th>\n      <th>peak</th>\n      <th>avg_peak_perc</th>\n    </tr>\n  </thead>\n  <tbody>\n    <tr>\n      <th>0</th>\n      <td>0</td>\n      <td>0</td>\n      <td>2017-01-31</td>\n      <td>500</td>\n      <td>Left 4 Dead</td>\n      <td>54.0</td>\n      <td>0.925926</td>\n      <td>2008-11-17</td>\n      <td>1</td>\n      <td>Valve</td>\n      <td>...</td>\n      <td>357</td>\n      <td>1</td>\n      <td>232.69</td>\n      <td>1</td>\n      <td>1</td>\n      <td>0</td>\n      <td>511.01</td>\n      <td>46.19</td>\n      <td>1250</td>\n      <td>0.408808</td>\n    </tr>\n    <tr>\n      <th>1</th>\n      <td>1</td>\n      <td>1</td>\n      <td>2016-01-31</td>\n      <td>550</td>\n      <td>Left 4 Dead 2</td>\n      <td>807.0</td>\n      <td>0.950556</td>\n      <td>2009-11-19</td>\n      <td>1</td>\n      <td>Valve</td>\n      <td>...</td>\n      <td>371</td>\n      <td>20</td>\n      <td>17.87</td>\n      <td>1</td>\n      <td>1</td>\n      <td>1</td>\n      <td>12405.26</td>\n      <td>1500.59</td>\n      <td>25363</td>\n      <td>0.489109</td>\n    </tr>\n    <tr>\n      <th>2</th>\n      <td>2</td>\n      <td>2</td>\n      <td>2016-02-29</td>\n      <td>550</td>\n      <td>Left 4 Dead 2</td>\n      <td>616.0</td>\n      <td>0.962723</td>\n      <td>2009-11-19</td>\n      <td>1</td>\n      <td>Valve</td>\n      <td>...</td>\n      <td>319</td>\n      <td>18</td>\n      <td>17.42</td>\n      <td>1</td>\n      <td>1</td>\n      <td>1</td>\n      <td>11770.73</td>\n      <td>-634.52</td>\n      <td>25228</td>\n      <td>0.466574</td>\n    </tr>\n    <tr>\n      <th>3</th>\n      <td>3</td>\n      <td>3</td>\n      <td>2016-03-31</td>\n      <td>550</td>\n      <td>Left 4 Dead 2</td>\n      <td>429.0</td>\n      <td>0.932715</td>\n      <td>2009-11-19</td>\n      <td>1</td>\n      <td>Valve</td>\n      <td>...</td>\n      <td>211</td>\n      <td>18</td>\n      <td>11.33</td>\n      <td>1</td>\n      <td>1</td>\n      <td>1</td>\n      <td>9570.79</td>\n      <td>-2199.95</td>\n      <td>19083</td>\n      <td>0.501535</td>\n    </tr>\n    <tr>\n      <th>4</th>\n      <td>4</td>\n      <td>4</td>\n      <td>2016-04-30</td>\n      <td>550</td>\n      <td>Left 4 Dead 2</td>\n      <td>343.0</td>\n      <td>0.944767</td>\n      <td>2009-11-19</td>\n      <td>1</td>\n      <td>Valve</td>\n      <td>...</td>\n      <td>217</td>\n      <td>26</td>\n      <td>8.12</td>\n      <td>1</td>\n      <td>1</td>\n      <td>1</td>\n      <td>8162.71</td>\n      <td>-1408.07</td>\n      <td>16524</td>\n      <td>0.493991</td>\n    </tr>\n  </tbody>\n</table>\n<p>5 rows × 402 columns</p>\n</div>",
      "text/plain": "   Unnamed: 0  Unnamed: 0.1        time  appid           name  review  \\\n0           0             0  2017-01-31    500    Left 4 Dead    54.0   \n1           1             1  2016-01-31    550  Left 4 Dead 2   807.0   \n2           2             2  2016-02-29    550  Left 4 Dead 2   616.0   \n3           3             3  2016-03-31    550  Left 4 Dead 2   429.0   \n4           4             4  2016-04-30    550  Left 4 Dead 2   343.0   \n\n   voted_up release_date  english developer  ... Avg_viewers  Avg_channels  \\\n0  0.925926   2008-11-17        1     Valve  ...         357             1   \n1  0.950556   2009-11-19        1     Valve  ...         371            20   \n2  0.962723   2009-11-19        1     Valve  ...         319            18   \n3  0.932715   2009-11-19        1     Valve  ...         211            18   \n4  0.944767   2009-11-19        1     Valve  ...         217            26   \n\n   Avg_viewer_ratio  windows  mac  linux       avg     gain   peak  \\\n0            232.69        1    1      0    511.01    46.19   1250   \n1             17.87        1    1      1  12405.26  1500.59  25363   \n2             17.42        1    1      1  11770.73  -634.52  25228   \n3             11.33        1    1      1   9570.79 -2199.95  19083   \n4              8.12        1    1      1   8162.71 -1408.07  16524   \n\n   avg_peak_perc  \n0       0.408808  \n1       0.489109  \n2       0.466574  \n3       0.501535  \n4       0.493991  \n\n[5 rows x 402 columns]"
     },
     "execution_count": 3,
     "metadata": {},
     "output_type": "execute_result"
    }
   ],
   "source": [
    "\n",
    "df = pd.DataFrame(data=file)\n",
    "df.head()"
   ]
  },
  {
   "cell_type": "code",
   "execution_count": 5,
   "metadata": {},
   "outputs": [],
   "source": [
    "#export as csv file\n",
    "df.to_csv(\"for_tableau_mockup.csv\")"
   ]
  }
 ],
 "metadata": {
  "kernelspec": {
   "display_name": "Python 3.7.9 64-bit ('PythonData': conda)",
   "name": "python379jvsc74a57bd0b0fa347580f6b5744895e324c059a722d46aa951281bb8db79f6de8594b072e0"
  },
  "language_info": {
   "codemirror_mode": {
    "name": "ipython",
    "version": 3
   },
   "file_extension": ".py",
   "mimetype": "text/x-python",
   "name": "python",
   "nbconvert_exporter": "python",
   "pygments_lexer": "ipython3",
   "version": "3.7.9"
  }
 },
 "nbformat": 4,
 "nbformat_minor": 4
}