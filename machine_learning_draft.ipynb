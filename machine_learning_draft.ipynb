{
 "metadata": {
  "language_info": {
   "codemirror_mode": {
    "name": "ipython",
    "version": 3
   },
   "file_extension": ".py",
   "mimetype": "text/x-python",
   "name": "python",
   "nbconvert_exporter": "python",
   "pygments_lexer": "ipython3",
   "version": "3.6.8"
  },
  "orig_nbformat": 2,
  "kernelspec": {
   "name": "python368jvsc74a57bd0361fc911a978f5bb4a8b5da503390c92993de73f05684b43cbfb6730cbc1a2c5",
   "display_name": "Python 3.6.8 64-bit"
  },
  "metadata": {
   "interpreter": {
    "hash": "361fc911a978f5bb4a8b5da503390c92993de73f05684b43cbfb6730cbc1a2c5"
   }
  }
 },
 "nbformat": 4,
 "nbformat_minor": 2,
 "cells": [
  {
   "cell_type": "code",
   "execution_count": 1,
   "metadata": {},
   "outputs": [],
   "source": [
    "import pandas as pd\n",
    "import numpy as np"
   ]
  },
  {
   "cell_type": "code",
   "execution_count": 2,
   "metadata": {},
   "outputs": [],
   "source": [
    "df = pd.read_csv('steam_twitch_plus_playtime.csv')"
   ]
  },
  {
   "cell_type": "code",
   "execution_count": 3,
   "metadata": {},
   "outputs": [
    {
     "output_type": "execute_result",
     "data": {
      "text/plain": [
       "      Unnamed: 0  Unnamed: 0.1        time   appid  \\\n",
       "0              0             0  2017-01-31     500   \n",
       "1              1             1  2016-01-31     550   \n",
       "2              2             2  2016-02-29     550   \n",
       "3              3             3  2016-03-31     550   \n",
       "4              4             4  2016-04-30     550   \n",
       "...          ...           ...         ...     ...   \n",
       "2882        2882          3365  2019-03-31  858810   \n",
       "2883        2883          3368  2019-04-30  508440   \n",
       "2884        2884          3369  2019-05-31  508440   \n",
       "2885        2885          3372  2020-03-31     220   \n",
       "2886        2886          3373  2020-10-31  239140   \n",
       "\n",
       "                                   name  review  voted_up release_date  \\\n",
       "0                           Left 4 Dead      54  0.925926   2008-11-17   \n",
       "1                         Left 4 Dead 2     807  0.950556   2009-11-19   \n",
       "2                         Left 4 Dead 2     616  0.962723   2009-11-19   \n",
       "3                         Left 4 Dead 2     429  0.932715   2009-11-19   \n",
       "4                         Left 4 Dead 2     343  0.944767   2009-11-19   \n",
       "...                                 ...     ...       ...          ...   \n",
       "2882                        Dawn of Man    1623  0.790511   2019-03-01   \n",
       "2883  Totally Accurate Battle Simulator    1634  0.925337   2019-04-01   \n",
       "2884  Totally Accurate Battle Simulator     608  0.937500   2019-04-01   \n",
       "2885                        Half-Life 2    1087  0.985361   2004-11-16   \n",
       "2886                        Dying Light    1000  0.948104   2015-01-26   \n",
       "\n",
       "      english      developer  ... Avg_viewers  Avg_channels  Avg_viewer_ratio  \\\n",
       "0           1          Valve  ...         357             1            232.69   \n",
       "1           1          Valve  ...         371            20             17.87   \n",
       "2           1          Valve  ...         319            18             17.42   \n",
       "3           1          Valve  ...         211            18             11.33   \n",
       "4           1          Valve  ...         217            26              8.12   \n",
       "...       ...            ...  ...         ...           ...               ...   \n",
       "2882        1  Madruga Works  ...         825            21             38.86   \n",
       "2883        1       Landfall  ...         994             8            122.49   \n",
       "2884        1       Landfall  ...         546             4            129.21   \n",
       "2885        1          Valve  ...         640            15             42.19   \n",
       "2886        1       Techland  ...         876            53             16.46   \n",
       "\n",
       "      windows  mac  linux       avg     gain   peak  avg_peak_perc  \n",
       "0           1    1      0    511.01    46.19   1250       0.408808  \n",
       "1           1    1      1  12405.26  1500.59  25363       0.489109  \n",
       "2           1    1      1  11770.73  -634.52  25228       0.466574  \n",
       "3           1    1      1   9570.79 -2199.95  19083       0.501535  \n",
       "4           1    1      1   8162.71 -1408.07  16524       0.493991  \n",
       "...       ...  ...    ...       ...      ...    ...            ...  \n",
       "2882        1    1      1   5539.65      NaN  23738       0.233366  \n",
       "2883        1    1      1   3748.40  3748.36   9075       0.413047  \n",
       "2884        1    1      1   3010.15  -738.25   5779       0.520877  \n",
       "2885        1    1      0   2400.30   779.63   6882       0.348779  \n",
       "2886        1    1      1   6206.29  1609.81  16436       0.377603  \n",
       "\n",
       "[2887 rows x 402 columns]"
      ],
      "text/html": "<div>\n<style scoped>\n    .dataframe tbody tr th:only-of-type {\n        vertical-align: middle;\n    }\n\n    .dataframe tbody tr th {\n        vertical-align: top;\n    }\n\n    .dataframe thead th {\n        text-align: right;\n    }\n</style>\n<table border=\"1\" class=\"dataframe\">\n  <thead>\n    <tr style=\"text-align: right;\">\n      <th></th>\n      <th>Unnamed: 0</th>\n      <th>Unnamed: 0.1</th>\n      <th>time</th>\n      <th>appid</th>\n      <th>name</th>\n      <th>review</th>\n      <th>voted_up</th>\n      <th>release_date</th>\n      <th>english</th>\n      <th>developer</th>\n      <th>...</th>\n      <th>Avg_viewers</th>\n      <th>Avg_channels</th>\n      <th>Avg_viewer_ratio</th>\n      <th>windows</th>\n      <th>mac</th>\n      <th>linux</th>\n      <th>avg</th>\n      <th>gain</th>\n      <th>peak</th>\n      <th>avg_peak_perc</th>\n    </tr>\n  </thead>\n  <tbody>\n    <tr>\n      <th>0</th>\n      <td>0</td>\n      <td>0</td>\n      <td>2017-01-31</td>\n      <td>500</td>\n      <td>Left 4 Dead</td>\n      <td>54</td>\n      <td>0.925926</td>\n      <td>2008-11-17</td>\n      <td>1</td>\n      <td>Valve</td>\n      <td>...</td>\n      <td>357</td>\n      <td>1</td>\n      <td>232.69</td>\n      <td>1</td>\n      <td>1</td>\n      <td>0</td>\n      <td>511.01</td>\n      <td>46.19</td>\n      <td>1250</td>\n      <td>0.408808</td>\n    </tr>\n    <tr>\n      <th>1</th>\n      <td>1</td>\n      <td>1</td>\n      <td>2016-01-31</td>\n      <td>550</td>\n      <td>Left 4 Dead 2</td>\n      <td>807</td>\n      <td>0.950556</td>\n      <td>2009-11-19</td>\n      <td>1</td>\n      <td>Valve</td>\n      <td>...</td>\n      <td>371</td>\n      <td>20</td>\n      <td>17.87</td>\n      <td>1</td>\n      <td>1</td>\n      <td>1</td>\n      <td>12405.26</td>\n      <td>1500.59</td>\n      <td>25363</td>\n      <td>0.489109</td>\n    </tr>\n    <tr>\n      <th>2</th>\n      <td>2</td>\n      <td>2</td>\n      <td>2016-02-29</td>\n      <td>550</td>\n      <td>Left 4 Dead 2</td>\n      <td>616</td>\n      <td>0.962723</td>\n      <td>2009-11-19</td>\n      <td>1</td>\n      <td>Valve</td>\n      <td>...</td>\n      <td>319</td>\n      <td>18</td>\n      <td>17.42</td>\n      <td>1</td>\n      <td>1</td>\n      <td>1</td>\n      <td>11770.73</td>\n      <td>-634.52</td>\n      <td>25228</td>\n      <td>0.466574</td>\n    </tr>\n    <tr>\n      <th>3</th>\n      <td>3</td>\n      <td>3</td>\n      <td>2016-03-31</td>\n      <td>550</td>\n      <td>Left 4 Dead 2</td>\n      <td>429</td>\n      <td>0.932715</td>\n      <td>2009-11-19</td>\n      <td>1</td>\n      <td>Valve</td>\n      <td>...</td>\n      <td>211</td>\n      <td>18</td>\n      <td>11.33</td>\n      <td>1</td>\n      <td>1</td>\n      <td>1</td>\n      <td>9570.79</td>\n      <td>-2199.95</td>\n      <td>19083</td>\n      <td>0.501535</td>\n    </tr>\n    <tr>\n      <th>4</th>\n      <td>4</td>\n      <td>4</td>\n      <td>2016-04-30</td>\n      <td>550</td>\n      <td>Left 4 Dead 2</td>\n      <td>343</td>\n      <td>0.944767</td>\n      <td>2009-11-19</td>\n      <td>1</td>\n      <td>Valve</td>\n      <td>...</td>\n      <td>217</td>\n      <td>26</td>\n      <td>8.12</td>\n      <td>1</td>\n      <td>1</td>\n      <td>1</td>\n      <td>8162.71</td>\n      <td>-1408.07</td>\n      <td>16524</td>\n      <td>0.493991</td>\n    </tr>\n    <tr>\n      <th>...</th>\n      <td>...</td>\n      <td>...</td>\n      <td>...</td>\n      <td>...</td>\n      <td>...</td>\n      <td>...</td>\n      <td>...</td>\n      <td>...</td>\n      <td>...</td>\n      <td>...</td>\n      <td>...</td>\n      <td>...</td>\n      <td>...</td>\n      <td>...</td>\n      <td>...</td>\n      <td>...</td>\n      <td>...</td>\n      <td>...</td>\n      <td>...</td>\n      <td>...</td>\n      <td>...</td>\n    </tr>\n    <tr>\n      <th>2882</th>\n      <td>2882</td>\n      <td>3365</td>\n      <td>2019-03-31</td>\n      <td>858810</td>\n      <td>Dawn of Man</td>\n      <td>1623</td>\n      <td>0.790511</td>\n      <td>2019-03-01</td>\n      <td>1</td>\n      <td>Madruga Works</td>\n      <td>...</td>\n      <td>825</td>\n      <td>21</td>\n      <td>38.86</td>\n      <td>1</td>\n      <td>1</td>\n      <td>1</td>\n      <td>5539.65</td>\n      <td>NaN</td>\n      <td>23738</td>\n      <td>0.233366</td>\n    </tr>\n    <tr>\n      <th>2883</th>\n      <td>2883</td>\n      <td>3368</td>\n      <td>2019-04-30</td>\n      <td>508440</td>\n      <td>Totally Accurate Battle Simulator</td>\n      <td>1634</td>\n      <td>0.925337</td>\n      <td>2019-04-01</td>\n      <td>1</td>\n      <td>Landfall</td>\n      <td>...</td>\n      <td>994</td>\n      <td>8</td>\n      <td>122.49</td>\n      <td>1</td>\n      <td>1</td>\n      <td>1</td>\n      <td>3748.40</td>\n      <td>3748.36</td>\n      <td>9075</td>\n      <td>0.413047</td>\n    </tr>\n    <tr>\n      <th>2884</th>\n      <td>2884</td>\n      <td>3369</td>\n      <td>2019-05-31</td>\n      <td>508440</td>\n      <td>Totally Accurate Battle Simulator</td>\n      <td>608</td>\n      <td>0.937500</td>\n      <td>2019-04-01</td>\n      <td>1</td>\n      <td>Landfall</td>\n      <td>...</td>\n      <td>546</td>\n      <td>4</td>\n      <td>129.21</td>\n      <td>1</td>\n      <td>1</td>\n      <td>1</td>\n      <td>3010.15</td>\n      <td>-738.25</td>\n      <td>5779</td>\n      <td>0.520877</td>\n    </tr>\n    <tr>\n      <th>2885</th>\n      <td>2885</td>\n      <td>3372</td>\n      <td>2020-03-31</td>\n      <td>220</td>\n      <td>Half-Life 2</td>\n      <td>1087</td>\n      <td>0.985361</td>\n      <td>2004-11-16</td>\n      <td>1</td>\n      <td>Valve</td>\n      <td>...</td>\n      <td>640</td>\n      <td>15</td>\n      <td>42.19</td>\n      <td>1</td>\n      <td>1</td>\n      <td>0</td>\n      <td>2400.30</td>\n      <td>779.63</td>\n      <td>6882</td>\n      <td>0.348779</td>\n    </tr>\n    <tr>\n      <th>2886</th>\n      <td>2886</td>\n      <td>3373</td>\n      <td>2020-10-31</td>\n      <td>239140</td>\n      <td>Dying Light</td>\n      <td>1000</td>\n      <td>0.948104</td>\n      <td>2015-01-26</td>\n      <td>1</td>\n      <td>Techland</td>\n      <td>...</td>\n      <td>876</td>\n      <td>53</td>\n      <td>16.46</td>\n      <td>1</td>\n      <td>1</td>\n      <td>1</td>\n      <td>6206.29</td>\n      <td>1609.81</td>\n      <td>16436</td>\n      <td>0.377603</td>\n    </tr>\n  </tbody>\n</table>\n<p>2887 rows × 402 columns</p>\n</div>"
     },
     "metadata": {},
     "execution_count": 3
    }
   ],
   "source": [
    "df"
   ]
  },
  {
   "cell_type": "code",
   "execution_count": 4,
   "metadata": {},
   "outputs": [],
   "source": [
    "df.drop(df.columns[0:2], axis=1, inplace=True)"
   ]
  },
  {
   "cell_type": "code",
   "execution_count": 5,
   "metadata": {},
   "outputs": [
    {
     "output_type": "execute_result",
     "data": {
      "text/plain": [
       "            time   appid                               name  review  voted_up  \\\n",
       "0     2017-01-31     500                        Left 4 Dead      54  0.925926   \n",
       "1     2016-01-31     550                      Left 4 Dead 2     807  0.950556   \n",
       "2     2016-02-29     550                      Left 4 Dead 2     616  0.962723   \n",
       "3     2016-03-31     550                      Left 4 Dead 2     429  0.932715   \n",
       "4     2016-04-30     550                      Left 4 Dead 2     343  0.944767   \n",
       "...          ...     ...                                ...     ...       ...   \n",
       "2882  2019-03-31  858810                        Dawn of Man    1623  0.790511   \n",
       "2883  2019-04-30  508440  Totally Accurate Battle Simulator    1634  0.925337   \n",
       "2884  2019-05-31  508440  Totally Accurate Battle Simulator     608  0.937500   \n",
       "2885  2020-03-31     220                        Half-Life 2    1087  0.985361   \n",
       "2886  2020-10-31  239140                        Dying Light    1000  0.948104   \n",
       "\n",
       "     release_date  english      developer            publisher  achievements  \\\n",
       "0      2008-11-17        1          Valve                Valve            73   \n",
       "1      2009-11-19        1          Valve                Valve            70   \n",
       "2      2009-11-19        1          Valve                Valve            70   \n",
       "3      2009-11-19        1          Valve                Valve            70   \n",
       "4      2009-11-19        1          Valve                Valve            70   \n",
       "...           ...      ...            ...                  ...           ...   \n",
       "2882   2019-03-01        1  Madruga Works        Madruga Works            18   \n",
       "2883   2019-04-01        1       Landfall             Landfall             0   \n",
       "2884   2019-04-01        1       Landfall             Landfall             0   \n",
       "2885   2004-11-16        1          Valve                Valve            33   \n",
       "2886   2015-01-26        1       Techland  Techland Publishing            68   \n",
       "\n",
       "      ...  Avg_viewers  Avg_channels  Avg_viewer_ratio  windows  mac  linux  \\\n",
       "0     ...          357             1            232.69        1    1      0   \n",
       "1     ...          371            20             17.87        1    1      1   \n",
       "2     ...          319            18             17.42        1    1      1   \n",
       "3     ...          211            18             11.33        1    1      1   \n",
       "4     ...          217            26              8.12        1    1      1   \n",
       "...   ...          ...           ...               ...      ...  ...    ...   \n",
       "2882  ...          825            21             38.86        1    1      1   \n",
       "2883  ...          994             8            122.49        1    1      1   \n",
       "2884  ...          546             4            129.21        1    1      1   \n",
       "2885  ...          640            15             42.19        1    1      0   \n",
       "2886  ...          876            53             16.46        1    1      1   \n",
       "\n",
       "           avg     gain   peak  avg_peak_perc  \n",
       "0       511.01    46.19   1250       0.408808  \n",
       "1     12405.26  1500.59  25363       0.489109  \n",
       "2     11770.73  -634.52  25228       0.466574  \n",
       "3      9570.79 -2199.95  19083       0.501535  \n",
       "4      8162.71 -1408.07  16524       0.493991  \n",
       "...        ...      ...    ...            ...  \n",
       "2882   5539.65      NaN  23738       0.233366  \n",
       "2883   3748.40  3748.36   9075       0.413047  \n",
       "2884   3010.15  -738.25   5779       0.520877  \n",
       "2885   2400.30   779.63   6882       0.348779  \n",
       "2886   6206.29  1609.81  16436       0.377603  \n",
       "\n",
       "[2887 rows x 400 columns]"
      ],
      "text/html": "<div>\n<style scoped>\n    .dataframe tbody tr th:only-of-type {\n        vertical-align: middle;\n    }\n\n    .dataframe tbody tr th {\n        vertical-align: top;\n    }\n\n    .dataframe thead th {\n        text-align: right;\n    }\n</style>\n<table border=\"1\" class=\"dataframe\">\n  <thead>\n    <tr style=\"text-align: right;\">\n      <th></th>\n      <th>time</th>\n      <th>appid</th>\n      <th>name</th>\n      <th>review</th>\n      <th>voted_up</th>\n      <th>release_date</th>\n      <th>english</th>\n      <th>developer</th>\n      <th>publisher</th>\n      <th>achievements</th>\n      <th>...</th>\n      <th>Avg_viewers</th>\n      <th>Avg_channels</th>\n      <th>Avg_viewer_ratio</th>\n      <th>windows</th>\n      <th>mac</th>\n      <th>linux</th>\n      <th>avg</th>\n      <th>gain</th>\n      <th>peak</th>\n      <th>avg_peak_perc</th>\n    </tr>\n  </thead>\n  <tbody>\n    <tr>\n      <th>0</th>\n      <td>2017-01-31</td>\n      <td>500</td>\n      <td>Left 4 Dead</td>\n      <td>54</td>\n      <td>0.925926</td>\n      <td>2008-11-17</td>\n      <td>1</td>\n      <td>Valve</td>\n      <td>Valve</td>\n      <td>73</td>\n      <td>...</td>\n      <td>357</td>\n      <td>1</td>\n      <td>232.69</td>\n      <td>1</td>\n      <td>1</td>\n      <td>0</td>\n      <td>511.01</td>\n      <td>46.19</td>\n      <td>1250</td>\n      <td>0.408808</td>\n    </tr>\n    <tr>\n      <th>1</th>\n      <td>2016-01-31</td>\n      <td>550</td>\n      <td>Left 4 Dead 2</td>\n      <td>807</td>\n      <td>0.950556</td>\n      <td>2009-11-19</td>\n      <td>1</td>\n      <td>Valve</td>\n      <td>Valve</td>\n      <td>70</td>\n      <td>...</td>\n      <td>371</td>\n      <td>20</td>\n      <td>17.87</td>\n      <td>1</td>\n      <td>1</td>\n      <td>1</td>\n      <td>12405.26</td>\n      <td>1500.59</td>\n      <td>25363</td>\n      <td>0.489109</td>\n    </tr>\n    <tr>\n      <th>2</th>\n      <td>2016-02-29</td>\n      <td>550</td>\n      <td>Left 4 Dead 2</td>\n      <td>616</td>\n      <td>0.962723</td>\n      <td>2009-11-19</td>\n      <td>1</td>\n      <td>Valve</td>\n      <td>Valve</td>\n      <td>70</td>\n      <td>...</td>\n      <td>319</td>\n      <td>18</td>\n      <td>17.42</td>\n      <td>1</td>\n      <td>1</td>\n      <td>1</td>\n      <td>11770.73</td>\n      <td>-634.52</td>\n      <td>25228</td>\n      <td>0.466574</td>\n    </tr>\n    <tr>\n      <th>3</th>\n      <td>2016-03-31</td>\n      <td>550</td>\n      <td>Left 4 Dead 2</td>\n      <td>429</td>\n      <td>0.932715</td>\n      <td>2009-11-19</td>\n      <td>1</td>\n      <td>Valve</td>\n      <td>Valve</td>\n      <td>70</td>\n      <td>...</td>\n      <td>211</td>\n      <td>18</td>\n      <td>11.33</td>\n      <td>1</td>\n      <td>1</td>\n      <td>1</td>\n      <td>9570.79</td>\n      <td>-2199.95</td>\n      <td>19083</td>\n      <td>0.501535</td>\n    </tr>\n    <tr>\n      <th>4</th>\n      <td>2016-04-30</td>\n      <td>550</td>\n      <td>Left 4 Dead 2</td>\n      <td>343</td>\n      <td>0.944767</td>\n      <td>2009-11-19</td>\n      <td>1</td>\n      <td>Valve</td>\n      <td>Valve</td>\n      <td>70</td>\n      <td>...</td>\n      <td>217</td>\n      <td>26</td>\n      <td>8.12</td>\n      <td>1</td>\n      <td>1</td>\n      <td>1</td>\n      <td>8162.71</td>\n      <td>-1408.07</td>\n      <td>16524</td>\n      <td>0.493991</td>\n    </tr>\n    <tr>\n      <th>...</th>\n      <td>...</td>\n      <td>...</td>\n      <td>...</td>\n      <td>...</td>\n      <td>...</td>\n      <td>...</td>\n      <td>...</td>\n      <td>...</td>\n      <td>...</td>\n      <td>...</td>\n      <td>...</td>\n      <td>...</td>\n      <td>...</td>\n      <td>...</td>\n      <td>...</td>\n      <td>...</td>\n      <td>...</td>\n      <td>...</td>\n      <td>...</td>\n      <td>...</td>\n      <td>...</td>\n    </tr>\n    <tr>\n      <th>2882</th>\n      <td>2019-03-31</td>\n      <td>858810</td>\n      <td>Dawn of Man</td>\n      <td>1623</td>\n      <td>0.790511</td>\n      <td>2019-03-01</td>\n      <td>1</td>\n      <td>Madruga Works</td>\n      <td>Madruga Works</td>\n      <td>18</td>\n      <td>...</td>\n      <td>825</td>\n      <td>21</td>\n      <td>38.86</td>\n      <td>1</td>\n      <td>1</td>\n      <td>1</td>\n      <td>5539.65</td>\n      <td>NaN</td>\n      <td>23738</td>\n      <td>0.233366</td>\n    </tr>\n    <tr>\n      <th>2883</th>\n      <td>2019-04-30</td>\n      <td>508440</td>\n      <td>Totally Accurate Battle Simulator</td>\n      <td>1634</td>\n      <td>0.925337</td>\n      <td>2019-04-01</td>\n      <td>1</td>\n      <td>Landfall</td>\n      <td>Landfall</td>\n      <td>0</td>\n      <td>...</td>\n      <td>994</td>\n      <td>8</td>\n      <td>122.49</td>\n      <td>1</td>\n      <td>1</td>\n      <td>1</td>\n      <td>3748.40</td>\n      <td>3748.36</td>\n      <td>9075</td>\n      <td>0.413047</td>\n    </tr>\n    <tr>\n      <th>2884</th>\n      <td>2019-05-31</td>\n      <td>508440</td>\n      <td>Totally Accurate Battle Simulator</td>\n      <td>608</td>\n      <td>0.937500</td>\n      <td>2019-04-01</td>\n      <td>1</td>\n      <td>Landfall</td>\n      <td>Landfall</td>\n      <td>0</td>\n      <td>...</td>\n      <td>546</td>\n      <td>4</td>\n      <td>129.21</td>\n      <td>1</td>\n      <td>1</td>\n      <td>1</td>\n      <td>3010.15</td>\n      <td>-738.25</td>\n      <td>5779</td>\n      <td>0.520877</td>\n    </tr>\n    <tr>\n      <th>2885</th>\n      <td>2020-03-31</td>\n      <td>220</td>\n      <td>Half-Life 2</td>\n      <td>1087</td>\n      <td>0.985361</td>\n      <td>2004-11-16</td>\n      <td>1</td>\n      <td>Valve</td>\n      <td>Valve</td>\n      <td>33</td>\n      <td>...</td>\n      <td>640</td>\n      <td>15</td>\n      <td>42.19</td>\n      <td>1</td>\n      <td>1</td>\n      <td>0</td>\n      <td>2400.30</td>\n      <td>779.63</td>\n      <td>6882</td>\n      <td>0.348779</td>\n    </tr>\n    <tr>\n      <th>2886</th>\n      <td>2020-10-31</td>\n      <td>239140</td>\n      <td>Dying Light</td>\n      <td>1000</td>\n      <td>0.948104</td>\n      <td>2015-01-26</td>\n      <td>1</td>\n      <td>Techland</td>\n      <td>Techland Publishing</td>\n      <td>68</td>\n      <td>...</td>\n      <td>876</td>\n      <td>53</td>\n      <td>16.46</td>\n      <td>1</td>\n      <td>1</td>\n      <td>1</td>\n      <td>6206.29</td>\n      <td>1609.81</td>\n      <td>16436</td>\n      <td>0.377603</td>\n    </tr>\n  </tbody>\n</table>\n<p>2887 rows × 400 columns</p>\n</div>"
     },
     "metadata": {},
     "execution_count": 5
    }
   ],
   "source": [
    "df"
   ]
  },
  {
   "cell_type": "code",
   "execution_count": 6,
   "metadata": {},
   "outputs": [],
   "source": [
    "df['viewer_ratio_lagged'] = df.groupby(['appid'])['Avg_viewer_ratio'].shift(-1)"
   ]
  },
  {
   "cell_type": "code",
   "execution_count": 7,
   "metadata": {},
   "outputs": [],
   "source": [
    "df['viewer_ratio_level'] = df['viewer_ratio_lagged'].apply(lambda x : 1 if x>35 else 0)"
   ]
  },
  {
   "cell_type": "code",
   "execution_count": 8,
   "metadata": {},
   "outputs": [
    {
     "output_type": "execute_result",
     "data": {
      "text/plain": [
       "2.0"
      ]
     },
     "metadata": {},
     "execution_count": 8
    }
   ],
   "source": [
    "np.percentile(list(df.groupby('publisher')['appid'].nunique()), 90)"
   ]
  },
  {
   "cell_type": "code",
   "execution_count": 9,
   "metadata": {},
   "outputs": [],
   "source": [
    "df['big_publisher'] = df.groupby('publisher')['appid'].transform('nunique')"
   ]
  },
  {
   "cell_type": "code",
   "execution_count": 10,
   "metadata": {},
   "outputs": [],
   "source": [
    "df['big_publisher'] = df['big_publisher'].apply(lambda x : 1 if x >2 else 0)"
   ]
  },
  {
   "cell_type": "code",
   "execution_count": 11,
   "metadata": {},
   "outputs": [],
   "source": [
    "df_ml = df[['review','voted_up','english','achievements','avg','gain','windows','mac','linux','big_publisher','viewer_ratio_level']].dropna()"
   ]
  },
  {
   "cell_type": "code",
   "execution_count": 12,
   "metadata": {},
   "outputs": [],
   "source": [
    "from sklearn.model_selection import train_test_split\n",
    "from sklearn.preprocessing import StandardScaler\n",
    "from sklearn.ensemble import RandomForestClassifier\n",
    "from sklearn.metrics import confusion_matrix, accuracy_score, classification_report\n",
    "from sklearn.preprocessing import OneHotEncoder\n",
    "import pandas as pd\n",
    "import tensorflow as tf\n"
   ]
  },
  {
   "cell_type": "code",
   "execution_count": 13,
   "metadata": {},
   "outputs": [
    {
     "output_type": "execute_result",
     "data": {
      "text/plain": [
       "      review  voted_up  english  achievements       avg     gain  windows  \\\n",
       "0         54  0.925926        1            73    511.01    46.19        1   \n",
       "1        807  0.950556        1            70  12405.26  1500.59        1   \n",
       "2        616  0.962723        1            70  11770.73  -634.52        1   \n",
       "3        429  0.932715        1            70   9570.79 -2199.95        1   \n",
       "4        343  0.944767        1            70   8162.71 -1408.07        1   \n",
       "...      ...       ...      ...           ...       ...      ...      ...   \n",
       "2881     540  0.725599        1            44   1767.09  1266.98        1   \n",
       "2883    1634  0.925337        1             0   3748.40  3748.36        1   \n",
       "2884     608  0.937500        1             0   3010.15  -738.25        1   \n",
       "2885    1087  0.985361        1            33   2400.30   779.63        1   \n",
       "2886    1000  0.948104        1            68   6206.29  1609.81        1   \n",
       "\n",
       "      mac  linux  big_publisher  viewer_ratio_level  \n",
       "0       1      0              1                   0  \n",
       "1       1      1              1                   0  \n",
       "2       1      1              1                   0  \n",
       "3       1      1              1                   0  \n",
       "4       1      1              1                   0  \n",
       "...   ...    ...            ...                 ...  \n",
       "2881    0      0              0                   0  \n",
       "2883    1      1              0                   1  \n",
       "2884    1      1              0                   0  \n",
       "2885    1      0              1                   0  \n",
       "2886    1      1              0                   0  \n",
       "\n",
       "[2832 rows x 11 columns]"
      ],
      "text/html": "<div>\n<style scoped>\n    .dataframe tbody tr th:only-of-type {\n        vertical-align: middle;\n    }\n\n    .dataframe tbody tr th {\n        vertical-align: top;\n    }\n\n    .dataframe thead th {\n        text-align: right;\n    }\n</style>\n<table border=\"1\" class=\"dataframe\">\n  <thead>\n    <tr style=\"text-align: right;\">\n      <th></th>\n      <th>review</th>\n      <th>voted_up</th>\n      <th>english</th>\n      <th>achievements</th>\n      <th>avg</th>\n      <th>gain</th>\n      <th>windows</th>\n      <th>mac</th>\n      <th>linux</th>\n      <th>big_publisher</th>\n      <th>viewer_ratio_level</th>\n    </tr>\n  </thead>\n  <tbody>\n    <tr>\n      <th>0</th>\n      <td>54</td>\n      <td>0.925926</td>\n      <td>1</td>\n      <td>73</td>\n      <td>511.01</td>\n      <td>46.19</td>\n      <td>1</td>\n      <td>1</td>\n      <td>0</td>\n      <td>1</td>\n      <td>0</td>\n    </tr>\n    <tr>\n      <th>1</th>\n      <td>807</td>\n      <td>0.950556</td>\n      <td>1</td>\n      <td>70</td>\n      <td>12405.26</td>\n      <td>1500.59</td>\n      <td>1</td>\n      <td>1</td>\n      <td>1</td>\n      <td>1</td>\n      <td>0</td>\n    </tr>\n    <tr>\n      <th>2</th>\n      <td>616</td>\n      <td>0.962723</td>\n      <td>1</td>\n      <td>70</td>\n      <td>11770.73</td>\n      <td>-634.52</td>\n      <td>1</td>\n      <td>1</td>\n      <td>1</td>\n      <td>1</td>\n      <td>0</td>\n    </tr>\n    <tr>\n      <th>3</th>\n      <td>429</td>\n      <td>0.932715</td>\n      <td>1</td>\n      <td>70</td>\n      <td>9570.79</td>\n      <td>-2199.95</td>\n      <td>1</td>\n      <td>1</td>\n      <td>1</td>\n      <td>1</td>\n      <td>0</td>\n    </tr>\n    <tr>\n      <th>4</th>\n      <td>343</td>\n      <td>0.944767</td>\n      <td>1</td>\n      <td>70</td>\n      <td>8162.71</td>\n      <td>-1408.07</td>\n      <td>1</td>\n      <td>1</td>\n      <td>1</td>\n      <td>1</td>\n      <td>0</td>\n    </tr>\n    <tr>\n      <th>...</th>\n      <td>...</td>\n      <td>...</td>\n      <td>...</td>\n      <td>...</td>\n      <td>...</td>\n      <td>...</td>\n      <td>...</td>\n      <td>...</td>\n      <td>...</td>\n      <td>...</td>\n      <td>...</td>\n    </tr>\n    <tr>\n      <th>2881</th>\n      <td>540</td>\n      <td>0.725599</td>\n      <td>1</td>\n      <td>44</td>\n      <td>1767.09</td>\n      <td>1266.98</td>\n      <td>1</td>\n      <td>0</td>\n      <td>0</td>\n      <td>0</td>\n      <td>0</td>\n    </tr>\n    <tr>\n      <th>2883</th>\n      <td>1634</td>\n      <td>0.925337</td>\n      <td>1</td>\n      <td>0</td>\n      <td>3748.40</td>\n      <td>3748.36</td>\n      <td>1</td>\n      <td>1</td>\n      <td>1</td>\n      <td>0</td>\n      <td>1</td>\n    </tr>\n    <tr>\n      <th>2884</th>\n      <td>608</td>\n      <td>0.937500</td>\n      <td>1</td>\n      <td>0</td>\n      <td>3010.15</td>\n      <td>-738.25</td>\n      <td>1</td>\n      <td>1</td>\n      <td>1</td>\n      <td>0</td>\n      <td>0</td>\n    </tr>\n    <tr>\n      <th>2885</th>\n      <td>1087</td>\n      <td>0.985361</td>\n      <td>1</td>\n      <td>33</td>\n      <td>2400.30</td>\n      <td>779.63</td>\n      <td>1</td>\n      <td>1</td>\n      <td>0</td>\n      <td>1</td>\n      <td>0</td>\n    </tr>\n    <tr>\n      <th>2886</th>\n      <td>1000</td>\n      <td>0.948104</td>\n      <td>1</td>\n      <td>68</td>\n      <td>6206.29</td>\n      <td>1609.81</td>\n      <td>1</td>\n      <td>1</td>\n      <td>1</td>\n      <td>0</td>\n      <td>0</td>\n    </tr>\n  </tbody>\n</table>\n<p>2832 rows × 11 columns</p>\n</div>"
     },
     "metadata": {},
     "execution_count": 13
    }
   ],
   "source": [
    "df_ml"
   ]
  },
  {
   "cell_type": "code",
   "execution_count": 14,
   "metadata": {},
   "outputs": [],
   "source": [
    "y=df_ml.viewer_ratio_level"
   ]
  },
  {
   "cell_type": "code",
   "execution_count": 15,
   "metadata": {},
   "outputs": [],
   "source": [
    "X=df_ml.drop(columns=['viewer_ratio_level'])"
   ]
  },
  {
   "cell_type": "code",
   "execution_count": 16,
   "metadata": {},
   "outputs": [],
   "source": [
    "X_train, X_test, y_train, y_test = train_test_split(X, y, random_state=42, stratify=y)"
   ]
  },
  {
   "cell_type": "code",
   "execution_count": 17,
   "metadata": {},
   "outputs": [],
   "source": [
    "scaler = StandardScaler()"
   ]
  },
  {
   "cell_type": "code",
   "execution_count": 18,
   "metadata": {},
   "outputs": [],
   "source": [
    "X_scaler = scaler.fit(X_train)"
   ]
  },
  {
   "cell_type": "code",
   "execution_count": 19,
   "metadata": {},
   "outputs": [],
   "source": [
    "X_train_scaled = X_scaler.transform(X_train)\n",
    "X_test_scaled = X_scaler.transform(X_test)"
   ]
  },
  {
   "cell_type": "code",
   "execution_count": 20,
   "metadata": {},
   "outputs": [
    {
     "output_type": "stream",
     "name": "stdout",
     "text": [
      " Random forest predictive accuracy: 0.842\n"
     ]
    }
   ],
   "source": [
    "rf_model = RandomForestClassifier(n_estimators=128, random_state=78)\n",
    "\n",
    "rf_model = rf_model.fit(X_train_scaled, y_train)\n",
    "\n",
    "y_pred = rf_model.predict(X_test_scaled)\n",
    "print(f\" Random forest predictive accuracy: {accuracy_score(y_test,y_pred):.3f}\")"
   ]
  },
  {
   "cell_type": "code",
   "execution_count": 21,
   "metadata": {},
   "outputs": [],
   "source": [
    "predictions = rf_model.predict(X_test_scaled)"
   ]
  },
  {
   "cell_type": "code",
   "execution_count": 22,
   "metadata": {},
   "outputs": [
    {
     "output_type": "execute_result",
     "data": {
      "text/plain": [
       "          Predicted 0  Predicted 1\n",
       "Actual 0          525           21\n",
       "Actual 1           91           71"
      ],
      "text/html": "<div>\n<style scoped>\n    .dataframe tbody tr th:only-of-type {\n        vertical-align: middle;\n    }\n\n    .dataframe tbody tr th {\n        vertical-align: top;\n    }\n\n    .dataframe thead th {\n        text-align: right;\n    }\n</style>\n<table border=\"1\" class=\"dataframe\">\n  <thead>\n    <tr style=\"text-align: right;\">\n      <th></th>\n      <th>Predicted 0</th>\n      <th>Predicted 1</th>\n    </tr>\n  </thead>\n  <tbody>\n    <tr>\n      <th>Actual 0</th>\n      <td>525</td>\n      <td>21</td>\n    </tr>\n    <tr>\n      <th>Actual 1</th>\n      <td>91</td>\n      <td>71</td>\n    </tr>\n  </tbody>\n</table>\n</div>"
     },
     "metadata": {},
     "execution_count": 22
    }
   ],
   "source": [
    "cm = confusion_matrix(y_test, predictions)\n",
    "cm_df = pd.DataFrame(\n",
    "    cm, index=[\"Actual 0\", \"Actual 1\"], columns=[\"Predicted 0\", \"Predicted 1\"])\n",
    "\n",
    "cm_df"
   ]
  },
  {
   "cell_type": "code",
   "execution_count": 23,
   "metadata": {},
   "outputs": [
    {
     "output_type": "stream",
     "name": "stdout",
     "text": [
      "Confusion Matrix\n"
     ]
    },
    {
     "output_type": "display_data",
     "data": {
      "text/plain": "          Predicted 0  Predicted 1\nActual 0          525           21\nActual 1           91           71",
      "text/html": "<div>\n<style scoped>\n    .dataframe tbody tr th:only-of-type {\n        vertical-align: middle;\n    }\n\n    .dataframe tbody tr th {\n        vertical-align: top;\n    }\n\n    .dataframe thead th {\n        text-align: right;\n    }\n</style>\n<table border=\"1\" class=\"dataframe\">\n  <thead>\n    <tr style=\"text-align: right;\">\n      <th></th>\n      <th>Predicted 0</th>\n      <th>Predicted 1</th>\n    </tr>\n  </thead>\n  <tbody>\n    <tr>\n      <th>Actual 0</th>\n      <td>525</td>\n      <td>21</td>\n    </tr>\n    <tr>\n      <th>Actual 1</th>\n      <td>91</td>\n      <td>71</td>\n    </tr>\n  </tbody>\n</table>\n</div>"
     },
     "metadata": {}
    },
    {
     "output_type": "stream",
     "name": "stdout",
     "text": [
      "Accuracy Score : 0.8418079096045198\nClassification Report\n              precision    recall  f1-score   support\n\n           0       0.85      0.96      0.90       546\n           1       0.77      0.44      0.56       162\n\n    accuracy                           0.84       708\n   macro avg       0.81      0.70      0.73       708\nweighted avg       0.83      0.84      0.82       708\n\n"
     ]
    }
   ],
   "source": [
    "acc_score = accuracy_score(y_test, predictions)\n",
    "print(\"Confusion Matrix\")\n",
    "display(cm_df)\n",
    "print(f\"Accuracy Score : {acc_score}\")\n",
    "print(\"Classification Report\")\n",
    "print(classification_report(y_test, predictions))"
   ]
  },
  {
   "cell_type": "code",
   "execution_count": 24,
   "metadata": {},
   "outputs": [
    {
     "output_type": "stream",
     "name": "stdout",
     "text": [
      "Elapsed time to compute the importances: 0.015 seconds\n"
     ]
    }
   ],
   "source": [
    "import time\n",
    "import numpy as np\n",
    "\n",
    "start_time = time.time()\n",
    "importances = rf_model.feature_importances_\n",
    "std = np.std([\n",
    "    tree.feature_importances_ for tree in rf_model.estimators_], axis=0)\n",
    "elapsed_time = time.time() - start_time\n",
    "\n",
    "print(f\"Elapsed time to compute the importances: \"\n",
    "      f\"{elapsed_time:.3f} seconds\")"
   ]
  },
  {
   "cell_type": "code",
   "execution_count": 25,
   "metadata": {},
   "outputs": [
    {
     "output_type": "display_data",
     "data": {
      "text/plain": "<Figure size 432x288 with 1 Axes>",
      "image/svg+xml": "<?xml version=\"1.0\" encoding=\"utf-8\" standalone=\"no\"?>\r\n<!DOCTYPE svg PUBLIC \"-//W3C//DTD SVG 1.1//EN\"\r\n  \"http://www.w3.org/Graphics/SVG/1.1/DTD/svg11.dtd\">\r\n<!-- Created with matplotlib (https://matplotlib.org/) -->\r\n<svg height=\"279.99625pt\" version=\"1.1\" viewBox=\"0 0 424.49375 279.99625\" width=\"424.49375pt\" xmlns=\"http://www.w3.org/2000/svg\" xmlns:xlink=\"http://www.w3.org/1999/xlink\">\r\n <metadata>\r\n  <rdf:RDF xmlns:cc=\"http://creativecommons.org/ns#\" xmlns:dc=\"http://purl.org/dc/elements/1.1/\" xmlns:rdf=\"http://www.w3.org/1999/02/22-rdf-syntax-ns#\">\r\n   <cc:Work>\r\n    <dc:type rdf:resource=\"http://purl.org/dc/dcmitype/StillImage\"/>\r\n    <dc:date>2021-05-19T16:17:55.087063</dc:date>\r\n    <dc:format>image/svg+xml</dc:format>\r\n    <dc:creator>\r\n     <cc:Agent>\r\n      <dc:title>Matplotlib v3.3.3, https://matplotlib.org/</dc:title>\r\n     </cc:Agent>\r\n    </dc:creator>\r\n   </cc:Work>\r\n  </rdf:RDF>\r\n </metadata>\r\n <defs>\r\n  <style type=\"text/css\">*{stroke-linecap:butt;stroke-linejoin:round;}</style>\r\n </defs>\r\n <g id=\"figure_1\">\r\n  <g id=\"patch_1\">\r\n   <path d=\"M 0 279.99625 \r\nL 424.49375 279.99625 \r\nL 424.49375 0 \r\nL 0 0 \r\nz\r\n\" style=\"fill:none;\"/>\r\n  </g>\r\n  <g id=\"axes_1\">\r\n   <g id=\"patch_2\">\r\n    <path d=\"M 50.14375 195.468125 \r\nL 417.29375 195.468125 \r\nL 417.29375 22.318125 \r\nL 50.14375 22.318125 \r\nz\r\n\" style=\"fill:#ffffff;\"/>\r\n   </g>\r\n   <g id=\"patch_3\">\r\n    <path clip-path=\"url(#p623e94e34f)\" d=\"M 59.3225 195.468125 \r\nL 77.68 195.468125 \r\nL 77.68 89.239495 \r\nL 59.3225 89.239495 \r\nz\r\n\" style=\"fill:#1f77b4;\"/>\r\n   </g>\r\n   <g id=\"patch_4\">\r\n    <path clip-path=\"url(#p623e94e34f)\" d=\"M 96.0375 195.468125 \r\nL 114.395 195.468125 \r\nL 114.395 109.683456 \r\nL 96.0375 109.683456 \r\nz\r\n\" style=\"fill:#1f77b4;\"/>\r\n   </g>\r\n   <g id=\"patch_5\">\r\n    <path clip-path=\"url(#p623e94e34f)\" d=\"M 132.7525 195.468125 \r\nL 151.11 195.468125 \r\nL 151.11 195.468125 \r\nL 132.7525 195.468125 \r\nz\r\n\" style=\"fill:#1f77b4;\"/>\r\n   </g>\r\n   <g id=\"patch_6\">\r\n    <path clip-path=\"url(#p623e94e34f)\" d=\"M 169.4675 195.468125 \r\nL 187.825 195.468125 \r\nL 187.825 112.583802 \r\nL 169.4675 112.583802 \r\nz\r\n\" style=\"fill:#1f77b4;\"/>\r\n   </g>\r\n   <g id=\"patch_7\">\r\n    <path clip-path=\"url(#p623e94e34f)\" d=\"M 206.1825 195.468125 \r\nL 224.54 195.468125 \r\nL 224.54 50.775594 \r\nL 206.1825 50.775594 \r\nz\r\n\" style=\"fill:#1f77b4;\"/>\r\n   </g>\r\n   <g id=\"patch_8\">\r\n    <path clip-path=\"url(#p623e94e34f)\" d=\"M 242.8975 195.468125 \r\nL 261.255 195.468125 \r\nL 261.255 108.730425 \r\nL 242.8975 108.730425 \r\nz\r\n\" style=\"fill:#1f77b4;\"/>\r\n   </g>\r\n   <g id=\"patch_9\">\r\n    <path clip-path=\"url(#p623e94e34f)\" d=\"M 279.6125 195.468125 \r\nL 297.97 195.468125 \r\nL 297.97 195.468125 \r\nL 279.6125 195.468125 \r\nz\r\n\" style=\"fill:#1f77b4;\"/>\r\n   </g>\r\n   <g id=\"patch_10\">\r\n    <path clip-path=\"url(#p623e94e34f)\" d=\"M 316.3275 195.468125 \r\nL 334.685 195.468125 \r\nL 334.685 186.949639 \r\nL 316.3275 186.949639 \r\nz\r\n\" style=\"fill:#1f77b4;\"/>\r\n   </g>\r\n   <g id=\"patch_11\">\r\n    <path clip-path=\"url(#p623e94e34f)\" d=\"M 353.0425 195.468125 \r\nL 371.4 195.468125 \r\nL 371.4 187.65401 \r\nL 353.0425 187.65401 \r\nz\r\n\" style=\"fill:#1f77b4;\"/>\r\n   </g>\r\n   <g id=\"patch_12\">\r\n    <path clip-path=\"url(#p623e94e34f)\" d=\"M 389.7575 195.468125 \r\nL 408.115 195.468125 \r\nL 408.115 180.335857 \r\nL 389.7575 180.335857 \r\nz\r\n\" style=\"fill:#1f77b4;\"/>\r\n   </g>\r\n   <g id=\"matplotlib.axis_1\">\r\n    <g id=\"xtick_1\">\r\n     <g id=\"line2d_1\">\r\n      <defs>\r\n       <path d=\"M 0 0 \r\nL 0 3.5 \r\n\" id=\"m5e460fb3eb\" style=\"stroke:#000000;stroke-width:0.8;\"/>\r\n      </defs>\r\n      <g>\r\n       <use style=\"stroke:#000000;stroke-width:0.8;\" x=\"68.50125\" xlink:href=\"#m5e460fb3eb\" y=\"195.468125\"/>\r\n      </g>\r\n     </g>\r\n     <g id=\"text_1\">\r\n      <!-- review -->\r\n      <g transform=\"translate(71.260625 235.535313)rotate(-90)scale(0.1 -0.1)\">\r\n       <defs>\r\n        <path d=\"M 41.109375 46.296875 \r\nQ 39.59375 47.171875 37.8125 47.578125 \r\nQ 36.03125 48 33.890625 48 \r\nQ 26.265625 48 22.1875 43.046875 \r\nQ 18.109375 38.09375 18.109375 28.8125 \r\nL 18.109375 0 \r\nL 9.078125 0 \r\nL 9.078125 54.6875 \r\nL 18.109375 54.6875 \r\nL 18.109375 46.1875 \r\nQ 20.953125 51.171875 25.484375 53.578125 \r\nQ 30.03125 56 36.53125 56 \r\nQ 37.453125 56 38.578125 55.875 \r\nQ 39.703125 55.765625 41.0625 55.515625 \r\nz\r\n\" id=\"DejaVuSans-114\"/>\r\n        <path d=\"M 56.203125 29.59375 \r\nL 56.203125 25.203125 \r\nL 14.890625 25.203125 \r\nQ 15.484375 15.921875 20.484375 11.0625 \r\nQ 25.484375 6.203125 34.421875 6.203125 \r\nQ 39.59375 6.203125 44.453125 7.46875 \r\nQ 49.3125 8.734375 54.109375 11.28125 \r\nL 54.109375 2.78125 \r\nQ 49.265625 0.734375 44.1875 -0.34375 \r\nQ 39.109375 -1.421875 33.890625 -1.421875 \r\nQ 20.796875 -1.421875 13.15625 6.1875 \r\nQ 5.515625 13.8125 5.515625 26.8125 \r\nQ 5.515625 40.234375 12.765625 48.109375 \r\nQ 20.015625 56 32.328125 56 \r\nQ 43.359375 56 49.78125 48.890625 \r\nQ 56.203125 41.796875 56.203125 29.59375 \r\nz\r\nM 47.21875 32.234375 \r\nQ 47.125 39.59375 43.09375 43.984375 \r\nQ 39.0625 48.390625 32.421875 48.390625 \r\nQ 24.90625 48.390625 20.390625 44.140625 \r\nQ 15.875 39.890625 15.1875 32.171875 \r\nz\r\n\" id=\"DejaVuSans-101\"/>\r\n        <path d=\"M 2.984375 54.6875 \r\nL 12.5 54.6875 \r\nL 29.59375 8.796875 \r\nL 46.6875 54.6875 \r\nL 56.203125 54.6875 \r\nL 35.6875 0 \r\nL 23.484375 0 \r\nz\r\n\" id=\"DejaVuSans-118\"/>\r\n        <path d=\"M 9.421875 54.6875 \r\nL 18.40625 54.6875 \r\nL 18.40625 0 \r\nL 9.421875 0 \r\nz\r\nM 9.421875 75.984375 \r\nL 18.40625 75.984375 \r\nL 18.40625 64.59375 \r\nL 9.421875 64.59375 \r\nz\r\n\" id=\"DejaVuSans-105\"/>\r\n        <path d=\"M 4.203125 54.6875 \r\nL 13.1875 54.6875 \r\nL 24.421875 12.015625 \r\nL 35.59375 54.6875 \r\nL 46.1875 54.6875 \r\nL 57.421875 12.015625 \r\nL 68.609375 54.6875 \r\nL 77.59375 54.6875 \r\nL 63.28125 0 \r\nL 52.6875 0 \r\nL 40.921875 44.828125 \r\nL 29.109375 0 \r\nL 18.5 0 \r\nz\r\n\" id=\"DejaVuSans-119\"/>\r\n       </defs>\r\n       <use xlink:href=\"#DejaVuSans-114\"/>\r\n       <use x=\"38.863281\" xlink:href=\"#DejaVuSans-101\"/>\r\n       <use x=\"100.386719\" xlink:href=\"#DejaVuSans-118\"/>\r\n       <use x=\"159.566406\" xlink:href=\"#DejaVuSans-105\"/>\r\n       <use x=\"187.349609\" xlink:href=\"#DejaVuSans-101\"/>\r\n       <use x=\"248.873047\" xlink:href=\"#DejaVuSans-119\"/>\r\n      </g>\r\n     </g>\r\n    </g>\r\n    <g id=\"xtick_2\">\r\n     <g id=\"line2d_2\">\r\n      <g>\r\n       <use style=\"stroke:#000000;stroke-width:0.8;\" x=\"105.21625\" xlink:href=\"#m5e460fb3eb\" y=\"195.468125\"/>\r\n      </g>\r\n     </g>\r\n     <g id=\"text_2\">\r\n      <!-- voted_up -->\r\n      <g transform=\"translate(107.836562 248.613438)rotate(-90)scale(0.1 -0.1)\">\r\n       <defs>\r\n        <path d=\"M 30.609375 48.390625 \r\nQ 23.390625 48.390625 19.1875 42.75 \r\nQ 14.984375 37.109375 14.984375 27.296875 \r\nQ 14.984375 17.484375 19.15625 11.84375 \r\nQ 23.34375 6.203125 30.609375 6.203125 \r\nQ 37.796875 6.203125 41.984375 11.859375 \r\nQ 46.1875 17.53125 46.1875 27.296875 \r\nQ 46.1875 37.015625 41.984375 42.703125 \r\nQ 37.796875 48.390625 30.609375 48.390625 \r\nz\r\nM 30.609375 56 \r\nQ 42.328125 56 49.015625 48.375 \r\nQ 55.71875 40.765625 55.71875 27.296875 \r\nQ 55.71875 13.875 49.015625 6.21875 \r\nQ 42.328125 -1.421875 30.609375 -1.421875 \r\nQ 18.84375 -1.421875 12.171875 6.21875 \r\nQ 5.515625 13.875 5.515625 27.296875 \r\nQ 5.515625 40.765625 12.171875 48.375 \r\nQ 18.84375 56 30.609375 56 \r\nz\r\n\" id=\"DejaVuSans-111\"/>\r\n        <path d=\"M 18.3125 70.21875 \r\nL 18.3125 54.6875 \r\nL 36.8125 54.6875 \r\nL 36.8125 47.703125 \r\nL 18.3125 47.703125 \r\nL 18.3125 18.015625 \r\nQ 18.3125 11.328125 20.140625 9.421875 \r\nQ 21.96875 7.515625 27.59375 7.515625 \r\nL 36.8125 7.515625 \r\nL 36.8125 0 \r\nL 27.59375 0 \r\nQ 17.1875 0 13.234375 3.875 \r\nQ 9.28125 7.765625 9.28125 18.015625 \r\nL 9.28125 47.703125 \r\nL 2.6875 47.703125 \r\nL 2.6875 54.6875 \r\nL 9.28125 54.6875 \r\nL 9.28125 70.21875 \r\nz\r\n\" id=\"DejaVuSans-116\"/>\r\n        <path d=\"M 45.40625 46.390625 \r\nL 45.40625 75.984375 \r\nL 54.390625 75.984375 \r\nL 54.390625 0 \r\nL 45.40625 0 \r\nL 45.40625 8.203125 \r\nQ 42.578125 3.328125 38.25 0.953125 \r\nQ 33.9375 -1.421875 27.875 -1.421875 \r\nQ 17.96875 -1.421875 11.734375 6.484375 \r\nQ 5.515625 14.40625 5.515625 27.296875 \r\nQ 5.515625 40.1875 11.734375 48.09375 \r\nQ 17.96875 56 27.875 56 \r\nQ 33.9375 56 38.25 53.625 \r\nQ 42.578125 51.265625 45.40625 46.390625 \r\nz\r\nM 14.796875 27.296875 \r\nQ 14.796875 17.390625 18.875 11.75 \r\nQ 22.953125 6.109375 30.078125 6.109375 \r\nQ 37.203125 6.109375 41.296875 11.75 \r\nQ 45.40625 17.390625 45.40625 27.296875 \r\nQ 45.40625 37.203125 41.296875 42.84375 \r\nQ 37.203125 48.484375 30.078125 48.484375 \r\nQ 22.953125 48.484375 18.875 42.84375 \r\nQ 14.796875 37.203125 14.796875 27.296875 \r\nz\r\n\" id=\"DejaVuSans-100\"/>\r\n        <path d=\"M 50.984375 -16.609375 \r\nL 50.984375 -23.578125 \r\nL -0.984375 -23.578125 \r\nL -0.984375 -16.609375 \r\nz\r\n\" id=\"DejaVuSans-95\"/>\r\n        <path d=\"M 8.5 21.578125 \r\nL 8.5 54.6875 \r\nL 17.484375 54.6875 \r\nL 17.484375 21.921875 \r\nQ 17.484375 14.15625 20.5 10.265625 \r\nQ 23.53125 6.390625 29.59375 6.390625 \r\nQ 36.859375 6.390625 41.078125 11.03125 \r\nQ 45.3125 15.671875 45.3125 23.6875 \r\nL 45.3125 54.6875 \r\nL 54.296875 54.6875 \r\nL 54.296875 0 \r\nL 45.3125 0 \r\nL 45.3125 8.40625 \r\nQ 42.046875 3.421875 37.71875 1 \r\nQ 33.40625 -1.421875 27.6875 -1.421875 \r\nQ 18.265625 -1.421875 13.375 4.4375 \r\nQ 8.5 10.296875 8.5 21.578125 \r\nz\r\nM 31.109375 56 \r\nz\r\n\" id=\"DejaVuSans-117\"/>\r\n        <path d=\"M 18.109375 8.203125 \r\nL 18.109375 -20.796875 \r\nL 9.078125 -20.796875 \r\nL 9.078125 54.6875 \r\nL 18.109375 54.6875 \r\nL 18.109375 46.390625 \r\nQ 20.953125 51.265625 25.265625 53.625 \r\nQ 29.59375 56 35.59375 56 \r\nQ 45.5625 56 51.78125 48.09375 \r\nQ 58.015625 40.1875 58.015625 27.296875 \r\nQ 58.015625 14.40625 51.78125 6.484375 \r\nQ 45.5625 -1.421875 35.59375 -1.421875 \r\nQ 29.59375 -1.421875 25.265625 0.953125 \r\nQ 20.953125 3.328125 18.109375 8.203125 \r\nz\r\nM 48.6875 27.296875 \r\nQ 48.6875 37.203125 44.609375 42.84375 \r\nQ 40.53125 48.484375 33.40625 48.484375 \r\nQ 26.265625 48.484375 22.1875 42.84375 \r\nQ 18.109375 37.203125 18.109375 27.296875 \r\nQ 18.109375 17.390625 22.1875 11.75 \r\nQ 26.265625 6.109375 33.40625 6.109375 \r\nQ 40.53125 6.109375 44.609375 11.75 \r\nQ 48.6875 17.390625 48.6875 27.296875 \r\nz\r\n\" id=\"DejaVuSans-112\"/>\r\n       </defs>\r\n       <use xlink:href=\"#DejaVuSans-118\"/>\r\n       <use x=\"59.179688\" xlink:href=\"#DejaVuSans-111\"/>\r\n       <use x=\"120.361328\" xlink:href=\"#DejaVuSans-116\"/>\r\n       <use x=\"159.570312\" xlink:href=\"#DejaVuSans-101\"/>\r\n       <use x=\"221.09375\" xlink:href=\"#DejaVuSans-100\"/>\r\n       <use x=\"284.570312\" xlink:href=\"#DejaVuSans-95\"/>\r\n       <use x=\"334.570312\" xlink:href=\"#DejaVuSans-117\"/>\r\n       <use x=\"397.949219\" xlink:href=\"#DejaVuSans-112\"/>\r\n      </g>\r\n     </g>\r\n    </g>\r\n    <g id=\"xtick_3\">\r\n     <g id=\"line2d_3\">\r\n      <g>\r\n       <use style=\"stroke:#000000;stroke-width:0.8;\" x=\"141.93125\" xlink:href=\"#m5e460fb3eb\" y=\"195.468125\"/>\r\n      </g>\r\n     </g>\r\n     <g id=\"text_3\">\r\n      <!-- english -->\r\n      <g transform=\"translate(144.690625 238.410313)rotate(-90)scale(0.1 -0.1)\">\r\n       <defs>\r\n        <path d=\"M 54.890625 33.015625 \r\nL 54.890625 0 \r\nL 45.90625 0 \r\nL 45.90625 32.71875 \r\nQ 45.90625 40.484375 42.875 44.328125 \r\nQ 39.84375 48.1875 33.796875 48.1875 \r\nQ 26.515625 48.1875 22.3125 43.546875 \r\nQ 18.109375 38.921875 18.109375 30.90625 \r\nL 18.109375 0 \r\nL 9.078125 0 \r\nL 9.078125 54.6875 \r\nL 18.109375 54.6875 \r\nL 18.109375 46.1875 \r\nQ 21.34375 51.125 25.703125 53.5625 \r\nQ 30.078125 56 35.796875 56 \r\nQ 45.21875 56 50.046875 50.171875 \r\nQ 54.890625 44.34375 54.890625 33.015625 \r\nz\r\n\" id=\"DejaVuSans-110\"/>\r\n        <path d=\"M 45.40625 27.984375 \r\nQ 45.40625 37.75 41.375 43.109375 \r\nQ 37.359375 48.484375 30.078125 48.484375 \r\nQ 22.859375 48.484375 18.828125 43.109375 \r\nQ 14.796875 37.75 14.796875 27.984375 \r\nQ 14.796875 18.265625 18.828125 12.890625 \r\nQ 22.859375 7.515625 30.078125 7.515625 \r\nQ 37.359375 7.515625 41.375 12.890625 \r\nQ 45.40625 18.265625 45.40625 27.984375 \r\nz\r\nM 54.390625 6.78125 \r\nQ 54.390625 -7.171875 48.1875 -13.984375 \r\nQ 42 -20.796875 29.203125 -20.796875 \r\nQ 24.46875 -20.796875 20.265625 -20.09375 \r\nQ 16.0625 -19.390625 12.109375 -17.921875 \r\nL 12.109375 -9.1875 \r\nQ 16.0625 -11.328125 19.921875 -12.34375 \r\nQ 23.78125 -13.375 27.78125 -13.375 \r\nQ 36.625 -13.375 41.015625 -8.765625 \r\nQ 45.40625 -4.15625 45.40625 5.171875 \r\nL 45.40625 9.625 \r\nQ 42.625 4.78125 38.28125 2.390625 \r\nQ 33.9375 0 27.875 0 \r\nQ 17.828125 0 11.671875 7.65625 \r\nQ 5.515625 15.328125 5.515625 27.984375 \r\nQ 5.515625 40.671875 11.671875 48.328125 \r\nQ 17.828125 56 27.875 56 \r\nQ 33.9375 56 38.28125 53.609375 \r\nQ 42.625 51.21875 45.40625 46.390625 \r\nL 45.40625 54.6875 \r\nL 54.390625 54.6875 \r\nz\r\n\" id=\"DejaVuSans-103\"/>\r\n        <path d=\"M 9.421875 75.984375 \r\nL 18.40625 75.984375 \r\nL 18.40625 0 \r\nL 9.421875 0 \r\nz\r\n\" id=\"DejaVuSans-108\"/>\r\n        <path d=\"M 44.28125 53.078125 \r\nL 44.28125 44.578125 \r\nQ 40.484375 46.53125 36.375 47.5 \r\nQ 32.28125 48.484375 27.875 48.484375 \r\nQ 21.1875 48.484375 17.84375 46.4375 \r\nQ 14.5 44.390625 14.5 40.28125 \r\nQ 14.5 37.15625 16.890625 35.375 \r\nQ 19.28125 33.59375 26.515625 31.984375 \r\nL 29.59375 31.296875 \r\nQ 39.15625 29.25 43.1875 25.515625 \r\nQ 47.21875 21.78125 47.21875 15.09375 \r\nQ 47.21875 7.46875 41.1875 3.015625 \r\nQ 35.15625 -1.421875 24.609375 -1.421875 \r\nQ 20.21875 -1.421875 15.453125 -0.5625 \r\nQ 10.6875 0.296875 5.421875 2 \r\nL 5.421875 11.28125 \r\nQ 10.40625 8.6875 15.234375 7.390625 \r\nQ 20.0625 6.109375 24.8125 6.109375 \r\nQ 31.15625 6.109375 34.5625 8.28125 \r\nQ 37.984375 10.453125 37.984375 14.40625 \r\nQ 37.984375 18.0625 35.515625 20.015625 \r\nQ 33.0625 21.96875 24.703125 23.78125 \r\nL 21.578125 24.515625 \r\nQ 13.234375 26.265625 9.515625 29.90625 \r\nQ 5.8125 33.546875 5.8125 39.890625 \r\nQ 5.8125 47.609375 11.28125 51.796875 \r\nQ 16.75 56 26.8125 56 \r\nQ 31.78125 56 36.171875 55.265625 \r\nQ 40.578125 54.546875 44.28125 53.078125 \r\nz\r\n\" id=\"DejaVuSans-115\"/>\r\n        <path d=\"M 54.890625 33.015625 \r\nL 54.890625 0 \r\nL 45.90625 0 \r\nL 45.90625 32.71875 \r\nQ 45.90625 40.484375 42.875 44.328125 \r\nQ 39.84375 48.1875 33.796875 48.1875 \r\nQ 26.515625 48.1875 22.3125 43.546875 \r\nQ 18.109375 38.921875 18.109375 30.90625 \r\nL 18.109375 0 \r\nL 9.078125 0 \r\nL 9.078125 75.984375 \r\nL 18.109375 75.984375 \r\nL 18.109375 46.1875 \r\nQ 21.34375 51.125 25.703125 53.5625 \r\nQ 30.078125 56 35.796875 56 \r\nQ 45.21875 56 50.046875 50.171875 \r\nQ 54.890625 44.34375 54.890625 33.015625 \r\nz\r\n\" id=\"DejaVuSans-104\"/>\r\n       </defs>\r\n       <use xlink:href=\"#DejaVuSans-101\"/>\r\n       <use x=\"61.523438\" xlink:href=\"#DejaVuSans-110\"/>\r\n       <use x=\"124.902344\" xlink:href=\"#DejaVuSans-103\"/>\r\n       <use x=\"188.378906\" xlink:href=\"#DejaVuSans-108\"/>\r\n       <use x=\"216.162109\" xlink:href=\"#DejaVuSans-105\"/>\r\n       <use x=\"243.945312\" xlink:href=\"#DejaVuSans-115\"/>\r\n       <use x=\"296.044922\" xlink:href=\"#DejaVuSans-104\"/>\r\n      </g>\r\n     </g>\r\n    </g>\r\n    <g id=\"xtick_4\">\r\n     <g id=\"line2d_4\">\r\n      <g>\r\n       <use style=\"stroke:#000000;stroke-width:0.8;\" x=\"178.64625\" xlink:href=\"#m5e460fb3eb\" y=\"195.468125\"/>\r\n      </g>\r\n     </g>\r\n     <g id=\"text_4\">\r\n      <!-- achievements -->\r\n      <g transform=\"translate(181.405625 272.79625)rotate(-90)scale(0.1 -0.1)\">\r\n       <defs>\r\n        <path d=\"M 34.28125 27.484375 \r\nQ 23.390625 27.484375 19.1875 25 \r\nQ 14.984375 22.515625 14.984375 16.5 \r\nQ 14.984375 11.71875 18.140625 8.90625 \r\nQ 21.296875 6.109375 26.703125 6.109375 \r\nQ 34.1875 6.109375 38.703125 11.40625 \r\nQ 43.21875 16.703125 43.21875 25.484375 \r\nL 43.21875 27.484375 \r\nz\r\nM 52.203125 31.203125 \r\nL 52.203125 0 \r\nL 43.21875 0 \r\nL 43.21875 8.296875 \r\nQ 40.140625 3.328125 35.546875 0.953125 \r\nQ 30.953125 -1.421875 24.3125 -1.421875 \r\nQ 15.921875 -1.421875 10.953125 3.296875 \r\nQ 6 8.015625 6 15.921875 \r\nQ 6 25.140625 12.171875 29.828125 \r\nQ 18.359375 34.515625 30.609375 34.515625 \r\nL 43.21875 34.515625 \r\nL 43.21875 35.40625 \r\nQ 43.21875 41.609375 39.140625 45 \r\nQ 35.0625 48.390625 27.6875 48.390625 \r\nQ 23 48.390625 18.546875 47.265625 \r\nQ 14.109375 46.140625 10.015625 43.890625 \r\nL 10.015625 52.203125 \r\nQ 14.9375 54.109375 19.578125 55.046875 \r\nQ 24.21875 56 28.609375 56 \r\nQ 40.484375 56 46.34375 49.84375 \r\nQ 52.203125 43.703125 52.203125 31.203125 \r\nz\r\n\" id=\"DejaVuSans-97\"/>\r\n        <path d=\"M 48.78125 52.59375 \r\nL 48.78125 44.1875 \r\nQ 44.96875 46.296875 41.140625 47.34375 \r\nQ 37.3125 48.390625 33.40625 48.390625 \r\nQ 24.65625 48.390625 19.8125 42.84375 \r\nQ 14.984375 37.3125 14.984375 27.296875 \r\nQ 14.984375 17.28125 19.8125 11.734375 \r\nQ 24.65625 6.203125 33.40625 6.203125 \r\nQ 37.3125 6.203125 41.140625 7.25 \r\nQ 44.96875 8.296875 48.78125 10.40625 \r\nL 48.78125 2.09375 \r\nQ 45.015625 0.34375 40.984375 -0.53125 \r\nQ 36.96875 -1.421875 32.421875 -1.421875 \r\nQ 20.0625 -1.421875 12.78125 6.34375 \r\nQ 5.515625 14.109375 5.515625 27.296875 \r\nQ 5.515625 40.671875 12.859375 48.328125 \r\nQ 20.21875 56 33.015625 56 \r\nQ 37.15625 56 41.109375 55.140625 \r\nQ 45.0625 54.296875 48.78125 52.59375 \r\nz\r\n\" id=\"DejaVuSans-99\"/>\r\n        <path d=\"M 52 44.1875 \r\nQ 55.375 50.25 60.0625 53.125 \r\nQ 64.75 56 71.09375 56 \r\nQ 79.640625 56 84.28125 50.015625 \r\nQ 88.921875 44.046875 88.921875 33.015625 \r\nL 88.921875 0 \r\nL 79.890625 0 \r\nL 79.890625 32.71875 \r\nQ 79.890625 40.578125 77.09375 44.375 \r\nQ 74.3125 48.1875 68.609375 48.1875 \r\nQ 61.625 48.1875 57.5625 43.546875 \r\nQ 53.515625 38.921875 53.515625 30.90625 \r\nL 53.515625 0 \r\nL 44.484375 0 \r\nL 44.484375 32.71875 \r\nQ 44.484375 40.625 41.703125 44.40625 \r\nQ 38.921875 48.1875 33.109375 48.1875 \r\nQ 26.21875 48.1875 22.15625 43.53125 \r\nQ 18.109375 38.875 18.109375 30.90625 \r\nL 18.109375 0 \r\nL 9.078125 0 \r\nL 9.078125 54.6875 \r\nL 18.109375 54.6875 \r\nL 18.109375 46.1875 \r\nQ 21.1875 51.21875 25.484375 53.609375 \r\nQ 29.78125 56 35.6875 56 \r\nQ 41.65625 56 45.828125 52.96875 \r\nQ 50 49.953125 52 44.1875 \r\nz\r\n\" id=\"DejaVuSans-109\"/>\r\n       </defs>\r\n       <use xlink:href=\"#DejaVuSans-97\"/>\r\n       <use x=\"61.279297\" xlink:href=\"#DejaVuSans-99\"/>\r\n       <use x=\"116.259766\" xlink:href=\"#DejaVuSans-104\"/>\r\n       <use x=\"179.638672\" xlink:href=\"#DejaVuSans-105\"/>\r\n       <use x=\"207.421875\" xlink:href=\"#DejaVuSans-101\"/>\r\n       <use x=\"268.945312\" xlink:href=\"#DejaVuSans-118\"/>\r\n       <use x=\"328.125\" xlink:href=\"#DejaVuSans-101\"/>\r\n       <use x=\"389.648438\" xlink:href=\"#DejaVuSans-109\"/>\r\n       <use x=\"487.060547\" xlink:href=\"#DejaVuSans-101\"/>\r\n       <use x=\"548.583984\" xlink:href=\"#DejaVuSans-110\"/>\r\n       <use x=\"611.962891\" xlink:href=\"#DejaVuSans-116\"/>\r\n       <use x=\"651.171875\" xlink:href=\"#DejaVuSans-115\"/>\r\n      </g>\r\n     </g>\r\n    </g>\r\n    <g id=\"xtick_5\">\r\n     <g id=\"line2d_5\">\r\n      <g>\r\n       <use style=\"stroke:#000000;stroke-width:0.8;\" x=\"215.36125\" xlink:href=\"#m5e460fb3eb\" y=\"195.468125\"/>\r\n      </g>\r\n     </g>\r\n     <g id=\"text_5\">\r\n      <!-- avg -->\r\n      <g transform=\"translate(218.120625 220.863438)rotate(-90)scale(0.1 -0.1)\">\r\n       <use xlink:href=\"#DejaVuSans-97\"/>\r\n       <use x=\"61.279297\" xlink:href=\"#DejaVuSans-118\"/>\r\n       <use x=\"120.458984\" xlink:href=\"#DejaVuSans-103\"/>\r\n      </g>\r\n     </g>\r\n    </g>\r\n    <g id=\"xtick_6\">\r\n     <g id=\"line2d_6\">\r\n      <g>\r\n       <use style=\"stroke:#000000;stroke-width:0.8;\" x=\"252.07625\" xlink:href=\"#m5e460fb3eb\" y=\"195.468125\"/>\r\n      </g>\r\n     </g>\r\n     <g id=\"text_6\">\r\n      <!-- gain -->\r\n      <g transform=\"translate(254.835625 224.060313)rotate(-90)scale(0.1 -0.1)\">\r\n       <use xlink:href=\"#DejaVuSans-103\"/>\r\n       <use x=\"63.476562\" xlink:href=\"#DejaVuSans-97\"/>\r\n       <use x=\"124.755859\" xlink:href=\"#DejaVuSans-105\"/>\r\n       <use x=\"152.539062\" xlink:href=\"#DejaVuSans-110\"/>\r\n      </g>\r\n     </g>\r\n    </g>\r\n    <g id=\"xtick_7\">\r\n     <g id=\"line2d_7\">\r\n      <g>\r\n       <use style=\"stroke:#000000;stroke-width:0.8;\" x=\"288.79125\" xlink:href=\"#m5e460fb3eb\" y=\"195.468125\"/>\r\n      </g>\r\n     </g>\r\n     <g id=\"text_7\">\r\n      <!-- windows -->\r\n      <g transform=\"translate(291.550625 245.616563)rotate(-90)scale(0.1 -0.1)\">\r\n       <use xlink:href=\"#DejaVuSans-119\"/>\r\n       <use x=\"81.787109\" xlink:href=\"#DejaVuSans-105\"/>\r\n       <use x=\"109.570312\" xlink:href=\"#DejaVuSans-110\"/>\r\n       <use x=\"172.949219\" xlink:href=\"#DejaVuSans-100\"/>\r\n       <use x=\"236.425781\" xlink:href=\"#DejaVuSans-111\"/>\r\n       <use x=\"297.607422\" xlink:href=\"#DejaVuSans-119\"/>\r\n       <use x=\"379.394531\" xlink:href=\"#DejaVuSans-115\"/>\r\n      </g>\r\n     </g>\r\n    </g>\r\n    <g id=\"xtick_8\">\r\n     <g id=\"line2d_8\">\r\n      <g>\r\n       <use style=\"stroke:#000000;stroke-width:0.8;\" x=\"325.50625\" xlink:href=\"#m5e460fb3eb\" y=\"195.468125\"/>\r\n      </g>\r\n     </g>\r\n     <g id=\"text_8\">\r\n      <!-- mac -->\r\n      <g transform=\"translate(328.265625 223.835313)rotate(-90)scale(0.1 -0.1)\">\r\n       <use xlink:href=\"#DejaVuSans-109\"/>\r\n       <use x=\"97.412109\" xlink:href=\"#DejaVuSans-97\"/>\r\n       <use x=\"158.691406\" xlink:href=\"#DejaVuSans-99\"/>\r\n      </g>\r\n     </g>\r\n    </g>\r\n    <g id=\"xtick_9\">\r\n     <g id=\"line2d_9\">\r\n      <g>\r\n       <use style=\"stroke:#000000;stroke-width:0.8;\" x=\"362.22125\" xlink:href=\"#m5e460fb3eb\" y=\"195.468125\"/>\r\n      </g>\r\n     </g>\r\n     <g id=\"text_9\">\r\n      <!-- linux -->\r\n      <g transform=\"translate(364.980625 226.618125)rotate(-90)scale(0.1 -0.1)\">\r\n       <defs>\r\n        <path d=\"M 54.890625 54.6875 \r\nL 35.109375 28.078125 \r\nL 55.90625 0 \r\nL 45.3125 0 \r\nL 29.390625 21.484375 \r\nL 13.484375 0 \r\nL 2.875 0 \r\nL 24.125 28.609375 \r\nL 4.6875 54.6875 \r\nL 15.28125 54.6875 \r\nL 29.78125 35.203125 \r\nL 44.28125 54.6875 \r\nz\r\n\" id=\"DejaVuSans-120\"/>\r\n       </defs>\r\n       <use xlink:href=\"#DejaVuSans-108\"/>\r\n       <use x=\"27.783203\" xlink:href=\"#DejaVuSans-105\"/>\r\n       <use x=\"55.566406\" xlink:href=\"#DejaVuSans-110\"/>\r\n       <use x=\"118.945312\" xlink:href=\"#DejaVuSans-117\"/>\r\n       <use x=\"182.324219\" xlink:href=\"#DejaVuSans-120\"/>\r\n      </g>\r\n     </g>\r\n    </g>\r\n    <g id=\"xtick_10\">\r\n     <g id=\"line2d_10\">\r\n      <g>\r\n       <use style=\"stroke:#000000;stroke-width:0.8;\" x=\"398.93625\" xlink:href=\"#m5e460fb3eb\" y=\"195.468125\"/>\r\n      </g>\r\n     </g>\r\n     <g id=\"text_10\">\r\n      <!-- big_publisher -->\r\n      <g transform=\"translate(401.556562 269.344688)rotate(-90)scale(0.1 -0.1)\">\r\n       <defs>\r\n        <path d=\"M 48.6875 27.296875 \r\nQ 48.6875 37.203125 44.609375 42.84375 \r\nQ 40.53125 48.484375 33.40625 48.484375 \r\nQ 26.265625 48.484375 22.1875 42.84375 \r\nQ 18.109375 37.203125 18.109375 27.296875 \r\nQ 18.109375 17.390625 22.1875 11.75 \r\nQ 26.265625 6.109375 33.40625 6.109375 \r\nQ 40.53125 6.109375 44.609375 11.75 \r\nQ 48.6875 17.390625 48.6875 27.296875 \r\nz\r\nM 18.109375 46.390625 \r\nQ 20.953125 51.265625 25.265625 53.625 \r\nQ 29.59375 56 35.59375 56 \r\nQ 45.5625 56 51.78125 48.09375 \r\nQ 58.015625 40.1875 58.015625 27.296875 \r\nQ 58.015625 14.40625 51.78125 6.484375 \r\nQ 45.5625 -1.421875 35.59375 -1.421875 \r\nQ 29.59375 -1.421875 25.265625 0.953125 \r\nQ 20.953125 3.328125 18.109375 8.203125 \r\nL 18.109375 0 \r\nL 9.078125 0 \r\nL 9.078125 75.984375 \r\nL 18.109375 75.984375 \r\nz\r\n\" id=\"DejaVuSans-98\"/>\r\n       </defs>\r\n       <use xlink:href=\"#DejaVuSans-98\"/>\r\n       <use x=\"63.476562\" xlink:href=\"#DejaVuSans-105\"/>\r\n       <use x=\"91.259766\" xlink:href=\"#DejaVuSans-103\"/>\r\n       <use x=\"154.736328\" xlink:href=\"#DejaVuSans-95\"/>\r\n       <use x=\"204.736328\" xlink:href=\"#DejaVuSans-112\"/>\r\n       <use x=\"268.212891\" xlink:href=\"#DejaVuSans-117\"/>\r\n       <use x=\"331.591797\" xlink:href=\"#DejaVuSans-98\"/>\r\n       <use x=\"395.068359\" xlink:href=\"#DejaVuSans-108\"/>\r\n       <use x=\"422.851562\" xlink:href=\"#DejaVuSans-105\"/>\r\n       <use x=\"450.634766\" xlink:href=\"#DejaVuSans-115\"/>\r\n       <use x=\"502.734375\" xlink:href=\"#DejaVuSans-104\"/>\r\n       <use x=\"566.113281\" xlink:href=\"#DejaVuSans-101\"/>\r\n       <use x=\"627.636719\" xlink:href=\"#DejaVuSans-114\"/>\r\n      </g>\r\n     </g>\r\n    </g>\r\n   </g>\r\n   <g id=\"matplotlib.axis_2\">\r\n    <g id=\"ytick_1\">\r\n     <g id=\"line2d_11\">\r\n      <defs>\r\n       <path d=\"M 0 0 \r\nL -3.5 0 \r\n\" id=\"m2bab8b7be7\" style=\"stroke:#000000;stroke-width:0.8;\"/>\r\n      </defs>\r\n      <g>\r\n       <use style=\"stroke:#000000;stroke-width:0.8;\" x=\"50.14375\" xlink:href=\"#m2bab8b7be7\" y=\"195.468125\"/>\r\n      </g>\r\n     </g>\r\n     <g id=\"text_11\">\r\n      <!-- 0.00 -->\r\n      <g transform=\"translate(20.878125 199.267344)scale(0.1 -0.1)\">\r\n       <defs>\r\n        <path d=\"M 31.78125 66.40625 \r\nQ 24.171875 66.40625 20.328125 58.90625 \r\nQ 16.5 51.421875 16.5 36.375 \r\nQ 16.5 21.390625 20.328125 13.890625 \r\nQ 24.171875 6.390625 31.78125 6.390625 \r\nQ 39.453125 6.390625 43.28125 13.890625 \r\nQ 47.125 21.390625 47.125 36.375 \r\nQ 47.125 51.421875 43.28125 58.90625 \r\nQ 39.453125 66.40625 31.78125 66.40625 \r\nz\r\nM 31.78125 74.21875 \r\nQ 44.046875 74.21875 50.515625 64.515625 \r\nQ 56.984375 54.828125 56.984375 36.375 \r\nQ 56.984375 17.96875 50.515625 8.265625 \r\nQ 44.046875 -1.421875 31.78125 -1.421875 \r\nQ 19.53125 -1.421875 13.0625 8.265625 \r\nQ 6.59375 17.96875 6.59375 36.375 \r\nQ 6.59375 54.828125 13.0625 64.515625 \r\nQ 19.53125 74.21875 31.78125 74.21875 \r\nz\r\n\" id=\"DejaVuSans-48\"/>\r\n        <path d=\"M 10.6875 12.40625 \r\nL 21 12.40625 \r\nL 21 0 \r\nL 10.6875 0 \r\nz\r\n\" id=\"DejaVuSans-46\"/>\r\n       </defs>\r\n       <use xlink:href=\"#DejaVuSans-48\"/>\r\n       <use x=\"63.623047\" xlink:href=\"#DejaVuSans-46\"/>\r\n       <use x=\"95.410156\" xlink:href=\"#DejaVuSans-48\"/>\r\n       <use x=\"159.033203\" xlink:href=\"#DejaVuSans-48\"/>\r\n      </g>\r\n     </g>\r\n    </g>\r\n    <g id=\"ytick_2\">\r\n     <g id=\"line2d_12\">\r\n      <g>\r\n       <use style=\"stroke:#000000;stroke-width:0.8;\" x=\"50.14375\" xlink:href=\"#m2bab8b7be7\" y=\"168.578489\"/>\r\n      </g>\r\n     </g>\r\n     <g id=\"text_12\">\r\n      <!-- 0.05 -->\r\n      <g transform=\"translate(20.878125 172.377708)scale(0.1 -0.1)\">\r\n       <defs>\r\n        <path d=\"M 10.796875 72.90625 \r\nL 49.515625 72.90625 \r\nL 49.515625 64.59375 \r\nL 19.828125 64.59375 \r\nL 19.828125 46.734375 \r\nQ 21.96875 47.46875 24.109375 47.828125 \r\nQ 26.265625 48.1875 28.421875 48.1875 \r\nQ 40.625 48.1875 47.75 41.5 \r\nQ 54.890625 34.8125 54.890625 23.390625 \r\nQ 54.890625 11.625 47.5625 5.09375 \r\nQ 40.234375 -1.421875 26.90625 -1.421875 \r\nQ 22.3125 -1.421875 17.546875 -0.640625 \r\nQ 12.796875 0.140625 7.71875 1.703125 \r\nL 7.71875 11.625 \r\nQ 12.109375 9.234375 16.796875 8.0625 \r\nQ 21.484375 6.890625 26.703125 6.890625 \r\nQ 35.15625 6.890625 40.078125 11.328125 \r\nQ 45.015625 15.765625 45.015625 23.390625 \r\nQ 45.015625 31 40.078125 35.4375 \r\nQ 35.15625 39.890625 26.703125 39.890625 \r\nQ 22.75 39.890625 18.8125 39.015625 \r\nQ 14.890625 38.140625 10.796875 36.28125 \r\nz\r\n\" id=\"DejaVuSans-53\"/>\r\n       </defs>\r\n       <use xlink:href=\"#DejaVuSans-48\"/>\r\n       <use x=\"63.623047\" xlink:href=\"#DejaVuSans-46\"/>\r\n       <use x=\"95.410156\" xlink:href=\"#DejaVuSans-48\"/>\r\n       <use x=\"159.033203\" xlink:href=\"#DejaVuSans-53\"/>\r\n      </g>\r\n     </g>\r\n    </g>\r\n    <g id=\"ytick_3\">\r\n     <g id=\"line2d_13\">\r\n      <g>\r\n       <use style=\"stroke:#000000;stroke-width:0.8;\" x=\"50.14375\" xlink:href=\"#m2bab8b7be7\" y=\"141.688853\"/>\r\n      </g>\r\n     </g>\r\n     <g id=\"text_13\">\r\n      <!-- 0.10 -->\r\n      <g transform=\"translate(20.878125 145.488071)scale(0.1 -0.1)\">\r\n       <defs>\r\n        <path d=\"M 12.40625 8.296875 \r\nL 28.515625 8.296875 \r\nL 28.515625 63.921875 \r\nL 10.984375 60.40625 \r\nL 10.984375 69.390625 \r\nL 28.421875 72.90625 \r\nL 38.28125 72.90625 \r\nL 38.28125 8.296875 \r\nL 54.390625 8.296875 \r\nL 54.390625 0 \r\nL 12.40625 0 \r\nz\r\n\" id=\"DejaVuSans-49\"/>\r\n       </defs>\r\n       <use xlink:href=\"#DejaVuSans-48\"/>\r\n       <use x=\"63.623047\" xlink:href=\"#DejaVuSans-46\"/>\r\n       <use x=\"95.410156\" xlink:href=\"#DejaVuSans-49\"/>\r\n       <use x=\"159.033203\" xlink:href=\"#DejaVuSans-48\"/>\r\n      </g>\r\n     </g>\r\n    </g>\r\n    <g id=\"ytick_4\">\r\n     <g id=\"line2d_14\">\r\n      <g>\r\n       <use style=\"stroke:#000000;stroke-width:0.8;\" x=\"50.14375\" xlink:href=\"#m2bab8b7be7\" y=\"114.799216\"/>\r\n      </g>\r\n     </g>\r\n     <g id=\"text_14\">\r\n      <!-- 0.15 -->\r\n      <g transform=\"translate(20.878125 118.598435)scale(0.1 -0.1)\">\r\n       <use xlink:href=\"#DejaVuSans-48\"/>\r\n       <use x=\"63.623047\" xlink:href=\"#DejaVuSans-46\"/>\r\n       <use x=\"95.410156\" xlink:href=\"#DejaVuSans-49\"/>\r\n       <use x=\"159.033203\" xlink:href=\"#DejaVuSans-53\"/>\r\n      </g>\r\n     </g>\r\n    </g>\r\n    <g id=\"ytick_5\">\r\n     <g id=\"line2d_15\">\r\n      <g>\r\n       <use style=\"stroke:#000000;stroke-width:0.8;\" x=\"50.14375\" xlink:href=\"#m2bab8b7be7\" y=\"87.90958\"/>\r\n      </g>\r\n     </g>\r\n     <g id=\"text_15\">\r\n      <!-- 0.20 -->\r\n      <g transform=\"translate(20.878125 91.708799)scale(0.1 -0.1)\">\r\n       <defs>\r\n        <path d=\"M 19.1875 8.296875 \r\nL 53.609375 8.296875 \r\nL 53.609375 0 \r\nL 7.328125 0 \r\nL 7.328125 8.296875 \r\nQ 12.9375 14.109375 22.625 23.890625 \r\nQ 32.328125 33.6875 34.8125 36.53125 \r\nQ 39.546875 41.84375 41.421875 45.53125 \r\nQ 43.3125 49.21875 43.3125 52.78125 \r\nQ 43.3125 58.59375 39.234375 62.25 \r\nQ 35.15625 65.921875 28.609375 65.921875 \r\nQ 23.96875 65.921875 18.8125 64.3125 \r\nQ 13.671875 62.703125 7.8125 59.421875 \r\nL 7.8125 69.390625 \r\nQ 13.765625 71.78125 18.9375 73 \r\nQ 24.125 74.21875 28.421875 74.21875 \r\nQ 39.75 74.21875 46.484375 68.546875 \r\nQ 53.21875 62.890625 53.21875 53.421875 \r\nQ 53.21875 48.921875 51.53125 44.890625 \r\nQ 49.859375 40.875 45.40625 35.40625 \r\nQ 44.1875 33.984375 37.640625 27.21875 \r\nQ 31.109375 20.453125 19.1875 8.296875 \r\nz\r\n\" id=\"DejaVuSans-50\"/>\r\n       </defs>\r\n       <use xlink:href=\"#DejaVuSans-48\"/>\r\n       <use x=\"63.623047\" xlink:href=\"#DejaVuSans-46\"/>\r\n       <use x=\"95.410156\" xlink:href=\"#DejaVuSans-50\"/>\r\n       <use x=\"159.033203\" xlink:href=\"#DejaVuSans-48\"/>\r\n      </g>\r\n     </g>\r\n    </g>\r\n    <g id=\"ytick_6\">\r\n     <g id=\"line2d_16\">\r\n      <g>\r\n       <use style=\"stroke:#000000;stroke-width:0.8;\" x=\"50.14375\" xlink:href=\"#m2bab8b7be7\" y=\"61.019944\"/>\r\n      </g>\r\n     </g>\r\n     <g id=\"text_16\">\r\n      <!-- 0.25 -->\r\n      <g transform=\"translate(20.878125 64.819163)scale(0.1 -0.1)\">\r\n       <use xlink:href=\"#DejaVuSans-48\"/>\r\n       <use x=\"63.623047\" xlink:href=\"#DejaVuSans-46\"/>\r\n       <use x=\"95.410156\" xlink:href=\"#DejaVuSans-50\"/>\r\n       <use x=\"159.033203\" xlink:href=\"#DejaVuSans-53\"/>\r\n      </g>\r\n     </g>\r\n    </g>\r\n    <g id=\"ytick_7\">\r\n     <g id=\"line2d_17\">\r\n      <g>\r\n       <use style=\"stroke:#000000;stroke-width:0.8;\" x=\"50.14375\" xlink:href=\"#m2bab8b7be7\" y=\"34.130308\"/>\r\n      </g>\r\n     </g>\r\n     <g id=\"text_17\">\r\n      <!-- 0.30 -->\r\n      <g transform=\"translate(20.878125 37.929527)scale(0.1 -0.1)\">\r\n       <defs>\r\n        <path d=\"M 40.578125 39.3125 \r\nQ 47.65625 37.796875 51.625 33 \r\nQ 55.609375 28.21875 55.609375 21.1875 \r\nQ 55.609375 10.40625 48.1875 4.484375 \r\nQ 40.765625 -1.421875 27.09375 -1.421875 \r\nQ 22.515625 -1.421875 17.65625 -0.515625 \r\nQ 12.796875 0.390625 7.625 2.203125 \r\nL 7.625 11.71875 \r\nQ 11.71875 9.328125 16.59375 8.109375 \r\nQ 21.484375 6.890625 26.8125 6.890625 \r\nQ 36.078125 6.890625 40.9375 10.546875 \r\nQ 45.796875 14.203125 45.796875 21.1875 \r\nQ 45.796875 27.640625 41.28125 31.265625 \r\nQ 36.765625 34.90625 28.71875 34.90625 \r\nL 20.21875 34.90625 \r\nL 20.21875 43.015625 \r\nL 29.109375 43.015625 \r\nQ 36.375 43.015625 40.234375 45.921875 \r\nQ 44.09375 48.828125 44.09375 54.296875 \r\nQ 44.09375 59.90625 40.109375 62.90625 \r\nQ 36.140625 65.921875 28.71875 65.921875 \r\nQ 24.65625 65.921875 20.015625 65.03125 \r\nQ 15.375 64.15625 9.8125 62.3125 \r\nL 9.8125 71.09375 \r\nQ 15.4375 72.65625 20.34375 73.4375 \r\nQ 25.25 74.21875 29.59375 74.21875 \r\nQ 40.828125 74.21875 47.359375 69.109375 \r\nQ 53.90625 64.015625 53.90625 55.328125 \r\nQ 53.90625 49.265625 50.4375 45.09375 \r\nQ 46.96875 40.921875 40.578125 39.3125 \r\nz\r\n\" id=\"DejaVuSans-51\"/>\r\n       </defs>\r\n       <use xlink:href=\"#DejaVuSans-48\"/>\r\n       <use x=\"63.623047\" xlink:href=\"#DejaVuSans-46\"/>\r\n       <use x=\"95.410156\" xlink:href=\"#DejaVuSans-51\"/>\r\n       <use x=\"159.033203\" xlink:href=\"#DejaVuSans-48\"/>\r\n      </g>\r\n     </g>\r\n    </g>\r\n    <g id=\"text_18\">\r\n     <!-- Mean decrease in impurity -->\r\n     <g transform=\"translate(14.798438 175.572813)rotate(-90)scale(0.1 -0.1)\">\r\n      <defs>\r\n       <path d=\"M 9.8125 72.90625 \r\nL 24.515625 72.90625 \r\nL 43.109375 23.296875 \r\nL 61.8125 72.90625 \r\nL 76.515625 72.90625 \r\nL 76.515625 0 \r\nL 66.890625 0 \r\nL 66.890625 64.015625 \r\nL 48.09375 14.015625 \r\nL 38.1875 14.015625 \r\nL 19.390625 64.015625 \r\nL 19.390625 0 \r\nL 9.8125 0 \r\nz\r\n\" id=\"DejaVuSans-77\"/>\r\n       <path id=\"DejaVuSans-32\"/>\r\n       <path d=\"M 32.171875 -5.078125 \r\nQ 28.375 -14.84375 24.75 -17.8125 \r\nQ 21.140625 -20.796875 15.09375 -20.796875 \r\nL 7.90625 -20.796875 \r\nL 7.90625 -13.28125 \r\nL 13.1875 -13.28125 \r\nQ 16.890625 -13.28125 18.9375 -11.515625 \r\nQ 21 -9.765625 23.484375 -3.21875 \r\nL 25.09375 0.875 \r\nL 2.984375 54.6875 \r\nL 12.5 54.6875 \r\nL 29.59375 11.921875 \r\nL 46.6875 54.6875 \r\nL 56.203125 54.6875 \r\nz\r\n\" id=\"DejaVuSans-121\"/>\r\n      </defs>\r\n      <use xlink:href=\"#DejaVuSans-77\"/>\r\n      <use x=\"86.279297\" xlink:href=\"#DejaVuSans-101\"/>\r\n      <use x=\"147.802734\" xlink:href=\"#DejaVuSans-97\"/>\r\n      <use x=\"209.082031\" xlink:href=\"#DejaVuSans-110\"/>\r\n      <use x=\"272.460938\" xlink:href=\"#DejaVuSans-32\"/>\r\n      <use x=\"304.248047\" xlink:href=\"#DejaVuSans-100\"/>\r\n      <use x=\"367.724609\" xlink:href=\"#DejaVuSans-101\"/>\r\n      <use x=\"429.248047\" xlink:href=\"#DejaVuSans-99\"/>\r\n      <use x=\"484.228516\" xlink:href=\"#DejaVuSans-114\"/>\r\n      <use x=\"523.091797\" xlink:href=\"#DejaVuSans-101\"/>\r\n      <use x=\"584.615234\" xlink:href=\"#DejaVuSans-97\"/>\r\n      <use x=\"645.894531\" xlink:href=\"#DejaVuSans-115\"/>\r\n      <use x=\"697.994141\" xlink:href=\"#DejaVuSans-101\"/>\r\n      <use x=\"759.517578\" xlink:href=\"#DejaVuSans-32\"/>\r\n      <use x=\"791.304688\" xlink:href=\"#DejaVuSans-105\"/>\r\n      <use x=\"819.087891\" xlink:href=\"#DejaVuSans-110\"/>\r\n      <use x=\"882.466797\" xlink:href=\"#DejaVuSans-32\"/>\r\n      <use x=\"914.253906\" xlink:href=\"#DejaVuSans-105\"/>\r\n      <use x=\"942.037109\" xlink:href=\"#DejaVuSans-109\"/>\r\n      <use x=\"1039.449219\" xlink:href=\"#DejaVuSans-112\"/>\r\n      <use x=\"1102.925781\" xlink:href=\"#DejaVuSans-117\"/>\r\n      <use x=\"1166.304688\" xlink:href=\"#DejaVuSans-114\"/>\r\n      <use x=\"1207.417969\" xlink:href=\"#DejaVuSans-105\"/>\r\n      <use x=\"1235.201172\" xlink:href=\"#DejaVuSans-116\"/>\r\n      <use x=\"1274.410156\" xlink:href=\"#DejaVuSans-121\"/>\r\n     </g>\r\n    </g>\r\n   </g>\r\n   <g id=\"LineCollection_1\">\r\n    <path clip-path=\"url(#p623e94e34f)\" d=\"M 68.50125 106.546869 \r\nL 68.50125 71.93212 \r\n\" style=\"fill:none;stroke:#000000;stroke-width:1.5;\"/>\r\n    <path clip-path=\"url(#p623e94e34f)\" d=\"M 105.21625 121.456739 \r\nL 105.21625 97.910172 \r\n\" style=\"fill:none;stroke:#000000;stroke-width:1.5;\"/>\r\n    <path clip-path=\"url(#p623e94e34f)\" d=\"M 141.93125 195.468125 \r\nL 141.93125 195.468125 \r\n\" style=\"fill:none;stroke:#000000;stroke-width:1.5;\"/>\r\n    <path clip-path=\"url(#p623e94e34f)\" d=\"M 178.64625 130.645112 \r\nL 178.64625 94.522492 \r\n\" style=\"fill:none;stroke:#000000;stroke-width:1.5;\"/>\r\n    <path clip-path=\"url(#p623e94e34f)\" d=\"M 215.36125 70.987824 \r\nL 215.36125 30.563363 \r\n\" style=\"fill:none;stroke:#000000;stroke-width:1.5;\"/>\r\n    <path clip-path=\"url(#p623e94e34f)\" d=\"M 252.07625 123.209235 \r\nL 252.07625 94.251614 \r\n\" style=\"fill:none;stroke:#000000;stroke-width:1.5;\"/>\r\n    <path clip-path=\"url(#p623e94e34f)\" d=\"M 288.79125 195.468125 \r\nL 288.79125 195.468125 \r\n\" style=\"fill:none;stroke:#000000;stroke-width:1.5;\"/>\r\n    <path clip-path=\"url(#p623e94e34f)\" d=\"M 325.50625 192.529039 \r\nL 325.50625 181.370239 \r\n\" style=\"fill:none;stroke:#000000;stroke-width:1.5;\"/>\r\n    <path clip-path=\"url(#p623e94e34f)\" d=\"M 362.22125 192.179071 \r\nL 362.22125 183.12895 \r\n\" style=\"fill:none;stroke:#000000;stroke-width:1.5;\"/>\r\n    <path clip-path=\"url(#p623e94e34f)\" d=\"M 398.93625 187.619144 \r\nL 398.93625 173.052569 \r\n\" style=\"fill:none;stroke:#000000;stroke-width:1.5;\"/>\r\n   </g>\r\n   <g id=\"patch_13\">\r\n    <path d=\"M 50.14375 195.468125 \r\nL 50.14375 22.318125 \r\n\" style=\"fill:none;stroke:#000000;stroke-linecap:square;stroke-linejoin:miter;stroke-width:0.8;\"/>\r\n   </g>\r\n   <g id=\"patch_14\">\r\n    <path d=\"M 417.29375 195.468125 \r\nL 417.29375 22.318125 \r\n\" style=\"fill:none;stroke:#000000;stroke-linecap:square;stroke-linejoin:miter;stroke-width:0.8;\"/>\r\n   </g>\r\n   <g id=\"patch_15\">\r\n    <path d=\"M 50.14375 195.468125 \r\nL 417.29375 195.468125 \r\n\" style=\"fill:none;stroke:#000000;stroke-linecap:square;stroke-linejoin:miter;stroke-width:0.8;\"/>\r\n   </g>\r\n   <g id=\"patch_16\">\r\n    <path d=\"M 50.14375 22.318125 \r\nL 417.29375 22.318125 \r\n\" style=\"fill:none;stroke:#000000;stroke-linecap:square;stroke-linejoin:miter;stroke-width:0.8;\"/>\r\n   </g>\r\n   <g id=\"text_19\">\r\n    <!-- Feature importances using MDI -->\r\n    <g transform=\"translate(140.150625 16.318125)scale(0.12 -0.12)\">\r\n     <defs>\r\n      <path d=\"M 9.8125 72.90625 \r\nL 51.703125 72.90625 \r\nL 51.703125 64.59375 \r\nL 19.671875 64.59375 \r\nL 19.671875 43.109375 \r\nL 48.578125 43.109375 \r\nL 48.578125 34.8125 \r\nL 19.671875 34.8125 \r\nL 19.671875 0 \r\nL 9.8125 0 \r\nz\r\n\" id=\"DejaVuSans-70\"/>\r\n      <path d=\"M 19.671875 64.796875 \r\nL 19.671875 8.109375 \r\nL 31.59375 8.109375 \r\nQ 46.6875 8.109375 53.6875 14.9375 \r\nQ 60.6875 21.78125 60.6875 36.53125 \r\nQ 60.6875 51.171875 53.6875 57.984375 \r\nQ 46.6875 64.796875 31.59375 64.796875 \r\nz\r\nM 9.8125 72.90625 \r\nL 30.078125 72.90625 \r\nQ 51.265625 72.90625 61.171875 64.09375 \r\nQ 71.09375 55.28125 71.09375 36.53125 \r\nQ 71.09375 17.671875 61.125 8.828125 \r\nQ 51.171875 0 30.078125 0 \r\nL 9.8125 0 \r\nz\r\n\" id=\"DejaVuSans-68\"/>\r\n      <path d=\"M 9.8125 72.90625 \r\nL 19.671875 72.90625 \r\nL 19.671875 0 \r\nL 9.8125 0 \r\nz\r\n\" id=\"DejaVuSans-73\"/>\r\n     </defs>\r\n     <use xlink:href=\"#DejaVuSans-70\"/>\r\n     <use x=\"52.019531\" xlink:href=\"#DejaVuSans-101\"/>\r\n     <use x=\"113.542969\" xlink:href=\"#DejaVuSans-97\"/>\r\n     <use x=\"174.822266\" xlink:href=\"#DejaVuSans-116\"/>\r\n     <use x=\"214.03125\" xlink:href=\"#DejaVuSans-117\"/>\r\n     <use x=\"277.410156\" xlink:href=\"#DejaVuSans-114\"/>\r\n     <use x=\"316.273438\" xlink:href=\"#DejaVuSans-101\"/>\r\n     <use x=\"377.796875\" xlink:href=\"#DejaVuSans-32\"/>\r\n     <use x=\"409.583984\" xlink:href=\"#DejaVuSans-105\"/>\r\n     <use x=\"437.367188\" xlink:href=\"#DejaVuSans-109\"/>\r\n     <use x=\"534.779297\" xlink:href=\"#DejaVuSans-112\"/>\r\n     <use x=\"598.255859\" xlink:href=\"#DejaVuSans-111\"/>\r\n     <use x=\"659.4375\" xlink:href=\"#DejaVuSans-114\"/>\r\n     <use x=\"700.550781\" xlink:href=\"#DejaVuSans-116\"/>\r\n     <use x=\"739.759766\" xlink:href=\"#DejaVuSans-97\"/>\r\n     <use x=\"801.039062\" xlink:href=\"#DejaVuSans-110\"/>\r\n     <use x=\"864.417969\" xlink:href=\"#DejaVuSans-99\"/>\r\n     <use x=\"919.398438\" xlink:href=\"#DejaVuSans-101\"/>\r\n     <use x=\"980.921875\" xlink:href=\"#DejaVuSans-115\"/>\r\n     <use x=\"1033.021484\" xlink:href=\"#DejaVuSans-32\"/>\r\n     <use x=\"1064.808594\" xlink:href=\"#DejaVuSans-117\"/>\r\n     <use x=\"1128.1875\" xlink:href=\"#DejaVuSans-115\"/>\r\n     <use x=\"1180.287109\" xlink:href=\"#DejaVuSans-105\"/>\r\n     <use x=\"1208.070312\" xlink:href=\"#DejaVuSans-110\"/>\r\n     <use x=\"1271.449219\" xlink:href=\"#DejaVuSans-103\"/>\r\n     <use x=\"1334.925781\" xlink:href=\"#DejaVuSans-32\"/>\r\n     <use x=\"1366.712891\" xlink:href=\"#DejaVuSans-77\"/>\r\n     <use x=\"1452.992188\" xlink:href=\"#DejaVuSans-68\"/>\r\n     <use x=\"1529.994141\" xlink:href=\"#DejaVuSans-73\"/>\r\n    </g>\r\n   </g>\r\n  </g>\r\n </g>\r\n <defs>\r\n  <clipPath id=\"p623e94e34f\">\r\n   <rect height=\"173.15\" width=\"367.15\" x=\"50.14375\" y=\"22.318125\"/>\r\n  </clipPath>\r\n </defs>\r\n</svg>\r\n",
      "image/png": "[encoded data removed]"
     },
     "metadata": {
      "needs_background": "light"
     }
    }
   ],
   "source": [
    "import pandas as pd\n",
    "import matplotlib.pyplot as plt\n",
    "\n",
    "feature_names = X_train.columns\n",
    "\n",
    "forest_importances = pd.Series(importances, index=feature_names)\n",
    "\n",
    "fig, ax = plt.subplots()\n",
    "forest_importances.plot.bar(yerr=std, ax=ax)\n",
    "ax.set_title(\"Feature importances using MDI\")\n",
    "ax.set_ylabel(\"Mean decrease in impurity\")\n",
    "fig.tight_layout()"
   ]
  },
  {
   "cell_type": "code",
   "execution_count": 22,
   "metadata": {
    "tags": []
   },
   "outputs": [
    {
     "output_type": "stream",
     "name": "stdout",
     "text": [
      "Epoch 1/100\n",
      "67/67 [==============================] - 0s 2ms/step - loss: 0.5929 - accuracy: 0.7589\n",
      "Epoch 2/100\n",
      "67/67 [==============================] - 0s 2ms/step - loss: 0.5426 - accuracy: 0.7815\n",
      "Epoch 3/100\n",
      "67/67 [==============================] - 0s 2ms/step - loss: 0.5294 - accuracy: 0.7834\n",
      "Epoch 4/100\n",
      "67/67 [==============================] - 0s 2ms/step - loss: 0.5219 - accuracy: 0.7839\n",
      "Epoch 5/100\n",
      "67/67 [==============================] - 0s 2ms/step - loss: 0.5172 - accuracy: 0.7839\n",
      "Epoch 6/100\n",
      "67/67 [==============================] - 0s 2ms/step - loss: 0.5163 - accuracy: 0.7839\n",
      "Epoch 7/100\n",
      "67/67 [==============================] - 0s 2ms/step - loss: 0.5126 - accuracy: 0.7834\n",
      "Epoch 8/100\n",
      "67/67 [==============================] - 0s 2ms/step - loss: 0.5105 - accuracy: 0.7839\n",
      "Epoch 9/100\n",
      "67/67 [==============================] - 0s 2ms/step - loss: 0.5081 - accuracy: 0.7839\n",
      "Epoch 10/100\n",
      "67/67 [==============================] - 0s 2ms/step - loss: 0.5072 - accuracy: 0.7844\n",
      "Epoch 11/100\n",
      "67/67 [==============================] - 0s 2ms/step - loss: 0.5051 - accuracy: 0.7844\n",
      "Epoch 12/100\n",
      "67/67 [==============================] - 0s 2ms/step - loss: 0.5039 - accuracy: 0.7848\n",
      "Epoch 13/100\n",
      "67/67 [==============================] - 0s 2ms/step - loss: 0.5025 - accuracy: 0.7844\n",
      "Epoch 14/100\n",
      "67/67 [==============================] - 0s 2ms/step - loss: 0.5012 - accuracy: 0.7853\n",
      "Epoch 15/100\n",
      "67/67 [==============================] - 0s 2ms/step - loss: 0.4994 - accuracy: 0.7844\n",
      "Epoch 16/100\n",
      "67/67 [==============================] - 0s 2ms/step - loss: 0.4987 - accuracy: 0.7853\n",
      "Epoch 17/100\n",
      "67/67 [==============================] - 0s 2ms/step - loss: 0.4983 - accuracy: 0.7858\n",
      "Epoch 18/100\n",
      "67/67 [==============================] - 0s 2ms/step - loss: 0.4967 - accuracy: 0.7853\n",
      "Epoch 19/100\n",
      "67/67 [==============================] - 0s 2ms/step - loss: 0.4956 - accuracy: 0.7858\n",
      "Epoch 20/100\n",
      "67/67 [==============================] - 0s 2ms/step - loss: 0.4943 - accuracy: 0.7853\n",
      "Epoch 21/100\n",
      "67/67 [==============================] - 0s 2ms/step - loss: 0.4937 - accuracy: 0.7858\n",
      "Epoch 22/100\n",
      "67/67 [==============================] - 0s 2ms/step - loss: 0.4930 - accuracy: 0.7877\n",
      "Epoch 23/100\n",
      "67/67 [==============================] - 0s 2ms/step - loss: 0.4919 - accuracy: 0.7867\n",
      "Epoch 24/100\n",
      "67/67 [==============================] - 0s 2ms/step - loss: 0.4908 - accuracy: 0.7853\n",
      "Epoch 25/100\n",
      "67/67 [==============================] - 0s 2ms/step - loss: 0.4914 - accuracy: 0.7867\n",
      "Epoch 26/100\n",
      "67/67 [==============================] - 0s 2ms/step - loss: 0.4894 - accuracy: 0.7872\n",
      "Epoch 27/100\n",
      "67/67 [==============================] - 0s 2ms/step - loss: 0.4886 - accuracy: 0.7872\n",
      "Epoch 28/100\n",
      "67/67 [==============================] - 0s 2ms/step - loss: 0.4889 - accuracy: 0.7858\n",
      "Epoch 29/100\n",
      "67/67 [==============================] - 0s 2ms/step - loss: 0.4867 - accuracy: 0.7872\n",
      "Epoch 30/100\n",
      "67/67 [==============================] - 0s 2ms/step - loss: 0.4863 - accuracy: 0.7863\n",
      "Epoch 31/100\n",
      "67/67 [==============================] - 0s 2ms/step - loss: 0.4862 - accuracy: 0.7853\n",
      "Epoch 32/100\n",
      "67/67 [==============================] - 0s 2ms/step - loss: 0.4851 - accuracy: 0.7872\n",
      "Epoch 33/100\n",
      "67/67 [==============================] - 0s 2ms/step - loss: 0.4850 - accuracy: 0.7834\n",
      "Epoch 34/100\n",
      "67/67 [==============================] - 0s 2ms/step - loss: 0.4835 - accuracy: 0.7858\n",
      "Epoch 35/100\n",
      "67/67 [==============================] - 0s 2ms/step - loss: 0.4825 - accuracy: 0.7867\n",
      "Epoch 36/100\n",
      "67/67 [==============================] - 0s 2ms/step - loss: 0.4815 - accuracy: 0.7858\n",
      "Epoch 37/100\n",
      "67/67 [==============================] - 0s 2ms/step - loss: 0.4813 - accuracy: 0.7872\n",
      "Epoch 38/100\n",
      "67/67 [==============================] - 0s 2ms/step - loss: 0.4801 - accuracy: 0.7872\n",
      "Epoch 39/100\n",
      "67/67 [==============================] - 0s 2ms/step - loss: 0.4789 - accuracy: 0.7867\n",
      "Epoch 40/100\n",
      "67/67 [==============================] - 0s 2ms/step - loss: 0.4783 - accuracy: 0.7853\n",
      "Epoch 41/100\n",
      "67/67 [==============================] - 0s 2ms/step - loss: 0.4779 - accuracy: 0.7872\n",
      "Epoch 42/100\n",
      "67/67 [==============================] - 0s 2ms/step - loss: 0.4766 - accuracy: 0.7863\n",
      "Epoch 43/100\n",
      "67/67 [==============================] - 0s 2ms/step - loss: 0.4762 - accuracy: 0.7863\n",
      "Epoch 44/100\n",
      "67/67 [==============================] - 0s 2ms/step - loss: 0.4754 - accuracy: 0.7853\n",
      "Epoch 45/100\n",
      "67/67 [==============================] - 0s 2ms/step - loss: 0.4753 - accuracy: 0.7877\n",
      "Epoch 46/100\n",
      "67/67 [==============================] - 0s 2ms/step - loss: 0.4753 - accuracy: 0.7853\n",
      "Epoch 47/100\n",
      "67/67 [==============================] - 0s 2ms/step - loss: 0.4735 - accuracy: 0.7877\n",
      "Epoch 48/100\n",
      "67/67 [==============================] - 0s 2ms/step - loss: 0.4734 - accuracy: 0.7872\n",
      "Epoch 49/100\n",
      "67/67 [==============================] - 0s 2ms/step - loss: 0.4720 - accuracy: 0.7863\n",
      "Epoch 50/100\n",
      "67/67 [==============================] - 0s 2ms/step - loss: 0.4722 - accuracy: 0.7877\n",
      "Epoch 51/100\n",
      "67/67 [==============================] - 0s 2ms/step - loss: 0.4708 - accuracy: 0.7863\n",
      "Epoch 52/100\n",
      "67/67 [==============================] - 0s 2ms/step - loss: 0.4718 - accuracy: 0.7834\n",
      "Epoch 53/100\n",
      "67/67 [==============================] - 0s 2ms/step - loss: 0.4686 - accuracy: 0.7886\n",
      "Epoch 54/100\n",
      "67/67 [==============================] - 0s 2ms/step - loss: 0.4686 - accuracy: 0.7881\n",
      "Epoch 55/100\n",
      "67/67 [==============================] - 0s 2ms/step - loss: 0.4679 - accuracy: 0.7881\n",
      "Epoch 56/100\n",
      "67/67 [==============================] - 0s 2ms/step - loss: 0.4682 - accuracy: 0.7872\n",
      "Epoch 57/100\n",
      "67/67 [==============================] - 0s 2ms/step - loss: 0.4662 - accuracy: 0.7881\n",
      "Epoch 58/100\n",
      "67/67 [==============================] - 0s 2ms/step - loss: 0.4661 - accuracy: 0.7886\n",
      "Epoch 59/100\n",
      "67/67 [==============================] - 0s 2ms/step - loss: 0.4653 - accuracy: 0.7881\n",
      "Epoch 60/100\n",
      "67/67 [==============================] - 0s 2ms/step - loss: 0.4655 - accuracy: 0.7877\n",
      "Epoch 61/100\n",
      "67/67 [==============================] - 0s 2ms/step - loss: 0.4637 - accuracy: 0.7905\n",
      "Epoch 62/100\n",
      "67/67 [==============================] - 0s 2ms/step - loss: 0.4628 - accuracy: 0.7900\n",
      "Epoch 63/100\n",
      "67/67 [==============================] - 0s 2ms/step - loss: 0.4643 - accuracy: 0.7924\n",
      "Epoch 64/100\n",
      "67/67 [==============================] - 0s 2ms/step - loss: 0.4640 - accuracy: 0.7895\n",
      "Epoch 65/100\n",
      "67/67 [==============================] - 0s 2ms/step - loss: 0.4612 - accuracy: 0.7891\n",
      "Epoch 66/100\n",
      "67/67 [==============================] - 0s 2ms/step - loss: 0.4616 - accuracy: 0.7891\n",
      "Epoch 67/100\n",
      "67/67 [==============================] - 0s 2ms/step - loss: 0.4600 - accuracy: 0.7910\n",
      "Epoch 68/100\n",
      "67/67 [==============================] - 0s 2ms/step - loss: 0.4606 - accuracy: 0.7839\n",
      "Epoch 69/100\n",
      "67/67 [==============================] - 0s 2ms/step - loss: 0.4588 - accuracy: 0.7881\n",
      "Epoch 70/100\n",
      "67/67 [==============================] - 0s 2ms/step - loss: 0.4593 - accuracy: 0.7905\n",
      "Epoch 71/100\n",
      "67/67 [==============================] - 0s 2ms/step - loss: 0.4583 - accuracy: 0.7928\n",
      "Epoch 72/100\n",
      "67/67 [==============================] - 0s 2ms/step - loss: 0.4568 - accuracy: 0.7872\n",
      "Epoch 73/100\n",
      "67/67 [==============================] - 0s 2ms/step - loss: 0.4559 - accuracy: 0.7928\n",
      "Epoch 74/100\n",
      "67/67 [==============================] - 0s 2ms/step - loss: 0.4558 - accuracy: 0.7886\n",
      "Epoch 75/100\n",
      "67/67 [==============================] - 0s 2ms/step - loss: 0.4558 - accuracy: 0.7910\n",
      "Epoch 76/100\n",
      "67/67 [==============================] - 0s 2ms/step - loss: 0.4541 - accuracy: 0.7924\n",
      "Epoch 77/100\n",
      "67/67 [==============================] - 0s 2ms/step - loss: 0.4529 - accuracy: 0.7891\n",
      "Epoch 78/100\n",
      "67/67 [==============================] - 0s 2ms/step - loss: 0.4548 - accuracy: 0.7971\n",
      "Epoch 79/100\n",
      "67/67 [==============================] - 0s 2ms/step - loss: 0.4520 - accuracy: 0.7938\n",
      "Epoch 80/100\n",
      "67/67 [==============================] - 0s 2ms/step - loss: 0.4517 - accuracy: 0.7961\n",
      "Epoch 81/100\n",
      "67/67 [==============================] - 0s 2ms/step - loss: 0.4525 - accuracy: 0.7910\n",
      "Epoch 82/100\n",
      "67/67 [==============================] - 0s 2ms/step - loss: 0.4519 - accuracy: 0.7900\n",
      "Epoch 83/100\n",
      "67/67 [==============================] - 0s 2ms/step - loss: 0.4506 - accuracy: 0.7952\n",
      "Epoch 84/100\n",
      "67/67 [==============================] - 0s 2ms/step - loss: 0.4507 - accuracy: 0.7947\n",
      "Epoch 85/100\n",
      "67/67 [==============================] - 0s 2ms/step - loss: 0.4494 - accuracy: 0.7947\n",
      "Epoch 86/100\n",
      "67/67 [==============================] - 0s 2ms/step - loss: 0.4486 - accuracy: 0.7938\n",
      "Epoch 87/100\n",
      "67/67 [==============================] - 0s 2ms/step - loss: 0.4475 - accuracy: 0.7985\n",
      "Epoch 88/100\n",
      "67/67 [==============================] - 0s 2ms/step - loss: 0.4486 - accuracy: 0.7914\n",
      "Epoch 89/100\n",
      "67/67 [==============================] - 0s 2ms/step - loss: 0.4488 - accuracy: 0.7947\n",
      "Epoch 90/100\n",
      "67/67 [==============================] - 0s 2ms/step - loss: 0.4460 - accuracy: 0.7976\n",
      "Epoch 91/100\n",
      "67/67 [==============================] - 0s 2ms/step - loss: 0.4459 - accuracy: 0.7990\n",
      "Epoch 92/100\n",
      "67/67 [==============================] - 0s 2ms/step - loss: 0.4478 - accuracy: 0.7924\n",
      "Epoch 93/100\n",
      "67/67 [==============================] - 0s 2ms/step - loss: 0.4474 - accuracy: 0.7938\n",
      "Epoch 94/100\n",
      "67/67 [==============================] - 0s 2ms/step - loss: 0.4460 - accuracy: 0.7966\n",
      "Epoch 95/100\n",
      "67/67 [==============================] - 0s 2ms/step - loss: 0.4448 - accuracy: 0.7990\n",
      "Epoch 96/100\n",
      "67/67 [==============================] - 0s 2ms/step - loss: 0.4446 - accuracy: 0.7961\n",
      "Epoch 97/100\n",
      "67/67 [==============================] - 0s 2ms/step - loss: 0.4443 - accuracy: 0.7999\n",
      "Epoch 98/100\n",
      "67/67 [==============================] - 0s 2ms/step - loss: 0.4430 - accuracy: 0.7971\n",
      "Epoch 99/100\n",
      "67/67 [==============================] - 0s 2ms/step - loss: 0.4441 - accuracy: 0.7933\n",
      "Epoch 100/100\n",
      "67/67 [==============================] - 0s 2ms/step - loss: 0.4433 - accuracy: 0.7971\n",
      "23/23 - 0s - loss: 0.4510 - accuracy: 0.8023\n",
      "Loss: 0.4510326087474823, Accuracy: 0.8022598624229431\n"
     ]
    }
   ],
   "source": [
    "# Define the model - deep neural net\n",
    "number_input_features = len(X_train_scaled[0])\n",
    "hidden_nodes_layer1 =  24\n",
    "hidden_nodes_layer2 = 12\n",
    "\n",
    "nn = tf.keras.models.Sequential()\n",
    "\n",
    "# First hidden layer\n",
    "nn.add(\n",
    "    tf.keras.layers.Dense(units=hidden_nodes_layer1, input_dim=number_input_features, activation=\"relu\")\n",
    ")\n",
    "\n",
    "# Second hidden layer\n",
    "nn.add(tf.keras.layers.Dense(units=hidden_nodes_layer2, activation=\"relu\"))\n",
    "\n",
    "\n",
    "# Output layer\n",
    "nn.add(tf.keras.layers.Dense(units=1, activation=\"sigmoid\"))\n",
    "\n",
    "# Compile the Sequential model together and customize metrics\n",
    "nn.compile(loss=\"binary_crossentropy\", optimizer=\"adam\", metrics=[\"accuracy\"])\n",
    "\n",
    "# Train the model\n",
    "fit_model = nn.fit(X_train_scaled, y_train, epochs=100)\n",
    "\n",
    "# Evaluate the model using the test data\n",
    "model_loss, model_accuracy = nn.evaluate(X_test_scaled,y_test,verbose=2)\n",
    "print(f\"Loss: {model_loss}, Accuracy: {model_accuracy}\")"
   ]
  },
  {
   "cell_type": "code",
   "execution_count": 28,
   "metadata": {},
   "outputs": [
    {
     "output_type": "execute_result",
     "data": {
      "text/plain": [
       "['loss', 'accuracy']"
      ]
     },
     "metadata": {},
     "execution_count": 28
    }
   ],
   "source": [
    "nn.metrics_names"
   ]
  },
  {
   "cell_type": "code",
   "execution_count": 34,
   "metadata": {},
   "outputs": [
    {
     "output_type": "execute_result",
     "data": {
      "text/plain": [
       "72.926"
      ]
     },
     "metadata": {},
     "execution_count": 34
    }
   ],
   "source": [
    "df.Avg_viewer_ratio.quantile(.9)"
   ]
  },
  {
   "cell_type": "code",
   "execution_count": null,
   "metadata": {},
   "outputs": [],
   "source": []
  }
 ]
}