{
 "cells": [
  {
   "cell_type": "code",
   "execution_count": 1,
   "metadata": {},
   "outputs": [],
   "source": [
    "# Import the requests library\n",
    "import pandas as pd\n",
    "import re"
   ]
  },
  {
   "cell_type": "markdown",
   "metadata": {},
   "source": [
    "# Steam_store_data Load, transform, clean"
   ]
  },
  {
   "cell_type": "code",
   "execution_count": 2,
   "metadata": {},
   "outputs": [
    {
     "name": "stdout",
     "output_type": "stream",
     "text": [
      "(27075, 18)\n"
     ]
    },
    {
     "data": {
      "text/html": [
       "<div>\n",
       "<style scoped>\n",
       "    .dataframe tbody tr th:only-of-type {\n",
       "        vertical-align: middle;\n",
       "    }\n",
       "\n",
       "    .dataframe tbody tr th {\n",
       "        vertical-align: top;\n",
       "    }\n",
       "\n",
       "    .dataframe thead th {\n",
       "        text-align: right;\n",
       "    }\n",
       "</style>\n",
       "<table border=\"1\" class=\"dataframe\">\n",
       "  <thead>\n",
       "    <tr style=\"text-align: right;\">\n",
       "      <th></th>\n",
       "      <th>appid</th>\n",
       "      <th>name</th>\n",
       "      <th>release_date</th>\n",
       "      <th>english</th>\n",
       "      <th>developer</th>\n",
       "      <th>publisher</th>\n",
       "      <th>platforms</th>\n",
       "      <th>required_age</th>\n",
       "      <th>categories</th>\n",
       "      <th>genres</th>\n",
       "      <th>steamspy_tags</th>\n",
       "      <th>achievements</th>\n",
       "      <th>positive_ratings</th>\n",
       "      <th>negative_ratings</th>\n",
       "      <th>average_playtime</th>\n",
       "      <th>median_playtime</th>\n",
       "      <th>owners</th>\n",
       "      <th>price</th>\n",
       "    </tr>\n",
       "  </thead>\n",
       "  <tbody>\n",
       "    <tr>\n",
       "      <th>0</th>\n",
       "      <td>10</td>\n",
       "      <td>Counter-Strike</td>\n",
       "      <td>2000-11-01</td>\n",
       "      <td>1</td>\n",
       "      <td>Valve</td>\n",
       "      <td>Valve</td>\n",
       "      <td>windows;mac;linux</td>\n",
       "      <td>0</td>\n",
       "      <td>Multi-player;Online Multi-Player;Local Multi-P...</td>\n",
       "      <td>Action</td>\n",
       "      <td>Action;FPS;Multiplayer</td>\n",
       "      <td>0</td>\n",
       "      <td>124534</td>\n",
       "      <td>3339</td>\n",
       "      <td>17612</td>\n",
       "      <td>317</td>\n",
       "      <td>10000000-20000000</td>\n",
       "      <td>7.19</td>\n",
       "    </tr>\n",
       "    <tr>\n",
       "      <th>1</th>\n",
       "      <td>20</td>\n",
       "      <td>Team Fortress Classic</td>\n",
       "      <td>1999-04-01</td>\n",
       "      <td>1</td>\n",
       "      <td>Valve</td>\n",
       "      <td>Valve</td>\n",
       "      <td>windows;mac;linux</td>\n",
       "      <td>0</td>\n",
       "      <td>Multi-player;Online Multi-Player;Local Multi-P...</td>\n",
       "      <td>Action</td>\n",
       "      <td>Action;FPS;Multiplayer</td>\n",
       "      <td>0</td>\n",
       "      <td>3318</td>\n",
       "      <td>633</td>\n",
       "      <td>277</td>\n",
       "      <td>62</td>\n",
       "      <td>5000000-10000000</td>\n",
       "      <td>3.99</td>\n",
       "    </tr>\n",
       "    <tr>\n",
       "      <th>2</th>\n",
       "      <td>30</td>\n",
       "      <td>Day of Defeat</td>\n",
       "      <td>2003-05-01</td>\n",
       "      <td>1</td>\n",
       "      <td>Valve</td>\n",
       "      <td>Valve</td>\n",
       "      <td>windows;mac;linux</td>\n",
       "      <td>0</td>\n",
       "      <td>Multi-player;Valve Anti-Cheat enabled</td>\n",
       "      <td>Action</td>\n",
       "      <td>FPS;World War II;Multiplayer</td>\n",
       "      <td>0</td>\n",
       "      <td>3416</td>\n",
       "      <td>398</td>\n",
       "      <td>187</td>\n",
       "      <td>34</td>\n",
       "      <td>5000000-10000000</td>\n",
       "      <td>3.99</td>\n",
       "    </tr>\n",
       "    <tr>\n",
       "      <th>3</th>\n",
       "      <td>40</td>\n",
       "      <td>Deathmatch Classic</td>\n",
       "      <td>2001-06-01</td>\n",
       "      <td>1</td>\n",
       "      <td>Valve</td>\n",
       "      <td>Valve</td>\n",
       "      <td>windows;mac;linux</td>\n",
       "      <td>0</td>\n",
       "      <td>Multi-player;Online Multi-Player;Local Multi-P...</td>\n",
       "      <td>Action</td>\n",
       "      <td>Action;FPS;Multiplayer</td>\n",
       "      <td>0</td>\n",
       "      <td>1273</td>\n",
       "      <td>267</td>\n",
       "      <td>258</td>\n",
       "      <td>184</td>\n",
       "      <td>5000000-10000000</td>\n",
       "      <td>3.99</td>\n",
       "    </tr>\n",
       "    <tr>\n",
       "      <th>4</th>\n",
       "      <td>50</td>\n",
       "      <td>Half-Life: Opposing Force</td>\n",
       "      <td>1999-11-01</td>\n",
       "      <td>1</td>\n",
       "      <td>Gearbox Software</td>\n",
       "      <td>Valve</td>\n",
       "      <td>windows;mac;linux</td>\n",
       "      <td>0</td>\n",
       "      <td>Single-player;Multi-player;Valve Anti-Cheat en...</td>\n",
       "      <td>Action</td>\n",
       "      <td>FPS;Action;Sci-fi</td>\n",
       "      <td>0</td>\n",
       "      <td>5250</td>\n",
       "      <td>288</td>\n",
       "      <td>624</td>\n",
       "      <td>415</td>\n",
       "      <td>5000000-10000000</td>\n",
       "      <td>3.99</td>\n",
       "    </tr>\n",
       "  </tbody>\n",
       "</table>\n",
       "</div>"
      ],
      "text/plain": [
       "   appid                       name release_date  english         developer  \\\n",
       "0     10             Counter-Strike   2000-11-01        1             Valve   \n",
       "1     20      Team Fortress Classic   1999-04-01        1             Valve   \n",
       "2     30              Day of Defeat   2003-05-01        1             Valve   \n",
       "3     40         Deathmatch Classic   2001-06-01        1             Valve   \n",
       "4     50  Half-Life: Opposing Force   1999-11-01        1  Gearbox Software   \n",
       "\n",
       "  publisher          platforms  required_age  \\\n",
       "0     Valve  windows;mac;linux             0   \n",
       "1     Valve  windows;mac;linux             0   \n",
       "2     Valve  windows;mac;linux             0   \n",
       "3     Valve  windows;mac;linux             0   \n",
       "4     Valve  windows;mac;linux             0   \n",
       "\n",
       "                                          categories  genres  \\\n",
       "0  Multi-player;Online Multi-Player;Local Multi-P...  Action   \n",
       "1  Multi-player;Online Multi-Player;Local Multi-P...  Action   \n",
       "2              Multi-player;Valve Anti-Cheat enabled  Action   \n",
       "3  Multi-player;Online Multi-Player;Local Multi-P...  Action   \n",
       "4  Single-player;Multi-player;Valve Anti-Cheat en...  Action   \n",
       "\n",
       "                  steamspy_tags  achievements  positive_ratings  \\\n",
       "0        Action;FPS;Multiplayer             0            124534   \n",
       "1        Action;FPS;Multiplayer             0              3318   \n",
       "2  FPS;World War II;Multiplayer             0              3416   \n",
       "3        Action;FPS;Multiplayer             0              1273   \n",
       "4             FPS;Action;Sci-fi             0              5250   \n",
       "\n",
       "   negative_ratings  average_playtime  median_playtime             owners  \\\n",
       "0              3339             17612              317  10000000-20000000   \n",
       "1               633               277               62   5000000-10000000   \n",
       "2               398               187               34   5000000-10000000   \n",
       "3               267               258              184   5000000-10000000   \n",
       "4               288               624              415   5000000-10000000   \n",
       "\n",
       "   price  \n",
       "0   7.19  \n",
       "1   3.99  \n",
       "2   3.99  \n",
       "3   3.99  \n",
       "4   3.99  "
      ]
     },
     "execution_count": 2,
     "metadata": {},
     "output_type": "execute_result"
    }
   ],
   "source": [
    "#### Read in and preview Gamespot Reviews\n",
    "steam_store_raw_df = pd.read_csv('original_datasets/steam.csv')\n",
    "print(steam_store_raw_df.shape)\n",
    "steam_store_raw_df.head()"
   ]
  },
  {
   "cell_type": "code",
   "execution_count": 3,
   "metadata": {},
   "outputs": [
    {
     "data": {
      "text/html": [
       "<div>\n",
       "<style scoped>\n",
       "    .dataframe tbody tr th:only-of-type {\n",
       "        vertical-align: middle;\n",
       "    }\n",
       "\n",
       "    .dataframe tbody tr th {\n",
       "        vertical-align: top;\n",
       "    }\n",
       "\n",
       "    .dataframe thead th {\n",
       "        text-align: right;\n",
       "    }\n",
       "</style>\n",
       "<table border=\"1\" class=\"dataframe\">\n",
       "  <thead>\n",
       "    <tr style=\"text-align: right;\">\n",
       "      <th></th>\n",
       "      <th>appid</th>\n",
       "      <th>name</th>\n",
       "      <th>release_date</th>\n",
       "      <th>english</th>\n",
       "      <th>developer</th>\n",
       "      <th>publisher</th>\n",
       "      <th>required_age</th>\n",
       "      <th>achievements</th>\n",
       "      <th>positive_ratings</th>\n",
       "      <th>negative_ratings</th>\n",
       "      <th>average_playtime</th>\n",
       "      <th>median_playtime</th>\n",
       "      <th>owners</th>\n",
       "      <th>price</th>\n",
       "    </tr>\n",
       "  </thead>\n",
       "  <tbody>\n",
       "    <tr>\n",
       "      <th>0</th>\n",
       "      <td>10</td>\n",
       "      <td>Counter-Strike</td>\n",
       "      <td>2000-11-01</td>\n",
       "      <td>1</td>\n",
       "      <td>Valve</td>\n",
       "      <td>Valve</td>\n",
       "      <td>0</td>\n",
       "      <td>0</td>\n",
       "      <td>124534</td>\n",
       "      <td>3339</td>\n",
       "      <td>17612</td>\n",
       "      <td>317</td>\n",
       "      <td>10000000-20000000</td>\n",
       "      <td>7.19</td>\n",
       "    </tr>\n",
       "    <tr>\n",
       "      <th>1</th>\n",
       "      <td>20</td>\n",
       "      <td>Team Fortress Classic</td>\n",
       "      <td>1999-04-01</td>\n",
       "      <td>1</td>\n",
       "      <td>Valve</td>\n",
       "      <td>Valve</td>\n",
       "      <td>0</td>\n",
       "      <td>0</td>\n",
       "      <td>3318</td>\n",
       "      <td>633</td>\n",
       "      <td>277</td>\n",
       "      <td>62</td>\n",
       "      <td>5000000-10000000</td>\n",
       "      <td>3.99</td>\n",
       "    </tr>\n",
       "    <tr>\n",
       "      <th>2</th>\n",
       "      <td>30</td>\n",
       "      <td>Day of Defeat</td>\n",
       "      <td>2003-05-01</td>\n",
       "      <td>1</td>\n",
       "      <td>Valve</td>\n",
       "      <td>Valve</td>\n",
       "      <td>0</td>\n",
       "      <td>0</td>\n",
       "      <td>3416</td>\n",
       "      <td>398</td>\n",
       "      <td>187</td>\n",
       "      <td>34</td>\n",
       "      <td>5000000-10000000</td>\n",
       "      <td>3.99</td>\n",
       "    </tr>\n",
       "    <tr>\n",
       "      <th>3</th>\n",
       "      <td>40</td>\n",
       "      <td>Deathmatch Classic</td>\n",
       "      <td>2001-06-01</td>\n",
       "      <td>1</td>\n",
       "      <td>Valve</td>\n",
       "      <td>Valve</td>\n",
       "      <td>0</td>\n",
       "      <td>0</td>\n",
       "      <td>1273</td>\n",
       "      <td>267</td>\n",
       "      <td>258</td>\n",
       "      <td>184</td>\n",
       "      <td>5000000-10000000</td>\n",
       "      <td>3.99</td>\n",
       "    </tr>\n",
       "    <tr>\n",
       "      <th>4</th>\n",
       "      <td>50</td>\n",
       "      <td>Half-Life: Opposing Force</td>\n",
       "      <td>1999-11-01</td>\n",
       "      <td>1</td>\n",
       "      <td>Gearbox Software</td>\n",
       "      <td>Valve</td>\n",
       "      <td>0</td>\n",
       "      <td>0</td>\n",
       "      <td>5250</td>\n",
       "      <td>288</td>\n",
       "      <td>624</td>\n",
       "      <td>415</td>\n",
       "      <td>5000000-10000000</td>\n",
       "      <td>3.99</td>\n",
       "    </tr>\n",
       "  </tbody>\n",
       "</table>\n",
       "</div>"
      ],
      "text/plain": [
       "   appid                       name release_date  english         developer  \\\n",
       "0     10             Counter-Strike   2000-11-01        1             Valve   \n",
       "1     20      Team Fortress Classic   1999-04-01        1             Valve   \n",
       "2     30              Day of Defeat   2003-05-01        1             Valve   \n",
       "3     40         Deathmatch Classic   2001-06-01        1             Valve   \n",
       "4     50  Half-Life: Opposing Force   1999-11-01        1  Gearbox Software   \n",
       "\n",
       "  publisher  required_age  achievements  positive_ratings  negative_ratings  \\\n",
       "0     Valve             0             0            124534              3339   \n",
       "1     Valve             0             0              3318               633   \n",
       "2     Valve             0             0              3416               398   \n",
       "3     Valve             0             0              1273               267   \n",
       "4     Valve             0             0              5250               288   \n",
       "\n",
       "   average_playtime  median_playtime             owners  price  \n",
       "0             17612              317  10000000-20000000   7.19  \n",
       "1               277               62   5000000-10000000   3.99  \n",
       "2               187               34   5000000-10000000   3.99  \n",
       "3               258              184   5000000-10000000   3.99  \n",
       "4               624              415   5000000-10000000   3.99  "
      ]
     },
     "execution_count": 3,
     "metadata": {},
     "output_type": "execute_result"
    }
   ],
   "source": [
    "# Special character in 'categories\t' found in column header\n",
    "steam_store_raw_df.columns=steam_store_raw_df.columns.str.replace('\t','')\n",
    "\n",
    "# Drop the 'categories', 'genres', and 'steamspy_tags' columns. \n",
    "# We have a more detailed account of the same information in the 'steamspy_tags' column\n",
    "steam_store_raw_df = steam_store_raw_df.drop(['categories','genres','steamspy_tags','platforms'], axis=1)\n",
    "\n",
    "steam_store_raw_df.head()"
   ]
  },
  {
   "cell_type": "code",
   "execution_count": 4,
   "metadata": {},
   "outputs": [],
   "source": [
    "# Make all names lower case\n",
    "steam_store_raw_df['name'] = steam_store_raw_df['name'].str.lower()\n",
    "# Remove all special characters\n",
    "steam_store_raw_df['name'] = steam_store_raw_df['name'].str.replace(r'[^\\x00-\\x7f]', '')\n",
    "# Remove all non-alpha-numeric\n",
    "steam_store_raw_df['name'] = steam_store_raw_df['name'].str.replace(r'[^\\w ]+', '')\n",
    "# Remove all duplicate whitespace\n",
    "steam_store_raw_df['name'] = steam_store_raw_df['name'].str.replace(r'\\s+', ' ')\n",
    "# Remove leading and trailing whitespace\n",
    "steam_store_raw_df['name'] = steam_store_raw_df['name'].str.strip(r' ')"
   ]
  },
  {
   "cell_type": "code",
   "execution_count": null,
   "metadata": {},
   "outputs": [],
   "source": [
    "rom_to_int_dict = {r' ii$': ' 2',\n",
    "                  r' iii$': ' 3',\n",
    "                  r' iii$': ' 4',\n",
    "                  r' v$': ' 5',\n",
    "                  r' vi$': ' 6',\n",
    "                  r' vii$': ' 7',\n",
    "                  r' viii$': ' 8',\n",
    "                  r' ix$': ' 9',\n",
    "                  r' x$': ' 10',\n",
    "                  r' xi$': '11',\n",
    "                  r' xii$': '12',\n",
    "                  r' xiii$': '13',\n",
    "                  r' xiv$': '14'}"
   ]
  },
  {
   "cell_type": "code",
   "execution_count": null,
   "metadata": {},
   "outputs": [],
   "source": [
    "# Replace all keys from the replace_dict with their values within the dataframe\n",
    "steam_store_raw_df['name'] = steam_store_raw_df['name'].replace(rom_to_int_dict, regex=True)"
   ]
  },
  {
   "cell_type": "code",
   "execution_count": null,
   "metadata": {},
   "outputs": [],
   "source": [
    "# Create a list of values that block matching between steam and twitch for removal\n",
    "remove_list = (' hd', ' remastered', ' directors cut edition', ' game of the year enhanced', \n",
    "               ' aot wings of freedom', ' aot 2', ' remastered', ' expansion', ' hd edition',\n",
    "              ' board game with online multiplayer', ' gold edition', ' game of the year edition',' creative survival',\n",
    "              ' ultimate edition',' complete edition',' special edition',' enhanced edition',' definitive edition',\n",
    "              ' windows edition',' redux',' classic hd',' millennium edition',' deluxe edition',' steam edition',\n",
    "              ' directors cut', ' the telltale series', ' a realm reborn', ' night of the raven', ' a telltale game series',\n",
    "              '00db', ' bfg edition', ' sol', ' guacamelee super turbo championship edition', ' lightspeed edition',\n",
    "              ' the complete edition', ' a criterion game', ' ultimate hd edition', ' hd remastered',\n",
    "              ' warlord edition', ' arcade edition', 'beyond the sword')"
   ]
  },
  {
   "cell_type": "code",
   "execution_count": null,
   "metadata": {},
   "outputs": [],
   "source": [
    "# Remove all unwanted values from the remove_list\n",
    "steam_store_raw_df['name'] = steam_store_raw_df['name'].str.replace('|'.join(remove_list), '')"
   ]
  },
  {
   "cell_type": "code",
   "execution_count": null,
   "metadata": {},
   "outputs": [],
   "source": [
    "# Create a dictionary of values that block matching between steam and twitch for replacement\n",
    "replace_dict = {'catherine classic': 'catherine', \n",
    "                'creativedestruction': 'creative destruction', \n",
    "                'eternal return: black survival': 'eternal return',\n",
    "                'heroes of might and magic 3 the shadow of death': 'heroes of might and magic 3',\n",
    "                'orcs must die unchained': 'orcs must die',\n",
    "                'puyo puyotetris': 'puyo puyo tetris',\n",
    "                'life is strange episode 1': 'life is strange',\n",
    "                'resident evil 4 biohazard 4': 'resident evil 4',\n",
    "                'resident evil 2 biohazard re2': 'resident evil 2',\n",
    "                'resident evil 6 biohazard 6': 'resident evil 6',\n",
    "                'resident evil 7 biohazard 7': 'resident evil 7 biohazard',\n",
    "                'rollercoaster tycoon 2 triple thrill pack': 'rollercoaster tycoon 2',\n",
    "                'romance of the three kingdoms 13 13': 'romance of the three kingdoms 13',\n",
    "                'shadowverse ccg': 'shadowverse',\n",
    "                'soulworker anime action mmo': 'soulworker',\n",
    "                'super seducer how to talk': 'super seducer',\n",
    "                'the bards tale 5 barrows deep': 'the bards tale 5',\n",
    "                'puyo puyotetris': 'puyo puyo tetris',\n",
    "                'x x2 remastered': 'xx2 remastered',\n",
    "                'hitman 2 silent assassin': 'hitman 2',\n",
    "                'hitman episode 3 marrakesh': 'hitman 3',\n",
    "                'la noire the': 'la noire',\n",
    "                'life is strange before the storm episode 1 awake': 'life is strange before the storm',\n",
    "               'microsoft flight simulator 2004 a century of flight': 'microsoft flight simulator',\n",
    "               'sid meiers civilization vi rise fall': 'sid meiers civilization vi rise and fall'}"
   ]
  },
  {
   "cell_type": "code",
   "execution_count": null,
   "metadata": {},
   "outputs": [],
   "source": [
    "# Replace all keys from the replace_dict with their values within the dataframe\n",
    "steam_store_raw_df['name'] = steam_store_raw_df['name'].replace(replace_dict, regex=True)"
   ]
  },
  {
   "cell_type": "code",
   "execution_count": null,
   "metadata": {},
   "outputs": [],
   "source": [
    "# Select duplicate rows in the 'name' column\n",
    "dup_rows_steam = steam_store_raw_df[steam_store_raw_df.duplicated(['name'])]\n",
    "dup_rows_steam = dup_rows_steam.sort_values(by=['name'])\n",
    "dup_rows_steam.head()"
   ]
  },
  {
   "cell_type": "code",
   "execution_count": null,
   "metadata": {},
   "outputs": [],
   "source": [
    "# Drop duplicates (only duplicates above are unnamed games)\n",
    "steam_store_raw_df.drop_duplicates(subset =\"name\", inplace = True)\n",
    "print(steam_store_raw_df.shape)"
   ]
  },
  {
   "cell_type": "code",
   "execution_count": null,
   "metadata": {},
   "outputs": [],
   "source": [
    "# Add prefix for easy ID downstream\n",
    "steam_store_raw_df = steam_store_raw_df.add_prefix('st_')"
   ]
  },
  {
   "cell_type": "markdown",
   "metadata": {},
   "source": [
    "# twitch_raw_df Load, transform, clean"
   ]
  },
  {
   "cell_type": "code",
   "execution_count": null,
   "metadata": {},
   "outputs": [],
   "source": [
    "#### Read in and preview twitch data\n",
    "twitch_raw_df = pd.read_csv('original_datasets/Twitch_game_data.csv')\n",
    "print(twitch_raw_df.shape)"
   ]
  },
  {
   "cell_type": "code",
   "execution_count": null,
   "metadata": {},
   "outputs": [],
   "source": [
    "# Make all names lower case\n",
    "twitch_raw_df['Game'] = twitch_raw_df['Game'].str.lower()\n",
    "# Remove all special characters\n",
    "twitch_raw_df['Game'] = twitch_raw_df['Game'].str.replace(r'[^\\x00-\\x7f]', '')"
   ]
  },
  {
   "cell_type": "code",
   "execution_count": null,
   "metadata": {},
   "outputs": [],
   "source": [
    "# Make all names lower case\n",
    "twitch_raw_df['Game'] = twitch_raw_df['Game'].str.lower()\n",
    "# Remove all special characters\n",
    "twitch_raw_df['Game'] = twitch_raw_df['Game'].str.replace(r'[^\\x00-\\x7f]', '')\n",
    "# Remove all non-alpha-numeric\n",
    "twitch_raw_df['Game'] = twitch_raw_df['Game'].str.replace(r'[^\\w ]+', '')\n",
    "\n",
    "# Remove all duplicate whitespace\n",
    "twitch_raw_df['Game'] = twitch_raw_df['Game'].str.replace(r'\\s+', ' ')\n",
    "# Remove leading and trailing whitespace\n",
    "twitch_raw_df['Game'] = twitch_raw_df['Game'].str.strip(r' ')\n",
    "\n",
    "# # Convert roman numerals end sentence\n",
    "twitch_raw_df['Game'] = twitch_raw_df['Game'].str.replace(r' ii$', ' 2')\n",
    "twitch_raw_df['Game'] = twitch_raw_df['Game'].str.replace(r' iii$', ' 3')\n",
    "twitch_raw_df['Game'] = twitch_raw_df['Game'].str.replace(r' iv$', ' 4')\n",
    "twitch_raw_df['Game'] = twitch_raw_df['Game'].str.replace(r' v$', ' 5')\n",
    "twitch_raw_df['Game'] = twitch_raw_df['Game'].str.replace(r' vi$', ' 6')\n",
    "twitch_raw_df['Game'] = twitch_raw_df['Game'].str.replace(r' vii$', ' 7')\n",
    "twitch_raw_df['Game'] = twitch_raw_df['Game'].str.replace(r' viii$', ' 8')\n",
    "twitch_raw_df['Game'] = twitch_raw_df['Game'].str.replace(r' ix$', ' 9')\n",
    "twitch_raw_df['Game'] = twitch_raw_df['Game'].str.replace(r' x$', ' 10')\n",
    "twitch_raw_df['Game'] = twitch_raw_df['Game'].str.replace(r' xi$', '11')\n",
    "twitch_raw_df['Game'] = twitch_raw_df['Game'].str.replace(r' xii$', '12')\n",
    "twitch_raw_df['Game'] = twitch_raw_df['Game'].str.replace(r' xiii$', '13')\n",
    "twitch_raw_df['Game'] = twitch_raw_df['Game'].str.replace(r' xiv$', '14')\n",
    "\n",
    "\n",
    "# Remove all unwanted values from the remove_list\n",
    "twitch_raw_df['Game'] = twitch_raw_df['Game'].str.replace('|'.join(remove_list), '')\n",
    "\n",
    "# Replace all keys from the replace_dict with their values within the dataframe\n",
    "twitch_raw_df['Game'] = twitch_raw_df['Game'].replace(replace_dict, regex=True)"
   ]
  },
  {
   "cell_type": "code",
   "execution_count": null,
   "metadata": {},
   "outputs": [],
   "source": [
    "# Add prefix for easy ID downstream\n",
    "twitch_raw_df = twitch_raw_df.add_prefix('tw_')"
   ]
  },
  {
   "cell_type": "markdown",
   "metadata": {},
   "source": [
    "# metacritic_raw_df Load, transform, clean"
   ]
  },
  {
   "cell_type": "code",
   "execution_count": null,
   "metadata": {},
   "outputs": [],
   "source": [
    "# Read in and preview metacritic data\n",
    "metacritic_raw_df = pd.read_csv('original_datasets/metacritic_game_info.csv')\n",
    "print(metacritic_raw_df.shape)\n",
    "metacritic_raw_df.head()"
   ]
  },
  {
   "cell_type": "code",
   "execution_count": null,
   "metadata": {},
   "outputs": [],
   "source": [
    "# Only keep PC game review records\n",
    "metacritic_raw_df = metacritic_raw_df[metacritic_raw_df.Platform == 'PC']\n",
    "print(metacritic_raw_df.shape)"
   ]
  },
  {
   "cell_type": "code",
   "execution_count": null,
   "metadata": {},
   "outputs": [],
   "source": [
    "# Make all names lower case\n",
    "metacritic_raw_df['Title'] = metacritic_raw_df['Title'].str.lower()\n",
    "# Remove all special characters\n",
    "metacritic_raw_df['Title'] = metacritic_raw_df['Title'].str.replace(r'[^\\x00-\\x7f]', '')\n",
    "# Remove all non-alpha-numeric\n",
    "metacritic_raw_df['Title'] = metacritic_raw_df['Title'].str.replace(r'[^\\w ]+', '')\n",
    "\n",
    "# Remove all duplicate whitespace\n",
    "metacritic_raw_df['Title'] = metacritic_raw_df['Title'].str.replace(r'\\s+', ' ')\n",
    "# Remove leading and trailing whitespace\n",
    "metacritic_raw_df['Title'] = metacritic_raw_df['Title'].str.strip(r' ')\n",
    "\n",
    "# # Convert roman numerals end sentence\n",
    "metacritic_raw_df['Title'] = metacritic_raw_df['Title'].str.replace(r' ii$', ' 2')\n",
    "metacritic_raw_df['Title'] = metacritic_raw_df['Title'].str.replace(r' iii$', ' 3')\n",
    "metacritic_raw_df['Title'] = metacritic_raw_df['Title'].str.replace(r' iv$', ' 4')\n",
    "metacritic_raw_df['Title'] = metacritic_raw_df['Title'].str.replace(r' v$', ' 5')\n",
    "metacritic_raw_df['Title'] = metacritic_raw_df['Title'].str.replace(r' vi$', ' 6')\n",
    "metacritic_raw_df['Title'] = metacritic_raw_df['Title'].str.replace(r' vii$', ' 7')\n",
    "metacritic_raw_df['Title'] = metacritic_raw_df['Title'].str.replace(r' viii$', ' 8')\n",
    "metacritic_raw_df['Title'] = metacritic_raw_df['Title'].str.replace(r' ix$', ' 9')\n",
    "metacritic_raw_df['Title'] = metacritic_raw_df['Title'].str.replace(r' x$', ' 10')\n",
    "metacritic_raw_df['Title'] = metacritic_raw_df['Title'].str.replace(r' xi$', '11')\n",
    "metacritic_raw_df['Title'] = metacritic_raw_df['Title'].str.replace(r' xii$', '12')\n",
    "metacritic_raw_df['Title'] = metacritic_raw_df['Title'].str.replace(r' xiii$', '13')\n",
    "metacritic_raw_df['Title'] = metacritic_raw_df['Title'].str.replace(r' xiv$', '14')\n",
    "\n",
    "\n",
    "# Remove all unwanted values from the remove_list\n",
    "metacritic_raw_df['Title'] = metacritic_raw_df['Title'].str.replace('|'.join(remove_list), '')\n",
    "\n",
    "# Replace all keys from the replace_dict with their values within the dataframe\n",
    "metacritic_raw_df['Title'] = metacritic_raw_df['Title'].replace(replace_dict, regex=True)"
   ]
  },
  {
   "cell_type": "code",
   "execution_count": null,
   "metadata": {},
   "outputs": [],
   "source": [
    "# Remove Redundant columns\n",
    "metacritic_raw_df = metacritic_raw_df.drop(['Publisher','Genre','Platform','No_Players', 'Unnamed: 0'], axis=1)\n",
    "metacritic_raw_df.head()"
   ]
  },
  {
   "cell_type": "code",
   "execution_count": null,
   "metadata": {},
   "outputs": [],
   "source": [
    "# Add prefix for easy ID downstream\n",
    "metacritic_raw_df = metacritic_raw_df.add_prefix('meta_')"
   ]
  },
  {
   "cell_type": "markdown",
   "metadata": {},
   "source": [
    "# steamspy_tag Load, transform, clean"
   ]
  },
  {
   "cell_type": "code",
   "execution_count": null,
   "metadata": {},
   "outputs": [],
   "source": [
    "# Read in and preview steamspy tag info\n",
    "steamspy_tag_raw_df = pd.read_csv('original_datasets/steamspy_tag_data.csv')\n",
    "print(steamspy_tag_raw_df.shape)\n",
    "# Add prefix for easy ID downstream\n",
    "steamspy_tag_raw_df = steamspy_tag_raw_df.add_prefix('st_spy_')"
   ]
  },
  {
   "cell_type": "code",
   "execution_count": null,
   "metadata": {},
   "outputs": [],
   "source": [
    "# Standardize string merge column to 'Game'\n",
    "steam_store_raw_df.rename(columns = {'st_name':'Game'}, inplace=True)\n",
    "metacritic_raw_df.rename(columns = {'meta_Title':'Game'}, inplace=True)\n",
    "twitch_raw_df.rename(columns = {'tw_Game':'Game'}, inplace=True)"
   ]
  },
  {
   "cell_type": "markdown",
   "metadata": {},
   "source": [
    "# FINAL MERGE"
   ]
  },
  {
   "cell_type": "code",
   "execution_count": null,
   "metadata": {},
   "outputs": [],
   "source": [
    "# Create list of dfs that will join on Game str\n",
    "str_join_dfs = [steam_store_raw_df, metacritic_raw_df, twitch_raw_df]"
   ]
  },
  {
   "cell_type": "code",
   "execution_count": null,
   "metadata": {},
   "outputs": [],
   "source": [
    "# String merge tables join\n",
    "from functools import reduce\n",
    "str_merge_df = reduce(lambda left,right: pd.merge(left,right,on='Game'),str_join_dfs)"
   ]
  },
  {
   "cell_type": "code",
   "execution_count": null,
   "metadata": {},
   "outputs": [],
   "source": [
    "print(str_merge_df.shape)"
   ]
  },
  {
   "cell_type": "code",
   "execution_count": null,
   "metadata": {},
   "outputs": [],
   "source": [
    "final_df = pd.merge(left=str_merge_df, right=steamspy_tag_raw_df, left_on='st_appid', right_on='st_spy_appid')"
   ]
  },
  {
   "cell_type": "code",
   "execution_count": null,
   "metadata": {},
   "outputs": [],
   "source": [
    "print(final_df.shape)\n",
    "final_df.head()"
   ]
  },
  {
   "cell_type": "code",
   "execution_count": null,
   "metadata": {},
   "outputs": [],
   "source": [
    "final_column_list = final_df.columns.values.tolist()\n",
    "final_column_list"
   ]
  },
  {
   "cell_type": "code",
   "execution_count": null,
   "metadata": {},
   "outputs": [],
   "source": [
    "# Find all columns with only 0 values for removal\n",
    "zero_only_df = final_df.loc[:, (final_df == 0).all()]\n",
    "zero_only_list = zero_only_df.columns.values.tolist()"
   ]
  },
  {
   "cell_type": "code",
   "execution_count": null,
   "metadata": {},
   "outputs": [],
   "source": [
    "print(zero_only_df.shape)"
   ]
  },
  {
   "cell_type": "code",
   "execution_count": null,
   "metadata": {},
   "outputs": [],
   "source": [
    "# # Remove Redundant columns\n",
    "final_df = final_df.drop(zero_only_list, axis=1)\n",
    "print(final_df.shape)\n",
    "final_df.head()"
   ]
  },
  {
   "cell_type": "code",
   "execution_count": null,
   "metadata": {},
   "outputs": [],
   "source": [
    "final_df.to_csv('for_ml_model.csv')"
   ]
  }
 ],
 "metadata": {
  "kernelspec": {
   "display_name": "PythonData",
   "language": "python",
   "name": "pythondata"
  },
  "language_info": {
   "codemirror_mode": {
    "name": "ipython",
    "version": 3
   },
   "file_extension": ".py",
   "mimetype": "text/x-python",
   "name": "python",
   "nbconvert_exporter": "python",
   "pygments_lexer": "ipython3",
   "version": "3.7.9"
  }
 },
 "nbformat": 4,
 "nbformat_minor": 4
}
