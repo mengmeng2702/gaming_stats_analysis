{
 "metadata": {
  "language_info": {
   "codemirror_mode": {
    "name": "ipython",
    "version": 3
   },
   "file_extension": ".py",
   "mimetype": "text/x-python",
   "name": "python",
   "nbconvert_exporter": "python",
   "pygments_lexer": "ipython3",
   "version": "3.6.8"
  },
  "orig_nbformat": 2,
  "kernelspec": {
   "name": "python368jvsc74a57bd0361fc911a978f5bb4a8b5da503390c92993de73f05684b43cbfb6730cbc1a2c5",
   "display_name": "Python 3.6.8 64-bit"
  },
  "metadata": {
   "interpreter": {
    "hash": "361fc911a978f5bb4a8b5da503390c92993de73f05684b43cbfb6730cbc1a2c5"
   }
  }
 },
 "nbformat": 4,
 "nbformat_minor": 2,
 "cells": [
  {
   "cell_type": "code",
   "execution_count": 1,
   "metadata": {},
   "outputs": [],
   "source": [
    "import pandas as pd"
   ]
  },
  {
   "cell_type": "code",
   "execution_count": 2,
   "metadata": {},
   "outputs": [],
   "source": [
    "df1 = pd.read_csv('steam_per_month_review_a.csv')"
   ]
  },
  {
   "cell_type": "code",
   "execution_count": 3,
   "metadata": {},
   "outputs": [],
   "source": [
    "df0 = pd.read_csv('steam_per_month_review.csv')"
   ]
  },
  {
   "cell_type": "code",
   "execution_count": 5,
   "metadata": {},
   "outputs": [],
   "source": [
    "name_0=set(df0['appid'])"
   ]
  },
  {
   "cell_type": "code",
   "execution_count": 7,
   "metadata": {},
   "outputs": [
    {
     "output_type": "execute_result",
     "data": {
      "text/plain": [
       "8183"
      ]
     },
     "metadata": {},
     "execution_count": 7
    }
   ],
   "source": [
    "len(name_0)"
   ]
  },
  {
   "cell_type": "code",
   "execution_count": 9,
   "metadata": {},
   "outputs": [],
   "source": [
    "name_1 = set(df1['app_id'])"
   ]
  },
  {
   "cell_type": "code",
   "execution_count": 11,
   "metadata": {},
   "outputs": [
    {
     "output_type": "execute_result",
     "data": {
      "text/plain": [
       "315"
      ]
     },
     "metadata": {},
     "execution_count": 11
    }
   ],
   "source": [
    "len(name_1)"
   ]
  },
  {
   "cell_type": "code",
   "execution_count": 13,
   "metadata": {},
   "outputs": [],
   "source": [
    "name_combined = name_0.union(name_1)"
   ]
  },
  {
   "cell_type": "code",
   "execution_count": 14,
   "metadata": {},
   "outputs": [
    {
     "output_type": "execute_result",
     "data": {
      "text/plain": [
       "8224"
      ]
     },
     "metadata": {},
     "execution_count": 14
    }
   ],
   "source": [
    "len(name_combined)"
   ]
  },
  {
   "cell_type": "code",
   "execution_count": 15,
   "metadata": {},
   "outputs": [
    {
     "output_type": "execute_result",
     "data": {
      "text/plain": [
       "         time  appid  review      playtime  voted_up\n",
       "0  2010-10-31     20       1    437.000000       1.0\n",
       "1  2010-10-31     70       1    339.000000       1.0\n",
       "2  2010-10-31     80       1   7992.000000       1.0\n",
       "3  2010-10-31    240       3  14632.666667       1.0\n",
       "4  2010-10-31    300       1   1684.000000       1.0"
      ],
      "text/html": "<div>\n<style scoped>\n    .dataframe tbody tr th:only-of-type {\n        vertical-align: middle;\n    }\n\n    .dataframe tbody tr th {\n        vertical-align: top;\n    }\n\n    .dataframe thead th {\n        text-align: right;\n    }\n</style>\n<table border=\"1\" class=\"dataframe\">\n  <thead>\n    <tr style=\"text-align: right;\">\n      <th></th>\n      <th>time</th>\n      <th>appid</th>\n      <th>review</th>\n      <th>playtime</th>\n      <th>voted_up</th>\n    </tr>\n  </thead>\n  <tbody>\n    <tr>\n      <th>0</th>\n      <td>2010-10-31</td>\n      <td>20</td>\n      <td>1</td>\n      <td>437.000000</td>\n      <td>1.0</td>\n    </tr>\n    <tr>\n      <th>1</th>\n      <td>2010-10-31</td>\n      <td>70</td>\n      <td>1</td>\n      <td>339.000000</td>\n      <td>1.0</td>\n    </tr>\n    <tr>\n      <th>2</th>\n      <td>2010-10-31</td>\n      <td>80</td>\n      <td>1</td>\n      <td>7992.000000</td>\n      <td>1.0</td>\n    </tr>\n    <tr>\n      <th>3</th>\n      <td>2010-10-31</td>\n      <td>240</td>\n      <td>3</td>\n      <td>14632.666667</td>\n      <td>1.0</td>\n    </tr>\n    <tr>\n      <th>4</th>\n      <td>2010-10-31</td>\n      <td>300</td>\n      <td>1</td>\n      <td>1684.000000</td>\n      <td>1.0</td>\n    </tr>\n  </tbody>\n</table>\n</div>"
     },
     "metadata": {},
     "execution_count": 15
    }
   ],
   "source": [
    "df0.head()"
   ]
  },
  {
   "cell_type": "code",
   "execution_count": 16,
   "metadata": {},
   "outputs": [
    {
     "output_type": "execute_result",
     "data": {
      "text/plain": [
       "         time  app_id  review      playtime  voted_up\n",
       "0  2010-11-30      70      20   1214.894737  1.000000\n",
       "1  2010-11-30     240     139  50557.539568  1.000000\n",
       "2  2010-11-30     420      19    826.666667  1.000000\n",
       "3  2010-11-30    4000     219  66743.876712  0.995434\n",
       "4  2010-11-30    8930      28  13162.214286  1.000000"
      ],
      "text/html": "<div>\n<style scoped>\n    .dataframe tbody tr th:only-of-type {\n        vertical-align: middle;\n    }\n\n    .dataframe tbody tr th {\n        vertical-align: top;\n    }\n\n    .dataframe thead th {\n        text-align: right;\n    }\n</style>\n<table border=\"1\" class=\"dataframe\">\n  <thead>\n    <tr style=\"text-align: right;\">\n      <th></th>\n      <th>time</th>\n      <th>app_id</th>\n      <th>review</th>\n      <th>playtime</th>\n      <th>voted_up</th>\n    </tr>\n  </thead>\n  <tbody>\n    <tr>\n      <th>0</th>\n      <td>2010-11-30</td>\n      <td>70</td>\n      <td>20</td>\n      <td>1214.894737</td>\n      <td>1.000000</td>\n    </tr>\n    <tr>\n      <th>1</th>\n      <td>2010-11-30</td>\n      <td>240</td>\n      <td>139</td>\n      <td>50557.539568</td>\n      <td>1.000000</td>\n    </tr>\n    <tr>\n      <th>2</th>\n      <td>2010-11-30</td>\n      <td>420</td>\n      <td>19</td>\n      <td>826.666667</td>\n      <td>1.000000</td>\n    </tr>\n    <tr>\n      <th>3</th>\n      <td>2010-11-30</td>\n      <td>4000</td>\n      <td>219</td>\n      <td>66743.876712</td>\n      <td>0.995434</td>\n    </tr>\n    <tr>\n      <th>4</th>\n      <td>2010-11-30</td>\n      <td>8930</td>\n      <td>28</td>\n      <td>13162.214286</td>\n      <td>1.000000</td>\n    </tr>\n  </tbody>\n</table>\n</div>"
     },
     "metadata": {},
     "execution_count": 16
    }
   ],
   "source": [
    "df1.head()"
   ]
  },
  {
   "cell_type": "code",
   "execution_count": 17,
   "metadata": {},
   "outputs": [],
   "source": [
    "df1.columns = ['time','appid','review','playtime','voted_up']"
   ]
  },
  {
   "cell_type": "code",
   "execution_count": 18,
   "metadata": {},
   "outputs": [
    {
     "output_type": "execute_result",
     "data": {
      "text/plain": [
       "         time  appid  review      playtime  voted_up\n",
       "0  2010-11-30     70      20   1214.894737  1.000000\n",
       "1  2010-11-30    240     139  50557.539568  1.000000\n",
       "2  2010-11-30    420      19    826.666667  1.000000\n",
       "3  2010-11-30   4000     219  66743.876712  0.995434\n",
       "4  2010-11-30   8930      28  13162.214286  1.000000"
      ],
      "text/html": "<div>\n<style scoped>\n    .dataframe tbody tr th:only-of-type {\n        vertical-align: middle;\n    }\n\n    .dataframe tbody tr th {\n        vertical-align: top;\n    }\n\n    .dataframe thead th {\n        text-align: right;\n    }\n</style>\n<table border=\"1\" class=\"dataframe\">\n  <thead>\n    <tr style=\"text-align: right;\">\n      <th></th>\n      <th>time</th>\n      <th>appid</th>\n      <th>review</th>\n      <th>playtime</th>\n      <th>voted_up</th>\n    </tr>\n  </thead>\n  <tbody>\n    <tr>\n      <th>0</th>\n      <td>2010-11-30</td>\n      <td>70</td>\n      <td>20</td>\n      <td>1214.894737</td>\n      <td>1.000000</td>\n    </tr>\n    <tr>\n      <th>1</th>\n      <td>2010-11-30</td>\n      <td>240</td>\n      <td>139</td>\n      <td>50557.539568</td>\n      <td>1.000000</td>\n    </tr>\n    <tr>\n      <th>2</th>\n      <td>2010-11-30</td>\n      <td>420</td>\n      <td>19</td>\n      <td>826.666667</td>\n      <td>1.000000</td>\n    </tr>\n    <tr>\n      <th>3</th>\n      <td>2010-11-30</td>\n      <td>4000</td>\n      <td>219</td>\n      <td>66743.876712</td>\n      <td>0.995434</td>\n    </tr>\n    <tr>\n      <th>4</th>\n      <td>2010-11-30</td>\n      <td>8930</td>\n      <td>28</td>\n      <td>13162.214286</td>\n      <td>1.000000</td>\n    </tr>\n  </tbody>\n</table>\n</div>"
     },
     "metadata": {},
     "execution_count": 18
    }
   ],
   "source": [
    "df1.head()"
   ]
  },
  {
   "cell_type": "code",
   "execution_count": 20,
   "metadata": {},
   "outputs": [],
   "source": [
    "df_merged = df0.merge(df1, on=['time','appid'], how='outer')"
   ]
  },
  {
   "cell_type": "code",
   "execution_count": 21,
   "metadata": {},
   "outputs": [
    {
     "output_type": "execute_result",
     "data": {
      "text/plain": [
       "              time    appid  review_x    playtime_x  voted_up_x  review_y  \\\n",
       "0       2010-10-31       20       1.0    437.000000         1.0       NaN   \n",
       "1       2010-10-31       70       1.0    339.000000         1.0       NaN   \n",
       "2       2010-10-31       80       1.0   7992.000000         1.0       NaN   \n",
       "3       2010-10-31      240       3.0  14632.666667         1.0       NaN   \n",
       "4       2010-10-31      300       1.0   1684.000000         1.0       NaN   \n",
       "...            ...      ...       ...           ...         ...       ...   \n",
       "379216  2021-01-31  1225330       NaN           NaN         NaN    1932.0   \n",
       "379217  2021-01-31  1229490       NaN           NaN         NaN     611.0   \n",
       "379218  2021-01-31  1240210       NaN           NaN         NaN     962.0   \n",
       "379219  2021-01-31  1289310       NaN           NaN         NaN    1864.0   \n",
       "379220  2021-01-31  1291340       NaN           NaN         NaN     427.0   \n",
       "\n",
       "         playtime_y  voted_up_y  \n",
       "0               NaN         NaN  \n",
       "1               NaN         NaN  \n",
       "2               NaN         NaN  \n",
       "3               NaN         NaN  \n",
       "4               NaN         NaN  \n",
       "...             ...         ...  \n",
       "379216  3552.997419    0.446051  \n",
       "379217   475.193126    1.000000  \n",
       "379218   384.567568    0.974012  \n",
       "379219   178.344051    0.965702  \n",
       "379220   241.918033    0.960187  \n",
       "\n",
       "[379221 rows x 8 columns]"
      ],
      "text/html": "<div>\n<style scoped>\n    .dataframe tbody tr th:only-of-type {\n        vertical-align: middle;\n    }\n\n    .dataframe tbody tr th {\n        vertical-align: top;\n    }\n\n    .dataframe thead th {\n        text-align: right;\n    }\n</style>\n<table border=\"1\" class=\"dataframe\">\n  <thead>\n    <tr style=\"text-align: right;\">\n      <th></th>\n      <th>time</th>\n      <th>appid</th>\n      <th>review_x</th>\n      <th>playtime_x</th>\n      <th>voted_up_x</th>\n      <th>review_y</th>\n      <th>playtime_y</th>\n      <th>voted_up_y</th>\n    </tr>\n  </thead>\n  <tbody>\n    <tr>\n      <th>0</th>\n      <td>2010-10-31</td>\n      <td>20</td>\n      <td>1.0</td>\n      <td>437.000000</td>\n      <td>1.0</td>\n      <td>NaN</td>\n      <td>NaN</td>\n      <td>NaN</td>\n    </tr>\n    <tr>\n      <th>1</th>\n      <td>2010-10-31</td>\n      <td>70</td>\n      <td>1.0</td>\n      <td>339.000000</td>\n      <td>1.0</td>\n      <td>NaN</td>\n      <td>NaN</td>\n      <td>NaN</td>\n    </tr>\n    <tr>\n      <th>2</th>\n      <td>2010-10-31</td>\n      <td>80</td>\n      <td>1.0</td>\n      <td>7992.000000</td>\n      <td>1.0</td>\n      <td>NaN</td>\n      <td>NaN</td>\n      <td>NaN</td>\n    </tr>\n    <tr>\n      <th>3</th>\n      <td>2010-10-31</td>\n      <td>240</td>\n      <td>3.0</td>\n      <td>14632.666667</td>\n      <td>1.0</td>\n      <td>NaN</td>\n      <td>NaN</td>\n      <td>NaN</td>\n    </tr>\n    <tr>\n      <th>4</th>\n      <td>2010-10-31</td>\n      <td>300</td>\n      <td>1.0</td>\n      <td>1684.000000</td>\n      <td>1.0</td>\n      <td>NaN</td>\n      <td>NaN</td>\n      <td>NaN</td>\n    </tr>\n    <tr>\n      <th>...</th>\n      <td>...</td>\n      <td>...</td>\n      <td>...</td>\n      <td>...</td>\n      <td>...</td>\n      <td>...</td>\n      <td>...</td>\n      <td>...</td>\n    </tr>\n    <tr>\n      <th>379216</th>\n      <td>2021-01-31</td>\n      <td>1225330</td>\n      <td>NaN</td>\n      <td>NaN</td>\n      <td>NaN</td>\n      <td>1932.0</td>\n      <td>3552.997419</td>\n      <td>0.446051</td>\n    </tr>\n    <tr>\n      <th>379217</th>\n      <td>2021-01-31</td>\n      <td>1229490</td>\n      <td>NaN</td>\n      <td>NaN</td>\n      <td>NaN</td>\n      <td>611.0</td>\n      <td>475.193126</td>\n      <td>1.000000</td>\n    </tr>\n    <tr>\n      <th>379218</th>\n      <td>2021-01-31</td>\n      <td>1240210</td>\n      <td>NaN</td>\n      <td>NaN</td>\n      <td>NaN</td>\n      <td>962.0</td>\n      <td>384.567568</td>\n      <td>0.974012</td>\n    </tr>\n    <tr>\n      <th>379219</th>\n      <td>2021-01-31</td>\n      <td>1289310</td>\n      <td>NaN</td>\n      <td>NaN</td>\n      <td>NaN</td>\n      <td>1864.0</td>\n      <td>178.344051</td>\n      <td>0.965702</td>\n    </tr>\n    <tr>\n      <th>379220</th>\n      <td>2021-01-31</td>\n      <td>1291340</td>\n      <td>NaN</td>\n      <td>NaN</td>\n      <td>NaN</td>\n      <td>427.0</td>\n      <td>241.918033</td>\n      <td>0.960187</td>\n    </tr>\n  </tbody>\n</table>\n<p>379221 rows × 8 columns</p>\n</div>"
     },
     "metadata": {},
     "execution_count": 21
    }
   ],
   "source": [
    "df_merged"
   ]
  },
  {
   "cell_type": "code",
   "execution_count": 23,
   "metadata": {},
   "outputs": [],
   "source": [
    "df_merged['x_true']=pd.notna(df_merged['review_x'])"
   ]
  },
  {
   "cell_type": "code",
   "execution_count": 24,
   "metadata": {},
   "outputs": [],
   "source": [
    "df_merged['y_true']=pd.notna(df_merged['review_y'])"
   ]
  },
  {
   "cell_type": "code",
   "execution_count": 26,
   "metadata": {},
   "outputs": [],
   "source": [
    "df_merged['review']=df_merged[['review_x','review_y','x_true','y_true']].apply(lambda x : x[0] if x[2] else x[1], axis=1)\n",
    "df_merged['playtime']=df_merged[['playtime_x','playtime_y','x_true','y_true']].apply(lambda x : x[0] if x[2] else x[1], axis=1)\n",
    "df_merged['voted_up']=df_merged[['voted_up_x','voted_up_y','x_true','y_true']].apply(lambda x : x[0] if x[2] else x[1], axis=1)"
   ]
  },
  {
   "cell_type": "code",
   "execution_count": 28,
   "metadata": {},
   "outputs": [],
   "source": [
    "df_output=df_merged[['time','appid','review','playtime','voted_up']]"
   ]
  },
  {
   "cell_type": "code",
   "execution_count": 29,
   "metadata": {},
   "outputs": [
    {
     "output_type": "stream",
     "name": "stderr",
     "text": [
      "ipykernel_launcher:1: SettingWithCopyWarning: \nA value is trying to be set on a copy of a slice from a DataFrame\n\nSee the caveats in the documentation: https://pandas.pydata.org/pandas-docs/stable/user_guide/indexing.html#returning-a-view-versus-a-copy\n"
     ]
    }
   ],
   "source": [
    "df_output.sort_values(['time','appid'], inplace=True)"
   ]
  },
  {
   "cell_type": "code",
   "execution_count": 30,
   "metadata": {},
   "outputs": [
    {
     "output_type": "execute_result",
     "data": {
      "text/plain": [
       "              time    appid  review      playtime  voted_up\n",
       "0       2010-10-31       20     1.0    437.000000  1.000000\n",
       "1       2010-10-31       70     1.0    339.000000  1.000000\n",
       "2       2010-10-31       80     1.0   7992.000000  1.000000\n",
       "3       2010-10-31      240     3.0  14632.666667  1.000000\n",
       "4       2010-10-31      300     1.0   1684.000000  1.000000\n",
       "...            ...      ...     ...           ...       ...\n",
       "377785  2021-04-30  1031480     5.0   1951.800000  1.000000\n",
       "377786  2021-04-30  1032430    43.0    364.604651  0.744186\n",
       "377787  2021-04-30  1035610     5.0    235.200000  0.800000\n",
       "377788  2021-04-30  1046030    91.0    862.505495  0.923077\n",
       "377789  2021-04-30  1051310     3.0    242.000000  0.666667\n",
       "\n",
       "[379221 rows x 5 columns]"
      ],
      "text/html": "<div>\n<style scoped>\n    .dataframe tbody tr th:only-of-type {\n        vertical-align: middle;\n    }\n\n    .dataframe tbody tr th {\n        vertical-align: top;\n    }\n\n    .dataframe thead th {\n        text-align: right;\n    }\n</style>\n<table border=\"1\" class=\"dataframe\">\n  <thead>\n    <tr style=\"text-align: right;\">\n      <th></th>\n      <th>time</th>\n      <th>appid</th>\n      <th>review</th>\n      <th>playtime</th>\n      <th>voted_up</th>\n    </tr>\n  </thead>\n  <tbody>\n    <tr>\n      <th>0</th>\n      <td>2010-10-31</td>\n      <td>20</td>\n      <td>1.0</td>\n      <td>437.000000</td>\n      <td>1.000000</td>\n    </tr>\n    <tr>\n      <th>1</th>\n      <td>2010-10-31</td>\n      <td>70</td>\n      <td>1.0</td>\n      <td>339.000000</td>\n      <td>1.000000</td>\n    </tr>\n    <tr>\n      <th>2</th>\n      <td>2010-10-31</td>\n      <td>80</td>\n      <td>1.0</td>\n      <td>7992.000000</td>\n      <td>1.000000</td>\n    </tr>\n    <tr>\n      <th>3</th>\n      <td>2010-10-31</td>\n      <td>240</td>\n      <td>3.0</td>\n      <td>14632.666667</td>\n      <td>1.000000</td>\n    </tr>\n    <tr>\n      <th>4</th>\n      <td>2010-10-31</td>\n      <td>300</td>\n      <td>1.0</td>\n      <td>1684.000000</td>\n      <td>1.000000</td>\n    </tr>\n    <tr>\n      <th>...</th>\n      <td>...</td>\n      <td>...</td>\n      <td>...</td>\n      <td>...</td>\n      <td>...</td>\n    </tr>\n    <tr>\n      <th>377785</th>\n      <td>2021-04-30</td>\n      <td>1031480</td>\n      <td>5.0</td>\n      <td>1951.800000</td>\n      <td>1.000000</td>\n    </tr>\n    <tr>\n      <th>377786</th>\n      <td>2021-04-30</td>\n      <td>1032430</td>\n      <td>43.0</td>\n      <td>364.604651</td>\n      <td>0.744186</td>\n    </tr>\n    <tr>\n      <th>377787</th>\n      <td>2021-04-30</td>\n      <td>1035610</td>\n      <td>5.0</td>\n      <td>235.200000</td>\n      <td>0.800000</td>\n    </tr>\n    <tr>\n      <th>377788</th>\n      <td>2021-04-30</td>\n      <td>1046030</td>\n      <td>91.0</td>\n      <td>862.505495</td>\n      <td>0.923077</td>\n    </tr>\n    <tr>\n      <th>377789</th>\n      <td>2021-04-30</td>\n      <td>1051310</td>\n      <td>3.0</td>\n      <td>242.000000</td>\n      <td>0.666667</td>\n    </tr>\n  </tbody>\n</table>\n<p>379221 rows × 5 columns</p>\n</div>"
     },
     "metadata": {},
     "execution_count": 30
    }
   ],
   "source": [
    "df_output"
   ]
  },
  {
   "cell_type": "code",
   "execution_count": 31,
   "metadata": {},
   "outputs": [],
   "source": [
    "df_output.to_csv('steam_per_month_review_merged.csv')"
   ]
  },
  {
   "cell_type": "code",
   "execution_count": null,
   "metadata": {},
   "outputs": [],
   "source": []
  }
 ]
}