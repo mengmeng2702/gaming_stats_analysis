{
 "metadata": {
  "language_info": {
   "codemirror_mode": {
    "name": "ipython",
    "version": 3
   },
   "file_extension": ".py",
   "mimetype": "text/x-python",
   "name": "python",
   "nbconvert_exporter": "python",
   "pygments_lexer": "ipython3",
   "version": "3.6.8"
  },
  "orig_nbformat": 2,
  "kernelspec": {
   "name": "python368jvsc74a57bd0361fc911a978f5bb4a8b5da503390c92993de73f05684b43cbfb6730cbc1a2c5",
   "display_name": "Python 3.6.8 64-bit"
  },
  "metadata": {
   "interpreter": {
    "hash": "361fc911a978f5bb4a8b5da503390c92993de73f05684b43cbfb6730cbc1a2c5"
   }
  }
 },
 "nbformat": 4,
 "nbformat_minor": 2,
 "cells": [
  {
   "cell_type": "code",
   "execution_count": 1,
   "metadata": {},
   "outputs": [],
   "source": [
    "import pandas as pd"
   ]
  },
  {
   "cell_type": "code",
   "execution_count": 2,
   "metadata": {},
   "outputs": [],
   "source": [
    "# load the big file into memory\r\n",
    "# again this is very memory consuming, and I think there is some better way to do it\r\n",
    "df = pd.read_csv('steam_raw.csv')"
   ]
  },
  {
   "cell_type": "code",
   "execution_count": 3,
   "metadata": {},
   "outputs": [
    {
     "output_type": "execute_result",
     "data": {
      "text/plain": [
       "   Unnamed: 0            steamid  appid  voted_up  votes_up  votes_funny  \\\n",
       "0           0  76561198107294407     10      True         0            0   \n",
       "1           1  76561198011733201     10      True         0            0   \n",
       "2           2  76561198168961276     10      True         0            0   \n",
       "3           3  76561198957877160     10      True         0            0   \n",
       "4           4  76561199050314447     10      True         0            0   \n",
       "5           5  76561198888512591     10      True         0            0   \n",
       "6           6  76561199161043109     10      True         0            0   \n",
       "7           7  76561199057736010     10      True         0            0   \n",
       "8           8  76561198800558753     10      True         0            0   \n",
       "9           9  76561199010296112     10      True         0            0   \n",
       "\n",
       "   weighted_vote_score  playtime_forever  playtime_at_review  num_games_owned  \\\n",
       "0                  0.0              8549                8549                3   \n",
       "1                  0.0             25381               25381               74   \n",
       "2                  0.0               681                 616               26   \n",
       "3                  0.0              2071                1990                5   \n",
       "4                  0.0             36718               36718                3   \n",
       "5                  0.0              1108                1108               24   \n",
       "6                  0.0              2346                1700                3   \n",
       "7                  0.0             10149               10149                9   \n",
       "8                  0.0              1191                 964               15   \n",
       "9                  0.0               145                  51                6   \n",
       "\n",
       "   num_reviews                                             review  \\\n",
       "0            1                         best gameplay ever created   \n",
       "1            1                         Timeless. Thank you volvo.   \n",
       "2            6  this game literally made me love guns and fps ...   \n",
       "3            1  If this gets a rework in 2021 it's going to be...   \n",
       "4            1                                                 ok   \n",
       "5           11  It's been a long day without you, my friend\\nA...   \n",
       "6            1                                            love it   \n",
       "7            3                                                old   \n",
       "8            1                                     old is gold :)   \n",
       "9            7  Counter Strike is a game that well, is Gold bu...   \n",
       "\n",
       "   unix_timestamp_created  unix_timestamp_updated  \n",
       "0              1619038050              1619038050  \n",
       "1              1619013754              1619013754  \n",
       "2              1619008681              1619008681  \n",
       "3              1619003706              1619003706  \n",
       "4              1618994842              1618994842  \n",
       "5              1618988018              1618988018  \n",
       "6              1618985600              1618985600  \n",
       "7              1618966033              1618966033  \n",
       "8              1618965435              1618965435  \n",
       "9              1618954290              1618954290  "
      ],
      "text/html": "<div>\n<style scoped>\n    .dataframe tbody tr th:only-of-type {\n        vertical-align: middle;\n    }\n\n    .dataframe tbody tr th {\n        vertical-align: top;\n    }\n\n    .dataframe thead th {\n        text-align: right;\n    }\n</style>\n<table border=\"1\" class=\"dataframe\">\n  <thead>\n    <tr style=\"text-align: right;\">\n      <th></th>\n      <th>Unnamed: 0</th>\n      <th>steamid</th>\n      <th>appid</th>\n      <th>voted_up</th>\n      <th>votes_up</th>\n      <th>votes_funny</th>\n      <th>weighted_vote_score</th>\n      <th>playtime_forever</th>\n      <th>playtime_at_review</th>\n      <th>num_games_owned</th>\n      <th>num_reviews</th>\n      <th>review</th>\n      <th>unix_timestamp_created</th>\n      <th>unix_timestamp_updated</th>\n    </tr>\n  </thead>\n  <tbody>\n    <tr>\n      <th>0</th>\n      <td>0</td>\n      <td>76561198107294407</td>\n      <td>10</td>\n      <td>True</td>\n      <td>0</td>\n      <td>0</td>\n      <td>0.0</td>\n      <td>8549</td>\n      <td>8549</td>\n      <td>3</td>\n      <td>1</td>\n      <td>best gameplay ever created</td>\n      <td>1619038050</td>\n      <td>1619038050</td>\n    </tr>\n    <tr>\n      <th>1</th>\n      <td>1</td>\n      <td>76561198011733201</td>\n      <td>10</td>\n      <td>True</td>\n      <td>0</td>\n      <td>0</td>\n      <td>0.0</td>\n      <td>25381</td>\n      <td>25381</td>\n      <td>74</td>\n      <td>1</td>\n      <td>Timeless. Thank you volvo.</td>\n      <td>1619013754</td>\n      <td>1619013754</td>\n    </tr>\n    <tr>\n      <th>2</th>\n      <td>2</td>\n      <td>76561198168961276</td>\n      <td>10</td>\n      <td>True</td>\n      <td>0</td>\n      <td>0</td>\n      <td>0.0</td>\n      <td>681</td>\n      <td>616</td>\n      <td>26</td>\n      <td>6</td>\n      <td>this game literally made me love guns and fps ...</td>\n      <td>1619008681</td>\n      <td>1619008681</td>\n    </tr>\n    <tr>\n      <th>3</th>\n      <td>3</td>\n      <td>76561198957877160</td>\n      <td>10</td>\n      <td>True</td>\n      <td>0</td>\n      <td>0</td>\n      <td>0.0</td>\n      <td>2071</td>\n      <td>1990</td>\n      <td>5</td>\n      <td>1</td>\n      <td>If this gets a rework in 2021 it's going to be...</td>\n      <td>1619003706</td>\n      <td>1619003706</td>\n    </tr>\n    <tr>\n      <th>4</th>\n      <td>4</td>\n      <td>76561199050314447</td>\n      <td>10</td>\n      <td>True</td>\n      <td>0</td>\n      <td>0</td>\n      <td>0.0</td>\n      <td>36718</td>\n      <td>36718</td>\n      <td>3</td>\n      <td>1</td>\n      <td>ok</td>\n      <td>1618994842</td>\n      <td>1618994842</td>\n    </tr>\n    <tr>\n      <th>5</th>\n      <td>5</td>\n      <td>76561198888512591</td>\n      <td>10</td>\n      <td>True</td>\n      <td>0</td>\n      <td>0</td>\n      <td>0.0</td>\n      <td>1108</td>\n      <td>1108</td>\n      <td>24</td>\n      <td>11</td>\n      <td>It's been a long day without you, my friend\\nA...</td>\n      <td>1618988018</td>\n      <td>1618988018</td>\n    </tr>\n    <tr>\n      <th>6</th>\n      <td>6</td>\n      <td>76561199161043109</td>\n      <td>10</td>\n      <td>True</td>\n      <td>0</td>\n      <td>0</td>\n      <td>0.0</td>\n      <td>2346</td>\n      <td>1700</td>\n      <td>3</td>\n      <td>1</td>\n      <td>love it</td>\n      <td>1618985600</td>\n      <td>1618985600</td>\n    </tr>\n    <tr>\n      <th>7</th>\n      <td>7</td>\n      <td>76561199057736010</td>\n      <td>10</td>\n      <td>True</td>\n      <td>0</td>\n      <td>0</td>\n      <td>0.0</td>\n      <td>10149</td>\n      <td>10149</td>\n      <td>9</td>\n      <td>3</td>\n      <td>old</td>\n      <td>1618966033</td>\n      <td>1618966033</td>\n    </tr>\n    <tr>\n      <th>8</th>\n      <td>8</td>\n      <td>76561198800558753</td>\n      <td>10</td>\n      <td>True</td>\n      <td>0</td>\n      <td>0</td>\n      <td>0.0</td>\n      <td>1191</td>\n      <td>964</td>\n      <td>15</td>\n      <td>1</td>\n      <td>old is gold :)</td>\n      <td>1618965435</td>\n      <td>1618965435</td>\n    </tr>\n    <tr>\n      <th>9</th>\n      <td>9</td>\n      <td>76561199010296112</td>\n      <td>10</td>\n      <td>True</td>\n      <td>0</td>\n      <td>0</td>\n      <td>0.0</td>\n      <td>145</td>\n      <td>51</td>\n      <td>6</td>\n      <td>7</td>\n      <td>Counter Strike is a game that well, is Gold bu...</td>\n      <td>1618954290</td>\n      <td>1618954290</td>\n    </tr>\n  </tbody>\n</table>\n</div>"
     },
     "metadata": {},
     "execution_count": 3
    }
   ],
   "source": [
    "df.head(10)"
   ]
  },
  {
   "cell_type": "code",
   "execution_count": 4,
   "metadata": {},
   "outputs": [
    {
     "output_type": "execute_result",
     "data": {
      "text/plain": [
       "Unnamed: 0                  int64\n",
       "steamid                     int64\n",
       "appid                       int64\n",
       "voted_up                     bool\n",
       "votes_up                    int64\n",
       "votes_funny                 int64\n",
       "weighted_vote_score       float64\n",
       "playtime_forever            int64\n",
       "playtime_at_review          int64\n",
       "num_games_owned             int64\n",
       "num_reviews                 int64\n",
       "review                     object\n",
       "unix_timestamp_created      int64\n",
       "unix_timestamp_updated      int64\n",
       "dtype: object"
      ]
     },
     "metadata": {},
     "execution_count": 4
    }
   ],
   "source": [
    "df.dtypes"
   ]
  },
  {
   "cell_type": "code",
   "execution_count": 6,
   "metadata": {},
   "outputs": [
    {
     "output_type": "execute_result",
     "data": {
      "text/plain": [
       "0   2021-04-21 20:47:30\n",
       "1   2021-04-21 14:02:34\n",
       "2   2021-04-21 12:38:01\n",
       "3   2021-04-21 11:15:06\n",
       "4   2021-04-21 08:47:22\n",
       "5   2021-04-21 06:53:38\n",
       "6   2021-04-21 06:13:20\n",
       "7   2021-04-21 00:47:13\n",
       "8   2021-04-21 00:37:15\n",
       "9   2021-04-20 21:31:30\n",
       "Name: time, dtype: datetime64[ns]"
      ]
     },
     "metadata": {},
     "execution_count": 6
    }
   ],
   "source": [
    "# turn the unix time into readable datetime\n",
    "df['time']=pd.to_datetime(df['unix_timestamp_created'],unit='s')\n",
    "df['time'].head(10)"
   ]
  },
  {
   "cell_type": "code",
   "execution_count": 8,
   "metadata": {},
   "outputs": [
    {
     "output_type": "execute_result",
     "data": {
      "text/plain": [
       "Timestamp('2021-04-23 04:35:33')"
      ]
     },
     "metadata": {},
     "execution_count": 8
    }
   ],
   "source": [
    "df['time'].max()"
   ]
  },
  {
   "cell_type": "code",
   "execution_count": 9,
   "metadata": {},
   "outputs": [],
   "source": [
    "# Grouping all the comments by month\n",
    "counter = df.groupby([pd.Grouper(key=\"time\", freq=\"1M\", origin='2011-01-01'),pd.Grouper('appid')])"
   ]
  },
  {
   "cell_type": "code",
   "execution_count": 10,
   "metadata": {},
   "outputs": [],
   "source": [
    "# generating the monthly review number\n",
    "review = counter.count()['review']"
   ]
  },
  {
   "cell_type": "code",
   "execution_count": 11,
   "metadata": {},
   "outputs": [],
   "source": [
    "# generating the average playtime of user\n",
    "# there is a version for playtime in last two weeks in another dataset, and I think that is way better than playtime at review, but this dataset has more game\n",
    "playtime_at_review = counter.mean()['playtime_at_review']"
   ]
  },
  {
   "cell_type": "code",
   "execution_count": 12,
   "metadata": {},
   "outputs": [],
   "source": [
    "# generating the monthly upvote rate for each game\n",
    "voted_up = counter.mean()['voted_up']"
   ]
  },
  {
   "cell_type": "code",
   "execution_count": 13,
   "metadata": {},
   "outputs": [
    {
     "output_type": "execute_result",
     "data": {
      "text/plain": [
       "                    review      playtime  voted_up\n",
       "time       appid                                  \n",
       "2010-10-31 20            1    437.000000  1.000000\n",
       "           70            1    339.000000  1.000000\n",
       "           80            1   7992.000000  1.000000\n",
       "           240           3  14632.666667  1.000000\n",
       "           300           1   1684.000000  1.000000\n",
       "...                    ...           ...       ...\n",
       "2021-04-30 1031480       5   1951.800000  1.000000\n",
       "           1032430      43    364.604651  0.744186\n",
       "           1035610       5    235.200000  0.800000\n",
       "           1046030      91    862.505495  0.923077\n",
       "           1051310       3    242.000000  0.666667\n",
       "\n",
       "[377790 rows x 3 columns]"
      ],
      "text/html": "<div>\n<style scoped>\n    .dataframe tbody tr th:only-of-type {\n        vertical-align: middle;\n    }\n\n    .dataframe tbody tr th {\n        vertical-align: top;\n    }\n\n    .dataframe thead th {\n        text-align: right;\n    }\n</style>\n<table border=\"1\" class=\"dataframe\">\n  <thead>\n    <tr style=\"text-align: right;\">\n      <th></th>\n      <th></th>\n      <th>review</th>\n      <th>playtime</th>\n      <th>voted_up</th>\n    </tr>\n    <tr>\n      <th>time</th>\n      <th>appid</th>\n      <th></th>\n      <th></th>\n      <th></th>\n    </tr>\n  </thead>\n  <tbody>\n    <tr>\n      <th rowspan=\"5\" valign=\"top\">2010-10-31</th>\n      <th>20</th>\n      <td>1</td>\n      <td>437.000000</td>\n      <td>1.000000</td>\n    </tr>\n    <tr>\n      <th>70</th>\n      <td>1</td>\n      <td>339.000000</td>\n      <td>1.000000</td>\n    </tr>\n    <tr>\n      <th>80</th>\n      <td>1</td>\n      <td>7992.000000</td>\n      <td>1.000000</td>\n    </tr>\n    <tr>\n      <th>240</th>\n      <td>3</td>\n      <td>14632.666667</td>\n      <td>1.000000</td>\n    </tr>\n    <tr>\n      <th>300</th>\n      <td>1</td>\n      <td>1684.000000</td>\n      <td>1.000000</td>\n    </tr>\n    <tr>\n      <th>...</th>\n      <th>...</th>\n      <td>...</td>\n      <td>...</td>\n      <td>...</td>\n    </tr>\n    <tr>\n      <th rowspan=\"5\" valign=\"top\">2021-04-30</th>\n      <th>1031480</th>\n      <td>5</td>\n      <td>1951.800000</td>\n      <td>1.000000</td>\n    </tr>\n    <tr>\n      <th>1032430</th>\n      <td>43</td>\n      <td>364.604651</td>\n      <td>0.744186</td>\n    </tr>\n    <tr>\n      <th>1035610</th>\n      <td>5</td>\n      <td>235.200000</td>\n      <td>0.800000</td>\n    </tr>\n    <tr>\n      <th>1046030</th>\n      <td>91</td>\n      <td>862.505495</td>\n      <td>0.923077</td>\n    </tr>\n    <tr>\n      <th>1051310</th>\n      <td>3</td>\n      <td>242.000000</td>\n      <td>0.666667</td>\n    </tr>\n  </tbody>\n</table>\n<p>377790 rows × 3 columns</p>\n</div>"
     },
     "metadata": {},
     "execution_count": 13
    }
   ],
   "source": [
    "# putting everything into a dataframe\n",
    "df_flat = pd.DataFrame({'review':review, 'playtime': playtime_at_review, 'voted_up': voted_up})\n",
    "df_flat"
   ]
  },
  {
   "cell_type": "code",
   "execution_count": 15,
   "metadata": {},
   "outputs": [],
   "source": [
    "# save the dataframe to a csv file\n",
    "df_flat.to_csv('steam_per_month_review.csv')"
   ]
  },
  {
   "cell_type": "code",
   "execution_count": null,
   "metadata": {},
   "outputs": [],
   "source": []
  }
 ]
}