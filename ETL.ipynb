{
 "cells": [
  {
   "cell_type": "code",
   "execution_count": 1,
   "metadata": {},
   "outputs": [],
   "source": [
    "# Import the requests library\n",
    "import pandas as pd\n",
    "import re"
   ]
  },
  {
   "cell_type": "markdown",
   "metadata": {},
   "source": [
    "# Steam_store_data Load, transform, clean"
   ]
  },
  {
   "cell_type": "code",
   "execution_count": 2,
   "metadata": {},
   "outputs": [
    {
     "name": "stdout",
     "output_type": "stream",
     "text": [
      "(27075, 18)\n"
     ]
    },
    {
     "data": {
      "text/html": "<div>\n<style scoped>\n    .dataframe tbody tr th:only-of-type {\n        vertical-align: middle;\n    }\n\n    .dataframe tbody tr th {\n        vertical-align: top;\n    }\n\n    .dataframe thead th {\n        text-align: right;\n    }\n</style>\n<table border=\"1\" class=\"dataframe\">\n  <thead>\n    <tr style=\"text-align: right;\">\n      <th></th>\n      <th>appid</th>\n      <th>name</th>\n      <th>release_date</th>\n      <th>english</th>\n      <th>developer</th>\n      <th>publisher</th>\n      <th>platforms</th>\n      <th>required_age</th>\n      <th>categories</th>\n      <th>genres</th>\n      <th>steamspy_tags</th>\n      <th>achievements</th>\n      <th>positive_ratings</th>\n      <th>negative_ratings</th>\n      <th>average_playtime</th>\n      <th>median_playtime</th>\n      <th>owners</th>\n      <th>price</th>\n    </tr>\n  </thead>\n  <tbody>\n    <tr>\n      <th>0</th>\n      <td>10</td>\n      <td>Counter-Strike</td>\n      <td>2000-11-01</td>\n      <td>1</td>\n      <td>Valve</td>\n      <td>Valve</td>\n      <td>windows;mac;linux</td>\n      <td>0</td>\n      <td>Multi-player;Online Multi-Player;Local Multi-P...</td>\n      <td>Action</td>\n      <td>Action;FPS;Multiplayer</td>\n      <td>0</td>\n      <td>124534</td>\n      <td>3339</td>\n      <td>17612</td>\n      <td>317</td>\n      <td>10000000-20000000</td>\n      <td>7.19</td>\n    </tr>\n    <tr>\n      <th>1</th>\n      <td>20</td>\n      <td>Team Fortress Classic</td>\n      <td>1999-04-01</td>\n      <td>1</td>\n      <td>Valve</td>\n      <td>Valve</td>\n      <td>windows;mac;linux</td>\n      <td>0</td>\n      <td>Multi-player;Online Multi-Player;Local Multi-P...</td>\n      <td>Action</td>\n      <td>Action;FPS;Multiplayer</td>\n      <td>0</td>\n      <td>3318</td>\n      <td>633</td>\n      <td>277</td>\n      <td>62</td>\n      <td>5000000-10000000</td>\n      <td>3.99</td>\n    </tr>\n    <tr>\n      <th>2</th>\n      <td>30</td>\n      <td>Day of Defeat</td>\n      <td>2003-05-01</td>\n      <td>1</td>\n      <td>Valve</td>\n      <td>Valve</td>\n      <td>windows;mac;linux</td>\n      <td>0</td>\n      <td>Multi-player;Valve Anti-Cheat enabled</td>\n      <td>Action</td>\n      <td>FPS;World War II;Multiplayer</td>\n      <td>0</td>\n      <td>3416</td>\n      <td>398</td>\n      <td>187</td>\n      <td>34</td>\n      <td>5000000-10000000</td>\n      <td>3.99</td>\n    </tr>\n    <tr>\n      <th>3</th>\n      <td>40</td>\n      <td>Deathmatch Classic</td>\n      <td>2001-06-01</td>\n      <td>1</td>\n      <td>Valve</td>\n      <td>Valve</td>\n      <td>windows;mac;linux</td>\n      <td>0</td>\n      <td>Multi-player;Online Multi-Player;Local Multi-P...</td>\n      <td>Action</td>\n      <td>Action;FPS;Multiplayer</td>\n      <td>0</td>\n      <td>1273</td>\n      <td>267</td>\n      <td>258</td>\n      <td>184</td>\n      <td>5000000-10000000</td>\n      <td>3.99</td>\n    </tr>\n    <tr>\n      <th>4</th>\n      <td>50</td>\n      <td>Half-Life: Opposing Force</td>\n      <td>1999-11-01</td>\n      <td>1</td>\n      <td>Gearbox Software</td>\n      <td>Valve</td>\n      <td>windows;mac;linux</td>\n      <td>0</td>\n      <td>Single-player;Multi-player;Valve Anti-Cheat en...</td>\n      <td>Action</td>\n      <td>FPS;Action;Sci-fi</td>\n      <td>0</td>\n      <td>5250</td>\n      <td>288</td>\n      <td>624</td>\n      <td>415</td>\n      <td>5000000-10000000</td>\n      <td>3.99</td>\n    </tr>\n  </tbody>\n</table>\n</div>",
      "text/plain": "   appid                       name release_date  english         developer  \\\n0     10             Counter-Strike   2000-11-01        1             Valve   \n1     20      Team Fortress Classic   1999-04-01        1             Valve   \n2     30              Day of Defeat   2003-05-01        1             Valve   \n3     40         Deathmatch Classic   2001-06-01        1             Valve   \n4     50  Half-Life: Opposing Force   1999-11-01        1  Gearbox Software   \n\n  publisher          platforms  required_age  \\\n0     Valve  windows;mac;linux             0   \n1     Valve  windows;mac;linux             0   \n2     Valve  windows;mac;linux             0   \n3     Valve  windows;mac;linux             0   \n4     Valve  windows;mac;linux             0   \n\n                                          categories  genres  \\\n0  Multi-player;Online Multi-Player;Local Multi-P...  Action   \n1  Multi-player;Online Multi-Player;Local Multi-P...  Action   \n2              Multi-player;Valve Anti-Cheat enabled  Action   \n3  Multi-player;Online Multi-Player;Local Multi-P...  Action   \n4  Single-player;Multi-player;Valve Anti-Cheat en...  Action   \n\n                  steamspy_tags  achievements  positive_ratings  \\\n0        Action;FPS;Multiplayer             0            124534   \n1        Action;FPS;Multiplayer             0              3318   \n2  FPS;World War II;Multiplayer             0              3416   \n3        Action;FPS;Multiplayer             0              1273   \n4             FPS;Action;Sci-fi             0              5250   \n\n   negative_ratings  average_playtime  median_playtime             owners  \\\n0              3339             17612              317  10000000-20000000   \n1               633               277               62   5000000-10000000   \n2               398               187               34   5000000-10000000   \n3               267               258              184   5000000-10000000   \n4               288               624              415   5000000-10000000   \n\n   price  \n0   7.19  \n1   3.99  \n2   3.99  \n3   3.99  \n4   3.99  "
     },
     "execution_count": 2,
     "metadata": {},
     "output_type": "execute_result"
    }
   ],
   "source": [
    "#### Read in and preview Gamespot Reviews\n",
    "steam_store_raw_df = pd.read_csv('steam.csv')\n",
    "print(steam_store_raw_df.shape)\n",
    "steam_store_raw_df.head()"
   ]
  },
  {
   "cell_type": "code",
   "execution_count": 3,
   "metadata": {},
   "outputs": [],
   "source": [
    "# # Get the data types of each column.\n",
    "# steam_store_raw_df.dtypes"
   ]
  },
  {
   "cell_type": "code",
   "execution_count": 4,
   "metadata": {},
   "outputs": [],
   "source": [
    "# # Check for nulls\n",
    "# steam_store_raw_df.isnull().sum()"
   ]
  },
  {
   "cell_type": "code",
   "execution_count": 5,
   "metadata": {},
   "outputs": [
    {
     "data": {
      "text/plain": "27033"
     },
     "execution_count": 5,
     "metadata": {},
     "output_type": "execute_result"
    }
   ],
   "source": [
    "# Count number of unique reviews\n",
    "len(steam_store_raw_df.name.unique())"
   ]
  },
  {
   "cell_type": "code",
   "execution_count": 6,
   "metadata": {},
   "outputs": [],
   "source": [
    "# Make all names lower case\n",
    "steam_store_raw_df['name'] = steam_store_raw_df['name'].str.lower()\n",
    "\n",
    "# Remove all special characters\n",
    "steam_store_raw_df['name'] = steam_store_raw_df['name'].str.replace(r'[^\\x00-\\x7f]', '')\n",
    "\n",
    "# Remove all non-alpha-numeric\n",
    "steam_store_raw_df['name'] = steam_store_raw_df['name'].str.replace(r'[^A-Za-z0-9 ]+', '')\n",
    "\n",
    "# Remove all duplicate whitespace\n",
    "steam_store_raw_df['name'] = steam_store_raw_df['name'].str.replace(r'\\s+', ' ')\n",
    "\n",
    "# Remove leading and trailing whitespace\n",
    "steam_store_raw_df['name'] = steam_store_raw_df['name'].str.strip(r' ')"
   ]
  },
  {
   "cell_type": "code",
   "execution_count": 7,
   "metadata": {
    "scrolled": true
   },
   "outputs": [],
   "source": [
    "# # Convert roman numerals mid sentence\n",
    "# steam_store_raw_df['name'] = steam_store_raw_df['name'].str.replace(r' i ', ' 1 ')\n",
    "# steam_store_raw_df['name'] = steam_store_raw_df['name'].str.replace(r' ii ', ' 2 ')\n",
    "# steam_store_raw_df['name'] = steam_store_raw_df['name'].str.replace(r' iii ', ' 3 ')\n",
    "# steam_store_raw_df['name'] = steam_store_raw_df['name'].str.replace(r' v ', ' 5 ')\n",
    "# steam_store_raw_df['name'] = steam_store_raw_df['name'].str.replace(r' vi ', ' 6 ')\n",
    "# steam_store_raw_df['name'] = steam_store_raw_df['name'].str.replace(r' vii ', ' 7 ')\n",
    "# steam_store_raw_df['name'] = steam_store_raw_df['name'].str.replace(r' viii ', ' 8 ')\n",
    "# steam_store_raw_df['name'] = steam_store_raw_df['name'].str.replace(r' ix ', ' 9 ')\n",
    "# steam_store_raw_df['name'] = steam_store_raw_df['name'].str.replace(r' x ', ' 10 ')\n",
    "# steam_store_raw_df['name'] = steam_store_raw_df['name'].str.replace(r' xi ', '11 ')\n",
    "# steam_store_raw_df['name'] = steam_store_raw_df['name'].str.replace(r' xii ', '12 ')\n",
    "# steam_store_raw_df['name'] = steam_store_raw_df['name'].str.replace(r' xiii ', '13 ')\n",
    "# steam_store_raw_df['name'] = steam_store_raw_df['name'].str.replace(r' xiv ', '14 ')\n",
    "# # Convert roman numerals end sentence\n",
    "# steam_store_raw_df['name'] = steam_store_raw_df['name'].str.replace(r' i', ' 1 ')\n",
    "# steam_store_raw_df['name'] = steam_store_raw_df['name'].str.replace(r' ii', ' 2 ')\n",
    "# steam_store_raw_df['name'] = steam_store_raw_df['name'].str.replace(r' iii', ' 3 ')\n",
    "# steam_store_raw_df['name'] = steam_store_raw_df['name'].str.replace(r' v', ' 5 ')\n",
    "# steam_store_raw_df['name'] = steam_store_raw_df['name'].str.replace(r' vi', ' 6 ')\n",
    "# steam_store_raw_df['name'] = steam_store_raw_df['name'].str.replace(r' vii', ' 7 ')\n",
    "# steam_store_raw_df['name'] = steam_store_raw_df['name'].str.replace(r' viii', ' 8 ')\n",
    "# steam_store_raw_df['name'] = steam_store_raw_df['name'].str.replace(r' ix', ' 9 ')\n",
    "# steam_store_raw_df['name'] = steam_store_raw_df['name'].str.replace(r' x', ' 10 ')\n",
    "# steam_store_raw_df['name'] = steam_store_raw_df['name'].str.replace(r' xi', '11 ')\n",
    "# steam_store_raw_df['name'] = steam_store_raw_df['name'].str.replace(r' xii', '12 ')\n",
    "# steam_store_raw_df['name'] = steam_store_raw_df['name'].str.replace(r' xiii', '13 ')\n",
    "# steam_store_raw_df['name'] = steam_store_raw_df['name'].str.replace(r' xiv', '14 ')"
   ]
  },
  {
   "cell_type": "code",
   "execution_count": 8,
   "metadata": {},
   "outputs": [],
   "source": [
    "# Create a list of values that block matching between steam and twitch for removal\n",
    "remove_list = (' hd edition', ' hd', ' deluxe edition', ' remastered', ' directors cut edition', ' game of the year enhanced', \n",
    "               ' aot wings of freedom', ' aot 2', ' game of the year edition', ' remastered', ' expansion', ' hd edition',\n",
    "              ' board game with online multiplayer', ' gold edition', ' game of the year edition',' creative survival',\n",
    "              ' ultimate edition',' remastered',' complete edition',' special edition',' enhanced edition',' definitive edition',\n",
    "              ' windows edition',' redux',' classic hd',' remastered',' millennium edition',' deluxe edition',' steam edition',\n",
    "              ' directors cut', '00db', ' the telltale series', ' a realm reborn', ' night of the raven', ' a telltale game series')"
   ]
  },
  {
   "cell_type": "code",
   "execution_count": 9,
   "metadata": {},
   "outputs": [],
   "source": [
    "# Remove all unwanted values from the remove_list\n",
    "steam_store_raw_df['name'] = steam_store_raw_df['name'].str.replace('|'.join(remove_list), '')"
   ]
  },
  {
   "cell_type": "code",
   "execution_count": 10,
   "metadata": {},
   "outputs": [],
   "source": [
    "# Create a dictionary of values that block matching between steam and twitch for replacement\n",
    "replace_dict = {'catherine classic': 'catherine', \n",
    "                'creativedestruction': 'creative destruction', \n",
    "                'eternal return: black survival': 'eternal return',\n",
    "                'heroes of might and magic 3 the shadow of death': 'heroes of might and magic 3',\n",
    "                'orcs must die unchained': 'orcs must die',\n",
    "                'puyo puyotetris': 'puyo puyo tetris',\n",
    "                'life is strange episode 1': 'life is strange',\n",
    "                'resident evil 4 biohazard 4': 'resident evil 4',\n",
    "                'resident evil 2 biohazard re2': 'resident evil 2',\n",
    "                'resident evil 6 biohazard 6': 'resident evil 6',\n",
    "                'resident evil 7 biohazard 7': 'resident evil 7 biohazard',\n",
    "                'rollercoaster tycoon 2 triple thrill pack': 'rollercoaster tycoon 2',\n",
    "                'romance of the three kingdoms 13 13': 'romance of the three kingdoms 13',\n",
    "                'shadowverse ccg': 'shadowverse',\n",
    "                'soulworker anime action mmo': 'soulworker',\n",
    "                'super seducer how to talk': 'super seducer',\n",
    "                'the bards tale 5 barrows deep': 'the bards tale 5',\n",
    "                'puyo puyotetris': 'puyo puyo tetris',\n",
    "                'x x2 remastered': 'xx2 remastered',\n",
    "                'hitman 2 silent assassin': 'hitman 2',\n",
    "                'hitman episode 3 marrakesh': 'hitman 3',\n",
    "                'la noire the': 'la noire',\n",
    "                'life is strange before the storm episode 1 awake': 'life is strange before the storm',\n",
    "               'microsoft flight simulator 2004 a century of flight': 'microsoft flight simulator',\n",
    "               'sid meiers civilization vi rise fall': 'sid meiers civilization vi rise and fall'}"
   ]
  },
  {
   "cell_type": "code",
   "execution_count": 11,
   "metadata": {},
   "outputs": [],
   "source": [
    "# Replace all keys from the replace_dict with their values within the dataframe\n",
    "steam_store_raw_df['name'] = steam_store_raw_df['name'].replace(replace_dict, regex=True)"
   ]
  },
  {
   "cell_type": "code",
   "execution_count": 12,
   "metadata": {},
   "outputs": [],
   "source": [
    "# If Contains THEN replace with (when i run this it replaces every value in the name column...thoughts on how to correct?\n",
    "# I want this code to see that 'gothic 2' is contained in a string and, if it is, to replace the entire string with 'gothic 2')\n",
    "#steam_store_raw_df['name'] = steam_store_raw_df.loc[steam_store_raw_df['name'].str.contains('gothic 2'), 'name'] = 'gothic 2'\n",
    "#steam_store_raw_df['name'] = steam_store_raw_df.loc[steam_store_raw_df['name'].str.contains('shoppe keep 2'), 'name'] = 'shoppe keep 2'\n",
    "#steam_store_raw_df['name'] = steam_store_raw_df.loc[steam_store_raw_df['name'].str.contains('super seducer 2'), 'name'] = 'super seducer 2'\n",
    "#steam_store_raw_df['name'] = steam_store_raw_df.loc[steam_store_raw_df['name'].str.contains('ys 8 lacrimosa of dana'), 'name'] = 'ys 8 lacrimosa of dana'\n",
    "#steam_store_raw_df['name'] = steam_store_raw_df.loc[steam_store_raw_df['name'].str.contains('age of empires 2'), 'name'] = 'age of empires 2'\n",
    "#steam_store_raw_df"
   ]
  },
  {
   "cell_type": "code",
   "execution_count": 13,
   "metadata": {},
   "outputs": [
    {
     "data": {
      "text/html": "<div>\n<style scoped>\n    .dataframe tbody tr th:only-of-type {\n        vertical-align: middle;\n    }\n\n    .dataframe tbody tr th {\n        vertical-align: top;\n    }\n\n    .dataframe thead th {\n        text-align: right;\n    }\n</style>\n<table border=\"1\" class=\"dataframe\">\n  <thead>\n    <tr style=\"text-align: right;\">\n      <th></th>\n      <th>appid</th>\n      <th>name</th>\n      <th>release_date</th>\n      <th>english</th>\n      <th>developer</th>\n      <th>publisher</th>\n      <th>platforms</th>\n      <th>required_age</th>\n      <th>categories</th>\n      <th>genres</th>\n      <th>steamspy_tags</th>\n      <th>achievements</th>\n      <th>positive_ratings</th>\n      <th>negative_ratings</th>\n      <th>average_playtime</th>\n      <th>median_playtime</th>\n      <th>owners</th>\n      <th>price</th>\n    </tr>\n  </thead>\n  <tbody>\n    <tr>\n      <th>18400</th>\n      <td>745820</td>\n      <td></td>\n      <td>2018-06-04</td>\n      <td>0</td>\n      <td>魔力乐章</td>\n      <td>魔力乐章</td>\n      <td>windows</td>\n      <td>0</td>\n      <td>Single-player</td>\n      <td>RPG</td>\n      <td>RPG;Anime</td>\n      <td>0</td>\n      <td>6</td>\n      <td>1</td>\n      <td>0</td>\n      <td>0</td>\n      <td>0-20000</td>\n      <td>2.09</td>\n    </tr>\n    <tr>\n      <th>24517</th>\n      <td>934810</td>\n      <td></td>\n      <td>2018-09-24</td>\n      <td>0</td>\n      <td>AQGames</td>\n      <td>AQGames</td>\n      <td>windows</td>\n      <td>0</td>\n      <td>Single-player</td>\n      <td>Adventure;Indie;RPG</td>\n      <td>Adventure;RPG;Indie</td>\n      <td>0</td>\n      <td>10</td>\n      <td>2</td>\n      <td>0</td>\n      <td>0</td>\n      <td>0-20000</td>\n      <td>0.79</td>\n    </tr>\n    <tr>\n      <th>20411</th>\n      <td>801600</td>\n      <td></td>\n      <td>2018-03-30</td>\n      <td>0</td>\n      <td>冯卫朋</td>\n      <td>冯卫朋</td>\n      <td>windows</td>\n      <td>12</td>\n      <td>Single-player</td>\n      <td>Nudity;Violent;Gore;Action;Adventure;Indie;RPG</td>\n      <td>RPG;Action;Adventure</td>\n      <td>0</td>\n      <td>19</td>\n      <td>8</td>\n      <td>0</td>\n      <td>0</td>\n      <td>0-20000</td>\n      <td>6.19</td>\n    </tr>\n    <tr>\n      <th>25530</th>\n      <td>975860</td>\n      <td></td>\n      <td>2018-12-05</td>\n      <td>0</td>\n      <td>乐吧工作室</td>\n      <td>乐吧工作室</td>\n      <td>windows</td>\n      <td>0</td>\n      <td>Single-player</td>\n      <td>Casual;Strategy</td>\n      <td>Casual;Strategy</td>\n      <td>0</td>\n      <td>2</td>\n      <td>0</td>\n      <td>0</td>\n      <td>0</td>\n      <td>0-20000</td>\n      <td>2.89</td>\n    </tr>\n    <tr>\n      <th>20124</th>\n      <td>793410</td>\n      <td></td>\n      <td>2018-05-11</td>\n      <td>0</td>\n      <td>Flying Panjandrum / ふらいんぐパンジャンドラム</td>\n      <td>Flying Panjandrum / ふらいんぐパンジャンドラム</td>\n      <td>windows</td>\n      <td>18</td>\n      <td>Single-player</td>\n      <td>Indie;RPG</td>\n      <td>RPG;Indie;Nudity</td>\n      <td>0</td>\n      <td>3</td>\n      <td>0</td>\n      <td>0</td>\n      <td>0</td>\n      <td>0-20000</td>\n      <td>15.49</td>\n    </tr>\n  </tbody>\n</table>\n</div>",
      "text/plain": "        appid name release_date  english                          developer  \\\n18400  745820        2018-06-04        0                               魔力乐章   \n24517  934810        2018-09-24        0                            AQGames   \n20411  801600        2018-03-30        0                                冯卫朋   \n25530  975860        2018-12-05        0                              乐吧工作室   \n20124  793410        2018-05-11        0  Flying Panjandrum / ふらいんぐパンジャンドラム   \n\n                               publisher platforms  required_age  \\\n18400                               魔力乐章   windows             0   \n24517                            AQGames   windows             0   \n20411                                冯卫朋   windows            12   \n25530                              乐吧工作室   windows             0   \n20124  Flying Panjandrum / ふらいんぐパンジャンドラム   windows            18   \n\n          categories                                          genres  \\\n18400  Single-player                                             RPG   \n24517  Single-player                             Adventure;Indie;RPG   \n20411  Single-player  Nudity;Violent;Gore;Action;Adventure;Indie;RPG   \n25530  Single-player                                 Casual;Strategy   \n20124  Single-player                                       Indie;RPG   \n\n              steamspy_tags  achievements  positive_ratings  negative_ratings  \\\n18400             RPG;Anime             0                 6                 1   \n24517   Adventure;RPG;Indie             0                10                 2   \n20411  RPG;Action;Adventure             0                19                 8   \n25530       Casual;Strategy             0                 2                 0   \n20124      RPG;Indie;Nudity             0                 3                 0   \n\n       average_playtime  median_playtime   owners  price  \n18400                 0                0  0-20000   2.09  \n24517                 0                0  0-20000   0.79  \n20411                 0                0  0-20000   6.19  \n25530                 0                0  0-20000   2.89  \n20124                 0                0  0-20000  15.49  "
     },
     "execution_count": 13,
     "metadata": {},
     "output_type": "execute_result"
    }
   ],
   "source": [
    "# Select duplicate rows in the 'name' column\n",
    "dup_rows_steam = steam_store_raw_df[steam_store_raw_df.duplicated(['name'])]\n",
    "dup_rows_steam = dup_rows_steam.sort_values(by=['name'])\n",
    "dup_rows_steam.head()"
   ]
  },
  {
   "cell_type": "code",
   "execution_count": 14,
   "metadata": {},
   "outputs": [
    {
     "name": "stdout",
     "output_type": "stream",
     "text": [
      "(26863, 18)\n"
     ]
    }
   ],
   "source": [
    "# Drop duplicates (dropping ALL duplictes. Duplicated games in this set are minimal in number and marginal games)\n",
    "##### THIS REQUIRES REVIEW\n",
    "steam_store_raw_df.drop_duplicates(subset =\"name\", inplace = True)\n",
    "print(steam_store_raw_df.shape)"
   ]
  },
  {
   "cell_type": "code",
   "execution_count": 15,
   "metadata": {},
   "outputs": [
    {
     "data": {
      "text/plain": "['appid',\n 'name',\n 'release_date',\n 'english',\n 'developer',\n 'publisher',\n 'platforms',\n 'required_age',\n 'categories',\n 'genres',\n 'steamspy_tags',\n 'achievements',\n 'positive_ratings',\n 'negative_ratings',\n 'average_playtime',\n 'median_playtime',\n 'owners',\n 'price']"
     },
     "execution_count": 15,
     "metadata": {},
     "output_type": "execute_result"
    }
   ],
   "source": [
    "my_list = steam_store_raw_df.columns.values.tolist()\n",
    "my_list"
   ]
  },
  {
   "cell_type": "code",
   "execution_count": 16,
   "metadata": {},
   "outputs": [
    {
     "data": {
      "text/html": "<div>\n<style scoped>\n    .dataframe tbody tr th:only-of-type {\n        vertical-align: middle;\n    }\n\n    .dataframe tbody tr th {\n        vertical-align: top;\n    }\n\n    .dataframe thead th {\n        text-align: right;\n    }\n</style>\n<table border=\"1\" class=\"dataframe\">\n  <thead>\n    <tr style=\"text-align: right;\">\n      <th></th>\n      <th>appid</th>\n      <th>name</th>\n      <th>release_date</th>\n      <th>english</th>\n      <th>developer</th>\n      <th>publisher</th>\n      <th>platforms</th>\n      <th>required_age</th>\n      <th>achievements</th>\n      <th>positive_ratings</th>\n      <th>negative_ratings</th>\n      <th>average_playtime</th>\n      <th>median_playtime</th>\n      <th>owners</th>\n      <th>price</th>\n      <th>genre_concat</th>\n    </tr>\n  </thead>\n  <tbody>\n    <tr>\n      <th>0</th>\n      <td>10</td>\n      <td>counterstrike</td>\n      <td>2000-11-01</td>\n      <td>1</td>\n      <td>Valve</td>\n      <td>Valve</td>\n      <td>windows;mac;linux</td>\n      <td>0</td>\n      <td>0</td>\n      <td>124534</td>\n      <td>3339</td>\n      <td>17612</td>\n      <td>317</td>\n      <td>10000000-20000000</td>\n      <td>7.19</td>\n      <td>Multi-player;Online Multi-Player;Local Multi-P...</td>\n    </tr>\n    <tr>\n      <th>1</th>\n      <td>20</td>\n      <td>team fortress classic</td>\n      <td>1999-04-01</td>\n      <td>1</td>\n      <td>Valve</td>\n      <td>Valve</td>\n      <td>windows;mac;linux</td>\n      <td>0</td>\n      <td>0</td>\n      <td>3318</td>\n      <td>633</td>\n      <td>277</td>\n      <td>62</td>\n      <td>5000000-10000000</td>\n      <td>3.99</td>\n      <td>Multi-player;Online Multi-Player;Local Multi-P...</td>\n    </tr>\n    <tr>\n      <th>2</th>\n      <td>30</td>\n      <td>day of defeat</td>\n      <td>2003-05-01</td>\n      <td>1</td>\n      <td>Valve</td>\n      <td>Valve</td>\n      <td>windows;mac;linux</td>\n      <td>0</td>\n      <td>0</td>\n      <td>3416</td>\n      <td>398</td>\n      <td>187</td>\n      <td>34</td>\n      <td>5000000-10000000</td>\n      <td>3.99</td>\n      <td>Multi-player;Valve Anti-Cheat enabledActionFPS...</td>\n    </tr>\n    <tr>\n      <th>3</th>\n      <td>40</td>\n      <td>deathmatch classic</td>\n      <td>2001-06-01</td>\n      <td>1</td>\n      <td>Valve</td>\n      <td>Valve</td>\n      <td>windows;mac;linux</td>\n      <td>0</td>\n      <td>0</td>\n      <td>1273</td>\n      <td>267</td>\n      <td>258</td>\n      <td>184</td>\n      <td>5000000-10000000</td>\n      <td>3.99</td>\n      <td>Multi-player;Online Multi-Player;Local Multi-P...</td>\n    </tr>\n    <tr>\n      <th>4</th>\n      <td>50</td>\n      <td>halflife opposing force</td>\n      <td>1999-11-01</td>\n      <td>1</td>\n      <td>Gearbox Software</td>\n      <td>Valve</td>\n      <td>windows;mac;linux</td>\n      <td>0</td>\n      <td>0</td>\n      <td>5250</td>\n      <td>288</td>\n      <td>624</td>\n      <td>415</td>\n      <td>5000000-10000000</td>\n      <td>3.99</td>\n      <td>Single-player;Multi-player;Valve Anti-Cheat en...</td>\n    </tr>\n  </tbody>\n</table>\n</div>",
      "text/plain": "   appid                     name release_date  english         developer  \\\n0     10            counterstrike   2000-11-01        1             Valve   \n1     20    team fortress classic   1999-04-01        1             Valve   \n2     30            day of defeat   2003-05-01        1             Valve   \n3     40       deathmatch classic   2001-06-01        1             Valve   \n4     50  halflife opposing force   1999-11-01        1  Gearbox Software   \n\n  publisher          platforms  required_age  achievements  positive_ratings  \\\n0     Valve  windows;mac;linux             0             0            124534   \n1     Valve  windows;mac;linux             0             0              3318   \n2     Valve  windows;mac;linux             0             0              3416   \n3     Valve  windows;mac;linux             0             0              1273   \n4     Valve  windows;mac;linux             0             0              5250   \n\n   negative_ratings  average_playtime  median_playtime             owners  \\\n0              3339             17612              317  10000000-20000000   \n1               633               277               62   5000000-10000000   \n2               398               187               34   5000000-10000000   \n3               267               258              184   5000000-10000000   \n4               288               624              415   5000000-10000000   \n\n   price                                       genre_concat  \n0   7.19  Multi-player;Online Multi-Player;Local Multi-P...  \n1   3.99  Multi-player;Online Multi-Player;Local Multi-P...  \n2   3.99  Multi-player;Valve Anti-Cheat enabledActionFPS...  \n3   3.99  Multi-player;Online Multi-Player;Local Multi-P...  \n4   3.99  Single-player;Multi-player;Valve Anti-Cheat en...  "
     },
     "execution_count": 16,
     "metadata": {},
     "output_type": "execute_result"
    }
   ],
   "source": [
    "# Special character in 'categories\t' found in column header\n",
    "steam_store_raw_df.columns=steam_store_raw_df.columns.str.replace('\t','')\n",
    "\n",
    "# Concatinate OHE columns into one for future removal of duplicates\n",
    "steam_store_raw_df['genre_concat'] = steam_store_raw_df['categories'] + steam_store_raw_df['genres'] + steam_store_raw_df['steamspy_tags']\n",
    "\n",
    "# Drop the 'categories' column. We have a more detailed account of the same information in the 'steamspy_tags' column\n",
    "steam_store_raw_df = steam_store_raw_df.drop(['categories','genres','steamspy_tags'], axis=1)\n",
    "steam_store_raw_df.head()"
   ]
  },
  {
   "cell_type": "code",
   "execution_count": 17,
   "metadata": {},
   "outputs": [
    {
     "data": {
      "text/plain": "['appid',\n 'name',\n 'release_date',\n 'english',\n 'developer',\n 'publisher',\n 'platforms',\n 'required_age',\n 'achievements',\n 'positive_ratings',\n 'negative_ratings',\n 'average_playtime',\n 'median_playtime',\n 'owners',\n 'price',\n 'genre_concat']"
     },
     "execution_count": 17,
     "metadata": {},
     "output_type": "execute_result"
    }
   ],
   "source": [
    "my_list = steam_store_raw_df.columns.values.tolist()\n",
    "my_list"
   ]
  },
  {
   "cell_type": "markdown",
   "metadata": {},
   "source": [
    "# twitch_raw_df Load, transform, clean"
   ]
  },
  {
   "cell_type": "code",
   "execution_count": 18,
   "metadata": {},
   "outputs": [
    {
     "name": "stdout",
     "output_type": "stream",
     "text": [
      "(12750, 12)\n"
     ]
    },
    {
     "data": {
      "text/html": "<div>\n<style scoped>\n    .dataframe tbody tr th:only-of-type {\n        vertical-align: middle;\n    }\n\n    .dataframe tbody tr th {\n        vertical-align: top;\n    }\n\n    .dataframe thead th {\n        text-align: right;\n    }\n</style>\n<table border=\"1\" class=\"dataframe\">\n  <thead>\n    <tr style=\"text-align: right;\">\n      <th></th>\n      <th>Rank</th>\n      <th>Game</th>\n      <th>Month</th>\n      <th>Year</th>\n      <th>Hours_watched</th>\n      <th>Hours_Streamed</th>\n      <th>Peak_viewers</th>\n      <th>Peak_channels</th>\n      <th>Streamers</th>\n      <th>Avg_viewers</th>\n      <th>Avg_channels</th>\n      <th>Avg_viewer_ratio</th>\n    </tr>\n  </thead>\n  <tbody>\n    <tr>\n      <th>0</th>\n      <td>1</td>\n      <td>League of Legends</td>\n      <td>1</td>\n      <td>2016</td>\n      <td>94377226</td>\n      <td>1362044 hours</td>\n      <td>530270</td>\n      <td>2903</td>\n      <td>129172</td>\n      <td>127021</td>\n      <td>1833</td>\n      <td>69.29</td>\n    </tr>\n    <tr>\n      <th>1</th>\n      <td>2</td>\n      <td>Counter-Strike: Global Offensive</td>\n      <td>1</td>\n      <td>2016</td>\n      <td>47832863</td>\n      <td>830105 hours</td>\n      <td>372654</td>\n      <td>2197</td>\n      <td>120849</td>\n      <td>64378</td>\n      <td>1117</td>\n      <td>57.62</td>\n    </tr>\n    <tr>\n      <th>2</th>\n      <td>3</td>\n      <td>Dota 2</td>\n      <td>1</td>\n      <td>2016</td>\n      <td>45185893</td>\n      <td>433397 hours</td>\n      <td>315083</td>\n      <td>1100</td>\n      <td>44074</td>\n      <td>60815</td>\n      <td>583</td>\n      <td>104.26</td>\n    </tr>\n    <tr>\n      <th>3</th>\n      <td>4</td>\n      <td>Hearthstone</td>\n      <td>1</td>\n      <td>2016</td>\n      <td>39936159</td>\n      <td>235903 hours</td>\n      <td>131357</td>\n      <td>517</td>\n      <td>36170</td>\n      <td>53749</td>\n      <td>317</td>\n      <td>169.29</td>\n    </tr>\n    <tr>\n      <th>4</th>\n      <td>5</td>\n      <td>Call of Duty: Black Ops III</td>\n      <td>1</td>\n      <td>2016</td>\n      <td>16153057</td>\n      <td>1151578 hours</td>\n      <td>71639</td>\n      <td>3620</td>\n      <td>214054</td>\n      <td>21740</td>\n      <td>1549</td>\n      <td>14.03</td>\n    </tr>\n  </tbody>\n</table>\n</div>",
      "text/plain": "   Rank                              Game  Month  Year  Hours_watched  \\\n0     1                 League of Legends      1  2016       94377226   \n1     2  Counter-Strike: Global Offensive      1  2016       47832863   \n2     3                            Dota 2      1  2016       45185893   \n3     4                       Hearthstone      1  2016       39936159   \n4     5       Call of Duty: Black Ops III      1  2016       16153057   \n\n  Hours_Streamed  Peak_viewers  Peak_channels  Streamers  Avg_viewers  \\\n0  1362044 hours        530270           2903     129172       127021   \n1   830105 hours        372654           2197     120849        64378   \n2   433397 hours        315083           1100      44074        60815   \n3   235903 hours        131357            517      36170        53749   \n4  1151578 hours         71639           3620     214054        21740   \n\n   Avg_channels  Avg_viewer_ratio  \n0          1833             69.29  \n1          1117             57.62  \n2           583            104.26  \n3           317            169.29  \n4          1549             14.03  "
     },
     "execution_count": 18,
     "metadata": {},
     "output_type": "execute_result"
    }
   ],
   "source": [
    "#### Read in and preview twitch data\n",
    "twitch_raw_df = pd.read_csv('Twitch_game_data.csv', encoding='utf8')\n",
    "print(twitch_raw_df.shape)\n",
    "twitch_raw_df.head()"
   ]
  },
  {
   "cell_type": "code",
   "execution_count": 19,
   "metadata": {},
   "outputs": [],
   "source": [
    "# Make all names lower case\n",
    "twitch_raw_df['Game'] = twitch_raw_df['Game'].str.lower()\n",
    "# Remove all special characters\n",
    "twitch_raw_df['Game'] = twitch_raw_df['Game'].str.replace(r'[^\\x00-\\x7f]', '')"
   ]
  },
  {
   "cell_type": "code",
   "execution_count": 20,
   "metadata": {},
   "outputs": [
    {
     "name": "stdout",
     "output_type": "stream",
     "text": [
      "(1638, 12)\n"
     ]
    }
   ],
   "source": [
    "# Drop duplicates (dropping ALL duplictes. Duplicated games in this set are minimal in number and marginal games)\n",
    "twitch_raw_df.drop_duplicates(subset =\"Game\", inplace = True)\n",
    "print(twitch_raw_df.shape)"
   ]
  },
  {
   "cell_type": "code",
   "execution_count": 21,
   "metadata": {},
   "outputs": [],
   "source": [
    "# Get the data types of each column.\n",
    "# twitch_raw_df.dtypes"
   ]
  },
  {
   "cell_type": "code",
   "execution_count": 22,
   "metadata": {},
   "outputs": [],
   "source": [
    "# Make all names lower case\n",
    "twitch_raw_df['Game'] = twitch_raw_df['Game'].str.lower()\n",
    "# Remove all special characters\n",
    "twitch_raw_df['Game'] = twitch_raw_df['Game'].str.replace(r'[^\\x00-\\x7f]', '')\n",
    "# Remove all non-alpha-numeric\n",
    "twitch_raw_df['Game'] = twitch_raw_df['Game'].str.replace(r'[^A-Za-z0-9 ]+', '')\n",
    "# Remove all duplicate whitespace\n",
    "twitch_raw_df['Game'] = twitch_raw_df['Game'].str.replace(r'\\s+', ' ')\n",
    "# Remove leading and trailing whitespace\n",
    "twitch_raw_df['Game'] = twitch_raw_df['Game'].str.strip(r' ')\n",
    "\n",
    "# # Convert roman numerals mid sentence\n",
    "# twitch_raw_df['Game'] = twitch_raw_df['Game'].str.replace(r' i ', ' 1 ')\n",
    "# twitch_raw_df['Game'] = twitch_raw_df['Game'].str.replace(r' ii ', ' 2 ')\n",
    "# twitch_raw_df['Game'] = twitch_raw_df['Game'].str.replace(r' iii ', ' 3 ')\n",
    "# twitch_raw_df['Game'] = twitch_raw_df['Game'].str.replace(r' v ', ' 5 ')\n",
    "# twitch_raw_df['Game'] = twitch_raw_df['Game'].str.replace(r' vi ', ' 6 ')\n",
    "# twitch_raw_df['Game'] = twitch_raw_df['Game'].str.replace(r' vii ', ' 7 ')\n",
    "# twitch_raw_df['Game'] = twitch_raw_df['Game'].str.replace(r' viii ', ' 8 ')\n",
    "# twitch_raw_df['Game'] = twitch_raw_df['Game'].str.replace(r' ix ', ' 9 ')\n",
    "# twitch_raw_df['Game'] = twitch_raw_df['Game'].str.replace(r' x ', ' 10 ')\n",
    "# twitch_raw_df['Game'] = twitch_raw_df['Game'].str.replace(r' xi ', '11 ')\n",
    "# twitch_raw_df['Game'] = twitch_raw_df['Game'].str.replace(r' xii ', '12 ')\n",
    "# twitch_raw_df['Game'] = twitch_raw_df['Game'].str.replace(r' xiii ', '13 ')\n",
    "# twitch_raw_df['Game'] = twitch_raw_df['Game'].str.replace(r' xiv ', '14 ')\n",
    "\n",
    "# # Convert roman numerals end sentence\n",
    "# twitch_raw_df['Game'] = twitch_raw_df['Game'].str.replace(r' i', ' 1 ')\n",
    "# twitch_raw_df['Game'] = twitch_raw_df['Game'].str.replace(r' ii', ' 2 ')\n",
    "# twitch_raw_df['Game'] = twitch_raw_df['Game'].str.replace(r' iii', ' 3 ')\n",
    "# twitch_raw_df['Game'] = twitch_raw_df['Game'].str.replace(r' v', ' 5 ')\n",
    "# twitch_raw_df['Game'] = twitch_raw_df['Game'].str.replace(r' vi', ' 6 ')\n",
    "# twitch_raw_df['Game'] = twitch_raw_df['Game'].str.replace(r' vii', ' 7 ')\n",
    "# twitch_raw_df['Game'] = twitch_raw_df['Game'].str.replace(r' viii', ' 8 ')\n",
    "# twitch_raw_df['Game'] = twitch_raw_df['Game'].str.replace(r' ix', ' 9 ')\n",
    "# twitch_raw_df['Game'] = twitch_raw_df['Game'].str.replace(r' x', ' 10 ')\n",
    "# twitch_raw_df['Game'] = twitch_raw_df['Game'].str.replace(r' xi', '11 ')\n",
    "# twitch_raw_df['Game'] = twitch_raw_df['Game'].str.replace(r' xii', '12 ')\n",
    "# twitch_raw_df['Game'] = twitch_raw_df['Game'].str.replace(r' xiii', '13 ')\n",
    "# twitch_raw_df['Game'] = twitch_raw_df['Game'].str.replace(r' xiv', '14 ')\n",
    "\n",
    "# Remove all unwanted values from the remove_list\n",
    "twitch_raw_df['Game'] = twitch_raw_df['Game'].str.replace('|'.join(remove_list), '')\n",
    "\n",
    "# Replace all keys from the replace_dict with their values within the dataframe\n",
    "twitch_raw_df['Game'] = twitch_raw_df['Game'].replace(replace_dict, regex=True)"
   ]
  },
  {
   "cell_type": "code",
   "execution_count": 23,
   "metadata": {},
   "outputs": [],
   "source": [
    "# Twitch specific changes\n"
   ]
  },
  {
   "cell_type": "markdown",
   "metadata": {},
   "source": [
    "# metacritic_raw_df Load, transform, clean"
   ]
  },
  {
   "cell_type": "code",
   "execution_count": 24,
   "metadata": {},
   "outputs": [
    {
     "name": "stdout",
     "output_type": "stream",
     "text": [
      "(5000, 9)\n"
     ]
    },
    {
     "data": {
      "text/html": "<div>\n<style scoped>\n    .dataframe tbody tr th:only-of-type {\n        vertical-align: middle;\n    }\n\n    .dataframe tbody tr th {\n        vertical-align: top;\n    }\n\n    .dataframe thead th {\n        text-align: right;\n    }\n</style>\n<table border=\"1\" class=\"dataframe\">\n  <thead>\n    <tr style=\"text-align: right;\">\n      <th></th>\n      <th>Unnamed: 0</th>\n      <th>Title</th>\n      <th>Year</th>\n      <th>Publisher</th>\n      <th>Genre</th>\n      <th>Platform</th>\n      <th>Metascore</th>\n      <th>Avg_Userscore</th>\n      <th>No_Players</th>\n    </tr>\n  </thead>\n  <tbody>\n    <tr>\n      <th>0</th>\n      <td>0</td>\n      <td>The Legend of Zelda: Ocarina of Time</td>\n      <td>1998</td>\n      <td>Nintendo</td>\n      <td>Action Adventure;Fantasy</td>\n      <td>Nintendo64</td>\n      <td>99</td>\n      <td>9.1</td>\n      <td>1 Player</td>\n    </tr>\n    <tr>\n      <th>1</th>\n      <td>1</td>\n      <td>Tony Hawk's Pro Skater 2</td>\n      <td>2000</td>\n      <td>NeversoftEntertainment</td>\n      <td>Sports;Alternative;Skateboarding</td>\n      <td>PlayStation</td>\n      <td>98</td>\n      <td>7.4</td>\n      <td>1-2</td>\n    </tr>\n    <tr>\n      <th>2</th>\n      <td>2</td>\n      <td>Grand Theft Auto IV</td>\n      <td>2008</td>\n      <td>RockstarNorth</td>\n      <td>Action Adventure;Modern;Modern;Open-World</td>\n      <td>PlayStation3</td>\n      <td>98</td>\n      <td>7.5</td>\n      <td>1 Player</td>\n    </tr>\n    <tr>\n      <th>3</th>\n      <td>3</td>\n      <td>SoulCalibur</td>\n      <td>1999</td>\n      <td>Namco</td>\n      <td>Action;Fighting;3D</td>\n      <td>Dreamcast</td>\n      <td>98</td>\n      <td>8.6</td>\n      <td>1-2</td>\n    </tr>\n    <tr>\n      <th>4</th>\n      <td>4</td>\n      <td>Grand Theft Auto IV</td>\n      <td>2008</td>\n      <td>RockstarNorth</td>\n      <td>Action Adventure;Modern;Modern;Open-World</td>\n      <td>Xbox360</td>\n      <td>98</td>\n      <td>7.9</td>\n      <td>1 Player</td>\n    </tr>\n  </tbody>\n</table>\n</div>",
      "text/plain": "   Unnamed: 0                                 Title  Year  \\\n0           0  The Legend of Zelda: Ocarina of Time  1998   \n1           1              Tony Hawk's Pro Skater 2  2000   \n2           2                   Grand Theft Auto IV  2008   \n3           3                           SoulCalibur  1999   \n4           4                   Grand Theft Auto IV  2008   \n\n                Publisher                                      Genre  \\\n0                Nintendo                   Action Adventure;Fantasy   \n1  NeversoftEntertainment           Sports;Alternative;Skateboarding   \n2           RockstarNorth  Action Adventure;Modern;Modern;Open-World   \n3                   Namco                         Action;Fighting;3D   \n4           RockstarNorth  Action Adventure;Modern;Modern;Open-World   \n\n       Platform Metascore Avg_Userscore No_Players  \n0    Nintendo64        99           9.1   1 Player  \n1   PlayStation        98           7.4       1-2   \n2  PlayStation3        98           7.5   1 Player  \n3     Dreamcast        98           8.6       1-2   \n4       Xbox360        98           7.9   1 Player  "
     },
     "execution_count": 24,
     "metadata": {},
     "output_type": "execute_result"
    }
   ],
   "source": [
    "# Read in and preview metacritic data\n",
    "metacritic_raw_df = pd.read_csv('metacritic_game_info.csv')\n",
    "print(metacritic_raw_df.shape)\n",
    "metacritic_raw_df.head()"
   ]
  },
  {
   "cell_type": "code",
   "execution_count": 25,
   "metadata": {},
   "outputs": [],
   "source": [
    "# Make all names lower case\n",
    "metacritic_raw_df['Title'] = metacritic_raw_df['Title'].str.lower()\n",
    "# Remove all special characters\n",
    "metacritic_raw_df['Title'] = metacritic_raw_df['Title'].str.replace(r'[^\\x00-\\x7f]', '')"
   ]
  },
  {
   "cell_type": "code",
   "execution_count": 26,
   "metadata": {},
   "outputs": [
    {
     "name": "stdout",
     "output_type": "stream",
     "text": [
      "(1381, 9)\n"
     ]
    }
   ],
   "source": [
    "# Only keep PC game review records\n",
    "metacritic_raw_df = metacritic_raw_df[metacritic_raw_df.Platform == 'PC']\n",
    "print(metacritic_raw_df.shape)"
   ]
  },
  {
   "cell_type": "code",
   "execution_count": 27,
   "metadata": {},
   "outputs": [
    {
     "data": {
      "text/plain": "1381"
     },
     "execution_count": 27,
     "metadata": {},
     "output_type": "execute_result"
    }
   ],
   "source": [
    "# Count number of unique reviews\n",
    "len(metacritic_raw_df.Title.unique())"
   ]
  },
  {
   "cell_type": "code",
   "execution_count": 28,
   "metadata": {},
   "outputs": [],
   "source": [
    "# Make all names lower case\n",
    "metacritic_raw_df['Title'] = metacritic_raw_df['Title'].str.lower()\n",
    "# Remove all special characters\n",
    "metacritic_raw_df['Title'] = metacritic_raw_df['Title'].str.replace(r'[^\\x00-\\x7f]', '')\n",
    "# Remove all non-alpha-numeric\n",
    "metacritic_raw_df['Title'] = metacritic_raw_df['Title'].str.replace(r'[^A-Za-z0-9 ]+', '')\n",
    "# Remove all duplicate whitespace\n",
    "metacritic_raw_df['Title'] = metacritic_raw_df['Title'].str.replace(r'\\s+', ' ')\n",
    "# Remove leading and trailing whitespace\n",
    "metacritic_raw_df['Title'] = metacritic_raw_df['Title'].str.strip(r' ')\n",
    "\n",
    "# # Convert roman numerals mid sentence\n",
    "# metacritic_raw_df['Title'] = metacritic_raw_df['Title'].str.replace(r' i ', ' 1 ')\n",
    "# metacritic_raw_df['Title'] = metacritic_raw_df['Title'].str.replace(r' ii ', ' 2 ')\n",
    "# metacritic_raw_df['Title'] = metacritic_raw_df['Title'].str.replace(r' iii ', ' 3 ')\n",
    "# metacritic_raw_df['Title'] = metacritic_raw_df['Title'].str.replace(r' v ', ' 5 ')\n",
    "# metacritic_raw_df['Title'] = metacritic_raw_df['Title'].str.replace(r' vi ', ' 6 ')\n",
    "# metacritic_raw_df['Title'] = metacritic_raw_df['Title'].str.replace(r' vii ', ' 7 ')\n",
    "# metacritic_raw_df['Title'] = metacritic_raw_df['Title'].str.replace(r' viii ', ' 8 ')\n",
    "# metacritic_raw_df['Title'] = metacritic_raw_df['Title'].str.replace(r' ix ', ' 9 ')\n",
    "# metacritic_raw_df['Title'] = metacritic_raw_df['Title'].str.replace(r' x ', ' 10 ')\n",
    "# metacritic_raw_df['Title'] = metacritic_raw_df['Title'].str.replace(r' xi ', '11 ')\n",
    "# metacritic_raw_df['Title'] = metacritic_raw_df['Title'].str.replace(r' xii ', '12 ')\n",
    "# metacritic_raw_df['Title'] = metacritic_raw_df['Title'].str.replace(r' xiii ', '13 ')\n",
    "# metacritic_raw_df['Title'] = metacritic_raw_df['Title'].str.replace(r' xiv ', '14 ')\n",
    "\n",
    "# # Convert roman numerals end sentence\n",
    "# metacritic_raw_df['Title'] = metacritic_raw_df['Title'].str.replace(r' i', ' 1 ')\n",
    "# metacritic_raw_df['Title'] = metacritic_raw_df['Title'].str.replace(r' ii', ' 2 ')\n",
    "# metacritic_raw_df['Title'] = metacritic_raw_df['Title'].str.replace(r' iii', ' 3 ')\n",
    "# metacritic_raw_df['Title'] = metacritic_raw_df['Title'].str.replace(r' v', ' 5 ')\n",
    "# metacritic_raw_df['Title'] = metacritic_raw_df['Title'].str.replace(r' vi', ' 6 ')\n",
    "# metacritic_raw_df['Title'] = metacritic_raw_df['Title'].str.replace(r' vii', ' 7 ')\n",
    "# metacritic_raw_df['Title'] = metacritic_raw_df['Title'].str.replace(r' viii', ' 8 ')\n",
    "# metacritic_raw_df['Title'] = metacritic_raw_df['Title'].str.replace(r' ix', ' 9 ')\n",
    "# metacritic_raw_df['Title'] = metacritic_raw_df['Title'].str.replace(r' x', ' 10 ')\n",
    "# metacritic_raw_df['Title'] = metacritic_raw_df['Title'].str.replace(r' xi', '11 ')\n",
    "# metacritic_raw_df['Title'] = metacritic_raw_df['Title'].str.replace(r' xii', '12 ')\n",
    "# metacritic_raw_df['Title'] = metacritic_raw_df['Title'].str.replace(r' xiii', '13 ')\n",
    "# metacritic_raw_df['Title'] = metacritic_raw_df['Title'].str.replace(r' xiv', '14 ')\n",
    "\n",
    "# Remove all unwanted values from the remove_list\n",
    "metacritic_raw_df['Title'] = metacritic_raw_df['Title'].str.replace('|'.join(remove_list), '')\n",
    "\n",
    "# Replace all keys from the replace_dict with their values within the dataframe\n",
    "metacritic_raw_df['Title'] = metacritic_raw_df['Title'].replace(replace_dict, regex=True)"
   ]
  },
  {
   "cell_type": "markdown",
   "metadata": {},
   "source": [
    "# steamspy_tag Load, transform, clean"
   ]
  },
  {
   "cell_type": "code",
   "execution_count": 29,
   "metadata": {},
   "outputs": [
    {
     "name": "stdout",
     "output_type": "stream",
     "text": [
      "(29022, 372)\n"
     ]
    },
    {
     "data": {
      "text/html": "<div>\n<style scoped>\n    .dataframe tbody tr th:only-of-type {\n        vertical-align: middle;\n    }\n\n    .dataframe tbody tr th {\n        vertical-align: top;\n    }\n\n    .dataframe thead th {\n        text-align: right;\n    }\n</style>\n<table border=\"1\" class=\"dataframe\">\n  <thead>\n    <tr style=\"text-align: right;\">\n      <th></th>\n      <th>appid</th>\n      <th>1980s</th>\n      <th>1990s</th>\n      <th>2.5d</th>\n      <th>2d</th>\n      <th>2d_fighter</th>\n      <th>360_video</th>\n      <th>3d</th>\n      <th>3d_platformer</th>\n      <th>3d_vision</th>\n      <th>...</th>\n      <th>warhammer_40k</th>\n      <th>web_publishing</th>\n      <th>werewolves</th>\n      <th>western</th>\n      <th>word_game</th>\n      <th>world_war_i</th>\n      <th>world_war_ii</th>\n      <th>wrestling</th>\n      <th>zombies</th>\n      <th>e_sports</th>\n    </tr>\n  </thead>\n  <tbody>\n    <tr>\n      <th>0</th>\n      <td>10</td>\n      <td>144</td>\n      <td>564</td>\n      <td>0</td>\n      <td>0</td>\n      <td>0</td>\n      <td>0</td>\n      <td>0</td>\n      <td>0</td>\n      <td>0</td>\n      <td>...</td>\n      <td>0</td>\n      <td>0</td>\n      <td>0</td>\n      <td>0</td>\n      <td>0</td>\n      <td>0</td>\n      <td>0</td>\n      <td>0</td>\n      <td>0</td>\n      <td>550</td>\n    </tr>\n    <tr>\n      <th>1</th>\n      <td>20</td>\n      <td>0</td>\n      <td>71</td>\n      <td>0</td>\n      <td>0</td>\n      <td>0</td>\n      <td>0</td>\n      <td>0</td>\n      <td>0</td>\n      <td>0</td>\n      <td>...</td>\n      <td>0</td>\n      <td>0</td>\n      <td>0</td>\n      <td>0</td>\n      <td>0</td>\n      <td>0</td>\n      <td>0</td>\n      <td>0</td>\n      <td>0</td>\n      <td>0</td>\n    </tr>\n    <tr>\n      <th>2</th>\n      <td>30</td>\n      <td>0</td>\n      <td>0</td>\n      <td>0</td>\n      <td>0</td>\n      <td>0</td>\n      <td>0</td>\n      <td>0</td>\n      <td>0</td>\n      <td>0</td>\n      <td>...</td>\n      <td>0</td>\n      <td>0</td>\n      <td>0</td>\n      <td>0</td>\n      <td>0</td>\n      <td>5</td>\n      <td>122</td>\n      <td>0</td>\n      <td>0</td>\n      <td>0</td>\n    </tr>\n    <tr>\n      <th>3</th>\n      <td>40</td>\n      <td>0</td>\n      <td>0</td>\n      <td>0</td>\n      <td>0</td>\n      <td>0</td>\n      <td>0</td>\n      <td>0</td>\n      <td>0</td>\n      <td>0</td>\n      <td>...</td>\n      <td>0</td>\n      <td>0</td>\n      <td>0</td>\n      <td>0</td>\n      <td>0</td>\n      <td>0</td>\n      <td>0</td>\n      <td>0</td>\n      <td>0</td>\n      <td>0</td>\n    </tr>\n    <tr>\n      <th>4</th>\n      <td>50</td>\n      <td>0</td>\n      <td>77</td>\n      <td>0</td>\n      <td>0</td>\n      <td>0</td>\n      <td>0</td>\n      <td>0</td>\n      <td>0</td>\n      <td>0</td>\n      <td>...</td>\n      <td>0</td>\n      <td>0</td>\n      <td>0</td>\n      <td>0</td>\n      <td>0</td>\n      <td>0</td>\n      <td>0</td>\n      <td>0</td>\n      <td>0</td>\n      <td>0</td>\n    </tr>\n  </tbody>\n</table>\n<p>5 rows × 372 columns</p>\n</div>",
      "text/plain": "   appid  1980s  1990s  2.5d  2d  2d_fighter  360_video  3d  3d_platformer  \\\n0     10    144    564     0   0           0          0   0              0   \n1     20      0     71     0   0           0          0   0              0   \n2     30      0      0     0   0           0          0   0              0   \n3     40      0      0     0   0           0          0   0              0   \n4     50      0     77     0   0           0          0   0              0   \n\n   3d_vision  ...  warhammer_40k  web_publishing  werewolves  western  \\\n0          0  ...              0               0           0        0   \n1          0  ...              0               0           0        0   \n2          0  ...              0               0           0        0   \n3          0  ...              0               0           0        0   \n4          0  ...              0               0           0        0   \n\n   word_game  world_war_i  world_war_ii  wrestling  zombies  e_sports  \n0          0            0             0          0        0       550  \n1          0            0             0          0        0         0  \n2          0            5           122          0        0         0  \n3          0            0             0          0        0         0  \n4          0            0             0          0        0         0  \n\n[5 rows x 372 columns]"
     },
     "execution_count": 29,
     "metadata": {},
     "output_type": "execute_result"
    }
   ],
   "source": [
    "#### Read in and preview steamspy tag info\n",
    "steamspy_tag_raw_df = pd.read_csv('steamspy_tag_data.csv')\n",
    "print(steamspy_tag_raw_df.shape)\n",
    "steamspy_tag_raw_df.head()"
   ]
  },
  {
   "cell_type": "code",
   "execution_count": 30,
   "metadata": {},
   "outputs": [],
   "source": [
    "# THIS NEEDS TO BE CHANGED...IT ONLY EXISTS TO DEMO MATCHING OPTIMIZATION ATTEMPT\n",
    "steamspy_tag_raw_df.drop_duplicates(subset =\"appid\", keep='last', inplace = True)"
   ]
  },
  {
   "cell_type": "markdown",
   "metadata": {},
   "source": [
    "# Steam_Twitch Merge Testing"
   ]
  },
  {
   "cell_type": "code",
   "execution_count": 31,
   "metadata": {},
   "outputs": [],
   "source": [
    "# Output to be used towards blending the mockup database\n",
    "steam_twitch = pd.merge(left=steam_store_raw_df, right=twitch_raw_df, left_on='name', right_on='Game')\n",
    "steam_twitch.shape\n",
    "steam_twitch.to_csv('explore_csvs/steam_twitch_merge.csv')"
   ]
  },
  {
   "cell_type": "code",
   "execution_count": 32,
   "metadata": {},
   "outputs": [
    {
     "data": {
      "text/plain": "(720, 28)"
     },
     "execution_count": 32,
     "metadata": {},
     "output_type": "execute_result"
    }
   ],
   "source": [
    "steam_twitch.shape"
   ]
  },
  {
   "cell_type": "code",
   "execution_count": 33,
   "metadata": {},
   "outputs": [],
   "source": [
    "twitch_steam_unmatched = pd.merge(left=twitch_raw_df, right=steam_store_raw_df, how='left', left_on='Game', right_on='name')"
   ]
  },
  {
   "cell_type": "code",
   "execution_count": 34,
   "metadata": {},
   "outputs": [
    {
     "name": "stdout",
     "output_type": "stream",
     "text": [
      "(918, 28)\n"
     ]
    }
   ],
   "source": [
    "drop_condition_right = twitch_steam_unmatched['Game'].isin(steam_twitch['name'])\n",
    "twitch_steam_unmatched.drop(twitch_steam_unmatched[drop_condition_right].index, inplace = True)\n",
    "print(twitch_steam_unmatched.shape)\n",
    "twitch_steam_unmatched.to_csv('explore_csvs/twitch_steam_unmatched.csv')"
   ]
  },
  {
   "cell_type": "code",
   "execution_count": 35,
   "metadata": {},
   "outputs": [
    {
     "data": {
      "text/html": "<div>\n<style scoped>\n    .dataframe tbody tr th:only-of-type {\n        vertical-align: middle;\n    }\n\n    .dataframe tbody tr th {\n        vertical-align: top;\n    }\n\n    .dataframe thead th {\n        text-align: right;\n    }\n</style>\n<table border=\"1\" class=\"dataframe\">\n  <thead>\n    <tr style=\"text-align: right;\">\n      <th></th>\n      <th>appid</th>\n      <th>name</th>\n      <th>release_date</th>\n      <th>english</th>\n      <th>developer</th>\n      <th>publisher</th>\n      <th>platforms</th>\n      <th>required_age</th>\n      <th>achievements</th>\n      <th>positive_ratings</th>\n      <th>...</th>\n      <th>Month</th>\n      <th>Year</th>\n      <th>Hours_watched</th>\n      <th>Hours_Streamed</th>\n      <th>Peak_viewers</th>\n      <th>Peak_channels</th>\n      <th>Streamers</th>\n      <th>Avg_viewers</th>\n      <th>Avg_channels</th>\n      <th>Avg_viewer_ratio</th>\n    </tr>\n  </thead>\n  <tbody>\n    <tr>\n      <th>0</th>\n      <td>10</td>\n      <td>counterstrike</td>\n      <td>2000-11-01</td>\n      <td>1</td>\n      <td>Valve</td>\n      <td>Valve</td>\n      <td>windows;mac;linux</td>\n      <td>0</td>\n      <td>0</td>\n      <td>124534</td>\n      <td>...</td>\n      <td>NaN</td>\n      <td>NaN</td>\n      <td>NaN</td>\n      <td>NaN</td>\n      <td>NaN</td>\n      <td>NaN</td>\n      <td>NaN</td>\n      <td>NaN</td>\n      <td>NaN</td>\n      <td>NaN</td>\n    </tr>\n    <tr>\n      <th>1</th>\n      <td>20</td>\n      <td>team fortress classic</td>\n      <td>1999-04-01</td>\n      <td>1</td>\n      <td>Valve</td>\n      <td>Valve</td>\n      <td>windows;mac;linux</td>\n      <td>0</td>\n      <td>0</td>\n      <td>3318</td>\n      <td>...</td>\n      <td>NaN</td>\n      <td>NaN</td>\n      <td>NaN</td>\n      <td>NaN</td>\n      <td>NaN</td>\n      <td>NaN</td>\n      <td>NaN</td>\n      <td>NaN</td>\n      <td>NaN</td>\n      <td>NaN</td>\n    </tr>\n    <tr>\n      <th>2</th>\n      <td>30</td>\n      <td>day of defeat</td>\n      <td>2003-05-01</td>\n      <td>1</td>\n      <td>Valve</td>\n      <td>Valve</td>\n      <td>windows;mac;linux</td>\n      <td>0</td>\n      <td>0</td>\n      <td>3416</td>\n      <td>...</td>\n      <td>NaN</td>\n      <td>NaN</td>\n      <td>NaN</td>\n      <td>NaN</td>\n      <td>NaN</td>\n      <td>NaN</td>\n      <td>NaN</td>\n      <td>NaN</td>\n      <td>NaN</td>\n      <td>NaN</td>\n    </tr>\n    <tr>\n      <th>3</th>\n      <td>40</td>\n      <td>deathmatch classic</td>\n      <td>2001-06-01</td>\n      <td>1</td>\n      <td>Valve</td>\n      <td>Valve</td>\n      <td>windows;mac;linux</td>\n      <td>0</td>\n      <td>0</td>\n      <td>1273</td>\n      <td>...</td>\n      <td>NaN</td>\n      <td>NaN</td>\n      <td>NaN</td>\n      <td>NaN</td>\n      <td>NaN</td>\n      <td>NaN</td>\n      <td>NaN</td>\n      <td>NaN</td>\n      <td>NaN</td>\n      <td>NaN</td>\n    </tr>\n    <tr>\n      <th>4</th>\n      <td>50</td>\n      <td>halflife opposing force</td>\n      <td>1999-11-01</td>\n      <td>1</td>\n      <td>Gearbox Software</td>\n      <td>Valve</td>\n      <td>windows;mac;linux</td>\n      <td>0</td>\n      <td>0</td>\n      <td>5250</td>\n      <td>...</td>\n      <td>NaN</td>\n      <td>NaN</td>\n      <td>NaN</td>\n      <td>NaN</td>\n      <td>NaN</td>\n      <td>NaN</td>\n      <td>NaN</td>\n      <td>NaN</td>\n      <td>NaN</td>\n      <td>NaN</td>\n    </tr>\n    <tr>\n      <th>...</th>\n      <td>...</td>\n      <td>...</td>\n      <td>...</td>\n      <td>...</td>\n      <td>...</td>\n      <td>...</td>\n      <td>...</td>\n      <td>...</td>\n      <td>...</td>\n      <td>...</td>\n      <td>...</td>\n      <td>...</td>\n      <td>...</td>\n      <td>...</td>\n      <td>...</td>\n      <td>...</td>\n      <td>...</td>\n      <td>...</td>\n      <td>...</td>\n      <td>...</td>\n      <td>...</td>\n    </tr>\n    <tr>\n      <th>26863</th>\n      <td>1065230</td>\n      <td>room of pandora</td>\n      <td>2019-04-24</td>\n      <td>1</td>\n      <td>SHEN JIAWEI</td>\n      <td>SHEN JIAWEI</td>\n      <td>windows</td>\n      <td>0</td>\n      <td>7</td>\n      <td>3</td>\n      <td>...</td>\n      <td>NaN</td>\n      <td>NaN</td>\n      <td>NaN</td>\n      <td>NaN</td>\n      <td>NaN</td>\n      <td>NaN</td>\n      <td>NaN</td>\n      <td>NaN</td>\n      <td>NaN</td>\n      <td>NaN</td>\n    </tr>\n    <tr>\n      <th>26864</th>\n      <td>1065570</td>\n      <td>cyber gun</td>\n      <td>2019-04-23</td>\n      <td>1</td>\n      <td>Semyon Maximov</td>\n      <td>BekkerDev Studio</td>\n      <td>windows</td>\n      <td>0</td>\n      <td>0</td>\n      <td>8</td>\n      <td>...</td>\n      <td>NaN</td>\n      <td>NaN</td>\n      <td>NaN</td>\n      <td>NaN</td>\n      <td>NaN</td>\n      <td>NaN</td>\n      <td>NaN</td>\n      <td>NaN</td>\n      <td>NaN</td>\n      <td>NaN</td>\n    </tr>\n    <tr>\n      <th>26865</th>\n      <td>1065650</td>\n      <td>super star blast</td>\n      <td>2019-04-24</td>\n      <td>1</td>\n      <td>EntwicklerX</td>\n      <td>EntwicklerX</td>\n      <td>windows</td>\n      <td>0</td>\n      <td>24</td>\n      <td>0</td>\n      <td>...</td>\n      <td>NaN</td>\n      <td>NaN</td>\n      <td>NaN</td>\n      <td>NaN</td>\n      <td>NaN</td>\n      <td>NaN</td>\n      <td>NaN</td>\n      <td>NaN</td>\n      <td>NaN</td>\n      <td>NaN</td>\n    </tr>\n    <tr>\n      <th>26866</th>\n      <td>1066700</td>\n      <td>new yankee 7 deer hunters</td>\n      <td>2019-04-17</td>\n      <td>1</td>\n      <td>Yustas Game Studio</td>\n      <td>Alawar Entertainment</td>\n      <td>windows;mac</td>\n      <td>0</td>\n      <td>0</td>\n      <td>2</td>\n      <td>...</td>\n      <td>NaN</td>\n      <td>NaN</td>\n      <td>NaN</td>\n      <td>NaN</td>\n      <td>NaN</td>\n      <td>NaN</td>\n      <td>NaN</td>\n      <td>NaN</td>\n      <td>NaN</td>\n      <td>NaN</td>\n    </tr>\n    <tr>\n      <th>26867</th>\n      <td>1069460</td>\n      <td>rune lord</td>\n      <td>2019-04-24</td>\n      <td>1</td>\n      <td>Adept Studios GD</td>\n      <td>Alawar Entertainment</td>\n      <td>windows;mac</td>\n      <td>0</td>\n      <td>0</td>\n      <td>4</td>\n      <td>...</td>\n      <td>NaN</td>\n      <td>NaN</td>\n      <td>NaN</td>\n      <td>NaN</td>\n      <td>NaN</td>\n      <td>NaN</td>\n      <td>NaN</td>\n      <td>NaN</td>\n      <td>NaN</td>\n      <td>NaN</td>\n    </tr>\n  </tbody>\n</table>\n<p>26868 rows × 28 columns</p>\n</div>",
      "text/plain": "         appid                       name release_date  english  \\\n0           10              counterstrike   2000-11-01        1   \n1           20      team fortress classic   1999-04-01        1   \n2           30              day of defeat   2003-05-01        1   \n3           40         deathmatch classic   2001-06-01        1   \n4           50    halflife opposing force   1999-11-01        1   \n...        ...                        ...          ...      ...   \n26863  1065230            room of pandora   2019-04-24        1   \n26864  1065570                  cyber gun   2019-04-23        1   \n26865  1065650           super star blast   2019-04-24        1   \n26866  1066700  new yankee 7 deer hunters   2019-04-17        1   \n26867  1069460                  rune lord   2019-04-24        1   \n\n                developer             publisher          platforms  \\\n0                   Valve                 Valve  windows;mac;linux   \n1                   Valve                 Valve  windows;mac;linux   \n2                   Valve                 Valve  windows;mac;linux   \n3                   Valve                 Valve  windows;mac;linux   \n4        Gearbox Software                 Valve  windows;mac;linux   \n...                   ...                   ...                ...   \n26863         SHEN JIAWEI           SHEN JIAWEI            windows   \n26864      Semyon Maximov      BekkerDev Studio            windows   \n26865         EntwicklerX           EntwicklerX            windows   \n26866  Yustas Game Studio  Alawar Entertainment        windows;mac   \n26867    Adept Studios GD  Alawar Entertainment        windows;mac   \n\n       required_age  achievements  positive_ratings  ...  Month  Year  \\\n0                 0             0            124534  ...    NaN   NaN   \n1                 0             0              3318  ...    NaN   NaN   \n2                 0             0              3416  ...    NaN   NaN   \n3                 0             0              1273  ...    NaN   NaN   \n4                 0             0              5250  ...    NaN   NaN   \n...             ...           ...               ...  ...    ...   ...   \n26863             0             7                 3  ...    NaN   NaN   \n26864             0             0                 8  ...    NaN   NaN   \n26865             0            24                 0  ...    NaN   NaN   \n26866             0             0                 2  ...    NaN   NaN   \n26867             0             0                 4  ...    NaN   NaN   \n\n       Hours_watched Hours_Streamed  Peak_viewers Peak_channels  Streamers  \\\n0                NaN            NaN           NaN           NaN        NaN   \n1                NaN            NaN           NaN           NaN        NaN   \n2                NaN            NaN           NaN           NaN        NaN   \n3                NaN            NaN           NaN           NaN        NaN   \n4                NaN            NaN           NaN           NaN        NaN   \n...              ...            ...           ...           ...        ...   \n26863            NaN            NaN           NaN           NaN        NaN   \n26864            NaN            NaN           NaN           NaN        NaN   \n26865            NaN            NaN           NaN           NaN        NaN   \n26866            NaN            NaN           NaN           NaN        NaN   \n26867            NaN            NaN           NaN           NaN        NaN   \n\n      Avg_viewers  Avg_channels  Avg_viewer_ratio  \n0             NaN           NaN               NaN  \n1             NaN           NaN               NaN  \n2             NaN           NaN               NaN  \n3             NaN           NaN               NaN  \n4             NaN           NaN               NaN  \n...           ...           ...               ...  \n26863         NaN           NaN               NaN  \n26864         NaN           NaN               NaN  \n26865         NaN           NaN               NaN  \n26866         NaN           NaN               NaN  \n26867         NaN           NaN               NaN  \n\n[26868 rows x 28 columns]"
     },
     "execution_count": 35,
     "metadata": {},
     "output_type": "execute_result"
    }
   ],
   "source": [
    "steam_unmatched = pd.merge(left=steam_store_raw_df, right=twitch_raw_df, how='left', left_on='name', right_on='Game')\n",
    "steam_unmatched.shape\n",
    "steam_unmatched"
   ]
  },
  {
   "cell_type": "code",
   "execution_count": 36,
   "metadata": {},
   "outputs": [
    {
     "name": "stdout",
     "output_type": "stream",
     "text": [
      "(26148, 28)\n"
     ]
    }
   ],
   "source": [
    "drop_condition_left = steam_unmatched['name'].isin(steam_twitch['name'])\n",
    "steam_unmatched.drop(steam_unmatched[drop_condition_left].index, inplace = True)\n",
    "print(steam_unmatched.shape)\n",
    "steam_unmatched.to_csv('explore_csvs/steam_unmatched.csv')"
   ]
  },
  {
   "cell_type": "markdown",
   "metadata": {},
   "source": [
    "# Meta_Twitch Merge testing"
   ]
  },
  {
   "cell_type": "code",
   "execution_count": 37,
   "metadata": {},
   "outputs": [],
   "source": [
    "# Output to be used towards blending the mockup database\n",
    "meta_twitch = pd.merge(left=metacritic_raw_df, right=twitch_raw_df, left_on='Title', right_on='Game')\n",
    "meta_twitch.shape\n",
    "meta_twitch.to_csv('explore_csvs/meta_twitch_merge.csv')"
   ]
  },
  {
   "cell_type": "code",
   "execution_count": 38,
   "metadata": {},
   "outputs": [
    {
     "data": {
      "text/plain": "(305, 21)"
     },
     "execution_count": 38,
     "metadata": {},
     "output_type": "execute_result"
    }
   ],
   "source": [
    "meta_twitch.shape"
   ]
  },
  {
   "cell_type": "code",
   "execution_count": 39,
   "metadata": {},
   "outputs": [],
   "source": [
    "twitch_meta_unmatched = pd.merge(left=twitch_raw_df, right=metacritic_raw_df, how='left', left_on='Game', right_on='Title')"
   ]
  },
  {
   "cell_type": "code",
   "execution_count": 40,
   "metadata": {},
   "outputs": [
    {
     "name": "stdout",
     "output_type": "stream",
     "text": [
      "(1336, 21)\n"
     ]
    }
   ],
   "source": [
    "drop_condition_right = twitch_meta_unmatched['Game'].isin(meta_twitch['Title'])\n",
    "twitch_meta_unmatched.drop(twitch_meta_unmatched[drop_condition_right].index, inplace = True)\n",
    "print(twitch_meta_unmatched.shape)\n",
    "twitch_meta_unmatched.to_csv('explore_csvs/twitch_meta_unmatched.csv')"
   ]
  },
  {
   "cell_type": "code",
   "execution_count": 41,
   "metadata": {},
   "outputs": [
    {
     "data": {
      "text/html": "<div>\n<style scoped>\n    .dataframe tbody tr th:only-of-type {\n        vertical-align: middle;\n    }\n\n    .dataframe tbody tr th {\n        vertical-align: top;\n    }\n\n    .dataframe thead th {\n        text-align: right;\n    }\n</style>\n<table border=\"1\" class=\"dataframe\">\n  <thead>\n    <tr style=\"text-align: right;\">\n      <th></th>\n      <th>Unnamed: 0</th>\n      <th>Title</th>\n      <th>Year_x</th>\n      <th>Publisher</th>\n      <th>Genre</th>\n      <th>Platform</th>\n      <th>Metascore</th>\n      <th>Avg_Userscore</th>\n      <th>No_Players</th>\n      <th>Rank</th>\n      <th>...</th>\n      <th>Month</th>\n      <th>Year_y</th>\n      <th>Hours_watched</th>\n      <th>Hours_Streamed</th>\n      <th>Peak_viewers</th>\n      <th>Peak_channels</th>\n      <th>Streamers</th>\n      <th>Avg_viewers</th>\n      <th>Avg_channels</th>\n      <th>Avg_viewer_ratio</th>\n    </tr>\n  </thead>\n  <tbody>\n    <tr>\n      <th>0</th>\n      <td>20</td>\n      <td>halflife 2</td>\n      <td>2004</td>\n      <td>ValveSoftware</td>\n      <td>Action;Shooter;Shooter;First-Person;Sci-Fi;Sci...</td>\n      <td>PC</td>\n      <td>96</td>\n      <td>9.1</td>\n      <td>No Online Multiplayer</td>\n      <td>163.0</td>\n      <td>...</td>\n      <td>1.0</td>\n      <td>2016.0</td>\n      <td>211067.0</td>\n      <td>2357 hours</td>\n      <td>162911.0</td>\n      <td>16.0</td>\n      <td>669.0</td>\n      <td>284.0</td>\n      <td>3.0</td>\n      <td>89.55</td>\n    </tr>\n    <tr>\n      <th>1</th>\n      <td>21</td>\n      <td>grand theft auto v</td>\n      <td>2015</td>\n      <td>RockstarNorth</td>\n      <td>Modern;Action Adventure;Open-World</td>\n      <td>PC</td>\n      <td>96</td>\n      <td>7.7</td>\n      <td>Up to 32</td>\n      <td>19.0</td>\n      <td>...</td>\n      <td>1.0</td>\n      <td>2016.0</td>\n      <td>4014296.0</td>\n      <td>407172 hours</td>\n      <td>32724.0</td>\n      <td>1197.0</td>\n      <td>85441.0</td>\n      <td>5402.0</td>\n      <td>548.0</td>\n      <td>9.86</td>\n    </tr>\n    <tr>\n      <th>2</th>\n      <td>28</td>\n      <td>the orange box</td>\n      <td>2007</td>\n      <td>ValveSoftware</td>\n      <td>Action;Miscellaneous;Shooter;Compilation;First...</td>\n      <td>PC</td>\n      <td>96</td>\n      <td>9.2</td>\n      <td>16  Online</td>\n      <td>NaN</td>\n      <td>...</td>\n      <td>NaN</td>\n      <td>NaN</td>\n      <td>NaN</td>\n      <td>NaN</td>\n      <td>NaN</td>\n      <td>NaN</td>\n      <td>NaN</td>\n      <td>NaN</td>\n      <td>NaN</td>\n      <td>NaN</td>\n    </tr>\n    <tr>\n      <th>3</th>\n      <td>34</td>\n      <td>halflife</td>\n      <td>1998</td>\n      <td>ValveSoftware</td>\n      <td>Action;Shooter;Shooter;First-Person;Sci-Fi;Sci...</td>\n      <td>PC</td>\n      <td>96</td>\n      <td>9.1</td>\n      <td>1-32</td>\n      <td>NaN</td>\n      <td>...</td>\n      <td>NaN</td>\n      <td>NaN</td>\n      <td>NaN</td>\n      <td>NaN</td>\n      <td>NaN</td>\n      <td>NaN</td>\n      <td>NaN</td>\n      <td>NaN</td>\n      <td>NaN</td>\n      <td>NaN</td>\n    </tr>\n    <tr>\n      <th>4</th>\n      <td>38</td>\n      <td>bioshock</td>\n      <td>2007</td>\n      <td>IrrationalGames,2KMarin</td>\n      <td>Action;Shooter;Shooter;First-Person;Sci-Fi;Sci...</td>\n      <td>PC</td>\n      <td>96</td>\n      <td>8.5</td>\n      <td>No Online Multiplayer</td>\n      <td>167.0</td>\n      <td>...</td>\n      <td>7.0</td>\n      <td>2016.0</td>\n      <td>189398.0</td>\n      <td>3650 hours</td>\n      <td>128499.0</td>\n      <td>25.0</td>\n      <td>1022.0</td>\n      <td>254.0</td>\n      <td>4.0</td>\n      <td>51.89</td>\n    </tr>\n    <tr>\n      <th>...</th>\n      <td>...</td>\n      <td>...</td>\n      <td>...</td>\n      <td>...</td>\n      <td>...</td>\n      <td>...</td>\n      <td>...</td>\n      <td>...</td>\n      <td>...</td>\n      <td>...</td>\n      <td>...</td>\n      <td>...</td>\n      <td>...</td>\n      <td>...</td>\n      <td>...</td>\n      <td>...</td>\n      <td>...</td>\n      <td>...</td>\n      <td>...</td>\n      <td>...</td>\n      <td>...</td>\n    </tr>\n    <tr>\n      <th>1379</th>\n      <td>4977</td>\n      <td>command conquer 3 kanes wrath</td>\n      <td>2008</td>\n      <td>EALA</td>\n      <td>Strategy;Real-Time;Sci-Fi;Sci-Fi;General</td>\n      <td>PC</td>\n      <td>77</td>\n      <td>8.2</td>\n      <td>8  Online</td>\n      <td>NaN</td>\n      <td>...</td>\n      <td>NaN</td>\n      <td>NaN</td>\n      <td>NaN</td>\n      <td>NaN</td>\n      <td>NaN</td>\n      <td>NaN</td>\n      <td>NaN</td>\n      <td>NaN</td>\n      <td>NaN</td>\n      <td>NaN</td>\n    </tr>\n    <tr>\n      <th>1380</th>\n      <td>4985</td>\n      <td>arena wars</td>\n      <td>2004</td>\n      <td>AscaronEntertainmentGmbH,AscaronEntertainment</td>\n      <td>Strategy;Real-Time;Modern;General;Modern</td>\n      <td>PC</td>\n      <td>77</td>\n      <td>7.7</td>\n      <td>1-8</td>\n      <td>NaN</td>\n      <td>...</td>\n      <td>NaN</td>\n      <td>NaN</td>\n      <td>NaN</td>\n      <td>NaN</td>\n      <td>NaN</td>\n      <td>NaN</td>\n      <td>NaN</td>\n      <td>NaN</td>\n      <td>NaN</td>\n      <td>NaN</td>\n    </tr>\n    <tr>\n      <th>1381</th>\n      <td>4990</td>\n      <td>element4l</td>\n      <td>2013</td>\n      <td>i-illusions</td>\n      <td>Action;Platformer;Platformer;2D;2D</td>\n      <td>PC</td>\n      <td>77</td>\n      <td>7.7</td>\n      <td>not specified</td>\n      <td>NaN</td>\n      <td>...</td>\n      <td>NaN</td>\n      <td>NaN</td>\n      <td>NaN</td>\n      <td>NaN</td>\n      <td>NaN</td>\n      <td>NaN</td>\n      <td>NaN</td>\n      <td>NaN</td>\n      <td>NaN</td>\n      <td>NaN</td>\n    </tr>\n    <tr>\n      <th>1382</th>\n      <td>4991</td>\n      <td>anomaly 2</td>\n      <td>2013</td>\n      <td>11bitstudios</td>\n      <td>Action;Strategy;General;Real-Time;Sci-Fi;Sci-F...</td>\n      <td>PC</td>\n      <td>77</td>\n      <td>7.9</td>\n      <td>not specified</td>\n      <td>NaN</td>\n      <td>...</td>\n      <td>NaN</td>\n      <td>NaN</td>\n      <td>NaN</td>\n      <td>NaN</td>\n      <td>NaN</td>\n      <td>NaN</td>\n      <td>NaN</td>\n      <td>NaN</td>\n      <td>NaN</td>\n      <td>NaN</td>\n    </tr>\n    <tr>\n      <th>1383</th>\n      <td>4995</td>\n      <td>donut county</td>\n      <td>2018</td>\n      <td>BenEsposito</td>\n      <td>Action Adventure;General</td>\n      <td>PC</td>\n      <td>77</td>\n      <td>8.1</td>\n      <td>No Online Multiplayer</td>\n      <td>NaN</td>\n      <td>...</td>\n      <td>NaN</td>\n      <td>NaN</td>\n      <td>NaN</td>\n      <td>NaN</td>\n      <td>NaN</td>\n      <td>NaN</td>\n      <td>NaN</td>\n      <td>NaN</td>\n      <td>NaN</td>\n      <td>NaN</td>\n    </tr>\n  </tbody>\n</table>\n<p>1384 rows × 21 columns</p>\n</div>",
      "text/plain": "      Unnamed: 0                          Title Year_x  \\\n0             20                     halflife 2   2004   \n1             21             grand theft auto v   2015   \n2             28                 the orange box   2007   \n3             34                       halflife   1998   \n4             38                       bioshock   2007   \n...          ...                            ...    ...   \n1379        4977  command conquer 3 kanes wrath   2008   \n1380        4985                     arena wars   2004   \n1381        4990                      element4l   2013   \n1382        4991                      anomaly 2   2013   \n1383        4995                   donut county   2018   \n\n                                          Publisher  \\\n0                                     ValveSoftware   \n1                                     RockstarNorth   \n2                                     ValveSoftware   \n3                                     ValveSoftware   \n4                           IrrationalGames,2KMarin   \n...                                             ...   \n1379                                           EALA   \n1380  AscaronEntertainmentGmbH,AscaronEntertainment   \n1381                                    i-illusions   \n1382                                   11bitstudios   \n1383                                    BenEsposito   \n\n                                                  Genre Platform Metascore  \\\n0     Action;Shooter;Shooter;First-Person;Sci-Fi;Sci...       PC        96   \n1                    Modern;Action Adventure;Open-World       PC        96   \n2     Action;Miscellaneous;Shooter;Compilation;First...       PC        96   \n3     Action;Shooter;Shooter;First-Person;Sci-Fi;Sci...       PC        96   \n4     Action;Shooter;Shooter;First-Person;Sci-Fi;Sci...       PC        96   \n...                                                 ...      ...       ...   \n1379           Strategy;Real-Time;Sci-Fi;Sci-Fi;General       PC        77   \n1380           Strategy;Real-Time;Modern;General;Modern       PC        77   \n1381                 Action;Platformer;Platformer;2D;2D       PC        77   \n1382  Action;Strategy;General;Real-Time;Sci-Fi;Sci-F...       PC        77   \n1383                           Action Adventure;General       PC        77   \n\n     Avg_Userscore             No_Players   Rank  ... Month  Year_y  \\\n0              9.1  No Online Multiplayer  163.0  ...   1.0  2016.0   \n1              7.7              Up to 32    19.0  ...   1.0  2016.0   \n2              9.2             16  Online    NaN  ...   NaN     NaN   \n3              9.1                  1-32     NaN  ...   NaN     NaN   \n4              8.5  No Online Multiplayer  167.0  ...   7.0  2016.0   \n...            ...                    ...    ...  ...   ...     ...   \n1379           8.2              8  Online    NaN  ...   NaN     NaN   \n1380           7.7                   1-8     NaN  ...   NaN     NaN   \n1381           7.7          not specified    NaN  ...   NaN     NaN   \n1382           7.9          not specified    NaN  ...   NaN     NaN   \n1383           8.1  No Online Multiplayer    NaN  ...   NaN     NaN   \n\n      Hours_watched  Hours_Streamed Peak_viewers  Peak_channels  Streamers  \\\n0          211067.0      2357 hours     162911.0           16.0      669.0   \n1         4014296.0    407172 hours      32724.0         1197.0    85441.0   \n2               NaN             NaN          NaN            NaN        NaN   \n3               NaN             NaN          NaN            NaN        NaN   \n4          189398.0      3650 hours     128499.0           25.0     1022.0   \n...             ...             ...          ...            ...        ...   \n1379            NaN             NaN          NaN            NaN        NaN   \n1380            NaN             NaN          NaN            NaN        NaN   \n1381            NaN             NaN          NaN            NaN        NaN   \n1382            NaN             NaN          NaN            NaN        NaN   \n1383            NaN             NaN          NaN            NaN        NaN   \n\n      Avg_viewers  Avg_channels  Avg_viewer_ratio  \n0           284.0           3.0             89.55  \n1          5402.0         548.0              9.86  \n2             NaN           NaN               NaN  \n3             NaN           NaN               NaN  \n4           254.0           4.0             51.89  \n...           ...           ...               ...  \n1379          NaN           NaN               NaN  \n1380          NaN           NaN               NaN  \n1381          NaN           NaN               NaN  \n1382          NaN           NaN               NaN  \n1383          NaN           NaN               NaN  \n\n[1384 rows x 21 columns]"
     },
     "execution_count": 41,
     "metadata": {},
     "output_type": "execute_result"
    }
   ],
   "source": [
    "meta_unmatched = pd.merge(left=metacritic_raw_df, right=twitch_raw_df, how='left', left_on='Title', right_on='Game')\n",
    "meta_unmatched.shape\n",
    "meta_unmatched"
   ]
  },
  {
   "cell_type": "code",
   "execution_count": 42,
   "metadata": {},
   "outputs": [
    {
     "name": "stdout",
     "output_type": "stream",
     "text": [
      "(1079, 21)\n"
     ]
    }
   ],
   "source": [
    "drop_condition_left = meta_unmatched['Title'].isin(meta_twitch['Game'])\n",
    "meta_unmatched.drop(meta_unmatched[drop_condition_left].index, inplace = True)\n",
    "print(meta_unmatched.shape)\n",
    "meta_unmatched.to_csv('explore_csvs/meta_unmatched.csv')"
   ]
  },
  {
   "cell_type": "markdown",
   "metadata": {},
   "source": [
    "# FINAL MERGE"
   ]
  },
  {
   "cell_type": "code",
   "execution_count": 43,
   "metadata": {},
   "outputs": [],
   "source": [
    "# Standardize string merge column to 'Game'\n",
    "steam_store_raw_df.rename(columns = {'name':'Game'}, inplace=True)\n",
    "metacritic_raw_df.rename(columns = {'Title':'Game'}, inplace=True)"
   ]
  },
  {
   "cell_type": "code",
   "execution_count": 44,
   "metadata": {},
   "outputs": [],
   "source": [
    "# Create list of dfs that will join on Game str\n",
    "str_join_dfs = [steam_store_raw_df, metacritic_raw_df, twitch_raw_df]"
   ]
  },
  {
   "cell_type": "code",
   "execution_count": 45,
   "metadata": {},
   "outputs": [],
   "source": [
    "# String merge tables join\n",
    "from functools import reduce\n",
    "str_merge_df = reduce(lambda left,right: pd.merge(left,right,on='Game'),str_join_dfs)\n"
   ]
  },
  {
   "cell_type": "code",
   "execution_count": 46,
   "metadata": {},
   "outputs": [
    {
     "name": "stdout",
     "output_type": "stream",
     "text": [
      "(240, 35)\n"
     ]
    }
   ],
   "source": [
    "print(str_merge_df.shape)"
   ]
  },
  {
   "cell_type": "code",
   "execution_count": 47,
   "metadata": {},
   "outputs": [],
   "source": [
    "final_df = pd.merge(left=str_merge_df, right=steamspy_tag_raw_df, on='appid')"
   ]
  },
  {
   "cell_type": "code",
   "execution_count": 48,
   "metadata": {},
   "outputs": [
    {
     "name": "stdout",
     "output_type": "stream",
     "text": [
      "(240, 406)\n"
     ]
    },
    {
     "data": {
      "text/html": "<div>\n<style scoped>\n    .dataframe tbody tr th:only-of-type {\n        vertical-align: middle;\n    }\n\n    .dataframe tbody tr th {\n        vertical-align: top;\n    }\n\n    .dataframe thead th {\n        text-align: right;\n    }\n</style>\n<table border=\"1\" class=\"dataframe\">\n  <thead>\n    <tr style=\"text-align: right;\">\n      <th></th>\n      <th>appid</th>\n      <th>Game</th>\n      <th>release_date</th>\n      <th>english</th>\n      <th>developer</th>\n      <th>publisher</th>\n      <th>platforms</th>\n      <th>required_age</th>\n      <th>achievements</th>\n      <th>positive_ratings</th>\n      <th>...</th>\n      <th>warhammer_40k</th>\n      <th>web_publishing</th>\n      <th>werewolves</th>\n      <th>western</th>\n      <th>word_game</th>\n      <th>world_war_i</th>\n      <th>world_war_ii</th>\n      <th>wrestling</th>\n      <th>zombies</th>\n      <th>e_sports</th>\n    </tr>\n  </thead>\n  <tbody>\n    <tr>\n      <th>0</th>\n      <td>220</td>\n      <td>halflife 2</td>\n      <td>2004-11-16</td>\n      <td>1</td>\n      <td>Valve</td>\n      <td>Valve</td>\n      <td>windows;mac;linux</td>\n      <td>0</td>\n      <td>33</td>\n      <td>67902</td>\n      <td>...</td>\n      <td>0</td>\n      <td>0</td>\n      <td>0</td>\n      <td>0</td>\n      <td>0</td>\n      <td>0</td>\n      <td>0</td>\n      <td>0</td>\n      <td>607</td>\n      <td>0</td>\n    </tr>\n    <tr>\n      <th>1</th>\n      <td>440</td>\n      <td>team fortress 2</td>\n      <td>2007-10-10</td>\n      <td>1</td>\n      <td>Valve</td>\n      <td>Valve</td>\n      <td>windows;mac;linux</td>\n      <td>0</td>\n      <td>520</td>\n      <td>515879</td>\n      <td>...</td>\n      <td>0</td>\n      <td>0</td>\n      <td>0</td>\n      <td>0</td>\n      <td>0</td>\n      <td>0</td>\n      <td>0</td>\n      <td>0</td>\n      <td>0</td>\n      <td>0</td>\n    </tr>\n    <tr>\n      <th>2</th>\n      <td>500</td>\n      <td>left 4 dead</td>\n      <td>2008-11-17</td>\n      <td>1</td>\n      <td>Valve</td>\n      <td>Valve</td>\n      <td>windows;mac</td>\n      <td>0</td>\n      <td>73</td>\n      <td>17951</td>\n      <td>...</td>\n      <td>0</td>\n      <td>0</td>\n      <td>0</td>\n      <td>0</td>\n      <td>0</td>\n      <td>0</td>\n      <td>0</td>\n      <td>0</td>\n      <td>1064</td>\n      <td>0</td>\n    </tr>\n    <tr>\n      <th>3</th>\n      <td>550</td>\n      <td>left 4 dead 2</td>\n      <td>2009-11-19</td>\n      <td>1</td>\n      <td>Valve</td>\n      <td>Valve</td>\n      <td>windows;mac;linux</td>\n      <td>0</td>\n      <td>70</td>\n      <td>251789</td>\n      <td>...</td>\n      <td>0</td>\n      <td>0</td>\n      <td>0</td>\n      <td>0</td>\n      <td>0</td>\n      <td>0</td>\n      <td>0</td>\n      <td>0</td>\n      <td>5334</td>\n      <td>0</td>\n    </tr>\n    <tr>\n      <th>4</th>\n      <td>570</td>\n      <td>dota 2</td>\n      <td>2013-07-09</td>\n      <td>1</td>\n      <td>Valve</td>\n      <td>Valve</td>\n      <td>windows;mac;linux</td>\n      <td>0</td>\n      <td>0</td>\n      <td>863507</td>\n      <td>...</td>\n      <td>0</td>\n      <td>0</td>\n      <td>0</td>\n      <td>0</td>\n      <td>0</td>\n      <td>0</td>\n      <td>0</td>\n      <td>0</td>\n      <td>0</td>\n      <td>4768</td>\n    </tr>\n  </tbody>\n</table>\n<p>5 rows × 406 columns</p>\n</div>",
      "text/plain": "   appid             Game release_date  english developer publisher  \\\n0    220       halflife 2   2004-11-16        1     Valve     Valve   \n1    440  team fortress 2   2007-10-10        1     Valve     Valve   \n2    500      left 4 dead   2008-11-17        1     Valve     Valve   \n3    550    left 4 dead 2   2009-11-19        1     Valve     Valve   \n4    570           dota 2   2013-07-09        1     Valve     Valve   \n\n           platforms  required_age  achievements  positive_ratings  ...  \\\n0  windows;mac;linux             0            33             67902  ...   \n1  windows;mac;linux             0           520            515879  ...   \n2        windows;mac             0            73             17951  ...   \n3  windows;mac;linux             0            70            251789  ...   \n4  windows;mac;linux             0             0            863507  ...   \n\n   warhammer_40k  web_publishing  werewolves western  word_game world_war_i  \\\n0              0               0           0       0          0           0   \n1              0               0           0       0          0           0   \n2              0               0           0       0          0           0   \n3              0               0           0       0          0           0   \n4              0               0           0       0          0           0   \n\n   world_war_ii wrestling zombies e_sports  \n0             0         0     607        0  \n1             0         0       0        0  \n2             0         0    1064        0  \n3             0         0    5334        0  \n4             0         0       0     4768  \n\n[5 rows x 406 columns]"
     },
     "execution_count": 48,
     "metadata": {},
     "output_type": "execute_result"
    }
   ],
   "source": [
    "print(final_df.shape)\n",
    "final_df.head()"
   ]
  },
  {
   "cell_type": "code",
   "execution_count": 49,
   "metadata": {},
   "outputs": [],
   "source": [
    "final_df.to_csv('for_ml_model.csv')"
   ]
  },
  {
   "cell_type": "code",
   "execution_count": 50,
   "metadata": {},
   "outputs": [
    {
     "data": {
      "text/html": "<div>\n<style scoped>\n    .dataframe tbody tr th:only-of-type {\n        vertical-align: middle;\n    }\n\n    .dataframe tbody tr th {\n        vertical-align: top;\n    }\n\n    .dataframe thead th {\n        text-align: right;\n    }\n</style>\n<table border=\"1\" class=\"dataframe\">\n  <thead>\n    <tr style=\"text-align: right;\">\n      <th></th>\n      <th>appid</th>\n      <th>Game</th>\n      <th>release_date</th>\n      <th>english</th>\n      <th>developer</th>\n      <th>publisher</th>\n      <th>platforms</th>\n      <th>required_age</th>\n      <th>achievements</th>\n      <th>positive_ratings</th>\n      <th>...</th>\n      <th>warhammer_40k</th>\n      <th>web_publishing</th>\n      <th>werewolves</th>\n      <th>western</th>\n      <th>word_game</th>\n      <th>world_war_i</th>\n      <th>world_war_ii</th>\n      <th>wrestling</th>\n      <th>zombies</th>\n      <th>e_sports</th>\n    </tr>\n  </thead>\n  <tbody>\n    <tr>\n      <th>0</th>\n      <td>220</td>\n      <td>halflife 2</td>\n      <td>2004-11-16</td>\n      <td>1</td>\n      <td>Valve</td>\n      <td>Valve</td>\n      <td>windows;mac;linux</td>\n      <td>0</td>\n      <td>33</td>\n      <td>67902</td>\n      <td>...</td>\n      <td>0</td>\n      <td>0</td>\n      <td>0</td>\n      <td>0</td>\n      <td>0</td>\n      <td>0</td>\n      <td>0</td>\n      <td>0</td>\n      <td>607</td>\n      <td>0</td>\n    </tr>\n    <tr>\n      <th>1</th>\n      <td>440</td>\n      <td>team fortress 2</td>\n      <td>2007-10-10</td>\n      <td>1</td>\n      <td>Valve</td>\n      <td>Valve</td>\n      <td>windows;mac;linux</td>\n      <td>0</td>\n      <td>520</td>\n      <td>515879</td>\n      <td>...</td>\n      <td>0</td>\n      <td>0</td>\n      <td>0</td>\n      <td>0</td>\n      <td>0</td>\n      <td>0</td>\n      <td>0</td>\n      <td>0</td>\n      <td>0</td>\n      <td>0</td>\n    </tr>\n    <tr>\n      <th>2</th>\n      <td>500</td>\n      <td>left 4 dead</td>\n      <td>2008-11-17</td>\n      <td>1</td>\n      <td>Valve</td>\n      <td>Valve</td>\n      <td>windows;mac</td>\n      <td>0</td>\n      <td>73</td>\n      <td>17951</td>\n      <td>...</td>\n      <td>0</td>\n      <td>0</td>\n      <td>0</td>\n      <td>0</td>\n      <td>0</td>\n      <td>0</td>\n      <td>0</td>\n      <td>0</td>\n      <td>1064</td>\n      <td>0</td>\n    </tr>\n    <tr>\n      <th>3</th>\n      <td>550</td>\n      <td>left 4 dead 2</td>\n      <td>2009-11-19</td>\n      <td>1</td>\n      <td>Valve</td>\n      <td>Valve</td>\n      <td>windows;mac;linux</td>\n      <td>0</td>\n      <td>70</td>\n      <td>251789</td>\n      <td>...</td>\n      <td>0</td>\n      <td>0</td>\n      <td>0</td>\n      <td>0</td>\n      <td>0</td>\n      <td>0</td>\n      <td>0</td>\n      <td>0</td>\n      <td>5334</td>\n      <td>0</td>\n    </tr>\n    <tr>\n      <th>4</th>\n      <td>570</td>\n      <td>dota 2</td>\n      <td>2013-07-09</td>\n      <td>1</td>\n      <td>Valve</td>\n      <td>Valve</td>\n      <td>windows;mac;linux</td>\n      <td>0</td>\n      <td>0</td>\n      <td>863507</td>\n      <td>...</td>\n      <td>0</td>\n      <td>0</td>\n      <td>0</td>\n      <td>0</td>\n      <td>0</td>\n      <td>0</td>\n      <td>0</td>\n      <td>0</td>\n      <td>0</td>\n      <td>4768</td>\n    </tr>\n  </tbody>\n</table>\n<p>5 rows × 405 columns</p>\n</div>",
      "text/plain": "   appid             Game release_date  english developer publisher  \\\n0    220       halflife 2   2004-11-16        1     Valve     Valve   \n1    440  team fortress 2   2007-10-10        1     Valve     Valve   \n2    500      left 4 dead   2008-11-17        1     Valve     Valve   \n3    550    left 4 dead 2   2009-11-19        1     Valve     Valve   \n4    570           dota 2   2013-07-09        1     Valve     Valve   \n\n           platforms  required_age  achievements  positive_ratings  ...  \\\n0  windows;mac;linux             0            33             67902  ...   \n1  windows;mac;linux             0           520            515879  ...   \n2        windows;mac             0            73             17951  ...   \n3  windows;mac;linux             0            70            251789  ...   \n4  windows;mac;linux             0             0            863507  ...   \n\n   warhammer_40k  web_publishing  werewolves western  word_game world_war_i  \\\n0              0               0           0       0          0           0   \n1              0               0           0       0          0           0   \n2              0               0           0       0          0           0   \n3              0               0           0       0          0           0   \n4              0               0           0       0          0           0   \n\n  world_war_ii wrestling zombies e_sports  \n0            0         0     607        0  \n1            0         0       0        0  \n2            0         0    1064        0  \n3            0         0    5334        0  \n4            0         0       0     4768  \n\n[5 rows x 405 columns]"
     },
     "execution_count": 50,
     "metadata": {},
     "output_type": "execute_result"
    }
   ],
   "source": [
    "#dropping first column since there is already index for the df\n",
    "final_df.drop(\"Unnamed: 0\",inplace=True, axis=1)\n",
    "final_df.head()"
   ]
  },
  {
   "cell_type": "code",
   "execution_count": 52,
   "metadata": {},
   "outputs": [],
   "source": [
    "#put all column names to a list for future for loop use to go thru each of the columns in the list\n",
    "column_names_list = final_df.columns.to_list()"
   ]
  },
  {
   "cell_type": "code",
   "execution_count": 53,
   "metadata": {},
   "outputs": [],
   "source": [
    "#create an empty list to have the columns added to it (for dropping later)\n",
    "li = []\n",
    "\n",
    "#create a function to add in columns that's meeting a certain criteria\n",
    "def columns_ready_to_drop(col_name):\n",
    "    #if column value type is int, continue the following, if not, ignore.\n",
    "    if final_df[col_name].dtypes == \"int64\":\n",
    "\n",
    "        #if dataframe col_name has 0 values more than 80% of the number of rows, save in a list, and ready to drop\n",
    "        non_zero_rows = final_df[col_name].apply(lambda r: True if r > 0 else False)\n",
    "        numberOfRows = len(non_zero_rows[non_zero_rows == True].index)\n",
    "        #testing\n",
    "        #print(numberOfRows)\n",
    "        #When the percentage below is increasing, it means the column has to have less zero rows to be able to remain in the new database. \n",
    "        # 0.2 means if non-zero rows are only 20% or less of the total rows, the column will be add to the drop list.\n",
    "        if numberOfRows <= 0.20 *len(final_df):\n",
    "            li.append(col_name)\n",
    "        else:\n",
    "            pass\n",
    "    else:\n",
    "        pass\n",
    "    return li"
   ]
  },
  {
   "cell_type": "code",
   "execution_count": 54,
   "metadata": {},
   "outputs": [
    {
     "name": "stdout",
     "output_type": "stream",
     "text": [
      "['1980s', '1990s', '2.5d', '2d', '2d_fighter', '360_video', '3d', '3d_platformer', '3d_vision', '4_player_local', '4x', '6dof', 'atv', 'abstract', 'action_rpg', 'action_adventure', 'addictive', 'agriculture', 'aliens', 'alternate_history', 'america', 'animation_&_modeling', 'anime', 'arcade', 'arena_shooter', 'artificial_intelligence', 'assassin', 'asynchronous_multiplayer', 'audio_production', 'bmx', 'base_building', 'baseball', 'based_on_a_novel', 'basketball', 'batman', 'battle_royale', 'beat_em_up', 'beautiful', 'benchmark', 'bikes', 'blood', 'board_game', 'bowling', 'building', 'bullet_hell', 'bullet_time', 'crpg', 'capitalism', 'card_game', 'cartoon', 'cartoony', 'casual', 'cats', 'character_action_game', 'character_customization', 'chess', 'choices_matter', 'choose_your_own_adventure', 'cinematic', 'city_builder', 'class_based', 'classic', 'clicker', 'co_op_campaign', 'cold_war', 'colorful', 'comedy', 'comic_book', 'competitive', 'conspiracy', 'controller', 'conversation', 'crafting', 'crime', 'crowdfunded', 'cult_classic', 'cute', 'cyberpunk', 'cycling', 'dark', 'dark_comedy', 'dark_fantasy', 'dark_humor', 'dating_sim', 'demons', 'design_&_illustration', 'destruction', 'detective', 'dinosaurs', 'diplomacy', 'documentary', 'dog', 'dragons', 'drama', 'driving', 'dungeon_crawler', 'dungeons_&_dragons', 'dynamic_narration', 'dystopian_', 'early_access', 'economy', 'education', 'emotional', 'epic', 'episodic', 'experience', 'experimental', 'fmv', 'faith', 'family_friendly', 'fast_paced', 'feature_film', 'female_protagonist', 'fighting', 'fishing', 'flight', 'football', 'foreign', 'free_to_play', 'funny', 'futuristic', 'gambling', 'game_development', 'gamemaker', 'games_workshop', 'gaming', 'god_game', 'golf', 'gore', 'gothic', 'grand_strategy', 'grid_based_movement', 'gun_customization', 'hack_and_slash', 'hacking', 'hand_drawn', 'hardware', 'heist', 'hex_grid', 'hidden_object', 'historical', 'hockey', 'horror', 'horses', 'hunting', 'illuminati', 'intentionally_awkward_controls', 'interactive_fiction', 'inventory_management', 'investigation', 'isometric', 'jrpg', 'jet', 'kickstarter', 'lego', 'lara_croft', 'lemmings', 'level_editor', 'linear', 'local_co_op', 'local_multiplayer', 'logic', 'loot', 'lore_rich', 'lovecraftian', 'mmorpg', 'moba', 'magic', 'management', 'mars', 'martial_arts', 'massively_multiplayer', 'masterpiece', 'match_3', 'mature', 'mechs', 'medieval', 'memes', 'metroidvania', 'military', 'mini_golf', 'minigames', 'minimalist', 'mining', 'mod', 'moddable', 'modern', 'motocross', 'motorbike', 'mouse_only', 'movie', 'multiple_endings', 'music', 'music_based_procedural_generation', 'mystery', 'mystery_dungeon', 'mythology', 'nsfw', 'narration', 'naval', 'ninja', 'noir', 'nonlinear', 'nudity', 'offroad', 'old_school', 'on_rails_shooter', 'online_co_op', 'otome', 'parkour', 'parody_', 'party_based_rpg', 'perma_death', 'philisophical', 'photo_editing', 'physics', 'pinball', 'pirates', 'pixel_graphics', 'platformer', 'point_&_click', 'political', 'politics', 'pool', 'post_apocalyptic', 'procedural_generation', 'programming', 'psychedelic', 'psychological', 'psychological_horror', 'puzzle', 'puzzle_platformer', 'pve', 'pvp', 'quick_time_events', 'rpgmaker', 'rts', 'racing', 'real_time_tactics', 'real_time', 'real_time_with_pause', 'realistic', 'relaxing', 'remake', 'replay_value', 'resource_management', 'retro', 'rhythm', 'robots', 'rogue_like', 'rogue_lite', 'romance', 'rome', 'runner', 'sailing', 'satire', 'science', 'score_attack', 'sequel', 'sexual_content', 'shoot_em_up', 'short', 'side_scroller', 'silent_protagonist', 'simulation', 'skateboarding', 'skating', 'skiing', 'sniper', 'snow', 'snowboarding', 'soccer', 'software', 'software_training', 'sokoban', 'souls_like', 'soundtrack', 'space', 'space_sim', 'spectacle_fighter', 'spelling', 'split_screen', 'sports', 'star_wars', 'stealth', 'steam_machine', 'steampunk', 'strategy_rpg', 'stylized', 'submarine', 'superhero', 'supernatural', 'surreal', 'survival', 'survival_horror', 'swordplay', 'tactical', 'tactical_rpg', 'tanks', 'team_based', 'tennis', 'text_based', 'third_person_shooter', 'thriller', 'time_attack', 'time_management', 'time_manipulation', 'time_travel', 'top_down', 'top_down_shooter', 'touch_friendly', 'tower_defense', 'trackir', 'trading', 'trading_card_game', 'trains', 'transhumanism', 'turn_based', 'turn_based_combat', 'turn_based_strategy', 'turn_based_tactics', 'tutorial', 'twin_stick_shooter', 'typing', 'underground', 'underwater', 'unforgiving', 'utilities', 'vr', 'vr_only', 'vampire', 'video_production', 'villain_protagonist', 'violent', 'visual_novel', 'voice_control', 'voxel', 'walking_simulator', 'war', 'wargame', 'warhammer_40k', 'web_publishing', 'werewolves', 'western', 'word_game', 'world_war_i', 'world_war_ii', 'wrestling', 'zombies', 'e_sports']\n"
     ]
    }
   ],
   "source": [
    "# use the function to run thru all columns\n",
    "for col in column_names_list:\n",
    "    columns_ready_to_drop(col)\n",
    "    \n",
    "print(li)"
   ]
  },
  {
   "cell_type": "code",
   "execution_count": 55,
   "metadata": {},
   "outputs": [
    {
     "data": {
      "text/html": "<div>\n<style scoped>\n    .dataframe tbody tr th:only-of-type {\n        vertical-align: middle;\n    }\n\n    .dataframe tbody tr th {\n        vertical-align: top;\n    }\n\n    .dataframe thead th {\n        text-align: right;\n    }\n</style>\n<table border=\"1\" class=\"dataframe\">\n  <thead>\n    <tr style=\"text-align: right;\">\n      <th></th>\n      <th>appid</th>\n      <th>Game</th>\n      <th>release_date</th>\n      <th>english</th>\n      <th>developer</th>\n      <th>publisher</th>\n      <th>platforms</th>\n      <th>required_age</th>\n      <th>achievements</th>\n      <th>positive_ratings</th>\n      <th>...</th>\n      <th>multiplayer</th>\n      <th>open_world</th>\n      <th>rpg</th>\n      <th>sandbox</th>\n      <th>sci_fi</th>\n      <th>shooter</th>\n      <th>singleplayer</th>\n      <th>story_rich</th>\n      <th>strategy</th>\n      <th>third_person</th>\n    </tr>\n  </thead>\n  <tbody>\n    <tr>\n      <th>0</th>\n      <td>220</td>\n      <td>halflife 2</td>\n      <td>2004-11-16</td>\n      <td>1</td>\n      <td>Valve</td>\n      <td>Valve</td>\n      <td>windows;mac;linux</td>\n      <td>0</td>\n      <td>33</td>\n      <td>67902</td>\n      <td>...</td>\n      <td>488</td>\n      <td>0</td>\n      <td>0</td>\n      <td>0</td>\n      <td>1589</td>\n      <td>1049</td>\n      <td>1315</td>\n      <td>1116</td>\n      <td>0</td>\n      <td>0</td>\n    </tr>\n    <tr>\n      <th>1</th>\n      <td>440</td>\n      <td>team fortress 2</td>\n      <td>2007-10-10</td>\n      <td>1</td>\n      <td>Valve</td>\n      <td>Valve</td>\n      <td>windows;mac;linux</td>\n      <td>0</td>\n      <td>520</td>\n      <td>515879</td>\n      <td>...</td>\n      <td>10499</td>\n      <td>0</td>\n      <td>0</td>\n      <td>0</td>\n      <td>0</td>\n      <td>7857</td>\n      <td>0</td>\n      <td>0</td>\n      <td>0</td>\n      <td>0</td>\n    </tr>\n    <tr>\n      <th>2</th>\n      <td>500</td>\n      <td>left 4 dead</td>\n      <td>2008-11-17</td>\n      <td>1</td>\n      <td>Valve</td>\n      <td>Valve</td>\n      <td>windows;mac</td>\n      <td>0</td>\n      <td>73</td>\n      <td>17951</td>\n      <td>...</td>\n      <td>649</td>\n      <td>0</td>\n      <td>0</td>\n      <td>0</td>\n      <td>0</td>\n      <td>430</td>\n      <td>246</td>\n      <td>0</td>\n      <td>0</td>\n      <td>0</td>\n    </tr>\n    <tr>\n      <th>3</th>\n      <td>550</td>\n      <td>left 4 dead 2</td>\n      <td>2009-11-19</td>\n      <td>1</td>\n      <td>Valve</td>\n      <td>Valve</td>\n      <td>windows;mac;linux</td>\n      <td>0</td>\n      <td>70</td>\n      <td>251789</td>\n      <td>...</td>\n      <td>3176</td>\n      <td>0</td>\n      <td>0</td>\n      <td>0</td>\n      <td>0</td>\n      <td>1944</td>\n      <td>947</td>\n      <td>0</td>\n      <td>0</td>\n      <td>0</td>\n    </tr>\n    <tr>\n      <th>4</th>\n      <td>570</td>\n      <td>dota 2</td>\n      <td>2013-07-09</td>\n      <td>1</td>\n      <td>Valve</td>\n      <td>Valve</td>\n      <td>windows;mac;linux</td>\n      <td>0</td>\n      <td>0</td>\n      <td>863507</td>\n      <td>...</td>\n      <td>7747</td>\n      <td>0</td>\n      <td>2447</td>\n      <td>0</td>\n      <td>0</td>\n      <td>0</td>\n      <td>0</td>\n      <td>0</td>\n      <td>8242</td>\n      <td>0</td>\n    </tr>\n    <tr>\n      <th>...</th>\n      <td>...</td>\n      <td>...</td>\n      <td>...</td>\n      <td>...</td>\n      <td>...</td>\n      <td>...</td>\n      <td>...</td>\n      <td>...</td>\n      <td>...</td>\n      <td>...</td>\n      <td>...</td>\n      <td>...</td>\n      <td>...</td>\n      <td>...</td>\n      <td>...</td>\n      <td>...</td>\n      <td>...</td>\n      <td>...</td>\n      <td>...</td>\n      <td>...</td>\n      <td>...</td>\n    </tr>\n    <tr>\n      <th>235</th>\n      <td>711660</td>\n      <td>chuchel</td>\n      <td>2018-03-07</td>\n      <td>1</td>\n      <td>Amanita Design</td>\n      <td>Amanita Design</td>\n      <td>windows;mac</td>\n      <td>0</td>\n      <td>7</td>\n      <td>976</td>\n      <td>...</td>\n      <td>0</td>\n      <td>0</td>\n      <td>0</td>\n      <td>0</td>\n      <td>0</td>\n      <td>0</td>\n      <td>36</td>\n      <td>19</td>\n      <td>0</td>\n      <td>0</td>\n    </tr>\n    <tr>\n      <th>236</th>\n      <td>729040</td>\n      <td>borderlands</td>\n      <td>2019-04-03</td>\n      <td>1</td>\n      <td>Gearbox Software;Blind Squirrel Games</td>\n      <td>2K</td>\n      <td>windows</td>\n      <td>18</td>\n      <td>80</td>\n      <td>1648</td>\n      <td>...</td>\n      <td>0</td>\n      <td>0</td>\n      <td>37</td>\n      <td>0</td>\n      <td>0</td>\n      <td>0</td>\n      <td>0</td>\n      <td>0</td>\n      <td>0</td>\n      <td>0</td>\n    </tr>\n    <tr>\n      <th>237</th>\n      <td>764790</td>\n      <td>the messenger</td>\n      <td>2018-08-30</td>\n      <td>1</td>\n      <td>Sabotage</td>\n      <td>Devolver Digital</td>\n      <td>windows</td>\n      <td>0</td>\n      <td>40</td>\n      <td>1846</td>\n      <td>...</td>\n      <td>0</td>\n      <td>0</td>\n      <td>0</td>\n      <td>0</td>\n      <td>0</td>\n      <td>0</td>\n      <td>24</td>\n      <td>0</td>\n      <td>0</td>\n      <td>0</td>\n    </tr>\n    <tr>\n      <th>238</th>\n      <td>845070</td>\n      <td>the awesome adventures of captain spirit</td>\n      <td>2018-06-25</td>\n      <td>1</td>\n      <td>DONTNOD Entertainment</td>\n      <td>Square Enix</td>\n      <td>windows</td>\n      <td>0</td>\n      <td>0</td>\n      <td>8077</td>\n      <td>...</td>\n      <td>0</td>\n      <td>0</td>\n      <td>0</td>\n      <td>0</td>\n      <td>0</td>\n      <td>0</td>\n      <td>54</td>\n      <td>99</td>\n      <td>0</td>\n      <td>0</td>\n    </tr>\n    <tr>\n      <th>239</th>\n      <td>860950</td>\n      <td>mark of the ninja</td>\n      <td>2018-10-09</td>\n      <td>1</td>\n      <td>Klei Entertainment</td>\n      <td>Klei Entertainment</td>\n      <td>windows;mac;linux</td>\n      <td>16</td>\n      <td>38</td>\n      <td>802</td>\n      <td>...</td>\n      <td>0</td>\n      <td>0</td>\n      <td>0</td>\n      <td>0</td>\n      <td>0</td>\n      <td>0</td>\n      <td>0</td>\n      <td>0</td>\n      <td>0</td>\n      <td>0</td>\n    </tr>\n  </tbody>\n</table>\n<p>240 rows × 55 columns</p>\n</div>",
      "text/plain": "      appid                                      Game release_date  english  \\\n0       220                                halflife 2   2004-11-16        1   \n1       440                           team fortress 2   2007-10-10        1   \n2       500                               left 4 dead   2008-11-17        1   \n3       550                             left 4 dead 2   2009-11-19        1   \n4       570                                    dota 2   2013-07-09        1   \n..      ...                                       ...          ...      ...   \n235  711660                                   chuchel   2018-03-07        1   \n236  729040                               borderlands   2019-04-03        1   \n237  764790                             the messenger   2018-08-30        1   \n238  845070  the awesome adventures of captain spirit   2018-06-25        1   \n239  860950                         mark of the ninja   2018-10-09        1   \n\n                                 developer            publisher  \\\n0                                    Valve                Valve   \n1                                    Valve                Valve   \n2                                    Valve                Valve   \n3                                    Valve                Valve   \n4                                    Valve                Valve   \n..                                     ...                  ...   \n235                         Amanita Design       Amanita Design   \n236  Gearbox Software;Blind Squirrel Games                   2K   \n237                               Sabotage     Devolver Digital   \n238                  DONTNOD Entertainment          Square Enix   \n239                     Klei Entertainment  Klei Entertainment    \n\n             platforms  required_age  achievements  positive_ratings  ...  \\\n0    windows;mac;linux             0            33             67902  ...   \n1    windows;mac;linux             0           520            515879  ...   \n2          windows;mac             0            73             17951  ...   \n3    windows;mac;linux             0            70            251789  ...   \n4    windows;mac;linux             0             0            863507  ...   \n..                 ...           ...           ...               ...  ...   \n235        windows;mac             0             7               976  ...   \n236            windows            18            80              1648  ...   \n237            windows             0            40              1846  ...   \n238            windows             0             0              8077  ...   \n239  windows;mac;linux            16            38               802  ...   \n\n     multiplayer  open_world   rpg sandbox  sci_fi shooter singleplayer  \\\n0            488           0     0       0    1589    1049         1315   \n1          10499           0     0       0       0    7857            0   \n2            649           0     0       0       0     430          246   \n3           3176           0     0       0       0    1944          947   \n4           7747           0  2447       0       0       0            0   \n..           ...         ...   ...     ...     ...     ...          ...   \n235            0           0     0       0       0       0           36   \n236            0           0    37       0       0       0            0   \n237            0           0     0       0       0       0           24   \n238            0           0     0       0       0       0           54   \n239            0           0     0       0       0       0            0   \n\n    story_rich strategy third_person  \n0         1116        0            0  \n1            0        0            0  \n2            0        0            0  \n3            0        0            0  \n4            0     8242            0  \n..         ...      ...          ...  \n235         19        0            0  \n236          0        0            0  \n237          0        0            0  \n238         99        0            0  \n239          0        0            0  \n\n[240 rows x 55 columns]"
     },
     "execution_count": 55,
     "metadata": {},
     "output_type": "execute_result"
    }
   ],
   "source": [
    "#dropping columns when the dtypes of the columns is int64 and there are more than 80% of values being 0.\n",
    "# tried 80%, 50%, 45% non-zero rows, but it's dropping too many columns, so chose 20% as the cut off for now, this can be changed.\n",
    "final_df_new = final_df.drop(columns=li)\n",
    "final_df_new"
   ]
  }
 ],
 "metadata": {
  "kernelspec": {
   "display_name": "Python 3.7.9 64-bit ('PythonData': conda)",
   "name": "pythondata"
  },
  "language_info": {
   "codemirror_mode": {
    "name": "ipython",
    "version": 3
   },
   "file_extension": ".py",
   "mimetype": "text/x-python",
   "name": "python",
   "nbconvert_exporter": "python",
   "pygments_lexer": "ipython3",
   "version": "3.7.9"
  }
 },
 "nbformat": 4,
 "nbformat_minor": 4
}