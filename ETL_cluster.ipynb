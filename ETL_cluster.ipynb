{
 "cells": [
  {
   "cell_type": "code",
   "execution_count": 223,
   "metadata": {},
   "outputs": [],
   "source": [
    "import pandas as pd\n",
    "import hvplot.pandas\n",
    "from path import Path\n",
    "import plotly.express as px\n",
    "from sklearn.preprocessing import StandardScaler, MinMaxScaler\n",
    "from sklearn.decomposition import PCA\n",
    "from sklearn.cluster import KMeans\n"
   ]
  },
  {
   "cell_type": "code",
   "execution_count": 224,
   "metadata": {},
   "outputs": [],
   "source": [
    "# have the warnings removed\n",
    "import warnings\n",
    "warnings.filterwarnings('ignore')"
   ]
  },
  {
   "cell_type": "code",
   "execution_count": 225,
   "metadata": {},
   "outputs": [],
   "source": [
    "file = pd.read_csv(\"https://raw.githubusercontent.com/mengmeng2702/gaming_stats_analysis/working_T/for_ml_model.csv\")"
   ]
  },
  {
   "cell_type": "code",
   "execution_count": 226,
   "metadata": {},
   "outputs": [
    {
     "data": {
      "text/html": "<div>\n<style scoped>\n    .dataframe tbody tr th:only-of-type {\n        vertical-align: middle;\n    }\n\n    .dataframe tbody tr th {\n        vertical-align: top;\n    }\n\n    .dataframe thead th {\n        text-align: right;\n    }\n</style>\n<table border=\"1\" class=\"dataframe\">\n  <thead>\n    <tr style=\"text-align: right;\">\n      <th></th>\n      <th>Unnamed: 0</th>\n      <th>appid</th>\n      <th>Game</th>\n      <th>release_date</th>\n      <th>english</th>\n      <th>developer</th>\n      <th>publisher</th>\n      <th>platforms</th>\n      <th>required_age</th>\n      <th>achievements</th>\n      <th>...</th>\n      <th>warhammer_40k</th>\n      <th>web_publishing</th>\n      <th>werewolves</th>\n      <th>western</th>\n      <th>word_game</th>\n      <th>world_war_i</th>\n      <th>world_war_ii</th>\n      <th>wrestling</th>\n      <th>zombies</th>\n      <th>e_sports</th>\n    </tr>\n  </thead>\n  <tbody>\n    <tr>\n      <th>0</th>\n      <td>0</td>\n      <td>220</td>\n      <td>halflife 2</td>\n      <td>2004-11-16</td>\n      <td>1</td>\n      <td>Valve</td>\n      <td>Valve</td>\n      <td>windows;mac;linux</td>\n      <td>0</td>\n      <td>33</td>\n      <td>...</td>\n      <td>0</td>\n      <td>0</td>\n      <td>0</td>\n      <td>0</td>\n      <td>0</td>\n      <td>0</td>\n      <td>0</td>\n      <td>0</td>\n      <td>607</td>\n      <td>0</td>\n    </tr>\n    <tr>\n      <th>1</th>\n      <td>1</td>\n      <td>440</td>\n      <td>team fortress 2</td>\n      <td>2007-10-10</td>\n      <td>1</td>\n      <td>Valve</td>\n      <td>Valve</td>\n      <td>windows;mac;linux</td>\n      <td>0</td>\n      <td>520</td>\n      <td>...</td>\n      <td>0</td>\n      <td>0</td>\n      <td>0</td>\n      <td>0</td>\n      <td>0</td>\n      <td>0</td>\n      <td>0</td>\n      <td>0</td>\n      <td>0</td>\n      <td>0</td>\n    </tr>\n    <tr>\n      <th>2</th>\n      <td>2</td>\n      <td>500</td>\n      <td>left 4 dead</td>\n      <td>2008-11-17</td>\n      <td>1</td>\n      <td>Valve</td>\n      <td>Valve</td>\n      <td>windows;mac</td>\n      <td>0</td>\n      <td>73</td>\n      <td>...</td>\n      <td>0</td>\n      <td>0</td>\n      <td>0</td>\n      <td>0</td>\n      <td>0</td>\n      <td>0</td>\n      <td>0</td>\n      <td>0</td>\n      <td>1064</td>\n      <td>0</td>\n    </tr>\n    <tr>\n      <th>3</th>\n      <td>3</td>\n      <td>550</td>\n      <td>left 4 dead 2</td>\n      <td>2009-11-19</td>\n      <td>1</td>\n      <td>Valve</td>\n      <td>Valve</td>\n      <td>windows;mac;linux</td>\n      <td>0</td>\n      <td>70</td>\n      <td>...</td>\n      <td>0</td>\n      <td>0</td>\n      <td>0</td>\n      <td>0</td>\n      <td>0</td>\n      <td>0</td>\n      <td>0</td>\n      <td>0</td>\n      <td>5334</td>\n      <td>0</td>\n    </tr>\n    <tr>\n      <th>4</th>\n      <td>4</td>\n      <td>570</td>\n      <td>dota 2</td>\n      <td>2013-07-09</td>\n      <td>1</td>\n      <td>Valve</td>\n      <td>Valve</td>\n      <td>windows;mac;linux</td>\n      <td>0</td>\n      <td>0</td>\n      <td>...</td>\n      <td>0</td>\n      <td>0</td>\n      <td>0</td>\n      <td>0</td>\n      <td>0</td>\n      <td>0</td>\n      <td>0</td>\n      <td>0</td>\n      <td>0</td>\n      <td>4768</td>\n    </tr>\n  </tbody>\n</table>\n<p>5 rows × 407 columns</p>\n</div>",
      "text/plain": "   Unnamed: 0  appid             Game release_date  english developer  \\\n0           0    220       halflife 2   2004-11-16        1     Valve   \n1           1    440  team fortress 2   2007-10-10        1     Valve   \n2           2    500      left 4 dead   2008-11-17        1     Valve   \n3           3    550    left 4 dead 2   2009-11-19        1     Valve   \n4           4    570           dota 2   2013-07-09        1     Valve   \n\n  publisher          platforms  required_age  achievements  ...  \\\n0     Valve  windows;mac;linux             0            33  ...   \n1     Valve  windows;mac;linux             0           520  ...   \n2     Valve        windows;mac             0            73  ...   \n3     Valve  windows;mac;linux             0            70  ...   \n4     Valve  windows;mac;linux             0             0  ...   \n\n   warhammer_40k  web_publishing  werewolves  western word_game  world_war_i  \\\n0              0               0           0        0         0            0   \n1              0               0           0        0         0            0   \n2              0               0           0        0         0            0   \n3              0               0           0        0         0            0   \n4              0               0           0        0         0            0   \n\n  world_war_ii  wrestling  zombies e_sports  \n0            0          0      607        0  \n1            0          0        0        0  \n2            0          0     1064        0  \n3            0          0     5334        0  \n4            0          0        0     4768  \n\n[5 rows x 407 columns]"
     },
     "execution_count": 226,
     "metadata": {},
     "output_type": "execute_result"
    }
   ],
   "source": [
    "\n",
    "df = pd.DataFrame(data=file)\n",
    "df.head()"
   ]
  },
  {
   "cell_type": "code",
   "execution_count": 227,
   "metadata": {},
   "outputs": [
    {
     "name": "stdout",
     "output_type": "stream",
     "text": [
      "Unnamed: 0\n",
      "appid\n",
      "Game\n",
      "release_date\n",
      "english\n",
      "developer\n",
      "publisher\n",
      "platforms\n",
      "required_age\n",
      "achievements\n",
      "positive_ratings\n",
      "negative_ratings\n",
      "average_playtime\n",
      "median_playtime\n",
      "owners\n",
      "price\n",
      "genre_concat\n",
      "Unnamed: 0.1\n",
      "Year_x\n",
      "Publisher\n",
      "Genre\n",
      "Platform\n",
      "Metascore\n",
      "Avg_Userscore\n",
      "No_Players\n",
      "Rank\n",
      "Month\n",
      "Year_y\n",
      "Hours_watched\n",
      "Hours_Streamed\n",
      "Peak_viewers\n",
      "Peak_channels\n",
      "Streamers\n",
      "Avg_viewers\n",
      "Avg_channels\n",
      "Avg_viewer_ratio\n",
      "1980s\n",
      "1990s\n",
      "2.5d\n",
      "2d\n",
      "2d_fighter\n",
      "360_video\n",
      "3d\n",
      "3d_platformer\n",
      "3d_vision\n",
      "4_player_local\n",
      "4x\n",
      "6dof\n",
      "atv\n",
      "abstract\n",
      "action\n",
      "action_rpg\n",
      "action_adventure\n",
      "addictive\n",
      "adventure\n",
      "agriculture\n",
      "aliens\n",
      "alternate_history\n",
      "america\n",
      "animation_&_modeling\n",
      "anime\n",
      "arcade\n",
      "arena_shooter\n",
      "artificial_intelligence\n",
      "assassin\n",
      "asynchronous_multiplayer\n",
      "atmospheric\n",
      "audio_production\n",
      "bmx\n",
      "base_building\n",
      "baseball\n",
      "based_on_a_novel\n",
      "basketball\n",
      "batman\n",
      "battle_royale\n",
      "beat_em_up\n",
      "beautiful\n",
      "benchmark\n",
      "bikes\n",
      "blood\n",
      "board_game\n",
      "bowling\n",
      "building\n",
      "bullet_hell\n",
      "bullet_time\n",
      "crpg\n",
      "capitalism\n",
      "card_game\n",
      "cartoon\n",
      "cartoony\n",
      "casual\n",
      "cats\n",
      "character_action_game\n",
      "character_customization\n",
      "chess\n",
      "choices_matter\n",
      "choose_your_own_adventure\n",
      "cinematic\n",
      "city_builder\n",
      "class_based\n",
      "classic\n",
      "clicker\n",
      "co_op\n",
      "co_op_campaign\n",
      "cold_war\n",
      "colorful\n",
      "comedy\n",
      "comic_book\n",
      "competitive\n",
      "conspiracy\n",
      "controller\n",
      "conversation\n",
      "crafting\n",
      "crime\n",
      "crowdfunded\n",
      "cult_classic\n",
      "cute\n",
      "cyberpunk\n",
      "cycling\n",
      "dark\n",
      "dark_comedy\n",
      "dark_fantasy\n",
      "dark_humor\n",
      "dating_sim\n",
      "demons\n",
      "design_&_illustration\n",
      "destruction\n",
      "detective\n",
      "difficult\n",
      "dinosaurs\n",
      "diplomacy\n",
      "documentary\n",
      "dog\n",
      "dragons\n",
      "drama\n",
      "driving\n",
      "dungeon_crawler\n",
      "dungeons_&_dragons\n",
      "dynamic_narration\n",
      "dystopian_\n",
      "early_access\n",
      "economy\n",
      "education\n",
      "emotional\n",
      "epic\n",
      "episodic\n",
      "experience\n",
      "experimental\n",
      "exploration\n",
      "fmv\n",
      "fps\n",
      "faith\n",
      "family_friendly\n",
      "fantasy\n",
      "fast_paced\n",
      "feature_film\n",
      "female_protagonist\n",
      "fighting\n",
      "first_person\n",
      "fishing\n",
      "flight\n",
      "football\n",
      "foreign\n",
      "free_to_play\n",
      "funny\n",
      "futuristic\n",
      "gambling\n",
      "game_development\n",
      "gamemaker\n",
      "games_workshop\n",
      "gaming\n",
      "god_game\n",
      "golf\n",
      "gore\n",
      "gothic\n",
      "grand_strategy\n",
      "great_soundtrack\n",
      "grid_based_movement\n",
      "gun_customization\n",
      "hack_and_slash\n",
      "hacking\n",
      "hand_drawn\n",
      "hardware\n",
      "heist\n",
      "hex_grid\n",
      "hidden_object\n",
      "historical\n",
      "hockey\n",
      "horror\n",
      "horses\n",
      "hunting\n",
      "illuminati\n",
      "indie\n",
      "intentionally_awkward_controls\n",
      "interactive_fiction\n",
      "inventory_management\n",
      "investigation\n",
      "isometric\n",
      "jrpg\n",
      "jet\n",
      "kickstarter\n",
      "lego\n",
      "lara_croft\n",
      "lemmings\n",
      "level_editor\n",
      "linear\n",
      "local_co_op\n",
      "local_multiplayer\n",
      "logic\n",
      "loot\n",
      "lore_rich\n",
      "lovecraftian\n",
      "mmorpg\n",
      "moba\n",
      "magic\n",
      "management\n",
      "mars\n",
      "martial_arts\n",
      "massively_multiplayer\n",
      "masterpiece\n",
      "match_3\n",
      "mature\n",
      "mechs\n",
      "medieval\n",
      "memes\n",
      "metroidvania\n",
      "military\n",
      "mini_golf\n",
      "minigames\n",
      "minimalist\n",
      "mining\n",
      "mod\n",
      "moddable\n",
      "modern\n",
      "motocross\n",
      "motorbike\n",
      "mouse_only\n",
      "movie\n",
      "multiplayer\n",
      "multiple_endings\n",
      "music\n",
      "music_based_procedural_generation\n",
      "mystery\n",
      "mystery_dungeon\n",
      "mythology\n",
      "nsfw\n",
      "narration\n",
      "naval\n",
      "ninja\n",
      "noir\n",
      "nonlinear\n",
      "nudity\n",
      "offroad\n",
      "old_school\n",
      "on_rails_shooter\n",
      "online_co_op\n",
      "open_world\n",
      "otome\n",
      "parkour\n",
      "parody_\n",
      "party_based_rpg\n",
      "perma_death\n",
      "philisophical\n",
      "photo_editing\n",
      "physics\n",
      "pinball\n",
      "pirates\n",
      "pixel_graphics\n",
      "platformer\n",
      "point_&_click\n",
      "political\n",
      "politics\n",
      "pool\n",
      "post_apocalyptic\n",
      "procedural_generation\n",
      "programming\n",
      "psychedelic\n",
      "psychological\n",
      "psychological_horror\n",
      "puzzle\n",
      "puzzle_platformer\n",
      "pve\n",
      "pvp\n",
      "quick_time_events\n",
      "rpg\n",
      "rpgmaker\n",
      "rts\n",
      "racing\n",
      "real_time_tactics\n",
      "real_time\n",
      "real_time_with_pause\n",
      "realistic\n",
      "relaxing\n",
      "remake\n",
      "replay_value\n",
      "resource_management\n",
      "retro\n",
      "rhythm\n",
      "robots\n",
      "rogue_like\n",
      "rogue_lite\n",
      "romance\n",
      "rome\n",
      "runner\n",
      "sailing\n",
      "sandbox\n",
      "satire\n",
      "sci_fi\n",
      "science\n",
      "score_attack\n",
      "sequel\n",
      "sexual_content\n",
      "shoot_em_up\n",
      "shooter\n",
      "short\n",
      "side_scroller\n",
      "silent_protagonist\n",
      "simulation\n",
      "singleplayer\n",
      "skateboarding\n",
      "skating\n",
      "skiing\n",
      "sniper\n",
      "snow\n",
      "snowboarding\n",
      "soccer\n",
      "software\n",
      "software_training\n",
      "sokoban\n",
      "souls_like\n",
      "soundtrack\n",
      "space\n",
      "space_sim\n",
      "spectacle_fighter\n",
      "spelling\n",
      "split_screen\n",
      "sports\n",
      "star_wars\n",
      "stealth\n",
      "steam_machine\n",
      "steampunk\n",
      "story_rich\n",
      "strategy\n",
      "strategy_rpg\n",
      "stylized\n",
      "submarine\n",
      "superhero\n",
      "supernatural\n",
      "surreal\n",
      "survival\n",
      "survival_horror\n",
      "swordplay\n",
      "tactical\n",
      "tactical_rpg\n",
      "tanks\n",
      "team_based\n",
      "tennis\n",
      "text_based\n",
      "third_person\n",
      "third_person_shooter\n",
      "thriller\n",
      "time_attack\n",
      "time_management\n",
      "time_manipulation\n",
      "time_travel\n",
      "top_down\n",
      "top_down_shooter\n",
      "touch_friendly\n",
      "tower_defense\n",
      "trackir\n",
      "trading\n",
      "trading_card_game\n",
      "trains\n",
      "transhumanism\n",
      "turn_based\n",
      "turn_based_combat\n",
      "turn_based_strategy\n",
      "turn_based_tactics\n",
      "tutorial\n",
      "twin_stick_shooter\n",
      "typing\n",
      "underground\n",
      "underwater\n",
      "unforgiving\n",
      "utilities\n",
      "vr\n",
      "vr_only\n",
      "vampire\n",
      "video_production\n",
      "villain_protagonist\n",
      "violent\n",
      "visual_novel\n",
      "voice_control\n",
      "voxel\n",
      "walking_simulator\n",
      "war\n",
      "wargame\n",
      "warhammer_40k\n",
      "web_publishing\n",
      "werewolves\n",
      "western\n",
      "word_game\n",
      "world_war_i\n",
      "world_war_ii\n",
      "wrestling\n",
      "zombies\n",
      "e_sports\n"
     ]
    }
   ],
   "source": [
    "for col in df.columns:\n",
    "    print(col)"
   ]
  },
  {
   "cell_type": "code",
   "execution_count": 228,
   "metadata": {},
   "outputs": [],
   "source": [
    "#done once, file saved\n",
    "# df.to_csv(\"Tony_for_ml_model.csv\")"
   ]
  },
  {
   "cell_type": "code",
   "execution_count": 229,
   "metadata": {},
   "outputs": [
    {
     "data": {
      "text/html": "<div>\n<style scoped>\n    .dataframe tbody tr th:only-of-type {\n        vertical-align: middle;\n    }\n\n    .dataframe tbody tr th {\n        vertical-align: top;\n    }\n\n    .dataframe thead th {\n        text-align: right;\n    }\n</style>\n<table border=\"1\" class=\"dataframe\">\n  <thead>\n    <tr style=\"text-align: right;\">\n      <th></th>\n      <th>Unnamed: 0</th>\n      <th>appid</th>\n      <th>Game</th>\n      <th>release_date</th>\n      <th>english</th>\n      <th>developer</th>\n      <th>publisher</th>\n      <th>platforms</th>\n      <th>required_age</th>\n      <th>achievements</th>\n      <th>...</th>\n      <th>warhammer_40k</th>\n      <th>web_publishing</th>\n      <th>werewolves</th>\n      <th>western</th>\n      <th>word_game</th>\n      <th>world_war_i</th>\n      <th>world_war_ii</th>\n      <th>wrestling</th>\n      <th>zombies</th>\n      <th>e_sports</th>\n    </tr>\n  </thead>\n  <tbody>\n    <tr>\n      <th>0</th>\n      <td>0</td>\n      <td>220</td>\n      <td>halflife 2</td>\n      <td>2004-11-16</td>\n      <td>1</td>\n      <td>Valve</td>\n      <td>Valve</td>\n      <td>windows;mac;linux</td>\n      <td>0</td>\n      <td>33</td>\n      <td>...</td>\n      <td>0</td>\n      <td>0</td>\n      <td>0</td>\n      <td>0</td>\n      <td>0</td>\n      <td>0</td>\n      <td>0</td>\n      <td>0</td>\n      <td>607</td>\n      <td>0</td>\n    </tr>\n    <tr>\n      <th>1</th>\n      <td>1</td>\n      <td>440</td>\n      <td>team fortress 2</td>\n      <td>2007-10-10</td>\n      <td>1</td>\n      <td>Valve</td>\n      <td>Valve</td>\n      <td>windows;mac;linux</td>\n      <td>0</td>\n      <td>520</td>\n      <td>...</td>\n      <td>0</td>\n      <td>0</td>\n      <td>0</td>\n      <td>0</td>\n      <td>0</td>\n      <td>0</td>\n      <td>0</td>\n      <td>0</td>\n      <td>0</td>\n      <td>0</td>\n    </tr>\n    <tr>\n      <th>2</th>\n      <td>2</td>\n      <td>500</td>\n      <td>left 4 dead</td>\n      <td>2008-11-17</td>\n      <td>1</td>\n      <td>Valve</td>\n      <td>Valve</td>\n      <td>windows;mac</td>\n      <td>0</td>\n      <td>73</td>\n      <td>...</td>\n      <td>0</td>\n      <td>0</td>\n      <td>0</td>\n      <td>0</td>\n      <td>0</td>\n      <td>0</td>\n      <td>0</td>\n      <td>0</td>\n      <td>1064</td>\n      <td>0</td>\n    </tr>\n    <tr>\n      <th>3</th>\n      <td>3</td>\n      <td>550</td>\n      <td>left 4 dead 2</td>\n      <td>2009-11-19</td>\n      <td>1</td>\n      <td>Valve</td>\n      <td>Valve</td>\n      <td>windows;mac;linux</td>\n      <td>0</td>\n      <td>70</td>\n      <td>...</td>\n      <td>0</td>\n      <td>0</td>\n      <td>0</td>\n      <td>0</td>\n      <td>0</td>\n      <td>0</td>\n      <td>0</td>\n      <td>0</td>\n      <td>5334</td>\n      <td>0</td>\n    </tr>\n    <tr>\n      <th>4</th>\n      <td>4</td>\n      <td>570</td>\n      <td>dota 2</td>\n      <td>2013-07-09</td>\n      <td>1</td>\n      <td>Valve</td>\n      <td>Valve</td>\n      <td>windows;mac;linux</td>\n      <td>0</td>\n      <td>0</td>\n      <td>...</td>\n      <td>0</td>\n      <td>0</td>\n      <td>0</td>\n      <td>0</td>\n      <td>0</td>\n      <td>0</td>\n      <td>0</td>\n      <td>0</td>\n      <td>0</td>\n      <td>4768</td>\n    </tr>\n    <tr>\n      <th>...</th>\n      <td>...</td>\n      <td>...</td>\n      <td>...</td>\n      <td>...</td>\n      <td>...</td>\n      <td>...</td>\n      <td>...</td>\n      <td>...</td>\n      <td>...</td>\n      <td>...</td>\n      <td>...</td>\n      <td>...</td>\n      <td>...</td>\n      <td>...</td>\n      <td>...</td>\n      <td>...</td>\n      <td>...</td>\n      <td>...</td>\n      <td>...</td>\n      <td>...</td>\n      <td>...</td>\n    </tr>\n    <tr>\n      <th>235</th>\n      <td>235</td>\n      <td>711660</td>\n      <td>chuchel</td>\n      <td>2018-03-07</td>\n      <td>1</td>\n      <td>Amanita Design</td>\n      <td>Amanita Design</td>\n      <td>windows;mac</td>\n      <td>0</td>\n      <td>7</td>\n      <td>...</td>\n      <td>0</td>\n      <td>0</td>\n      <td>0</td>\n      <td>0</td>\n      <td>0</td>\n      <td>0</td>\n      <td>0</td>\n      <td>0</td>\n      <td>0</td>\n      <td>0</td>\n    </tr>\n    <tr>\n      <th>236</th>\n      <td>236</td>\n      <td>729040</td>\n      <td>borderlands</td>\n      <td>2019-04-03</td>\n      <td>1</td>\n      <td>Gearbox Software;Blind Squirrel Games</td>\n      <td>2K</td>\n      <td>windows</td>\n      <td>18</td>\n      <td>80</td>\n      <td>...</td>\n      <td>0</td>\n      <td>0</td>\n      <td>0</td>\n      <td>0</td>\n      <td>0</td>\n      <td>0</td>\n      <td>0</td>\n      <td>0</td>\n      <td>0</td>\n      <td>0</td>\n    </tr>\n    <tr>\n      <th>237</th>\n      <td>237</td>\n      <td>764790</td>\n      <td>the messenger</td>\n      <td>2018-08-30</td>\n      <td>1</td>\n      <td>Sabotage</td>\n      <td>Devolver Digital</td>\n      <td>windows</td>\n      <td>0</td>\n      <td>40</td>\n      <td>...</td>\n      <td>0</td>\n      <td>0</td>\n      <td>0</td>\n      <td>0</td>\n      <td>0</td>\n      <td>0</td>\n      <td>0</td>\n      <td>0</td>\n      <td>0</td>\n      <td>0</td>\n    </tr>\n    <tr>\n      <th>238</th>\n      <td>238</td>\n      <td>845070</td>\n      <td>the awesome adventures of captain spirit</td>\n      <td>2018-06-25</td>\n      <td>1</td>\n      <td>DONTNOD Entertainment</td>\n      <td>Square Enix</td>\n      <td>windows</td>\n      <td>0</td>\n      <td>0</td>\n      <td>...</td>\n      <td>0</td>\n      <td>0</td>\n      <td>0</td>\n      <td>0</td>\n      <td>0</td>\n      <td>0</td>\n      <td>0</td>\n      <td>0</td>\n      <td>0</td>\n      <td>0</td>\n    </tr>\n    <tr>\n      <th>239</th>\n      <td>239</td>\n      <td>860950</td>\n      <td>mark of the ninja</td>\n      <td>2018-10-09</td>\n      <td>1</td>\n      <td>Klei Entertainment</td>\n      <td>Klei Entertainment</td>\n      <td>windows;mac;linux</td>\n      <td>16</td>\n      <td>38</td>\n      <td>...</td>\n      <td>0</td>\n      <td>0</td>\n      <td>0</td>\n      <td>0</td>\n      <td>0</td>\n      <td>0</td>\n      <td>0</td>\n      <td>0</td>\n      <td>0</td>\n      <td>0</td>\n    </tr>\n  </tbody>\n</table>\n<p>240 rows × 407 columns</p>\n</div>",
      "text/plain": "     Unnamed: 0   appid                                      Game  \\\n0             0     220                                halflife 2   \n1             1     440                           team fortress 2   \n2             2     500                               left 4 dead   \n3             3     550                             left 4 dead 2   \n4             4     570                                    dota 2   \n..          ...     ...                                       ...   \n235         235  711660                                   chuchel   \n236         236  729040                               borderlands   \n237         237  764790                             the messenger   \n238         238  845070  the awesome adventures of captain spirit   \n239         239  860950                         mark of the ninja   \n\n    release_date  english                              developer  \\\n0     2004-11-16        1                                  Valve   \n1     2007-10-10        1                                  Valve   \n2     2008-11-17        1                                  Valve   \n3     2009-11-19        1                                  Valve   \n4     2013-07-09        1                                  Valve   \n..           ...      ...                                    ...   \n235   2018-03-07        1                         Amanita Design   \n236   2019-04-03        1  Gearbox Software;Blind Squirrel Games   \n237   2018-08-30        1                               Sabotage   \n238   2018-06-25        1                  DONTNOD Entertainment   \n239   2018-10-09        1                     Klei Entertainment   \n\n               publisher          platforms  required_age  achievements  ...  \\\n0                  Valve  windows;mac;linux             0            33  ...   \n1                  Valve  windows;mac;linux             0           520  ...   \n2                  Valve        windows;mac             0            73  ...   \n3                  Valve  windows;mac;linux             0            70  ...   \n4                  Valve  windows;mac;linux             0             0  ...   \n..                   ...                ...           ...           ...  ...   \n235       Amanita Design        windows;mac             0             7  ...   \n236                   2K            windows            18            80  ...   \n237     Devolver Digital            windows             0            40  ...   \n238          Square Enix            windows             0             0  ...   \n239  Klei Entertainment   windows;mac;linux            16            38  ...   \n\n     warhammer_40k  web_publishing  werewolves  western word_game  \\\n0                0               0           0        0         0   \n1                0               0           0        0         0   \n2                0               0           0        0         0   \n3                0               0           0        0         0   \n4                0               0           0        0         0   \n..             ...             ...         ...      ...       ...   \n235              0               0           0        0         0   \n236              0               0           0        0         0   \n237              0               0           0        0         0   \n238              0               0           0        0         0   \n239              0               0           0        0         0   \n\n     world_war_i world_war_ii  wrestling  zombies e_sports  \n0              0            0          0      607        0  \n1              0            0          0        0        0  \n2              0            0          0     1064        0  \n3              0            0          0     5334        0  \n4              0            0          0        0     4768  \n..           ...          ...        ...      ...      ...  \n235            0            0          0        0        0  \n236            0            0          0        0        0  \n237            0            0          0        0        0  \n238            0            0          0        0        0  \n239            0            0          0        0        0  \n\n[240 rows x 407 columns]"
     },
     "execution_count": 229,
     "metadata": {},
     "output_type": "execute_result"
    }
   ],
   "source": [
    "df"
   ]
  },
  {
   "cell_type": "code",
   "execution_count": 230,
   "metadata": {},
   "outputs": [],
   "source": [
    "df.drop(\"Unnamed: 0\",inplace=True, axis=1)"
   ]
  },
  {
   "cell_type": "code",
   "execution_count": 231,
   "metadata": {},
   "outputs": [],
   "source": [
    "column_names_list = df.columns.to_list()\n"
   ]
  },
  {
   "cell_type": "code",
   "execution_count": 232,
   "metadata": {},
   "outputs": [],
   "source": [
    "li = []\n",
    "def columns_ready_to_drop(col_name):\n",
    "    #if column value type is int, continue the following, if not, ignore.\n",
    "    if df[col_name].dtypes == \"int64\":\n",
    "\n",
    "        #if dataframe col_name has 0 values more than 80% of the number of rows, save in a list, and ready to drop\n",
    "        non_zero_rows = df[col_name].apply(lambda r: True if r > 0 else False)\n",
    "        numberOfRows = len(non_zero_rows[non_zero_rows == True].index)\n",
    "        #testing\n",
    "        #print(numberOfRows)\n",
    "        #When the percentage below is increasing, it means the column has to have less zero rows to be able to remain in the new database. \n",
    "        # 0.2 means if non-zero rows are only 20% or less of the total rows, the column will be add to the drop list.\n",
    "        if numberOfRows <= 0.20 *len(df):\n",
    "            li.append(col_name)\n",
    "        else:\n",
    "            pass\n",
    "    else:\n",
    "        pass\n",
    "    return li"
   ]
  },
  {
   "cell_type": "code",
   "execution_count": 233,
   "metadata": {},
   "outputs": [
    {
     "name": "stdout",
     "output_type": "stream",
     "text": [
      "['1980s', '1990s', '2.5d', '2d', '2d_fighter', '360_video', '3d', '3d_platformer', '3d_vision', '4_player_local', '4x', '6dof', 'atv', 'abstract', 'action_rpg', 'action_adventure', 'addictive', 'agriculture', 'aliens', 'alternate_history', 'america', 'animation_&_modeling', 'anime', 'arcade', 'arena_shooter', 'artificial_intelligence', 'assassin', 'asynchronous_multiplayer', 'audio_production', 'bmx', 'base_building', 'baseball', 'based_on_a_novel', 'basketball', 'batman', 'battle_royale', 'beat_em_up', 'beautiful', 'benchmark', 'bikes', 'blood', 'board_game', 'bowling', 'building', 'bullet_hell', 'bullet_time', 'crpg', 'capitalism', 'card_game', 'cartoon', 'cartoony', 'casual', 'cats', 'character_action_game', 'character_customization', 'chess', 'choices_matter', 'choose_your_own_adventure', 'cinematic', 'city_builder', 'class_based', 'classic', 'clicker', 'co_op_campaign', 'cold_war', 'colorful', 'comedy', 'comic_book', 'competitive', 'conspiracy', 'controller', 'conversation', 'crafting', 'crime', 'crowdfunded', 'cult_classic', 'cute', 'cyberpunk', 'cycling', 'dark', 'dark_comedy', 'dark_fantasy', 'dark_humor', 'dating_sim', 'demons', 'design_&_illustration', 'destruction', 'detective', 'dinosaurs', 'diplomacy', 'documentary', 'dog', 'dragons', 'drama', 'driving', 'dungeon_crawler', 'dungeons_&_dragons', 'dynamic_narration', 'dystopian_', 'early_access', 'economy', 'education', 'emotional', 'epic', 'episodic', 'experience', 'experimental', 'fmv', 'faith', 'family_friendly', 'fast_paced', 'feature_film', 'female_protagonist', 'fighting', 'fishing', 'flight', 'football', 'foreign', 'free_to_play', 'funny', 'futuristic', 'gambling', 'game_development', 'gamemaker', 'games_workshop', 'gaming', 'god_game', 'golf', 'gore', 'gothic', 'grand_strategy', 'grid_based_movement', 'gun_customization', 'hack_and_slash', 'hacking', 'hand_drawn', 'hardware', 'heist', 'hex_grid', 'hidden_object', 'historical', 'hockey', 'horror', 'horses', 'hunting', 'illuminati', 'intentionally_awkward_controls', 'interactive_fiction', 'inventory_management', 'investigation', 'isometric', 'jrpg', 'jet', 'kickstarter', 'lego', 'lara_croft', 'lemmings', 'level_editor', 'linear', 'local_co_op', 'local_multiplayer', 'logic', 'loot', 'lore_rich', 'lovecraftian', 'mmorpg', 'moba', 'magic', 'management', 'mars', 'martial_arts', 'massively_multiplayer', 'masterpiece', 'match_3', 'mature', 'mechs', 'medieval', 'memes', 'metroidvania', 'military', 'mini_golf', 'minigames', 'minimalist', 'mining', 'mod', 'moddable', 'modern', 'motocross', 'motorbike', 'mouse_only', 'movie', 'multiple_endings', 'music', 'music_based_procedural_generation', 'mystery', 'mystery_dungeon', 'mythology', 'nsfw', 'narration', 'naval', 'ninja', 'noir', 'nonlinear', 'nudity', 'offroad', 'old_school', 'on_rails_shooter', 'online_co_op', 'otome', 'parkour', 'parody_', 'party_based_rpg', 'perma_death', 'philisophical', 'photo_editing', 'physics', 'pinball', 'pirates', 'pixel_graphics', 'platformer', 'point_&_click', 'political', 'politics', 'pool', 'post_apocalyptic', 'procedural_generation', 'programming', 'psychedelic', 'psychological', 'psychological_horror', 'puzzle', 'puzzle_platformer', 'pve', 'pvp', 'quick_time_events', 'rpgmaker', 'rts', 'racing', 'real_time_tactics', 'real_time', 'real_time_with_pause', 'realistic', 'relaxing', 'remake', 'replay_value', 'resource_management', 'retro', 'rhythm', 'robots', 'rogue_like', 'rogue_lite', 'romance', 'rome', 'runner', 'sailing', 'satire', 'science', 'score_attack', 'sequel', 'sexual_content', 'shoot_em_up', 'short', 'side_scroller', 'silent_protagonist', 'simulation', 'skateboarding', 'skating', 'skiing', 'sniper', 'snow', 'snowboarding', 'soccer', 'software', 'software_training', 'sokoban', 'souls_like', 'soundtrack', 'space', 'space_sim', 'spectacle_fighter', 'spelling', 'split_screen', 'sports', 'star_wars', 'stealth', 'steam_machine', 'steampunk', 'strategy_rpg', 'stylized', 'submarine', 'superhero', 'supernatural', 'surreal', 'survival', 'survival_horror', 'swordplay', 'tactical', 'tactical_rpg', 'tanks', 'team_based', 'tennis', 'text_based', 'third_person_shooter', 'thriller', 'time_attack', 'time_management', 'time_manipulation', 'time_travel', 'top_down', 'top_down_shooter', 'touch_friendly', 'tower_defense', 'trackir', 'trading', 'trading_card_game', 'trains', 'transhumanism', 'turn_based', 'turn_based_combat', 'turn_based_strategy', 'turn_based_tactics', 'tutorial', 'twin_stick_shooter', 'typing', 'underground', 'underwater', 'unforgiving', 'utilities', 'vr', 'vr_only', 'vampire', 'video_production', 'villain_protagonist', 'violent', 'visual_novel', 'voice_control', 'voxel', 'walking_simulator', 'war', 'wargame', 'warhammer_40k', 'web_publishing', 'werewolves', 'western', 'word_game', 'world_war_i', 'world_war_ii', 'wrestling', 'zombies', 'e_sports']\n"
     ]
    }
   ],
   "source": [
    "# use the function to run thru all columns\n",
    "for col in column_names_list:\n",
    "    columns_ready_to_drop(col)\n",
    "    \n",
    "print(li)\n"
   ]
  },
  {
   "cell_type": "code",
   "execution_count": 234,
   "metadata": {},
   "outputs": [
    {
     "data": {
      "text/html": "<div>\n<style scoped>\n    .dataframe tbody tr th:only-of-type {\n        vertical-align: middle;\n    }\n\n    .dataframe tbody tr th {\n        vertical-align: top;\n    }\n\n    .dataframe thead th {\n        text-align: right;\n    }\n</style>\n<table border=\"1\" class=\"dataframe\">\n  <thead>\n    <tr style=\"text-align: right;\">\n      <th></th>\n      <th>appid</th>\n      <th>Game</th>\n      <th>release_date</th>\n      <th>english</th>\n      <th>developer</th>\n      <th>publisher</th>\n      <th>platforms</th>\n      <th>required_age</th>\n      <th>achievements</th>\n      <th>positive_ratings</th>\n      <th>...</th>\n      <th>multiplayer</th>\n      <th>open_world</th>\n      <th>rpg</th>\n      <th>sandbox</th>\n      <th>sci_fi</th>\n      <th>shooter</th>\n      <th>singleplayer</th>\n      <th>story_rich</th>\n      <th>strategy</th>\n      <th>third_person</th>\n    </tr>\n  </thead>\n  <tbody>\n    <tr>\n      <th>0</th>\n      <td>220</td>\n      <td>halflife 2</td>\n      <td>2004-11-16</td>\n      <td>1</td>\n      <td>Valve</td>\n      <td>Valve</td>\n      <td>windows;mac;linux</td>\n      <td>0</td>\n      <td>33</td>\n      <td>67902</td>\n      <td>...</td>\n      <td>488</td>\n      <td>0</td>\n      <td>0</td>\n      <td>0</td>\n      <td>1589</td>\n      <td>1049</td>\n      <td>1315</td>\n      <td>1116</td>\n      <td>0</td>\n      <td>0</td>\n    </tr>\n    <tr>\n      <th>1</th>\n      <td>440</td>\n      <td>team fortress 2</td>\n      <td>2007-10-10</td>\n      <td>1</td>\n      <td>Valve</td>\n      <td>Valve</td>\n      <td>windows;mac;linux</td>\n      <td>0</td>\n      <td>520</td>\n      <td>515879</td>\n      <td>...</td>\n      <td>10499</td>\n      <td>0</td>\n      <td>0</td>\n      <td>0</td>\n      <td>0</td>\n      <td>7857</td>\n      <td>0</td>\n      <td>0</td>\n      <td>0</td>\n      <td>0</td>\n    </tr>\n    <tr>\n      <th>2</th>\n      <td>500</td>\n      <td>left 4 dead</td>\n      <td>2008-11-17</td>\n      <td>1</td>\n      <td>Valve</td>\n      <td>Valve</td>\n      <td>windows;mac</td>\n      <td>0</td>\n      <td>73</td>\n      <td>17951</td>\n      <td>...</td>\n      <td>649</td>\n      <td>0</td>\n      <td>0</td>\n      <td>0</td>\n      <td>0</td>\n      <td>430</td>\n      <td>246</td>\n      <td>0</td>\n      <td>0</td>\n      <td>0</td>\n    </tr>\n    <tr>\n      <th>3</th>\n      <td>550</td>\n      <td>left 4 dead 2</td>\n      <td>2009-11-19</td>\n      <td>1</td>\n      <td>Valve</td>\n      <td>Valve</td>\n      <td>windows;mac;linux</td>\n      <td>0</td>\n      <td>70</td>\n      <td>251789</td>\n      <td>...</td>\n      <td>3176</td>\n      <td>0</td>\n      <td>0</td>\n      <td>0</td>\n      <td>0</td>\n      <td>1944</td>\n      <td>947</td>\n      <td>0</td>\n      <td>0</td>\n      <td>0</td>\n    </tr>\n    <tr>\n      <th>4</th>\n      <td>570</td>\n      <td>dota 2</td>\n      <td>2013-07-09</td>\n      <td>1</td>\n      <td>Valve</td>\n      <td>Valve</td>\n      <td>windows;mac;linux</td>\n      <td>0</td>\n      <td>0</td>\n      <td>863507</td>\n      <td>...</td>\n      <td>7747</td>\n      <td>0</td>\n      <td>2447</td>\n      <td>0</td>\n      <td>0</td>\n      <td>0</td>\n      <td>0</td>\n      <td>0</td>\n      <td>8242</td>\n      <td>0</td>\n    </tr>\n    <tr>\n      <th>...</th>\n      <td>...</td>\n      <td>...</td>\n      <td>...</td>\n      <td>...</td>\n      <td>...</td>\n      <td>...</td>\n      <td>...</td>\n      <td>...</td>\n      <td>...</td>\n      <td>...</td>\n      <td>...</td>\n      <td>...</td>\n      <td>...</td>\n      <td>...</td>\n      <td>...</td>\n      <td>...</td>\n      <td>...</td>\n      <td>...</td>\n      <td>...</td>\n      <td>...</td>\n      <td>...</td>\n    </tr>\n    <tr>\n      <th>235</th>\n      <td>711660</td>\n      <td>chuchel</td>\n      <td>2018-03-07</td>\n      <td>1</td>\n      <td>Amanita Design</td>\n      <td>Amanita Design</td>\n      <td>windows;mac</td>\n      <td>0</td>\n      <td>7</td>\n      <td>976</td>\n      <td>...</td>\n      <td>0</td>\n      <td>0</td>\n      <td>0</td>\n      <td>0</td>\n      <td>0</td>\n      <td>0</td>\n      <td>36</td>\n      <td>19</td>\n      <td>0</td>\n      <td>0</td>\n    </tr>\n    <tr>\n      <th>236</th>\n      <td>729040</td>\n      <td>borderlands</td>\n      <td>2019-04-03</td>\n      <td>1</td>\n      <td>Gearbox Software;Blind Squirrel Games</td>\n      <td>2K</td>\n      <td>windows</td>\n      <td>18</td>\n      <td>80</td>\n      <td>1648</td>\n      <td>...</td>\n      <td>0</td>\n      <td>0</td>\n      <td>37</td>\n      <td>0</td>\n      <td>0</td>\n      <td>0</td>\n      <td>0</td>\n      <td>0</td>\n      <td>0</td>\n      <td>0</td>\n    </tr>\n    <tr>\n      <th>237</th>\n      <td>764790</td>\n      <td>the messenger</td>\n      <td>2018-08-30</td>\n      <td>1</td>\n      <td>Sabotage</td>\n      <td>Devolver Digital</td>\n      <td>windows</td>\n      <td>0</td>\n      <td>40</td>\n      <td>1846</td>\n      <td>...</td>\n      <td>0</td>\n      <td>0</td>\n      <td>0</td>\n      <td>0</td>\n      <td>0</td>\n      <td>0</td>\n      <td>24</td>\n      <td>0</td>\n      <td>0</td>\n      <td>0</td>\n    </tr>\n    <tr>\n      <th>238</th>\n      <td>845070</td>\n      <td>the awesome adventures of captain spirit</td>\n      <td>2018-06-25</td>\n      <td>1</td>\n      <td>DONTNOD Entertainment</td>\n      <td>Square Enix</td>\n      <td>windows</td>\n      <td>0</td>\n      <td>0</td>\n      <td>8077</td>\n      <td>...</td>\n      <td>0</td>\n      <td>0</td>\n      <td>0</td>\n      <td>0</td>\n      <td>0</td>\n      <td>0</td>\n      <td>54</td>\n      <td>99</td>\n      <td>0</td>\n      <td>0</td>\n    </tr>\n    <tr>\n      <th>239</th>\n      <td>860950</td>\n      <td>mark of the ninja</td>\n      <td>2018-10-09</td>\n      <td>1</td>\n      <td>Klei Entertainment</td>\n      <td>Klei Entertainment</td>\n      <td>windows;mac;linux</td>\n      <td>16</td>\n      <td>38</td>\n      <td>802</td>\n      <td>...</td>\n      <td>0</td>\n      <td>0</td>\n      <td>0</td>\n      <td>0</td>\n      <td>0</td>\n      <td>0</td>\n      <td>0</td>\n      <td>0</td>\n      <td>0</td>\n      <td>0</td>\n    </tr>\n  </tbody>\n</table>\n<p>240 rows × 56 columns</p>\n</div>",
      "text/plain": "      appid                                      Game release_date  english  \\\n0       220                                halflife 2   2004-11-16        1   \n1       440                           team fortress 2   2007-10-10        1   \n2       500                               left 4 dead   2008-11-17        1   \n3       550                             left 4 dead 2   2009-11-19        1   \n4       570                                    dota 2   2013-07-09        1   \n..      ...                                       ...          ...      ...   \n235  711660                                   chuchel   2018-03-07        1   \n236  729040                               borderlands   2019-04-03        1   \n237  764790                             the messenger   2018-08-30        1   \n238  845070  the awesome adventures of captain spirit   2018-06-25        1   \n239  860950                         mark of the ninja   2018-10-09        1   \n\n                                 developer            publisher  \\\n0                                    Valve                Valve   \n1                                    Valve                Valve   \n2                                    Valve                Valve   \n3                                    Valve                Valve   \n4                                    Valve                Valve   \n..                                     ...                  ...   \n235                         Amanita Design       Amanita Design   \n236  Gearbox Software;Blind Squirrel Games                   2K   \n237                               Sabotage     Devolver Digital   \n238                  DONTNOD Entertainment          Square Enix   \n239                     Klei Entertainment  Klei Entertainment    \n\n             platforms  required_age  achievements  positive_ratings  ...  \\\n0    windows;mac;linux             0            33             67902  ...   \n1    windows;mac;linux             0           520            515879  ...   \n2          windows;mac             0            73             17951  ...   \n3    windows;mac;linux             0            70            251789  ...   \n4    windows;mac;linux             0             0            863507  ...   \n..                 ...           ...           ...               ...  ...   \n235        windows;mac             0             7               976  ...   \n236            windows            18            80              1648  ...   \n237            windows             0            40              1846  ...   \n238            windows             0             0              8077  ...   \n239  windows;mac;linux            16            38               802  ...   \n\n     multiplayer  open_world   rpg sandbox  sci_fi shooter  singleplayer  \\\n0            488           0     0       0    1589    1049          1315   \n1          10499           0     0       0       0    7857             0   \n2            649           0     0       0       0     430           246   \n3           3176           0     0       0       0    1944           947   \n4           7747           0  2447       0       0       0             0   \n..           ...         ...   ...     ...     ...     ...           ...   \n235            0           0     0       0       0       0            36   \n236            0           0    37       0       0       0             0   \n237            0           0     0       0       0       0            24   \n238            0           0     0       0       0       0            54   \n239            0           0     0       0       0       0             0   \n\n     story_rich strategy third_person  \n0          1116        0            0  \n1             0        0            0  \n2             0        0            0  \n3             0        0            0  \n4             0     8242            0  \n..          ...      ...          ...  \n235          19        0            0  \n236           0        0            0  \n237           0        0            0  \n238          99        0            0  \n239           0        0            0  \n\n[240 rows x 56 columns]"
     },
     "execution_count": 234,
     "metadata": {},
     "output_type": "execute_result"
    }
   ],
   "source": [
    "#dropping columns when the dtypes of the columns is int64 and there are more than half of values are 0.\n",
    "df_new = df.drop(columns=li)\n",
    "df_new"
   ]
  },
  {
   "cell_type": "code",
   "execution_count": 235,
   "metadata": {},
   "outputs": [
    {
     "data": {
      "text/plain": "Index(['appid', 'Game', 'release_date', 'english', 'developer', 'publisher',\n       'platforms', 'required_age', 'achievements', 'positive_ratings',\n       'negative_ratings', 'average_playtime', 'median_playtime', 'owners',\n       'price', 'genre_concat', 'Unnamed: 0.1', 'Year_x', 'Publisher', 'Genre',\n       'Platform', 'Metascore', 'Avg_Userscore', 'No_Players', 'Rank', 'Month',\n       'Year_y', 'Hours_watched', 'Hours_Streamed', 'Peak_viewers',\n       'Peak_channels', 'Streamers', 'Avg_viewers', 'Avg_channels',\n       'Avg_viewer_ratio', 'action', 'adventure', 'atmospheric', 'co_op',\n       'difficult', 'exploration', 'fps', 'fantasy', 'first_person',\n       'great_soundtrack', 'indie', 'multiplayer', 'open_world', 'rpg',\n       'sandbox', 'sci_fi', 'shooter', 'singleplayer', 'story_rich',\n       'strategy', 'third_person'],\n      dtype='object')"
     },
     "execution_count": 235,
     "metadata": {},
     "output_type": "execute_result"
    }
   ],
   "source": [
    "df_new.columns"
   ]
  },
  {
   "cell_type": "code",
   "execution_count": 236,
   "metadata": {},
   "outputs": [
    {
     "data": {
      "text/html": "<div>\n<style scoped>\n    .dataframe tbody tr th:only-of-type {\n        vertical-align: middle;\n    }\n\n    .dataframe tbody tr th {\n        vertical-align: top;\n    }\n\n    .dataframe thead th {\n        text-align: right;\n    }\n</style>\n<table border=\"1\" class=\"dataframe\">\n  <thead>\n    <tr style=\"text-align: right;\">\n      <th></th>\n      <th>appid</th>\n      <th>Game</th>\n      <th>release_date</th>\n      <th>english</th>\n      <th>developer</th>\n      <th>publisher</th>\n      <th>platforms</th>\n      <th>required_age</th>\n      <th>achievements</th>\n      <th>positive_ratings</th>\n      <th>...</th>\n      <th>multiplayer</th>\n      <th>open_world</th>\n      <th>rpg</th>\n      <th>sandbox</th>\n      <th>sci_fi</th>\n      <th>shooter</th>\n      <th>singleplayer</th>\n      <th>story_rich</th>\n      <th>strategy</th>\n      <th>third_person</th>\n    </tr>\n    <tr>\n      <th>Game</th>\n      <th></th>\n      <th></th>\n      <th></th>\n      <th></th>\n      <th></th>\n      <th></th>\n      <th></th>\n      <th></th>\n      <th></th>\n      <th></th>\n      <th></th>\n      <th></th>\n      <th></th>\n      <th></th>\n      <th></th>\n      <th></th>\n      <th></th>\n      <th></th>\n      <th></th>\n      <th></th>\n      <th></th>\n    </tr>\n  </thead>\n  <tbody>\n    <tr>\n      <th>halflife 2</th>\n      <td>220</td>\n      <td>halflife 2</td>\n      <td>2004-11-16</td>\n      <td>1</td>\n      <td>Valve</td>\n      <td>Valve</td>\n      <td>windows;mac;linux</td>\n      <td>0</td>\n      <td>33</td>\n      <td>67902</td>\n      <td>...</td>\n      <td>488</td>\n      <td>0</td>\n      <td>0</td>\n      <td>0</td>\n      <td>1589</td>\n      <td>1049</td>\n      <td>1315</td>\n      <td>1116</td>\n      <td>0</td>\n      <td>0</td>\n    </tr>\n    <tr>\n      <th>team fortress 2</th>\n      <td>440</td>\n      <td>team fortress 2</td>\n      <td>2007-10-10</td>\n      <td>1</td>\n      <td>Valve</td>\n      <td>Valve</td>\n      <td>windows;mac;linux</td>\n      <td>0</td>\n      <td>520</td>\n      <td>515879</td>\n      <td>...</td>\n      <td>10499</td>\n      <td>0</td>\n      <td>0</td>\n      <td>0</td>\n      <td>0</td>\n      <td>7857</td>\n      <td>0</td>\n      <td>0</td>\n      <td>0</td>\n      <td>0</td>\n    </tr>\n    <tr>\n      <th>left 4 dead</th>\n      <td>500</td>\n      <td>left 4 dead</td>\n      <td>2008-11-17</td>\n      <td>1</td>\n      <td>Valve</td>\n      <td>Valve</td>\n      <td>windows;mac</td>\n      <td>0</td>\n      <td>73</td>\n      <td>17951</td>\n      <td>...</td>\n      <td>649</td>\n      <td>0</td>\n      <td>0</td>\n      <td>0</td>\n      <td>0</td>\n      <td>430</td>\n      <td>246</td>\n      <td>0</td>\n      <td>0</td>\n      <td>0</td>\n    </tr>\n    <tr>\n      <th>left 4 dead 2</th>\n      <td>550</td>\n      <td>left 4 dead 2</td>\n      <td>2009-11-19</td>\n      <td>1</td>\n      <td>Valve</td>\n      <td>Valve</td>\n      <td>windows;mac;linux</td>\n      <td>0</td>\n      <td>70</td>\n      <td>251789</td>\n      <td>...</td>\n      <td>3176</td>\n      <td>0</td>\n      <td>0</td>\n      <td>0</td>\n      <td>0</td>\n      <td>1944</td>\n      <td>947</td>\n      <td>0</td>\n      <td>0</td>\n      <td>0</td>\n    </tr>\n    <tr>\n      <th>dota 2</th>\n      <td>570</td>\n      <td>dota 2</td>\n      <td>2013-07-09</td>\n      <td>1</td>\n      <td>Valve</td>\n      <td>Valve</td>\n      <td>windows;mac;linux</td>\n      <td>0</td>\n      <td>0</td>\n      <td>863507</td>\n      <td>...</td>\n      <td>7747</td>\n      <td>0</td>\n      <td>2447</td>\n      <td>0</td>\n      <td>0</td>\n      <td>0</td>\n      <td>0</td>\n      <td>0</td>\n      <td>8242</td>\n      <td>0</td>\n    </tr>\n    <tr>\n      <th>...</th>\n      <td>...</td>\n      <td>...</td>\n      <td>...</td>\n      <td>...</td>\n      <td>...</td>\n      <td>...</td>\n      <td>...</td>\n      <td>...</td>\n      <td>...</td>\n      <td>...</td>\n      <td>...</td>\n      <td>...</td>\n      <td>...</td>\n      <td>...</td>\n      <td>...</td>\n      <td>...</td>\n      <td>...</td>\n      <td>...</td>\n      <td>...</td>\n      <td>...</td>\n      <td>...</td>\n    </tr>\n    <tr>\n      <th>chuchel</th>\n      <td>711660</td>\n      <td>chuchel</td>\n      <td>2018-03-07</td>\n      <td>1</td>\n      <td>Amanita Design</td>\n      <td>Amanita Design</td>\n      <td>windows;mac</td>\n      <td>0</td>\n      <td>7</td>\n      <td>976</td>\n      <td>...</td>\n      <td>0</td>\n      <td>0</td>\n      <td>0</td>\n      <td>0</td>\n      <td>0</td>\n      <td>0</td>\n      <td>36</td>\n      <td>19</td>\n      <td>0</td>\n      <td>0</td>\n    </tr>\n    <tr>\n      <th>borderlands</th>\n      <td>729040</td>\n      <td>borderlands</td>\n      <td>2019-04-03</td>\n      <td>1</td>\n      <td>Gearbox Software;Blind Squirrel Games</td>\n      <td>2K</td>\n      <td>windows</td>\n      <td>18</td>\n      <td>80</td>\n      <td>1648</td>\n      <td>...</td>\n      <td>0</td>\n      <td>0</td>\n      <td>37</td>\n      <td>0</td>\n      <td>0</td>\n      <td>0</td>\n      <td>0</td>\n      <td>0</td>\n      <td>0</td>\n      <td>0</td>\n    </tr>\n    <tr>\n      <th>the messenger</th>\n      <td>764790</td>\n      <td>the messenger</td>\n      <td>2018-08-30</td>\n      <td>1</td>\n      <td>Sabotage</td>\n      <td>Devolver Digital</td>\n      <td>windows</td>\n      <td>0</td>\n      <td>40</td>\n      <td>1846</td>\n      <td>...</td>\n      <td>0</td>\n      <td>0</td>\n      <td>0</td>\n      <td>0</td>\n      <td>0</td>\n      <td>0</td>\n      <td>24</td>\n      <td>0</td>\n      <td>0</td>\n      <td>0</td>\n    </tr>\n    <tr>\n      <th>the awesome adventures of captain spirit</th>\n      <td>845070</td>\n      <td>the awesome adventures of captain spirit</td>\n      <td>2018-06-25</td>\n      <td>1</td>\n      <td>DONTNOD Entertainment</td>\n      <td>Square Enix</td>\n      <td>windows</td>\n      <td>0</td>\n      <td>0</td>\n      <td>8077</td>\n      <td>...</td>\n      <td>0</td>\n      <td>0</td>\n      <td>0</td>\n      <td>0</td>\n      <td>0</td>\n      <td>0</td>\n      <td>54</td>\n      <td>99</td>\n      <td>0</td>\n      <td>0</td>\n    </tr>\n    <tr>\n      <th>mark of the ninja</th>\n      <td>860950</td>\n      <td>mark of the ninja</td>\n      <td>2018-10-09</td>\n      <td>1</td>\n      <td>Klei Entertainment</td>\n      <td>Klei Entertainment</td>\n      <td>windows;mac;linux</td>\n      <td>16</td>\n      <td>38</td>\n      <td>802</td>\n      <td>...</td>\n      <td>0</td>\n      <td>0</td>\n      <td>0</td>\n      <td>0</td>\n      <td>0</td>\n      <td>0</td>\n      <td>0</td>\n      <td>0</td>\n      <td>0</td>\n      <td>0</td>\n    </tr>\n  </tbody>\n</table>\n<p>240 rows × 56 columns</p>\n</div>",
      "text/plain": "                                           appid  \\\nGame                                               \nhalflife 2                                   220   \nteam fortress 2                              440   \nleft 4 dead                                  500   \nleft 4 dead 2                                550   \ndota 2                                       570   \n...                                          ...   \nchuchel                                   711660   \nborderlands                               729040   \nthe messenger                             764790   \nthe awesome adventures of captain spirit  845070   \nmark of the ninja                         860950   \n\n                                                                              Game  \\\nGame                                                                                 \nhalflife 2                                                              halflife 2   \nteam fortress 2                                                    team fortress 2   \nleft 4 dead                                                            left 4 dead   \nleft 4 dead 2                                                        left 4 dead 2   \ndota 2                                                                      dota 2   \n...                                                                            ...   \nchuchel                                                                    chuchel   \nborderlands                                                            borderlands   \nthe messenger                                                        the messenger   \nthe awesome adventures of captain spirit  the awesome adventures of captain spirit   \nmark of the ninja                                                mark of the ninja   \n\n                                         release_date  english  \\\nGame                                                             \nhalflife 2                                 2004-11-16        1   \nteam fortress 2                            2007-10-10        1   \nleft 4 dead                                2008-11-17        1   \nleft 4 dead 2                              2009-11-19        1   \ndota 2                                     2013-07-09        1   \n...                                               ...      ...   \nchuchel                                    2018-03-07        1   \nborderlands                                2019-04-03        1   \nthe messenger                              2018-08-30        1   \nthe awesome adventures of captain spirit   2018-06-25        1   \nmark of the ninja                          2018-10-09        1   \n\n                                                                      developer  \\\nGame                                                                              \nhalflife 2                                                                Valve   \nteam fortress 2                                                           Valve   \nleft 4 dead                                                               Valve   \nleft 4 dead 2                                                             Valve   \ndota 2                                                                    Valve   \n...                                                                         ...   \nchuchel                                                          Amanita Design   \nborderlands                               Gearbox Software;Blind Squirrel Games   \nthe messenger                                                          Sabotage   \nthe awesome adventures of captain spirit                  DONTNOD Entertainment   \nmark of the ninja                                            Klei Entertainment   \n\n                                                    publisher  \\\nGame                                                            \nhalflife 2                                              Valve   \nteam fortress 2                                         Valve   \nleft 4 dead                                             Valve   \nleft 4 dead 2                                           Valve   \ndota 2                                                  Valve   \n...                                                       ...   \nchuchel                                        Amanita Design   \nborderlands                                                2K   \nthe messenger                                Devolver Digital   \nthe awesome adventures of captain spirit          Square Enix   \nmark of the ninja                         Klei Entertainment    \n\n                                                  platforms  required_age  \\\nGame                                                                        \nhalflife 2                                windows;mac;linux             0   \nteam fortress 2                           windows;mac;linux             0   \nleft 4 dead                                     windows;mac             0   \nleft 4 dead 2                             windows;mac;linux             0   \ndota 2                                    windows;mac;linux             0   \n...                                                     ...           ...   \nchuchel                                         windows;mac             0   \nborderlands                                         windows            18   \nthe messenger                                       windows             0   \nthe awesome adventures of captain spirit            windows             0   \nmark of the ninja                         windows;mac;linux            16   \n\n                                          achievements  positive_ratings  ...  \\\nGame                                                                      ...   \nhalflife 2                                          33             67902  ...   \nteam fortress 2                                    520            515879  ...   \nleft 4 dead                                         73             17951  ...   \nleft 4 dead 2                                       70            251789  ...   \ndota 2                                               0            863507  ...   \n...                                                ...               ...  ...   \nchuchel                                              7               976  ...   \nborderlands                                         80              1648  ...   \nthe messenger                                       40              1846  ...   \nthe awesome adventures of captain spirit             0              8077  ...   \nmark of the ninja                                   38               802  ...   \n\n                                          multiplayer  open_world   rpg  \\\nGame                                                                      \nhalflife 2                                        488           0     0   \nteam fortress 2                                 10499           0     0   \nleft 4 dead                                       649           0     0   \nleft 4 dead 2                                    3176           0     0   \ndota 2                                           7747           0  2447   \n...                                               ...         ...   ...   \nchuchel                                             0           0     0   \nborderlands                                         0           0    37   \nthe messenger                                       0           0     0   \nthe awesome adventures of captain spirit            0           0     0   \nmark of the ninja                                   0           0     0   \n\n                                         sandbox  sci_fi shooter  \\\nGame                                                               \nhalflife 2                                     0    1589    1049   \nteam fortress 2                                0       0    7857   \nleft 4 dead                                    0       0     430   \nleft 4 dead 2                                  0       0    1944   \ndota 2                                         0       0       0   \n...                                          ...     ...     ...   \nchuchel                                        0       0       0   \nborderlands                                    0       0       0   \nthe messenger                                  0       0       0   \nthe awesome adventures of captain spirit       0       0       0   \nmark of the ninja                              0       0       0   \n\n                                          singleplayer  story_rich strategy  \\\nGame                                                                          \nhalflife 2                                        1315        1116        0   \nteam fortress 2                                      0           0        0   \nleft 4 dead                                        246           0        0   \nleft 4 dead 2                                      947           0        0   \ndota 2                                               0           0     8242   \n...                                                ...         ...      ...   \nchuchel                                             36          19        0   \nborderlands                                          0           0        0   \nthe messenger                                       24           0        0   \nthe awesome adventures of captain spirit            54          99        0   \nmark of the ninja                                    0           0        0   \n\n                                         third_person  \nGame                                                   \nhalflife 2                                          0  \nteam fortress 2                                     0  \nleft 4 dead                                         0  \nleft 4 dead 2                                       0  \ndota 2                                              0  \n...                                               ...  \nchuchel                                             0  \nborderlands                                         0  \nthe messenger                                       0  \nthe awesome adventures of captain spirit            0  \nmark of the ninja                                   0  \n\n[240 rows x 56 columns]"
     },
     "execution_count": 236,
     "metadata": {},
     "output_type": "execute_result"
    }
   ],
   "source": [
    "#put Game name as index\n",
    "df_new = df_new.set_index(\"Game\", drop = False, append=False, inplace=False)\n",
    "df_new"
   ]
  },
  {
   "cell_type": "code",
   "execution_count": 237,
   "metadata": {},
   "outputs": [
    {
     "data": {
      "text/html": "<div>\n<style scoped>\n    .dataframe tbody tr th:only-of-type {\n        vertical-align: middle;\n    }\n\n    .dataframe tbody tr th {\n        vertical-align: top;\n    }\n\n    .dataframe thead th {\n        text-align: right;\n    }\n</style>\n<table border=\"1\" class=\"dataframe\">\n  <thead>\n    <tr style=\"text-align: right;\">\n      <th></th>\n      <th>Game</th>\n    </tr>\n    <tr>\n      <th>Game</th>\n      <th></th>\n    </tr>\n  </thead>\n  <tbody>\n    <tr>\n      <th>halflife 2</th>\n      <td>halflife 2</td>\n    </tr>\n    <tr>\n      <th>team fortress 2</th>\n      <td>team fortress 2</td>\n    </tr>\n    <tr>\n      <th>left 4 dead</th>\n      <td>left 4 dead</td>\n    </tr>\n    <tr>\n      <th>left 4 dead 2</th>\n      <td>left 4 dead 2</td>\n    </tr>\n    <tr>\n      <th>dota 2</th>\n      <td>dota 2</td>\n    </tr>\n    <tr>\n      <th>...</th>\n      <td>...</td>\n    </tr>\n    <tr>\n      <th>chuchel</th>\n      <td>chuchel</td>\n    </tr>\n    <tr>\n      <th>borderlands</th>\n      <td>borderlands</td>\n    </tr>\n    <tr>\n      <th>the messenger</th>\n      <td>the messenger</td>\n    </tr>\n    <tr>\n      <th>the awesome adventures of captain spirit</th>\n      <td>the awesome adventures of captain spirit</td>\n    </tr>\n    <tr>\n      <th>mark of the ninja</th>\n      <td>mark of the ninja</td>\n    </tr>\n  </tbody>\n</table>\n<p>240 rows × 1 columns</p>\n</div>",
      "text/plain": "                                                                              Game\nGame                                                                              \nhalflife 2                                                              halflife 2\nteam fortress 2                                                    team fortress 2\nleft 4 dead                                                            left 4 dead\nleft 4 dead 2                                                        left 4 dead 2\ndota 2                                                                      dota 2\n...                                                                            ...\nchuchel                                                                    chuchel\nborderlands                                                            borderlands\nthe messenger                                                        the messenger\nthe awesome adventures of captain spirit  the awesome adventures of captain spirit\nmark of the ninja                                                mark of the ninja\n\n[240 rows x 1 columns]"
     },
     "execution_count": 237,
     "metadata": {},
     "output_type": "execute_result"
    }
   ],
   "source": [
    "#create a new Dataframe that holds only the game names\n",
    "game_names_df = df_new[[\"Game\"]]\n",
    "game_names_df"
   ]
  },
  {
   "cell_type": "code",
   "execution_count": 238,
   "metadata": {},
   "outputs": [
    {
     "data": {
      "text/html": "<div>\n<style scoped>\n    .dataframe tbody tr th:only-of-type {\n        vertical-align: middle;\n    }\n\n    .dataframe tbody tr th {\n        vertical-align: top;\n    }\n\n    .dataframe thead th {\n        text-align: right;\n    }\n</style>\n<table border=\"1\" class=\"dataframe\">\n  <thead>\n    <tr style=\"text-align: right;\">\n      <th></th>\n      <th>appid</th>\n      <th>release_date</th>\n      <th>english</th>\n      <th>developer</th>\n      <th>publisher</th>\n      <th>platforms</th>\n      <th>required_age</th>\n      <th>achievements</th>\n      <th>positive_ratings</th>\n      <th>negative_ratings</th>\n      <th>...</th>\n      <th>multiplayer</th>\n      <th>open_world</th>\n      <th>rpg</th>\n      <th>sandbox</th>\n      <th>sci_fi</th>\n      <th>shooter</th>\n      <th>singleplayer</th>\n      <th>story_rich</th>\n      <th>strategy</th>\n      <th>third_person</th>\n    </tr>\n    <tr>\n      <th>Game</th>\n      <th></th>\n      <th></th>\n      <th></th>\n      <th></th>\n      <th></th>\n      <th></th>\n      <th></th>\n      <th></th>\n      <th></th>\n      <th></th>\n      <th></th>\n      <th></th>\n      <th></th>\n      <th></th>\n      <th></th>\n      <th></th>\n      <th></th>\n      <th></th>\n      <th></th>\n      <th></th>\n      <th></th>\n    </tr>\n  </thead>\n  <tbody>\n    <tr>\n      <th>halflife 2</th>\n      <td>220</td>\n      <td>2004-11-16</td>\n      <td>1</td>\n      <td>Valve</td>\n      <td>Valve</td>\n      <td>windows;mac;linux</td>\n      <td>0</td>\n      <td>33</td>\n      <td>67902</td>\n      <td>2419</td>\n      <td>...</td>\n      <td>488</td>\n      <td>0</td>\n      <td>0</td>\n      <td>0</td>\n      <td>1589</td>\n      <td>1049</td>\n      <td>1315</td>\n      <td>1116</td>\n      <td>0</td>\n      <td>0</td>\n    </tr>\n    <tr>\n      <th>team fortress 2</th>\n      <td>440</td>\n      <td>2007-10-10</td>\n      <td>1</td>\n      <td>Valve</td>\n      <td>Valve</td>\n      <td>windows;mac;linux</td>\n      <td>0</td>\n      <td>520</td>\n      <td>515879</td>\n      <td>34036</td>\n      <td>...</td>\n      <td>10499</td>\n      <td>0</td>\n      <td>0</td>\n      <td>0</td>\n      <td>0</td>\n      <td>7857</td>\n      <td>0</td>\n      <td>0</td>\n      <td>0</td>\n      <td>0</td>\n    </tr>\n    <tr>\n      <th>left 4 dead</th>\n      <td>500</td>\n      <td>2008-11-17</td>\n      <td>1</td>\n      <td>Valve</td>\n      <td>Valve</td>\n      <td>windows;mac</td>\n      <td>0</td>\n      <td>73</td>\n      <td>17951</td>\n      <td>948</td>\n      <td>...</td>\n      <td>649</td>\n      <td>0</td>\n      <td>0</td>\n      <td>0</td>\n      <td>0</td>\n      <td>430</td>\n      <td>246</td>\n      <td>0</td>\n      <td>0</td>\n      <td>0</td>\n    </tr>\n    <tr>\n      <th>left 4 dead 2</th>\n      <td>550</td>\n      <td>2009-11-19</td>\n      <td>1</td>\n      <td>Valve</td>\n      <td>Valve</td>\n      <td>windows;mac;linux</td>\n      <td>0</td>\n      <td>70</td>\n      <td>251789</td>\n      <td>8418</td>\n      <td>...</td>\n      <td>3176</td>\n      <td>0</td>\n      <td>0</td>\n      <td>0</td>\n      <td>0</td>\n      <td>1944</td>\n      <td>947</td>\n      <td>0</td>\n      <td>0</td>\n      <td>0</td>\n    </tr>\n    <tr>\n      <th>dota 2</th>\n      <td>570</td>\n      <td>2013-07-09</td>\n      <td>1</td>\n      <td>Valve</td>\n      <td>Valve</td>\n      <td>windows;mac;linux</td>\n      <td>0</td>\n      <td>0</td>\n      <td>863507</td>\n      <td>142079</td>\n      <td>...</td>\n      <td>7747</td>\n      <td>0</td>\n      <td>2447</td>\n      <td>0</td>\n      <td>0</td>\n      <td>0</td>\n      <td>0</td>\n      <td>0</td>\n      <td>8242</td>\n      <td>0</td>\n    </tr>\n    <tr>\n      <th>...</th>\n      <td>...</td>\n      <td>...</td>\n      <td>...</td>\n      <td>...</td>\n      <td>...</td>\n      <td>...</td>\n      <td>...</td>\n      <td>...</td>\n      <td>...</td>\n      <td>...</td>\n      <td>...</td>\n      <td>...</td>\n      <td>...</td>\n      <td>...</td>\n      <td>...</td>\n      <td>...</td>\n      <td>...</td>\n      <td>...</td>\n      <td>...</td>\n      <td>...</td>\n      <td>...</td>\n    </tr>\n    <tr>\n      <th>chuchel</th>\n      <td>711660</td>\n      <td>2018-03-07</td>\n      <td>1</td>\n      <td>Amanita Design</td>\n      <td>Amanita Design</td>\n      <td>windows;mac</td>\n      <td>0</td>\n      <td>7</td>\n      <td>976</td>\n      <td>335</td>\n      <td>...</td>\n      <td>0</td>\n      <td>0</td>\n      <td>0</td>\n      <td>0</td>\n      <td>0</td>\n      <td>0</td>\n      <td>36</td>\n      <td>19</td>\n      <td>0</td>\n      <td>0</td>\n    </tr>\n    <tr>\n      <th>borderlands</th>\n      <td>729040</td>\n      <td>2019-04-03</td>\n      <td>1</td>\n      <td>Gearbox Software;Blind Squirrel Games</td>\n      <td>2K</td>\n      <td>windows</td>\n      <td>18</td>\n      <td>80</td>\n      <td>1648</td>\n      <td>920</td>\n      <td>...</td>\n      <td>0</td>\n      <td>0</td>\n      <td>37</td>\n      <td>0</td>\n      <td>0</td>\n      <td>0</td>\n      <td>0</td>\n      <td>0</td>\n      <td>0</td>\n      <td>0</td>\n    </tr>\n    <tr>\n      <th>the messenger</th>\n      <td>764790</td>\n      <td>2018-08-30</td>\n      <td>1</td>\n      <td>Sabotage</td>\n      <td>Devolver Digital</td>\n      <td>windows</td>\n      <td>0</td>\n      <td>40</td>\n      <td>1846</td>\n      <td>90</td>\n      <td>...</td>\n      <td>0</td>\n      <td>0</td>\n      <td>0</td>\n      <td>0</td>\n      <td>0</td>\n      <td>0</td>\n      <td>24</td>\n      <td>0</td>\n      <td>0</td>\n      <td>0</td>\n    </tr>\n    <tr>\n      <th>the awesome adventures of captain spirit</th>\n      <td>845070</td>\n      <td>2018-06-25</td>\n      <td>1</td>\n      <td>DONTNOD Entertainment</td>\n      <td>Square Enix</td>\n      <td>windows</td>\n      <td>0</td>\n      <td>0</td>\n      <td>8077</td>\n      <td>667</td>\n      <td>...</td>\n      <td>0</td>\n      <td>0</td>\n      <td>0</td>\n      <td>0</td>\n      <td>0</td>\n      <td>0</td>\n      <td>54</td>\n      <td>99</td>\n      <td>0</td>\n      <td>0</td>\n    </tr>\n    <tr>\n      <th>mark of the ninja</th>\n      <td>860950</td>\n      <td>2018-10-09</td>\n      <td>1</td>\n      <td>Klei Entertainment</td>\n      <td>Klei Entertainment</td>\n      <td>windows;mac;linux</td>\n      <td>16</td>\n      <td>38</td>\n      <td>802</td>\n      <td>47</td>\n      <td>...</td>\n      <td>0</td>\n      <td>0</td>\n      <td>0</td>\n      <td>0</td>\n      <td>0</td>\n      <td>0</td>\n      <td>0</td>\n      <td>0</td>\n      <td>0</td>\n      <td>0</td>\n    </tr>\n  </tbody>\n</table>\n<p>240 rows × 55 columns</p>\n</div>",
      "text/plain": "                                           appid release_date  english  \\\nGame                                                                     \nhalflife 2                                   220   2004-11-16        1   \nteam fortress 2                              440   2007-10-10        1   \nleft 4 dead                                  500   2008-11-17        1   \nleft 4 dead 2                                550   2009-11-19        1   \ndota 2                                       570   2013-07-09        1   \n...                                          ...          ...      ...   \nchuchel                                   711660   2018-03-07        1   \nborderlands                               729040   2019-04-03        1   \nthe messenger                             764790   2018-08-30        1   \nthe awesome adventures of captain spirit  845070   2018-06-25        1   \nmark of the ninja                         860950   2018-10-09        1   \n\n                                                                      developer  \\\nGame                                                                              \nhalflife 2                                                                Valve   \nteam fortress 2                                                           Valve   \nleft 4 dead                                                               Valve   \nleft 4 dead 2                                                             Valve   \ndota 2                                                                    Valve   \n...                                                                         ...   \nchuchel                                                          Amanita Design   \nborderlands                               Gearbox Software;Blind Squirrel Games   \nthe messenger                                                          Sabotage   \nthe awesome adventures of captain spirit                  DONTNOD Entertainment   \nmark of the ninja                                            Klei Entertainment   \n\n                                                    publisher  \\\nGame                                                            \nhalflife 2                                              Valve   \nteam fortress 2                                         Valve   \nleft 4 dead                                             Valve   \nleft 4 dead 2                                           Valve   \ndota 2                                                  Valve   \n...                                                       ...   \nchuchel                                        Amanita Design   \nborderlands                                                2K   \nthe messenger                                Devolver Digital   \nthe awesome adventures of captain spirit          Square Enix   \nmark of the ninja                         Klei Entertainment    \n\n                                                  platforms  required_age  \\\nGame                                                                        \nhalflife 2                                windows;mac;linux             0   \nteam fortress 2                           windows;mac;linux             0   \nleft 4 dead                                     windows;mac             0   \nleft 4 dead 2                             windows;mac;linux             0   \ndota 2                                    windows;mac;linux             0   \n...                                                     ...           ...   \nchuchel                                         windows;mac             0   \nborderlands                                         windows            18   \nthe messenger                                       windows             0   \nthe awesome adventures of captain spirit            windows             0   \nmark of the ninja                         windows;mac;linux            16   \n\n                                          achievements  positive_ratings  \\\nGame                                                                       \nhalflife 2                                          33             67902   \nteam fortress 2                                    520            515879   \nleft 4 dead                                         73             17951   \nleft 4 dead 2                                       70            251789   \ndota 2                                               0            863507   \n...                                                ...               ...   \nchuchel                                              7               976   \nborderlands                                         80              1648   \nthe messenger                                       40              1846   \nthe awesome adventures of captain spirit             0              8077   \nmark of the ninja                                   38               802   \n\n                                          negative_ratings  ...  multiplayer  \\\nGame                                                        ...                \nhalflife 2                                            2419  ...          488   \nteam fortress 2                                      34036  ...        10499   \nleft 4 dead                                            948  ...          649   \nleft 4 dead 2                                         8418  ...         3176   \ndota 2                                              142079  ...         7747   \n...                                                    ...  ...          ...   \nchuchel                                                335  ...            0   \nborderlands                                            920  ...            0   \nthe messenger                                           90  ...            0   \nthe awesome adventures of captain spirit               667  ...            0   \nmark of the ninja                                       47  ...            0   \n\n                                          open_world   rpg  sandbox sci_fi  \\\nGame                                                                         \nhalflife 2                                         0     0        0   1589   \nteam fortress 2                                    0     0        0      0   \nleft 4 dead                                        0     0        0      0   \nleft 4 dead 2                                      0     0        0      0   \ndota 2                                             0  2447        0      0   \n...                                              ...   ...      ...    ...   \nchuchel                                            0     0        0      0   \nborderlands                                        0    37        0      0   \nthe messenger                                      0     0        0      0   \nthe awesome adventures of captain spirit           0     0        0      0   \nmark of the ninja                                  0     0        0      0   \n\n                                          shooter  singleplayer story_rich  \\\nGame                                                                         \nhalflife 2                                   1049          1315       1116   \nteam fortress 2                              7857             0          0   \nleft 4 dead                                   430           246          0   \nleft 4 dead 2                                1944           947          0   \ndota 2                                          0             0          0   \n...                                           ...           ...        ...   \nchuchel                                         0            36         19   \nborderlands                                     0             0          0   \nthe messenger                                   0            24          0   \nthe awesome adventures of captain spirit        0            54         99   \nmark of the ninja                               0             0          0   \n\n                                         strategy third_person  \nGame                                                            \nhalflife 2                                      0            0  \nteam fortress 2                                 0            0  \nleft 4 dead                                     0            0  \nleft 4 dead 2                                   0            0  \ndota 2                                       8242            0  \n...                                           ...          ...  \nchuchel                                         0            0  \nborderlands                                     0            0  \nthe messenger                                   0            0  \nthe awesome adventures of captain spirit        0            0  \nmark of the ninja                               0            0  \n\n[240 rows x 55 columns]"
     },
     "execution_count": 238,
     "metadata": {},
     "output_type": "execute_result"
    }
   ],
   "source": [
    "df_new.drop(\"Game\",axis=1,inplace=True)\n",
    "df_new"
   ]
  },
  {
   "cell_type": "code",
   "execution_count": 239,
   "metadata": {},
   "outputs": [
    {
     "data": {
      "text/html": "<div>\n<style scoped>\n    .dataframe tbody tr th:only-of-type {\n        vertical-align: middle;\n    }\n\n    .dataframe tbody tr th {\n        vertical-align: top;\n    }\n\n    .dataframe thead th {\n        text-align: right;\n    }\n</style>\n<table border=\"1\" class=\"dataframe\">\n  <thead>\n    <tr style=\"text-align: right;\">\n      <th></th>\n      <th>appid</th>\n      <th>release_date</th>\n      <th>english</th>\n      <th>publisher</th>\n      <th>platforms</th>\n      <th>required_age</th>\n      <th>achievements</th>\n      <th>positive_ratings</th>\n      <th>negative_ratings</th>\n      <th>average_playtime</th>\n      <th>...</th>\n      <th>multiplayer</th>\n      <th>open_world</th>\n      <th>rpg</th>\n      <th>sandbox</th>\n      <th>sci_fi</th>\n      <th>shooter</th>\n      <th>singleplayer</th>\n      <th>story_rich</th>\n      <th>strategy</th>\n      <th>third_person</th>\n    </tr>\n    <tr>\n      <th>developer</th>\n      <th></th>\n      <th></th>\n      <th></th>\n      <th></th>\n      <th></th>\n      <th></th>\n      <th></th>\n      <th></th>\n      <th></th>\n      <th></th>\n      <th></th>\n      <th></th>\n      <th></th>\n      <th></th>\n      <th></th>\n      <th></th>\n      <th></th>\n      <th></th>\n      <th></th>\n      <th></th>\n      <th></th>\n    </tr>\n  </thead>\n  <tbody>\n    <tr>\n      <th>11 bit studios</th>\n      <td>2</td>\n      <td>2</td>\n      <td>2</td>\n      <td>2</td>\n      <td>2</td>\n      <td>2</td>\n      <td>2</td>\n      <td>2</td>\n      <td>2</td>\n      <td>2</td>\n      <td>...</td>\n      <td>2</td>\n      <td>2</td>\n      <td>2</td>\n      <td>2</td>\n      <td>2</td>\n      <td>2</td>\n      <td>2</td>\n      <td>2</td>\n      <td>2</td>\n      <td>2</td>\n    </tr>\n    <tr>\n      <th>2K Boston;2K Australia;Blind Squirrel;Feral Interactive (Mac)</th>\n      <td>1</td>\n      <td>1</td>\n      <td>1</td>\n      <td>1</td>\n      <td>1</td>\n      <td>1</td>\n      <td>1</td>\n      <td>1</td>\n      <td>1</td>\n      <td>1</td>\n      <td>...</td>\n      <td>1</td>\n      <td>1</td>\n      <td>1</td>\n      <td>1</td>\n      <td>1</td>\n      <td>1</td>\n      <td>1</td>\n      <td>1</td>\n      <td>1</td>\n      <td>1</td>\n    </tr>\n    <tr>\n      <th>2K Czech;Feral Interactive (Mac)</th>\n      <td>1</td>\n      <td>1</td>\n      <td>1</td>\n      <td>1</td>\n      <td>1</td>\n      <td>1</td>\n      <td>1</td>\n      <td>1</td>\n      <td>1</td>\n      <td>1</td>\n      <td>...</td>\n      <td>1</td>\n      <td>1</td>\n      <td>1</td>\n      <td>1</td>\n      <td>1</td>\n      <td>1</td>\n      <td>1</td>\n      <td>1</td>\n      <td>1</td>\n      <td>1</td>\n    </tr>\n    <tr>\n      <th>4A Games</th>\n      <td>2</td>\n      <td>2</td>\n      <td>2</td>\n      <td>2</td>\n      <td>2</td>\n      <td>2</td>\n      <td>2</td>\n      <td>2</td>\n      <td>2</td>\n      <td>2</td>\n      <td>...</td>\n      <td>2</td>\n      <td>2</td>\n      <td>2</td>\n      <td>2</td>\n      <td>2</td>\n      <td>2</td>\n      <td>2</td>\n      <td>2</td>\n      <td>2</td>\n      <td>2</td>\n    </tr>\n    <tr>\n      <th>AMPLITUDE Studios</th>\n      <td>1</td>\n      <td>1</td>\n      <td>1</td>\n      <td>1</td>\n      <td>1</td>\n      <td>1</td>\n      <td>1</td>\n      <td>1</td>\n      <td>1</td>\n      <td>1</td>\n      <td>...</td>\n      <td>1</td>\n      <td>1</td>\n      <td>1</td>\n      <td>1</td>\n      <td>1</td>\n      <td>1</td>\n      <td>1</td>\n      <td>1</td>\n      <td>1</td>\n      <td>1</td>\n    </tr>\n    <tr>\n      <th>...</th>\n      <td>...</td>\n      <td>...</td>\n      <td>...</td>\n      <td>...</td>\n      <td>...</td>\n      <td>...</td>\n      <td>...</td>\n      <td>...</td>\n      <td>...</td>\n      <td>...</td>\n      <td>...</td>\n      <td>...</td>\n      <td>...</td>\n      <td>...</td>\n      <td>...</td>\n      <td>...</td>\n      <td>...</td>\n      <td>...</td>\n      <td>...</td>\n      <td>...</td>\n      <td>...</td>\n    </tr>\n    <tr>\n      <th>Wargaming Group Limited</th>\n      <td>1</td>\n      <td>1</td>\n      <td>1</td>\n      <td>1</td>\n      <td>1</td>\n      <td>1</td>\n      <td>1</td>\n      <td>1</td>\n      <td>1</td>\n      <td>1</td>\n      <td>...</td>\n      <td>1</td>\n      <td>1</td>\n      <td>1</td>\n      <td>1</td>\n      <td>1</td>\n      <td>1</td>\n      <td>1</td>\n      <td>1</td>\n      <td>1</td>\n      <td>1</td>\n    </tr>\n    <tr>\n      <th>XLGAMES</th>\n      <td>1</td>\n      <td>1</td>\n      <td>1</td>\n      <td>1</td>\n      <td>1</td>\n      <td>1</td>\n      <td>1</td>\n      <td>1</td>\n      <td>1</td>\n      <td>1</td>\n      <td>...</td>\n      <td>1</td>\n      <td>1</td>\n      <td>1</td>\n      <td>1</td>\n      <td>1</td>\n      <td>1</td>\n      <td>1</td>\n      <td>1</td>\n      <td>1</td>\n      <td>1</td>\n    </tr>\n    <tr>\n      <th>id Software</th>\n      <td>2</td>\n      <td>2</td>\n      <td>2</td>\n      <td>2</td>\n      <td>2</td>\n      <td>2</td>\n      <td>2</td>\n      <td>2</td>\n      <td>2</td>\n      <td>2</td>\n      <td>...</td>\n      <td>2</td>\n      <td>2</td>\n      <td>2</td>\n      <td>2</td>\n      <td>2</td>\n      <td>2</td>\n      <td>2</td>\n      <td>2</td>\n      <td>2</td>\n      <td>2</td>\n    </tr>\n    <tr>\n      <th>inXile Entertainment</th>\n      <td>1</td>\n      <td>1</td>\n      <td>1</td>\n      <td>1</td>\n      <td>1</td>\n      <td>1</td>\n      <td>1</td>\n      <td>1</td>\n      <td>1</td>\n      <td>1</td>\n      <td>...</td>\n      <td>1</td>\n      <td>1</td>\n      <td>1</td>\n      <td>1</td>\n      <td>1</td>\n      <td>1</td>\n      <td>1</td>\n      <td>1</td>\n      <td>1</td>\n      <td>1</td>\n    </tr>\n    <tr>\n      <th>tobyfox</th>\n      <td>1</td>\n      <td>1</td>\n      <td>1</td>\n      <td>1</td>\n      <td>1</td>\n      <td>1</td>\n      <td>1</td>\n      <td>1</td>\n      <td>1</td>\n      <td>1</td>\n      <td>...</td>\n      <td>1</td>\n      <td>1</td>\n      <td>1</td>\n      <td>1</td>\n      <td>1</td>\n      <td>1</td>\n      <td>1</td>\n      <td>1</td>\n      <td>1</td>\n      <td>1</td>\n    </tr>\n  </tbody>\n</table>\n<p>186 rows × 54 columns</p>\n</div>",
      "text/plain": "                                                    appid  release_date  \\\ndeveloper                                                                 \n11 bit studios                                          2             2   \n2K Boston;2K Australia;Blind Squirrel;Feral Int...      1             1   \n2K Czech;Feral Interactive (Mac)                        1             1   \n4A Games                                                2             2   \nAMPLITUDE Studios                                       1             1   \n...                                                   ...           ...   \nWargaming Group Limited                                 1             1   \nXLGAMES                                                 1             1   \nid Software                                             2             2   \ninXile Entertainment                                    1             1   \ntobyfox                                                 1             1   \n\n                                                    english  publisher  \\\ndeveloper                                                                \n11 bit studios                                            2          2   \n2K Boston;2K Australia;Blind Squirrel;Feral Int...        1          1   \n2K Czech;Feral Interactive (Mac)                          1          1   \n4A Games                                                  2          2   \nAMPLITUDE Studios                                         1          1   \n...                                                     ...        ...   \nWargaming Group Limited                                   1          1   \nXLGAMES                                                   1          1   \nid Software                                               2          2   \ninXile Entertainment                                      1          1   \ntobyfox                                                   1          1   \n\n                                                    platforms  required_age  \\\ndeveloper                                                                     \n11 bit studios                                              2             2   \n2K Boston;2K Australia;Blind Squirrel;Feral Int...          1             1   \n2K Czech;Feral Interactive (Mac)                            1             1   \n4A Games                                                    2             2   \nAMPLITUDE Studios                                           1             1   \n...                                                       ...           ...   \nWargaming Group Limited                                     1             1   \nXLGAMES                                                     1             1   \nid Software                                                 2             2   \ninXile Entertainment                                        1             1   \ntobyfox                                                     1             1   \n\n                                                    achievements  \\\ndeveloper                                                          \n11 bit studios                                                 2   \n2K Boston;2K Australia;Blind Squirrel;Feral Int...             1   \n2K Czech;Feral Interactive (Mac)                               1   \n4A Games                                                       2   \nAMPLITUDE Studios                                              1   \n...                                                          ...   \nWargaming Group Limited                                        1   \nXLGAMES                                                        1   \nid Software                                                    2   \ninXile Entertainment                                           1   \ntobyfox                                                        1   \n\n                                                    positive_ratings  \\\ndeveloper                                                              \n11 bit studios                                                     2   \n2K Boston;2K Australia;Blind Squirrel;Feral Int...                 1   \n2K Czech;Feral Interactive (Mac)                                   1   \n4A Games                                                           2   \nAMPLITUDE Studios                                                  1   \n...                                                              ...   \nWargaming Group Limited                                            1   \nXLGAMES                                                            1   \nid Software                                                        2   \ninXile Entertainment                                               1   \ntobyfox                                                            1   \n\n                                                    negative_ratings  \\\ndeveloper                                                              \n11 bit studios                                                     2   \n2K Boston;2K Australia;Blind Squirrel;Feral Int...                 1   \n2K Czech;Feral Interactive (Mac)                                   1   \n4A Games                                                           2   \nAMPLITUDE Studios                                                  1   \n...                                                              ...   \nWargaming Group Limited                                            1   \nXLGAMES                                                            1   \nid Software                                                        2   \ninXile Entertainment                                               1   \ntobyfox                                                            1   \n\n                                                    average_playtime  ...  \\\ndeveloper                                                             ...   \n11 bit studios                                                     2  ...   \n2K Boston;2K Australia;Blind Squirrel;Feral Int...                 1  ...   \n2K Czech;Feral Interactive (Mac)                                   1  ...   \n4A Games                                                           2  ...   \nAMPLITUDE Studios                                                  1  ...   \n...                                                              ...  ...   \nWargaming Group Limited                                            1  ...   \nXLGAMES                                                            1  ...   \nid Software                                                        2  ...   \ninXile Entertainment                                               1  ...   \ntobyfox                                                            1  ...   \n\n                                                    multiplayer  open_world  \\\ndeveloper                                                                     \n11 bit studios                                                2           2   \n2K Boston;2K Australia;Blind Squirrel;Feral Int...            1           1   \n2K Czech;Feral Interactive (Mac)                              1           1   \n4A Games                                                      2           2   \nAMPLITUDE Studios                                             1           1   \n...                                                         ...         ...   \nWargaming Group Limited                                       1           1   \nXLGAMES                                                       1           1   \nid Software                                                   2           2   \ninXile Entertainment                                          1           1   \ntobyfox                                                       1           1   \n\n                                                    rpg  sandbox  sci_fi  \\\ndeveloper                                                                  \n11 bit studios                                        2        2       2   \n2K Boston;2K Australia;Blind Squirrel;Feral Int...    1        1       1   \n2K Czech;Feral Interactive (Mac)                      1        1       1   \n4A Games                                              2        2       2   \nAMPLITUDE Studios                                     1        1       1   \n...                                                 ...      ...     ...   \nWargaming Group Limited                               1        1       1   \nXLGAMES                                               1        1       1   \nid Software                                           2        2       2   \ninXile Entertainment                                  1        1       1   \ntobyfox                                               1        1       1   \n\n                                                    shooter  singleplayer  \\\ndeveloper                                                                   \n11 bit studios                                            2             2   \n2K Boston;2K Australia;Blind Squirrel;Feral Int...        1             1   \n2K Czech;Feral Interactive (Mac)                          1             1   \n4A Games                                                  2             2   \nAMPLITUDE Studios                                         1             1   \n...                                                     ...           ...   \nWargaming Group Limited                                   1             1   \nXLGAMES                                                   1             1   \nid Software                                               2             2   \ninXile Entertainment                                      1             1   \ntobyfox                                                   1             1   \n\n                                                    story_rich  strategy  \\\ndeveloper                                                                  \n11 bit studios                                               2         2   \n2K Boston;2K Australia;Blind Squirrel;Feral Int...           1         1   \n2K Czech;Feral Interactive (Mac)                             1         1   \n4A Games                                                     2         2   \nAMPLITUDE Studios                                            1         1   \n...                                                        ...       ...   \nWargaming Group Limited                                      1         1   \nXLGAMES                                                      1         1   \nid Software                                                  2         2   \ninXile Entertainment                                         1         1   \ntobyfox                                                      1         1   \n\n                                                    third_person  \ndeveloper                                                         \n11 bit studios                                                 2  \n2K Boston;2K Australia;Blind Squirrel;Feral Int...             1  \n2K Czech;Feral Interactive (Mac)                               1  \n4A Games                                                       2  \nAMPLITUDE Studios                                              1  \n...                                                          ...  \nWargaming Group Limited                                        1  \nXLGAMES                                                        1  \nid Software                                                    2  \ninXile Entertainment                                           1  \ntobyfox                                                        1  \n\n[186 rows x 54 columns]"
     },
     "execution_count": 239,
     "metadata": {},
     "output_type": "execute_result"
    }
   ],
   "source": [
    "#check unique values for developers column\n",
    "df_new.groupby(\"developer\").count()"
   ]
  },
  {
   "cell_type": "code",
   "execution_count": 240,
   "metadata": {},
   "outputs": [
    {
     "data": {
      "text/html": "<div>\n<style scoped>\n    .dataframe tbody tr th:only-of-type {\n        vertical-align: middle;\n    }\n\n    .dataframe tbody tr th {\n        vertical-align: top;\n    }\n\n    .dataframe thead th {\n        text-align: right;\n    }\n</style>\n<table border=\"1\" class=\"dataframe\">\n  <thead>\n    <tr style=\"text-align: right;\">\n      <th></th>\n      <th>appid</th>\n      <th>release_date</th>\n      <th>english</th>\n      <th>developer</th>\n      <th>publisher</th>\n      <th>required_age</th>\n      <th>achievements</th>\n      <th>positive_ratings</th>\n      <th>negative_ratings</th>\n      <th>average_playtime</th>\n      <th>...</th>\n      <th>multiplayer</th>\n      <th>open_world</th>\n      <th>rpg</th>\n      <th>sandbox</th>\n      <th>sci_fi</th>\n      <th>shooter</th>\n      <th>singleplayer</th>\n      <th>story_rich</th>\n      <th>strategy</th>\n      <th>third_person</th>\n    </tr>\n    <tr>\n      <th>platforms</th>\n      <th></th>\n      <th></th>\n      <th></th>\n      <th></th>\n      <th></th>\n      <th></th>\n      <th></th>\n      <th></th>\n      <th></th>\n      <th></th>\n      <th></th>\n      <th></th>\n      <th></th>\n      <th></th>\n      <th></th>\n      <th></th>\n      <th></th>\n      <th></th>\n      <th></th>\n      <th></th>\n      <th></th>\n    </tr>\n  </thead>\n  <tbody>\n    <tr>\n      <th>windows</th>\n      <td>117</td>\n      <td>117</td>\n      <td>117</td>\n      <td>117</td>\n      <td>117</td>\n      <td>117</td>\n      <td>117</td>\n      <td>117</td>\n      <td>117</td>\n      <td>117</td>\n      <td>...</td>\n      <td>117</td>\n      <td>117</td>\n      <td>117</td>\n      <td>117</td>\n      <td>117</td>\n      <td>117</td>\n      <td>117</td>\n      <td>117</td>\n      <td>117</td>\n      <td>117</td>\n    </tr>\n    <tr>\n      <th>windows;linux</th>\n      <td>2</td>\n      <td>2</td>\n      <td>2</td>\n      <td>2</td>\n      <td>2</td>\n      <td>2</td>\n      <td>2</td>\n      <td>2</td>\n      <td>2</td>\n      <td>2</td>\n      <td>...</td>\n      <td>2</td>\n      <td>2</td>\n      <td>2</td>\n      <td>2</td>\n      <td>2</td>\n      <td>2</td>\n      <td>2</td>\n      <td>2</td>\n      <td>2</td>\n      <td>2</td>\n    </tr>\n    <tr>\n      <th>windows;mac</th>\n      <td>30</td>\n      <td>30</td>\n      <td>30</td>\n      <td>30</td>\n      <td>30</td>\n      <td>30</td>\n      <td>30</td>\n      <td>30</td>\n      <td>30</td>\n      <td>30</td>\n      <td>...</td>\n      <td>30</td>\n      <td>30</td>\n      <td>30</td>\n      <td>30</td>\n      <td>30</td>\n      <td>30</td>\n      <td>30</td>\n      <td>30</td>\n      <td>30</td>\n      <td>30</td>\n    </tr>\n    <tr>\n      <th>windows;mac;linux</th>\n      <td>91</td>\n      <td>91</td>\n      <td>91</td>\n      <td>91</td>\n      <td>91</td>\n      <td>91</td>\n      <td>91</td>\n      <td>91</td>\n      <td>91</td>\n      <td>91</td>\n      <td>...</td>\n      <td>91</td>\n      <td>91</td>\n      <td>91</td>\n      <td>91</td>\n      <td>91</td>\n      <td>91</td>\n      <td>91</td>\n      <td>91</td>\n      <td>91</td>\n      <td>91</td>\n    </tr>\n  </tbody>\n</table>\n<p>4 rows × 54 columns</p>\n</div>",
      "text/plain": "                   appid  release_date  english  developer  publisher  \\\nplatforms                                                               \nwindows              117           117      117        117        117   \nwindows;linux          2             2        2          2          2   \nwindows;mac           30            30       30         30         30   \nwindows;mac;linux     91            91       91         91         91   \n\n                   required_age  achievements  positive_ratings  \\\nplatforms                                                         \nwindows                     117           117               117   \nwindows;linux                 2             2                 2   \nwindows;mac                  30            30                30   \nwindows;mac;linux            91            91                91   \n\n                   negative_ratings  average_playtime  ...  multiplayer  \\\nplatforms                                              ...                \nwindows                         117               117  ...          117   \nwindows;linux                     2                 2  ...            2   \nwindows;mac                      30                30  ...           30   \nwindows;mac;linux                91                91  ...           91   \n\n                   open_world  rpg  sandbox  sci_fi  shooter  singleplayer  \\\nplatforms                                                                    \nwindows                   117  117      117     117      117           117   \nwindows;linux               2    2        2       2        2             2   \nwindows;mac                30   30       30      30       30            30   \nwindows;mac;linux          91   91       91      91       91            91   \n\n                   story_rich  strategy  third_person  \nplatforms                                              \nwindows                   117       117           117  \nwindows;linux               2         2             2  \nwindows;mac                30        30            30  \nwindows;mac;linux          91        91            91  \n\n[4 rows x 54 columns]"
     },
     "execution_count": 240,
     "metadata": {},
     "output_type": "execute_result"
    }
   ],
   "source": [
    "#check unique values for platforms column\n",
    "df_new.groupby(\"platforms\").count()"
   ]
  },
  {
   "cell_type": "code",
   "execution_count": 241,
   "metadata": {},
   "outputs": [
    {
     "data": {
      "text/plain": "appid                 int64\nrelease_date         object\nenglish               int64\ndeveloper            object\npublisher            object\nplatforms            object\nrequired_age          int64\nachievements          int64\npositive_ratings      int64\nnegative_ratings      int64\naverage_playtime      int64\nmedian_playtime       int64\nowners               object\nprice               float64\ngenre_concat         object\nUnnamed: 0.1          int64\nYear_x                int64\nPublisher            object\nGenre                object\nPlatform             object\nMetascore             int64\nAvg_Userscore       float64\nNo_Players           object\nRank                  int64\nMonth                 int64\nYear_y                int64\nHours_watched         int64\nHours_Streamed       object\nPeak_viewers          int64\nPeak_channels         int64\nStreamers             int64\nAvg_viewers           int64\nAvg_channels          int64\nAvg_viewer_ratio    float64\naction                int64\nadventure             int64\natmospheric           int64\nco_op                 int64\ndifficult             int64\nexploration           int64\nfps                   int64\nfantasy               int64\nfirst_person          int64\ngreat_soundtrack      int64\nindie                 int64\nmultiplayer           int64\nopen_world            int64\nrpg                   int64\nsandbox               int64\nsci_fi                int64\nshooter               int64\nsingleplayer          int64\nstory_rich            int64\nstrategy              int64\nthird_person          int64\ndtype: object"
     },
     "execution_count": 241,
     "metadata": {},
     "output_type": "execute_result"
    }
   ],
   "source": [
    "df_new.dtypes"
   ]
  },
  {
   "cell_type": "code",
   "execution_count": 242,
   "metadata": {},
   "outputs": [
    {
     "data": {
      "text/html": "<div>\n<style scoped>\n    .dataframe tbody tr th:only-of-type {\n        vertical-align: middle;\n    }\n\n    .dataframe tbody tr th {\n        vertical-align: top;\n    }\n\n    .dataframe thead th {\n        text-align: right;\n    }\n</style>\n<table border=\"1\" class=\"dataframe\">\n  <thead>\n    <tr style=\"text-align: right;\">\n      <th></th>\n      <th>appid</th>\n      <th>release_date</th>\n      <th>english</th>\n      <th>developer</th>\n      <th>publisher</th>\n      <th>platforms</th>\n      <th>required_age</th>\n      <th>achievements</th>\n      <th>positive_ratings</th>\n      <th>negative_ratings</th>\n      <th>...</th>\n      <th>multiplayer</th>\n      <th>open_world</th>\n      <th>rpg</th>\n      <th>sandbox</th>\n      <th>sci_fi</th>\n      <th>shooter</th>\n      <th>singleplayer</th>\n      <th>story_rich</th>\n      <th>strategy</th>\n      <th>third_person</th>\n    </tr>\n    <tr>\n      <th>owners</th>\n      <th></th>\n      <th></th>\n      <th></th>\n      <th></th>\n      <th></th>\n      <th></th>\n      <th></th>\n      <th></th>\n      <th></th>\n      <th></th>\n      <th></th>\n      <th></th>\n      <th></th>\n      <th></th>\n      <th></th>\n      <th></th>\n      <th></th>\n      <th></th>\n      <th></th>\n      <th></th>\n      <th></th>\n    </tr>\n  </thead>\n  <tbody>\n    <tr>\n      <th>100000-200000</th>\n      <td>13</td>\n      <td>13</td>\n      <td>13</td>\n      <td>13</td>\n      <td>13</td>\n      <td>13</td>\n      <td>13</td>\n      <td>13</td>\n      <td>13</td>\n      <td>13</td>\n      <td>...</td>\n      <td>13</td>\n      <td>13</td>\n      <td>13</td>\n      <td>13</td>\n      <td>13</td>\n      <td>13</td>\n      <td>13</td>\n      <td>13</td>\n      <td>13</td>\n      <td>13</td>\n    </tr>\n    <tr>\n      <th>1000000-2000000</th>\n      <td>59</td>\n      <td>59</td>\n      <td>59</td>\n      <td>59</td>\n      <td>59</td>\n      <td>59</td>\n      <td>59</td>\n      <td>59</td>\n      <td>59</td>\n      <td>59</td>\n      <td>...</td>\n      <td>59</td>\n      <td>59</td>\n      <td>59</td>\n      <td>59</td>\n      <td>59</td>\n      <td>59</td>\n      <td>59</td>\n      <td>59</td>\n      <td>59</td>\n      <td>59</td>\n    </tr>\n    <tr>\n      <th>10000000-20000000</th>\n      <td>8</td>\n      <td>8</td>\n      <td>8</td>\n      <td>8</td>\n      <td>8</td>\n      <td>8</td>\n      <td>8</td>\n      <td>8</td>\n      <td>8</td>\n      <td>8</td>\n      <td>...</td>\n      <td>8</td>\n      <td>8</td>\n      <td>8</td>\n      <td>8</td>\n      <td>8</td>\n      <td>8</td>\n      <td>8</td>\n      <td>8</td>\n      <td>8</td>\n      <td>8</td>\n    </tr>\n    <tr>\n      <th>100000000-200000000</th>\n      <td>1</td>\n      <td>1</td>\n      <td>1</td>\n      <td>1</td>\n      <td>1</td>\n      <td>1</td>\n      <td>1</td>\n      <td>1</td>\n      <td>1</td>\n      <td>1</td>\n      <td>...</td>\n      <td>1</td>\n      <td>1</td>\n      <td>1</td>\n      <td>1</td>\n      <td>1</td>\n      <td>1</td>\n      <td>1</td>\n      <td>1</td>\n      <td>1</td>\n      <td>1</td>\n    </tr>\n    <tr>\n      <th>200000-500000</th>\n      <td>49</td>\n      <td>49</td>\n      <td>49</td>\n      <td>49</td>\n      <td>49</td>\n      <td>49</td>\n      <td>49</td>\n      <td>49</td>\n      <td>49</td>\n      <td>49</td>\n      <td>...</td>\n      <td>49</td>\n      <td>49</td>\n      <td>49</td>\n      <td>49</td>\n      <td>49</td>\n      <td>49</td>\n      <td>49</td>\n      <td>49</td>\n      <td>49</td>\n      <td>49</td>\n    </tr>\n    <tr>\n      <th>2000000-5000000</th>\n      <td>51</td>\n      <td>51</td>\n      <td>51</td>\n      <td>51</td>\n      <td>51</td>\n      <td>51</td>\n      <td>51</td>\n      <td>51</td>\n      <td>51</td>\n      <td>51</td>\n      <td>...</td>\n      <td>51</td>\n      <td>51</td>\n      <td>51</td>\n      <td>51</td>\n      <td>51</td>\n      <td>51</td>\n      <td>51</td>\n      <td>51</td>\n      <td>51</td>\n      <td>51</td>\n    </tr>\n    <tr>\n      <th>20000000-50000000</th>\n      <td>1</td>\n      <td>1</td>\n      <td>1</td>\n      <td>1</td>\n      <td>1</td>\n      <td>1</td>\n      <td>1</td>\n      <td>1</td>\n      <td>1</td>\n      <td>1</td>\n      <td>...</td>\n      <td>1</td>\n      <td>1</td>\n      <td>1</td>\n      <td>1</td>\n      <td>1</td>\n      <td>1</td>\n      <td>1</td>\n      <td>1</td>\n      <td>1</td>\n      <td>1</td>\n    </tr>\n    <tr>\n      <th>50000-100000</th>\n      <td>4</td>\n      <td>4</td>\n      <td>4</td>\n      <td>4</td>\n      <td>4</td>\n      <td>4</td>\n      <td>4</td>\n      <td>4</td>\n      <td>4</td>\n      <td>4</td>\n      <td>...</td>\n      <td>4</td>\n      <td>4</td>\n      <td>4</td>\n      <td>4</td>\n      <td>4</td>\n      <td>4</td>\n      <td>4</td>\n      <td>4</td>\n      <td>4</td>\n      <td>4</td>\n    </tr>\n    <tr>\n      <th>500000-1000000</th>\n      <td>37</td>\n      <td>37</td>\n      <td>37</td>\n      <td>37</td>\n      <td>37</td>\n      <td>37</td>\n      <td>37</td>\n      <td>37</td>\n      <td>37</td>\n      <td>37</td>\n      <td>...</td>\n      <td>37</td>\n      <td>37</td>\n      <td>37</td>\n      <td>37</td>\n      <td>37</td>\n      <td>37</td>\n      <td>37</td>\n      <td>37</td>\n      <td>37</td>\n      <td>37</td>\n    </tr>\n    <tr>\n      <th>5000000-10000000</th>\n      <td>15</td>\n      <td>15</td>\n      <td>15</td>\n      <td>15</td>\n      <td>15</td>\n      <td>15</td>\n      <td>15</td>\n      <td>15</td>\n      <td>15</td>\n      <td>15</td>\n      <td>...</td>\n      <td>15</td>\n      <td>15</td>\n      <td>15</td>\n      <td>15</td>\n      <td>15</td>\n      <td>15</td>\n      <td>15</td>\n      <td>15</td>\n      <td>15</td>\n      <td>15</td>\n    </tr>\n    <tr>\n      <th>50000000-100000000</th>\n      <td>2</td>\n      <td>2</td>\n      <td>2</td>\n      <td>2</td>\n      <td>2</td>\n      <td>2</td>\n      <td>2</td>\n      <td>2</td>\n      <td>2</td>\n      <td>2</td>\n      <td>...</td>\n      <td>2</td>\n      <td>2</td>\n      <td>2</td>\n      <td>2</td>\n      <td>2</td>\n      <td>2</td>\n      <td>2</td>\n      <td>2</td>\n      <td>2</td>\n      <td>2</td>\n    </tr>\n  </tbody>\n</table>\n<p>11 rows × 54 columns</p>\n</div>",
      "text/plain": "                     appid  release_date  english  developer  publisher  \\\nowners                                                                    \n100000-200000           13            13       13         13         13   \n1000000-2000000         59            59       59         59         59   \n10000000-20000000        8             8        8          8          8   \n100000000-200000000      1             1        1          1          1   \n200000-500000           49            49       49         49         49   \n2000000-5000000         51            51       51         51         51   \n20000000-50000000        1             1        1          1          1   \n50000-100000             4             4        4          4          4   \n500000-1000000          37            37       37         37         37   \n5000000-10000000        15            15       15         15         15   \n50000000-100000000       2             2        2          2          2   \n\n                     platforms  required_age  achievements  positive_ratings  \\\nowners                                                                         \n100000-200000               13            13            13                13   \n1000000-2000000             59            59            59                59   \n10000000-20000000            8             8             8                 8   \n100000000-200000000          1             1             1                 1   \n200000-500000               49            49            49                49   \n2000000-5000000             51            51            51                51   \n20000000-50000000            1             1             1                 1   \n50000-100000                 4             4             4                 4   \n500000-1000000              37            37            37                37   \n5000000-10000000            15            15            15                15   \n50000000-100000000           2             2             2                 2   \n\n                     negative_ratings  ...  multiplayer  open_world  rpg  \\\nowners                                 ...                                 \n100000-200000                      13  ...           13          13   13   \n1000000-2000000                    59  ...           59          59   59   \n10000000-20000000                   8  ...            8           8    8   \n100000000-200000000                 1  ...            1           1    1   \n200000-500000                      49  ...           49          49   49   \n2000000-5000000                    51  ...           51          51   51   \n20000000-50000000                   1  ...            1           1    1   \n50000-100000                        4  ...            4           4    4   \n500000-1000000                     37  ...           37          37   37   \n5000000-10000000                   15  ...           15          15   15   \n50000000-100000000                  2  ...            2           2    2   \n\n                     sandbox  sci_fi  shooter  singleplayer  story_rich  \\\nowners                                                                    \n100000-200000             13      13       13            13          13   \n1000000-2000000           59      59       59            59          59   \n10000000-20000000          8       8        8             8           8   \n100000000-200000000        1       1        1             1           1   \n200000-500000             49      49       49            49          49   \n2000000-5000000           51      51       51            51          51   \n20000000-50000000          1       1        1             1           1   \n50000-100000               4       4        4             4           4   \n500000-1000000            37      37       37            37          37   \n5000000-10000000          15      15       15            15          15   \n50000000-100000000         2       2        2             2           2   \n\n                     strategy  third_person  \nowners                                       \n100000-200000              13            13  \n1000000-2000000            59            59  \n10000000-20000000           8             8  \n100000000-200000000         1             1  \n200000-500000              49            49  \n2000000-5000000            51            51  \n20000000-50000000           1             1  \n50000-100000                4             4  \n500000-1000000             37            37  \n5000000-10000000           15            15  \n50000000-100000000          2             2  \n\n[11 rows x 54 columns]"
     },
     "execution_count": 242,
     "metadata": {},
     "output_type": "execute_result"
    }
   ],
   "source": [
    "#check unique values for owners column\n",
    "df_new.groupby(\"owners\").count()\n",
    "#owners to keep and get dummies"
   ]
  },
  {
   "cell_type": "code",
   "execution_count": 243,
   "metadata": {},
   "outputs": [
    {
     "data": {
      "text/html": "<div>\n<style scoped>\n    .dataframe tbody tr th:only-of-type {\n        vertical-align: middle;\n    }\n\n    .dataframe tbody tr th {\n        vertical-align: top;\n    }\n\n    .dataframe thead th {\n        text-align: right;\n    }\n</style>\n<table border=\"1\" class=\"dataframe\">\n  <thead>\n    <tr style=\"text-align: right;\">\n      <th></th>\n      <th>appid</th>\n      <th>release_date</th>\n      <th>english</th>\n      <th>developer</th>\n      <th>publisher</th>\n      <th>platforms</th>\n      <th>required_age</th>\n      <th>achievements</th>\n      <th>positive_ratings</th>\n      <th>negative_ratings</th>\n      <th>...</th>\n      <th>multiplayer</th>\n      <th>open_world</th>\n      <th>rpg</th>\n      <th>sandbox</th>\n      <th>sci_fi</th>\n      <th>shooter</th>\n      <th>singleplayer</th>\n      <th>story_rich</th>\n      <th>strategy</th>\n      <th>third_person</th>\n    </tr>\n    <tr>\n      <th>Hours_Streamed</th>\n      <th></th>\n      <th></th>\n      <th></th>\n      <th></th>\n      <th></th>\n      <th></th>\n      <th></th>\n      <th></th>\n      <th></th>\n      <th></th>\n      <th></th>\n      <th></th>\n      <th></th>\n      <th></th>\n      <th></th>\n      <th></th>\n      <th></th>\n      <th></th>\n      <th></th>\n      <th></th>\n      <th></th>\n    </tr>\n  </thead>\n  <tbody>\n    <tr>\n      <th>10072 hours</th>\n      <td>1</td>\n      <td>1</td>\n      <td>1</td>\n      <td>1</td>\n      <td>1</td>\n      <td>1</td>\n      <td>1</td>\n      <td>1</td>\n      <td>1</td>\n      <td>1</td>\n      <td>...</td>\n      <td>1</td>\n      <td>1</td>\n      <td>1</td>\n      <td>1</td>\n      <td>1</td>\n      <td>1</td>\n      <td>1</td>\n      <td>1</td>\n      <td>1</td>\n      <td>1</td>\n    </tr>\n    <tr>\n      <th>101051 hours</th>\n      <td>1</td>\n      <td>1</td>\n      <td>1</td>\n      <td>1</td>\n      <td>1</td>\n      <td>1</td>\n      <td>1</td>\n      <td>1</td>\n      <td>1</td>\n      <td>1</td>\n      <td>...</td>\n      <td>1</td>\n      <td>1</td>\n      <td>1</td>\n      <td>1</td>\n      <td>1</td>\n      <td>1</td>\n      <td>1</td>\n      <td>1</td>\n      <td>1</td>\n      <td>1</td>\n    </tr>\n    <tr>\n      <th>10371 hours</th>\n      <td>1</td>\n      <td>1</td>\n      <td>1</td>\n      <td>1</td>\n      <td>1</td>\n      <td>1</td>\n      <td>1</td>\n      <td>1</td>\n      <td>1</td>\n      <td>1</td>\n      <td>...</td>\n      <td>1</td>\n      <td>1</td>\n      <td>1</td>\n      <td>1</td>\n      <td>1</td>\n      <td>1</td>\n      <td>1</td>\n      <td>1</td>\n      <td>1</td>\n      <td>1</td>\n    </tr>\n    <tr>\n      <th>10551 hours</th>\n      <td>1</td>\n      <td>1</td>\n      <td>1</td>\n      <td>1</td>\n      <td>1</td>\n      <td>1</td>\n      <td>1</td>\n      <td>1</td>\n      <td>1</td>\n      <td>1</td>\n      <td>...</td>\n      <td>1</td>\n      <td>1</td>\n      <td>1</td>\n      <td>1</td>\n      <td>1</td>\n      <td>1</td>\n      <td>1</td>\n      <td>1</td>\n      <td>1</td>\n      <td>1</td>\n    </tr>\n    <tr>\n      <th>10618 hours</th>\n      <td>1</td>\n      <td>1</td>\n      <td>1</td>\n      <td>1</td>\n      <td>1</td>\n      <td>1</td>\n      <td>1</td>\n      <td>1</td>\n      <td>1</td>\n      <td>1</td>\n      <td>...</td>\n      <td>1</td>\n      <td>1</td>\n      <td>1</td>\n      <td>1</td>\n      <td>1</td>\n      <td>1</td>\n      <td>1</td>\n      <td>1</td>\n      <td>1</td>\n      <td>1</td>\n    </tr>\n    <tr>\n      <th>...</th>\n      <td>...</td>\n      <td>...</td>\n      <td>...</td>\n      <td>...</td>\n      <td>...</td>\n      <td>...</td>\n      <td>...</td>\n      <td>...</td>\n      <td>...</td>\n      <td>...</td>\n      <td>...</td>\n      <td>...</td>\n      <td>...</td>\n      <td>...</td>\n      <td>...</td>\n      <td>...</td>\n      <td>...</td>\n      <td>...</td>\n      <td>...</td>\n      <td>...</td>\n      <td>...</td>\n    </tr>\n    <tr>\n      <th>9694 hours</th>\n      <td>1</td>\n      <td>1</td>\n      <td>1</td>\n      <td>1</td>\n      <td>1</td>\n      <td>1</td>\n      <td>1</td>\n      <td>1</td>\n      <td>1</td>\n      <td>1</td>\n      <td>...</td>\n      <td>1</td>\n      <td>1</td>\n      <td>1</td>\n      <td>1</td>\n      <td>1</td>\n      <td>1</td>\n      <td>1</td>\n      <td>1</td>\n      <td>1</td>\n      <td>1</td>\n    </tr>\n    <tr>\n      <th>9751 hours</th>\n      <td>1</td>\n      <td>1</td>\n      <td>1</td>\n      <td>1</td>\n      <td>1</td>\n      <td>1</td>\n      <td>1</td>\n      <td>1</td>\n      <td>1</td>\n      <td>1</td>\n      <td>...</td>\n      <td>1</td>\n      <td>1</td>\n      <td>1</td>\n      <td>1</td>\n      <td>1</td>\n      <td>1</td>\n      <td>1</td>\n      <td>1</td>\n      <td>1</td>\n      <td>1</td>\n    </tr>\n    <tr>\n      <th>9840 hours</th>\n      <td>1</td>\n      <td>1</td>\n      <td>1</td>\n      <td>1</td>\n      <td>1</td>\n      <td>1</td>\n      <td>1</td>\n      <td>1</td>\n      <td>1</td>\n      <td>1</td>\n      <td>...</td>\n      <td>1</td>\n      <td>1</td>\n      <td>1</td>\n      <td>1</td>\n      <td>1</td>\n      <td>1</td>\n      <td>1</td>\n      <td>1</td>\n      <td>1</td>\n      <td>1</td>\n    </tr>\n    <tr>\n      <th>985 hours</th>\n      <td>1</td>\n      <td>1</td>\n      <td>1</td>\n      <td>1</td>\n      <td>1</td>\n      <td>1</td>\n      <td>1</td>\n      <td>1</td>\n      <td>1</td>\n      <td>1</td>\n      <td>...</td>\n      <td>1</td>\n      <td>1</td>\n      <td>1</td>\n      <td>1</td>\n      <td>1</td>\n      <td>1</td>\n      <td>1</td>\n      <td>1</td>\n      <td>1</td>\n      <td>1</td>\n    </tr>\n    <tr>\n      <th>99180 hours</th>\n      <td>1</td>\n      <td>1</td>\n      <td>1</td>\n      <td>1</td>\n      <td>1</td>\n      <td>1</td>\n      <td>1</td>\n      <td>1</td>\n      <td>1</td>\n      <td>1</td>\n      <td>...</td>\n      <td>1</td>\n      <td>1</td>\n      <td>1</td>\n      <td>1</td>\n      <td>1</td>\n      <td>1</td>\n      <td>1</td>\n      <td>1</td>\n      <td>1</td>\n      <td>1</td>\n    </tr>\n  </tbody>\n</table>\n<p>236 rows × 54 columns</p>\n</div>",
      "text/plain": "                appid  release_date  english  developer  publisher  platforms  \\\nHours_Streamed                                                                  \n10072 hours         1             1        1          1          1          1   \n101051 hours        1             1        1          1          1          1   \n10371 hours         1             1        1          1          1          1   \n10551 hours         1             1        1          1          1          1   \n10618 hours         1             1        1          1          1          1   \n...               ...           ...      ...        ...        ...        ...   \n9694 hours          1             1        1          1          1          1   \n9751 hours          1             1        1          1          1          1   \n9840 hours          1             1        1          1          1          1   \n985 hours           1             1        1          1          1          1   \n99180 hours         1             1        1          1          1          1   \n\n                required_age  achievements  positive_ratings  \\\nHours_Streamed                                                 \n10072 hours                1             1                 1   \n101051 hours               1             1                 1   \n10371 hours                1             1                 1   \n10551 hours                1             1                 1   \n10618 hours                1             1                 1   \n...                      ...           ...               ...   \n9694 hours                 1             1                 1   \n9751 hours                 1             1                 1   \n9840 hours                 1             1                 1   \n985 hours                  1             1                 1   \n99180 hours                1             1                 1   \n\n                negative_ratings  ...  multiplayer  open_world  rpg  sandbox  \\\nHours_Streamed                    ...                                          \n10072 hours                    1  ...            1           1    1        1   \n101051 hours                   1  ...            1           1    1        1   \n10371 hours                    1  ...            1           1    1        1   \n10551 hours                    1  ...            1           1    1        1   \n10618 hours                    1  ...            1           1    1        1   \n...                          ...  ...          ...         ...  ...      ...   \n9694 hours                     1  ...            1           1    1        1   \n9751 hours                     1  ...            1           1    1        1   \n9840 hours                     1  ...            1           1    1        1   \n985 hours                      1  ...            1           1    1        1   \n99180 hours                    1  ...            1           1    1        1   \n\n                sci_fi  shooter  singleplayer  story_rich  strategy  \\\nHours_Streamed                                                        \n10072 hours          1        1             1           1         1   \n101051 hours         1        1             1           1         1   \n10371 hours          1        1             1           1         1   \n10551 hours          1        1             1           1         1   \n10618 hours          1        1             1           1         1   \n...                ...      ...           ...         ...       ...   \n9694 hours           1        1             1           1         1   \n9751 hours           1        1             1           1         1   \n9840 hours           1        1             1           1         1   \n985 hours            1        1             1           1         1   \n99180 hours          1        1             1           1         1   \n\n                third_person  \nHours_Streamed                \n10072 hours                1  \n101051 hours               1  \n10371 hours                1  \n10551 hours                1  \n10618 hours                1  \n...                      ...  \n9694 hours                 1  \n9751 hours                 1  \n9840 hours                 1  \n985 hours                  1  \n99180 hours                1  \n\n[236 rows x 54 columns]"
     },
     "execution_count": 243,
     "metadata": {},
     "output_type": "execute_result"
    }
   ],
   "source": [
    "#check unique values for Hous_Streamed column\n",
    "df_new.groupby(\"Hours_Streamed\").count()\n",
    "#owners to keep and get dummies"
   ]
  },
  {
   "cell_type": "code",
   "execution_count": 244,
   "metadata": {},
   "outputs": [],
   "source": [
    "import re"
   ]
  },
  {
   "cell_type": "code",
   "execution_count": 245,
   "metadata": {},
   "outputs": [
    {
     "data": {
      "text/plain": "Game\nhalflife 2                                    2357\nteam fortress 2                              25296\nleft 4 dead                                   1143\nleft 4 dead 2                                15441\ndota 2                                      433397\n                                             ...  \nchuchel                                       1158\nborderlands                                  80946\nthe messenger                                 9522\nthe awesome adventures of captain spirit     11897\nmark of the ninja                              341\nName: S_Hours, Length: 240, dtype: int64"
     },
     "execution_count": 245,
     "metadata": {},
     "output_type": "execute_result"
    }
   ],
   "source": [
    "#remove hours in Hours_Streamed column and create a new column called S_Hours\n",
    "df_new[\"S_Hours\"] = df_new[\"Hours_Streamed\"].str.replace(r'\\W*hours\\W*','').astype(int)\n",
    "df_new[\"S_Hours\"]\n"
   ]
  },
  {
   "cell_type": "code",
   "execution_count": 246,
   "metadata": {},
   "outputs": [],
   "source": [
    "#create new column called year to get only the year from released_date column\n",
    "#df_new[\"year\"] = pd.DatetimeIndex(df[\"release_date\"]).year\n",
    "#df_new[\"year\"]\n",
    "#there is column Year_x already existing"
   ]
  },
  {
   "cell_type": "code",
   "execution_count": 247,
   "metadata": {},
   "outputs": [],
   "source": [
    "#drop extra columns\n",
    "df_new.drop(columns = [\"genre_concat\",\"publisher\",\"developer\",\"Publisher\",\"Platform\",\"Genre\",\"No_Players\",\"Hours_Streamed\",\"release_date\",\"appid\"], axis=1, inplace=True)"
   ]
  },
  {
   "cell_type": "code",
   "execution_count": 248,
   "metadata": {},
   "outputs": [
    {
     "data": {
      "text/html": "<div>\n<style scoped>\n    .dataframe tbody tr th:only-of-type {\n        vertical-align: middle;\n    }\n\n    .dataframe tbody tr th {\n        vertical-align: top;\n    }\n\n    .dataframe thead th {\n        text-align: right;\n    }\n</style>\n<table border=\"1\" class=\"dataframe\">\n  <thead>\n    <tr style=\"text-align: right;\">\n      <th></th>\n      <th>english</th>\n      <th>platforms</th>\n      <th>required_age</th>\n      <th>achievements</th>\n      <th>positive_ratings</th>\n      <th>negative_ratings</th>\n      <th>average_playtime</th>\n      <th>median_playtime</th>\n      <th>owners</th>\n      <th>price</th>\n      <th>...</th>\n      <th>open_world</th>\n      <th>rpg</th>\n      <th>sandbox</th>\n      <th>sci_fi</th>\n      <th>shooter</th>\n      <th>singleplayer</th>\n      <th>story_rich</th>\n      <th>strategy</th>\n      <th>third_person</th>\n      <th>S_Hours</th>\n    </tr>\n    <tr>\n      <th>Game</th>\n      <th></th>\n      <th></th>\n      <th></th>\n      <th></th>\n      <th></th>\n      <th></th>\n      <th></th>\n      <th></th>\n      <th></th>\n      <th></th>\n      <th></th>\n      <th></th>\n      <th></th>\n      <th></th>\n      <th></th>\n      <th></th>\n      <th></th>\n      <th></th>\n      <th></th>\n      <th></th>\n      <th></th>\n    </tr>\n  </thead>\n  <tbody>\n    <tr>\n      <th>halflife 2</th>\n      <td>1</td>\n      <td>windows;mac;linux</td>\n      <td>0</td>\n      <td>33</td>\n      <td>67902</td>\n      <td>2419</td>\n      <td>691</td>\n      <td>402</td>\n      <td>10000000-20000000</td>\n      <td>7.19</td>\n      <td>...</td>\n      <td>0</td>\n      <td>0</td>\n      <td>0</td>\n      <td>1589</td>\n      <td>1049</td>\n      <td>1315</td>\n      <td>1116</td>\n      <td>0</td>\n      <td>0</td>\n      <td>2357</td>\n    </tr>\n    <tr>\n      <th>team fortress 2</th>\n      <td>1</td>\n      <td>windows;mac;linux</td>\n      <td>0</td>\n      <td>520</td>\n      <td>515879</td>\n      <td>34036</td>\n      <td>8495</td>\n      <td>623</td>\n      <td>20000000-50000000</td>\n      <td>0.00</td>\n      <td>...</td>\n      <td>0</td>\n      <td>0</td>\n      <td>0</td>\n      <td>0</td>\n      <td>7857</td>\n      <td>0</td>\n      <td>0</td>\n      <td>0</td>\n      <td>0</td>\n      <td>25296</td>\n    </tr>\n    <tr>\n      <th>left 4 dead</th>\n      <td>1</td>\n      <td>windows;mac</td>\n      <td>0</td>\n      <td>73</td>\n      <td>17951</td>\n      <td>948</td>\n      <td>897</td>\n      <td>278</td>\n      <td>5000000-10000000</td>\n      <td>7.19</td>\n      <td>...</td>\n      <td>0</td>\n      <td>0</td>\n      <td>0</td>\n      <td>0</td>\n      <td>430</td>\n      <td>246</td>\n      <td>0</td>\n      <td>0</td>\n      <td>0</td>\n      <td>1143</td>\n    </tr>\n    <tr>\n      <th>left 4 dead 2</th>\n      <td>1</td>\n      <td>windows;mac;linux</td>\n      <td>0</td>\n      <td>70</td>\n      <td>251789</td>\n      <td>8418</td>\n      <td>1615</td>\n      <td>566</td>\n      <td>10000000-20000000</td>\n      <td>7.19</td>\n      <td>...</td>\n      <td>0</td>\n      <td>0</td>\n      <td>0</td>\n      <td>0</td>\n      <td>1944</td>\n      <td>947</td>\n      <td>0</td>\n      <td>0</td>\n      <td>0</td>\n      <td>15441</td>\n    </tr>\n    <tr>\n      <th>dota 2</th>\n      <td>1</td>\n      <td>windows;mac;linux</td>\n      <td>0</td>\n      <td>0</td>\n      <td>863507</td>\n      <td>142079</td>\n      <td>23944</td>\n      <td>801</td>\n      <td>100000000-200000000</td>\n      <td>0.00</td>\n      <td>...</td>\n      <td>0</td>\n      <td>2447</td>\n      <td>0</td>\n      <td>0</td>\n      <td>0</td>\n      <td>0</td>\n      <td>0</td>\n      <td>8242</td>\n      <td>0</td>\n      <td>433397</td>\n    </tr>\n    <tr>\n      <th>...</th>\n      <td>...</td>\n      <td>...</td>\n      <td>...</td>\n      <td>...</td>\n      <td>...</td>\n      <td>...</td>\n      <td>...</td>\n      <td>...</td>\n      <td>...</td>\n      <td>...</td>\n      <td>...</td>\n      <td>...</td>\n      <td>...</td>\n      <td>...</td>\n      <td>...</td>\n      <td>...</td>\n      <td>...</td>\n      <td>...</td>\n      <td>...</td>\n      <td>...</td>\n      <td>...</td>\n    </tr>\n    <tr>\n      <th>chuchel</th>\n      <td>1</td>\n      <td>windows;mac</td>\n      <td>0</td>\n      <td>7</td>\n      <td>976</td>\n      <td>335</td>\n      <td>245</td>\n      <td>245</td>\n      <td>100000-200000</td>\n      <td>7.99</td>\n      <td>...</td>\n      <td>0</td>\n      <td>0</td>\n      <td>0</td>\n      <td>0</td>\n      <td>0</td>\n      <td>36</td>\n      <td>19</td>\n      <td>0</td>\n      <td>0</td>\n      <td>1158</td>\n    </tr>\n    <tr>\n      <th>borderlands</th>\n      <td>1</td>\n      <td>windows</td>\n      <td>18</td>\n      <td>80</td>\n      <td>1648</td>\n      <td>920</td>\n      <td>408</td>\n      <td>278</td>\n      <td>100000-200000</td>\n      <td>24.99</td>\n      <td>...</td>\n      <td>0</td>\n      <td>37</td>\n      <td>0</td>\n      <td>0</td>\n      <td>0</td>\n      <td>0</td>\n      <td>0</td>\n      <td>0</td>\n      <td>0</td>\n      <td>80946</td>\n    </tr>\n    <tr>\n      <th>the messenger</th>\n      <td>1</td>\n      <td>windows</td>\n      <td>0</td>\n      <td>40</td>\n      <td>1846</td>\n      <td>90</td>\n      <td>0</td>\n      <td>0</td>\n      <td>50000-100000</td>\n      <td>15.49</td>\n      <td>...</td>\n      <td>0</td>\n      <td>0</td>\n      <td>0</td>\n      <td>0</td>\n      <td>0</td>\n      <td>24</td>\n      <td>0</td>\n      <td>0</td>\n      <td>0</td>\n      <td>9522</td>\n    </tr>\n    <tr>\n      <th>the awesome adventures of captain spirit</th>\n      <td>1</td>\n      <td>windows</td>\n      <td>0</td>\n      <td>0</td>\n      <td>8077</td>\n      <td>667</td>\n      <td>68</td>\n      <td>65</td>\n      <td>500000-1000000</td>\n      <td>0.00</td>\n      <td>...</td>\n      <td>0</td>\n      <td>0</td>\n      <td>0</td>\n      <td>0</td>\n      <td>0</td>\n      <td>54</td>\n      <td>99</td>\n      <td>0</td>\n      <td>0</td>\n      <td>11897</td>\n    </tr>\n    <tr>\n      <th>mark of the ninja</th>\n      <td>1</td>\n      <td>windows;mac;linux</td>\n      <td>16</td>\n      <td>38</td>\n      <td>802</td>\n      <td>47</td>\n      <td>162</td>\n      <td>289</td>\n      <td>50000-100000</td>\n      <td>15.49</td>\n      <td>...</td>\n      <td>0</td>\n      <td>0</td>\n      <td>0</td>\n      <td>0</td>\n      <td>0</td>\n      <td>0</td>\n      <td>0</td>\n      <td>0</td>\n      <td>0</td>\n      <td>341</td>\n    </tr>\n  </tbody>\n</table>\n<p>240 rows × 46 columns</p>\n</div>",
      "text/plain": "                                          english          platforms  \\\nGame                                                                   \nhalflife 2                                      1  windows;mac;linux   \nteam fortress 2                                 1  windows;mac;linux   \nleft 4 dead                                     1        windows;mac   \nleft 4 dead 2                                   1  windows;mac;linux   \ndota 2                                          1  windows;mac;linux   \n...                                           ...                ...   \nchuchel                                         1        windows;mac   \nborderlands                                     1            windows   \nthe messenger                                   1            windows   \nthe awesome adventures of captain spirit        1            windows   \nmark of the ninja                               1  windows;mac;linux   \n\n                                          required_age  achievements  \\\nGame                                                                   \nhalflife 2                                           0            33   \nteam fortress 2                                      0           520   \nleft 4 dead                                          0            73   \nleft 4 dead 2                                        0            70   \ndota 2                                               0             0   \n...                                                ...           ...   \nchuchel                                              0             7   \nborderlands                                         18            80   \nthe messenger                                        0            40   \nthe awesome adventures of captain spirit             0             0   \nmark of the ninja                                   16            38   \n\n                                          positive_ratings  negative_ratings  \\\nGame                                                                           \nhalflife 2                                           67902              2419   \nteam fortress 2                                     515879             34036   \nleft 4 dead                                          17951               948   \nleft 4 dead 2                                       251789              8418   \ndota 2                                              863507            142079   \n...                                                    ...               ...   \nchuchel                                                976               335   \nborderlands                                           1648               920   \nthe messenger                                         1846                90   \nthe awesome adventures of captain spirit              8077               667   \nmark of the ninja                                      802                47   \n\n                                          average_playtime  median_playtime  \\\nGame                                                                          \nhalflife 2                                             691              402   \nteam fortress 2                                       8495              623   \nleft 4 dead                                            897              278   \nleft 4 dead 2                                         1615              566   \ndota 2                                               23944              801   \n...                                                    ...              ...   \nchuchel                                                245              245   \nborderlands                                            408              278   \nthe messenger                                            0                0   \nthe awesome adventures of captain spirit                68               65   \nmark of the ninja                                      162              289   \n\n                                                       owners  price  ...  \\\nGame                                                                  ...   \nhalflife 2                                  10000000-20000000   7.19  ...   \nteam fortress 2                             20000000-50000000   0.00  ...   \nleft 4 dead                                  5000000-10000000   7.19  ...   \nleft 4 dead 2                               10000000-20000000   7.19  ...   \ndota 2                                    100000000-200000000   0.00  ...   \n...                                                       ...    ...  ...   \nchuchel                                         100000-200000   7.99  ...   \nborderlands                                     100000-200000  24.99  ...   \nthe messenger                                    50000-100000  15.49  ...   \nthe awesome adventures of captain spirit       500000-1000000   0.00  ...   \nmark of the ninja                                50000-100000  15.49  ...   \n\n                                          open_world   rpg  sandbox  sci_fi  \\\nGame                                                                          \nhalflife 2                                         0     0        0    1589   \nteam fortress 2                                    0     0        0       0   \nleft 4 dead                                        0     0        0       0   \nleft 4 dead 2                                      0     0        0       0   \ndota 2                                             0  2447        0       0   \n...                                              ...   ...      ...     ...   \nchuchel                                            0     0        0       0   \nborderlands                                        0    37        0       0   \nthe messenger                                      0     0        0       0   \nthe awesome adventures of captain spirit           0     0        0       0   \nmark of the ninja                                  0     0        0       0   \n\n                                          shooter  singleplayer  story_rich  \\\nGame                                                                          \nhalflife 2                                   1049          1315        1116   \nteam fortress 2                              7857             0           0   \nleft 4 dead                                   430           246           0   \nleft 4 dead 2                                1944           947           0   \ndota 2                                          0             0           0   \n...                                           ...           ...         ...   \nchuchel                                         0            36          19   \nborderlands                                     0             0           0   \nthe messenger                                   0            24           0   \nthe awesome adventures of captain spirit        0            54          99   \nmark of the ninja                               0             0           0   \n\n                                          strategy  third_person  S_Hours  \nGame                                                                       \nhalflife 2                                       0             0     2357  \nteam fortress 2                                  0             0    25296  \nleft 4 dead                                      0             0     1143  \nleft 4 dead 2                                    0             0    15441  \ndota 2                                        8242             0   433397  \n...                                            ...           ...      ...  \nchuchel                                          0             0     1158  \nborderlands                                      0             0    80946  \nthe messenger                                    0             0     9522  \nthe awesome adventures of captain spirit         0             0    11897  \nmark of the ninja                                0             0      341  \n\n[240 rows x 46 columns]"
     },
     "execution_count": 248,
     "metadata": {},
     "output_type": "execute_result"
    }
   ],
   "source": [
    "df_new"
   ]
  },
  {
   "cell_type": "code",
   "execution_count": 249,
   "metadata": {},
   "outputs": [
    {
     "data": {
      "text/plain": "english               int64\nplatforms            object\nrequired_age          int64\nachievements          int64\npositive_ratings      int64\nnegative_ratings      int64\naverage_playtime      int64\nmedian_playtime       int64\nowners               object\nprice               float64\nUnnamed: 0.1          int64\nYear_x                int64\nMetascore             int64\nAvg_Userscore       float64\nRank                  int64\nMonth                 int64\nYear_y                int64\nHours_watched         int64\nPeak_viewers          int64\nPeak_channels         int64\nStreamers             int64\nAvg_viewers           int64\nAvg_channels          int64\nAvg_viewer_ratio    float64\naction                int64\nadventure             int64\natmospheric           int64\nco_op                 int64\ndifficult             int64\nexploration           int64\nfps                   int64\nfantasy               int64\nfirst_person          int64\ngreat_soundtrack      int64\nindie                 int64\nmultiplayer           int64\nopen_world            int64\nrpg                   int64\nsandbox               int64\nsci_fi                int64\nshooter               int64\nsingleplayer          int64\nstory_rich            int64\nstrategy              int64\nthird_person          int64\nS_Hours               int64\ndtype: object"
     },
     "execution_count": 249,
     "metadata": {},
     "output_type": "execute_result"
    }
   ],
   "source": [
    "df_new.dtypes"
   ]
  },
  {
   "cell_type": "code",
   "execution_count": 250,
   "metadata": {},
   "outputs": [
    {
     "data": {
      "text/html": "<div>\n<style scoped>\n    .dataframe tbody tr th:only-of-type {\n        vertical-align: middle;\n    }\n\n    .dataframe tbody tr th {\n        vertical-align: top;\n    }\n\n    .dataframe thead th {\n        text-align: right;\n    }\n</style>\n<table border=\"1\" class=\"dataframe\">\n  <thead>\n    <tr style=\"text-align: right;\">\n      <th></th>\n      <th>english</th>\n      <th>required_age</th>\n      <th>achievements</th>\n      <th>positive_ratings</th>\n      <th>negative_ratings</th>\n      <th>average_playtime</th>\n      <th>median_playtime</th>\n      <th>price</th>\n      <th>Unnamed: 0.1</th>\n      <th>Year_x</th>\n      <th>...</th>\n      <th>owners_2000000-5000000</th>\n      <th>owners_20000000-50000000</th>\n      <th>owners_50000-100000</th>\n      <th>owners_500000-1000000</th>\n      <th>owners_5000000-10000000</th>\n      <th>owners_50000000-100000000</th>\n      <th>platforms_windows</th>\n      <th>platforms_windows;linux</th>\n      <th>platforms_windows;mac</th>\n      <th>platforms_windows;mac;linux</th>\n    </tr>\n    <tr>\n      <th>Game</th>\n      <th></th>\n      <th></th>\n      <th></th>\n      <th></th>\n      <th></th>\n      <th></th>\n      <th></th>\n      <th></th>\n      <th></th>\n      <th></th>\n      <th></th>\n      <th></th>\n      <th></th>\n      <th></th>\n      <th></th>\n      <th></th>\n      <th></th>\n      <th></th>\n      <th></th>\n      <th></th>\n      <th></th>\n    </tr>\n  </thead>\n  <tbody>\n    <tr>\n      <th>halflife 2</th>\n      <td>1</td>\n      <td>0</td>\n      <td>33</td>\n      <td>67902</td>\n      <td>2419</td>\n      <td>691</td>\n      <td>402</td>\n      <td>7.19</td>\n      <td>20</td>\n      <td>2004</td>\n      <td>...</td>\n      <td>0</td>\n      <td>0</td>\n      <td>0</td>\n      <td>0</td>\n      <td>0</td>\n      <td>0</td>\n      <td>0</td>\n      <td>0</td>\n      <td>0</td>\n      <td>1</td>\n    </tr>\n    <tr>\n      <th>team fortress 2</th>\n      <td>1</td>\n      <td>0</td>\n      <td>520</td>\n      <td>515879</td>\n      <td>34036</td>\n      <td>8495</td>\n      <td>623</td>\n      <td>0.00</td>\n      <td>195</td>\n      <td>2007</td>\n      <td>...</td>\n      <td>0</td>\n      <td>1</td>\n      <td>0</td>\n      <td>0</td>\n      <td>0</td>\n      <td>0</td>\n      <td>0</td>\n      <td>0</td>\n      <td>0</td>\n      <td>1</td>\n    </tr>\n    <tr>\n      <th>left 4 dead</th>\n      <td>1</td>\n      <td>0</td>\n      <td>73</td>\n      <td>17951</td>\n      <td>948</td>\n      <td>897</td>\n      <td>278</td>\n      <td>7.19</td>\n      <td>532</td>\n      <td>2008</td>\n      <td>...</td>\n      <td>0</td>\n      <td>0</td>\n      <td>0</td>\n      <td>0</td>\n      <td>1</td>\n      <td>0</td>\n      <td>0</td>\n      <td>0</td>\n      <td>1</td>\n      <td>0</td>\n    </tr>\n    <tr>\n      <th>left 4 dead 2</th>\n      <td>1</td>\n      <td>0</td>\n      <td>70</td>\n      <td>251789</td>\n      <td>8418</td>\n      <td>1615</td>\n      <td>566</td>\n      <td>7.19</td>\n      <td>533</td>\n      <td>2009</td>\n      <td>...</td>\n      <td>0</td>\n      <td>0</td>\n      <td>0</td>\n      <td>0</td>\n      <td>0</td>\n      <td>0</td>\n      <td>0</td>\n      <td>0</td>\n      <td>0</td>\n      <td>1</td>\n    </tr>\n    <tr>\n      <th>dota 2</th>\n      <td>1</td>\n      <td>0</td>\n      <td>0</td>\n      <td>863507</td>\n      <td>142079</td>\n      <td>23944</td>\n      <td>801</td>\n      <td>0.00</td>\n      <td>454</td>\n      <td>2013</td>\n      <td>...</td>\n      <td>0</td>\n      <td>0</td>\n      <td>0</td>\n      <td>0</td>\n      <td>0</td>\n      <td>0</td>\n      <td>0</td>\n      <td>0</td>\n      <td>0</td>\n      <td>1</td>\n    </tr>\n    <tr>\n      <th>...</th>\n      <td>...</td>\n      <td>...</td>\n      <td>...</td>\n      <td>...</td>\n      <td>...</td>\n      <td>...</td>\n      <td>...</td>\n      <td>...</td>\n      <td>...</td>\n      <td>...</td>\n      <td>...</td>\n      <td>...</td>\n      <td>...</td>\n      <td>...</td>\n      <td>...</td>\n      <td>...</td>\n      <td>...</td>\n      <td>...</td>\n      <td>...</td>\n      <td>...</td>\n      <td>...</td>\n    </tr>\n    <tr>\n      <th>chuchel</th>\n      <td>1</td>\n      <td>0</td>\n      <td>7</td>\n      <td>976</td>\n      <td>335</td>\n      <td>245</td>\n      <td>245</td>\n      <td>7.99</td>\n      <td>3043</td>\n      <td>2018</td>\n      <td>...</td>\n      <td>0</td>\n      <td>0</td>\n      <td>0</td>\n      <td>0</td>\n      <td>0</td>\n      <td>0</td>\n      <td>0</td>\n      <td>0</td>\n      <td>1</td>\n      <td>0</td>\n    </tr>\n    <tr>\n      <th>borderlands</th>\n      <td>1</td>\n      <td>18</td>\n      <td>80</td>\n      <td>1648</td>\n      <td>920</td>\n      <td>408</td>\n      <td>278</td>\n      <td>24.99</td>\n      <td>3039</td>\n      <td>2009</td>\n      <td>...</td>\n      <td>0</td>\n      <td>0</td>\n      <td>0</td>\n      <td>0</td>\n      <td>0</td>\n      <td>0</td>\n      <td>1</td>\n      <td>0</td>\n      <td>0</td>\n      <td>0</td>\n    </tr>\n    <tr>\n      <th>the messenger</th>\n      <td>1</td>\n      <td>0</td>\n      <td>40</td>\n      <td>1846</td>\n      <td>90</td>\n      <td>0</td>\n      <td>0</td>\n      <td>15.49</td>\n      <td>1940</td>\n      <td>2018</td>\n      <td>...</td>\n      <td>0</td>\n      <td>0</td>\n      <td>1</td>\n      <td>0</td>\n      <td>0</td>\n      <td>0</td>\n      <td>1</td>\n      <td>0</td>\n      <td>0</td>\n      <td>0</td>\n    </tr>\n    <tr>\n      <th>the awesome adventures of captain spirit</th>\n      <td>1</td>\n      <td>0</td>\n      <td>0</td>\n      <td>8077</td>\n      <td>667</td>\n      <td>68</td>\n      <td>65</td>\n      <td>0.00</td>\n      <td>3717</td>\n      <td>2018</td>\n      <td>...</td>\n      <td>0</td>\n      <td>0</td>\n      <td>0</td>\n      <td>1</td>\n      <td>0</td>\n      <td>0</td>\n      <td>1</td>\n      <td>0</td>\n      <td>0</td>\n      <td>0</td>\n    </tr>\n    <tr>\n      <th>mark of the ninja</th>\n      <td>1</td>\n      <td>16</td>\n      <td>38</td>\n      <td>802</td>\n      <td>47</td>\n      <td>162</td>\n      <td>289</td>\n      <td>15.49</td>\n      <td>340</td>\n      <td>2012</td>\n      <td>...</td>\n      <td>0</td>\n      <td>0</td>\n      <td>1</td>\n      <td>0</td>\n      <td>0</td>\n      <td>0</td>\n      <td>0</td>\n      <td>0</td>\n      <td>0</td>\n      <td>1</td>\n    </tr>\n  </tbody>\n</table>\n<p>240 rows × 59 columns</p>\n</div>",
      "text/plain": "                                          english  required_age  achievements  \\\nGame                                                                            \nhalflife 2                                      1             0            33   \nteam fortress 2                                 1             0           520   \nleft 4 dead                                     1             0            73   \nleft 4 dead 2                                   1             0            70   \ndota 2                                          1             0             0   \n...                                           ...           ...           ...   \nchuchel                                         1             0             7   \nborderlands                                     1            18            80   \nthe messenger                                   1             0            40   \nthe awesome adventures of captain spirit        1             0             0   \nmark of the ninja                               1            16            38   \n\n                                          positive_ratings  negative_ratings  \\\nGame                                                                           \nhalflife 2                                           67902              2419   \nteam fortress 2                                     515879             34036   \nleft 4 dead                                          17951               948   \nleft 4 dead 2                                       251789              8418   \ndota 2                                              863507            142079   \n...                                                    ...               ...   \nchuchel                                                976               335   \nborderlands                                           1648               920   \nthe messenger                                         1846                90   \nthe awesome adventures of captain spirit              8077               667   \nmark of the ninja                                      802                47   \n\n                                          average_playtime  median_playtime  \\\nGame                                                                          \nhalflife 2                                             691              402   \nteam fortress 2                                       8495              623   \nleft 4 dead                                            897              278   \nleft 4 dead 2                                         1615              566   \ndota 2                                               23944              801   \n...                                                    ...              ...   \nchuchel                                                245              245   \nborderlands                                            408              278   \nthe messenger                                            0                0   \nthe awesome adventures of captain spirit                68               65   \nmark of the ninja                                      162              289   \n\n                                          price  Unnamed: 0.1  Year_x  ...  \\\nGame                                                                   ...   \nhalflife 2                                 7.19            20    2004  ...   \nteam fortress 2                            0.00           195    2007  ...   \nleft 4 dead                                7.19           532    2008  ...   \nleft 4 dead 2                              7.19           533    2009  ...   \ndota 2                                     0.00           454    2013  ...   \n...                                         ...           ...     ...  ...   \nchuchel                                    7.99          3043    2018  ...   \nborderlands                               24.99          3039    2009  ...   \nthe messenger                             15.49          1940    2018  ...   \nthe awesome adventures of captain spirit   0.00          3717    2018  ...   \nmark of the ninja                         15.49           340    2012  ...   \n\n                                          owners_2000000-5000000  \\\nGame                                                               \nhalflife 2                                                     0   \nteam fortress 2                                                0   \nleft 4 dead                                                    0   \nleft 4 dead 2                                                  0   \ndota 2                                                         0   \n...                                                          ...   \nchuchel                                                        0   \nborderlands                                                    0   \nthe messenger                                                  0   \nthe awesome adventures of captain spirit                       0   \nmark of the ninja                                              0   \n\n                                          owners_20000000-50000000  \\\nGame                                                                 \nhalflife 2                                                       0   \nteam fortress 2                                                  1   \nleft 4 dead                                                      0   \nleft 4 dead 2                                                    0   \ndota 2                                                           0   \n...                                                            ...   \nchuchel                                                          0   \nborderlands                                                      0   \nthe messenger                                                    0   \nthe awesome adventures of captain spirit                         0   \nmark of the ninja                                                0   \n\n                                          owners_50000-100000  \\\nGame                                                            \nhalflife 2                                                  0   \nteam fortress 2                                             0   \nleft 4 dead                                                 0   \nleft 4 dead 2                                               0   \ndota 2                                                      0   \n...                                                       ...   \nchuchel                                                     0   \nborderlands                                                 0   \nthe messenger                                               1   \nthe awesome adventures of captain spirit                    0   \nmark of the ninja                                           1   \n\n                                          owners_500000-1000000  \\\nGame                                                              \nhalflife 2                                                    0   \nteam fortress 2                                               0   \nleft 4 dead                                                   0   \nleft 4 dead 2                                                 0   \ndota 2                                                        0   \n...                                                         ...   \nchuchel                                                       0   \nborderlands                                                   0   \nthe messenger                                                 0   \nthe awesome adventures of captain spirit                      1   \nmark of the ninja                                             0   \n\n                                          owners_5000000-10000000  \\\nGame                                                                \nhalflife 2                                                      0   \nteam fortress 2                                                 0   \nleft 4 dead                                                     1   \nleft 4 dead 2                                                   0   \ndota 2                                                          0   \n...                                                           ...   \nchuchel                                                         0   \nborderlands                                                     0   \nthe messenger                                                   0   \nthe awesome adventures of captain spirit                        0   \nmark of the ninja                                               0   \n\n                                          owners_50000000-100000000  \\\nGame                                                                  \nhalflife 2                                                        0   \nteam fortress 2                                                   0   \nleft 4 dead                                                       0   \nleft 4 dead 2                                                     0   \ndota 2                                                            0   \n...                                                             ...   \nchuchel                                                           0   \nborderlands                                                       0   \nthe messenger                                                     0   \nthe awesome adventures of captain spirit                          0   \nmark of the ninja                                                 0   \n\n                                          platforms_windows  \\\nGame                                                          \nhalflife 2                                                0   \nteam fortress 2                                           0   \nleft 4 dead                                               0   \nleft 4 dead 2                                             0   \ndota 2                                                    0   \n...                                                     ...   \nchuchel                                                   0   \nborderlands                                               1   \nthe messenger                                             1   \nthe awesome adventures of captain spirit                  1   \nmark of the ninja                                         0   \n\n                                          platforms_windows;linux  \\\nGame                                                                \nhalflife 2                                                      0   \nteam fortress 2                                                 0   \nleft 4 dead                                                     0   \nleft 4 dead 2                                                   0   \ndota 2                                                          0   \n...                                                           ...   \nchuchel                                                         0   \nborderlands                                                     0   \nthe messenger                                                   0   \nthe awesome adventures of captain spirit                        0   \nmark of the ninja                                               0   \n\n                                          platforms_windows;mac  \\\nGame                                                              \nhalflife 2                                                    0   \nteam fortress 2                                               0   \nleft 4 dead                                                   1   \nleft 4 dead 2                                                 0   \ndota 2                                                        0   \n...                                                         ...   \nchuchel                                                       1   \nborderlands                                                   0   \nthe messenger                                                 0   \nthe awesome adventures of captain spirit                      0   \nmark of the ninja                                             0   \n\n                                          platforms_windows;mac;linux  \nGame                                                                   \nhalflife 2                                                          1  \nteam fortress 2                                                     1  \nleft 4 dead                                                         0  \nleft 4 dead 2                                                       1  \ndota 2                                                              1  \n...                                                               ...  \nchuchel                                                             0  \nborderlands                                                         0  \nthe messenger                                                       0  \nthe awesome adventures of captain spirit                            0  \nmark of the ninja                                                   1  \n\n[240 rows x 59 columns]"
     },
     "execution_count": 250,
     "metadata": {},
     "output_type": "execute_result"
    }
   ],
   "source": [
    "#use get_dummies() to create variables for text features\n",
    "X = pd.get_dummies(df_new,columns=[\"owners\",\"platforms\"])\n",
    "X"
   ]
  },
  {
   "cell_type": "code",
   "execution_count": 252,
   "metadata": {},
   "outputs": [
    {
     "name": "stdout",
     "output_type": "stream",
     "text": [
      "[[ 0.         -0.55647772 -0.22476285 ... -0.09166985 -0.37796447\n",
      "   1.27959472]\n",
      " [ 0.         -0.55647772  4.83597333 ... -0.09166985 -0.37796447\n",
      "   1.27959472]\n",
      " [ 0.         -0.55647772  0.19090337 ... -0.09166985  2.64575131\n",
      "  -0.78149744]\n",
      " ...\n",
      " [ 0.         -0.55647772 -0.15202126 ... -0.09166985 -0.37796447\n",
      "  -0.78149744]\n",
      " [ 0.         -0.55647772 -0.56768747 ... -0.09166985 -0.37796447\n",
      "  -0.78149744]\n",
      " [ 0.          1.61073773 -0.17280457 ... -0.09166985 -0.37796447\n",
      "   1.27959472]]\n"
     ]
    }
   ],
   "source": [
    "# Standardize the data with StandardScaler().\n",
    "X_scaled = StandardScaler().fit_transform(X)\n",
    "print(X_scaled[:])"
   ]
  },
  {
   "cell_type": "code",
   "execution_count": 253,
   "metadata": {},
   "outputs": [
    {
     "data": {
      "text/plain": "array([[ 1.32200667e+00, -2.16076060e+00,  4.23615928e+00],\n       [ 7.94408163e+00,  1.67474977e+00,  1.09569023e+01],\n       [-3.84497129e-01, -1.47613570e-01,  2.43244509e+00],\n       [ 3.00347970e+00, -4.51061817e-01,  4.20448447e+00],\n       [ 1.73170372e+01,  1.26462200e+01, -2.95520063e+00],\n       [ 2.54299794e+00, -2.58414313e+00,  3.82473132e+00],\n       [ 3.51316766e+01,  1.96801875e+01,  2.95830181e+00],\n       [-1.60930598e+00, -1.53067637e-01,  2.33009121e-01],\n       [-1.77322075e+00,  3.76580298e-01,  1.46725496e+00],\n       [-1.90874423e+00,  5.06874471e-01, -3.60208410e-01],\n       [-1.54282507e+00, -1.75964710e-01,  2.71222465e+00],\n       [-7.17872372e-01,  7.64469115e-01, -2.21481831e-01],\n       [-1.56770145e+00, -6.32080483e-02,  8.89351087e-01],\n       [-9.73612388e-01, -8.50124781e-01,  1.90657987e+00],\n       [-1.02074054e+00, -6.51128177e-02,  2.04329266e+00],\n       [-8.81032071e-01, -1.47603997e-01,  1.98569752e+00],\n       [ 7.23324486e-01, -2.08420160e+00,  2.02188667e+00],\n       [ 1.04437133e+00,  5.06809926e-01,  2.24492702e+00],\n       [-1.51665879e+00,  6.49870191e-02,  1.41976078e+00],\n       [-3.70036486e-01, -1.27039751e-01,  1.32747026e+00],\n       [-9.17734043e-01, -3.28566061e-01,  1.83796815e+00],\n       [-7.43722181e-01, -5.99552965e-01,  1.89483653e+00],\n       [-1.12264928e-01, -1.79297475e+00,  1.71078453e+00],\n       [-8.23039413e-02, -1.07821267e+00,  6.78066808e-01],\n       [-1.62272690e+00,  5.44279763e-01,  7.98233177e-01],\n       [-1.54313182e+00,  3.93202245e-01,  1.30243894e+00],\n       [-5.32786399e-01, -2.05166929e-01,  5.14052701e-01],\n       [-9.63923574e-01, -1.07693077e+00,  1.30620372e+00],\n       [-1.19046782e+00, -5.66583786e-01,  1.20783449e+00],\n       [-7.63887527e-01, -1.25599655e+00,  1.16959959e+00],\n       [-8.95829467e-01, -1.03781409e+00,  6.97977054e-01],\n       [ 3.43351260e-01, -2.45964679e+00,  7.21280732e-01],\n       [-1.79007368e+00,  8.63662237e-01,  8.15005619e-01],\n       [-1.05576656e+00, -5.78017582e-01,  5.33697969e-01],\n       [-4.31445073e-01, -7.01297410e-01,  7.36512631e-01],\n       [-5.62260060e-01, -1.50779206e+00,  1.55342402e+00],\n       [ 1.00145892e+00, -3.20833294e+00,  2.13670006e-01],\n       [-8.90674500e-01, -9.86600289e-02,  1.32737846e+00],\n       [-6.92981250e-01, -1.23103806e+00,  9.54669930e-01],\n       [-1.00422665e+00, -8.80246462e-01,  2.80916143e+00],\n       [-1.18299840e+00,  8.49383304e-02,  7.03097827e-01],\n       [ 4.31481568e-01,  1.29119279e+00, -1.03831285e+00],\n       [-1.83230132e+00,  4.03933534e-01, -2.39610003e-01],\n       [-1.63685193e+00,  5.75187515e-02,  1.12718495e+00],\n       [ 2.91218075e-01,  1.95269200e+00, -1.70254688e+00],\n       [-8.18377288e-01, -4.34314395e-01,  1.70506652e-01],\n       [-6.02578684e-01,  4.16330450e-01, -9.32364466e-01],\n       [-1.57355939e+00,  5.34055396e-01, -8.36463463e-02],\n       [-1.63287548e+00,  7.97987517e-01, -1.05334792e+00],\n       [-1.55783133e+00,  6.25009282e-01, -1.28042857e+00],\n       [-1.26147991e+00, -1.58289340e-01,  5.89450580e-01],\n       [ 1.38002387e-01, -4.35096222e-01,  7.30481203e-01],\n       [ 2.72540748e+00, -1.83346065e+00,  2.68074525e+00],\n       [-8.67855946e-01, -7.55719700e-01,  1.45656421e-01],\n       [-9.46300724e-01, -6.71568489e-01,  1.30720928e+00],\n       [-1.22014058e+00,  5.66822923e-01,  1.31533240e+00],\n       [ 6.82697035e+00, -9.82207240e+00, -1.06511580e+00],\n       [-8.33296449e-01,  4.29504117e-01, -2.31363632e+00],\n       [-1.40884467e+00,  2.09975873e-01,  6.18637308e-01],\n       [ 6.06054347e+00, -8.11668714e+00,  4.14486291e-01],\n       [-9.93486216e-01, -1.28548005e-01, -5.51413792e-01],\n       [-1.44112876e+00,  3.82267470e-01,  4.68783361e-01],\n       [-4.76012919e-01, -5.59469864e-01,  1.77382778e+00],\n       [-1.35440058e+00,  1.90666725e-01,  6.01688971e-01],\n       [-6.15490336e-01,  9.82471362e-03, -1.14208924e-01],\n       [-1.08335019e+00,  9.15351986e-02,  3.10312047e-01],\n       [-9.70776398e-01,  2.22906685e-01,  1.33284521e+00],\n       [-1.18675688e+00,  2.65936856e-01, -1.01981265e-02],\n       [ 1.44727671e-04, -1.74995500e+00,  1.58248725e+00],\n       [-1.60675153e+00,  2.53255668e-01,  9.11459911e-01],\n       [-1.28961277e+00,  3.88298248e-01,  1.00921405e+00],\n       [-1.40250855e+00, -8.63049070e-02,  1.41193850e+00],\n       [-9.07996103e-01,  2.32248921e-01, -3.94161903e-01],\n       [ 1.87688447e+00, -3.38163227e+00, -1.27619420e-01],\n       [ 6.20646689e-02, -8.60112417e-01,  1.98434518e+00],\n       [-5.48143087e-01, -1.13550510e+00,  4.58918797e-02],\n       [-5.64145807e-01, -4.23201764e-01,  3.51667370e-01],\n       [-1.33981262e+00,  6.33236789e-01,  1.14947628e+00],\n       [ 9.82904172e-02, -8.39447634e-02,  9.53353773e-01],\n       [ 6.70935281e+00, -4.29420806e-01,  7.03018771e+00],\n       [-8.27794608e-01,  1.15953563e-01,  1.63209146e-01],\n       [ 2.25575925e-01, -1.14603863e+00,  9.85740680e-01],\n       [-8.96678946e-01, -3.94116120e-01,  7.62802387e-01],\n       [ 1.75282887e+00, -2.16854649e+00, -8.47703333e-01],\n       [-1.27236237e+00,  9.56239504e-01, -2.19064571e+00],\n       [-4.39358544e-01,  8.57936280e-01,  1.08457857e+00],\n       [-1.44392309e+00,  3.44617115e-01, -1.85196411e-01],\n       [ 7.23753161e-01,  3.79059480e-01,  2.03263273e+00],\n       [ 1.16427234e+00, -1.70081383e+00, -7.50866866e-02],\n       [-3.39838106e-01,  5.70810282e-01,  1.70628440e+00],\n       [-4.91638760e-01, -1.50551670e+00,  2.07762060e+00],\n       [-2.63154482e-01, -1.56325639e-01,  4.87985553e-01],\n       [-3.26937991e-01,  1.22389524e-01,  1.35334842e+00],\n       [ 1.21382044e+00, -7.61585020e-01,  9.37544636e-01],\n       [-9.14478984e-01, -3.68747696e-01,  1.18086158e+00],\n       [-1.39916337e+00,  4.66584883e-01, -7.89859353e-01],\n       [-1.02865345e+00,  2.86097690e-01,  9.55225185e-01],\n       [ 2.59265512e+00, -4.84427517e+00, -1.01704665e+00],\n       [-1.44438312e+00,  1.06957722e+00, -1.05743350e+00],\n       [-1.45027768e+00,  9.44127569e-01,  7.51601731e-01],\n       [-1.84356287e+00,  7.30635722e-01,  4.86580601e-02],\n       [ 2.66868790e-01, -5.20618699e-01,  1.96586002e+00],\n       [ 2.93111906e+00,  7.17917773e-01, -7.26124366e-02],\n       [-1.42105243e+00,  6.50665555e-01, -9.98696257e-01],\n       [-3.04856502e-01, -4.11223856e-01,  1.41955528e+00],\n       [-8.16813449e-01,  3.64353994e-02,  7.61282662e-02],\n       [ 2.20851475e-01,  4.59293471e-01,  1.28744975e-01],\n       [ 1.85926084e+00, -5.07577093e+00,  7.36613865e-01],\n       [-1.62412065e+00,  7.62404154e-01, -2.12423609e-01],\n       [ 1.59372899e+00,  1.68693708e+00, -1.02176794e+00],\n       [ 1.82421234e-01,  8.65567820e-01, -4.14994688e-01],\n       [ 2.91759795e+01, -1.96198675e+01, -3.80367323e+00],\n       [-1.57778035e+00,  6.92197337e-01, -2.59271156e-01],\n       [-1.76131049e-01,  6.90436117e-01, -9.53795655e-01],\n       [-8.66378089e-01, -9.46221337e-02,  7.80659359e-01],\n       [-9.77719690e-01, -7.37432759e-02,  4.35623521e-01],\n       [-1.09504269e+00, -5.97451411e-02,  1.20046179e+00],\n       [-9.53595535e-01, -1.81869146e-01,  1.47013680e+00],\n       [ 9.92280320e-01, -2.24167525e+00, -2.55436071e-01],\n       [-4.64370143e-01,  6.57670358e-01,  9.61530594e-01],\n       [-2.42408910e-01,  1.37114538e+00, -5.56597828e-01],\n       [-9.77397364e-01, -3.65858258e-02,  5.96990685e-01],\n       [ 5.02444323e+00, -8.96272482e+00, -2.02228818e+00],\n       [ 1.75380918e-01, -5.26518872e-01, -5.83197786e-01],\n       [-1.21397945e+00,  3.36045011e-01, -6.71819700e-01],\n       [-8.18290616e-01, -8.55981903e-02, -7.32017081e-01],\n       [-1.09651394e+00,  3.40655226e-01,  1.41028566e+00],\n       [-1.66286950e+00,  7.51919475e-01, -1.13710293e+00],\n       [ 1.03203379e-01,  1.00785960e+00, -2.27272046e-02],\n       [-8.91774366e-01,  1.02918521e+00, -2.41562001e+00],\n       [-1.35569507e+00,  2.73958430e-01,  2.92185276e-01],\n       [-8.10712504e-01,  7.11725272e-01, -1.55603554e+00],\n       [ 1.46554513e+00, -5.10251555e+00,  6.43806201e-01],\n       [-9.48810953e-01,  6.54247954e-01,  2.83403502e-01],\n       [-2.08087424e-01,  1.04128275e+00, -1.87504834e+00],\n       [-1.15508822e+00,  1.02233684e+00, -1.98367894e+00],\n       [-1.26089084e+00, -2.78238849e-01,  9.59276771e-01],\n       [ 3.70193356e-01,  5.93787396e-01, -2.10129755e+00],\n       [ 2.62580589e-01,  5.58155126e-01, -1.11966048e+00],\n       [-3.26785537e-01,  9.85103302e-02, -7.76561717e-01],\n       [ 5.71402330e+00,  2.61259625e+00, -2.02813337e+00],\n       [-1.11830791e+00, -6.34954829e-02,  2.37754475e+00],\n       [-1.44525827e+00,  7.47889136e-01, -5.07923286e-01],\n       [ 2.97478979e-01,  1.19458514e+00, -4.78199718e-01],\n       [-1.42344052e+00,  8.66932972e-01, -1.85712312e-01],\n       [-1.68623409e+00,  6.50184086e-01, -1.06069867e+00],\n       [ 3.13418412e+00,  1.02894320e+00, -4.43211581e+00],\n       [-1.69784350e-01,  1.97943765e-01, -1.52348791e+00],\n       [-3.57435369e-01, -5.18257242e-01,  9.06977306e-01],\n       [-1.40341765e+00,  6.13849345e-02,  1.33760140e+00],\n       [ 6.08362990e+00, -3.65607678e+00, -2.48064160e+00],\n       [-9.17427120e-01,  1.21872396e+00, -1.97362960e+00],\n       [ 1.07897046e+01, -9.73065645e+00, -4.51650321e+00],\n       [-9.52115815e-01, -1.33650660e-01, -5.82444335e-01],\n       [-1.61272233e+00,  7.86414843e-01, -1.34916781e+00],\n       [ 1.12721284e+00, -4.83011279e-01, -4.92070599e-02],\n       [ 7.05914826e-01, -3.61762544e-01, -1.82002442e+00],\n       [-1.19907381e+00,  2.26448682e-01, -1.19694184e+00],\n       [ 1.31253104e+00,  9.49505588e-01, -4.63021300e-01],\n       [-5.69605879e-01, -3.99241745e-01,  4.73796807e-01],\n       [-5.77248771e-01, -4.04375746e-01,  5.26068562e-01],\n       [-1.27653184e+00,  6.80504973e-01, -1.08080083e+00],\n       [-1.60118653e+00,  5.51154530e-01,  1.69959914e-01],\n       [ 1.84454589e-01, -8.86642365e-01, -1.88221592e-01],\n       [ 2.60573534e+00, -7.88354734e+00,  1.26189968e+00],\n       [-1.34958843e-01,  1.14338875e+00, -3.77515566e-01],\n       [-1.84018114e+00,  8.13264658e-01, -2.33886828e-01],\n       [-1.31047282e+00,  8.52611171e-01, -4.93788273e-01],\n       [-1.51575550e+00,  5.37063586e-01,  1.12880021e-01],\n       [ 2.69465360e-01,  2.75182256e-01, -1.85165104e+00],\n       [-1.02163690e+00, -3.47540027e-01,  2.59044156e+00],\n       [-1.42740514e+00,  4.84634169e-01,  7.86148683e-01],\n       [ 8.12478596e-01, -1.98847056e+00,  8.07023956e-01],\n       [-1.46018621e+00,  2.95417084e-01,  5.41449401e-01],\n       [-2.22206342e-01,  3.90084745e-01, -2.51320842e+00],\n       [-1.46081047e+00,  1.23854826e+00, -6.66530914e-01],\n       [-1.54166322e+00,  5.61150525e-01,  3.59559564e-02],\n       [-1.09325380e+00,  7.99400265e-01, -7.26465944e-01],\n       [-1.44698361e+00,  6.14351734e-01,  6.19882507e-01],\n       [-1.04869854e+00,  5.81855726e-01, -1.65328699e+00],\n       [-1.43434545e+00,  5.78026411e-01, -1.75958307e+00],\n       [-4.90171244e-01, -1.20537828e+00,  1.88682754e-01],\n       [-1.40309092e+00,  1.19520488e+00, -1.24992766e+00],\n       [-1.30583878e+00,  1.31290899e+00, -1.38769466e+00],\n       [-1.03519917e+00, -1.17390567e-01, -3.90521663e-01],\n       [-1.67249315e+00,  5.72952204e-01, -1.07483433e+00],\n       [-1.14723872e+00, -8.68281568e-02, -6.53992638e-01],\n       [-1.23941969e+00, -3.18356383e-01,  7.81791828e-01],\n       [-1.17987832e+00,  5.83325040e-01, -9.43127193e-01],\n       [-1.34884364e+00,  5.25670120e-01, -6.17681047e-01],\n       [ 9.13487876e-01,  2.30164148e+00, -4.59886028e+00],\n       [-1.83774338e+00,  7.31330589e-01, -1.54203567e+00],\n       [-1.17855380e+00, -1.30194559e-02, -6.60860728e-02],\n       [-2.11782939e+00,  6.22174462e-01,  6.39976716e-02],\n       [-1.50353246e+00, -1.17428918e-02,  3.34217063e-01],\n       [-9.70744693e-01,  6.44619530e-01, -2.44856506e-02],\n       [-5.37368352e-01,  6.20775234e-01, -3.39295307e-01],\n       [-1.40097527e+00,  9.57906217e-01, -1.42672229e+00],\n       [-1.38041470e+00,  7.08273794e-01, -1.38675440e-01],\n       [-1.83002608e+00,  1.00349888e+00, -2.04218688e+00],\n       [-1.63128578e+00,  9.42166142e-01, -2.46243484e-01],\n       [-1.02662505e+00,  1.10292123e+00, -9.36861727e-01],\n       [-7.91431807e-01,  6.88418315e-01, -1.31155480e+00],\n       [ 4.09023359e+00,  3.79169149e+00, -7.25934475e+00],\n       [-9.65731871e-01,  5.64642107e-01, -2.25806903e-01],\n       [-6.64015380e-01, -6.59988648e-03, -1.39181730e+00],\n       [-1.22189698e+00,  5.54360466e-01, -8.19243849e-02],\n       [-1.84586138e+00,  7.00793133e-01,  4.22682992e-02],\n       [-8.31390529e-01,  9.01653426e-01, -7.69083465e-01],\n       [-1.53096025e+00,  5.66683058e-01,  6.64385288e-02],\n       [-5.55265899e-01,  6.34748099e-01, -1.78702185e+00],\n       [ 9.18296024e+00,  6.03542701e+00,  3.27672679e+00],\n       [ 1.54451345e+00,  1.36529379e+00, -3.69918366e+00],\n       [ 5.63792926e-01,  9.59305486e-01, -3.10255592e+00],\n       [-1.32212806e+00,  8.27031766e-01, -1.60429298e-01],\n       [-3.55459538e-01,  5.50979656e-01,  2.08900110e-01],\n       [-7.70681506e-01,  1.13579420e+00, -2.98047952e+00],\n       [-1.78033385e+00,  6.83530399e-01,  1.12665354e-01],\n       [-1.23787497e+00,  5.67012764e-01,  3.42800087e-01],\n       [-5.87808938e-01,  1.01075240e+00, -4.46884972e-01],\n       [-1.13597901e+00,  6.47949941e-01, -2.14914652e+00],\n       [-1.60184706e+00,  5.87073626e-01,  6.99661728e-01],\n       [ 6.64930043e-01,  2.15928415e+00, -4.10263888e+00],\n       [-1.77062810e+00,  7.69521063e-01, -7.69975272e-01],\n       [-5.22999921e-01,  9.25127542e-01, -2.34633834e+00],\n       [-1.53985477e+00,  5.91215958e-01, -1.46856396e+00],\n       [-1.36473491e-01,  1.83908499e+00, -1.45403377e+00],\n       [-1.64771771e+00,  3.76845192e-01, -4.96152778e-01],\n       [-9.12019699e-01,  1.49825926e+00, -2.10190896e+00],\n       [-6.66330522e-01,  1.73518546e-01, -1.47196878e+00],\n       [-1.34728164e+00, -2.10772074e-02, -2.04939474e-01],\n       [-1.77770570e+00,  9.60098663e-01, -5.81216927e-01],\n       [-1.27320849e+00,  8.85928689e-01, -1.63284784e+00],\n       [-1.76910621e+00,  1.31563852e+00, -1.02674830e+00],\n       [-4.42007019e-01, -1.51051994e+00,  3.99943360e-02],\n       [-1.84505642e+00,  7.76215499e-01, -2.63957943e-01],\n       [-2.93049758e-01,  1.37991033e+00, -2.70496371e+00],\n       [-1.58173119e+00,  8.51804296e-01, -1.14519219e+00],\n       [-1.43161438e+00,  8.66876836e-01, -1.38829654e+00],\n       [-1.37907742e+00,  3.24400566e-01,  1.58712477e+00]])"
     },
     "execution_count": 253,
     "metadata": {},
     "output_type": "execute_result"
    }
   ],
   "source": [
    "# Using PCA to reduce dimension to three principal components.\n",
    "pca = PCA(n_components=3)\n",
    "df_pca= pca.fit_transform(X_scaled)\n",
    "df_pca"
   ]
  },
  {
   "cell_type": "code",
   "execution_count": 254,
   "metadata": {},
   "outputs": [
    {
     "data": {
      "text/html": "<div>\n<style scoped>\n    .dataframe tbody tr th:only-of-type {\n        vertical-align: middle;\n    }\n\n    .dataframe tbody tr th {\n        vertical-align: top;\n    }\n\n    .dataframe thead th {\n        text-align: right;\n    }\n</style>\n<table border=\"1\" class=\"dataframe\">\n  <thead>\n    <tr style=\"text-align: right;\">\n      <th></th>\n      <th>PC 1</th>\n      <th>PC 2</th>\n      <th>PC 3</th>\n    </tr>\n    <tr>\n      <th>Game</th>\n      <th></th>\n      <th></th>\n      <th></th>\n    </tr>\n  </thead>\n  <tbody>\n    <tr>\n      <th>halflife 2</th>\n      <td>1.322007</td>\n      <td>-2.160761</td>\n      <td>4.236159</td>\n    </tr>\n    <tr>\n      <th>team fortress 2</th>\n      <td>7.944082</td>\n      <td>1.674750</td>\n      <td>10.956902</td>\n    </tr>\n    <tr>\n      <th>left 4 dead</th>\n      <td>-0.384497</td>\n      <td>-0.147614</td>\n      <td>2.432445</td>\n    </tr>\n    <tr>\n      <th>left 4 dead 2</th>\n      <td>3.003480</td>\n      <td>-0.451062</td>\n      <td>4.204484</td>\n    </tr>\n    <tr>\n      <th>dota 2</th>\n      <td>17.317037</td>\n      <td>12.646220</td>\n      <td>-2.955201</td>\n    </tr>\n    <tr>\n      <th>...</th>\n      <td>...</td>\n      <td>...</td>\n      <td>...</td>\n    </tr>\n    <tr>\n      <th>chuchel</th>\n      <td>-1.845056</td>\n      <td>0.776215</td>\n      <td>-0.263958</td>\n    </tr>\n    <tr>\n      <th>borderlands</th>\n      <td>-0.293050</td>\n      <td>1.379910</td>\n      <td>-2.704964</td>\n    </tr>\n    <tr>\n      <th>the messenger</th>\n      <td>-1.581731</td>\n      <td>0.851804</td>\n      <td>-1.145192</td>\n    </tr>\n    <tr>\n      <th>the awesome adventures of captain spirit</th>\n      <td>-1.431614</td>\n      <td>0.866877</td>\n      <td>-1.388297</td>\n    </tr>\n    <tr>\n      <th>mark of the ninja</th>\n      <td>-1.379077</td>\n      <td>0.324401</td>\n      <td>1.587125</td>\n    </tr>\n  </tbody>\n</table>\n<p>240 rows × 3 columns</p>\n</div>",
      "text/plain": "                                               PC 1       PC 2       PC 3\nGame                                                                     \nhalflife 2                                 1.322007  -2.160761   4.236159\nteam fortress 2                            7.944082   1.674750  10.956902\nleft 4 dead                               -0.384497  -0.147614   2.432445\nleft 4 dead 2                              3.003480  -0.451062   4.204484\ndota 2                                    17.317037  12.646220  -2.955201\n...                                             ...        ...        ...\nchuchel                                   -1.845056   0.776215  -0.263958\nborderlands                               -0.293050   1.379910  -2.704964\nthe messenger                             -1.581731   0.851804  -1.145192\nthe awesome adventures of captain spirit  -1.431614   0.866877  -1.388297\nmark of the ninja                         -1.379077   0.324401   1.587125\n\n[240 rows x 3 columns]"
     },
     "execution_count": 254,
     "metadata": {},
     "output_type": "execute_result"
    }
   ],
   "source": [
    "# Create a DataFrame with the three principal components.\n",
    "pcs_df= pd.DataFrame(\n",
    "    data = df_pca, columns = [\"PC 1\",\"PC 2\",\"PC 3\"],index=X.index\n",
    ")\n",
    "pcs_df"
   ]
  },
  {
   "cell_type": "code",
   "execution_count": 255,
   "metadata": {},
   "outputs": [
    {
     "data": {},
     "metadata": {},
     "output_type": "display_data"
    },
    {
     "data": {
      "application/vnd.holoviews_exec.v0+json": "",
      "text/html": "<div id='1001'>\n\n\n\n\n\n  <div class=\"bk-root\" id=\"a01ceb77-3103-4557-8cd7-1ebb6f9ba808\" data-root-id=\"1001\"></div>\n</div>\n<script type=\"application/javascript\">(function(root) {\n  function embed_document(root) {\n    var docs_json = {\"2393d57d-8ce2-4a7b-b2e0-051be4bc4d80\":{\"roots\":{\"references\":[{\"attributes\":{},\"id\":\"1027\",\"type\":\"ResetTool\"},{\"attributes\":{\"text\":\"Elbow Curve\",\"text_color\":{\"value\":\"black\"},\"text_font_size\":{\"value\":\"12pt\"}},\"id\":\"1007\",\"type\":\"Title\"},{\"attributes\":{},\"id\":\"1024\",\"type\":\"PanTool\"},{\"attributes\":{},\"id\":\"1049\",\"type\":\"BasicTickFormatter\"},{\"attributes\":{\"margin\":[5,5,5,5],\"name\":\"HSpacer01538\",\"sizing_mode\":\"stretch_width\"},\"id\":\"1065\",\"type\":\"Spacer\"},{\"attributes\":{\"end\":10.0,\"reset_end\":10.0,\"reset_start\":1.0,\"start\":1.0,\"tags\":[[[\"k\",\"k\",null]]]},\"id\":\"1003\",\"type\":\"Range1d\"},{\"attributes\":{\"line_alpha\":0.1,\"line_color\":\"#30a2da\",\"line_width\":2,\"x\":{\"field\":\"k\"},\"y\":{\"field\":\"inertia\"}},\"id\":\"1040\",\"type\":\"Line\"},{\"attributes\":{\"axis_label\":\"k\",\"bounds\":\"auto\",\"formatter\":{\"id\":\"1045\"},\"major_label_orientation\":\"horizontal\",\"ticker\":{\"id\":\"1044\"}},\"id\":\"1015\",\"type\":\"LinearAxis\"},{\"attributes\":{\"callback\":null,\"renderers\":[{\"id\":\"1042\"}],\"tags\":[\"hv_created\"],\"tooltips\":[[\"k\",\"@{k}\"],[\"inertia\",\"@{inertia}\"]]},\"id\":\"1005\",\"type\":\"HoverTool\"},{\"attributes\":{\"axis\":{\"id\":\"1015\"},\"grid_line_color\":null,\"ticker\":null},\"id\":\"1018\",\"type\":\"Grid\"},{\"attributes\":{\"ticks\":[1,2,3,4,5,6,7,8,9,10]},\"id\":\"1044\",\"type\":\"FixedTicker\"},{\"attributes\":{},\"id\":\"1037\",\"type\":\"Selection\"},{\"attributes\":{},\"id\":\"1025\",\"type\":\"WheelZoomTool\"},{\"attributes\":{\"margin\":[5,5,5,5],\"name\":\"HSpacer01537\",\"sizing_mode\":\"stretch_width\"},\"id\":\"1002\",\"type\":\"Spacer\"},{\"attributes\":{\"data_source\":{\"id\":\"1036\"},\"glyph\":{\"id\":\"1039\"},\"hover_glyph\":null,\"muted_glyph\":{\"id\":\"1041\"},\"nonselection_glyph\":{\"id\":\"1040\"},\"selection_glyph\":null,\"view\":{\"id\":\"1043\"}},\"id\":\"1042\",\"type\":\"GlyphRenderer\"},{\"attributes\":{\"axis_label\":\"inertia\",\"bounds\":\"auto\",\"formatter\":{\"id\":\"1049\"},\"major_label_orientation\":\"horizontal\",\"ticker\":{\"id\":\"1020\"}},\"id\":\"1019\",\"type\":\"LinearAxis\"},{\"attributes\":{\"axis\":{\"id\":\"1019\"},\"dimension\":1,\"grid_line_color\":null,\"ticker\":null},\"id\":\"1022\",\"type\":\"Grid\"},{\"attributes\":{},\"id\":\"1020\",\"type\":\"BasicTicker\"},{\"attributes\":{\"below\":[{\"id\":\"1015\"}],\"center\":[{\"id\":\"1018\"},{\"id\":\"1022\"}],\"left\":[{\"id\":\"1019\"}],\"margin\":[5,5,5,5],\"min_border_bottom\":10,\"min_border_left\":10,\"min_border_right\":10,\"min_border_top\":10,\"plot_height\":300,\"plot_width\":700,\"renderers\":[{\"id\":\"1042\"}],\"sizing_mode\":\"fixed\",\"title\":{\"id\":\"1007\"},\"toolbar\":{\"id\":\"1029\"},\"x_range\":{\"id\":\"1003\"},\"x_scale\":{\"id\":\"1011\"},\"y_range\":{\"id\":\"1004\"},\"y_scale\":{\"id\":\"1013\"}},\"id\":\"1006\",\"subtype\":\"Figure\",\"type\":\"Plot\"},{\"attributes\":{},\"id\":\"1023\",\"type\":\"SaveTool\"},{\"attributes\":{},\"id\":\"1013\",\"type\":\"LinearScale\"},{\"attributes\":{},\"id\":\"1011\",\"type\":\"LinearScale\"},{\"attributes\":{\"children\":[{\"id\":\"1002\"},{\"id\":\"1006\"},{\"id\":\"1065\"}],\"margin\":[0,0,0,0],\"name\":\"Row01533\",\"tags\":[\"embedded\"]},\"id\":\"1001\",\"type\":\"Row\"},{\"attributes\":{\"line_alpha\":0.2,\"line_color\":\"#30a2da\",\"line_width\":2,\"x\":{\"field\":\"k\"},\"y\":{\"field\":\"inertia\"}},\"id\":\"1041\",\"type\":\"Line\"},{\"attributes\":{\"end\":6171.706419222478,\"reset_end\":6171.706419222478,\"reset_start\":-47.38959678320117,\"start\":-47.38959678320117,\"tags\":[[[\"inertia\",\"inertia\",null]]]},\"id\":\"1004\",\"type\":\"Range1d\"},{\"attributes\":{\"active_drag\":\"auto\",\"active_inspect\":\"auto\",\"active_multi\":null,\"active_scroll\":\"auto\",\"active_tap\":\"auto\",\"tools\":[{\"id\":\"1005\"},{\"id\":\"1023\"},{\"id\":\"1024\"},{\"id\":\"1025\"},{\"id\":\"1026\"},{\"id\":\"1027\"}]},\"id\":\"1029\",\"type\":\"Toolbar\"},{\"attributes\":{\"line_color\":\"#30a2da\",\"line_width\":2,\"x\":{\"field\":\"k\"},\"y\":{\"field\":\"inertia\"}},\"id\":\"1039\",\"type\":\"Line\"},{\"attributes\":{\"data\":{\"inertia\":{\"__ndarray__\":\"ycaDy3IVtkDeAJGqMSKqQFpSUtF/kqJA00wYyk6emkCGnpnYg3WVQNE7R0X7V5BAny8vAinSiUDAxa0JTg2FQIzc29xUkYBAxYgr/ORtfUA=\",\"dtype\":\"float64\",\"order\":\"little\",\"shape\":[10]},\"k\":[1,2,3,4,5,6,7,8,9,10]},\"selected\":{\"id\":\"1037\"},\"selection_policy\":{\"id\":\"1056\"}},\"id\":\"1036\",\"type\":\"ColumnDataSource\"},{\"attributes\":{\"overlay\":{\"id\":\"1028\"}},\"id\":\"1026\",\"type\":\"BoxZoomTool\"},{\"attributes\":{},\"id\":\"1056\",\"type\":\"UnionRenderers\"},{\"attributes\":{\"source\":{\"id\":\"1036\"}},\"id\":\"1043\",\"type\":\"CDSView\"},{\"attributes\":{},\"id\":\"1045\",\"type\":\"BasicTickFormatter\"},{\"attributes\":{\"bottom_units\":\"screen\",\"fill_alpha\":0.5,\"fill_color\":\"lightgrey\",\"left_units\":\"screen\",\"level\":\"overlay\",\"line_alpha\":1.0,\"line_color\":\"black\",\"line_dash\":[4,4],\"line_width\":2,\"right_units\":\"screen\",\"top_units\":\"screen\"},\"id\":\"1028\",\"type\":\"BoxAnnotation\"}],\"root_ids\":[\"1001\"]},\"title\":\"Bokeh Application\",\"version\":\"2.2.3\"}};\n    var render_items = [{\"docid\":\"2393d57d-8ce2-4a7b-b2e0-051be4bc4d80\",\"root_ids\":[\"1001\"],\"roots\":{\"1001\":\"a01ceb77-3103-4557-8cd7-1ebb6f9ba808\"}}];\n    root.Bokeh.embed.embed_items_notebook(docs_json, render_items);\n  }\n  if (root.Bokeh !== undefined && root.Bokeh.Panel !== undefined) {\n    embed_document(root);\n  } else {\n    var attempts = 0;\n    var timer = setInterval(function(root) {\n      if (root.Bokeh !== undefined && root.Bokeh.Panel !== undefined) {\n        clearInterval(timer);\n        embed_document(root);\n      } else if (document.readyState == \"complete\") {\n        attempts++;\n        if (attempts > 100) {\n          clearInterval(timer);\n          console.log(\"Bokeh: ERROR: Unable to run BokehJS code because BokehJS library is missing\");\n        }\n      }\n    }, 10, root)\n  }\n})(window);</script>",
      "text/plain": ":Curve   [k]   (inertia)"
     },
     "execution_count": 255,
     "metadata": {
      "application/vnd.holoviews_exec.v0+json": {
       "id": "1001"
      }
     },
     "output_type": "execute_result"
    }
   ],
   "source": [
    "# Create an elbow curve to find the best value for K.\n",
    "\n",
    "inertia = []\n",
    "k = list(range(1,11))\n",
    "for i in k:\n",
    "    km = KMeans(n_clusters=i, random_state=0)\n",
    "    km.fit(pcs_df)\n",
    "    inertia.append(km.inertia_)\n",
    "\n",
    "elbow_data = {\"k\":k,\"inertia\":inertia}\n",
    "df_elbow = pd.DataFrame(elbow_data)\n",
    "df_elbow.hvplot.line(x=\"k\",y=\"inertia\",xticks=k,title= \"Elbow Curve\")"
   ]
  },
  {
   "cell_type": "code",
   "execution_count": 256,
   "metadata": {},
   "outputs": [
    {
     "data": {
      "text/plain": "array([0, 4, 0, 0, 4, 0, 3, 0, 0, 2, 0, 2, 0, 0, 0, 0, 0, 0, 0, 0, 0, 0,\n       0, 0, 0, 0, 0, 0, 0, 0, 0, 0, 0, 0, 0, 0, 0, 0, 0, 0, 0, 2, 2, 0,\n       2, 0, 2, 2, 2, 2, 0, 0, 0, 0, 0, 0, 1, 2, 0, 1, 2, 0, 0, 0, 0, 0,\n       0, 2, 0, 0, 0, 0, 2, 0, 0, 0, 0, 0, 0, 4, 0, 0, 0, 0, 2, 0, 2, 0,\n       0, 0, 0, 0, 0, 0, 0, 2, 0, 1, 2, 0, 2, 0, 0, 2, 0, 0, 0, 1, 2, 2,\n       2, 5, 2, 2, 0, 0, 0, 0, 0, 0, 2, 0, 1, 2, 2, 2, 0, 2, 2, 2, 0, 2,\n       1, 0, 2, 2, 0, 2, 2, 2, 2, 0, 2, 2, 2, 2, 2, 2, 0, 0, 1, 2, 1, 2,\n       2, 0, 2, 2, 2, 0, 0, 2, 2, 0, 1, 2, 2, 2, 2, 2, 0, 0, 0, 0, 2, 2,\n       2, 2, 0, 2, 2, 0, 2, 2, 2, 2, 2, 0, 2, 2, 2, 2, 0, 2, 0, 2, 2, 2,\n       2, 2, 2, 2, 2, 2, 2, 2, 2, 2, 2, 2, 2, 4, 2, 2, 2, 0, 2, 2, 0, 2,\n       2, 0, 2, 2, 2, 2, 2, 2, 2, 2, 2, 2, 2, 2, 0, 2, 2, 2, 2, 0],\n      dtype=int32)"
     },
     "execution_count": 256,
     "metadata": {},
     "output_type": "execute_result"
    }
   ],
   "source": [
    "# Initialize the K-Means model.\n",
    "model = KMeans(n_clusters=6,random_state=0)\n",
    "\n",
    "# Fit the model\n",
    "model.fit(pcs_df)\n",
    "\n",
    "# Predict clusters\n",
    "predictions = model.predict(pcs_df)\n",
    "predictions"
   ]
  },
  {
   "cell_type": "code",
   "execution_count": 257,
   "metadata": {},
   "outputs": [
    {
     "name": "stdout",
     "output_type": "stream",
     "text": [
      "(240, 51)\n"
     ]
    },
    {
     "data": {
      "text/html": "<div>\n<style scoped>\n    .dataframe tbody tr th:only-of-type {\n        vertical-align: middle;\n    }\n\n    .dataframe tbody tr th {\n        vertical-align: top;\n    }\n\n    .dataframe thead th {\n        text-align: right;\n    }\n</style>\n<table border=\"1\" class=\"dataframe\">\n  <thead>\n    <tr style=\"text-align: right;\">\n      <th></th>\n      <th>english</th>\n      <th>platforms</th>\n      <th>required_age</th>\n      <th>achievements</th>\n      <th>positive_ratings</th>\n      <th>negative_ratings</th>\n      <th>average_playtime</th>\n      <th>median_playtime</th>\n      <th>owners</th>\n      <th>price</th>\n      <th>...</th>\n      <th>singleplayer</th>\n      <th>story_rich</th>\n      <th>strategy</th>\n      <th>third_person</th>\n      <th>S_Hours</th>\n      <th>PC 1</th>\n      <th>PC 2</th>\n      <th>PC 3</th>\n      <th>GameName</th>\n      <th>Class</th>\n    </tr>\n    <tr>\n      <th>Game</th>\n      <th></th>\n      <th></th>\n      <th></th>\n      <th></th>\n      <th></th>\n      <th></th>\n      <th></th>\n      <th></th>\n      <th></th>\n      <th></th>\n      <th></th>\n      <th></th>\n      <th></th>\n      <th></th>\n      <th></th>\n      <th></th>\n      <th></th>\n      <th></th>\n      <th></th>\n      <th></th>\n      <th></th>\n    </tr>\n  </thead>\n  <tbody>\n    <tr>\n      <th>halflife 2</th>\n      <td>1</td>\n      <td>windows;mac;linux</td>\n      <td>0</td>\n      <td>33</td>\n      <td>67902</td>\n      <td>2419</td>\n      <td>691</td>\n      <td>402</td>\n      <td>10000000-20000000</td>\n      <td>7.19</td>\n      <td>...</td>\n      <td>1315</td>\n      <td>1116</td>\n      <td>0</td>\n      <td>0</td>\n      <td>2357</td>\n      <td>1.322007</td>\n      <td>-2.160761</td>\n      <td>4.236159</td>\n      <td>halflife 2</td>\n      <td>0</td>\n    </tr>\n    <tr>\n      <th>team fortress 2</th>\n      <td>1</td>\n      <td>windows;mac;linux</td>\n      <td>0</td>\n      <td>520</td>\n      <td>515879</td>\n      <td>34036</td>\n      <td>8495</td>\n      <td>623</td>\n      <td>20000000-50000000</td>\n      <td>0.00</td>\n      <td>...</td>\n      <td>0</td>\n      <td>0</td>\n      <td>0</td>\n      <td>0</td>\n      <td>25296</td>\n      <td>7.944082</td>\n      <td>1.674750</td>\n      <td>10.956902</td>\n      <td>team fortress 2</td>\n      <td>4</td>\n    </tr>\n    <tr>\n      <th>left 4 dead</th>\n      <td>1</td>\n      <td>windows;mac</td>\n      <td>0</td>\n      <td>73</td>\n      <td>17951</td>\n      <td>948</td>\n      <td>897</td>\n      <td>278</td>\n      <td>5000000-10000000</td>\n      <td>7.19</td>\n      <td>...</td>\n      <td>246</td>\n      <td>0</td>\n      <td>0</td>\n      <td>0</td>\n      <td>1143</td>\n      <td>-0.384497</td>\n      <td>-0.147614</td>\n      <td>2.432445</td>\n      <td>left 4 dead</td>\n      <td>0</td>\n    </tr>\n    <tr>\n      <th>left 4 dead 2</th>\n      <td>1</td>\n      <td>windows;mac;linux</td>\n      <td>0</td>\n      <td>70</td>\n      <td>251789</td>\n      <td>8418</td>\n      <td>1615</td>\n      <td>566</td>\n      <td>10000000-20000000</td>\n      <td>7.19</td>\n      <td>...</td>\n      <td>947</td>\n      <td>0</td>\n      <td>0</td>\n      <td>0</td>\n      <td>15441</td>\n      <td>3.003480</td>\n      <td>-0.451062</td>\n      <td>4.204484</td>\n      <td>left 4 dead 2</td>\n      <td>0</td>\n    </tr>\n    <tr>\n      <th>dota 2</th>\n      <td>1</td>\n      <td>windows;mac;linux</td>\n      <td>0</td>\n      <td>0</td>\n      <td>863507</td>\n      <td>142079</td>\n      <td>23944</td>\n      <td>801</td>\n      <td>100000000-200000000</td>\n      <td>0.00</td>\n      <td>...</td>\n      <td>0</td>\n      <td>0</td>\n      <td>8242</td>\n      <td>0</td>\n      <td>433397</td>\n      <td>17.317037</td>\n      <td>12.646220</td>\n      <td>-2.955201</td>\n      <td>dota 2</td>\n      <td>4</td>\n    </tr>\n    <tr>\n      <th>portal 2</th>\n      <td>1</td>\n      <td>windows;mac;linux</td>\n      <td>0</td>\n      <td>51</td>\n      <td>138220</td>\n      <td>1891</td>\n      <td>1102</td>\n      <td>520</td>\n      <td>10000000-20000000</td>\n      <td>7.19</td>\n      <td>...</td>\n      <td>1849</td>\n      <td>1084</td>\n      <td>650</td>\n      <td>0</td>\n      <td>7278</td>\n      <td>2.542998</td>\n      <td>-2.584143</td>\n      <td>3.824731</td>\n      <td>portal 2</td>\n      <td>0</td>\n    </tr>\n    <tr>\n      <th>counterstrike global offensive</th>\n      <td>1</td>\n      <td>windows;mac;linux</td>\n      <td>0</td>\n      <td>167</td>\n      <td>2644404</td>\n      <td>402313</td>\n      <td>22494</td>\n      <td>6502</td>\n      <td>50000000-100000000</td>\n      <td>0.00</td>\n      <td>...</td>\n      <td>0</td>\n      <td>0</td>\n      <td>5573</td>\n      <td>0</td>\n      <td>830105</td>\n      <td>35.131677</td>\n      <td>19.680187</td>\n      <td>2.958302</td>\n      <td>counterstrike global offensive</td>\n      <td>3</td>\n    </tr>\n    <tr>\n      <th>vampire the masquerade bloodlines</th>\n      <td>1</td>\n      <td>windows</td>\n      <td>0</td>\n      <td>0</td>\n      <td>6161</td>\n      <td>362</td>\n      <td>350</td>\n      <td>202</td>\n      <td>500000-1000000</td>\n      <td>14.99</td>\n      <td>...</td>\n      <td>355</td>\n      <td>217</td>\n      <td>0</td>\n      <td>102</td>\n      <td>625</td>\n      <td>-1.609306</td>\n      <td>-0.153068</td>\n      <td>0.233009</td>\n      <td>vampire the masquerade bloodlines</td>\n      <td>0</td>\n    </tr>\n    <tr>\n      <th>call of duty 2</th>\n      <td>1</td>\n      <td>windows;mac</td>\n      <td>0</td>\n      <td>0</td>\n      <td>2434</td>\n      <td>236</td>\n      <td>750</td>\n      <td>1041</td>\n      <td>200000-500000</td>\n      <td>14.99</td>\n      <td>...</td>\n      <td>107</td>\n      <td>10</td>\n      <td>0</td>\n      <td>0</td>\n      <td>898</td>\n      <td>-1.773221</td>\n      <td>0.376580</td>\n      <td>1.467255</td>\n      <td>call of duty 2</td>\n      <td>0</td>\n    </tr>\n    <tr>\n      <th>condemned criminal origins</th>\n      <td>1</td>\n      <td>windows</td>\n      <td>18</td>\n      <td>0</td>\n      <td>1243</td>\n      <td>221</td>\n      <td>312</td>\n      <td>312</td>\n      <td>200000-500000</td>\n      <td>9.99</td>\n      <td>...</td>\n      <td>36</td>\n      <td>9</td>\n      <td>0</td>\n      <td>0</td>\n      <td>723</td>\n      <td>-1.908744</td>\n      <td>0.506874</td>\n      <td>-0.360208</td>\n      <td>condemned criminal origins</td>\n      <td>2</td>\n    </tr>\n  </tbody>\n</table>\n<p>10 rows × 51 columns</p>\n</div>",
      "text/plain": "                                   english          platforms  required_age  \\\nGame                                                                          \nhalflife 2                               1  windows;mac;linux             0   \nteam fortress 2                          1  windows;mac;linux             0   \nleft 4 dead                              1        windows;mac             0   \nleft 4 dead 2                            1  windows;mac;linux             0   \ndota 2                                   1  windows;mac;linux             0   \nportal 2                                 1  windows;mac;linux             0   \ncounterstrike global offensive           1  windows;mac;linux             0   \nvampire the masquerade bloodlines        1            windows             0   \ncall of duty 2                           1        windows;mac             0   \ncondemned criminal origins               1            windows            18   \n\n                                   achievements  positive_ratings  \\\nGame                                                                \nhalflife 2                                   33             67902   \nteam fortress 2                             520            515879   \nleft 4 dead                                  73             17951   \nleft 4 dead 2                                70            251789   \ndota 2                                        0            863507   \nportal 2                                     51            138220   \ncounterstrike global offensive              167           2644404   \nvampire the masquerade bloodlines             0              6161   \ncall of duty 2                                0              2434   \ncondemned criminal origins                    0              1243   \n\n                                   negative_ratings  average_playtime  \\\nGame                                                                    \nhalflife 2                                     2419               691   \nteam fortress 2                               34036              8495   \nleft 4 dead                                     948               897   \nleft 4 dead 2                                  8418              1615   \ndota 2                                       142079             23944   \nportal 2                                       1891              1102   \ncounterstrike global offensive               402313             22494   \nvampire the masquerade bloodlines               362               350   \ncall of duty 2                                  236               750   \ncondemned criminal origins                      221               312   \n\n                                   median_playtime               owners  \\\nGame                                                                      \nhalflife 2                                     402    10000000-20000000   \nteam fortress 2                                623    20000000-50000000   \nleft 4 dead                                    278     5000000-10000000   \nleft 4 dead 2                                  566    10000000-20000000   \ndota 2                                         801  100000000-200000000   \nportal 2                                       520    10000000-20000000   \ncounterstrike global offensive                6502   50000000-100000000   \nvampire the masquerade bloodlines              202       500000-1000000   \ncall of duty 2                                1041        200000-500000   \ncondemned criminal origins                     312        200000-500000   \n\n                                   price  ...  singleplayer  story_rich  \\\nGame                                      ...                             \nhalflife 2                          7.19  ...          1315        1116   \nteam fortress 2                     0.00  ...             0           0   \nleft 4 dead                         7.19  ...           246           0   \nleft 4 dead 2                       7.19  ...           947           0   \ndota 2                              0.00  ...             0           0   \nportal 2                            7.19  ...          1849        1084   \ncounterstrike global offensive      0.00  ...             0           0   \nvampire the masquerade bloodlines  14.99  ...           355         217   \ncall of duty 2                     14.99  ...           107          10   \ncondemned criminal origins          9.99  ...            36           9   \n\n                                   strategy  third_person  S_Hours       PC 1  \\\nGame                                                                            \nhalflife 2                                0             0     2357   1.322007   \nteam fortress 2                           0             0    25296   7.944082   \nleft 4 dead                               0             0     1143  -0.384497   \nleft 4 dead 2                             0             0    15441   3.003480   \ndota 2                                 8242             0   433397  17.317037   \nportal 2                                650             0     7278   2.542998   \ncounterstrike global offensive         5573             0   830105  35.131677   \nvampire the masquerade bloodlines         0           102      625  -1.609306   \ncall of duty 2                            0             0      898  -1.773221   \ncondemned criminal origins                0             0      723  -1.908744   \n\n                                        PC 2       PC 3  \\\nGame                                                      \nhalflife 2                         -2.160761   4.236159   \nteam fortress 2                     1.674750  10.956902   \nleft 4 dead                        -0.147614   2.432445   \nleft 4 dead 2                      -0.451062   4.204484   \ndota 2                             12.646220  -2.955201   \nportal 2                           -2.584143   3.824731   \ncounterstrike global offensive     19.680187   2.958302   \nvampire the masquerade bloodlines  -0.153068   0.233009   \ncall of duty 2                      0.376580   1.467255   \ncondemned criminal origins          0.506874  -0.360208   \n\n                                                            GameName  Class  \nGame                                                                         \nhalflife 2                                                halflife 2      0  \nteam fortress 2                                      team fortress 2      4  \nleft 4 dead                                              left 4 dead      0  \nleft 4 dead 2                                          left 4 dead 2      0  \ndota 2                                                        dota 2      4  \nportal 2                                                    portal 2      0  \ncounterstrike global offensive        counterstrike global offensive      3  \nvampire the masquerade bloodlines  vampire the masquerade bloodlines      0  \ncall of duty 2                                        call of duty 2      0  \ncondemned criminal origins                condemned criminal origins      2  \n\n[10 rows x 51 columns]"
     },
     "execution_count": 257,
     "metadata": {},
     "output_type": "execute_result"
    }
   ],
   "source": [
    "# Create a new DataFrame including predicted clusters and cryptocurrencies features.\n",
    "# Concatentate the crypto_df and pcs_df DataFrames on the same columns.\n",
    "clustered_df = pd.concat([df_new,pcs_df],axis=1)\n",
    "\n",
    "#  Add a new column, \"CoinName\" to the clustered_df DataFrame that holds the names of the cryptocurrencies. \n",
    "clustered_df[\"GameName\"]=game_names_df\n",
    "\n",
    "#  Add a new column, \"Class\" to the clustered_df DataFrame that holds the predictions.\n",
    "clustered_df[\"Class\"] = model.labels_\n",
    "\n",
    "# Print the shape of the clustered_df\n",
    "print(clustered_df.shape)\n",
    "clustered_df.head(10)"
   ]
  },
  {
   "cell_type": "code",
   "execution_count": 258,
   "metadata": {},
   "outputs": [
    {
     "data": {
      "application/vnd.plotly.v1+json": {
       "config": {
        "plotlyServerURL": "https://plot.ly"
       },
       "data": [
        {
         "customdata": [
          [
           "halflife 2",
           2357
          ],
          [
           "left 4 dead",
           1143
          ],
          [
           "left 4 dead 2",
           15441
          ],
          [
           "portal 2",
           7278
          ],
          [
           "vampire the masquerade bloodlines",
           625
          ],
          [
           "call of duty 2",
           898
          ],
          [
           "star wars jedi knight ii jedi outcast",
           277
          ],
          [
           "hitman blood money",
           860
          ],
          [
           "deus ex",
           606
          ],
          [
           "call of duty 4 modern warfare",
           5273
          ],
          [
           "eve online",
           9751
          ],
          [
           "bioshock infinite",
           2858
          ],
          [
           "sid meiers civilization v",
           11711
          ],
          [
           "doom 3",
           1981
          ],
          [
           "call of duty modern warfare 2",
           6427
          ],
          [
           "grand theft auto iii",
           1118
          ],
          [
           "grand theft auto vice city",
           1719
          ],
          [
           "grand theft auto san andreas",
           10551
          ],
          [
           "grand theft auto iv",
           2666
          ],
          [
           "overlord ii",
           167
          ],
          [
           "prince of persia the sands of time",
           330
          ],
          [
           "mirrors edge",
           1528
          ],
          [
           "mass effect",
           3208
          ],
          [
           "dead space",
           2307
          ],
          [
           "the witcher",
           4100
          ],
          [
           "the witcher",
           4100
          ],
          [
           "the witcher 2 assassins of kings",
           2569
          ],
          [
           "bionic commando rearmed",
           32
          ],
          [
           "fallout 3",
           4723
          ],
          [
           "the elder scrolls iii morrowind",
           1819
          ],
          [
           "the elder scrolls iv oblivion",
           1723
          ],
          [
           "fallout new vegas",
           4993
          ],
          [
           "battlefield bad company 2",
           1081
          ],
          [
           "mass effect 2",
           8299
          ],
          [
           "star wars knights of the old republic",
           812
          ],
          [
           "rift",
           7707
          ],
          [
           "mafia",
           1074
          ],
          [
           "stalker call of pripyat",
           1670
          ],
          [
           "dead space 2",
           2629
          ],
          [
           "mount blade warband",
           5236
          ],
          [
           "borderlands 2",
           21849
          ],
          [
           "mafia ii",
           2506
          ],
          [
           "amnesia the dark descent",
           4310
          ],
          [
           "vvvvvv",
           297
          ],
          [
           "orcs must die",
           6827
          ],
          [
           "owlboy",
           4865
          ],
          [
           "batman arkham city",
           985
          ],
          [
           "orcs must die 2",
           485
          ],
          [
           "wolfenstein the new order",
           1893
          ],
          [
           "hitman absolution",
           1512
          ],
          [
           "crusader kings ii",
           3163
          ],
          [
           "dishonored",
           2206
          ],
          [
           "everquest",
           10371
          ],
          [
           "speedrunners",
           2336
          ],
          [
           "star wars knights of the old republic ii the sith lords",
           1152
          ],
          [
           "starbound",
           20908
          ],
          [
           "ftl faster than light",
           3598
          ],
          [
           "south park the stick of truth",
           3150
          ],
          [
           "alien isolation",
           11799
          ],
          [
           "guacamelee",
           168
          ],
          [
           "planetside 2",
           13700
          ],
          [
           "grim dawn",
           8944
          ],
          [
           "kerbal space program",
           11554
          ],
          [
           "brothers a tale of two sons",
           703
          ],
          [
           "euro truck simulator 2",
           47937
          ],
          [
           "company of heroes 2",
           7386
          ],
          [
           "war thunder",
           24090
          ],
          [
           "dark souls ii",
           6900
          ],
          [
           "europa universalis iv",
           6157
          ],
          [
           "deus ex human revolution",
           567
          ],
          [
           "outlast",
           16863
          ],
          [
           "battleblock theater",
           2041
          ],
          [
           "path of exile",
           63038
          ],
          [
           "papers please",
           2447
          ],
          [
           "nuclear throne",
           5744
          ],
          [
           "freedom planet",
           358
          ],
          [
           "the binding of isaac rebirth",
           7787
          ],
          [
           "rocket league",
           151028
          ],
          [
           "cities skylines",
           8602
          ],
          [
           "hyper light drifter",
           11517
          ],
          [
           "darkest dungeon",
           33174
          ],
          [
           "this war of mine",
           5831
          ],
          [
           "soma",
           4496
          ],
          [
           "metro 2033",
           4965
          ],
          [
           "metro last light",
           1309
          ],
          [
           "metal gear solid v the phantom pain",
           35966
          ],
          [
           "sid meiers civilization vi",
           110
          ],
          [
           "pillars of eternity",
           4619
          ],
          [
           "dirt rally",
           22621
          ],
          [
           "microsoft flight simulator x",
           14216
          ],
          [
           "superhot",
           4797
          ],
          [
           "tales from the borderlands",
           3140
          ],
          [
           "black mesa",
           7369
          ],
          [
           "hollow knight",
           6216
          ],
          [
           "divinity original sin",
           2092
          ],
          [
           "doom",
           19742
          ],
          [
           "ori and the blind forest",
           7448
          ],
          [
           "ori and the blind forest",
           7448
          ],
          [
           "rise of the tomb raider",
           32074
          ],
          [
           "bioshock",
           3650
          ],
          [
           "hex shards of fate",
           3917
          ],
          [
           "stardew valley",
           11046
          ],
          [
           "danganronpa trigger happy havoc",
           2708
          ],
          [
           "devil daggers",
           1297
          ],
          [
           "slime rancher",
           2240
          ],
          [
           "night in the woods",
           3291
          ],
          [
           "planet coaster",
           3206
          ],
          [
           "what remains of edith finch",
           769
          ],
          [
           "dead cells",
           29167
          ],
          [
           "into the breach",
           5069
          ],
          [
           "paradigm",
           816
          ],
          [
           "doki doki literature club",
           16821
          ],
          [
           "mark of the ninja",
           341
          ]
         ],
         "hovertemplate": "<b>%{hovertext}</b><br><br>Class=%{marker.color}<br>PC 1=%{x}<br>PC 2=%{y}<br>PC 3=%{z}<br>GameName=%{customdata[0]}<br>S_Hours=%{customdata[1]}<extra></extra>",
         "hovertext": [
          "halflife 2",
          "left 4 dead",
          "left 4 dead 2",
          "portal 2",
          "vampire the masquerade bloodlines",
          "call of duty 2",
          "star wars jedi knight ii jedi outcast",
          "hitman blood money",
          "deus ex",
          "call of duty 4 modern warfare",
          "eve online",
          "bioshock infinite",
          "sid meiers civilization v",
          "doom 3",
          "call of duty modern warfare 2",
          "grand theft auto iii",
          "grand theft auto vice city",
          "grand theft auto san andreas",
          "grand theft auto iv",
          "overlord ii",
          "prince of persia the sands of time",
          "mirrors edge",
          "mass effect",
          "dead space",
          "the witcher",
          "the witcher",
          "the witcher 2 assassins of kings",
          "bionic commando rearmed",
          "fallout 3",
          "the elder scrolls iii morrowind",
          "the elder scrolls iv oblivion",
          "fallout new vegas",
          "battlefield bad company 2",
          "mass effect 2",
          "star wars knights of the old republic",
          "rift",
          "mafia",
          "stalker call of pripyat",
          "dead space 2",
          "mount blade warband",
          "borderlands 2",
          "mafia ii",
          "amnesia the dark descent",
          "vvvvvv",
          "orcs must die",
          "owlboy",
          "batman arkham city",
          "orcs must die 2",
          "wolfenstein the new order",
          "hitman absolution",
          "crusader kings ii",
          "dishonored",
          "everquest",
          "speedrunners",
          "star wars knights of the old republic ii the sith lords",
          "starbound",
          "ftl faster than light",
          "south park the stick of truth",
          "alien isolation",
          "guacamelee",
          "planetside 2",
          "grim dawn",
          "kerbal space program",
          "brothers a tale of two sons",
          "euro truck simulator 2",
          "company of heroes 2",
          "war thunder",
          "dark souls ii",
          "europa universalis iv",
          "deus ex human revolution",
          "outlast",
          "battleblock theater",
          "path of exile",
          "papers please",
          "nuclear throne",
          "freedom planet",
          "the binding of isaac rebirth",
          "rocket league",
          "cities skylines",
          "hyper light drifter",
          "darkest dungeon",
          "this war of mine",
          "soma",
          "metro 2033",
          "metro last light",
          "metal gear solid v the phantom pain",
          "sid meiers civilization vi",
          "pillars of eternity",
          "dirt rally",
          "microsoft flight simulator x",
          "superhot",
          "tales from the borderlands",
          "black mesa",
          "hollow knight",
          "divinity original sin",
          "doom",
          "ori and the blind forest",
          "ori and the blind forest",
          "rise of the tomb raider",
          "bioshock",
          "hex shards of fate",
          "stardew valley",
          "danganronpa trigger happy havoc",
          "devil daggers",
          "slime rancher",
          "night in the woods",
          "planet coaster",
          "what remains of edith finch",
          "dead cells",
          "into the breach",
          "paradigm",
          "doki doki literature club",
          "mark of the ninja"
         ],
         "legendgroup": "0",
         "marker": {
          "color": [
           0,
           0,
           0,
           0,
           0,
           0,
           0,
           0,
           0,
           0,
           0,
           0,
           0,
           0,
           0,
           0,
           0,
           0,
           0,
           0,
           0,
           0,
           0,
           0,
           0,
           0,
           0,
           0,
           0,
           0,
           0,
           0,
           0,
           0,
           0,
           0,
           0,
           0,
           0,
           0,
           0,
           0,
           0,
           0,
           0,
           0,
           0,
           0,
           0,
           0,
           0,
           0,
           0,
           0,
           0,
           0,
           0,
           0,
           0,
           0,
           0,
           0,
           0,
           0,
           0,
           0,
           0,
           0,
           0,
           0,
           0,
           0,
           0,
           0,
           0,
           0,
           0,
           0,
           0,
           0,
           0,
           0,
           0,
           0,
           0,
           0,
           0,
           0,
           0,
           0,
           0,
           0,
           0,
           0,
           0,
           0,
           0,
           0,
           0,
           0,
           0,
           0,
           0,
           0,
           0,
           0,
           0,
           0,
           0,
           0,
           0,
           0,
           0
          ],
          "coloraxis": "coloraxis",
          "symbol": "circle"
         },
         "mode": "markers",
         "name": "0",
         "scene": "scene",
         "showlegend": true,
         "type": "scatter3d",
         "x": [
          1.3220066704010265,
          -0.3844971294115457,
          3.003479701532067,
          2.5429979351120733,
          -1.6093059796562381,
          -1.773220751393697,
          -1.5428250698635912,
          -1.567701451429713,
          -0.9736123881488241,
          -1.0207405402488103,
          -0.8810320709809274,
          0.7233244860062025,
          1.0443713308251996,
          -1.5166587855346843,
          -0.37003648618993534,
          -0.9177340434010667,
          -0.7437221808179241,
          -0.1122649280632549,
          -0.08230394133910945,
          -1.6227269021695903,
          -1.5431318233848033,
          -0.5327863985591644,
          -0.9639235740998318,
          -1.1904678221723093,
          -0.7638875265721533,
          -0.895829467213472,
          0.34335126033315877,
          -1.7900736774786876,
          -1.0557665623896555,
          -0.4314450729251362,
          -0.5622600600202113,
          1.0014589166623002,
          -0.8906745003877821,
          -0.6929812503258694,
          -1.0042266515417542,
          -1.182998401333211,
          -1.6368519316439571,
          -0.8183772884847584,
          -1.261479907459835,
          0.1380023870485017,
          2.7254074829030928,
          -0.8678559456032434,
          -0.9463007240097563,
          -1.2201405827227194,
          -1.4088446697074781,
          -1.441128755915789,
          -0.47601291860330813,
          -1.354400575948532,
          -0.615490336259937,
          -1.083350185093337,
          -0.970776398100655,
          0.00014472767102311743,
          -1.6067515313824567,
          -1.2896127685776368,
          -1.402508550173976,
          1.876884472603486,
          0.062064668943586934,
          -0.5481430865706324,
          -0.5641458067348102,
          -1.339812619915996,
          0.0982904171818844,
          -0.8277946080346188,
          0.2255759250428304,
          -0.8966789460875029,
          1.7528288661187816,
          -0.43935854416184783,
          0.7237531610132771,
          1.1642723442943272,
          -0.3398381057530787,
          -0.4916387597803909,
          -0.26315448189989693,
          -0.32693799115986166,
          1.2138204447682488,
          -0.914478984275635,
          -1.0286534522658923,
          -1.4502776755489704,
          0.26686879027785687,
          2.931119062553291,
          -0.30485650161757516,
          -0.8168134485923102,
          0.2208514749206919,
          -0.8663780890250978,
          -0.9777196899397239,
          -1.0950426859841935,
          -0.9535955350741869,
          0.992280320441787,
          -0.4643701426593566,
          -0.9773973638889818,
          -1.0965139367992913,
          -1.3556950671985226,
          -0.9488109527387251,
          -1.260890840626821,
          -1.1183079079861813,
          -0.35743536861001884,
          -1.403417652102457,
          1.1272128387668925,
          -0.5696058786417539,
          -0.5772487705260199,
          0.1844545894068725,
          -1.021636899473581,
          -1.4274051404325647,
          0.8124785961691663,
          -1.460186208957161,
          -1.4469836148142508,
          -0.4901712441784737,
          -1.2394196933882822,
          -1.1785538023188242,
          -1.5035324591128023,
          -0.3554595381522403,
          -1.2378749701418654,
          -1.6018470634124282,
          -0.4420070190139301,
          -1.379077419661468
         ],
         "y": [
          -2.1607605956025706,
          -0.14761357020243787,
          -0.45106181655022,
          -2.5841431266355483,
          -0.1530676374797586,
          0.3765802977871609,
          -0.17596470950583157,
          -0.0632080483197961,
          -0.8501247806649826,
          -0.06511281769992278,
          -0.1476039973878308,
          -2.0842016043068967,
          0.5068099258639392,
          0.06498701908197425,
          -0.12703975139697726,
          -0.3285660614805713,
          -0.5995529651641278,
          -1.792974748712015,
          -1.078212670177842,
          0.5442797629559584,
          0.39320224544802124,
          -0.2051669287121101,
          -1.0769307710596494,
          -0.5665837855441265,
          -1.2559965458658213,
          -1.0378140887651768,
          -2.459646790258969,
          0.863662236750603,
          -0.5780175821764865,
          -0.7012974097470085,
          -1.5077920591270932,
          -3.208332944540651,
          -0.09866002888166173,
          -1.2310380645646242,
          -0.8802464623402899,
          0.08493833041853058,
          0.05751875146792364,
          -0.4343143949036196,
          -0.15828934005623232,
          -0.4350962221191815,
          -1.8334606502777524,
          -0.7557196999286026,
          -0.6715684891957084,
          0.5668229231623264,
          0.20997587284763242,
          0.3822674702356019,
          -0.5594698636971036,
          0.1906667251883478,
          0.009824713617640169,
          0.09153519862551866,
          0.22290668453691762,
          -1.7499549991520609,
          0.25325566766133845,
          0.3882982484618978,
          -0.0863049069934474,
          -3.3816322653972937,
          -0.8601124168261255,
          -1.135505100175311,
          -0.42320176436324763,
          0.6332367890618443,
          -0.08394476343544024,
          0.11595356335425691,
          -1.1460386273041931,
          -0.394116120409963,
          -2.1685464878089395,
          0.8579362804025805,
          0.379059480210803,
          -1.7008138280358869,
          0.5708102822178361,
          -1.5055166962015563,
          -0.1563256389863328,
          0.12238952435440584,
          -0.7615850201579221,
          -0.36874769626343373,
          0.2860976895666435,
          0.9441275687610404,
          -0.5206186989297928,
          0.7179177730487332,
          -0.4112238564055058,
          0.03643539942324265,
          0.45929347112048213,
          -0.09462213367931462,
          -0.07374327585521544,
          -0.05974514106525148,
          -0.18186914626154985,
          -2.2416752497138606,
          0.6576703575707907,
          -0.03658582577926518,
          0.34065522592477004,
          0.2739584296761017,
          0.6542479543154348,
          -0.27823884883879724,
          -0.06349548294465765,
          -0.5182572424839912,
          0.06138493454442252,
          -0.48301127871509597,
          -0.3992417446160083,
          -0.4043757460531701,
          -0.8866423654165603,
          -0.34754002665633105,
          0.4846341689451964,
          -1.9884705579806141,
          0.2954170838613288,
          0.6143517337507873,
          -1.2053782769064552,
          -0.31835638344609035,
          -0.013019455889892903,
          -0.011742891773179623,
          0.5509796563215055,
          0.5670127635848166,
          0.5870736257939742,
          -1.510519937350796,
          0.32440056588881877
         ],
         "z": [
          4.236159281338381,
          2.4324450911360618,
          4.204484469142229,
          3.8247313249193726,
          0.2330091206758136,
          1.4672549614041035,
          2.7122246514472095,
          0.8893510872213254,
          1.9065798722754055,
          2.043292660849388,
          1.985697515002756,
          2.021886670588224,
          2.244927018279014,
          1.4197607838873525,
          1.3274702564470267,
          1.837968148101899,
          1.8948365263861857,
          1.7107845272101094,
          0.6780668082141245,
          0.7982331773394621,
          1.3024389418330717,
          0.5140527014928828,
          1.3062037197860703,
          1.207834491830317,
          1.1695995947217728,
          0.6979770544219857,
          0.7212807324755943,
          0.815005619269125,
          0.5336979685318843,
          0.7365126307074749,
          1.553424021638324,
          0.2136700061587327,
          1.327378460361736,
          0.9546699300411984,
          2.8091614321667686,
          0.7030978266510788,
          1.127184953240407,
          0.1705066517974054,
          0.5894505798889975,
          0.7304812030159161,
          2.680745253466076,
          0.14565642096861126,
          1.3072092821874137,
          1.3153323970090895,
          0.6186373076346132,
          0.4687833610806936,
          1.7738277781253888,
          0.6016889708928136,
          -0.11420892377762386,
          0.3103120469052869,
          1.3328452088012912,
          1.5824872486438875,
          0.9114599110899606,
          1.0092140470817748,
          1.411938503706713,
          -0.12761942002384966,
          1.9843451797040854,
          0.045891879737493806,
          0.3516673700710128,
          1.1494762779702103,
          0.9533537728382931,
          0.16320914570493586,
          0.985740680201183,
          0.7628023866512837,
          -0.8477033334393123,
          1.0845785741334417,
          2.032632730379779,
          -0.07508668663655386,
          1.7062844037656484,
          2.0776205964559438,
          0.4879855530998149,
          1.353348422366188,
          0.9375446364191455,
          1.180861582759798,
          0.955225184737781,
          0.7516017310174771,
          1.965860018019506,
          -0.0726124365500272,
          1.419555275761941,
          0.0761282662474625,
          0.12874497511714958,
          0.780659359277248,
          0.4356235213985112,
          1.2004617918216738,
          1.4701367971898764,
          -0.255436071432763,
          0.961530593600712,
          0.5969906846525294,
          1.4102856639346304,
          0.29218527575294667,
          0.2834035018059513,
          0.959276771098107,
          2.3775447512328567,
          0.906977305676927,
          1.3376013984443473,
          -0.04920705993896816,
          0.4737968068188232,
          0.5260685624528701,
          -0.1882215917073043,
          2.5904415574483695,
          0.7861486834948787,
          0.8070239561940923,
          0.5414494008674507,
          0.6198825069262939,
          0.18868275412701796,
          0.781791827586934,
          -0.06608607276798806,
          0.33421706277007457,
          0.20890010990357966,
          0.34280008678806884,
          0.6996617276105939,
          0.03999433598624659,
          1.5871247721265274
         ]
        },
        {
         "customdata": [
          [
           "team fortress 2",
           25296
          ],
          [
           "dota 2",
           433397
          ],
          [
           "payday 2",
           19865
          ],
          [
           "playerunknowns battlegrounds",
           743
          ]
         ],
         "hovertemplate": "<b>%{hovertext}</b><br><br>Class=%{marker.color}<br>PC 1=%{x}<br>PC 2=%{y}<br>PC 3=%{z}<br>GameName=%{customdata[0]}<br>S_Hours=%{customdata[1]}<extra></extra>",
         "hovertext": [
          "team fortress 2",
          "dota 2",
          "payday 2",
          "playerunknowns battlegrounds"
         ],
         "legendgroup": "4",
         "marker": {
          "color": [
           4,
           4,
           4,
           4
          ],
          "coloraxis": "coloraxis",
          "symbol": "diamond"
         },
         "mode": "markers",
         "name": "4",
         "scene": "scene",
         "showlegend": true,
         "type": "scatter3d",
         "x": [
          7.944081625563347,
          17.317037217698747,
          6.709352810855311,
          9.182960238711033
         ],
         "y": [
          1.6747497710344301,
          12.646220030343683,
          -0.4294208058436737,
          6.03542700570374
         ],
         "z": [
          10.956902312461034,
          -2.9552006310007464,
          7.030187706594859,
          3.2767267902305908
         ]
        },
        {
         "customdata": [
          [
           "counterstrike global offensive",
           830105
          ]
         ],
         "hovertemplate": "<b>%{hovertext}</b><br><br>Class=%{marker.color}<br>PC 1=%{x}<br>PC 2=%{y}<br>PC 3=%{z}<br>GameName=%{customdata[0]}<br>S_Hours=%{customdata[1]}<extra></extra>",
         "hovertext": [
          "counterstrike global offensive"
         ],
         "legendgroup": "3",
         "marker": {
          "color": [
           3
          ],
          "coloraxis": "coloraxis",
          "symbol": "square"
         },
         "mode": "markers",
         "name": "3",
         "scene": "scene",
         "showlegend": true,
         "type": "scatter3d",
         "x": [
          35.13167660280195
         ],
         "y": [
          19.680187467182304
         ],
         "z": [
          2.9583018105640275
         ]
        },
        {
         "customdata": [
          [
           "condemned criminal origins",
           723
          ],
          [
           "hitman 2",
           29072
          ],
          [
           "final fantasy xiv online",
           28073
          ],
          [
           "gothic ii",
           1107
          ],
          [
           "mafia",
           67181
          ],
          [
           "call of duty black ops",
           17676
          ],
          [
           "grid 2",
           1173
          ],
          [
           "devil may cry 4",
           10628
          ],
          [
           "dead rising 2",
           1988
          ],
          [
           "kingdoms of amalur reckoning",
           26492
          ],
          [
           "la noire",
           1946
          ],
          [
           "max payne 3",
           2509
          ],
          [
           "the witness",
           16728
          ],
          [
           "wreckfest",
           11441
          ],
          [
           "naruto shippuden ultimate ninja storm 3 full burst",
           782
          ],
          [
           "wasteland 2",
           1906
          ],
          [
           "trials fusion",
           4184
          ],
          [
           "dungeon of the endless",
           713
          ],
          [
           "a hat in time",
           20147
          ],
          [
           "hand of fate",
           1075
          ],
          [
           "xcom 2",
           101051
          ],
          [
           "cuphead",
           21352
          ],
          [
           "darkwood",
           5898
          ],
          [
           "stellaris",
           35360
          ],
          [
           "duelyst",
           6281
          ],
          [
           "far cry 4",
           20024
          ],
          [
           "archeage",
           6033
          ],
          [
           "inside",
           13111
          ],
          [
           "zero escape zero time dilemma",
           3755
          ],
          [
           "enter the gungeon",
           48408
          ],
          [
           "sniper elite 4",
           20330
          ],
          [
           "five nights at freddys",
           9694
          ],
          [
           "frostpunk",
           40281
          ],
          [
           "shadow warrior 2",
           14698
          ],
          [
           "dark souls ii scholar of the first sin",
           63293
          ],
          [
           "deus ex mankind divided",
           28711
          ],
          [
           "elite dangerous",
           30244
          ],
          [
           "tom clancys rainbow six siege",
           242134
          ],
          [
           "tyranny",
           6105
          ],
          [
           "total war warhammer",
           28006
          ],
          [
           "the elder scrolls legends",
           16505
          ],
          [
           "battle brothers",
           3191
          ],
          [
           "tom clancys the division",
           61799
          ],
          [
           "dragons dogma dark arisen",
           34912
          ],
          [
           "trackmania turbo",
           9840
          ],
          [
           "final fantasy ix",
           15487
          ],
          [
           "project cars 2",
           10663
          ],
          [
           "firewatch",
           28712
          ],
          [
           "abzu",
           5738
          ],
          [
           "smite",
           114041
          ],
          [
           "tekken 7",
           502
          ],
          [
           "f1 2016",
           4626
          ],
          [
           "hearts of iron iv",
           14033
          ],
          [
           "everspace",
           2611
          ],
          [
           "faeria",
           2855
          ],
          [
           "atlas reactor",
           1461
          ],
          [
           "dishonored 2",
           49624
          ],
          [
           "hellblade senuas sacrifice",
           42996
          ],
          [
           "motorsport manager",
           2338
          ],
          [
           "shadow tactics blades of the shogun",
           4900
          ],
          [
           "rising storm 2 vietnam",
           10072
          ],
          [
           "little nightmares",
           11513
          ],
          [
           "tales of berseria",
           3837
          ],
          [
           "battle chasers nightwar",
           16914
          ],
          [
           "hand of fate 2",
           14237
          ],
          [
           "bayonetta",
           9267
          ],
          [
           "vanquish",
           3074
          ],
          [
           "prey",
           1427
          ],
          [
           "nioh",
           1382
          ],
          [
           "nioh",
           391
          ],
          [
           "south park the fractured but whole",
           99180
          ],
          [
           "rime",
           3286
          ],
          [
           "arcanum of steamworks and magick obscura",
           238
          ],
          [
           "celeste",
           20863
          ],
          [
           "battlerite",
           30820
          ],
          [
           "observer",
           11766
          ],
          [
           "f1 2017",
           8322
          ],
          [
           "star trek bridge crew",
           588
          ],
          [
           "for the king",
           3301
          ],
          [
           "two point hospital",
           12475
          ],
          [
           "warhammer vermintide 2",
           14782
          ],
          [
           "far cry 5",
           191608
          ],
          [
           "world of warships",
           26471
          ],
          [
           "life is strange before the storm",
           17191
          ],
          [
           "detention",
           5696
          ],
          [
           "stories untold",
           433
          ],
          [
           "pillars of eternity ii deadfire",
           25887
          ],
          [
           "thimbleweed park",
           3268
          ],
          [
           "dark souls",
           30235
          ],
          [
           "monster hunter world",
           33277
          ],
          [
           "assassins creed origins",
           49693
          ],
          [
           "the end is nigh",
           7300
          ],
          [
           "ni no kuni ii revenant kingdom",
           40633
          ],
          [
           "the red strings club",
           657
          ],
          [
           "total war warhammer ii",
           11073
          ],
          [
           "final fantasy xii the zodiac age",
           24809
          ],
          [
           "the evil within 2",
           92347
          ],
          [
           "far lone sails",
           3483
          ],
          [
           "wolfenstein ii the new colossus",
           20024
          ],
          [
           "dishonored death of the outsider",
           6634
          ],
          [
           "football manager 2018",
           12576
          ],
          [
           "injustice 2",
           1460
          ],
          [
           "battletech",
           25209
          ],
          [
           "final fantasy xv",
           1075
          ],
          [
           "yakuza 0",
           296
          ],
          [
           "batman the enemy within",
           3302
          ],
          [
           "dragon ball fighterz",
           3005
          ],
          [
           "bridge constructor portal",
           3090
          ],
          [
           "chuchel",
           1158
          ],
          [
           "borderlands",
           80946
          ],
          [
           "the messenger",
           9522
          ],
          [
           "the awesome adventures of captain spirit",
           11897
          ]
         ],
         "hovertemplate": "<b>%{hovertext}</b><br><br>Class=%{marker.color}<br>PC 1=%{x}<br>PC 2=%{y}<br>PC 3=%{z}<br>GameName=%{customdata[0]}<br>S_Hours=%{customdata[1]}<extra></extra>",
         "hovertext": [
          "condemned criminal origins",
          "hitman 2",
          "final fantasy xiv online",
          "gothic ii",
          "mafia",
          "call of duty black ops",
          "grid 2",
          "devil may cry 4",
          "dead rising 2",
          "kingdoms of amalur reckoning",
          "la noire",
          "max payne 3",
          "the witness",
          "wreckfest",
          "naruto shippuden ultimate ninja storm 3 full burst",
          "wasteland 2",
          "trials fusion",
          "dungeon of the endless",
          "a hat in time",
          "hand of fate",
          "xcom 2",
          "cuphead",
          "darkwood",
          "stellaris",
          "duelyst",
          "far cry 4",
          "archeage",
          "inside",
          "zero escape zero time dilemma",
          "enter the gungeon",
          "sniper elite 4",
          "five nights at freddys",
          "frostpunk",
          "shadow warrior 2",
          "dark souls ii scholar of the first sin",
          "deus ex mankind divided",
          "elite dangerous",
          "tom clancys rainbow six siege",
          "tyranny",
          "total war warhammer",
          "the elder scrolls legends",
          "battle brothers",
          "tom clancys the division",
          "dragons dogma dark arisen",
          "trackmania turbo",
          "final fantasy ix",
          "project cars 2",
          "firewatch",
          "abzu",
          "smite",
          "tekken 7",
          "f1 2016",
          "hearts of iron iv",
          "everspace",
          "faeria",
          "atlas reactor",
          "dishonored 2",
          "hellblade senuas sacrifice",
          "motorsport manager",
          "shadow tactics blades of the shogun",
          "rising storm 2 vietnam",
          "little nightmares",
          "tales of berseria",
          "battle chasers nightwar",
          "hand of fate 2",
          "bayonetta",
          "vanquish",
          "prey",
          "nioh",
          "nioh",
          "south park the fractured but whole",
          "rime",
          "arcanum of steamworks and magick obscura",
          "celeste",
          "battlerite",
          "observer",
          "f1 2017",
          "star trek bridge crew",
          "for the king",
          "two point hospital",
          "warhammer vermintide 2",
          "far cry 5",
          "world of warships",
          "life is strange before the storm",
          "detention",
          "stories untold",
          "pillars of eternity ii deadfire",
          "thimbleweed park",
          "dark souls",
          "monster hunter world",
          "assassins creed origins",
          "the end is nigh",
          "ni no kuni ii revenant kingdom",
          "the red strings club",
          "total war warhammer ii",
          "final fantasy xii the zodiac age",
          "the evil within 2",
          "far lone sails",
          "wolfenstein ii the new colossus",
          "dishonored death of the outsider",
          "football manager 2018",
          "injustice 2",
          "battletech",
          "final fantasy xv",
          "yakuza 0",
          "batman the enemy within",
          "dragon ball fighterz",
          "bridge constructor portal",
          "chuchel",
          "borderlands",
          "the messenger",
          "the awesome adventures of captain spirit"
         ],
         "legendgroup": "2",
         "marker": {
          "color": [
           2,
           2,
           2,
           2,
           2,
           2,
           2,
           2,
           2,
           2,
           2,
           2,
           2,
           2,
           2,
           2,
           2,
           2,
           2,
           2,
           2,
           2,
           2,
           2,
           2,
           2,
           2,
           2,
           2,
           2,
           2,
           2,
           2,
           2,
           2,
           2,
           2,
           2,
           2,
           2,
           2,
           2,
           2,
           2,
           2,
           2,
           2,
           2,
           2,
           2,
           2,
           2,
           2,
           2,
           2,
           2,
           2,
           2,
           2,
           2,
           2,
           2,
           2,
           2,
           2,
           2,
           2,
           2,
           2,
           2,
           2,
           2,
           2,
           2,
           2,
           2,
           2,
           2,
           2,
           2,
           2,
           2,
           2,
           2,
           2,
           2,
           2,
           2,
           2,
           2,
           2,
           2,
           2,
           2,
           2,
           2,
           2,
           2,
           2,
           2,
           2,
           2,
           2,
           2,
           2,
           2,
           2,
           2,
           2,
           2,
           2,
           2
          ],
          "coloraxis": "coloraxis",
          "symbol": "x"
         },
         "mode": "markers",
         "name": "2",
         "scene": "scene",
         "showlegend": true,
         "type": "scatter3d",
         "x": [
          -1.908744230977368,
          -0.7178723715499774,
          0.4314815682130261,
          -1.832301318206714,
          0.2912180746317192,
          -0.6025786838630479,
          -1.573559386886148,
          -1.6328754811189914,
          -1.557831334325534,
          -0.8332964485558039,
          -0.9934862155448184,
          -1.186756876388812,
          -0.9079961033614787,
          -1.2723623749506079,
          -1.4439230913973025,
          -1.399163373468312,
          -1.4443831186962799,
          -1.8435628708867575,
          -1.4210524297626985,
          -1.6241206521720066,
          1.5937289943245272,
          0.18242123382517253,
          -1.5777803522977354,
          -0.17613104855493913,
          -0.24240891027970796,
          0.17538091819609358,
          -1.213979448661597,
          -0.8182906157131308,
          -1.662869504565265,
          0.10320337901085164,
          -0.8917743655548798,
          -0.8107125042614962,
          -0.20808742400213934,
          -1.155088219950965,
          0.3701933556507291,
          0.26258058949985913,
          -0.3267855368771919,
          5.714023300264063,
          -1.4452582669817813,
          0.2974789789854661,
          -1.423440522169099,
          -1.6862340873757748,
          3.1341841177392986,
          -0.1697843500702258,
          -0.9174271197985544,
          -0.9521158148383813,
          -1.6127223282684924,
          0.7059148261910742,
          -1.1990738123411389,
          1.312531040379657,
          -1.2765318393549037,
          -1.6011865319406615,
          -0.13495884291945345,
          -1.840181135184258,
          -1.310472819943183,
          -1.5157554974467191,
          0.2694653600393191,
          -0.22220634172918322,
          -1.460810466526454,
          -1.5416632218363813,
          -1.0932538019721885,
          -1.0486985381252845,
          -1.4343454518257295,
          -1.403090920129855,
          -1.305838777612886,
          -1.0351991674572276,
          -1.6724931510897785,
          -1.1472387212088726,
          -1.1798783248752363,
          -1.3488436390490806,
          0.9134878758100077,
          -1.8377433787585276,
          -2.1178293946993425,
          -0.9707446930622862,
          -0.5373683515487226,
          -1.4009752745154984,
          -1.3804147001199587,
          -1.8300260752250468,
          -1.6312857823484987,
          -1.0266250548795748,
          -0.7914318066417744,
          4.090233585026797,
          -0.9657318708323076,
          -0.6640153804653762,
          -1.2218969840691085,
          -1.8458613755698978,
          -0.8313905290689337,
          -1.5309602528325186,
          -0.5552658992420212,
          1.5445134532505655,
          0.5637929258615567,
          -1.3221280625974439,
          -0.7706815060989547,
          -1.7803338528928876,
          -0.5878089380592183,
          -1.1359790147674664,
          0.664930043383896,
          -1.7706281037304348,
          -0.5229999207235798,
          -1.5398547696730693,
          -0.13647349127382452,
          -1.6477177127735185,
          -0.9120196992221975,
          -0.6663305217471907,
          -1.3472816373307537,
          -1.7777057015381366,
          -1.2732084868053948,
          -1.7691062145727037,
          -1.845056421753734,
          -0.29304975794515903,
          -1.5817311900269861,
          -1.4316143780786748
         ],
         "y": [
          0.5068744713952367,
          0.7644691147370521,
          1.291192786658554,
          0.4039335337883247,
          1.9526919991855385,
          0.4163304497502548,
          0.5340553964170095,
          0.7979875174039305,
          0.6250092815002282,
          0.42950411651176484,
          -0.12854800451638232,
          0.26593685582642695,
          0.23224892104179637,
          0.9562395035697329,
          0.34461711502837483,
          0.46658488324397296,
          1.0695772153729857,
          0.7306357223865521,
          0.6506655545124067,
          0.7624041536772421,
          1.6869370754436839,
          0.8655678200415007,
          0.692197337044437,
          0.690436117231652,
          1.3711453791978965,
          -0.5265188724887041,
          0.33604501055552205,
          -0.08559819026717136,
          0.7519194746164555,
          1.0078596048314892,
          1.029185212469448,
          0.7117252719950067,
          1.041282746361964,
          1.022336837097618,
          0.5937873961270559,
          0.5581551255010131,
          0.09851033023790609,
          2.6125962463313033,
          0.747889135725953,
          1.1945851415901803,
          0.8669329715391899,
          0.6501840855563803,
          1.028943204139009,
          0.19794376495721563,
          1.2187239599248707,
          -0.13365065951011817,
          0.7864148431446659,
          -0.36176254366219945,
          0.22644868227737447,
          0.949505587704127,
          0.6805049731835212,
          0.5511545300156606,
          1.1433887478012403,
          0.8132646575697574,
          0.8526111714986064,
          0.5370635861557848,
          0.27518225566817917,
          0.3900847453784038,
          1.2385482582489298,
          0.5611505249646218,
          0.7994002647923427,
          0.5818557261170126,
          0.5780264108189752,
          1.1952048836452474,
          1.3129089875330426,
          -0.11739056713946797,
          0.5729522040298886,
          -0.08682815682320925,
          0.5833250400917253,
          0.5256701200010407,
          2.3016414845579076,
          0.7313305894160638,
          0.6221744624350195,
          0.6446195301191364,
          0.6207752336197425,
          0.9579062165953899,
          0.7082737943669933,
          1.0034988848487132,
          0.9421661419800356,
          1.1029212274244546,
          0.6884183153058562,
          3.7916914918187623,
          0.5646421066572878,
          -0.006599886478410158,
          0.5543604655377962,
          0.7007931329288105,
          0.9016534264022483,
          0.5666830579440514,
          0.6347480985537955,
          1.3652937893873682,
          0.959305485810607,
          0.8270317659481754,
          1.1357941971105445,
          0.6835303989324619,
          1.0107524028884647,
          0.6479499406303628,
          2.1592841545360795,
          0.769521062661275,
          0.9251275424109443,
          0.5912159581046641,
          1.8390849859493295,
          0.37684519249352433,
          1.4982592582688115,
          0.17351854633803923,
          -0.02107720743830311,
          0.9600986628595662,
          0.8859286885512931,
          1.3156385154475125,
          0.7762154987889756,
          1.3799103326194242,
          0.85180429611866,
          0.866876835687469
         ],
         "z": [
          -0.36020840998023534,
          -0.2214818307660207,
          -1.0383128547218585,
          -0.2396100026326689,
          -1.7025468791407299,
          -0.9323644657978841,
          -0.08364634633399459,
          -1.0533479249388162,
          -1.2804285692229367,
          -2.3136363181012736,
          -0.5514137917180646,
          -0.01019812647307264,
          -0.3941619034591654,
          -2.190645708368529,
          -0.18519641088757005,
          -0.7898593531217797,
          -1.0574334968999612,
          0.04865806007673883,
          -0.998696257257399,
          -0.21242360908121344,
          -1.021767939418185,
          -0.4149946876340226,
          -0.25927115552394403,
          -0.9537956553211292,
          -0.556597828493508,
          -0.5831977861659432,
          -0.6718197003153794,
          -0.7320170809700038,
          -1.137102927360814,
          -0.022727204621630553,
          -2.4156200110968964,
          -1.5560355352829751,
          -1.8750483449324402,
          -1.9836789421627032,
          -2.1012975460413594,
          -1.1196604826287944,
          -0.7765617171617086,
          -2.0281333656832916,
          -0.5079232855996892,
          -0.47819971785021237,
          -0.18571231203638047,
          -1.0606986666145275,
          -4.432115812892744,
          -1.5234879105187566,
          -1.9736296042860302,
          -0.5824443346675924,
          -1.3491678135792373,
          -1.820024420429191,
          -1.1969418370175646,
          -0.46302129957798294,
          -1.0808008266219522,
          0.16995991409419714,
          -0.377515566412331,
          -0.23388682826698481,
          -0.49378827305614476,
          0.11288002133468697,
          -1.8516510401159803,
          -2.51320842207083,
          -0.6665309137419748,
          0.0359559563842176,
          -0.7264659444421496,
          -1.6532869938922983,
          -1.759583065185878,
          -1.249927662231286,
          -1.3876946632177078,
          -0.3905216628740772,
          -1.0748343285494857,
          -0.6539926383083227,
          -0.9431271927139513,
          -0.6176810468515492,
          -4.598860275415148,
          -1.5420356670791293,
          0.06399767162450631,
          -0.024485650619126553,
          -0.33929530749941156,
          -1.4267222897152767,
          -0.13867543991363998,
          -2.0421868764296267,
          -0.24624348361865675,
          -0.9368617271159071,
          -1.3115547959816385,
          -7.259344748922432,
          -0.22580690252911587,
          -1.3918173019132558,
          -0.08192438490406116,
          0.04226829917073075,
          -0.7690834650367077,
          0.06643852877662117,
          -1.7870218548088566,
          -3.6991836569299616,
          -3.102555920631226,
          -0.16042929821922328,
          -2.980479518350203,
          0.11266535353215841,
          -0.4468849723737084,
          -2.149146518303859,
          -4.102638884633998,
          -0.7699752718601468,
          -2.346338342737688,
          -1.4685639596711475,
          -1.4540337727870445,
          -0.4961527784092945,
          -2.101908964868047,
          -1.471968782593705,
          -0.20493947368626478,
          -0.58121692715732,
          -1.6328478431878637,
          -1.0267482999724862,
          -0.263957942778443,
          -2.7049637123157284,
          -1.1451921936117007,
          -1.3882965357033241
         ]
        },
        {
         "customdata": [
          [
           "the elder scrolls v skyrim",
           32134
          ],
          [
           "terraria",
           28667
          ],
          [
           "the forest",
           10618
          ],
          [
           "subnautica",
           5619
          ],
          [
           "the witcher 3 wild hunt",
           43966
          ],
          [
           "life is strange",
           12760
          ],
          [
           "dark souls iii",
           46336
          ],
          [
           "fallout 4",
           269643
          ],
          [
           "undertale",
           25568
          ]
         ],
         "hovertemplate": "<b>%{hovertext}</b><br><br>Class=%{marker.color}<br>PC 1=%{x}<br>PC 2=%{y}<br>PC 3=%{z}<br>GameName=%{customdata[0]}<br>S_Hours=%{customdata[1]}<extra></extra>",
         "hovertext": [
          "the elder scrolls v skyrim",
          "terraria",
          "the forest",
          "subnautica",
          "the witcher 3 wild hunt",
          "life is strange",
          "dark souls iii",
          "fallout 4",
          "undertale"
         ],
         "legendgroup": "1",
         "marker": {
          "color": [
           1,
           1,
           1,
           1,
           1,
           1,
           1,
           1,
           1
          ],
          "coloraxis": "coloraxis",
          "symbol": "cross"
         },
         "mode": "markers",
         "name": "1",
         "scene": "scene",
         "showlegend": true,
         "type": "scatter3d",
         "x": [
          6.826970353484667,
          6.060543470783593,
          2.5926551162479505,
          1.8592608371884154,
          5.024443226781474,
          1.4655451339551988,
          6.083629895543862,
          10.78970461294398,
          2.605735335082429
         ],
         "y": [
          -9.822072397711475,
          -8.116687140044338,
          -4.8442751695166395,
          -5.075770929283573,
          -8.96272481639712,
          -5.102515549330392,
          -3.656076777900977,
          -9.73065644788845,
          -7.8835473414134425
         ],
         "z": [
          -1.0651158023284024,
          0.41448629138686127,
          -1.0170466467317858,
          0.7366138648637848,
          -2.0222881765941163,
          0.6438062008176756,
          -2.480641595885568,
          -4.5165032093985795,
          1.261899683376952
         ]
        },
        {
         "customdata": [
          [
           "grand theft auto v",
           407172
          ]
         ],
         "hovertemplate": "<b>%{hovertext}</b><br><br>Class=%{marker.color}<br>PC 1=%{x}<br>PC 2=%{y}<br>PC 3=%{z}<br>GameName=%{customdata[0]}<br>S_Hours=%{customdata[1]}<extra></extra>",
         "hovertext": [
          "grand theft auto v"
         ],
         "legendgroup": "5",
         "marker": {
          "color": [
           5
          ],
          "coloraxis": "coloraxis",
          "symbol": "circle"
         },
         "mode": "markers",
         "name": "5",
         "scene": "scene",
         "showlegend": true,
         "type": "scatter3d",
         "x": [
          29.175979475468512
         ],
         "y": [
          -19.61986749831944
         ],
         "z": [
          -3.8036732310884567
         ]
        }
       ],
       "layout": {
        "coloraxis": {
         "colorbar": {
          "title": {
           "text": "Class"
          }
         },
         "colorscale": [
          [
           0,
           "#0d0887"
          ],
          [
           0.1111111111111111,
           "#46039f"
          ],
          [
           0.2222222222222222,
           "#7201a8"
          ],
          [
           0.3333333333333333,
           "#9c179e"
          ],
          [
           0.4444444444444444,
           "#bd3786"
          ],
          [
           0.5555555555555556,
           "#d8576b"
          ],
          [
           0.6666666666666666,
           "#ed7953"
          ],
          [
           0.7777777777777778,
           "#fb9f3a"
          ],
          [
           0.8888888888888888,
           "#fdca26"
          ],
          [
           1,
           "#f0f921"
          ]
         ]
        },
        "legend": {
         "title": {
          "text": "Class"
         },
         "tracegroupgap": 0,
         "x": 0,
         "y": 1
        },
        "margin": {
         "t": 60
        },
        "scene": {
         "domain": {
          "x": [
           0,
           1
          ],
          "y": [
           0,
           1
          ]
         },
         "xaxis": {
          "title": {
           "text": "PC 1"
          }
         },
         "yaxis": {
          "title": {
           "text": "PC 2"
          }
         },
         "zaxis": {
          "title": {
           "text": "PC 3"
          }
         }
        },
        "template": {
         "data": {
          "bar": [
           {
            "error_x": {
             "color": "#2a3f5f"
            },
            "error_y": {
             "color": "#2a3f5f"
            },
            "marker": {
             "line": {
              "color": "#E5ECF6",
              "width": 0.5
             }
            },
            "type": "bar"
           }
          ],
          "barpolar": [
           {
            "marker": {
             "line": {
              "color": "#E5ECF6",
              "width": 0.5
             }
            },
            "type": "barpolar"
           }
          ],
          "carpet": [
           {
            "aaxis": {
             "endlinecolor": "#2a3f5f",
             "gridcolor": "white",
             "linecolor": "white",
             "minorgridcolor": "white",
             "startlinecolor": "#2a3f5f"
            },
            "baxis": {
             "endlinecolor": "#2a3f5f",
             "gridcolor": "white",
             "linecolor": "white",
             "minorgridcolor": "white",
             "startlinecolor": "#2a3f5f"
            },
            "type": "carpet"
           }
          ],
          "choropleth": [
           {
            "colorbar": {
             "outlinewidth": 0,
             "ticks": ""
            },
            "type": "choropleth"
           }
          ],
          "contour": [
           {
            "colorbar": {
             "outlinewidth": 0,
             "ticks": ""
            },
            "colorscale": [
             [
              0,
              "#0d0887"
             ],
             [
              0.1111111111111111,
              "#46039f"
             ],
             [
              0.2222222222222222,
              "#7201a8"
             ],
             [
              0.3333333333333333,
              "#9c179e"
             ],
             [
              0.4444444444444444,
              "#bd3786"
             ],
             [
              0.5555555555555556,
              "#d8576b"
             ],
             [
              0.6666666666666666,
              "#ed7953"
             ],
             [
              0.7777777777777778,
              "#fb9f3a"
             ],
             [
              0.8888888888888888,
              "#fdca26"
             ],
             [
              1,
              "#f0f921"
             ]
            ],
            "type": "contour"
           }
          ],
          "contourcarpet": [
           {
            "colorbar": {
             "outlinewidth": 0,
             "ticks": ""
            },
            "type": "contourcarpet"
           }
          ],
          "heatmap": [
           {
            "colorbar": {
             "outlinewidth": 0,
             "ticks": ""
            },
            "colorscale": [
             [
              0,
              "#0d0887"
             ],
             [
              0.1111111111111111,
              "#46039f"
             ],
             [
              0.2222222222222222,
              "#7201a8"
             ],
             [
              0.3333333333333333,
              "#9c179e"
             ],
             [
              0.4444444444444444,
              "#bd3786"
             ],
             [
              0.5555555555555556,
              "#d8576b"
             ],
             [
              0.6666666666666666,
              "#ed7953"
             ],
             [
              0.7777777777777778,
              "#fb9f3a"
             ],
             [
              0.8888888888888888,
              "#fdca26"
             ],
             [
              1,
              "#f0f921"
             ]
            ],
            "type": "heatmap"
           }
          ],
          "heatmapgl": [
           {
            "colorbar": {
             "outlinewidth": 0,
             "ticks": ""
            },
            "colorscale": [
             [
              0,
              "#0d0887"
             ],
             [
              0.1111111111111111,
              "#46039f"
             ],
             [
              0.2222222222222222,
              "#7201a8"
             ],
             [
              0.3333333333333333,
              "#9c179e"
             ],
             [
              0.4444444444444444,
              "#bd3786"
             ],
             [
              0.5555555555555556,
              "#d8576b"
             ],
             [
              0.6666666666666666,
              "#ed7953"
             ],
             [
              0.7777777777777778,
              "#fb9f3a"
             ],
             [
              0.8888888888888888,
              "#fdca26"
             ],
             [
              1,
              "#f0f921"
             ]
            ],
            "type": "heatmapgl"
           }
          ],
          "histogram": [
           {
            "marker": {
             "colorbar": {
              "outlinewidth": 0,
              "ticks": ""
             }
            },
            "type": "histogram"
           }
          ],
          "histogram2d": [
           {
            "colorbar": {
             "outlinewidth": 0,
             "ticks": ""
            },
            "colorscale": [
             [
              0,
              "#0d0887"
             ],
             [
              0.1111111111111111,
              "#46039f"
             ],
             [
              0.2222222222222222,
              "#7201a8"
             ],
             [
              0.3333333333333333,
              "#9c179e"
             ],
             [
              0.4444444444444444,
              "#bd3786"
             ],
             [
              0.5555555555555556,
              "#d8576b"
             ],
             [
              0.6666666666666666,
              "#ed7953"
             ],
             [
              0.7777777777777778,
              "#fb9f3a"
             ],
             [
              0.8888888888888888,
              "#fdca26"
             ],
             [
              1,
              "#f0f921"
             ]
            ],
            "type": "histogram2d"
           }
          ],
          "histogram2dcontour": [
           {
            "colorbar": {
             "outlinewidth": 0,
             "ticks": ""
            },
            "colorscale": [
             [
              0,
              "#0d0887"
             ],
             [
              0.1111111111111111,
              "#46039f"
             ],
             [
              0.2222222222222222,
              "#7201a8"
             ],
             [
              0.3333333333333333,
              "#9c179e"
             ],
             [
              0.4444444444444444,
              "#bd3786"
             ],
             [
              0.5555555555555556,
              "#d8576b"
             ],
             [
              0.6666666666666666,
              "#ed7953"
             ],
             [
              0.7777777777777778,
              "#fb9f3a"
             ],
             [
              0.8888888888888888,
              "#fdca26"
             ],
             [
              1,
              "#f0f921"
             ]
            ],
            "type": "histogram2dcontour"
           }
          ],
          "mesh3d": [
           {
            "colorbar": {
             "outlinewidth": 0,
             "ticks": ""
            },
            "type": "mesh3d"
           }
          ],
          "parcoords": [
           {
            "line": {
             "colorbar": {
              "outlinewidth": 0,
              "ticks": ""
             }
            },
            "type": "parcoords"
           }
          ],
          "pie": [
           {
            "automargin": true,
            "type": "pie"
           }
          ],
          "scatter": [
           {
            "marker": {
             "colorbar": {
              "outlinewidth": 0,
              "ticks": ""
             }
            },
            "type": "scatter"
           }
          ],
          "scatter3d": [
           {
            "line": {
             "colorbar": {
              "outlinewidth": 0,
              "ticks": ""
             }
            },
            "marker": {
             "colorbar": {
              "outlinewidth": 0,
              "ticks": ""
             }
            },
            "type": "scatter3d"
           }
          ],
          "scattercarpet": [
           {
            "marker": {
             "colorbar": {
              "outlinewidth": 0,
              "ticks": ""
             }
            },
            "type": "scattercarpet"
           }
          ],
          "scattergeo": [
           {
            "marker": {
             "colorbar": {
              "outlinewidth": 0,
              "ticks": ""
             }
            },
            "type": "scattergeo"
           }
          ],
          "scattergl": [
           {
            "marker": {
             "colorbar": {
              "outlinewidth": 0,
              "ticks": ""
             }
            },
            "type": "scattergl"
           }
          ],
          "scattermapbox": [
           {
            "marker": {
             "colorbar": {
              "outlinewidth": 0,
              "ticks": ""
             }
            },
            "type": "scattermapbox"
           }
          ],
          "scatterpolar": [
           {
            "marker": {
             "colorbar": {
              "outlinewidth": 0,
              "ticks": ""
             }
            },
            "type": "scatterpolar"
           }
          ],
          "scatterpolargl": [
           {
            "marker": {
             "colorbar": {
              "outlinewidth": 0,
              "ticks": ""
             }
            },
            "type": "scatterpolargl"
           }
          ],
          "scatterternary": [
           {
            "marker": {
             "colorbar": {
              "outlinewidth": 0,
              "ticks": ""
             }
            },
            "type": "scatterternary"
           }
          ],
          "surface": [
           {
            "colorbar": {
             "outlinewidth": 0,
             "ticks": ""
            },
            "colorscale": [
             [
              0,
              "#0d0887"
             ],
             [
              0.1111111111111111,
              "#46039f"
             ],
             [
              0.2222222222222222,
              "#7201a8"
             ],
             [
              0.3333333333333333,
              "#9c179e"
             ],
             [
              0.4444444444444444,
              "#bd3786"
             ],
             [
              0.5555555555555556,
              "#d8576b"
             ],
             [
              0.6666666666666666,
              "#ed7953"
             ],
             [
              0.7777777777777778,
              "#fb9f3a"
             ],
             [
              0.8888888888888888,
              "#fdca26"
             ],
             [
              1,
              "#f0f921"
             ]
            ],
            "type": "surface"
           }
          ],
          "table": [
           {
            "cells": {
             "fill": {
              "color": "#EBF0F8"
             },
             "line": {
              "color": "white"
             }
            },
            "header": {
             "fill": {
              "color": "#C8D4E3"
             },
             "line": {
              "color": "white"
             }
            },
            "type": "table"
           }
          ]
         },
         "layout": {
          "annotationdefaults": {
           "arrowcolor": "#2a3f5f",
           "arrowhead": 0,
           "arrowwidth": 1
          },
          "autotypenumbers": "strict",
          "coloraxis": {
           "colorbar": {
            "outlinewidth": 0,
            "ticks": ""
           }
          },
          "colorscale": {
           "diverging": [
            [
             0,
             "#8e0152"
            ],
            [
             0.1,
             "#c51b7d"
            ],
            [
             0.2,
             "#de77ae"
            ],
            [
             0.3,
             "#f1b6da"
            ],
            [
             0.4,
             "#fde0ef"
            ],
            [
             0.5,
             "#f7f7f7"
            ],
            [
             0.6,
             "#e6f5d0"
            ],
            [
             0.7,
             "#b8e186"
            ],
            [
             0.8,
             "#7fbc41"
            ],
            [
             0.9,
             "#4d9221"
            ],
            [
             1,
             "#276419"
            ]
           ],
           "sequential": [
            [
             0,
             "#0d0887"
            ],
            [
             0.1111111111111111,
             "#46039f"
            ],
            [
             0.2222222222222222,
             "#7201a8"
            ],
            [
             0.3333333333333333,
             "#9c179e"
            ],
            [
             0.4444444444444444,
             "#bd3786"
            ],
            [
             0.5555555555555556,
             "#d8576b"
            ],
            [
             0.6666666666666666,
             "#ed7953"
            ],
            [
             0.7777777777777778,
             "#fb9f3a"
            ],
            [
             0.8888888888888888,
             "#fdca26"
            ],
            [
             1,
             "#f0f921"
            ]
           ],
           "sequentialminus": [
            [
             0,
             "#0d0887"
            ],
            [
             0.1111111111111111,
             "#46039f"
            ],
            [
             0.2222222222222222,
             "#7201a8"
            ],
            [
             0.3333333333333333,
             "#9c179e"
            ],
            [
             0.4444444444444444,
             "#bd3786"
            ],
            [
             0.5555555555555556,
             "#d8576b"
            ],
            [
             0.6666666666666666,
             "#ed7953"
            ],
            [
             0.7777777777777778,
             "#fb9f3a"
            ],
            [
             0.8888888888888888,
             "#fdca26"
            ],
            [
             1,
             "#f0f921"
            ]
           ]
          },
          "colorway": [
           "#636efa",
           "#EF553B",
           "#00cc96",
           "#ab63fa",
           "#FFA15A",
           "#19d3f3",
           "#FF6692",
           "#B6E880",
           "#FF97FF",
           "#FECB52"
          ],
          "font": {
           "color": "#2a3f5f"
          },
          "geo": {
           "bgcolor": "white",
           "lakecolor": "white",
           "landcolor": "#E5ECF6",
           "showlakes": true,
           "showland": true,
           "subunitcolor": "white"
          },
          "hoverlabel": {
           "align": "left"
          },
          "hovermode": "closest",
          "mapbox": {
           "style": "light"
          },
          "paper_bgcolor": "white",
          "plot_bgcolor": "#E5ECF6",
          "polar": {
           "angularaxis": {
            "gridcolor": "white",
            "linecolor": "white",
            "ticks": ""
           },
           "bgcolor": "#E5ECF6",
           "radialaxis": {
            "gridcolor": "white",
            "linecolor": "white",
            "ticks": ""
           }
          },
          "scene": {
           "xaxis": {
            "backgroundcolor": "#E5ECF6",
            "gridcolor": "white",
            "gridwidth": 2,
            "linecolor": "white",
            "showbackground": true,
            "ticks": "",
            "zerolinecolor": "white"
           },
           "yaxis": {
            "backgroundcolor": "#E5ECF6",
            "gridcolor": "white",
            "gridwidth": 2,
            "linecolor": "white",
            "showbackground": true,
            "ticks": "",
            "zerolinecolor": "white"
           },
           "zaxis": {
            "backgroundcolor": "#E5ECF6",
            "gridcolor": "white",
            "gridwidth": 2,
            "linecolor": "white",
            "showbackground": true,
            "ticks": "",
            "zerolinecolor": "white"
           }
          },
          "shapedefaults": {
           "line": {
            "color": "#2a3f5f"
           }
          },
          "ternary": {
           "aaxis": {
            "gridcolor": "white",
            "linecolor": "white",
            "ticks": ""
           },
           "baxis": {
            "gridcolor": "white",
            "linecolor": "white",
            "ticks": ""
           },
           "bgcolor": "#E5ECF6",
           "caxis": {
            "gridcolor": "white",
            "linecolor": "white",
            "ticks": ""
           }
          },
          "title": {
           "x": 0.05
          },
          "xaxis": {
           "automargin": true,
           "gridcolor": "white",
           "linecolor": "white",
           "ticks": "",
           "title": {
            "standoff": 15
           },
           "zerolinecolor": "white",
           "zerolinewidth": 2
          },
          "yaxis": {
           "automargin": true,
           "gridcolor": "white",
           "linecolor": "white",
           "ticks": "",
           "title": {
            "standoff": 15
           },
           "zerolinecolor": "white",
           "zerolinewidth": 2
          }
         }
        },
        "width": 800
       }
      }
     },
     "metadata": {},
     "output_type": "display_data"
    }
   ],
   "source": [
    "# Creating a 3D-Scatter with the PCA data and the clusters\n",
    "\n",
    "fig = px.scatter_3d(\n",
    "    clustered_df,\n",
    "    x=\"PC 1\",\n",
    "    y=\"PC 2\",\n",
    "    z=\"PC 3\",\n",
    "    color=\"Class\",\n",
    "    symbol=\"Class\",\n",
    "    width=800,\n",
    "    hover_name=\"GameName\",\n",
    "    hover_data=[\"GameName\",\"S_Hours\"]\n",
    "    )\n",
    "fig.update_layout(legend=dict(x=0,y=1))\n",
    "fig.show()"
   ]
  }
 ],
 "metadata": {
  "kernelspec": {
   "display_name": "Python 3.7.9 64-bit ('PythonData': conda)",
   "name": "python379jvsc74a57bd0b0fa347580f6b5744895e324c059a722d46aa951281bb8db79f6de8594b072e0"
  },
  "language_info": {
   "codemirror_mode": {
    "name": "ipython",
    "version": 3
   },
   "file_extension": ".py",
   "mimetype": "text/x-python",
   "name": "python",
   "nbconvert_exporter": "python",
   "pygments_lexer": "ipython3",
   "version": "3.7.9"
  }
 },
 "nbformat": 4,
 "nbformat_minor": 4
}