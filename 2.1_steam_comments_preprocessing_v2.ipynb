{
 "metadata": {
  "language_info": {
   "codemirror_mode": {
    "name": "ipython",
    "version": 3
   },
   "file_extension": ".py",
   "mimetype": "text/x-python",
   "name": "python",
   "nbconvert_exporter": "python",
   "pygments_lexer": "ipython3",
   "version": "3.6.8"
  },
  "orig_nbformat": 2,
  "kernelspec": {
   "name": "python368jvsc74a57bd0361fc911a978f5bb4a8b5da503390c92993de73f05684b43cbfb6730cbc1a2c5",
   "display_name": "Python 3.6.8 64-bit"
  },
  "metadata": {
   "interpreter": {
    "hash": "361fc911a978f5bb4a8b5da503390c92993de73f05684b43cbfb6730cbc1a2c5"
   }
  }
 },
 "nbformat": 4,
 "nbformat_minor": 2,
 "cells": [
  {
   "cell_type": "code",
   "execution_count": 1,
   "metadata": {},
   "outputs": [],
   "source": [
    "import pandas as pd"
   ]
  },
  {
   "cell_type": "code",
   "execution_count": 3,
   "metadata": {},
   "outputs": [],
   "source": [
    "df = pd.read_csv('steam_reviews.csv')"
   ]
  },
  {
   "cell_type": "code",
   "execution_count": 4,
   "metadata": {},
   "outputs": [
    {
     "output_type": "execute_result",
     "data": {
      "text/plain": [
       "   Unnamed: 0  app_id                  app_name  review_id  language  \\\n",
       "0           0  292030  The Witcher 3: Wild Hunt   85185598  schinese   \n",
       "1           1  292030  The Witcher 3: Wild Hunt   85185250  schinese   \n",
       "2           2  292030  The Witcher 3: Wild Hunt   85185111  schinese   \n",
       "3           3  292030  The Witcher 3: Wild Hunt   85184605   english   \n",
       "4           4  292030  The Witcher 3: Wild Hunt   85184287  schinese   \n",
       "5           5  292030  The Witcher 3: Wild Hunt   85184171   english   \n",
       "6           6  292030  The Witcher 3: Wild Hunt   85184064   english   \n",
       "7           7  292030  The Witcher 3: Wild Hunt   85183602   turkish   \n",
       "8           8  292030  The Witcher 3: Wild Hunt   85183227  schinese   \n",
       "9           9  292030  The Witcher 3: Wild Hunt   85182785   spanish   \n",
       "\n",
       "                                              review  timestamp_created  \\\n",
       "0                            不玩此生遗憾，RPG游戏里的天花板，太吸引人了         1611381629   \n",
       "1                                 拔DIAO无情打桩机--杰洛特!!!         1611381030   \n",
       "2                                              巫师3NB         1611380800   \n",
       "3  One of the best RPG's of all time, worthy of a...         1611379970   \n",
       "4                                                 大作         1611379427   \n",
       "5             good story, good graphics. lots to do.         1611379264   \n",
       "6                                           dis gud,         1611379091   \n",
       "7                                                .\\n         1611378312   \n",
       "8                                   年度最佳的作品，没啥好夸的，神作         1611377703   \n",
       "9                                         great game         1611377005   \n",
       "\n",
       "   timestamp_updated  recommended  votes_helpful  ...  steam_purchase  \\\n",
       "0         1611381629         True              0  ...            True   \n",
       "1         1611381030         True              0  ...            True   \n",
       "2         1611380800         True              0  ...            True   \n",
       "3         1611379970         True              0  ...            True   \n",
       "4         1611379427         True              0  ...            True   \n",
       "5         1611379264         True              0  ...            True   \n",
       "6         1611379091         True              0  ...            True   \n",
       "7         1611378312         True              0  ...            True   \n",
       "8         1611377703         True              0  ...            True   \n",
       "9         1611377005         True              0  ...            True   \n",
       "\n",
       "   received_for_free  written_during_early_access     author.steamid  \\\n",
       "0              False                        False  76561199095369542   \n",
       "1              False                        False  76561198949504115   \n",
       "2              False                        False  76561199090098988   \n",
       "3              False                        False  76561199054755373   \n",
       "4              False                        False  76561199028326951   \n",
       "5              False                        False  76561198170193529   \n",
       "6              False                        False  76561198119302812   \n",
       "7              False                        False  76561199084188849   \n",
       "8              False                        False  76561198130808993   \n",
       "9              False                        False  76561198301724112   \n",
       "\n",
       "   author.num_games_owned  author.num_reviews  author.playtime_forever  \\\n",
       "0                       6                   2                   1909.0   \n",
       "1                      30                  10                   2764.0   \n",
       "2                       5                   1                   1061.0   \n",
       "3                       5                   3                   5587.0   \n",
       "4                       7                   4                    217.0   \n",
       "5                      11                   1                    823.0   \n",
       "6                      27                   2                   4192.0   \n",
       "7                       9                   1                   2701.0   \n",
       "8                     581                  17                   6921.0   \n",
       "9                      38                   5                   2399.0   \n",
       "\n",
       "   author.playtime_last_two_weeks  author.playtime_at_review  \\\n",
       "0                          1448.0                     1909.0   \n",
       "1                          2743.0                     2674.0   \n",
       "2                          1061.0                     1060.0   \n",
       "3                          3200.0                     5524.0   \n",
       "4                            42.0                      217.0   \n",
       "5                           823.0                      823.0   \n",
       "6                          3398.0                     4192.0   \n",
       "7                             0.0                     2701.0   \n",
       "8                           222.0                     6921.0   \n",
       "9                           333.0                     2364.0   \n",
       "\n",
       "   author.last_played  \n",
       "0        1.611343e+09  \n",
       "1        1.611386e+09  \n",
       "2        1.611384e+09  \n",
       "3        1.611384e+09  \n",
       "4        1.610788e+09  \n",
       "5        1.611379e+09  \n",
       "6        1.611352e+09  \n",
       "7        1.609671e+09  \n",
       "8        1.611317e+09  \n",
       "9        1.611379e+09  \n",
       "\n",
       "[10 rows x 23 columns]"
      ],
      "text/html": "<div>\n<style scoped>\n    .dataframe tbody tr th:only-of-type {\n        vertical-align: middle;\n    }\n\n    .dataframe tbody tr th {\n        vertical-align: top;\n    }\n\n    .dataframe thead th {\n        text-align: right;\n    }\n</style>\n<table border=\"1\" class=\"dataframe\">\n  <thead>\n    <tr style=\"text-align: right;\">\n      <th></th>\n      <th>Unnamed: 0</th>\n      <th>app_id</th>\n      <th>app_name</th>\n      <th>review_id</th>\n      <th>language</th>\n      <th>review</th>\n      <th>timestamp_created</th>\n      <th>timestamp_updated</th>\n      <th>recommended</th>\n      <th>votes_helpful</th>\n      <th>...</th>\n      <th>steam_purchase</th>\n      <th>received_for_free</th>\n      <th>written_during_early_access</th>\n      <th>author.steamid</th>\n      <th>author.num_games_owned</th>\n      <th>author.num_reviews</th>\n      <th>author.playtime_forever</th>\n      <th>author.playtime_last_two_weeks</th>\n      <th>author.playtime_at_review</th>\n      <th>author.last_played</th>\n    </tr>\n  </thead>\n  <tbody>\n    <tr>\n      <th>0</th>\n      <td>0</td>\n      <td>292030</td>\n      <td>The Witcher 3: Wild Hunt</td>\n      <td>85185598</td>\n      <td>schinese</td>\n      <td>不玩此生遗憾，RPG游戏里的天花板，太吸引人了</td>\n      <td>1611381629</td>\n      <td>1611381629</td>\n      <td>True</td>\n      <td>0</td>\n      <td>...</td>\n      <td>True</td>\n      <td>False</td>\n      <td>False</td>\n      <td>76561199095369542</td>\n      <td>6</td>\n      <td>2</td>\n      <td>1909.0</td>\n      <td>1448.0</td>\n      <td>1909.0</td>\n      <td>1.611343e+09</td>\n    </tr>\n    <tr>\n      <th>1</th>\n      <td>1</td>\n      <td>292030</td>\n      <td>The Witcher 3: Wild Hunt</td>\n      <td>85185250</td>\n      <td>schinese</td>\n      <td>拔DIAO无情打桩机--杰洛特!!!</td>\n      <td>1611381030</td>\n      <td>1611381030</td>\n      <td>True</td>\n      <td>0</td>\n      <td>...</td>\n      <td>True</td>\n      <td>False</td>\n      <td>False</td>\n      <td>76561198949504115</td>\n      <td>30</td>\n      <td>10</td>\n      <td>2764.0</td>\n      <td>2743.0</td>\n      <td>2674.0</td>\n      <td>1.611386e+09</td>\n    </tr>\n    <tr>\n      <th>2</th>\n      <td>2</td>\n      <td>292030</td>\n      <td>The Witcher 3: Wild Hunt</td>\n      <td>85185111</td>\n      <td>schinese</td>\n      <td>巫师3NB</td>\n      <td>1611380800</td>\n      <td>1611380800</td>\n      <td>True</td>\n      <td>0</td>\n      <td>...</td>\n      <td>True</td>\n      <td>False</td>\n      <td>False</td>\n      <td>76561199090098988</td>\n      <td>5</td>\n      <td>1</td>\n      <td>1061.0</td>\n      <td>1061.0</td>\n      <td>1060.0</td>\n      <td>1.611384e+09</td>\n    </tr>\n    <tr>\n      <th>3</th>\n      <td>3</td>\n      <td>292030</td>\n      <td>The Witcher 3: Wild Hunt</td>\n      <td>85184605</td>\n      <td>english</td>\n      <td>One of the best RPG's of all time, worthy of a...</td>\n      <td>1611379970</td>\n      <td>1611379970</td>\n      <td>True</td>\n      <td>0</td>\n      <td>...</td>\n      <td>True</td>\n      <td>False</td>\n      <td>False</td>\n      <td>76561199054755373</td>\n      <td>5</td>\n      <td>3</td>\n      <td>5587.0</td>\n      <td>3200.0</td>\n      <td>5524.0</td>\n      <td>1.611384e+09</td>\n    </tr>\n    <tr>\n      <th>4</th>\n      <td>4</td>\n      <td>292030</td>\n      <td>The Witcher 3: Wild Hunt</td>\n      <td>85184287</td>\n      <td>schinese</td>\n      <td>大作</td>\n      <td>1611379427</td>\n      <td>1611379427</td>\n      <td>True</td>\n      <td>0</td>\n      <td>...</td>\n      <td>True</td>\n      <td>False</td>\n      <td>False</td>\n      <td>76561199028326951</td>\n      <td>7</td>\n      <td>4</td>\n      <td>217.0</td>\n      <td>42.0</td>\n      <td>217.0</td>\n      <td>1.610788e+09</td>\n    </tr>\n    <tr>\n      <th>5</th>\n      <td>5</td>\n      <td>292030</td>\n      <td>The Witcher 3: Wild Hunt</td>\n      <td>85184171</td>\n      <td>english</td>\n      <td>good story, good graphics. lots to do.</td>\n      <td>1611379264</td>\n      <td>1611379264</td>\n      <td>True</td>\n      <td>0</td>\n      <td>...</td>\n      <td>True</td>\n      <td>False</td>\n      <td>False</td>\n      <td>76561198170193529</td>\n      <td>11</td>\n      <td>1</td>\n      <td>823.0</td>\n      <td>823.0</td>\n      <td>823.0</td>\n      <td>1.611379e+09</td>\n    </tr>\n    <tr>\n      <th>6</th>\n      <td>6</td>\n      <td>292030</td>\n      <td>The Witcher 3: Wild Hunt</td>\n      <td>85184064</td>\n      <td>english</td>\n      <td>dis gud,</td>\n      <td>1611379091</td>\n      <td>1611379091</td>\n      <td>True</td>\n      <td>0</td>\n      <td>...</td>\n      <td>True</td>\n      <td>False</td>\n      <td>False</td>\n      <td>76561198119302812</td>\n      <td>27</td>\n      <td>2</td>\n      <td>4192.0</td>\n      <td>3398.0</td>\n      <td>4192.0</td>\n      <td>1.611352e+09</td>\n    </tr>\n    <tr>\n      <th>7</th>\n      <td>7</td>\n      <td>292030</td>\n      <td>The Witcher 3: Wild Hunt</td>\n      <td>85183602</td>\n      <td>turkish</td>\n      <td>.\\n</td>\n      <td>1611378312</td>\n      <td>1611378312</td>\n      <td>True</td>\n      <td>0</td>\n      <td>...</td>\n      <td>True</td>\n      <td>False</td>\n      <td>False</td>\n      <td>76561199084188849</td>\n      <td>9</td>\n      <td>1</td>\n      <td>2701.0</td>\n      <td>0.0</td>\n      <td>2701.0</td>\n      <td>1.609671e+09</td>\n    </tr>\n    <tr>\n      <th>8</th>\n      <td>8</td>\n      <td>292030</td>\n      <td>The Witcher 3: Wild Hunt</td>\n      <td>85183227</td>\n      <td>schinese</td>\n      <td>年度最佳的作品，没啥好夸的，神作</td>\n      <td>1611377703</td>\n      <td>1611377703</td>\n      <td>True</td>\n      <td>0</td>\n      <td>...</td>\n      <td>True</td>\n      <td>False</td>\n      <td>False</td>\n      <td>76561198130808993</td>\n      <td>581</td>\n      <td>17</td>\n      <td>6921.0</td>\n      <td>222.0</td>\n      <td>6921.0</td>\n      <td>1.611317e+09</td>\n    </tr>\n    <tr>\n      <th>9</th>\n      <td>9</td>\n      <td>292030</td>\n      <td>The Witcher 3: Wild Hunt</td>\n      <td>85182785</td>\n      <td>spanish</td>\n      <td>great game</td>\n      <td>1611377005</td>\n      <td>1611377005</td>\n      <td>True</td>\n      <td>0</td>\n      <td>...</td>\n      <td>True</td>\n      <td>False</td>\n      <td>False</td>\n      <td>76561198301724112</td>\n      <td>38</td>\n      <td>5</td>\n      <td>2399.0</td>\n      <td>333.0</td>\n      <td>2364.0</td>\n      <td>1.611379e+09</td>\n    </tr>\n  </tbody>\n</table>\n<p>10 rows × 23 columns</p>\n</div>"
     },
     "metadata": {},
     "execution_count": 4
    }
   ],
   "source": [
    "df.head(10)"
   ]
  },
  {
   "cell_type": "code",
   "execution_count": 5,
   "metadata": {},
   "outputs": [],
   "source": [
    "df.drop(df.columns[0], axis=1, inplace=True)"
   ]
  },
  {
   "cell_type": "code",
   "execution_count": 6,
   "metadata": {},
   "outputs": [
    {
     "output_type": "execute_result",
     "data": {
      "text/plain": [
       "0   2021-01-23 06:00:29\n",
       "1   2021-01-23 05:50:30\n",
       "2   2021-01-23 05:46:40\n",
       "3   2021-01-23 05:32:50\n",
       "4   2021-01-23 05:23:47\n",
       "5   2021-01-23 05:21:04\n",
       "6   2021-01-23 05:18:11\n",
       "7   2021-01-23 05:05:12\n",
       "8   2021-01-23 04:55:03\n",
       "9   2021-01-23 04:43:25\n",
       "Name: time, dtype: datetime64[ns]"
      ]
     },
     "metadata": {},
     "execution_count": 6
    }
   ],
   "source": [
    "df['time']=pd.to_datetime(df['timestamp_created'],unit='s')\n",
    "df['time'].head(10)"
   ]
  },
  {
   "cell_type": "code",
   "execution_count": 7,
   "metadata": {},
   "outputs": [
    {
     "output_type": "execute_result",
     "data": {
      "text/plain": [
       "Timestamp('2021-01-23 18:24:47')"
      ]
     },
     "metadata": {},
     "execution_count": 7
    }
   ],
   "source": [
    "df['time'].max()"
   ]
  },
  {
   "cell_type": "code",
   "execution_count": 8,
   "metadata": {},
   "outputs": [
    {
     "output_type": "execute_result",
     "data": {
      "text/plain": [
       "Timestamp('2010-11-19 20:17:16')"
      ]
     },
     "metadata": {},
     "execution_count": 8
    }
   ],
   "source": [
    "df['time'].min()"
   ]
  },
  {
   "cell_type": "code",
   "execution_count": 9,
   "metadata": {},
   "outputs": [],
   "source": [
    "# Grouping all the comments by month\n",
    "counter = df.groupby([pd.Grouper(key=\"time\", freq=\"1M\", origin='2011-01-01'),pd.Grouper('app_id')])"
   ]
  },
  {
   "cell_type": "code",
   "execution_count": 10,
   "metadata": {},
   "outputs": [
    {
     "output_type": "execute_result",
     "data": {
      "text/plain": [
       "Index(['app_id', 'app_name', 'review_id', 'language', 'review',\n",
       "       'timestamp_created', 'timestamp_updated', 'recommended',\n",
       "       'votes_helpful', 'votes_funny', 'weighted_vote_score', 'comment_count',\n",
       "       'steam_purchase', 'received_for_free', 'written_during_early_access',\n",
       "       'author.steamid', 'author.num_games_owned', 'author.num_reviews',\n",
       "       'author.playtime_forever', 'author.playtime_last_two_weeks',\n",
       "       'author.playtime_at_review', 'author.last_played', 'time'],\n",
       "      dtype='object')"
      ]
     },
     "metadata": {},
     "execution_count": 10
    }
   ],
   "source": [
    "df.columns"
   ]
  },
  {
   "cell_type": "code",
   "execution_count": 11,
   "metadata": {},
   "outputs": [],
   "source": [
    "review = counter.count()['review']"
   ]
  },
  {
   "cell_type": "code",
   "execution_count": 12,
   "metadata": {},
   "outputs": [],
   "source": [
    "playtime_at_review = counter.mean()['author.playtime_at_review']"
   ]
  },
  {
   "cell_type": "code",
   "execution_count": 13,
   "metadata": {},
   "outputs": [],
   "source": [
    "voted_up = counter.mean()['recommended']"
   ]
  },
  {
   "cell_type": "code",
   "execution_count": 14,
   "metadata": {},
   "outputs": [
    {
     "output_type": "execute_result",
     "data": {
      "text/plain": [
       "                    review      playtime  voted_up\n",
       "time       app_id                                 \n",
       "2010-11-30 70           20   1214.894737  1.000000\n",
       "           240         139  50557.539568  1.000000\n",
       "           420          19    826.666667  1.000000\n",
       "           4000        219  66743.876712  0.995434\n",
       "           8930         28  13162.214286  1.000000\n",
       "...                    ...           ...       ...\n",
       "2021-01-31 1225330    1932   3552.997419  0.446051\n",
       "           1229490     611    475.193126  1.000000\n",
       "           1240210     962    384.567568  0.974012\n",
       "           1289310    1864    178.344051  0.965702\n",
       "           1291340     427    241.918033  0.960187\n",
       "\n",
       "[15735 rows x 3 columns]"
      ],
      "text/html": "<div>\n<style scoped>\n    .dataframe tbody tr th:only-of-type {\n        vertical-align: middle;\n    }\n\n    .dataframe tbody tr th {\n        vertical-align: top;\n    }\n\n    .dataframe thead th {\n        text-align: right;\n    }\n</style>\n<table border=\"1\" class=\"dataframe\">\n  <thead>\n    <tr style=\"text-align: right;\">\n      <th></th>\n      <th></th>\n      <th>review</th>\n      <th>playtime</th>\n      <th>voted_up</th>\n    </tr>\n    <tr>\n      <th>time</th>\n      <th>app_id</th>\n      <th></th>\n      <th></th>\n      <th></th>\n    </tr>\n  </thead>\n  <tbody>\n    <tr>\n      <th rowspan=\"5\" valign=\"top\">2010-11-30</th>\n      <th>70</th>\n      <td>20</td>\n      <td>1214.894737</td>\n      <td>1.000000</td>\n    </tr>\n    <tr>\n      <th>240</th>\n      <td>139</td>\n      <td>50557.539568</td>\n      <td>1.000000</td>\n    </tr>\n    <tr>\n      <th>420</th>\n      <td>19</td>\n      <td>826.666667</td>\n      <td>1.000000</td>\n    </tr>\n    <tr>\n      <th>4000</th>\n      <td>219</td>\n      <td>66743.876712</td>\n      <td>0.995434</td>\n    </tr>\n    <tr>\n      <th>8930</th>\n      <td>28</td>\n      <td>13162.214286</td>\n      <td>1.000000</td>\n    </tr>\n    <tr>\n      <th>...</th>\n      <th>...</th>\n      <td>...</td>\n      <td>...</td>\n      <td>...</td>\n    </tr>\n    <tr>\n      <th rowspan=\"5\" valign=\"top\">2021-01-31</th>\n      <th>1225330</th>\n      <td>1932</td>\n      <td>3552.997419</td>\n      <td>0.446051</td>\n    </tr>\n    <tr>\n      <th>1229490</th>\n      <td>611</td>\n      <td>475.193126</td>\n      <td>1.000000</td>\n    </tr>\n    <tr>\n      <th>1240210</th>\n      <td>962</td>\n      <td>384.567568</td>\n      <td>0.974012</td>\n    </tr>\n    <tr>\n      <th>1289310</th>\n      <td>1864</td>\n      <td>178.344051</td>\n      <td>0.965702</td>\n    </tr>\n    <tr>\n      <th>1291340</th>\n      <td>427</td>\n      <td>241.918033</td>\n      <td>0.960187</td>\n    </tr>\n  </tbody>\n</table>\n<p>15735 rows × 3 columns</p>\n</div>"
     },
     "metadata": {},
     "execution_count": 14
    }
   ],
   "source": [
    "df_flat = pd.DataFrame({'review':review, 'playtime': playtime_at_review, 'voted_up': voted_up})\n",
    "df_flat"
   ]
  },
  {
   "cell_type": "code",
   "execution_count": 15,
   "metadata": {},
   "outputs": [],
   "source": [
    "# save the dataframe to a csv file\n",
    "df_flat.to_csv('steam_per_month_review_a1.csv', encoding = \"utf-8\")"
   ]
  },
  {
   "cell_type": "code",
   "execution_count": null,
   "metadata": {},
   "outputs": [],
   "source": []
  }
 ]
}