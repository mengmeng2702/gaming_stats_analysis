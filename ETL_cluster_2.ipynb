{
 "cells": [
  {
   "cell_type": "code",
   "execution_count": 41,
   "metadata": {},
   "outputs": [],
   "source": [
    "import pandas as pd\n",
    "import hvplot.pandas\n",
    "from path import Path\n",
    "import plotly.express as px\n",
    "from sklearn.preprocessing import StandardScaler, MinMaxScaler\n",
    "from sklearn.decomposition import PCA\n",
    "from sklearn.cluster import KMeans\n"
   ]
  },
  {
   "cell_type": "code",
   "execution_count": 42,
   "metadata": {},
   "outputs": [],
   "source": [
    "# have the warnings removed\n",
    "import warnings\n",
    "warnings.filterwarnings('ignore')"
   ]
  },
  {
   "cell_type": "code",
   "execution_count": 43,
   "metadata": {},
   "outputs": [],
   "source": [
    "file = pd.read_csv(\"https://raw.githubusercontent.com/mengmeng2702/gaming_stats_analysis/working_T/for_ml_model.csv\")"
   ]
  },
  {
   "cell_type": "code",
   "execution_count": 44,
   "metadata": {},
   "outputs": [
    {
     "data": {
      "text/html": "<div>\n<style scoped>\n    .dataframe tbody tr th:only-of-type {\n        vertical-align: middle;\n    }\n\n    .dataframe tbody tr th {\n        vertical-align: top;\n    }\n\n    .dataframe thead th {\n        text-align: right;\n    }\n</style>\n<table border=\"1\" class=\"dataframe\">\n  <thead>\n    <tr style=\"text-align: right;\">\n      <th></th>\n      <th>Unnamed: 0</th>\n      <th>st_appid</th>\n      <th>Game</th>\n      <th>st_release_date</th>\n      <th>st_english</th>\n      <th>st_developer</th>\n      <th>st_publisher</th>\n      <th>st_required_age</th>\n      <th>st_achievements</th>\n      <th>st_positive_ratings</th>\n      <th>...</th>\n      <th>st_spy_replay_value</th>\n      <th>st_spy_sandbox</th>\n      <th>st_spy_shooter</th>\n      <th>st_spy_simulation</th>\n      <th>st_spy_singleplayer</th>\n      <th>st_spy_story_rich</th>\n      <th>st_spy_strategy</th>\n      <th>st_spy_tactical</th>\n      <th>st_spy_team_based</th>\n      <th>st_spy_third_person</th>\n    </tr>\n  </thead>\n  <tbody>\n    <tr>\n      <th>0</th>\n      <td>0</td>\n      <td>220</td>\n      <td>halflife 2</td>\n      <td>2004-11-16</td>\n      <td>1</td>\n      <td>Valve</td>\n      <td>Valve</td>\n      <td>0</td>\n      <td>33</td>\n      <td>67902</td>\n      <td>...</td>\n      <td>0</td>\n      <td>0</td>\n      <td>1049</td>\n      <td>0</td>\n      <td>1315</td>\n      <td>1116</td>\n      <td>0</td>\n      <td>0</td>\n      <td>0</td>\n      <td>0</td>\n    </tr>\n    <tr>\n      <th>1</th>\n      <td>1</td>\n      <td>220</td>\n      <td>halflife 2</td>\n      <td>2004-11-16</td>\n      <td>1</td>\n      <td>Valve</td>\n      <td>Valve</td>\n      <td>0</td>\n      <td>33</td>\n      <td>67902</td>\n      <td>...</td>\n      <td>0</td>\n      <td>0</td>\n      <td>1049</td>\n      <td>0</td>\n      <td>1315</td>\n      <td>1116</td>\n      <td>0</td>\n      <td>0</td>\n      <td>0</td>\n      <td>0</td>\n    </tr>\n    <tr>\n      <th>2</th>\n      <td>2</td>\n      <td>220</td>\n      <td>halflife 2</td>\n      <td>2004-11-16</td>\n      <td>1</td>\n      <td>Valve</td>\n      <td>Valve</td>\n      <td>0</td>\n      <td>33</td>\n      <td>67902</td>\n      <td>...</td>\n      <td>0</td>\n      <td>0</td>\n      <td>1049</td>\n      <td>0</td>\n      <td>1315</td>\n      <td>1116</td>\n      <td>0</td>\n      <td>0</td>\n      <td>0</td>\n      <td>0</td>\n    </tr>\n    <tr>\n      <th>3</th>\n      <td>3</td>\n      <td>440</td>\n      <td>team fortress 2</td>\n      <td>2007-10-10</td>\n      <td>1</td>\n      <td>Valve</td>\n      <td>Valve</td>\n      <td>0</td>\n      <td>520</td>\n      <td>515879</td>\n      <td>...</td>\n      <td>0</td>\n      <td>0</td>\n      <td>7857</td>\n      <td>0</td>\n      <td>0</td>\n      <td>0</td>\n      <td>0</td>\n      <td>2726</td>\n      <td>5363</td>\n      <td>0</td>\n    </tr>\n    <tr>\n      <th>4</th>\n      <td>4</td>\n      <td>440</td>\n      <td>team fortress 2</td>\n      <td>2007-10-10</td>\n      <td>1</td>\n      <td>Valve</td>\n      <td>Valve</td>\n      <td>0</td>\n      <td>520</td>\n      <td>515879</td>\n      <td>...</td>\n      <td>0</td>\n      <td>0</td>\n      <td>7857</td>\n      <td>0</td>\n      <td>0</td>\n      <td>0</td>\n      <td>0</td>\n      <td>2726</td>\n      <td>5363</td>\n      <td>0</td>\n    </tr>\n  </tbody>\n</table>\n<p>5 rows × 58 columns</p>\n</div>",
      "text/plain": "   Unnamed: 0  st_appid             Game st_release_date  st_english  \\\n0           0       220       halflife 2      2004-11-16           1   \n1           1       220       halflife 2      2004-11-16           1   \n2           2       220       halflife 2      2004-11-16           1   \n3           3       440  team fortress 2      2007-10-10           1   \n4           4       440  team fortress 2      2007-10-10           1   \n\n  st_developer st_publisher  st_required_age  st_achievements  \\\n0        Valve        Valve                0               33   \n1        Valve        Valve                0               33   \n2        Valve        Valve                0               33   \n3        Valve        Valve                0              520   \n4        Valve        Valve                0              520   \n\n   st_positive_ratings  ...  st_spy_replay_value  st_spy_sandbox  \\\n0                67902  ...                    0               0   \n1                67902  ...                    0               0   \n2                67902  ...                    0               0   \n3               515879  ...                    0               0   \n4               515879  ...                    0               0   \n\n   st_spy_shooter st_spy_simulation  st_spy_singleplayer  st_spy_story_rich  \\\n0            1049                 0                 1315               1116   \n1            1049                 0                 1315               1116   \n2            1049                 0                 1315               1116   \n3            7857                 0                    0                  0   \n4            7857                 0                    0                  0   \n\n   st_spy_strategy  st_spy_tactical  st_spy_team_based  st_spy_third_person  \n0                0                0                  0                    0  \n1                0                0                  0                    0  \n2                0                0                  0                    0  \n3                0             2726               5363                    0  \n4                0             2726               5363                    0  \n\n[5 rows x 58 columns]"
     },
     "execution_count": 44,
     "metadata": {},
     "output_type": "execute_result"
    }
   ],
   "source": [
    "\n",
    "df = pd.DataFrame(data=file)\n",
    "df.head()"
   ]
  },
  {
   "cell_type": "code",
   "execution_count": 45,
   "metadata": {},
   "outputs": [
    {
     "name": "stdout",
     "output_type": "stream",
     "text": [
      "Unnamed: 0\n",
      "st_appid\n",
      "Game\n",
      "st_release_date\n",
      "st_english\n",
      "st_developer\n",
      "st_publisher\n",
      "st_required_age\n",
      "st_achievements\n",
      "st_positive_ratings\n",
      "st_negative_ratings\n",
      "st_average_playtime\n",
      "st_median_playtime\n",
      "st_owners\n",
      "st_price\n",
      "meta_Year\n",
      "meta_Metascore\n",
      "meta_Avg_Userscore\n",
      "tw_Rank\n",
      "tw_Month\n",
      "tw_Year\n",
      "tw_Hours_watched\n",
      "tw_Hours_Streamed\n",
      "tw_Peak_viewers\n",
      "tw_Peak_channels\n",
      "tw_Streamers\n",
      "tw_Avg_viewers\n",
      "tw_Avg_channels\n",
      "tw_Avg_viewer_ratio\n",
      "st_spy_appid\n",
      "st_spy_action\n",
      "st_spy_action_rpg\n",
      "st_spy_adventure\n",
      "st_spy_atmospheric\n",
      "st_spy_character_customization\n",
      "st_spy_co_op\n",
      "st_spy_difficult\n",
      "st_spy_exploration\n",
      "st_spy_fps\n",
      "st_spy_fantasy\n",
      "st_spy_first_person\n",
      "st_spy_great_soundtrack\n",
      "st_spy_indie\n",
      "st_spy_moddable\n",
      "st_spy_multiplayer\n",
      "st_spy_online_co_op\n",
      "st_spy_open_world\n",
      "st_spy_rpg\n",
      "st_spy_replay_value\n",
      "st_spy_sandbox\n",
      "st_spy_shooter\n",
      "st_spy_simulation\n",
      "st_spy_singleplayer\n",
      "st_spy_story_rich\n",
      "st_spy_strategy\n",
      "st_spy_tactical\n",
      "st_spy_team_based\n",
      "st_spy_third_person\n"
     ]
    }
   ],
   "source": [
    "for col in df.columns:\n",
    "    print(col)"
   ]
  },
  {
   "cell_type": "code",
   "execution_count": 46,
   "metadata": {},
   "outputs": [],
   "source": [
    "#done once, file saved\n",
    "# df.to_csv(\"Tony_for_ml_model.csv\")"
   ]
  },
  {
   "cell_type": "code",
   "execution_count": 47,
   "metadata": {},
   "outputs": [
    {
     "data": {
      "text/html": "<div>\n<style scoped>\n    .dataframe tbody tr th:only-of-type {\n        vertical-align: middle;\n    }\n\n    .dataframe tbody tr th {\n        vertical-align: top;\n    }\n\n    .dataframe thead th {\n        text-align: right;\n    }\n</style>\n<table border=\"1\" class=\"dataframe\">\n  <thead>\n    <tr style=\"text-align: right;\">\n      <th></th>\n      <th>Unnamed: 0</th>\n      <th>st_appid</th>\n      <th>Game</th>\n      <th>st_release_date</th>\n      <th>st_english</th>\n      <th>st_developer</th>\n      <th>st_publisher</th>\n      <th>st_required_age</th>\n      <th>st_achievements</th>\n      <th>st_positive_ratings</th>\n      <th>...</th>\n      <th>st_spy_replay_value</th>\n      <th>st_spy_sandbox</th>\n      <th>st_spy_shooter</th>\n      <th>st_spy_simulation</th>\n      <th>st_spy_singleplayer</th>\n      <th>st_spy_story_rich</th>\n      <th>st_spy_strategy</th>\n      <th>st_spy_tactical</th>\n      <th>st_spy_team_based</th>\n      <th>st_spy_third_person</th>\n    </tr>\n  </thead>\n  <tbody>\n    <tr>\n      <th>0</th>\n      <td>0</td>\n      <td>220</td>\n      <td>halflife 2</td>\n      <td>2004-11-16</td>\n      <td>1</td>\n      <td>Valve</td>\n      <td>Valve</td>\n      <td>0</td>\n      <td>33</td>\n      <td>67902</td>\n      <td>...</td>\n      <td>0</td>\n      <td>0</td>\n      <td>1049</td>\n      <td>0</td>\n      <td>1315</td>\n      <td>1116</td>\n      <td>0</td>\n      <td>0</td>\n      <td>0</td>\n      <td>0</td>\n    </tr>\n    <tr>\n      <th>1</th>\n      <td>1</td>\n      <td>220</td>\n      <td>halflife 2</td>\n      <td>2004-11-16</td>\n      <td>1</td>\n      <td>Valve</td>\n      <td>Valve</td>\n      <td>0</td>\n      <td>33</td>\n      <td>67902</td>\n      <td>...</td>\n      <td>0</td>\n      <td>0</td>\n      <td>1049</td>\n      <td>0</td>\n      <td>1315</td>\n      <td>1116</td>\n      <td>0</td>\n      <td>0</td>\n      <td>0</td>\n      <td>0</td>\n    </tr>\n    <tr>\n      <th>2</th>\n      <td>2</td>\n      <td>220</td>\n      <td>halflife 2</td>\n      <td>2004-11-16</td>\n      <td>1</td>\n      <td>Valve</td>\n      <td>Valve</td>\n      <td>0</td>\n      <td>33</td>\n      <td>67902</td>\n      <td>...</td>\n      <td>0</td>\n      <td>0</td>\n      <td>1049</td>\n      <td>0</td>\n      <td>1315</td>\n      <td>1116</td>\n      <td>0</td>\n      <td>0</td>\n      <td>0</td>\n      <td>0</td>\n    </tr>\n    <tr>\n      <th>3</th>\n      <td>3</td>\n      <td>440</td>\n      <td>team fortress 2</td>\n      <td>2007-10-10</td>\n      <td>1</td>\n      <td>Valve</td>\n      <td>Valve</td>\n      <td>0</td>\n      <td>520</td>\n      <td>515879</td>\n      <td>...</td>\n      <td>0</td>\n      <td>0</td>\n      <td>7857</td>\n      <td>0</td>\n      <td>0</td>\n      <td>0</td>\n      <td>0</td>\n      <td>2726</td>\n      <td>5363</td>\n      <td>0</td>\n    </tr>\n    <tr>\n      <th>4</th>\n      <td>4</td>\n      <td>440</td>\n      <td>team fortress 2</td>\n      <td>2007-10-10</td>\n      <td>1</td>\n      <td>Valve</td>\n      <td>Valve</td>\n      <td>0</td>\n      <td>520</td>\n      <td>515879</td>\n      <td>...</td>\n      <td>0</td>\n      <td>0</td>\n      <td>7857</td>\n      <td>0</td>\n      <td>0</td>\n      <td>0</td>\n      <td>0</td>\n      <td>2726</td>\n      <td>5363</td>\n      <td>0</td>\n    </tr>\n    <tr>\n      <th>...</th>\n      <td>...</td>\n      <td>...</td>\n      <td>...</td>\n      <td>...</td>\n      <td>...</td>\n      <td>...</td>\n      <td>...</td>\n      <td>...</td>\n      <td>...</td>\n      <td>...</td>\n      <td>...</td>\n      <td>...</td>\n      <td>...</td>\n      <td>...</td>\n      <td>...</td>\n      <td>...</td>\n      <td>...</td>\n      <td>...</td>\n      <td>...</td>\n      <td>...</td>\n      <td>...</td>\n    </tr>\n    <tr>\n      <th>2759</th>\n      <td>2759</td>\n      <td>729040</td>\n      <td>borderlands</td>\n      <td>2019-04-03</td>\n      <td>1</td>\n      <td>Gearbox Software;Blind Squirrel Games</td>\n      <td>2K</td>\n      <td>18</td>\n      <td>80</td>\n      <td>1648</td>\n      <td>...</td>\n      <td>0</td>\n      <td>0</td>\n      <td>0</td>\n      <td>0</td>\n      <td>0</td>\n      <td>0</td>\n      <td>0</td>\n      <td>0</td>\n      <td>0</td>\n      <td>0</td>\n    </tr>\n    <tr>\n      <th>2760</th>\n      <td>2760</td>\n      <td>764790</td>\n      <td>the messenger</td>\n      <td>2018-08-30</td>\n      <td>1</td>\n      <td>Sabotage</td>\n      <td>Devolver Digital</td>\n      <td>0</td>\n      <td>40</td>\n      <td>1846</td>\n      <td>...</td>\n      <td>0</td>\n      <td>0</td>\n      <td>0</td>\n      <td>0</td>\n      <td>24</td>\n      <td>0</td>\n      <td>0</td>\n      <td>0</td>\n      <td>0</td>\n      <td>0</td>\n    </tr>\n    <tr>\n      <th>2761</th>\n      <td>2761</td>\n      <td>764790</td>\n      <td>the messenger</td>\n      <td>2018-08-30</td>\n      <td>1</td>\n      <td>Sabotage</td>\n      <td>Devolver Digital</td>\n      <td>0</td>\n      <td>40</td>\n      <td>1846</td>\n      <td>...</td>\n      <td>0</td>\n      <td>0</td>\n      <td>0</td>\n      <td>0</td>\n      <td>24</td>\n      <td>0</td>\n      <td>0</td>\n      <td>0</td>\n      <td>0</td>\n      <td>0</td>\n    </tr>\n    <tr>\n      <th>2762</th>\n      <td>2762</td>\n      <td>845070</td>\n      <td>the awesome adventures of captain spirit</td>\n      <td>2018-06-25</td>\n      <td>1</td>\n      <td>DONTNOD Entertainment</td>\n      <td>Square Enix</td>\n      <td>0</td>\n      <td>0</td>\n      <td>8077</td>\n      <td>...</td>\n      <td>0</td>\n      <td>0</td>\n      <td>0</td>\n      <td>0</td>\n      <td>54</td>\n      <td>99</td>\n      <td>0</td>\n      <td>0</td>\n      <td>0</td>\n      <td>0</td>\n    </tr>\n    <tr>\n      <th>2763</th>\n      <td>2763</td>\n      <td>860950</td>\n      <td>mark of the ninja</td>\n      <td>2018-10-09</td>\n      <td>1</td>\n      <td>Klei Entertainment</td>\n      <td>Klei Entertainment</td>\n      <td>16</td>\n      <td>38</td>\n      <td>802</td>\n      <td>...</td>\n      <td>0</td>\n      <td>0</td>\n      <td>0</td>\n      <td>0</td>\n      <td>0</td>\n      <td>0</td>\n      <td>0</td>\n      <td>0</td>\n      <td>0</td>\n      <td>0</td>\n    </tr>\n  </tbody>\n</table>\n<p>2764 rows × 58 columns</p>\n</div>",
      "text/plain": "      Unnamed: 0  st_appid                                      Game  \\\n0              0       220                                halflife 2   \n1              1       220                                halflife 2   \n2              2       220                                halflife 2   \n3              3       440                           team fortress 2   \n4              4       440                           team fortress 2   \n...          ...       ...                                       ...   \n2759        2759    729040                               borderlands   \n2760        2760    764790                             the messenger   \n2761        2761    764790                             the messenger   \n2762        2762    845070  the awesome adventures of captain spirit   \n2763        2763    860950                         mark of the ninja   \n\n     st_release_date  st_english                           st_developer  \\\n0         2004-11-16           1                                  Valve   \n1         2004-11-16           1                                  Valve   \n2         2004-11-16           1                                  Valve   \n3         2007-10-10           1                                  Valve   \n4         2007-10-10           1                                  Valve   \n...              ...         ...                                    ...   \n2759      2019-04-03           1  Gearbox Software;Blind Squirrel Games   \n2760      2018-08-30           1                               Sabotage   \n2761      2018-08-30           1                               Sabotage   \n2762      2018-06-25           1                  DONTNOD Entertainment   \n2763      2018-10-09           1                     Klei Entertainment   \n\n             st_publisher  st_required_age  st_achievements  \\\n0                   Valve                0               33   \n1                   Valve                0               33   \n2                   Valve                0               33   \n3                   Valve                0              520   \n4                   Valve                0              520   \n...                   ...              ...              ...   \n2759                   2K               18               80   \n2760     Devolver Digital                0               40   \n2761     Devolver Digital                0               40   \n2762          Square Enix                0                0   \n2763  Klei Entertainment                16               38   \n\n      st_positive_ratings  ...  st_spy_replay_value  st_spy_sandbox  \\\n0                   67902  ...                    0               0   \n1                   67902  ...                    0               0   \n2                   67902  ...                    0               0   \n3                  515879  ...                    0               0   \n4                  515879  ...                    0               0   \n...                   ...  ...                  ...             ...   \n2759                 1648  ...                    0               0   \n2760                 1846  ...                    0               0   \n2761                 1846  ...                    0               0   \n2762                 8077  ...                    0               0   \n2763                  802  ...                    0               0   \n\n      st_spy_shooter st_spy_simulation  st_spy_singleplayer  \\\n0               1049                 0                 1315   \n1               1049                 0                 1315   \n2               1049                 0                 1315   \n3               7857                 0                    0   \n4               7857                 0                    0   \n...              ...               ...                  ...   \n2759               0                 0                    0   \n2760               0                 0                   24   \n2761               0                 0                   24   \n2762               0                 0                   54   \n2763               0                 0                    0   \n\n      st_spy_story_rich  st_spy_strategy  st_spy_tactical  st_spy_team_based  \\\n0                  1116                0                0                  0   \n1                  1116                0                0                  0   \n2                  1116                0                0                  0   \n3                     0                0             2726               5363   \n4                     0                0             2726               5363   \n...                 ...              ...              ...                ...   \n2759                  0                0                0                  0   \n2760                  0                0                0                  0   \n2761                  0                0                0                  0   \n2762                 99                0                0                  0   \n2763                  0                0                0                  0   \n\n      st_spy_third_person  \n0                       0  \n1                       0  \n2                       0  \n3                       0  \n4                       0  \n...                   ...  \n2759                    0  \n2760                    0  \n2761                    0  \n2762                    0  \n2763                    0  \n\n[2764 rows x 58 columns]"
     },
     "execution_count": 47,
     "metadata": {},
     "output_type": "execute_result"
    }
   ],
   "source": [
    "df"
   ]
  },
  {
   "cell_type": "code",
   "execution_count": 48,
   "metadata": {},
   "outputs": [],
   "source": [
    "df.drop(\"Unnamed: 0\",inplace=True, axis=1)"
   ]
  },
  {
   "cell_type": "code",
   "execution_count": 49,
   "metadata": {},
   "outputs": [],
   "source": [
    "column_names_list = df.columns.to_list()\n"
   ]
  },
  {
   "cell_type": "code",
   "execution_count": 50,
   "metadata": {},
   "outputs": [],
   "source": [
    "li = []\n",
    "def columns_ready_to_drop(col_name):\n",
    "    #if column value type is int, continue the following, if not, ignore.\n",
    "    if df[col_name].dtypes == \"int64\":\n",
    "\n",
    "        #if dataframe col_name has 0 values more than 80% of the number of rows, save in a list, and ready to drop\n",
    "        non_zero_rows = df[col_name].apply(lambda r: True if r > 0 else False)\n",
    "        numberOfRows = len(non_zero_rows[non_zero_rows == True].index)\n",
    "        #testing\n",
    "        #print(numberOfRows)\n",
    "        #When the percentage below is increasing, it means the column has to have less zero rows to be able to remain in the new database. \n",
    "        # 0.2 means if non-zero rows are only 20% or less of the total rows, the column will be add to the drop list.\n",
    "        if numberOfRows <= 0.20 *len(df):\n",
    "            li.append(col_name)\n",
    "        else:\n",
    "            pass\n",
    "    else:\n",
    "        pass\n",
    "    return li"
   ]
  },
  {
   "cell_type": "code",
   "execution_count": 51,
   "metadata": {},
   "outputs": [
    {
     "name": "stdout",
     "output_type": "stream",
     "text": [
      "['st_required_age', 'st_spy_action_rpg', 'st_spy_adventure', 'st_spy_atmospheric', 'st_spy_character_customization', 'st_spy_co_op', 'st_spy_difficult', 'st_spy_exploration', 'st_spy_fps', 'st_spy_fantasy', 'st_spy_first_person', 'st_spy_great_soundtrack', 'st_spy_indie', 'st_spy_moddable', 'st_spy_multiplayer', 'st_spy_online_co_op', 'st_spy_open_world', 'st_spy_rpg', 'st_spy_replay_value', 'st_spy_sandbox', 'st_spy_shooter', 'st_spy_simulation', 'st_spy_singleplayer', 'st_spy_story_rich', 'st_spy_strategy', 'st_spy_tactical', 'st_spy_team_based', 'st_spy_third_person']\n"
     ]
    }
   ],
   "source": [
    "# use the function to run thru all columns\n",
    "for col in column_names_list:\n",
    "    columns_ready_to_drop(col)\n",
    "    \n",
    "print(li)\n"
   ]
  },
  {
   "cell_type": "code",
   "execution_count": 52,
   "metadata": {},
   "outputs": [
    {
     "data": {
      "text/html": "<div>\n<style scoped>\n    .dataframe tbody tr th:only-of-type {\n        vertical-align: middle;\n    }\n\n    .dataframe tbody tr th {\n        vertical-align: top;\n    }\n\n    .dataframe thead th {\n        text-align: right;\n    }\n</style>\n<table border=\"1\" class=\"dataframe\">\n  <thead>\n    <tr style=\"text-align: right;\">\n      <th></th>\n      <th>st_appid</th>\n      <th>Game</th>\n      <th>st_release_date</th>\n      <th>st_english</th>\n      <th>st_developer</th>\n      <th>st_publisher</th>\n      <th>st_achievements</th>\n      <th>st_positive_ratings</th>\n      <th>st_negative_ratings</th>\n      <th>st_average_playtime</th>\n      <th>...</th>\n      <th>tw_Hours_watched</th>\n      <th>tw_Hours_Streamed</th>\n      <th>tw_Peak_viewers</th>\n      <th>tw_Peak_channels</th>\n      <th>tw_Streamers</th>\n      <th>tw_Avg_viewers</th>\n      <th>tw_Avg_channels</th>\n      <th>tw_Avg_viewer_ratio</th>\n      <th>st_spy_appid</th>\n      <th>st_spy_action</th>\n    </tr>\n  </thead>\n  <tbody>\n    <tr>\n      <th>0</th>\n      <td>220</td>\n      <td>halflife 2</td>\n      <td>2004-11-16</td>\n      <td>1</td>\n      <td>Valve</td>\n      <td>Valve</td>\n      <td>33</td>\n      <td>67902</td>\n      <td>2419</td>\n      <td>691</td>\n      <td>...</td>\n      <td>211067</td>\n      <td>2357 hours</td>\n      <td>162911</td>\n      <td>16</td>\n      <td>669</td>\n      <td>284</td>\n      <td>3</td>\n      <td>89.55</td>\n      <td>220</td>\n      <td>1761</td>\n    </tr>\n    <tr>\n      <th>1</th>\n      <td>220</td>\n      <td>halflife 2</td>\n      <td>2004-11-16</td>\n      <td>1</td>\n      <td>Valve</td>\n      <td>Valve</td>\n      <td>33</td>\n      <td>67902</td>\n      <td>2419</td>\n      <td>691</td>\n      <td>...</td>\n      <td>296978</td>\n      <td>3048 hours</td>\n      <td>142862</td>\n      <td>20</td>\n      <td>859</td>\n      <td>399</td>\n      <td>4</td>\n      <td>97.43</td>\n      <td>220</td>\n      <td>1761</td>\n    </tr>\n    <tr>\n      <th>2</th>\n      <td>220</td>\n      <td>halflife 2</td>\n      <td>2004-11-16</td>\n      <td>1</td>\n      <td>Valve</td>\n      <td>Valve</td>\n      <td>33</td>\n      <td>67902</td>\n      <td>2419</td>\n      <td>691</td>\n      <td>...</td>\n      <td>475945</td>\n      <td>11281 hours</td>\n      <td>12877</td>\n      <td>45</td>\n      <td>2437</td>\n      <td>640</td>\n      <td>15</td>\n      <td>42.19</td>\n      <td>220</td>\n      <td>1761</td>\n    </tr>\n    <tr>\n      <th>3</th>\n      <td>440</td>\n      <td>team fortress 2</td>\n      <td>2007-10-10</td>\n      <td>1</td>\n      <td>Valve</td>\n      <td>Valve</td>\n      <td>520</td>\n      <td>515879</td>\n      <td>34036</td>\n      <td>8495</td>\n      <td>...</td>\n      <td>329765</td>\n      <td>25296 hours</td>\n      <td>32609</td>\n      <td>86</td>\n      <td>4933</td>\n      <td>443</td>\n      <td>34</td>\n      <td>13.04</td>\n      <td>440</td>\n      <td>8188</td>\n    </tr>\n    <tr>\n      <th>4</th>\n      <td>440</td>\n      <td>team fortress 2</td>\n      <td>2007-10-10</td>\n      <td>1</td>\n      <td>Valve</td>\n      <td>Valve</td>\n      <td>520</td>\n      <td>515879</td>\n      <td>34036</td>\n      <td>8495</td>\n      <td>...</td>\n      <td>270708</td>\n      <td>23017 hours</td>\n      <td>7883</td>\n      <td>88</td>\n      <td>4509</td>\n      <td>389</td>\n      <td>33</td>\n      <td>11.76</td>\n      <td>440</td>\n      <td>8188</td>\n    </tr>\n    <tr>\n      <th>...</th>\n      <td>...</td>\n      <td>...</td>\n      <td>...</td>\n      <td>...</td>\n      <td>...</td>\n      <td>...</td>\n      <td>...</td>\n      <td>...</td>\n      <td>...</td>\n      <td>...</td>\n      <td>...</td>\n      <td>...</td>\n      <td>...</td>\n      <td>...</td>\n      <td>...</td>\n      <td>...</td>\n      <td>...</td>\n      <td>...</td>\n      <td>...</td>\n      <td>...</td>\n      <td>...</td>\n    </tr>\n    <tr>\n      <th>2759</th>\n      <td>729040</td>\n      <td>borderlands</td>\n      <td>2019-04-03</td>\n      <td>1</td>\n      <td>Gearbox Software;Blind Squirrel Games</td>\n      <td>2K</td>\n      <td>80</td>\n      <td>1648</td>\n      <td>920</td>\n      <td>408</td>\n      <td>...</td>\n      <td>1772278</td>\n      <td>80946 hours</td>\n      <td>30059</td>\n      <td>834</td>\n      <td>12746</td>\n      <td>2464</td>\n      <td>112</td>\n      <td>21.89</td>\n      <td>729040</td>\n      <td>38</td>\n    </tr>\n    <tr>\n      <th>2760</th>\n      <td>764790</td>\n      <td>the messenger</td>\n      <td>2018-08-30</td>\n      <td>1</td>\n      <td>Sabotage</td>\n      <td>Devolver Digital</td>\n      <td>40</td>\n      <td>1846</td>\n      <td>90</td>\n      <td>0</td>\n      <td>...</td>\n      <td>516683</td>\n      <td>9522 hours</td>\n      <td>11822</td>\n      <td>51</td>\n      <td>1426</td>\n      <td>718</td>\n      <td>13</td>\n      <td>54.26</td>\n      <td>764790</td>\n      <td>64</td>\n    </tr>\n    <tr>\n      <th>2761</th>\n      <td>764790</td>\n      <td>the messenger</td>\n      <td>2018-08-30</td>\n      <td>1</td>\n      <td>Sabotage</td>\n      <td>Devolver Digital</td>\n      <td>40</td>\n      <td>1846</td>\n      <td>90</td>\n      <td>0</td>\n      <td>...</td>\n      <td>346553</td>\n      <td>5746 hours</td>\n      <td>151270</td>\n      <td>25</td>\n      <td>1012</td>\n      <td>466</td>\n      <td>7</td>\n      <td>60.31</td>\n      <td>764790</td>\n      <td>64</td>\n    </tr>\n    <tr>\n      <th>2762</th>\n      <td>845070</td>\n      <td>the awesome adventures of captain spirit</td>\n      <td>2018-06-25</td>\n      <td>1</td>\n      <td>DONTNOD Entertainment</td>\n      <td>Square Enix</td>\n      <td>0</td>\n      <td>8077</td>\n      <td>667</td>\n      <td>68</td>\n      <td>...</td>\n      <td>407823</td>\n      <td>11897 hours</td>\n      <td>33924</td>\n      <td>343</td>\n      <td>6394</td>\n      <td>567</td>\n      <td>16</td>\n      <td>34.28</td>\n      <td>845070</td>\n      <td>0</td>\n    </tr>\n    <tr>\n      <th>2763</th>\n      <td>860950</td>\n      <td>mark of the ninja</td>\n      <td>2018-10-09</td>\n      <td>1</td>\n      <td>Klei Entertainment</td>\n      <td>Klei Entertainment</td>\n      <td>38</td>\n      <td>802</td>\n      <td>47</td>\n      <td>162</td>\n      <td>...</td>\n      <td>167880</td>\n      <td>341 hours</td>\n      <td>114059</td>\n      <td>8</td>\n      <td>101</td>\n      <td>225</td>\n      <td>0</td>\n      <td>492.32</td>\n      <td>860950</td>\n      <td>36</td>\n    </tr>\n  </tbody>\n</table>\n<p>2764 rows × 29 columns</p>\n</div>",
      "text/plain": "      st_appid                                      Game st_release_date  \\\n0          220                                halflife 2      2004-11-16   \n1          220                                halflife 2      2004-11-16   \n2          220                                halflife 2      2004-11-16   \n3          440                           team fortress 2      2007-10-10   \n4          440                           team fortress 2      2007-10-10   \n...        ...                                       ...             ...   \n2759    729040                               borderlands      2019-04-03   \n2760    764790                             the messenger      2018-08-30   \n2761    764790                             the messenger      2018-08-30   \n2762    845070  the awesome adventures of captain spirit      2018-06-25   \n2763    860950                         mark of the ninja      2018-10-09   \n\n      st_english                           st_developer         st_publisher  \\\n0              1                                  Valve                Valve   \n1              1                                  Valve                Valve   \n2              1                                  Valve                Valve   \n3              1                                  Valve                Valve   \n4              1                                  Valve                Valve   \n...          ...                                    ...                  ...   \n2759           1  Gearbox Software;Blind Squirrel Games                   2K   \n2760           1                               Sabotage     Devolver Digital   \n2761           1                               Sabotage     Devolver Digital   \n2762           1                  DONTNOD Entertainment          Square Enix   \n2763           1                     Klei Entertainment  Klei Entertainment    \n\n      st_achievements  st_positive_ratings  st_negative_ratings  \\\n0                  33                67902                 2419   \n1                  33                67902                 2419   \n2                  33                67902                 2419   \n3                 520               515879                34036   \n4                 520               515879                34036   \n...               ...                  ...                  ...   \n2759               80                 1648                  920   \n2760               40                 1846                   90   \n2761               40                 1846                   90   \n2762                0                 8077                  667   \n2763               38                  802                   47   \n\n      st_average_playtime  ...  tw_Hours_watched tw_Hours_Streamed  \\\n0                     691  ...            211067        2357 hours   \n1                     691  ...            296978        3048 hours   \n2                     691  ...            475945       11281 hours   \n3                    8495  ...            329765       25296 hours   \n4                    8495  ...            270708       23017 hours   \n...                   ...  ...               ...               ...   \n2759                  408  ...           1772278       80946 hours   \n2760                    0  ...            516683        9522 hours   \n2761                    0  ...            346553        5746 hours   \n2762                   68  ...            407823       11897 hours   \n2763                  162  ...            167880         341 hours   \n\n      tw_Peak_viewers  tw_Peak_channels  tw_Streamers  tw_Avg_viewers  \\\n0              162911                16           669             284   \n1              142862                20           859             399   \n2               12877                45          2437             640   \n3               32609                86          4933             443   \n4                7883                88          4509             389   \n...               ...               ...           ...             ...   \n2759            30059               834         12746            2464   \n2760            11822                51          1426             718   \n2761           151270                25          1012             466   \n2762            33924               343          6394             567   \n2763           114059                 8           101             225   \n\n      tw_Avg_channels  tw_Avg_viewer_ratio  st_spy_appid  st_spy_action  \n0                   3                89.55           220           1761  \n1                   4                97.43           220           1761  \n2                  15                42.19           220           1761  \n3                  34                13.04           440           8188  \n4                  33                11.76           440           8188  \n...               ...                  ...           ...            ...  \n2759              112                21.89        729040             38  \n2760               13                54.26        764790             64  \n2761                7                60.31        764790             64  \n2762               16                34.28        845070              0  \n2763                0               492.32        860950             36  \n\n[2764 rows x 29 columns]"
     },
     "execution_count": 52,
     "metadata": {},
     "output_type": "execute_result"
    }
   ],
   "source": [
    "#dropping columns when the dtypes of the columns is int64 and there are more than half of values are 0.\n",
    "df_new = df.drop(columns=li)\n",
    "df_new"
   ]
  },
  {
   "cell_type": "code",
   "execution_count": 53,
   "metadata": {},
   "outputs": [
    {
     "data": {
      "text/plain": "Index(['st_appid', 'Game', 'st_release_date', 'st_english', 'st_developer',\n       'st_publisher', 'st_achievements', 'st_positive_ratings',\n       'st_negative_ratings', 'st_average_playtime', 'st_median_playtime',\n       'st_owners', 'st_price', 'meta_Year', 'meta_Metascore',\n       'meta_Avg_Userscore', 'tw_Rank', 'tw_Month', 'tw_Year',\n       'tw_Hours_watched', 'tw_Hours_Streamed', 'tw_Peak_viewers',\n       'tw_Peak_channels', 'tw_Streamers', 'tw_Avg_viewers', 'tw_Avg_channels',\n       'tw_Avg_viewer_ratio', 'st_spy_appid', 'st_spy_action'],\n      dtype='object')"
     },
     "execution_count": 53,
     "metadata": {},
     "output_type": "execute_result"
    }
   ],
   "source": [
    "df_new.columns"
   ]
  },
  {
   "cell_type": "code",
   "execution_count": 54,
   "metadata": {},
   "outputs": [
    {
     "data": {
      "text/html": "<div>\n<style scoped>\n    .dataframe tbody tr th:only-of-type {\n        vertical-align: middle;\n    }\n\n    .dataframe tbody tr th {\n        vertical-align: top;\n    }\n\n    .dataframe thead th {\n        text-align: right;\n    }\n</style>\n<table border=\"1\" class=\"dataframe\">\n  <thead>\n    <tr style=\"text-align: right;\">\n      <th></th>\n      <th>st_appid</th>\n      <th>Game</th>\n      <th>st_release_date</th>\n      <th>st_english</th>\n      <th>st_developer</th>\n      <th>st_publisher</th>\n      <th>st_achievements</th>\n      <th>st_positive_ratings</th>\n      <th>st_negative_ratings</th>\n      <th>st_average_playtime</th>\n      <th>...</th>\n      <th>tw_Hours_watched</th>\n      <th>tw_Hours_Streamed</th>\n      <th>tw_Peak_viewers</th>\n      <th>tw_Peak_channels</th>\n      <th>tw_Streamers</th>\n      <th>tw_Avg_viewers</th>\n      <th>tw_Avg_channels</th>\n      <th>tw_Avg_viewer_ratio</th>\n      <th>st_spy_appid</th>\n      <th>st_spy_action</th>\n    </tr>\n    <tr>\n      <th>Game</th>\n      <th></th>\n      <th></th>\n      <th></th>\n      <th></th>\n      <th></th>\n      <th></th>\n      <th></th>\n      <th></th>\n      <th></th>\n      <th></th>\n      <th></th>\n      <th></th>\n      <th></th>\n      <th></th>\n      <th></th>\n      <th></th>\n      <th></th>\n      <th></th>\n      <th></th>\n      <th></th>\n      <th></th>\n    </tr>\n  </thead>\n  <tbody>\n    <tr>\n      <th>halflife 2</th>\n      <td>220</td>\n      <td>halflife 2</td>\n      <td>2004-11-16</td>\n      <td>1</td>\n      <td>Valve</td>\n      <td>Valve</td>\n      <td>33</td>\n      <td>67902</td>\n      <td>2419</td>\n      <td>691</td>\n      <td>...</td>\n      <td>211067</td>\n      <td>2357 hours</td>\n      <td>162911</td>\n      <td>16</td>\n      <td>669</td>\n      <td>284</td>\n      <td>3</td>\n      <td>89.55</td>\n      <td>220</td>\n      <td>1761</td>\n    </tr>\n    <tr>\n      <th>halflife 2</th>\n      <td>220</td>\n      <td>halflife 2</td>\n      <td>2004-11-16</td>\n      <td>1</td>\n      <td>Valve</td>\n      <td>Valve</td>\n      <td>33</td>\n      <td>67902</td>\n      <td>2419</td>\n      <td>691</td>\n      <td>...</td>\n      <td>296978</td>\n      <td>3048 hours</td>\n      <td>142862</td>\n      <td>20</td>\n      <td>859</td>\n      <td>399</td>\n      <td>4</td>\n      <td>97.43</td>\n      <td>220</td>\n      <td>1761</td>\n    </tr>\n    <tr>\n      <th>halflife 2</th>\n      <td>220</td>\n      <td>halflife 2</td>\n      <td>2004-11-16</td>\n      <td>1</td>\n      <td>Valve</td>\n      <td>Valve</td>\n      <td>33</td>\n      <td>67902</td>\n      <td>2419</td>\n      <td>691</td>\n      <td>...</td>\n      <td>475945</td>\n      <td>11281 hours</td>\n      <td>12877</td>\n      <td>45</td>\n      <td>2437</td>\n      <td>640</td>\n      <td>15</td>\n      <td>42.19</td>\n      <td>220</td>\n      <td>1761</td>\n    </tr>\n    <tr>\n      <th>team fortress 2</th>\n      <td>440</td>\n      <td>team fortress 2</td>\n      <td>2007-10-10</td>\n      <td>1</td>\n      <td>Valve</td>\n      <td>Valve</td>\n      <td>520</td>\n      <td>515879</td>\n      <td>34036</td>\n      <td>8495</td>\n      <td>...</td>\n      <td>329765</td>\n      <td>25296 hours</td>\n      <td>32609</td>\n      <td>86</td>\n      <td>4933</td>\n      <td>443</td>\n      <td>34</td>\n      <td>13.04</td>\n      <td>440</td>\n      <td>8188</td>\n    </tr>\n    <tr>\n      <th>team fortress 2</th>\n      <td>440</td>\n      <td>team fortress 2</td>\n      <td>2007-10-10</td>\n      <td>1</td>\n      <td>Valve</td>\n      <td>Valve</td>\n      <td>520</td>\n      <td>515879</td>\n      <td>34036</td>\n      <td>8495</td>\n      <td>...</td>\n      <td>270708</td>\n      <td>23017 hours</td>\n      <td>7883</td>\n      <td>88</td>\n      <td>4509</td>\n      <td>389</td>\n      <td>33</td>\n      <td>11.76</td>\n      <td>440</td>\n      <td>8188</td>\n    </tr>\n    <tr>\n      <th>...</th>\n      <td>...</td>\n      <td>...</td>\n      <td>...</td>\n      <td>...</td>\n      <td>...</td>\n      <td>...</td>\n      <td>...</td>\n      <td>...</td>\n      <td>...</td>\n      <td>...</td>\n      <td>...</td>\n      <td>...</td>\n      <td>...</td>\n      <td>...</td>\n      <td>...</td>\n      <td>...</td>\n      <td>...</td>\n      <td>...</td>\n      <td>...</td>\n      <td>...</td>\n      <td>...</td>\n    </tr>\n    <tr>\n      <th>borderlands</th>\n      <td>729040</td>\n      <td>borderlands</td>\n      <td>2019-04-03</td>\n      <td>1</td>\n      <td>Gearbox Software;Blind Squirrel Games</td>\n      <td>2K</td>\n      <td>80</td>\n      <td>1648</td>\n      <td>920</td>\n      <td>408</td>\n      <td>...</td>\n      <td>1772278</td>\n      <td>80946 hours</td>\n      <td>30059</td>\n      <td>834</td>\n      <td>12746</td>\n      <td>2464</td>\n      <td>112</td>\n      <td>21.89</td>\n      <td>729040</td>\n      <td>38</td>\n    </tr>\n    <tr>\n      <th>the messenger</th>\n      <td>764790</td>\n      <td>the messenger</td>\n      <td>2018-08-30</td>\n      <td>1</td>\n      <td>Sabotage</td>\n      <td>Devolver Digital</td>\n      <td>40</td>\n      <td>1846</td>\n      <td>90</td>\n      <td>0</td>\n      <td>...</td>\n      <td>516683</td>\n      <td>9522 hours</td>\n      <td>11822</td>\n      <td>51</td>\n      <td>1426</td>\n      <td>718</td>\n      <td>13</td>\n      <td>54.26</td>\n      <td>764790</td>\n      <td>64</td>\n    </tr>\n    <tr>\n      <th>the messenger</th>\n      <td>764790</td>\n      <td>the messenger</td>\n      <td>2018-08-30</td>\n      <td>1</td>\n      <td>Sabotage</td>\n      <td>Devolver Digital</td>\n      <td>40</td>\n      <td>1846</td>\n      <td>90</td>\n      <td>0</td>\n      <td>...</td>\n      <td>346553</td>\n      <td>5746 hours</td>\n      <td>151270</td>\n      <td>25</td>\n      <td>1012</td>\n      <td>466</td>\n      <td>7</td>\n      <td>60.31</td>\n      <td>764790</td>\n      <td>64</td>\n    </tr>\n    <tr>\n      <th>the awesome adventures of captain spirit</th>\n      <td>845070</td>\n      <td>the awesome adventures of captain spirit</td>\n      <td>2018-06-25</td>\n      <td>1</td>\n      <td>DONTNOD Entertainment</td>\n      <td>Square Enix</td>\n      <td>0</td>\n      <td>8077</td>\n      <td>667</td>\n      <td>68</td>\n      <td>...</td>\n      <td>407823</td>\n      <td>11897 hours</td>\n      <td>33924</td>\n      <td>343</td>\n      <td>6394</td>\n      <td>567</td>\n      <td>16</td>\n      <td>34.28</td>\n      <td>845070</td>\n      <td>0</td>\n    </tr>\n    <tr>\n      <th>mark of the ninja</th>\n      <td>860950</td>\n      <td>mark of the ninja</td>\n      <td>2018-10-09</td>\n      <td>1</td>\n      <td>Klei Entertainment</td>\n      <td>Klei Entertainment</td>\n      <td>38</td>\n      <td>802</td>\n      <td>47</td>\n      <td>162</td>\n      <td>...</td>\n      <td>167880</td>\n      <td>341 hours</td>\n      <td>114059</td>\n      <td>8</td>\n      <td>101</td>\n      <td>225</td>\n      <td>0</td>\n      <td>492.32</td>\n      <td>860950</td>\n      <td>36</td>\n    </tr>\n  </tbody>\n</table>\n<p>2764 rows × 29 columns</p>\n</div>",
      "text/plain": "                                          st_appid  \\\nGame                                                 \nhalflife 2                                     220   \nhalflife 2                                     220   \nhalflife 2                                     220   \nteam fortress 2                                440   \nteam fortress 2                                440   \n...                                            ...   \nborderlands                                 729040   \nthe messenger                               764790   \nthe messenger                               764790   \nthe awesome adventures of captain spirit    845070   \nmark of the ninja                           860950   \n\n                                                                              Game  \\\nGame                                                                                 \nhalflife 2                                                              halflife 2   \nhalflife 2                                                              halflife 2   \nhalflife 2                                                              halflife 2   \nteam fortress 2                                                    team fortress 2   \nteam fortress 2                                                    team fortress 2   \n...                                                                            ...   \nborderlands                                                            borderlands   \nthe messenger                                                        the messenger   \nthe messenger                                                        the messenger   \nthe awesome adventures of captain spirit  the awesome adventures of captain spirit   \nmark of the ninja                                                mark of the ninja   \n\n                                         st_release_date  st_english  \\\nGame                                                                   \nhalflife 2                                    2004-11-16           1   \nhalflife 2                                    2004-11-16           1   \nhalflife 2                                    2004-11-16           1   \nteam fortress 2                               2007-10-10           1   \nteam fortress 2                               2007-10-10           1   \n...                                                  ...         ...   \nborderlands                                   2019-04-03           1   \nthe messenger                                 2018-08-30           1   \nthe messenger                                 2018-08-30           1   \nthe awesome adventures of captain spirit      2018-06-25           1   \nmark of the ninja                             2018-10-09           1   \n\n                                                                   st_developer  \\\nGame                                                                              \nhalflife 2                                                                Valve   \nhalflife 2                                                                Valve   \nhalflife 2                                                                Valve   \nteam fortress 2                                                           Valve   \nteam fortress 2                                                           Valve   \n...                                                                         ...   \nborderlands                               Gearbox Software;Blind Squirrel Games   \nthe messenger                                                          Sabotage   \nthe messenger                                                          Sabotage   \nthe awesome adventures of captain spirit                  DONTNOD Entertainment   \nmark of the ninja                                            Klei Entertainment   \n\n                                                 st_publisher  \\\nGame                                                            \nhalflife 2                                              Valve   \nhalflife 2                                              Valve   \nhalflife 2                                              Valve   \nteam fortress 2                                         Valve   \nteam fortress 2                                         Valve   \n...                                                       ...   \nborderlands                                                2K   \nthe messenger                                Devolver Digital   \nthe messenger                                Devolver Digital   \nthe awesome adventures of captain spirit          Square Enix   \nmark of the ninja                         Klei Entertainment    \n\n                                          st_achievements  \\\nGame                                                        \nhalflife 2                                             33   \nhalflife 2                                             33   \nhalflife 2                                             33   \nteam fortress 2                                       520   \nteam fortress 2                                       520   \n...                                                   ...   \nborderlands                                            80   \nthe messenger                                          40   \nthe messenger                                          40   \nthe awesome adventures of captain spirit                0   \nmark of the ninja                                      38   \n\n                                          st_positive_ratings  \\\nGame                                                            \nhalflife 2                                              67902   \nhalflife 2                                              67902   \nhalflife 2                                              67902   \nteam fortress 2                                        515879   \nteam fortress 2                                        515879   \n...                                                       ...   \nborderlands                                              1648   \nthe messenger                                            1846   \nthe messenger                                            1846   \nthe awesome adventures of captain spirit                 8077   \nmark of the ninja                                         802   \n\n                                          st_negative_ratings  \\\nGame                                                            \nhalflife 2                                               2419   \nhalflife 2                                               2419   \nhalflife 2                                               2419   \nteam fortress 2                                         34036   \nteam fortress 2                                         34036   \n...                                                       ...   \nborderlands                                               920   \nthe messenger                                              90   \nthe messenger                                              90   \nthe awesome adventures of captain spirit                  667   \nmark of the ninja                                          47   \n\n                                          st_average_playtime  ...  \\\nGame                                                           ...   \nhalflife 2                                                691  ...   \nhalflife 2                                                691  ...   \nhalflife 2                                                691  ...   \nteam fortress 2                                          8495  ...   \nteam fortress 2                                          8495  ...   \n...                                                       ...  ...   \nborderlands                                               408  ...   \nthe messenger                                               0  ...   \nthe messenger                                               0  ...   \nthe awesome adventures of captain spirit                   68  ...   \nmark of the ninja                                         162  ...   \n\n                                          tw_Hours_watched tw_Hours_Streamed  \\\nGame                                                                           \nhalflife 2                                          211067        2357 hours   \nhalflife 2                                          296978        3048 hours   \nhalflife 2                                          475945       11281 hours   \nteam fortress 2                                     329765       25296 hours   \nteam fortress 2                                     270708       23017 hours   \n...                                                    ...               ...   \nborderlands                                        1772278       80946 hours   \nthe messenger                                       516683        9522 hours   \nthe messenger                                       346553        5746 hours   \nthe awesome adventures of captain spirit            407823       11897 hours   \nmark of the ninja                                   167880         341 hours   \n\n                                          tw_Peak_viewers  tw_Peak_channels  \\\nGame                                                                          \nhalflife 2                                         162911                16   \nhalflife 2                                         142862                20   \nhalflife 2                                          12877                45   \nteam fortress 2                                     32609                86   \nteam fortress 2                                      7883                88   \n...                                                   ...               ...   \nborderlands                                         30059               834   \nthe messenger                                       11822                51   \nthe messenger                                      151270                25   \nthe awesome adventures of captain spirit            33924               343   \nmark of the ninja                                  114059                 8   \n\n                                          tw_Streamers  tw_Avg_viewers  \\\nGame                                                                     \nhalflife 2                                         669             284   \nhalflife 2                                         859             399   \nhalflife 2                                        2437             640   \nteam fortress 2                                   4933             443   \nteam fortress 2                                   4509             389   \n...                                                ...             ...   \nborderlands                                      12746            2464   \nthe messenger                                     1426             718   \nthe messenger                                     1012             466   \nthe awesome adventures of captain spirit          6394             567   \nmark of the ninja                                  101             225   \n\n                                          tw_Avg_channels  \\\nGame                                                        \nhalflife 2                                              3   \nhalflife 2                                              4   \nhalflife 2                                             15   \nteam fortress 2                                        34   \nteam fortress 2                                        33   \n...                                                   ...   \nborderlands                                           112   \nthe messenger                                          13   \nthe messenger                                           7   \nthe awesome adventures of captain spirit               16   \nmark of the ninja                                       0   \n\n                                          tw_Avg_viewer_ratio  st_spy_appid  \\\nGame                                                                          \nhalflife 2                                              89.55           220   \nhalflife 2                                              97.43           220   \nhalflife 2                                              42.19           220   \nteam fortress 2                                         13.04           440   \nteam fortress 2                                         11.76           440   \n...                                                       ...           ...   \nborderlands                                             21.89        729040   \nthe messenger                                           54.26        764790   \nthe messenger                                           60.31        764790   \nthe awesome adventures of captain spirit                34.28        845070   \nmark of the ninja                                      492.32        860950   \n\n                                          st_spy_action  \nGame                                                     \nhalflife 2                                         1761  \nhalflife 2                                         1761  \nhalflife 2                                         1761  \nteam fortress 2                                    8188  \nteam fortress 2                                    8188  \n...                                                 ...  \nborderlands                                          38  \nthe messenger                                        64  \nthe messenger                                        64  \nthe awesome adventures of captain spirit              0  \nmark of the ninja                                    36  \n\n[2764 rows x 29 columns]"
     },
     "execution_count": 54,
     "metadata": {},
     "output_type": "execute_result"
    }
   ],
   "source": [
    "#put Game name as index\n",
    "df_new = df_new.set_index(\"Game\", drop = False, append=False, inplace=False)\n",
    "df_new"
   ]
  },
  {
   "cell_type": "code",
   "execution_count": 55,
   "metadata": {},
   "outputs": [
    {
     "data": {
      "text/html": "<div>\n<style scoped>\n    .dataframe tbody tr th:only-of-type {\n        vertical-align: middle;\n    }\n\n    .dataframe tbody tr th {\n        vertical-align: top;\n    }\n\n    .dataframe thead th {\n        text-align: right;\n    }\n</style>\n<table border=\"1\" class=\"dataframe\">\n  <thead>\n    <tr style=\"text-align: right;\">\n      <th></th>\n      <th>Game</th>\n    </tr>\n    <tr>\n      <th>Game</th>\n      <th></th>\n    </tr>\n  </thead>\n  <tbody>\n    <tr>\n      <th>halflife 2</th>\n      <td>halflife 2</td>\n    </tr>\n    <tr>\n      <th>halflife 2</th>\n      <td>halflife 2</td>\n    </tr>\n    <tr>\n      <th>halflife 2</th>\n      <td>halflife 2</td>\n    </tr>\n    <tr>\n      <th>team fortress 2</th>\n      <td>team fortress 2</td>\n    </tr>\n    <tr>\n      <th>team fortress 2</th>\n      <td>team fortress 2</td>\n    </tr>\n    <tr>\n      <th>...</th>\n      <td>...</td>\n    </tr>\n    <tr>\n      <th>borderlands</th>\n      <td>borderlands</td>\n    </tr>\n    <tr>\n      <th>the messenger</th>\n      <td>the messenger</td>\n    </tr>\n    <tr>\n      <th>the messenger</th>\n      <td>the messenger</td>\n    </tr>\n    <tr>\n      <th>the awesome adventures of captain spirit</th>\n      <td>the awesome adventures of captain spirit</td>\n    </tr>\n    <tr>\n      <th>mark of the ninja</th>\n      <td>mark of the ninja</td>\n    </tr>\n  </tbody>\n</table>\n<p>2764 rows × 1 columns</p>\n</div>",
      "text/plain": "                                                                              Game\nGame                                                                              \nhalflife 2                                                              halflife 2\nhalflife 2                                                              halflife 2\nhalflife 2                                                              halflife 2\nteam fortress 2                                                    team fortress 2\nteam fortress 2                                                    team fortress 2\n...                                                                            ...\nborderlands                                                            borderlands\nthe messenger                                                        the messenger\nthe messenger                                                        the messenger\nthe awesome adventures of captain spirit  the awesome adventures of captain spirit\nmark of the ninja                                                mark of the ninja\n\n[2764 rows x 1 columns]"
     },
     "execution_count": 55,
     "metadata": {},
     "output_type": "execute_result"
    }
   ],
   "source": [
    "#create a new Dataframe that holds only the game names\n",
    "game_names_df = df_new[[\"Game\"]]\n",
    "game_names_df"
   ]
  },
  {
   "cell_type": "code",
   "execution_count": 56,
   "metadata": {},
   "outputs": [
    {
     "data": {
      "text/html": "<div>\n<style scoped>\n    .dataframe tbody tr th:only-of-type {\n        vertical-align: middle;\n    }\n\n    .dataframe tbody tr th {\n        vertical-align: top;\n    }\n\n    .dataframe thead th {\n        text-align: right;\n    }\n</style>\n<table border=\"1\" class=\"dataframe\">\n  <thead>\n    <tr style=\"text-align: right;\">\n      <th></th>\n      <th>st_appid</th>\n      <th>st_release_date</th>\n      <th>st_english</th>\n      <th>st_developer</th>\n      <th>st_publisher</th>\n      <th>st_achievements</th>\n      <th>st_positive_ratings</th>\n      <th>st_negative_ratings</th>\n      <th>st_average_playtime</th>\n      <th>st_median_playtime</th>\n      <th>...</th>\n      <th>tw_Hours_watched</th>\n      <th>tw_Hours_Streamed</th>\n      <th>tw_Peak_viewers</th>\n      <th>tw_Peak_channels</th>\n      <th>tw_Streamers</th>\n      <th>tw_Avg_viewers</th>\n      <th>tw_Avg_channels</th>\n      <th>tw_Avg_viewer_ratio</th>\n      <th>st_spy_appid</th>\n      <th>st_spy_action</th>\n    </tr>\n    <tr>\n      <th>Game</th>\n      <th></th>\n      <th></th>\n      <th></th>\n      <th></th>\n      <th></th>\n      <th></th>\n      <th></th>\n      <th></th>\n      <th></th>\n      <th></th>\n      <th></th>\n      <th></th>\n      <th></th>\n      <th></th>\n      <th></th>\n      <th></th>\n      <th></th>\n      <th></th>\n      <th></th>\n      <th></th>\n      <th></th>\n    </tr>\n  </thead>\n  <tbody>\n    <tr>\n      <th>halflife 2</th>\n      <td>220</td>\n      <td>2004-11-16</td>\n      <td>1</td>\n      <td>Valve</td>\n      <td>Valve</td>\n      <td>33</td>\n      <td>67902</td>\n      <td>2419</td>\n      <td>691</td>\n      <td>402</td>\n      <td>...</td>\n      <td>211067</td>\n      <td>2357 hours</td>\n      <td>162911</td>\n      <td>16</td>\n      <td>669</td>\n      <td>284</td>\n      <td>3</td>\n      <td>89.55</td>\n      <td>220</td>\n      <td>1761</td>\n    </tr>\n    <tr>\n      <th>halflife 2</th>\n      <td>220</td>\n      <td>2004-11-16</td>\n      <td>1</td>\n      <td>Valve</td>\n      <td>Valve</td>\n      <td>33</td>\n      <td>67902</td>\n      <td>2419</td>\n      <td>691</td>\n      <td>402</td>\n      <td>...</td>\n      <td>296978</td>\n      <td>3048 hours</td>\n      <td>142862</td>\n      <td>20</td>\n      <td>859</td>\n      <td>399</td>\n      <td>4</td>\n      <td>97.43</td>\n      <td>220</td>\n      <td>1761</td>\n    </tr>\n    <tr>\n      <th>halflife 2</th>\n      <td>220</td>\n      <td>2004-11-16</td>\n      <td>1</td>\n      <td>Valve</td>\n      <td>Valve</td>\n      <td>33</td>\n      <td>67902</td>\n      <td>2419</td>\n      <td>691</td>\n      <td>402</td>\n      <td>...</td>\n      <td>475945</td>\n      <td>11281 hours</td>\n      <td>12877</td>\n      <td>45</td>\n      <td>2437</td>\n      <td>640</td>\n      <td>15</td>\n      <td>42.19</td>\n      <td>220</td>\n      <td>1761</td>\n    </tr>\n    <tr>\n      <th>team fortress 2</th>\n      <td>440</td>\n      <td>2007-10-10</td>\n      <td>1</td>\n      <td>Valve</td>\n      <td>Valve</td>\n      <td>520</td>\n      <td>515879</td>\n      <td>34036</td>\n      <td>8495</td>\n      <td>623</td>\n      <td>...</td>\n      <td>329765</td>\n      <td>25296 hours</td>\n      <td>32609</td>\n      <td>86</td>\n      <td>4933</td>\n      <td>443</td>\n      <td>34</td>\n      <td>13.04</td>\n      <td>440</td>\n      <td>8188</td>\n    </tr>\n    <tr>\n      <th>team fortress 2</th>\n      <td>440</td>\n      <td>2007-10-10</td>\n      <td>1</td>\n      <td>Valve</td>\n      <td>Valve</td>\n      <td>520</td>\n      <td>515879</td>\n      <td>34036</td>\n      <td>8495</td>\n      <td>623</td>\n      <td>...</td>\n      <td>270708</td>\n      <td>23017 hours</td>\n      <td>7883</td>\n      <td>88</td>\n      <td>4509</td>\n      <td>389</td>\n      <td>33</td>\n      <td>11.76</td>\n      <td>440</td>\n      <td>8188</td>\n    </tr>\n    <tr>\n      <th>...</th>\n      <td>...</td>\n      <td>...</td>\n      <td>...</td>\n      <td>...</td>\n      <td>...</td>\n      <td>...</td>\n      <td>...</td>\n      <td>...</td>\n      <td>...</td>\n      <td>...</td>\n      <td>...</td>\n      <td>...</td>\n      <td>...</td>\n      <td>...</td>\n      <td>...</td>\n      <td>...</td>\n      <td>...</td>\n      <td>...</td>\n      <td>...</td>\n      <td>...</td>\n      <td>...</td>\n    </tr>\n    <tr>\n      <th>borderlands</th>\n      <td>729040</td>\n      <td>2019-04-03</td>\n      <td>1</td>\n      <td>Gearbox Software;Blind Squirrel Games</td>\n      <td>2K</td>\n      <td>80</td>\n      <td>1648</td>\n      <td>920</td>\n      <td>408</td>\n      <td>278</td>\n      <td>...</td>\n      <td>1772278</td>\n      <td>80946 hours</td>\n      <td>30059</td>\n      <td>834</td>\n      <td>12746</td>\n      <td>2464</td>\n      <td>112</td>\n      <td>21.89</td>\n      <td>729040</td>\n      <td>38</td>\n    </tr>\n    <tr>\n      <th>the messenger</th>\n      <td>764790</td>\n      <td>2018-08-30</td>\n      <td>1</td>\n      <td>Sabotage</td>\n      <td>Devolver Digital</td>\n      <td>40</td>\n      <td>1846</td>\n      <td>90</td>\n      <td>0</td>\n      <td>0</td>\n      <td>...</td>\n      <td>516683</td>\n      <td>9522 hours</td>\n      <td>11822</td>\n      <td>51</td>\n      <td>1426</td>\n      <td>718</td>\n      <td>13</td>\n      <td>54.26</td>\n      <td>764790</td>\n      <td>64</td>\n    </tr>\n    <tr>\n      <th>the messenger</th>\n      <td>764790</td>\n      <td>2018-08-30</td>\n      <td>1</td>\n      <td>Sabotage</td>\n      <td>Devolver Digital</td>\n      <td>40</td>\n      <td>1846</td>\n      <td>90</td>\n      <td>0</td>\n      <td>0</td>\n      <td>...</td>\n      <td>346553</td>\n      <td>5746 hours</td>\n      <td>151270</td>\n      <td>25</td>\n      <td>1012</td>\n      <td>466</td>\n      <td>7</td>\n      <td>60.31</td>\n      <td>764790</td>\n      <td>64</td>\n    </tr>\n    <tr>\n      <th>the awesome adventures of captain spirit</th>\n      <td>845070</td>\n      <td>2018-06-25</td>\n      <td>1</td>\n      <td>DONTNOD Entertainment</td>\n      <td>Square Enix</td>\n      <td>0</td>\n      <td>8077</td>\n      <td>667</td>\n      <td>68</td>\n      <td>65</td>\n      <td>...</td>\n      <td>407823</td>\n      <td>11897 hours</td>\n      <td>33924</td>\n      <td>343</td>\n      <td>6394</td>\n      <td>567</td>\n      <td>16</td>\n      <td>34.28</td>\n      <td>845070</td>\n      <td>0</td>\n    </tr>\n    <tr>\n      <th>mark of the ninja</th>\n      <td>860950</td>\n      <td>2018-10-09</td>\n      <td>1</td>\n      <td>Klei Entertainment</td>\n      <td>Klei Entertainment</td>\n      <td>38</td>\n      <td>802</td>\n      <td>47</td>\n      <td>162</td>\n      <td>289</td>\n      <td>...</td>\n      <td>167880</td>\n      <td>341 hours</td>\n      <td>114059</td>\n      <td>8</td>\n      <td>101</td>\n      <td>225</td>\n      <td>0</td>\n      <td>492.32</td>\n      <td>860950</td>\n      <td>36</td>\n    </tr>\n  </tbody>\n</table>\n<p>2764 rows × 28 columns</p>\n</div>",
      "text/plain": "                                          st_appid st_release_date  \\\nGame                                                                 \nhalflife 2                                     220      2004-11-16   \nhalflife 2                                     220      2004-11-16   \nhalflife 2                                     220      2004-11-16   \nteam fortress 2                                440      2007-10-10   \nteam fortress 2                                440      2007-10-10   \n...                                            ...             ...   \nborderlands                                 729040      2019-04-03   \nthe messenger                               764790      2018-08-30   \nthe messenger                               764790      2018-08-30   \nthe awesome adventures of captain spirit    845070      2018-06-25   \nmark of the ninja                           860950      2018-10-09   \n\n                                          st_english  \\\nGame                                                   \nhalflife 2                                         1   \nhalflife 2                                         1   \nhalflife 2                                         1   \nteam fortress 2                                    1   \nteam fortress 2                                    1   \n...                                              ...   \nborderlands                                        1   \nthe messenger                                      1   \nthe messenger                                      1   \nthe awesome adventures of captain spirit           1   \nmark of the ninja                                  1   \n\n                                                                   st_developer  \\\nGame                                                                              \nhalflife 2                                                                Valve   \nhalflife 2                                                                Valve   \nhalflife 2                                                                Valve   \nteam fortress 2                                                           Valve   \nteam fortress 2                                                           Valve   \n...                                                                         ...   \nborderlands                               Gearbox Software;Blind Squirrel Games   \nthe messenger                                                          Sabotage   \nthe messenger                                                          Sabotage   \nthe awesome adventures of captain spirit                  DONTNOD Entertainment   \nmark of the ninja                                            Klei Entertainment   \n\n                                                 st_publisher  \\\nGame                                                            \nhalflife 2                                              Valve   \nhalflife 2                                              Valve   \nhalflife 2                                              Valve   \nteam fortress 2                                         Valve   \nteam fortress 2                                         Valve   \n...                                                       ...   \nborderlands                                                2K   \nthe messenger                                Devolver Digital   \nthe messenger                                Devolver Digital   \nthe awesome adventures of captain spirit          Square Enix   \nmark of the ninja                         Klei Entertainment    \n\n                                          st_achievements  \\\nGame                                                        \nhalflife 2                                             33   \nhalflife 2                                             33   \nhalflife 2                                             33   \nteam fortress 2                                       520   \nteam fortress 2                                       520   \n...                                                   ...   \nborderlands                                            80   \nthe messenger                                          40   \nthe messenger                                          40   \nthe awesome adventures of captain spirit                0   \nmark of the ninja                                      38   \n\n                                          st_positive_ratings  \\\nGame                                                            \nhalflife 2                                              67902   \nhalflife 2                                              67902   \nhalflife 2                                              67902   \nteam fortress 2                                        515879   \nteam fortress 2                                        515879   \n...                                                       ...   \nborderlands                                              1648   \nthe messenger                                            1846   \nthe messenger                                            1846   \nthe awesome adventures of captain spirit                 8077   \nmark of the ninja                                         802   \n\n                                          st_negative_ratings  \\\nGame                                                            \nhalflife 2                                               2419   \nhalflife 2                                               2419   \nhalflife 2                                               2419   \nteam fortress 2                                         34036   \nteam fortress 2                                         34036   \n...                                                       ...   \nborderlands                                               920   \nthe messenger                                              90   \nthe messenger                                              90   \nthe awesome adventures of captain spirit                  667   \nmark of the ninja                                          47   \n\n                                          st_average_playtime  \\\nGame                                                            \nhalflife 2                                                691   \nhalflife 2                                                691   \nhalflife 2                                                691   \nteam fortress 2                                          8495   \nteam fortress 2                                          8495   \n...                                                       ...   \nborderlands                                               408   \nthe messenger                                               0   \nthe messenger                                               0   \nthe awesome adventures of captain spirit                   68   \nmark of the ninja                                         162   \n\n                                          st_median_playtime  ...  \\\nGame                                                          ...   \nhalflife 2                                               402  ...   \nhalflife 2                                               402  ...   \nhalflife 2                                               402  ...   \nteam fortress 2                                          623  ...   \nteam fortress 2                                          623  ...   \n...                                                      ...  ...   \nborderlands                                              278  ...   \nthe messenger                                              0  ...   \nthe messenger                                              0  ...   \nthe awesome adventures of captain spirit                  65  ...   \nmark of the ninja                                        289  ...   \n\n                                         tw_Hours_watched  tw_Hours_Streamed  \\\nGame                                                                           \nhalflife 2                                         211067         2357 hours   \nhalflife 2                                         296978         3048 hours   \nhalflife 2                                         475945        11281 hours   \nteam fortress 2                                    329765        25296 hours   \nteam fortress 2                                    270708        23017 hours   \n...                                                   ...                ...   \nborderlands                                       1772278        80946 hours   \nthe messenger                                      516683         9522 hours   \nthe messenger                                      346553         5746 hours   \nthe awesome adventures of captain spirit           407823        11897 hours   \nmark of the ninja                                  167880          341 hours   \n\n                                          tw_Peak_viewers  tw_Peak_channels  \\\nGame                                                                          \nhalflife 2                                         162911                16   \nhalflife 2                                         142862                20   \nhalflife 2                                          12877                45   \nteam fortress 2                                     32609                86   \nteam fortress 2                                      7883                88   \n...                                                   ...               ...   \nborderlands                                         30059               834   \nthe messenger                                       11822                51   \nthe messenger                                      151270                25   \nthe awesome adventures of captain spirit            33924               343   \nmark of the ninja                                  114059                 8   \n\n                                          tw_Streamers  tw_Avg_viewers  \\\nGame                                                                     \nhalflife 2                                         669             284   \nhalflife 2                                         859             399   \nhalflife 2                                        2437             640   \nteam fortress 2                                   4933             443   \nteam fortress 2                                   4509             389   \n...                                                ...             ...   \nborderlands                                      12746            2464   \nthe messenger                                     1426             718   \nthe messenger                                     1012             466   \nthe awesome adventures of captain spirit          6394             567   \nmark of the ninja                                  101             225   \n\n                                          tw_Avg_channels  \\\nGame                                                        \nhalflife 2                                              3   \nhalflife 2                                              4   \nhalflife 2                                             15   \nteam fortress 2                                        34   \nteam fortress 2                                        33   \n...                                                   ...   \nborderlands                                           112   \nthe messenger                                          13   \nthe messenger                                           7   \nthe awesome adventures of captain spirit               16   \nmark of the ninja                                       0   \n\n                                          tw_Avg_viewer_ratio  st_spy_appid  \\\nGame                                                                          \nhalflife 2                                              89.55           220   \nhalflife 2                                              97.43           220   \nhalflife 2                                              42.19           220   \nteam fortress 2                                         13.04           440   \nteam fortress 2                                         11.76           440   \n...                                                       ...           ...   \nborderlands                                             21.89        729040   \nthe messenger                                           54.26        764790   \nthe messenger                                           60.31        764790   \nthe awesome adventures of captain spirit                34.28        845070   \nmark of the ninja                                      492.32        860950   \n\n                                         st_spy_action  \nGame                                                    \nhalflife 2                                        1761  \nhalflife 2                                        1761  \nhalflife 2                                        1761  \nteam fortress 2                                   8188  \nteam fortress 2                                   8188  \n...                                                ...  \nborderlands                                         38  \nthe messenger                                       64  \nthe messenger                                       64  \nthe awesome adventures of captain spirit             0  \nmark of the ninja                                   36  \n\n[2764 rows x 28 columns]"
     },
     "execution_count": 56,
     "metadata": {},
     "output_type": "execute_result"
    }
   ],
   "source": [
    "df_new.drop(\"Game\",axis=1,inplace=True)\n",
    "df_new"
   ]
  },
  {
   "cell_type": "code",
   "execution_count": 57,
   "metadata": {},
   "outputs": [
    {
     "data": {
      "text/html": "<div>\n<style scoped>\n    .dataframe tbody tr th:only-of-type {\n        vertical-align: middle;\n    }\n\n    .dataframe tbody tr th {\n        vertical-align: top;\n    }\n\n    .dataframe thead th {\n        text-align: right;\n    }\n</style>\n<table border=\"1\" class=\"dataframe\">\n  <thead>\n    <tr style=\"text-align: right;\">\n      <th></th>\n      <th>st_appid</th>\n      <th>st_release_date</th>\n      <th>st_english</th>\n      <th>st_publisher</th>\n      <th>st_achievements</th>\n      <th>st_positive_ratings</th>\n      <th>st_negative_ratings</th>\n      <th>st_average_playtime</th>\n      <th>st_median_playtime</th>\n      <th>st_owners</th>\n      <th>...</th>\n      <th>tw_Hours_watched</th>\n      <th>tw_Hours_Streamed</th>\n      <th>tw_Peak_viewers</th>\n      <th>tw_Peak_channels</th>\n      <th>tw_Streamers</th>\n      <th>tw_Avg_viewers</th>\n      <th>tw_Avg_channels</th>\n      <th>tw_Avg_viewer_ratio</th>\n      <th>st_spy_appid</th>\n      <th>st_spy_action</th>\n    </tr>\n    <tr>\n      <th>st_developer</th>\n      <th></th>\n      <th></th>\n      <th></th>\n      <th></th>\n      <th></th>\n      <th></th>\n      <th></th>\n      <th></th>\n      <th></th>\n      <th></th>\n      <th></th>\n      <th></th>\n      <th></th>\n      <th></th>\n      <th></th>\n      <th></th>\n      <th></th>\n      <th></th>\n      <th></th>\n      <th></th>\n      <th></th>\n    </tr>\n  </thead>\n  <tbody>\n    <tr>\n      <th>11 bit studios</th>\n      <td>7</td>\n      <td>7</td>\n      <td>7</td>\n      <td>7</td>\n      <td>7</td>\n      <td>7</td>\n      <td>7</td>\n      <td>7</td>\n      <td>7</td>\n      <td>7</td>\n      <td>...</td>\n      <td>7</td>\n      <td>7</td>\n      <td>7</td>\n      <td>7</td>\n      <td>7</td>\n      <td>7</td>\n      <td>7</td>\n      <td>7</td>\n      <td>7</td>\n      <td>7</td>\n    </tr>\n    <tr>\n      <th>2K Boston;2K Australia;Blind Squirrel;Feral Interactive (Mac)</th>\n      <td>2</td>\n      <td>2</td>\n      <td>2</td>\n      <td>2</td>\n      <td>2</td>\n      <td>2</td>\n      <td>2</td>\n      <td>2</td>\n      <td>2</td>\n      <td>2</td>\n      <td>...</td>\n      <td>2</td>\n      <td>2</td>\n      <td>2</td>\n      <td>2</td>\n      <td>2</td>\n      <td>2</td>\n      <td>2</td>\n      <td>2</td>\n      <td>2</td>\n      <td>2</td>\n    </tr>\n    <tr>\n      <th>2K Czech;Feral Interactive (Mac)</th>\n      <td>5</td>\n      <td>5</td>\n      <td>5</td>\n      <td>5</td>\n      <td>5</td>\n      <td>5</td>\n      <td>5</td>\n      <td>5</td>\n      <td>5</td>\n      <td>5</td>\n      <td>...</td>\n      <td>5</td>\n      <td>5</td>\n      <td>5</td>\n      <td>5</td>\n      <td>5</td>\n      <td>5</td>\n      <td>5</td>\n      <td>5</td>\n      <td>5</td>\n      <td>5</td>\n    </tr>\n    <tr>\n      <th>4A Games</th>\n      <td>7</td>\n      <td>7</td>\n      <td>7</td>\n      <td>7</td>\n      <td>7</td>\n      <td>7</td>\n      <td>7</td>\n      <td>7</td>\n      <td>7</td>\n      <td>7</td>\n      <td>...</td>\n      <td>7</td>\n      <td>7</td>\n      <td>7</td>\n      <td>7</td>\n      <td>7</td>\n      <td>7</td>\n      <td>7</td>\n      <td>7</td>\n      <td>7</td>\n      <td>7</td>\n    </tr>\n    <tr>\n      <th>AMPLITUDE Studios</th>\n      <td>1</td>\n      <td>1</td>\n      <td>1</td>\n      <td>1</td>\n      <td>1</td>\n      <td>1</td>\n      <td>1</td>\n      <td>1</td>\n      <td>1</td>\n      <td>1</td>\n      <td>...</td>\n      <td>1</td>\n      <td>1</td>\n      <td>1</td>\n      <td>1</td>\n      <td>1</td>\n      <td>1</td>\n      <td>1</td>\n      <td>1</td>\n      <td>1</td>\n      <td>1</td>\n    </tr>\n    <tr>\n      <th>...</th>\n      <td>...</td>\n      <td>...</td>\n      <td>...</td>\n      <td>...</td>\n      <td>...</td>\n      <td>...</td>\n      <td>...</td>\n      <td>...</td>\n      <td>...</td>\n      <td>...</td>\n      <td>...</td>\n      <td>...</td>\n      <td>...</td>\n      <td>...</td>\n      <td>...</td>\n      <td>...</td>\n      <td>...</td>\n      <td>...</td>\n      <td>...</td>\n      <td>...</td>\n      <td>...</td>\n    </tr>\n    <tr>\n      <th>Wargaming Group Limited</th>\n      <td>63</td>\n      <td>63</td>\n      <td>63</td>\n      <td>63</td>\n      <td>63</td>\n      <td>63</td>\n      <td>63</td>\n      <td>63</td>\n      <td>63</td>\n      <td>63</td>\n      <td>...</td>\n      <td>63</td>\n      <td>63</td>\n      <td>63</td>\n      <td>63</td>\n      <td>63</td>\n      <td>63</td>\n      <td>63</td>\n      <td>63</td>\n      <td>63</td>\n      <td>63</td>\n    </tr>\n    <tr>\n      <th>XLGAMES</th>\n      <td>10</td>\n      <td>10</td>\n      <td>10</td>\n      <td>10</td>\n      <td>10</td>\n      <td>10</td>\n      <td>10</td>\n      <td>10</td>\n      <td>10</td>\n      <td>10</td>\n      <td>...</td>\n      <td>10</td>\n      <td>10</td>\n      <td>10</td>\n      <td>10</td>\n      <td>10</td>\n      <td>10</td>\n      <td>10</td>\n      <td>10</td>\n      <td>10</td>\n      <td>10</td>\n    </tr>\n    <tr>\n      <th>id Software</th>\n      <td>18</td>\n      <td>18</td>\n      <td>18</td>\n      <td>18</td>\n      <td>18</td>\n      <td>18</td>\n      <td>18</td>\n      <td>18</td>\n      <td>18</td>\n      <td>18</td>\n      <td>...</td>\n      <td>18</td>\n      <td>18</td>\n      <td>18</td>\n      <td>18</td>\n      <td>18</td>\n      <td>18</td>\n      <td>18</td>\n      <td>18</td>\n      <td>18</td>\n      <td>18</td>\n    </tr>\n    <tr>\n      <th>inXile Entertainment</th>\n      <td>1</td>\n      <td>1</td>\n      <td>1</td>\n      <td>1</td>\n      <td>1</td>\n      <td>1</td>\n      <td>1</td>\n      <td>1</td>\n      <td>1</td>\n      <td>1</td>\n      <td>...</td>\n      <td>1</td>\n      <td>1</td>\n      <td>1</td>\n      <td>1</td>\n      <td>1</td>\n      <td>1</td>\n      <td>1</td>\n      <td>1</td>\n      <td>1</td>\n      <td>1</td>\n    </tr>\n    <tr>\n      <th>tobyfox</th>\n      <td>15</td>\n      <td>15</td>\n      <td>15</td>\n      <td>15</td>\n      <td>15</td>\n      <td>15</td>\n      <td>15</td>\n      <td>15</td>\n      <td>15</td>\n      <td>15</td>\n      <td>...</td>\n      <td>15</td>\n      <td>15</td>\n      <td>15</td>\n      <td>15</td>\n      <td>15</td>\n      <td>15</td>\n      <td>15</td>\n      <td>15</td>\n      <td>15</td>\n      <td>15</td>\n    </tr>\n  </tbody>\n</table>\n<p>183 rows × 27 columns</p>\n</div>",
      "text/plain": "                                                    st_appid  st_release_date  \\\nst_developer                                                                    \n11 bit studios                                             7                7   \n2K Boston;2K Australia;Blind Squirrel;Feral Int...         2                2   \n2K Czech;Feral Interactive (Mac)                           5                5   \n4A Games                                                   7                7   \nAMPLITUDE Studios                                          1                1   \n...                                                      ...              ...   \nWargaming Group Limited                                   63               63   \nXLGAMES                                                   10               10   \nid Software                                               18               18   \ninXile Entertainment                                       1                1   \ntobyfox                                                   15               15   \n\n                                                    st_english  st_publisher  \\\nst_developer                                                                   \n11 bit studios                                               7             7   \n2K Boston;2K Australia;Blind Squirrel;Feral Int...           2             2   \n2K Czech;Feral Interactive (Mac)                             5             5   \n4A Games                                                     7             7   \nAMPLITUDE Studios                                            1             1   \n...                                                        ...           ...   \nWargaming Group Limited                                     63            63   \nXLGAMES                                                     10            10   \nid Software                                                 18            18   \ninXile Entertainment                                         1             1   \ntobyfox                                                     15            15   \n\n                                                    st_achievements  \\\nst_developer                                                          \n11 bit studios                                                    7   \n2K Boston;2K Australia;Blind Squirrel;Feral Int...                2   \n2K Czech;Feral Interactive (Mac)                                  5   \n4A Games                                                          7   \nAMPLITUDE Studios                                                 1   \n...                                                             ...   \nWargaming Group Limited                                          63   \nXLGAMES                                                          10   \nid Software                                                      18   \ninXile Entertainment                                              1   \ntobyfox                                                          15   \n\n                                                    st_positive_ratings  \\\nst_developer                                                              \n11 bit studios                                                        7   \n2K Boston;2K Australia;Blind Squirrel;Feral Int...                    2   \n2K Czech;Feral Interactive (Mac)                                      5   \n4A Games                                                              7   \nAMPLITUDE Studios                                                     1   \n...                                                                 ...   \nWargaming Group Limited                                              63   \nXLGAMES                                                              10   \nid Software                                                          18   \ninXile Entertainment                                                  1   \ntobyfox                                                              15   \n\n                                                    st_negative_ratings  \\\nst_developer                                                              \n11 bit studios                                                        7   \n2K Boston;2K Australia;Blind Squirrel;Feral Int...                    2   \n2K Czech;Feral Interactive (Mac)                                      5   \n4A Games                                                              7   \nAMPLITUDE Studios                                                     1   \n...                                                                 ...   \nWargaming Group Limited                                              63   \nXLGAMES                                                              10   \nid Software                                                          18   \ninXile Entertainment                                                  1   \ntobyfox                                                              15   \n\n                                                    st_average_playtime  \\\nst_developer                                                              \n11 bit studios                                                        7   \n2K Boston;2K Australia;Blind Squirrel;Feral Int...                    2   \n2K Czech;Feral Interactive (Mac)                                      5   \n4A Games                                                              7   \nAMPLITUDE Studios                                                     1   \n...                                                                 ...   \nWargaming Group Limited                                              63   \nXLGAMES                                                              10   \nid Software                                                          18   \ninXile Entertainment                                                  1   \ntobyfox                                                              15   \n\n                                                    st_median_playtime  \\\nst_developer                                                             \n11 bit studios                                                       7   \n2K Boston;2K Australia;Blind Squirrel;Feral Int...                   2   \n2K Czech;Feral Interactive (Mac)                                     5   \n4A Games                                                             7   \nAMPLITUDE Studios                                                    1   \n...                                                                ...   \nWargaming Group Limited                                             63   \nXLGAMES                                                             10   \nid Software                                                         18   \ninXile Entertainment                                                 1   \ntobyfox                                                             15   \n\n                                                    st_owners  ...  \\\nst_developer                                                   ...   \n11 bit studios                                              7  ...   \n2K Boston;2K Australia;Blind Squirrel;Feral Int...          2  ...   \n2K Czech;Feral Interactive (Mac)                            5  ...   \n4A Games                                                    7  ...   \nAMPLITUDE Studios                                           1  ...   \n...                                                       ...  ...   \nWargaming Group Limited                                    63  ...   \nXLGAMES                                                    10  ...   \nid Software                                                18  ...   \ninXile Entertainment                                        1  ...   \ntobyfox                                                    15  ...   \n\n                                                    tw_Hours_watched  \\\nst_developer                                                           \n11 bit studios                                                     7   \n2K Boston;2K Australia;Blind Squirrel;Feral Int...                 2   \n2K Czech;Feral Interactive (Mac)                                   5   \n4A Games                                                           7   \nAMPLITUDE Studios                                                  1   \n...                                                              ...   \nWargaming Group Limited                                           63   \nXLGAMES                                                           10   \nid Software                                                       18   \ninXile Entertainment                                               1   \ntobyfox                                                           15   \n\n                                                    tw_Hours_Streamed  \\\nst_developer                                                            \n11 bit studios                                                      7   \n2K Boston;2K Australia;Blind Squirrel;Feral Int...                  2   \n2K Czech;Feral Interactive (Mac)                                    5   \n4A Games                                                            7   \nAMPLITUDE Studios                                                   1   \n...                                                               ...   \nWargaming Group Limited                                            63   \nXLGAMES                                                            10   \nid Software                                                        18   \ninXile Entertainment                                                1   \ntobyfox                                                            15   \n\n                                                    tw_Peak_viewers  \\\nst_developer                                                          \n11 bit studios                                                    7   \n2K Boston;2K Australia;Blind Squirrel;Feral Int...                2   \n2K Czech;Feral Interactive (Mac)                                  5   \n4A Games                                                          7   \nAMPLITUDE Studios                                                 1   \n...                                                             ...   \nWargaming Group Limited                                          63   \nXLGAMES                                                          10   \nid Software                                                      18   \ninXile Entertainment                                              1   \ntobyfox                                                          15   \n\n                                                    tw_Peak_channels  \\\nst_developer                                                           \n11 bit studios                                                     7   \n2K Boston;2K Australia;Blind Squirrel;Feral Int...                 2   \n2K Czech;Feral Interactive (Mac)                                   5   \n4A Games                                                           7   \nAMPLITUDE Studios                                                  1   \n...                                                              ...   \nWargaming Group Limited                                           63   \nXLGAMES                                                           10   \nid Software                                                       18   \ninXile Entertainment                                               1   \ntobyfox                                                           15   \n\n                                                    tw_Streamers  \\\nst_developer                                                       \n11 bit studios                                                 7   \n2K Boston;2K Australia;Blind Squirrel;Feral Int...             2   \n2K Czech;Feral Interactive (Mac)                               5   \n4A Games                                                       7   \nAMPLITUDE Studios                                              1   \n...                                                          ...   \nWargaming Group Limited                                       63   \nXLGAMES                                                       10   \nid Software                                                   18   \ninXile Entertainment                                           1   \ntobyfox                                                       15   \n\n                                                    tw_Avg_viewers  \\\nst_developer                                                         \n11 bit studios                                                   7   \n2K Boston;2K Australia;Blind Squirrel;Feral Int...               2   \n2K Czech;Feral Interactive (Mac)                                 5   \n4A Games                                                         7   \nAMPLITUDE Studios                                                1   \n...                                                            ...   \nWargaming Group Limited                                         63   \nXLGAMES                                                         10   \nid Software                                                     18   \ninXile Entertainment                                             1   \ntobyfox                                                         15   \n\n                                                    tw_Avg_channels  \\\nst_developer                                                          \n11 bit studios                                                    7   \n2K Boston;2K Australia;Blind Squirrel;Feral Int...                2   \n2K Czech;Feral Interactive (Mac)                                  5   \n4A Games                                                          7   \nAMPLITUDE Studios                                                 1   \n...                                                             ...   \nWargaming Group Limited                                          63   \nXLGAMES                                                          10   \nid Software                                                      18   \ninXile Entertainment                                              1   \ntobyfox                                                          15   \n\n                                                    tw_Avg_viewer_ratio  \\\nst_developer                                                              \n11 bit studios                                                        7   \n2K Boston;2K Australia;Blind Squirrel;Feral Int...                    2   \n2K Czech;Feral Interactive (Mac)                                      5   \n4A Games                                                              7   \nAMPLITUDE Studios                                                     1   \n...                                                                 ...   \nWargaming Group Limited                                              63   \nXLGAMES                                                              10   \nid Software                                                          18   \ninXile Entertainment                                                  1   \ntobyfox                                                              15   \n\n                                                    st_spy_appid  \\\nst_developer                                                       \n11 bit studios                                                 7   \n2K Boston;2K Australia;Blind Squirrel;Feral Int...             2   \n2K Czech;Feral Interactive (Mac)                               5   \n4A Games                                                       7   \nAMPLITUDE Studios                                              1   \n...                                                          ...   \nWargaming Group Limited                                       63   \nXLGAMES                                                       10   \nid Software                                                   18   \ninXile Entertainment                                           1   \ntobyfox                                                       15   \n\n                                                    st_spy_action  \nst_developer                                                       \n11 bit studios                                                  7  \n2K Boston;2K Australia;Blind Squirrel;Feral Int...              2  \n2K Czech;Feral Interactive (Mac)                                5  \n4A Games                                                        7  \nAMPLITUDE Studios                                               1  \n...                                                           ...  \nWargaming Group Limited                                        63  \nXLGAMES                                                        10  \nid Software                                                    18  \ninXile Entertainment                                            1  \ntobyfox                                                        15  \n\n[183 rows x 27 columns]"
     },
     "execution_count": 57,
     "metadata": {},
     "output_type": "execute_result"
    }
   ],
   "source": [
    "#check unique values for developers column\n",
    "df_new.groupby(\"st_developer\").count()"
   ]
  },
  {
   "cell_type": "code",
   "execution_count": 58,
   "metadata": {},
   "outputs": [],
   "source": [
    "#check unique values for platforms column\n",
    "#df_new.groupby(\"tw_platforms\").count()"
   ]
  },
  {
   "cell_type": "code",
   "execution_count": 59,
   "metadata": {},
   "outputs": [
    {
     "data": {
      "text/plain": "st_appid                 int64\nst_release_date         object\nst_english               int64\nst_developer            object\nst_publisher            object\nst_achievements          int64\nst_positive_ratings      int64\nst_negative_ratings      int64\nst_average_playtime      int64\nst_median_playtime       int64\nst_owners               object\nst_price               float64\nmeta_Year                int64\nmeta_Metascore           int64\nmeta_Avg_Userscore     float64\ntw_Rank                  int64\ntw_Month                 int64\ntw_Year                  int64\ntw_Hours_watched         int64\ntw_Hours_Streamed       object\ntw_Peak_viewers          int64\ntw_Peak_channels         int64\ntw_Streamers             int64\ntw_Avg_viewers           int64\ntw_Avg_channels          int64\ntw_Avg_viewer_ratio    float64\nst_spy_appid             int64\nst_spy_action            int64\ndtype: object"
     },
     "execution_count": 59,
     "metadata": {},
     "output_type": "execute_result"
    }
   ],
   "source": [
    "df_new.dtypes"
   ]
  },
  {
   "cell_type": "code",
   "execution_count": 60,
   "metadata": {},
   "outputs": [
    {
     "data": {
      "text/html": "<div>\n<style scoped>\n    .dataframe tbody tr th:only-of-type {\n        vertical-align: middle;\n    }\n\n    .dataframe tbody tr th {\n        vertical-align: top;\n    }\n\n    .dataframe thead th {\n        text-align: right;\n    }\n</style>\n<table border=\"1\" class=\"dataframe\">\n  <thead>\n    <tr style=\"text-align: right;\">\n      <th></th>\n      <th>st_appid</th>\n      <th>st_release_date</th>\n      <th>st_english</th>\n      <th>st_developer</th>\n      <th>st_publisher</th>\n      <th>st_achievements</th>\n      <th>st_positive_ratings</th>\n      <th>st_negative_ratings</th>\n      <th>st_average_playtime</th>\n      <th>st_median_playtime</th>\n      <th>...</th>\n      <th>tw_Hours_watched</th>\n      <th>tw_Hours_Streamed</th>\n      <th>tw_Peak_viewers</th>\n      <th>tw_Peak_channels</th>\n      <th>tw_Streamers</th>\n      <th>tw_Avg_viewers</th>\n      <th>tw_Avg_channels</th>\n      <th>tw_Avg_viewer_ratio</th>\n      <th>st_spy_appid</th>\n      <th>st_spy_action</th>\n    </tr>\n    <tr>\n      <th>st_owners</th>\n      <th></th>\n      <th></th>\n      <th></th>\n      <th></th>\n      <th></th>\n      <th></th>\n      <th></th>\n      <th></th>\n      <th></th>\n      <th></th>\n      <th></th>\n      <th></th>\n      <th></th>\n      <th></th>\n      <th></th>\n      <th></th>\n      <th></th>\n      <th></th>\n      <th></th>\n      <th></th>\n      <th></th>\n    </tr>\n  </thead>\n  <tbody>\n    <tr>\n      <th>100000-200000</th>\n      <td>23</td>\n      <td>23</td>\n      <td>23</td>\n      <td>23</td>\n      <td>23</td>\n      <td>23</td>\n      <td>23</td>\n      <td>23</td>\n      <td>23</td>\n      <td>23</td>\n      <td>...</td>\n      <td>23</td>\n      <td>23</td>\n      <td>23</td>\n      <td>23</td>\n      <td>23</td>\n      <td>23</td>\n      <td>23</td>\n      <td>23</td>\n      <td>23</td>\n      <td>23</td>\n    </tr>\n    <tr>\n      <th>1000000-2000000</th>\n      <td>570</td>\n      <td>570</td>\n      <td>570</td>\n      <td>570</td>\n      <td>570</td>\n      <td>570</td>\n      <td>570</td>\n      <td>570</td>\n      <td>570</td>\n      <td>570</td>\n      <td>...</td>\n      <td>570</td>\n      <td>570</td>\n      <td>570</td>\n      <td>570</td>\n      <td>570</td>\n      <td>570</td>\n      <td>570</td>\n      <td>570</td>\n      <td>570</td>\n      <td>570</td>\n    </tr>\n    <tr>\n      <th>10000000-20000000</th>\n      <td>276</td>\n      <td>276</td>\n      <td>276</td>\n      <td>276</td>\n      <td>276</td>\n      <td>276</td>\n      <td>276</td>\n      <td>276</td>\n      <td>276</td>\n      <td>276</td>\n      <td>...</td>\n      <td>276</td>\n      <td>276</td>\n      <td>276</td>\n      <td>276</td>\n      <td>276</td>\n      <td>276</td>\n      <td>276</td>\n      <td>276</td>\n      <td>276</td>\n      <td>276</td>\n    </tr>\n    <tr>\n      <th>100000000-200000000</th>\n      <td>64</td>\n      <td>64</td>\n      <td>64</td>\n      <td>64</td>\n      <td>64</td>\n      <td>64</td>\n      <td>64</td>\n      <td>64</td>\n      <td>64</td>\n      <td>64</td>\n      <td>...</td>\n      <td>64</td>\n      <td>64</td>\n      <td>64</td>\n      <td>64</td>\n      <td>64</td>\n      <td>64</td>\n      <td>64</td>\n      <td>64</td>\n      <td>64</td>\n      <td>64</td>\n    </tr>\n    <tr>\n      <th>200000-500000</th>\n      <td>238</td>\n      <td>238</td>\n      <td>238</td>\n      <td>238</td>\n      <td>238</td>\n      <td>238</td>\n      <td>238</td>\n      <td>238</td>\n      <td>238</td>\n      <td>238</td>\n      <td>...</td>\n      <td>238</td>\n      <td>238</td>\n      <td>238</td>\n      <td>238</td>\n      <td>238</td>\n      <td>238</td>\n      <td>238</td>\n      <td>238</td>\n      <td>238</td>\n      <td>238</td>\n    </tr>\n    <tr>\n      <th>2000000-5000000</th>\n      <td>708</td>\n      <td>708</td>\n      <td>708</td>\n      <td>708</td>\n      <td>708</td>\n      <td>708</td>\n      <td>708</td>\n      <td>708</td>\n      <td>708</td>\n      <td>708</td>\n      <td>...</td>\n      <td>708</td>\n      <td>708</td>\n      <td>708</td>\n      <td>708</td>\n      <td>708</td>\n      <td>708</td>\n      <td>708</td>\n      <td>708</td>\n      <td>708</td>\n      <td>708</td>\n    </tr>\n    <tr>\n      <th>20000000-50000000</th>\n      <td>31</td>\n      <td>31</td>\n      <td>31</td>\n      <td>31</td>\n      <td>31</td>\n      <td>31</td>\n      <td>31</td>\n      <td>31</td>\n      <td>31</td>\n      <td>31</td>\n      <td>...</td>\n      <td>31</td>\n      <td>31</td>\n      <td>31</td>\n      <td>31</td>\n      <td>31</td>\n      <td>31</td>\n      <td>31</td>\n      <td>31</td>\n      <td>31</td>\n      <td>31</td>\n    </tr>\n    <tr>\n      <th>50000-100000</th>\n      <td>6</td>\n      <td>6</td>\n      <td>6</td>\n      <td>6</td>\n      <td>6</td>\n      <td>6</td>\n      <td>6</td>\n      <td>6</td>\n      <td>6</td>\n      <td>6</td>\n      <td>...</td>\n      <td>6</td>\n      <td>6</td>\n      <td>6</td>\n      <td>6</td>\n      <td>6</td>\n      <td>6</td>\n      <td>6</td>\n      <td>6</td>\n      <td>6</td>\n      <td>6</td>\n    </tr>\n    <tr>\n      <th>500000-1000000</th>\n      <td>151</td>\n      <td>151</td>\n      <td>151</td>\n      <td>151</td>\n      <td>151</td>\n      <td>151</td>\n      <td>151</td>\n      <td>151</td>\n      <td>151</td>\n      <td>151</td>\n      <td>...</td>\n      <td>151</td>\n      <td>151</td>\n      <td>151</td>\n      <td>151</td>\n      <td>151</td>\n      <td>151</td>\n      <td>151</td>\n      <td>151</td>\n      <td>151</td>\n      <td>151</td>\n    </tr>\n    <tr>\n      <th>5000000-10000000</th>\n      <td>579</td>\n      <td>579</td>\n      <td>579</td>\n      <td>579</td>\n      <td>579</td>\n      <td>579</td>\n      <td>579</td>\n      <td>579</td>\n      <td>579</td>\n      <td>579</td>\n      <td>...</td>\n      <td>579</td>\n      <td>579</td>\n      <td>579</td>\n      <td>579</td>\n      <td>579</td>\n      <td>579</td>\n      <td>579</td>\n      <td>579</td>\n      <td>579</td>\n      <td>579</td>\n    </tr>\n    <tr>\n      <th>50000000-100000000</th>\n      <td>118</td>\n      <td>118</td>\n      <td>118</td>\n      <td>118</td>\n      <td>118</td>\n      <td>118</td>\n      <td>118</td>\n      <td>118</td>\n      <td>118</td>\n      <td>118</td>\n      <td>...</td>\n      <td>118</td>\n      <td>118</td>\n      <td>118</td>\n      <td>118</td>\n      <td>118</td>\n      <td>118</td>\n      <td>118</td>\n      <td>118</td>\n      <td>118</td>\n      <td>118</td>\n    </tr>\n  </tbody>\n</table>\n<p>11 rows × 27 columns</p>\n</div>",
      "text/plain": "                     st_appid  st_release_date  st_english  st_developer  \\\nst_owners                                                                  \n100000-200000              23               23          23            23   \n1000000-2000000           570              570         570           570   \n10000000-20000000         276              276         276           276   \n100000000-200000000        64               64          64            64   \n200000-500000             238              238         238           238   \n2000000-5000000           708              708         708           708   \n20000000-50000000          31               31          31            31   \n50000-100000                6                6           6             6   \n500000-1000000            151              151         151           151   \n5000000-10000000          579              579         579           579   \n50000000-100000000        118              118         118           118   \n\n                     st_publisher  st_achievements  st_positive_ratings  \\\nst_owners                                                                 \n100000-200000                  23               23                   23   \n1000000-2000000               570              570                  570   \n10000000-20000000             276              276                  276   \n100000000-200000000            64               64                   64   \n200000-500000                 238              238                  238   \n2000000-5000000               708              708                  708   \n20000000-50000000              31               31                   31   \n50000-100000                    6                6                    6   \n500000-1000000                151              151                  151   \n5000000-10000000              579              579                  579   \n50000000-100000000            118              118                  118   \n\n                     st_negative_ratings  st_average_playtime  \\\nst_owners                                                       \n100000-200000                         23                   23   \n1000000-2000000                      570                  570   \n10000000-20000000                    276                  276   \n100000000-200000000                   64                   64   \n200000-500000                        238                  238   \n2000000-5000000                      708                  708   \n20000000-50000000                     31                   31   \n50000-100000                           6                    6   \n500000-1000000                       151                  151   \n5000000-10000000                     579                  579   \n50000000-100000000                   118                  118   \n\n                     st_median_playtime  ...  tw_Hours_watched  \\\nst_owners                                ...                     \n100000-200000                        23  ...                23   \n1000000-2000000                     570  ...               570   \n10000000-20000000                   276  ...               276   \n100000000-200000000                  64  ...                64   \n200000-500000                       238  ...               238   \n2000000-5000000                     708  ...               708   \n20000000-50000000                    31  ...                31   \n50000-100000                          6  ...                 6   \n500000-1000000                      151  ...               151   \n5000000-10000000                    579  ...               579   \n50000000-100000000                  118  ...               118   \n\n                     tw_Hours_Streamed  tw_Peak_viewers  tw_Peak_channels  \\\nst_owners                                                                   \n100000-200000                       23               23                23   \n1000000-2000000                    570              570               570   \n10000000-20000000                  276              276               276   \n100000000-200000000                 64               64                64   \n200000-500000                      238              238               238   \n2000000-5000000                    708              708               708   \n20000000-50000000                   31               31                31   \n50000-100000                         6                6                 6   \n500000-1000000                     151              151               151   \n5000000-10000000                   579              579               579   \n50000000-100000000                 118              118               118   \n\n                     tw_Streamers  tw_Avg_viewers  tw_Avg_channels  \\\nst_owners                                                            \n100000-200000                  23              23               23   \n1000000-2000000               570             570              570   \n10000000-20000000             276             276              276   \n100000000-200000000            64              64               64   \n200000-500000                 238             238              238   \n2000000-5000000               708             708              708   \n20000000-50000000              31              31               31   \n50000-100000                    6               6                6   \n500000-1000000                151             151              151   \n5000000-10000000              579             579              579   \n50000000-100000000            118             118              118   \n\n                     tw_Avg_viewer_ratio  st_spy_appid  st_spy_action  \nst_owners                                                              \n100000-200000                         23            23             23  \n1000000-2000000                      570           570            570  \n10000000-20000000                    276           276            276  \n100000000-200000000                   64            64             64  \n200000-500000                        238           238            238  \n2000000-5000000                      708           708            708  \n20000000-50000000                     31            31             31  \n50000-100000                           6             6              6  \n500000-1000000                       151           151            151  \n5000000-10000000                     579           579            579  \n50000000-100000000                   118           118            118  \n\n[11 rows x 27 columns]"
     },
     "execution_count": 60,
     "metadata": {},
     "output_type": "execute_result"
    }
   ],
   "source": [
    "#check unique values for owners column\n",
    "df_new.groupby(\"st_owners\").count()\n",
    "#owners to keep and get dummies"
   ]
  },
  {
   "cell_type": "code",
   "execution_count": 61,
   "metadata": {},
   "outputs": [
    {
     "data": {
      "text/html": "<div>\n<style scoped>\n    .dataframe tbody tr th:only-of-type {\n        vertical-align: middle;\n    }\n\n    .dataframe tbody tr th {\n        vertical-align: top;\n    }\n\n    .dataframe thead th {\n        text-align: right;\n    }\n</style>\n<table border=\"1\" class=\"dataframe\">\n  <thead>\n    <tr style=\"text-align: right;\">\n      <th></th>\n      <th>st_appid</th>\n      <th>st_release_date</th>\n      <th>st_english</th>\n      <th>st_developer</th>\n      <th>st_publisher</th>\n      <th>st_achievements</th>\n      <th>st_positive_ratings</th>\n      <th>st_negative_ratings</th>\n      <th>st_average_playtime</th>\n      <th>st_median_playtime</th>\n      <th>...</th>\n      <th>tw_Year</th>\n      <th>tw_Hours_watched</th>\n      <th>tw_Peak_viewers</th>\n      <th>tw_Peak_channels</th>\n      <th>tw_Streamers</th>\n      <th>tw_Avg_viewers</th>\n      <th>tw_Avg_channels</th>\n      <th>tw_Avg_viewer_ratio</th>\n      <th>st_spy_appid</th>\n      <th>st_spy_action</th>\n    </tr>\n    <tr>\n      <th>tw_Hours_Streamed</th>\n      <th></th>\n      <th></th>\n      <th></th>\n      <th></th>\n      <th></th>\n      <th></th>\n      <th></th>\n      <th></th>\n      <th></th>\n      <th></th>\n      <th></th>\n      <th></th>\n      <th></th>\n      <th></th>\n      <th></th>\n      <th></th>\n      <th></th>\n      <th></th>\n      <th></th>\n      <th></th>\n      <th></th>\n    </tr>\n  </thead>\n  <tbody>\n    <tr>\n      <th>10011 hours</th>\n      <td>1</td>\n      <td>1</td>\n      <td>1</td>\n      <td>1</td>\n      <td>1</td>\n      <td>1</td>\n      <td>1</td>\n      <td>1</td>\n      <td>1</td>\n      <td>1</td>\n      <td>...</td>\n      <td>1</td>\n      <td>1</td>\n      <td>1</td>\n      <td>1</td>\n      <td>1</td>\n      <td>1</td>\n      <td>1</td>\n      <td>1</td>\n      <td>1</td>\n      <td>1</td>\n    </tr>\n    <tr>\n      <th>10017 hours</th>\n      <td>1</td>\n      <td>1</td>\n      <td>1</td>\n      <td>1</td>\n      <td>1</td>\n      <td>1</td>\n      <td>1</td>\n      <td>1</td>\n      <td>1</td>\n      <td>1</td>\n      <td>...</td>\n      <td>1</td>\n      <td>1</td>\n      <td>1</td>\n      <td>1</td>\n      <td>1</td>\n      <td>1</td>\n      <td>1</td>\n      <td>1</td>\n      <td>1</td>\n      <td>1</td>\n    </tr>\n    <tr>\n      <th>100209 hours</th>\n      <td>1</td>\n      <td>1</td>\n      <td>1</td>\n      <td>1</td>\n      <td>1</td>\n      <td>1</td>\n      <td>1</td>\n      <td>1</td>\n      <td>1</td>\n      <td>1</td>\n      <td>...</td>\n      <td>1</td>\n      <td>1</td>\n      <td>1</td>\n      <td>1</td>\n      <td>1</td>\n      <td>1</td>\n      <td>1</td>\n      <td>1</td>\n      <td>1</td>\n      <td>1</td>\n    </tr>\n    <tr>\n      <th>10024 hours</th>\n      <td>1</td>\n      <td>1</td>\n      <td>1</td>\n      <td>1</td>\n      <td>1</td>\n      <td>1</td>\n      <td>1</td>\n      <td>1</td>\n      <td>1</td>\n      <td>1</td>\n      <td>...</td>\n      <td>1</td>\n      <td>1</td>\n      <td>1</td>\n      <td>1</td>\n      <td>1</td>\n      <td>1</td>\n      <td>1</td>\n      <td>1</td>\n      <td>1</td>\n      <td>1</td>\n    </tr>\n    <tr>\n      <th>100544 hours</th>\n      <td>1</td>\n      <td>1</td>\n      <td>1</td>\n      <td>1</td>\n      <td>1</td>\n      <td>1</td>\n      <td>1</td>\n      <td>1</td>\n      <td>1</td>\n      <td>1</td>\n      <td>...</td>\n      <td>1</td>\n      <td>1</td>\n      <td>1</td>\n      <td>1</td>\n      <td>1</td>\n      <td>1</td>\n      <td>1</td>\n      <td>1</td>\n      <td>1</td>\n      <td>1</td>\n    </tr>\n    <tr>\n      <th>...</th>\n      <td>...</td>\n      <td>...</td>\n      <td>...</td>\n      <td>...</td>\n      <td>...</td>\n      <td>...</td>\n      <td>...</td>\n      <td>...</td>\n      <td>...</td>\n      <td>...</td>\n      <td>...</td>\n      <td>...</td>\n      <td>...</td>\n      <td>...</td>\n      <td>...</td>\n      <td>...</td>\n      <td>...</td>\n      <td>...</td>\n      <td>...</td>\n      <td>...</td>\n      <td>...</td>\n    </tr>\n    <tr>\n      <th>9949 hours</th>\n      <td>1</td>\n      <td>1</td>\n      <td>1</td>\n      <td>1</td>\n      <td>1</td>\n      <td>1</td>\n      <td>1</td>\n      <td>1</td>\n      <td>1</td>\n      <td>1</td>\n      <td>...</td>\n      <td>1</td>\n      <td>1</td>\n      <td>1</td>\n      <td>1</td>\n      <td>1</td>\n      <td>1</td>\n      <td>1</td>\n      <td>1</td>\n      <td>1</td>\n      <td>1</td>\n    </tr>\n    <tr>\n      <th>9952 hours</th>\n      <td>1</td>\n      <td>1</td>\n      <td>1</td>\n      <td>1</td>\n      <td>1</td>\n      <td>1</td>\n      <td>1</td>\n      <td>1</td>\n      <td>1</td>\n      <td>1</td>\n      <td>...</td>\n      <td>1</td>\n      <td>1</td>\n      <td>1</td>\n      <td>1</td>\n      <td>1</td>\n      <td>1</td>\n      <td>1</td>\n      <td>1</td>\n      <td>1</td>\n      <td>1</td>\n    </tr>\n    <tr>\n      <th>99521 hours</th>\n      <td>1</td>\n      <td>1</td>\n      <td>1</td>\n      <td>1</td>\n      <td>1</td>\n      <td>1</td>\n      <td>1</td>\n      <td>1</td>\n      <td>1</td>\n      <td>1</td>\n      <td>...</td>\n      <td>1</td>\n      <td>1</td>\n      <td>1</td>\n      <td>1</td>\n      <td>1</td>\n      <td>1</td>\n      <td>1</td>\n      <td>1</td>\n      <td>1</td>\n      <td>1</td>\n    </tr>\n    <tr>\n      <th>9958 hours</th>\n      <td>1</td>\n      <td>1</td>\n      <td>1</td>\n      <td>1</td>\n      <td>1</td>\n      <td>1</td>\n      <td>1</td>\n      <td>1</td>\n      <td>1</td>\n      <td>1</td>\n      <td>...</td>\n      <td>1</td>\n      <td>1</td>\n      <td>1</td>\n      <td>1</td>\n      <td>1</td>\n      <td>1</td>\n      <td>1</td>\n      <td>1</td>\n      <td>1</td>\n      <td>1</td>\n    </tr>\n    <tr>\n      <th>99901 hours</th>\n      <td>1</td>\n      <td>1</td>\n      <td>1</td>\n      <td>1</td>\n      <td>1</td>\n      <td>1</td>\n      <td>1</td>\n      <td>1</td>\n      <td>1</td>\n      <td>1</td>\n      <td>...</td>\n      <td>1</td>\n      <td>1</td>\n      <td>1</td>\n      <td>1</td>\n      <td>1</td>\n      <td>1</td>\n      <td>1</td>\n      <td>1</td>\n      <td>1</td>\n      <td>1</td>\n    </tr>\n  </tbody>\n</table>\n<p>2714 rows × 27 columns</p>\n</div>",
      "text/plain": "                   st_appid  st_release_date  st_english  st_developer  \\\ntw_Hours_Streamed                                                        \n10011 hours               1                1           1             1   \n10017 hours               1                1           1             1   \n100209 hours              1                1           1             1   \n10024 hours               1                1           1             1   \n100544 hours              1                1           1             1   \n...                     ...              ...         ...           ...   \n9949 hours                1                1           1             1   \n9952 hours                1                1           1             1   \n99521 hours               1                1           1             1   \n9958 hours                1                1           1             1   \n99901 hours               1                1           1             1   \n\n                   st_publisher  st_achievements  st_positive_ratings  \\\ntw_Hours_Streamed                                                       \n10011 hours                   1                1                    1   \n10017 hours                   1                1                    1   \n100209 hours                  1                1                    1   \n10024 hours                   1                1                    1   \n100544 hours                  1                1                    1   \n...                         ...              ...                  ...   \n9949 hours                    1                1                    1   \n9952 hours                    1                1                    1   \n99521 hours                   1                1                    1   \n9958 hours                    1                1                    1   \n99901 hours                   1                1                    1   \n\n                   st_negative_ratings  st_average_playtime  \\\ntw_Hours_Streamed                                             \n10011 hours                          1                    1   \n10017 hours                          1                    1   \n100209 hours                         1                    1   \n10024 hours                          1                    1   \n100544 hours                         1                    1   \n...                                ...                  ...   \n9949 hours                           1                    1   \n9952 hours                           1                    1   \n99521 hours                          1                    1   \n9958 hours                           1                    1   \n99901 hours                          1                    1   \n\n                   st_median_playtime  ...  tw_Year  tw_Hours_watched  \\\ntw_Hours_Streamed                      ...                              \n10011 hours                         1  ...        1                 1   \n10017 hours                         1  ...        1                 1   \n100209 hours                        1  ...        1                 1   \n10024 hours                         1  ...        1                 1   \n100544 hours                        1  ...        1                 1   \n...                               ...  ...      ...               ...   \n9949 hours                          1  ...        1                 1   \n9952 hours                          1  ...        1                 1   \n99521 hours                         1  ...        1                 1   \n9958 hours                          1  ...        1                 1   \n99901 hours                         1  ...        1                 1   \n\n                   tw_Peak_viewers  tw_Peak_channels  tw_Streamers  \\\ntw_Hours_Streamed                                                    \n10011 hours                      1                 1             1   \n10017 hours                      1                 1             1   \n100209 hours                     1                 1             1   \n10024 hours                      1                 1             1   \n100544 hours                     1                 1             1   \n...                            ...               ...           ...   \n9949 hours                       1                 1             1   \n9952 hours                       1                 1             1   \n99521 hours                      1                 1             1   \n9958 hours                       1                 1             1   \n99901 hours                      1                 1             1   \n\n                   tw_Avg_viewers  tw_Avg_channels  tw_Avg_viewer_ratio  \\\ntw_Hours_Streamed                                                         \n10011 hours                     1                1                    1   \n10017 hours                     1                1                    1   \n100209 hours                    1                1                    1   \n10024 hours                     1                1                    1   \n100544 hours                    1                1                    1   \n...                           ...              ...                  ...   \n9949 hours                      1                1                    1   \n9952 hours                      1                1                    1   \n99521 hours                     1                1                    1   \n9958 hours                      1                1                    1   \n99901 hours                     1                1                    1   \n\n                   st_spy_appid  st_spy_action  \ntw_Hours_Streamed                               \n10011 hours                   1              1  \n10017 hours                   1              1  \n100209 hours                  1              1  \n10024 hours                   1              1  \n100544 hours                  1              1  \n...                         ...            ...  \n9949 hours                    1              1  \n9952 hours                    1              1  \n99521 hours                   1              1  \n9958 hours                    1              1  \n99901 hours                   1              1  \n\n[2714 rows x 27 columns]"
     },
     "execution_count": 61,
     "metadata": {},
     "output_type": "execute_result"
    }
   ],
   "source": [
    "#check unique values for Hous_Streamed column\n",
    "df_new.groupby(\"tw_Hours_Streamed\").count()\n",
    "#owners to keep and get dummies"
   ]
  },
  {
   "cell_type": "code",
   "execution_count": 62,
   "metadata": {},
   "outputs": [],
   "source": [
    "import re"
   ]
  },
  {
   "cell_type": "code",
   "execution_count": 63,
   "metadata": {},
   "outputs": [
    {
     "data": {
      "text/plain": "Game\nhalflife 2                                   2357\nhalflife 2                                   3048\nhalflife 2                                  11281\nteam fortress 2                             25296\nteam fortress 2                             23017\n                                            ...  \nborderlands                                 80946\nthe messenger                                9522\nthe messenger                                5746\nthe awesome adventures of captain spirit    11897\nmark of the ninja                             341\nName: S_Hours, Length: 2764, dtype: int64"
     },
     "execution_count": 63,
     "metadata": {},
     "output_type": "execute_result"
    }
   ],
   "source": [
    "#remove hours in Hours_Streamed column and create a new column called S_Hours\n",
    "df_new[\"S_Hours\"] = df_new[\"tw_Hours_Streamed\"].str.replace(r'\\W*hours\\W*','').astype(int)\n",
    "df_new[\"S_Hours\"]\n"
   ]
  },
  {
   "cell_type": "code",
   "execution_count": 64,
   "metadata": {},
   "outputs": [],
   "source": [
    "#create new column called year to get only the year from released_date column\n",
    "#df_new[\"year\"] = pd.DatetimeIndex(df[\"release_date\"]).year\n",
    "#df_new[\"year\"]\n",
    "#there is column Year_x already existing"
   ]
  },
  {
   "cell_type": "code",
   "execution_count": 65,
   "metadata": {},
   "outputs": [],
   "source": [
    "#drop extra columns\n",
    "df_new.drop(columns = [\"st_publisher\",\"st_developer\",\"tw_Hours_Streamed\",\"st_release_date\",\"st_appid\"], axis=1, inplace=True)"
   ]
  },
  {
   "cell_type": "code",
   "execution_count": 66,
   "metadata": {},
   "outputs": [
    {
     "data": {
      "text/html": "<div>\n<style scoped>\n    .dataframe tbody tr th:only-of-type {\n        vertical-align: middle;\n    }\n\n    .dataframe tbody tr th {\n        vertical-align: top;\n    }\n\n    .dataframe thead th {\n        text-align: right;\n    }\n</style>\n<table border=\"1\" class=\"dataframe\">\n  <thead>\n    <tr style=\"text-align: right;\">\n      <th></th>\n      <th>st_english</th>\n      <th>st_achievements</th>\n      <th>st_positive_ratings</th>\n      <th>st_negative_ratings</th>\n      <th>st_average_playtime</th>\n      <th>st_median_playtime</th>\n      <th>st_owners</th>\n      <th>st_price</th>\n      <th>meta_Year</th>\n      <th>meta_Metascore</th>\n      <th>...</th>\n      <th>tw_Hours_watched</th>\n      <th>tw_Peak_viewers</th>\n      <th>tw_Peak_channels</th>\n      <th>tw_Streamers</th>\n      <th>tw_Avg_viewers</th>\n      <th>tw_Avg_channels</th>\n      <th>tw_Avg_viewer_ratio</th>\n      <th>st_spy_appid</th>\n      <th>st_spy_action</th>\n      <th>S_Hours</th>\n    </tr>\n    <tr>\n      <th>Game</th>\n      <th></th>\n      <th></th>\n      <th></th>\n      <th></th>\n      <th></th>\n      <th></th>\n      <th></th>\n      <th></th>\n      <th></th>\n      <th></th>\n      <th></th>\n      <th></th>\n      <th></th>\n      <th></th>\n      <th></th>\n      <th></th>\n      <th></th>\n      <th></th>\n      <th></th>\n      <th></th>\n      <th></th>\n    </tr>\n  </thead>\n  <tbody>\n    <tr>\n      <th>halflife 2</th>\n      <td>1</td>\n      <td>33</td>\n      <td>67902</td>\n      <td>2419</td>\n      <td>691</td>\n      <td>402</td>\n      <td>10000000-20000000</td>\n      <td>7.19</td>\n      <td>2004</td>\n      <td>96</td>\n      <td>...</td>\n      <td>211067</td>\n      <td>162911</td>\n      <td>16</td>\n      <td>669</td>\n      <td>284</td>\n      <td>3</td>\n      <td>89.55</td>\n      <td>220</td>\n      <td>1761</td>\n      <td>2357</td>\n    </tr>\n    <tr>\n      <th>halflife 2</th>\n      <td>1</td>\n      <td>33</td>\n      <td>67902</td>\n      <td>2419</td>\n      <td>691</td>\n      <td>402</td>\n      <td>10000000-20000000</td>\n      <td>7.19</td>\n      <td>2004</td>\n      <td>96</td>\n      <td>...</td>\n      <td>296978</td>\n      <td>142862</td>\n      <td>20</td>\n      <td>859</td>\n      <td>399</td>\n      <td>4</td>\n      <td>97.43</td>\n      <td>220</td>\n      <td>1761</td>\n      <td>3048</td>\n    </tr>\n    <tr>\n      <th>halflife 2</th>\n      <td>1</td>\n      <td>33</td>\n      <td>67902</td>\n      <td>2419</td>\n      <td>691</td>\n      <td>402</td>\n      <td>10000000-20000000</td>\n      <td>7.19</td>\n      <td>2004</td>\n      <td>96</td>\n      <td>...</td>\n      <td>475945</td>\n      <td>12877</td>\n      <td>45</td>\n      <td>2437</td>\n      <td>640</td>\n      <td>15</td>\n      <td>42.19</td>\n      <td>220</td>\n      <td>1761</td>\n      <td>11281</td>\n    </tr>\n    <tr>\n      <th>team fortress 2</th>\n      <td>1</td>\n      <td>520</td>\n      <td>515879</td>\n      <td>34036</td>\n      <td>8495</td>\n      <td>623</td>\n      <td>20000000-50000000</td>\n      <td>0.00</td>\n      <td>2007</td>\n      <td>92</td>\n      <td>...</td>\n      <td>329765</td>\n      <td>32609</td>\n      <td>86</td>\n      <td>4933</td>\n      <td>443</td>\n      <td>34</td>\n      <td>13.04</td>\n      <td>440</td>\n      <td>8188</td>\n      <td>25296</td>\n    </tr>\n    <tr>\n      <th>team fortress 2</th>\n      <td>1</td>\n      <td>520</td>\n      <td>515879</td>\n      <td>34036</td>\n      <td>8495</td>\n      <td>623</td>\n      <td>20000000-50000000</td>\n      <td>0.00</td>\n      <td>2007</td>\n      <td>92</td>\n      <td>...</td>\n      <td>270708</td>\n      <td>7883</td>\n      <td>88</td>\n      <td>4509</td>\n      <td>389</td>\n      <td>33</td>\n      <td>11.76</td>\n      <td>440</td>\n      <td>8188</td>\n      <td>23017</td>\n    </tr>\n    <tr>\n      <th>...</th>\n      <td>...</td>\n      <td>...</td>\n      <td>...</td>\n      <td>...</td>\n      <td>...</td>\n      <td>...</td>\n      <td>...</td>\n      <td>...</td>\n      <td>...</td>\n      <td>...</td>\n      <td>...</td>\n      <td>...</td>\n      <td>...</td>\n      <td>...</td>\n      <td>...</td>\n      <td>...</td>\n      <td>...</td>\n      <td>...</td>\n      <td>...</td>\n      <td>...</td>\n      <td>...</td>\n    </tr>\n    <tr>\n      <th>borderlands</th>\n      <td>1</td>\n      <td>80</td>\n      <td>1648</td>\n      <td>920</td>\n      <td>408</td>\n      <td>278</td>\n      <td>100000-200000</td>\n      <td>24.99</td>\n      <td>2009</td>\n      <td>81</td>\n      <td>...</td>\n      <td>1772278</td>\n      <td>30059</td>\n      <td>834</td>\n      <td>12746</td>\n      <td>2464</td>\n      <td>112</td>\n      <td>21.89</td>\n      <td>729040</td>\n      <td>38</td>\n      <td>80946</td>\n    </tr>\n    <tr>\n      <th>the messenger</th>\n      <td>1</td>\n      <td>40</td>\n      <td>1846</td>\n      <td>90</td>\n      <td>0</td>\n      <td>0</td>\n      <td>50000-100000</td>\n      <td>15.49</td>\n      <td>2018</td>\n      <td>84</td>\n      <td>...</td>\n      <td>516683</td>\n      <td>11822</td>\n      <td>51</td>\n      <td>1426</td>\n      <td>718</td>\n      <td>13</td>\n      <td>54.26</td>\n      <td>764790</td>\n      <td>64</td>\n      <td>9522</td>\n    </tr>\n    <tr>\n      <th>the messenger</th>\n      <td>1</td>\n      <td>40</td>\n      <td>1846</td>\n      <td>90</td>\n      <td>0</td>\n      <td>0</td>\n      <td>50000-100000</td>\n      <td>15.49</td>\n      <td>2018</td>\n      <td>84</td>\n      <td>...</td>\n      <td>346553</td>\n      <td>151270</td>\n      <td>25</td>\n      <td>1012</td>\n      <td>466</td>\n      <td>7</td>\n      <td>60.31</td>\n      <td>764790</td>\n      <td>64</td>\n      <td>5746</td>\n    </tr>\n    <tr>\n      <th>the awesome adventures of captain spirit</th>\n      <td>1</td>\n      <td>0</td>\n      <td>8077</td>\n      <td>667</td>\n      <td>68</td>\n      <td>65</td>\n      <td>500000-1000000</td>\n      <td>0.00</td>\n      <td>2018</td>\n      <td>80</td>\n      <td>...</td>\n      <td>407823</td>\n      <td>33924</td>\n      <td>343</td>\n      <td>6394</td>\n      <td>567</td>\n      <td>16</td>\n      <td>34.28</td>\n      <td>845070</td>\n      <td>0</td>\n      <td>11897</td>\n    </tr>\n    <tr>\n      <th>mark of the ninja</th>\n      <td>1</td>\n      <td>38</td>\n      <td>802</td>\n      <td>47</td>\n      <td>162</td>\n      <td>289</td>\n      <td>50000-100000</td>\n      <td>15.49</td>\n      <td>2012</td>\n      <td>91</td>\n      <td>...</td>\n      <td>167880</td>\n      <td>114059</td>\n      <td>8</td>\n      <td>101</td>\n      <td>225</td>\n      <td>0</td>\n      <td>492.32</td>\n      <td>860950</td>\n      <td>36</td>\n      <td>341</td>\n    </tr>\n  </tbody>\n</table>\n<p>2764 rows × 24 columns</p>\n</div>",
      "text/plain": "                                          st_english  st_achievements  \\\nGame                                                                    \nhalflife 2                                         1               33   \nhalflife 2                                         1               33   \nhalflife 2                                         1               33   \nteam fortress 2                                    1              520   \nteam fortress 2                                    1              520   \n...                                              ...              ...   \nborderlands                                        1               80   \nthe messenger                                      1               40   \nthe messenger                                      1               40   \nthe awesome adventures of captain spirit           1                0   \nmark of the ninja                                  1               38   \n\n                                          st_positive_ratings  \\\nGame                                                            \nhalflife 2                                              67902   \nhalflife 2                                              67902   \nhalflife 2                                              67902   \nteam fortress 2                                        515879   \nteam fortress 2                                        515879   \n...                                                       ...   \nborderlands                                              1648   \nthe messenger                                            1846   \nthe messenger                                            1846   \nthe awesome adventures of captain spirit                 8077   \nmark of the ninja                                         802   \n\n                                          st_negative_ratings  \\\nGame                                                            \nhalflife 2                                               2419   \nhalflife 2                                               2419   \nhalflife 2                                               2419   \nteam fortress 2                                         34036   \nteam fortress 2                                         34036   \n...                                                       ...   \nborderlands                                               920   \nthe messenger                                              90   \nthe messenger                                              90   \nthe awesome adventures of captain spirit                  667   \nmark of the ninja                                          47   \n\n                                          st_average_playtime  \\\nGame                                                            \nhalflife 2                                                691   \nhalflife 2                                                691   \nhalflife 2                                                691   \nteam fortress 2                                          8495   \nteam fortress 2                                          8495   \n...                                                       ...   \nborderlands                                               408   \nthe messenger                                               0   \nthe messenger                                               0   \nthe awesome adventures of captain spirit                   68   \nmark of the ninja                                         162   \n\n                                          st_median_playtime  \\\nGame                                                           \nhalflife 2                                               402   \nhalflife 2                                               402   \nhalflife 2                                               402   \nteam fortress 2                                          623   \nteam fortress 2                                          623   \n...                                                      ...   \nborderlands                                              278   \nthe messenger                                              0   \nthe messenger                                              0   \nthe awesome adventures of captain spirit                  65   \nmark of the ninja                                        289   \n\n                                                  st_owners  st_price  \\\nGame                                                                    \nhalflife 2                                10000000-20000000      7.19   \nhalflife 2                                10000000-20000000      7.19   \nhalflife 2                                10000000-20000000      7.19   \nteam fortress 2                           20000000-50000000      0.00   \nteam fortress 2                           20000000-50000000      0.00   \n...                                                     ...       ...   \nborderlands                                   100000-200000     24.99   \nthe messenger                                  50000-100000     15.49   \nthe messenger                                  50000-100000     15.49   \nthe awesome adventures of captain spirit     500000-1000000      0.00   \nmark of the ninja                              50000-100000     15.49   \n\n                                          meta_Year  meta_Metascore  ...  \\\nGame                                                                 ...   \nhalflife 2                                     2004              96  ...   \nhalflife 2                                     2004              96  ...   \nhalflife 2                                     2004              96  ...   \nteam fortress 2                                2007              92  ...   \nteam fortress 2                                2007              92  ...   \n...                                             ...             ...  ...   \nborderlands                                    2009              81  ...   \nthe messenger                                  2018              84  ...   \nthe messenger                                  2018              84  ...   \nthe awesome adventures of captain spirit       2018              80  ...   \nmark of the ninja                              2012              91  ...   \n\n                                          tw_Hours_watched  tw_Peak_viewers  \\\nGame                                                                          \nhalflife 2                                          211067           162911   \nhalflife 2                                          296978           142862   \nhalflife 2                                          475945            12877   \nteam fortress 2                                     329765            32609   \nteam fortress 2                                     270708             7883   \n...                                                    ...              ...   \nborderlands                                        1772278            30059   \nthe messenger                                       516683            11822   \nthe messenger                                       346553           151270   \nthe awesome adventures of captain spirit            407823            33924   \nmark of the ninja                                   167880           114059   \n\n                                          tw_Peak_channels  tw_Streamers  \\\nGame                                                                       \nhalflife 2                                              16           669   \nhalflife 2                                              20           859   \nhalflife 2                                              45          2437   \nteam fortress 2                                         86          4933   \nteam fortress 2                                         88          4509   \n...                                                    ...           ...   \nborderlands                                            834         12746   \nthe messenger                                           51          1426   \nthe messenger                                           25          1012   \nthe awesome adventures of captain spirit               343          6394   \nmark of the ninja                                        8           101   \n\n                                          tw_Avg_viewers  tw_Avg_channels  \\\nGame                                                                        \nhalflife 2                                           284                3   \nhalflife 2                                           399                4   \nhalflife 2                                           640               15   \nteam fortress 2                                      443               34   \nteam fortress 2                                      389               33   \n...                                                  ...              ...   \nborderlands                                         2464              112   \nthe messenger                                        718               13   \nthe messenger                                        466                7   \nthe awesome adventures of captain spirit             567               16   \nmark of the ninja                                    225                0   \n\n                                          tw_Avg_viewer_ratio  st_spy_appid  \\\nGame                                                                          \nhalflife 2                                              89.55           220   \nhalflife 2                                              97.43           220   \nhalflife 2                                              42.19           220   \nteam fortress 2                                         13.04           440   \nteam fortress 2                                         11.76           440   \n...                                                       ...           ...   \nborderlands                                             21.89        729040   \nthe messenger                                           54.26        764790   \nthe messenger                                           60.31        764790   \nthe awesome adventures of captain spirit                34.28        845070   \nmark of the ninja                                      492.32        860950   \n\n                                          st_spy_action  S_Hours  \nGame                                                              \nhalflife 2                                         1761     2357  \nhalflife 2                                         1761     3048  \nhalflife 2                                         1761    11281  \nteam fortress 2                                    8188    25296  \nteam fortress 2                                    8188    23017  \n...                                                 ...      ...  \nborderlands                                          38    80946  \nthe messenger                                        64     9522  \nthe messenger                                        64     5746  \nthe awesome adventures of captain spirit              0    11897  \nmark of the ninja                                    36      341  \n\n[2764 rows x 24 columns]"
     },
     "execution_count": 66,
     "metadata": {},
     "output_type": "execute_result"
    }
   ],
   "source": [
    "df_new"
   ]
  },
  {
   "cell_type": "code",
   "execution_count": 67,
   "metadata": {},
   "outputs": [
    {
     "data": {
      "text/plain": "st_english               int64\nst_achievements          int64\nst_positive_ratings      int64\nst_negative_ratings      int64\nst_average_playtime      int64\nst_median_playtime       int64\nst_owners               object\nst_price               float64\nmeta_Year                int64\nmeta_Metascore           int64\nmeta_Avg_Userscore     float64\ntw_Rank                  int64\ntw_Month                 int64\ntw_Year                  int64\ntw_Hours_watched         int64\ntw_Peak_viewers          int64\ntw_Peak_channels         int64\ntw_Streamers             int64\ntw_Avg_viewers           int64\ntw_Avg_channels          int64\ntw_Avg_viewer_ratio    float64\nst_spy_appid             int64\nst_spy_action            int64\nS_Hours                  int64\ndtype: object"
     },
     "execution_count": 67,
     "metadata": {},
     "output_type": "execute_result"
    }
   ],
   "source": [
    "df_new.dtypes"
   ]
  },
  {
   "cell_type": "code",
   "execution_count": 68,
   "metadata": {},
   "outputs": [
    {
     "data": {
      "text/html": "<div>\n<style scoped>\n    .dataframe tbody tr th:only-of-type {\n        vertical-align: middle;\n    }\n\n    .dataframe tbody tr th {\n        vertical-align: top;\n    }\n\n    .dataframe thead th {\n        text-align: right;\n    }\n</style>\n<table border=\"1\" class=\"dataframe\">\n  <thead>\n    <tr style=\"text-align: right;\">\n      <th></th>\n      <th>st_english</th>\n      <th>st_achievements</th>\n      <th>st_positive_ratings</th>\n      <th>st_negative_ratings</th>\n      <th>st_average_playtime</th>\n      <th>st_median_playtime</th>\n      <th>st_price</th>\n      <th>meta_Year</th>\n      <th>meta_Metascore</th>\n      <th>meta_Avg_Userscore</th>\n      <th>...</th>\n      <th>st_owners_1000000-2000000</th>\n      <th>st_owners_10000000-20000000</th>\n      <th>st_owners_100000000-200000000</th>\n      <th>st_owners_200000-500000</th>\n      <th>st_owners_2000000-5000000</th>\n      <th>st_owners_20000000-50000000</th>\n      <th>st_owners_50000-100000</th>\n      <th>st_owners_500000-1000000</th>\n      <th>st_owners_5000000-10000000</th>\n      <th>st_owners_50000000-100000000</th>\n    </tr>\n    <tr>\n      <th>Game</th>\n      <th></th>\n      <th></th>\n      <th></th>\n      <th></th>\n      <th></th>\n      <th></th>\n      <th></th>\n      <th></th>\n      <th></th>\n      <th></th>\n      <th></th>\n      <th></th>\n      <th></th>\n      <th></th>\n      <th></th>\n      <th></th>\n      <th></th>\n      <th></th>\n      <th></th>\n      <th></th>\n      <th></th>\n    </tr>\n  </thead>\n  <tbody>\n    <tr>\n      <th>halflife 2</th>\n      <td>1</td>\n      <td>33</td>\n      <td>67902</td>\n      <td>2419</td>\n      <td>691</td>\n      <td>402</td>\n      <td>7.19</td>\n      <td>2004</td>\n      <td>96</td>\n      <td>9.1</td>\n      <td>...</td>\n      <td>0</td>\n      <td>1</td>\n      <td>0</td>\n      <td>0</td>\n      <td>0</td>\n      <td>0</td>\n      <td>0</td>\n      <td>0</td>\n      <td>0</td>\n      <td>0</td>\n    </tr>\n    <tr>\n      <th>halflife 2</th>\n      <td>1</td>\n      <td>33</td>\n      <td>67902</td>\n      <td>2419</td>\n      <td>691</td>\n      <td>402</td>\n      <td>7.19</td>\n      <td>2004</td>\n      <td>96</td>\n      <td>9.1</td>\n      <td>...</td>\n      <td>0</td>\n      <td>1</td>\n      <td>0</td>\n      <td>0</td>\n      <td>0</td>\n      <td>0</td>\n      <td>0</td>\n      <td>0</td>\n      <td>0</td>\n      <td>0</td>\n    </tr>\n    <tr>\n      <th>halflife 2</th>\n      <td>1</td>\n      <td>33</td>\n      <td>67902</td>\n      <td>2419</td>\n      <td>691</td>\n      <td>402</td>\n      <td>7.19</td>\n      <td>2004</td>\n      <td>96</td>\n      <td>9.1</td>\n      <td>...</td>\n      <td>0</td>\n      <td>1</td>\n      <td>0</td>\n      <td>0</td>\n      <td>0</td>\n      <td>0</td>\n      <td>0</td>\n      <td>0</td>\n      <td>0</td>\n      <td>0</td>\n    </tr>\n    <tr>\n      <th>team fortress 2</th>\n      <td>1</td>\n      <td>520</td>\n      <td>515879</td>\n      <td>34036</td>\n      <td>8495</td>\n      <td>623</td>\n      <td>0.00</td>\n      <td>2007</td>\n      <td>92</td>\n      <td>9.1</td>\n      <td>...</td>\n      <td>0</td>\n      <td>0</td>\n      <td>0</td>\n      <td>0</td>\n      <td>0</td>\n      <td>1</td>\n      <td>0</td>\n      <td>0</td>\n      <td>0</td>\n      <td>0</td>\n    </tr>\n    <tr>\n      <th>team fortress 2</th>\n      <td>1</td>\n      <td>520</td>\n      <td>515879</td>\n      <td>34036</td>\n      <td>8495</td>\n      <td>623</td>\n      <td>0.00</td>\n      <td>2007</td>\n      <td>92</td>\n      <td>9.1</td>\n      <td>...</td>\n      <td>0</td>\n      <td>0</td>\n      <td>0</td>\n      <td>0</td>\n      <td>0</td>\n      <td>1</td>\n      <td>0</td>\n      <td>0</td>\n      <td>0</td>\n      <td>0</td>\n    </tr>\n    <tr>\n      <th>...</th>\n      <td>...</td>\n      <td>...</td>\n      <td>...</td>\n      <td>...</td>\n      <td>...</td>\n      <td>...</td>\n      <td>...</td>\n      <td>...</td>\n      <td>...</td>\n      <td>...</td>\n      <td>...</td>\n      <td>...</td>\n      <td>...</td>\n      <td>...</td>\n      <td>...</td>\n      <td>...</td>\n      <td>...</td>\n      <td>...</td>\n      <td>...</td>\n      <td>...</td>\n      <td>...</td>\n    </tr>\n    <tr>\n      <th>borderlands</th>\n      <td>1</td>\n      <td>80</td>\n      <td>1648</td>\n      <td>920</td>\n      <td>408</td>\n      <td>278</td>\n      <td>24.99</td>\n      <td>2009</td>\n      <td>81</td>\n      <td>7.7</td>\n      <td>...</td>\n      <td>0</td>\n      <td>0</td>\n      <td>0</td>\n      <td>0</td>\n      <td>0</td>\n      <td>0</td>\n      <td>0</td>\n      <td>0</td>\n      <td>0</td>\n      <td>0</td>\n    </tr>\n    <tr>\n      <th>the messenger</th>\n      <td>1</td>\n      <td>40</td>\n      <td>1846</td>\n      <td>90</td>\n      <td>0</td>\n      <td>0</td>\n      <td>15.49</td>\n      <td>2018</td>\n      <td>84</td>\n      <td>5.2</td>\n      <td>...</td>\n      <td>0</td>\n      <td>0</td>\n      <td>0</td>\n      <td>0</td>\n      <td>0</td>\n      <td>0</td>\n      <td>1</td>\n      <td>0</td>\n      <td>0</td>\n      <td>0</td>\n    </tr>\n    <tr>\n      <th>the messenger</th>\n      <td>1</td>\n      <td>40</td>\n      <td>1846</td>\n      <td>90</td>\n      <td>0</td>\n      <td>0</td>\n      <td>15.49</td>\n      <td>2018</td>\n      <td>84</td>\n      <td>5.2</td>\n      <td>...</td>\n      <td>0</td>\n      <td>0</td>\n      <td>0</td>\n      <td>0</td>\n      <td>0</td>\n      <td>0</td>\n      <td>1</td>\n      <td>0</td>\n      <td>0</td>\n      <td>0</td>\n    </tr>\n    <tr>\n      <th>the awesome adventures of captain spirit</th>\n      <td>1</td>\n      <td>0</td>\n      <td>8077</td>\n      <td>667</td>\n      <td>68</td>\n      <td>65</td>\n      <td>0.00</td>\n      <td>2018</td>\n      <td>80</td>\n      <td>7.8</td>\n      <td>...</td>\n      <td>0</td>\n      <td>0</td>\n      <td>0</td>\n      <td>0</td>\n      <td>0</td>\n      <td>0</td>\n      <td>0</td>\n      <td>1</td>\n      <td>0</td>\n      <td>0</td>\n    </tr>\n    <tr>\n      <th>mark of the ninja</th>\n      <td>1</td>\n      <td>38</td>\n      <td>802</td>\n      <td>47</td>\n      <td>162</td>\n      <td>289</td>\n      <td>15.49</td>\n      <td>2012</td>\n      <td>91</td>\n      <td>8.0</td>\n      <td>...</td>\n      <td>0</td>\n      <td>0</td>\n      <td>0</td>\n      <td>0</td>\n      <td>0</td>\n      <td>0</td>\n      <td>1</td>\n      <td>0</td>\n      <td>0</td>\n      <td>0</td>\n    </tr>\n  </tbody>\n</table>\n<p>2764 rows × 34 columns</p>\n</div>",
      "text/plain": "                                          st_english  st_achievements  \\\nGame                                                                    \nhalflife 2                                         1               33   \nhalflife 2                                         1               33   \nhalflife 2                                         1               33   \nteam fortress 2                                    1              520   \nteam fortress 2                                    1              520   \n...                                              ...              ...   \nborderlands                                        1               80   \nthe messenger                                      1               40   \nthe messenger                                      1               40   \nthe awesome adventures of captain spirit           1                0   \nmark of the ninja                                  1               38   \n\n                                          st_positive_ratings  \\\nGame                                                            \nhalflife 2                                              67902   \nhalflife 2                                              67902   \nhalflife 2                                              67902   \nteam fortress 2                                        515879   \nteam fortress 2                                        515879   \n...                                                       ...   \nborderlands                                              1648   \nthe messenger                                            1846   \nthe messenger                                            1846   \nthe awesome adventures of captain spirit                 8077   \nmark of the ninja                                         802   \n\n                                          st_negative_ratings  \\\nGame                                                            \nhalflife 2                                               2419   \nhalflife 2                                               2419   \nhalflife 2                                               2419   \nteam fortress 2                                         34036   \nteam fortress 2                                         34036   \n...                                                       ...   \nborderlands                                               920   \nthe messenger                                              90   \nthe messenger                                              90   \nthe awesome adventures of captain spirit                  667   \nmark of the ninja                                          47   \n\n                                          st_average_playtime  \\\nGame                                                            \nhalflife 2                                                691   \nhalflife 2                                                691   \nhalflife 2                                                691   \nteam fortress 2                                          8495   \nteam fortress 2                                          8495   \n...                                                       ...   \nborderlands                                               408   \nthe messenger                                               0   \nthe messenger                                               0   \nthe awesome adventures of captain spirit                   68   \nmark of the ninja                                         162   \n\n                                          st_median_playtime  st_price  \\\nGame                                                                     \nhalflife 2                                               402      7.19   \nhalflife 2                                               402      7.19   \nhalflife 2                                               402      7.19   \nteam fortress 2                                          623      0.00   \nteam fortress 2                                          623      0.00   \n...                                                      ...       ...   \nborderlands                                              278     24.99   \nthe messenger                                              0     15.49   \nthe messenger                                              0     15.49   \nthe awesome adventures of captain spirit                  65      0.00   \nmark of the ninja                                        289     15.49   \n\n                                          meta_Year  meta_Metascore  \\\nGame                                                                  \nhalflife 2                                     2004              96   \nhalflife 2                                     2004              96   \nhalflife 2                                     2004              96   \nteam fortress 2                                2007              92   \nteam fortress 2                                2007              92   \n...                                             ...             ...   \nborderlands                                    2009              81   \nthe messenger                                  2018              84   \nthe messenger                                  2018              84   \nthe awesome adventures of captain spirit       2018              80   \nmark of the ninja                              2012              91   \n\n                                          meta_Avg_Userscore  ...  \\\nGame                                                          ...   \nhalflife 2                                               9.1  ...   \nhalflife 2                                               9.1  ...   \nhalflife 2                                               9.1  ...   \nteam fortress 2                                          9.1  ...   \nteam fortress 2                                          9.1  ...   \n...                                                      ...  ...   \nborderlands                                              7.7  ...   \nthe messenger                                            5.2  ...   \nthe messenger                                            5.2  ...   \nthe awesome adventures of captain spirit                 7.8  ...   \nmark of the ninja                                        8.0  ...   \n\n                                          st_owners_1000000-2000000  \\\nGame                                                                  \nhalflife 2                                                        0   \nhalflife 2                                                        0   \nhalflife 2                                                        0   \nteam fortress 2                                                   0   \nteam fortress 2                                                   0   \n...                                                             ...   \nborderlands                                                       0   \nthe messenger                                                     0   \nthe messenger                                                     0   \nthe awesome adventures of captain spirit                          0   \nmark of the ninja                                                 0   \n\n                                          st_owners_10000000-20000000  \\\nGame                                                                    \nhalflife 2                                                          1   \nhalflife 2                                                          1   \nhalflife 2                                                          1   \nteam fortress 2                                                     0   \nteam fortress 2                                                     0   \n...                                                               ...   \nborderlands                                                         0   \nthe messenger                                                       0   \nthe messenger                                                       0   \nthe awesome adventures of captain spirit                            0   \nmark of the ninja                                                   0   \n\n                                          st_owners_100000000-200000000  \\\nGame                                                                      \nhalflife 2                                                            0   \nhalflife 2                                                            0   \nhalflife 2                                                            0   \nteam fortress 2                                                       0   \nteam fortress 2                                                       0   \n...                                                                 ...   \nborderlands                                                           0   \nthe messenger                                                         0   \nthe messenger                                                         0   \nthe awesome adventures of captain spirit                              0   \nmark of the ninja                                                     0   \n\n                                          st_owners_200000-500000  \\\nGame                                                                \nhalflife 2                                                      0   \nhalflife 2                                                      0   \nhalflife 2                                                      0   \nteam fortress 2                                                 0   \nteam fortress 2                                                 0   \n...                                                           ...   \nborderlands                                                     0   \nthe messenger                                                   0   \nthe messenger                                                   0   \nthe awesome adventures of captain spirit                        0   \nmark of the ninja                                               0   \n\n                                          st_owners_2000000-5000000  \\\nGame                                                                  \nhalflife 2                                                        0   \nhalflife 2                                                        0   \nhalflife 2                                                        0   \nteam fortress 2                                                   0   \nteam fortress 2                                                   0   \n...                                                             ...   \nborderlands                                                       0   \nthe messenger                                                     0   \nthe messenger                                                     0   \nthe awesome adventures of captain spirit                          0   \nmark of the ninja                                                 0   \n\n                                          st_owners_20000000-50000000  \\\nGame                                                                    \nhalflife 2                                                          0   \nhalflife 2                                                          0   \nhalflife 2                                                          0   \nteam fortress 2                                                     1   \nteam fortress 2                                                     1   \n...                                                               ...   \nborderlands                                                         0   \nthe messenger                                                       0   \nthe messenger                                                       0   \nthe awesome adventures of captain spirit                            0   \nmark of the ninja                                                   0   \n\n                                          st_owners_50000-100000  \\\nGame                                                               \nhalflife 2                                                     0   \nhalflife 2                                                     0   \nhalflife 2                                                     0   \nteam fortress 2                                                0   \nteam fortress 2                                                0   \n...                                                          ...   \nborderlands                                                    0   \nthe messenger                                                  1   \nthe messenger                                                  1   \nthe awesome adventures of captain spirit                       0   \nmark of the ninja                                              1   \n\n                                          st_owners_500000-1000000  \\\nGame                                                                 \nhalflife 2                                                       0   \nhalflife 2                                                       0   \nhalflife 2                                                       0   \nteam fortress 2                                                  0   \nteam fortress 2                                                  0   \n...                                                            ...   \nborderlands                                                      0   \nthe messenger                                                    0   \nthe messenger                                                    0   \nthe awesome adventures of captain spirit                         1   \nmark of the ninja                                                0   \n\n                                          st_owners_5000000-10000000  \\\nGame                                                                   \nhalflife 2                                                         0   \nhalflife 2                                                         0   \nhalflife 2                                                         0   \nteam fortress 2                                                    0   \nteam fortress 2                                                    0   \n...                                                              ...   \nborderlands                                                        0   \nthe messenger                                                      0   \nthe messenger                                                      0   \nthe awesome adventures of captain spirit                           0   \nmark of the ninja                                                  0   \n\n                                          st_owners_50000000-100000000  \nGame                                                                    \nhalflife 2                                                           0  \nhalflife 2                                                           0  \nhalflife 2                                                           0  \nteam fortress 2                                                      0  \nteam fortress 2                                                      0  \n...                                                                ...  \nborderlands                                                          0  \nthe messenger                                                        0  \nthe messenger                                                        0  \nthe awesome adventures of captain spirit                             0  \nmark of the ninja                                                    0  \n\n[2764 rows x 34 columns]"
     },
     "execution_count": 68,
     "metadata": {},
     "output_type": "execute_result"
    }
   ],
   "source": [
    "#use get_dummies() to create variables for text features\n",
    "X = pd.get_dummies(df_new, columns=[\"st_owners\"])\n",
    "X"
   ]
  },
  {
   "cell_type": "code",
   "execution_count": 69,
   "metadata": {},
   "outputs": [],
   "source": [
    "#drop extra columns\n",
    "df_new.drop(columns = [\"st_owners\"], axis=1, inplace=True)"
   ]
  },
  {
   "cell_type": "code",
   "execution_count": 70,
   "metadata": {},
   "outputs": [
    {
     "name": "stdout",
     "output_type": "stream",
     "text": [
      "[[ 0.         -0.39468974 -0.25160887 ... -0.24039131 -0.51477039\n",
      "  -0.21117674]\n",
      " [ 0.         -0.39468974 -0.25160887 ... -0.24039131 -0.51477039\n",
      "  -0.21117674]\n",
      " [ 0.         -0.39468974 -0.25160887 ... -0.24039131 -0.51477039\n",
      "  -0.21117674]\n",
      " ...\n",
      " [ 0.         -0.33048384 -0.41152284 ... -0.24039131 -0.51477039\n",
      "  -0.21117674]\n",
      " [ 0.         -0.6973747  -0.3964383  ...  4.1598841  -0.51477039\n",
      "  -0.21117674]\n",
      " [ 0.         -0.34882839 -0.41405024 ... -0.24039131 -0.51477039\n",
      "  -0.21117674]]\n"
     ]
    }
   ],
   "source": [
    "# Standardize the data with StandardScaler().\n",
    "X_scaled = StandardScaler().fit_transform(X)\n",
    "print(X_scaled[:])"
   ]
  },
  {
   "cell_type": "code",
   "execution_count": 71,
   "metadata": {},
   "outputs": [
    {
     "data": {
      "text/plain": "array([[-0.76898052,  4.50333189,  0.63176071],\n       [-0.74768795,  4.42552966,  0.59031186],\n       [-0.96047984,  4.19862878,  1.00035981],\n       ...,\n       [-1.47491596, -2.88499832,  0.07964533],\n       [-1.62715621, -2.21606654,  0.2248281 ],\n       [-1.84064524, -0.95733687, -0.01821911]])"
     },
     "execution_count": 71,
     "metadata": {},
     "output_type": "execute_result"
    }
   ],
   "source": [
    "# Using PCA to reduce dimension to three principal components.\n",
    "pca = PCA(n_components=3)\n",
    "df_pca= pca.fit_transform(X_scaled)\n",
    "df_pca"
   ]
  },
  {
   "cell_type": "code",
   "execution_count": 72,
   "metadata": {},
   "outputs": [
    {
     "data": {
      "text/html": "<div>\n<style scoped>\n    .dataframe tbody tr th:only-of-type {\n        vertical-align: middle;\n    }\n\n    .dataframe tbody tr th {\n        vertical-align: top;\n    }\n\n    .dataframe thead th {\n        text-align: right;\n    }\n</style>\n<table border=\"1\" class=\"dataframe\">\n  <thead>\n    <tr style=\"text-align: right;\">\n      <th></th>\n      <th>PC 1</th>\n      <th>PC 2</th>\n      <th>PC 3</th>\n    </tr>\n    <tr>\n      <th>Game</th>\n      <th></th>\n      <th></th>\n      <th></th>\n    </tr>\n  </thead>\n  <tbody>\n    <tr>\n      <th>halflife 2</th>\n      <td>-0.768981</td>\n      <td>4.503332</td>\n      <td>0.631761</td>\n    </tr>\n    <tr>\n      <th>halflife 2</th>\n      <td>-0.747688</td>\n      <td>4.425530</td>\n      <td>0.590312</td>\n    </tr>\n    <tr>\n      <th>halflife 2</th>\n      <td>-0.960480</td>\n      <td>4.198629</td>\n      <td>1.000360</td>\n    </tr>\n    <tr>\n      <th>team fortress 2</th>\n      <td>0.222139</td>\n      <td>6.405643</td>\n      <td>-3.379286</td>\n    </tr>\n    <tr>\n      <th>team fortress 2</th>\n      <td>0.155773</td>\n      <td>6.395477</td>\n      <td>-3.424107</td>\n    </tr>\n    <tr>\n      <th>...</th>\n      <td>...</td>\n      <td>...</td>\n      <td>...</td>\n    </tr>\n    <tr>\n      <th>borderlands</th>\n      <td>-0.876771</td>\n      <td>-1.419184</td>\n      <td>1.135931</td>\n    </tr>\n    <tr>\n      <th>the messenger</th>\n      <td>-1.591068</td>\n      <td>-2.975667</td>\n      <td>-0.178489</td>\n    </tr>\n    <tr>\n      <th>the messenger</th>\n      <td>-1.474916</td>\n      <td>-2.884998</td>\n      <td>0.079645</td>\n    </tr>\n    <tr>\n      <th>the awesome adventures of captain spirit</th>\n      <td>-1.627156</td>\n      <td>-2.216067</td>\n      <td>0.224828</td>\n    </tr>\n    <tr>\n      <th>mark of the ninja</th>\n      <td>-1.840645</td>\n      <td>-0.957337</td>\n      <td>-0.018219</td>\n    </tr>\n  </tbody>\n</table>\n<p>2764 rows × 3 columns</p>\n</div>",
      "text/plain": "                                              PC 1      PC 2      PC 3\nGame                                                                  \nhalflife 2                               -0.768981  4.503332  0.631761\nhalflife 2                               -0.747688  4.425530  0.590312\nhalflife 2                               -0.960480  4.198629  1.000360\nteam fortress 2                           0.222139  6.405643 -3.379286\nteam fortress 2                           0.155773  6.395477 -3.424107\n...                                            ...       ...       ...\nborderlands                              -0.876771 -1.419184  1.135931\nthe messenger                            -1.591068 -2.975667 -0.178489\nthe messenger                            -1.474916 -2.884998  0.079645\nthe awesome adventures of captain spirit -1.627156 -2.216067  0.224828\nmark of the ninja                        -1.840645 -0.957337 -0.018219\n\n[2764 rows x 3 columns]"
     },
     "execution_count": 72,
     "metadata": {},
     "output_type": "execute_result"
    }
   ],
   "source": [
    "# Create a DataFrame with the three principal components.\n",
    "pcs_df= pd.DataFrame(\n",
    "    data = df_pca, columns = [\"PC 1\",\"PC 2\",\"PC 3\"],index=X.index\n",
    ")\n",
    "pcs_df"
   ]
  },
  {
   "cell_type": "code",
   "execution_count": 73,
   "metadata": {},
   "outputs": [
    {
     "data": {
      "text/plain": "array([0.28347394, 0.09639306, 0.05378444])"
     },
     "execution_count": 73,
     "metadata": {},
     "output_type": "execute_result"
    }
   ],
   "source": [
    "#FETCH THE EXPLAINED VARIANCE\n",
    "pca.explained_variance_ratio_"
   ]
  },
  {
   "cell_type": "code",
   "execution_count": 74,
   "metadata": {},
   "outputs": [
    {
     "data": {},
     "metadata": {},
     "output_type": "display_data"
    },
    {
     "data": {
      "application/vnd.holoviews_exec.v0+json": "",
      "text/html": "<div id='1102'>\n\n\n\n\n\n  <div class=\"bk-root\" id=\"5832e31d-088e-4112-a24d-7f3f0fe9bac2\" data-root-id=\"1102\"></div>\n</div>\n<script type=\"application/javascript\">(function(root) {\n  function embed_document(root) {\n    var docs_json = {\"0fd9706b-fff6-49ca-8dbd-d0f164c62c82\":{\"roots\":{\"references\":[{\"attributes\":{\"axis\":{\"id\":\"1116\"},\"grid_line_color\":null,\"ticker\":null},\"id\":\"1119\",\"type\":\"Grid\"},{\"attributes\":{\"data\":{\"inertia\":{\"__ndarray__\":\"+tHi40ZQ40AhV8d+0ebSQA/j4nVCO81AOIhQHHowx0CVVazGddfDQMi84sE7d8FAiFUTlOf6vUDNf3+JLIC6QDndVrf4HLdAVhL91nq3tEA=\",\"dtype\":\"float64\",\"order\":\"little\",\"shape\":[10]},\"k\":[1,2,3,4,5,6,7,8,9,10]},\"selected\":{\"id\":\"1138\"},\"selection_policy\":{\"id\":\"1157\"}},\"id\":\"1137\",\"type\":\"ColumnDataSource\"},{\"attributes\":{},\"id\":\"1121\",\"type\":\"BasicTicker\"},{\"attributes\":{\"axis\":{\"id\":\"1120\"},\"dimension\":1,\"grid_line_color\":null,\"ticker\":null},\"id\":\"1123\",\"type\":\"Grid\"},{\"attributes\":{},\"id\":\"1150\",\"type\":\"BasicTickFormatter\"},{\"attributes\":{\"data_source\":{\"id\":\"1137\"},\"glyph\":{\"id\":\"1140\"},\"hover_glyph\":null,\"muted_glyph\":{\"id\":\"1142\"},\"nonselection_glyph\":{\"id\":\"1141\"},\"selection_glyph\":null,\"view\":{\"id\":\"1144\"}},\"id\":\"1143\",\"type\":\"GlyphRenderer\"},{\"attributes\":{\"margin\":[5,5,5,5],\"name\":\"HSpacer01716\",\"sizing_mode\":\"stretch_width\"},\"id\":\"1166\",\"type\":\"Spacer\"},{\"attributes\":{\"bottom_units\":\"screen\",\"fill_alpha\":0.5,\"fill_color\":\"lightgrey\",\"left_units\":\"screen\",\"level\":\"overlay\",\"line_alpha\":1.0,\"line_color\":\"black\",\"line_dash\":[4,4],\"line_width\":2,\"right_units\":\"screen\",\"top_units\":\"screen\"},\"id\":\"1129\",\"type\":\"BoxAnnotation\"},{\"attributes\":{\"margin\":[5,5,5,5],\"name\":\"HSpacer01715\",\"sizing_mode\":\"stretch_width\"},\"id\":\"1103\",\"type\":\"Spacer\"},{\"attributes\":{\"line_color\":\"#30a2da\",\"line_width\":2,\"x\":{\"field\":\"k\"},\"y\":{\"field\":\"inertia\"}},\"id\":\"1140\",\"type\":\"Line\"},{\"attributes\":{\"end\":10.0,\"reset_end\":10.0,\"reset_start\":1.0,\"start\":1.0,\"tags\":[[[\"k\",\"k\",null]]]},\"id\":\"1104\",\"type\":\"Range1d\"},{\"attributes\":{},\"id\":\"1114\",\"type\":\"LinearScale\"},{\"attributes\":{\"line_alpha\":0.1,\"line_color\":\"#30a2da\",\"line_width\":2,\"x\":{\"field\":\"k\"},\"y\":{\"field\":\"inertia\"}},\"id\":\"1141\",\"type\":\"Line\"},{\"attributes\":{\"below\":[{\"id\":\"1116\"}],\"center\":[{\"id\":\"1119\"},{\"id\":\"1123\"}],\"left\":[{\"id\":\"1120\"}],\"margin\":[5,5,5,5],\"min_border_bottom\":10,\"min_border_left\":10,\"min_border_right\":10,\"min_border_top\":10,\"plot_height\":300,\"plot_width\":700,\"renderers\":[{\"id\":\"1143\"}],\"sizing_mode\":\"fixed\",\"title\":{\"id\":\"1108\"},\"toolbar\":{\"id\":\"1130\"},\"x_range\":{\"id\":\"1104\"},\"x_scale\":{\"id\":\"1112\"},\"y_range\":{\"id\":\"1105\"},\"y_scale\":{\"id\":\"1114\"}},\"id\":\"1107\",\"subtype\":\"Figure\",\"type\":\"Plot\"},{\"attributes\":{\"axis_label\":\"k\",\"bounds\":\"auto\",\"formatter\":{\"id\":\"1146\"},\"major_label_orientation\":\"horizontal\",\"ticker\":{\"id\":\"1145\"}},\"id\":\"1116\",\"type\":\"LinearAxis\"},{\"attributes\":{\"line_alpha\":0.2,\"line_color\":\"#30a2da\",\"line_width\":2,\"x\":{\"field\":\"k\"},\"y\":{\"field\":\"inertia\"}},\"id\":\"1142\",\"type\":\"Line\"},{\"attributes\":{},\"id\":\"1112\",\"type\":\"LinearScale\"},{\"attributes\":{\"active_drag\":\"auto\",\"active_inspect\":\"auto\",\"active_multi\":null,\"active_scroll\":\"auto\",\"active_tap\":\"auto\",\"tools\":[{\"id\":\"1106\"},{\"id\":\"1124\"},{\"id\":\"1125\"},{\"id\":\"1126\"},{\"id\":\"1127\"},{\"id\":\"1128\"}]},\"id\":\"1130\",\"type\":\"Toolbar\"},{\"attributes\":{},\"id\":\"1146\",\"type\":\"BasicTickFormatter\"},{\"attributes\":{\"source\":{\"id\":\"1137\"}},\"id\":\"1144\",\"type\":\"CDSView\"},{\"attributes\":{},\"id\":\"1124\",\"type\":\"SaveTool\"},{\"attributes\":{},\"id\":\"1157\",\"type\":\"UnionRenderers\"},{\"attributes\":{\"axis_label\":\"inertia\",\"bounds\":\"auto\",\"formatter\":{\"id\":\"1150\"},\"major_label_orientation\":\"horizontal\",\"ticker\":{\"id\":\"1121\"}},\"id\":\"1120\",\"type\":\"LinearAxis\"},{\"attributes\":{},\"id\":\"1125\",\"type\":\"PanTool\"},{\"attributes\":{\"callback\":null,\"renderers\":[{\"id\":\"1143\"}],\"tags\":[\"hv_created\"],\"tooltips\":[[\"k\",\"@{k}\"],[\"inertia\",\"@{inertia}\"]]},\"id\":\"1106\",\"type\":\"HoverTool\"},{\"attributes\":{},\"id\":\"1126\",\"type\":\"WheelZoomTool\"},{\"attributes\":{},\"id\":\"1138\",\"type\":\"Selection\"},{\"attributes\":{\"overlay\":{\"id\":\"1129\"}},\"id\":\"1127\",\"type\":\"BoxZoomTool\"},{\"attributes\":{\"ticks\":[1,2,3,4,5,6,7,8,9,10]},\"id\":\"1145\",\"type\":\"FixedTicker\"},{\"attributes\":{\"text\":\"Elbow Curve\",\"text_color\":{\"value\":\"black\"},\"text_font_size\":{\"value\":\"12pt\"}},\"id\":\"1108\",\"type\":\"Title\"},{\"attributes\":{},\"id\":\"1128\",\"type\":\"ResetTool\"},{\"attributes\":{\"end\":42979.288865632465,\"reset_end\":42979.288865632465,\"reset_start\":1878.4062954498895,\"start\":1878.4062954498895,\"tags\":[[[\"inertia\",\"inertia\",null]]]},\"id\":\"1105\",\"type\":\"Range1d\"},{\"attributes\":{\"children\":[{\"id\":\"1103\"},{\"id\":\"1107\"},{\"id\":\"1166\"}],\"margin\":[0,0,0,0],\"name\":\"Row01711\",\"tags\":[\"embedded\"]},\"id\":\"1102\",\"type\":\"Row\"}],\"root_ids\":[\"1102\"]},\"title\":\"Bokeh Application\",\"version\":\"2.2.3\"}};\n    var render_items = [{\"docid\":\"0fd9706b-fff6-49ca-8dbd-d0f164c62c82\",\"root_ids\":[\"1102\"],\"roots\":{\"1102\":\"5832e31d-088e-4112-a24d-7f3f0fe9bac2\"}}];\n    root.Bokeh.embed.embed_items_notebook(docs_json, render_items);\n  }\n  if (root.Bokeh !== undefined && root.Bokeh.Panel !== undefined) {\n    embed_document(root);\n  } else {\n    var attempts = 0;\n    var timer = setInterval(function(root) {\n      if (root.Bokeh !== undefined && root.Bokeh.Panel !== undefined) {\n        clearInterval(timer);\n        embed_document(root);\n      } else if (document.readyState == \"complete\") {\n        attempts++;\n        if (attempts > 100) {\n          clearInterval(timer);\n          console.log(\"Bokeh: ERROR: Unable to run BokehJS code because BokehJS library is missing\");\n        }\n      }\n    }, 10, root)\n  }\n})(window);</script>",
      "text/plain": ":Curve   [k]   (inertia)"
     },
     "execution_count": 74,
     "metadata": {
      "application/vnd.holoviews_exec.v0+json": {
       "id": "1102"
      }
     },
     "output_type": "execute_result"
    }
   ],
   "source": [
    "# Create an elbow curve to find the best value for K.\n",
    "\n",
    "inertia = []\n",
    "k = list(range(1,11))\n",
    "for i in k:\n",
    "    km = KMeans(n_clusters=i, random_state=0)\n",
    "    km.fit(pcs_df)\n",
    "    inertia.append(km.inertia_)\n",
    "\n",
    "elbow_data = {\"k\":k,\"inertia\":inertia}\n",
    "df_elbow = pd.DataFrame(elbow_data)\n",
    "df_elbow.hvplot.line(x=\"k\",y=\"inertia\",xticks=k,title= \"Elbow Curve\")"
   ]
  },
  {
   "cell_type": "code",
   "execution_count": 75,
   "metadata": {},
   "outputs": [
    {
     "data": {
      "text/plain": "array([3, 3, 3, ..., 0, 0, 0], dtype=int32)"
     },
     "execution_count": 75,
     "metadata": {},
     "output_type": "execute_result"
    }
   ],
   "source": [
    "# Initialize the K-Means model.\n",
    "model = KMeans(n_clusters=5,random_state=0)\n",
    "\n",
    "# Fit the model\n",
    "model.fit(pcs_df)\n",
    "\n",
    "# Predict clusters\n",
    "predictions = model.predict(pcs_df)\n",
    "predictions"
   ]
  },
  {
   "cell_type": "code",
   "execution_count": null,
   "metadata": {},
   "outputs": [],
   "source": []
  },
  {
   "cell_type": "code",
   "execution_count": 76,
   "metadata": {},
   "outputs": [
    {
     "name": "stdout",
     "output_type": "stream",
     "text": [
      "(2764, 28)\n"
     ]
    },
    {
     "data": {
      "text/html": "<div>\n<style scoped>\n    .dataframe tbody tr th:only-of-type {\n        vertical-align: middle;\n    }\n\n    .dataframe tbody tr th {\n        vertical-align: top;\n    }\n\n    .dataframe thead th {\n        text-align: right;\n    }\n</style>\n<table border=\"1\" class=\"dataframe\">\n  <thead>\n    <tr style=\"text-align: right;\">\n      <th></th>\n      <th>st_english</th>\n      <th>st_achievements</th>\n      <th>st_positive_ratings</th>\n      <th>st_negative_ratings</th>\n      <th>st_average_playtime</th>\n      <th>st_median_playtime</th>\n      <th>st_price</th>\n      <th>meta_Year</th>\n      <th>meta_Metascore</th>\n      <th>meta_Avg_Userscore</th>\n      <th>...</th>\n      <th>tw_Avg_channels</th>\n      <th>tw_Avg_viewer_ratio</th>\n      <th>st_spy_appid</th>\n      <th>st_spy_action</th>\n      <th>S_Hours</th>\n      <th>PC 1</th>\n      <th>PC 2</th>\n      <th>PC 3</th>\n      <th>GameName</th>\n      <th>Class</th>\n    </tr>\n    <tr>\n      <th>Game</th>\n      <th></th>\n      <th></th>\n      <th></th>\n      <th></th>\n      <th></th>\n      <th></th>\n      <th></th>\n      <th></th>\n      <th></th>\n      <th></th>\n      <th></th>\n      <th></th>\n      <th></th>\n      <th></th>\n      <th></th>\n      <th></th>\n      <th></th>\n      <th></th>\n      <th></th>\n      <th></th>\n      <th></th>\n    </tr>\n  </thead>\n  <tbody>\n    <tr>\n      <th>halflife 2</th>\n      <td>1</td>\n      <td>33</td>\n      <td>67902</td>\n      <td>2419</td>\n      <td>691</td>\n      <td>402</td>\n      <td>7.19</td>\n      <td>2004</td>\n      <td>96</td>\n      <td>9.1</td>\n      <td>...</td>\n      <td>3</td>\n      <td>89.55</td>\n      <td>220</td>\n      <td>1761</td>\n      <td>2357</td>\n      <td>-0.768981</td>\n      <td>4.503332</td>\n      <td>0.631761</td>\n      <td>halflife 2</td>\n      <td>3</td>\n    </tr>\n    <tr>\n      <th>halflife 2</th>\n      <td>1</td>\n      <td>33</td>\n      <td>67902</td>\n      <td>2419</td>\n      <td>691</td>\n      <td>402</td>\n      <td>7.19</td>\n      <td>2004</td>\n      <td>96</td>\n      <td>9.1</td>\n      <td>...</td>\n      <td>4</td>\n      <td>97.43</td>\n      <td>220</td>\n      <td>1761</td>\n      <td>3048</td>\n      <td>-0.747688</td>\n      <td>4.425530</td>\n      <td>0.590312</td>\n      <td>halflife 2</td>\n      <td>3</td>\n    </tr>\n    <tr>\n      <th>halflife 2</th>\n      <td>1</td>\n      <td>33</td>\n      <td>67902</td>\n      <td>2419</td>\n      <td>691</td>\n      <td>402</td>\n      <td>7.19</td>\n      <td>2004</td>\n      <td>96</td>\n      <td>9.1</td>\n      <td>...</td>\n      <td>15</td>\n      <td>42.19</td>\n      <td>220</td>\n      <td>1761</td>\n      <td>11281</td>\n      <td>-0.960480</td>\n      <td>4.198629</td>\n      <td>1.000360</td>\n      <td>halflife 2</td>\n      <td>3</td>\n    </tr>\n    <tr>\n      <th>team fortress 2</th>\n      <td>1</td>\n      <td>520</td>\n      <td>515879</td>\n      <td>34036</td>\n      <td>8495</td>\n      <td>623</td>\n      <td>0.00</td>\n      <td>2007</td>\n      <td>92</td>\n      <td>9.1</td>\n      <td>...</td>\n      <td>34</td>\n      <td>13.04</td>\n      <td>440</td>\n      <td>8188</td>\n      <td>25296</td>\n      <td>0.222139</td>\n      <td>6.405643</td>\n      <td>-3.379286</td>\n      <td>team fortress 2</td>\n      <td>3</td>\n    </tr>\n    <tr>\n      <th>team fortress 2</th>\n      <td>1</td>\n      <td>520</td>\n      <td>515879</td>\n      <td>34036</td>\n      <td>8495</td>\n      <td>623</td>\n      <td>0.00</td>\n      <td>2007</td>\n      <td>92</td>\n      <td>9.1</td>\n      <td>...</td>\n      <td>33</td>\n      <td>11.76</td>\n      <td>440</td>\n      <td>8188</td>\n      <td>23017</td>\n      <td>0.155773</td>\n      <td>6.395477</td>\n      <td>-3.424107</td>\n      <td>team fortress 2</td>\n      <td>3</td>\n    </tr>\n    <tr>\n      <th>team fortress 2</th>\n      <td>1</td>\n      <td>520</td>\n      <td>515879</td>\n      <td>34036</td>\n      <td>8495</td>\n      <td>623</td>\n      <td>0.00</td>\n      <td>2007</td>\n      <td>92</td>\n      <td>9.1</td>\n      <td>...</td>\n      <td>34</td>\n      <td>14.88</td>\n      <td>440</td>\n      <td>8188</td>\n      <td>25859</td>\n      <td>0.222809</td>\n      <td>6.367855</td>\n      <td>-3.403637</td>\n      <td>team fortress 2</td>\n      <td>3</td>\n    </tr>\n    <tr>\n      <th>team fortress 2</th>\n      <td>1</td>\n      <td>520</td>\n      <td>515879</td>\n      <td>34036</td>\n      <td>8495</td>\n      <td>623</td>\n      <td>0.00</td>\n      <td>2007</td>\n      <td>92</td>\n      <td>9.1</td>\n      <td>...</td>\n      <td>41</td>\n      <td>17.18</td>\n      <td>440</td>\n      <td>8188</td>\n      <td>29726</td>\n      <td>0.295953</td>\n      <td>6.351322</td>\n      <td>-3.392062</td>\n      <td>team fortress 2</td>\n      <td>3</td>\n    </tr>\n    <tr>\n      <th>team fortress 2</th>\n      <td>1</td>\n      <td>520</td>\n      <td>515879</td>\n      <td>34036</td>\n      <td>8495</td>\n      <td>623</td>\n      <td>0.00</td>\n      <td>2007</td>\n      <td>92</td>\n      <td>9.1</td>\n      <td>...</td>\n      <td>34</td>\n      <td>17.17</td>\n      <td>440</td>\n      <td>8188</td>\n      <td>25541</td>\n      <td>0.349781</td>\n      <td>6.359657</td>\n      <td>-3.407642</td>\n      <td>team fortress 2</td>\n      <td>3</td>\n    </tr>\n    <tr>\n      <th>team fortress 2</th>\n      <td>1</td>\n      <td>520</td>\n      <td>515879</td>\n      <td>34036</td>\n      <td>8495</td>\n      <td>623</td>\n      <td>0.00</td>\n      <td>2007</td>\n      <td>92</td>\n      <td>9.1</td>\n      <td>...</td>\n      <td>30</td>\n      <td>16.24</td>\n      <td>440</td>\n      <td>8188</td>\n      <td>21641</td>\n      <td>0.196278</td>\n      <td>6.374236</td>\n      <td>-3.506427</td>\n      <td>team fortress 2</td>\n      <td>3</td>\n    </tr>\n    <tr>\n      <th>team fortress 2</th>\n      <td>1</td>\n      <td>520</td>\n      <td>515879</td>\n      <td>34036</td>\n      <td>8495</td>\n      <td>623</td>\n      <td>0.00</td>\n      <td>2007</td>\n      <td>92</td>\n      <td>9.1</td>\n      <td>...</td>\n      <td>30</td>\n      <td>15.63</td>\n      <td>440</td>\n      <td>8188</td>\n      <td>22725</td>\n      <td>0.163907</td>\n      <td>6.387301</td>\n      <td>-3.561121</td>\n      <td>team fortress 2</td>\n      <td>3</td>\n    </tr>\n  </tbody>\n</table>\n<p>10 rows × 28 columns</p>\n</div>",
      "text/plain": "                 st_english  st_achievements  st_positive_ratings  \\\nGame                                                                \nhalflife 2                1               33                67902   \nhalflife 2                1               33                67902   \nhalflife 2                1               33                67902   \nteam fortress 2           1              520               515879   \nteam fortress 2           1              520               515879   \nteam fortress 2           1              520               515879   \nteam fortress 2           1              520               515879   \nteam fortress 2           1              520               515879   \nteam fortress 2           1              520               515879   \nteam fortress 2           1              520               515879   \n\n                 st_negative_ratings  st_average_playtime  st_median_playtime  \\\nGame                                                                            \nhalflife 2                      2419                  691                 402   \nhalflife 2                      2419                  691                 402   \nhalflife 2                      2419                  691                 402   \nteam fortress 2                34036                 8495                 623   \nteam fortress 2                34036                 8495                 623   \nteam fortress 2                34036                 8495                 623   \nteam fortress 2                34036                 8495                 623   \nteam fortress 2                34036                 8495                 623   \nteam fortress 2                34036                 8495                 623   \nteam fortress 2                34036                 8495                 623   \n\n                 st_price  meta_Year  meta_Metascore  meta_Avg_Userscore  ...  \\\nGame                                                                      ...   \nhalflife 2           7.19       2004              96                 9.1  ...   \nhalflife 2           7.19       2004              96                 9.1  ...   \nhalflife 2           7.19       2004              96                 9.1  ...   \nteam fortress 2      0.00       2007              92                 9.1  ...   \nteam fortress 2      0.00       2007              92                 9.1  ...   \nteam fortress 2      0.00       2007              92                 9.1  ...   \nteam fortress 2      0.00       2007              92                 9.1  ...   \nteam fortress 2      0.00       2007              92                 9.1  ...   \nteam fortress 2      0.00       2007              92                 9.1  ...   \nteam fortress 2      0.00       2007              92                 9.1  ...   \n\n                 tw_Avg_channels  tw_Avg_viewer_ratio  st_spy_appid  \\\nGame                                                                  \nhalflife 2                     3                89.55           220   \nhalflife 2                     4                97.43           220   \nhalflife 2                    15                42.19           220   \nteam fortress 2               34                13.04           440   \nteam fortress 2               33                11.76           440   \nteam fortress 2               34                14.88           440   \nteam fortress 2               41                17.18           440   \nteam fortress 2               34                17.17           440   \nteam fortress 2               30                16.24           440   \nteam fortress 2               30                15.63           440   \n\n                 st_spy_action  S_Hours      PC 1      PC 2      PC 3  \\\nGame                                                                    \nhalflife 2                1761     2357 -0.768981  4.503332  0.631761   \nhalflife 2                1761     3048 -0.747688  4.425530  0.590312   \nhalflife 2                1761    11281 -0.960480  4.198629  1.000360   \nteam fortress 2           8188    25296  0.222139  6.405643 -3.379286   \nteam fortress 2           8188    23017  0.155773  6.395477 -3.424107   \nteam fortress 2           8188    25859  0.222809  6.367855 -3.403637   \nteam fortress 2           8188    29726  0.295953  6.351322 -3.392062   \nteam fortress 2           8188    25541  0.349781  6.359657 -3.407642   \nteam fortress 2           8188    21641  0.196278  6.374236 -3.506427   \nteam fortress 2           8188    22725  0.163907  6.387301 -3.561121   \n\n                        GameName  Class  \nGame                                     \nhalflife 2            halflife 2      3  \nhalflife 2            halflife 2      3  \nhalflife 2            halflife 2      3  \nteam fortress 2  team fortress 2      3  \nteam fortress 2  team fortress 2      3  \nteam fortress 2  team fortress 2      3  \nteam fortress 2  team fortress 2      3  \nteam fortress 2  team fortress 2      3  \nteam fortress 2  team fortress 2      3  \nteam fortress 2  team fortress 2      3  \n\n[10 rows x 28 columns]"
     },
     "execution_count": 76,
     "metadata": {},
     "output_type": "execute_result"
    }
   ],
   "source": [
    "# Create a new DataFrame including predicted clusters and game features.\n",
    "# Concatentate the game df and pcs_df DataFrames on the same columns.\n",
    "clustered_df = pd.concat([df_new,pcs_df],axis=1)\n",
    "\n",
    "# Add a new column, \"CoinName\" to the clustered_df DataFrame that holds the names of the cryptocurrencies. \n",
    "clustered_df[\"GameName\"]=game_names_df\n",
    "\n",
    "#  Add a new column, \"Class\" to the clustered_df DataFrame that holds the predictions.\n",
    "clustered_df[\"Class\"] = model.labels_\n",
    "\n",
    "# Print the shape of the clustered_df\n",
    "print(clustered_df.shape)\n",
    "clustered_df.head(10)"
   ]
  },
  {
   "cell_type": "code",
   "execution_count": 77,
   "metadata": {},
   "outputs": [
    {
     "data": {
      "text/plain": "st_english               int64\nst_achievements          int64\nst_positive_ratings      int64\nst_negative_ratings      int64\nst_average_playtime      int64\nst_median_playtime       int64\nst_price               float64\nmeta_Year                int64\nmeta_Metascore           int64\nmeta_Avg_Userscore     float64\ntw_Rank                  int64\ntw_Month                 int64\ntw_Year                  int64\ntw_Hours_watched         int64\ntw_Peak_viewers          int64\ntw_Peak_channels         int64\ntw_Streamers             int64\ntw_Avg_viewers           int64\ntw_Avg_channels          int64\ntw_Avg_viewer_ratio    float64\nst_spy_appid             int64\nst_spy_action            int64\nS_Hours                  int64\nPC 1                   float64\nPC 2                   float64\nPC 3                   float64\nGameName                object\nClass                    int32\ndtype: object"
     },
     "execution_count": 77,
     "metadata": {},
     "output_type": "execute_result"
    }
   ],
   "source": [
    "clustered_df.dtypes"
   ]
  },
  {
   "cell_type": "code",
   "execution_count": 78,
   "metadata": {},
   "outputs": [
    {
     "data": {
      "application/vnd.plotly.v1+json": {
       "config": {
        "plotlyServerURL": "https://plot.ly"
       },
       "data": [
        {
         "customdata": [
          [
           "halflife 2",
           2357,
           284,
           7.19
          ],
          [
           "halflife 2",
           3048,
           399,
           7.19
          ],
          [
           "halflife 2",
           11281,
           640,
           7.19
          ],
          [
           "team fortress 2",
           25296,
           443,
           0
          ],
          [
           "team fortress 2",
           23017,
           389,
           0
          ],
          [
           "team fortress 2",
           25859,
           517,
           0
          ],
          [
           "team fortress 2",
           29726,
           710,
           0
          ],
          [
           "team fortress 2",
           25541,
           590,
           0
          ],
          [
           "team fortress 2",
           21641,
           488,
           0
          ],
          [
           "team fortress 2",
           22725,
           477,
           0
          ],
          [
           "team fortress 2",
           19780,
           456,
           0
          ],
          [
           "team fortress 2",
           17462,
           433,
           0
          ],
          [
           "team fortress 2",
           18833,
           289,
           0
          ],
          [
           "team fortress 2",
           15852,
           286,
           0
          ],
          [
           "team fortress 2",
           15892,
           268,
           0
          ],
          [
           "team fortress 2",
           17790,
           331,
           0
          ],
          [
           "team fortress 2",
           17662,
           303,
           0
          ],
          [
           "team fortress 2",
           17061,
           247,
           0
          ],
          [
           "team fortress 2",
           17445,
           249,
           0
          ],
          [
           "team fortress 2",
           17870,
           225,
           0
          ],
          [
           "team fortress 2",
           17876,
           247,
           0
          ],
          [
           "team fortress 2",
           19115,
           291,
           0
          ],
          [
           "team fortress 2",
           17674,
           283,
           0
          ],
          [
           "team fortress 2",
           23010,
           418,
           0
          ],
          [
           "team fortress 2",
           19824,
           291,
           0
          ],
          [
           "team fortress 2",
           18433,
           254,
           0
          ],
          [
           "team fortress 2",
           20312,
           359,
           0
          ],
          [
           "team fortress 2",
           23022,
           398,
           0
          ],
          [
           "team fortress 2",
           23578,
           354,
           0
          ],
          [
           "team fortress 2",
           23592,
           279,
           0
          ],
          [
           "team fortress 2",
           26745,
           438,
           0
          ],
          [
           "team fortress 2",
           24559,
           341,
           0
          ],
          [
           "team fortress 2",
           22119,
           472,
           0
          ],
          [
           "team fortress 2",
           22150,
           398,
           0
          ],
          [
           "left 4 dead",
           1143,
           357,
           7.19
          ],
          [
           "left 4 dead 2",
           15441,
           371,
           7.19
          ],
          [
           "left 4 dead 2",
           12767,
           319,
           7.19
          ],
          [
           "left 4 dead 2",
           13895,
           211,
           7.19
          ],
          [
           "left 4 dead 2",
           19234,
           217,
           7.19
          ],
          [
           "left 4 dead 2",
           15837,
           178,
           7.19
          ],
          [
           "left 4 dead 2",
           13720,
           237,
           7.19
          ],
          [
           "left 4 dead 2",
           16423,
           284,
           7.19
          ],
          [
           "left 4 dead 2",
           11162,
           193,
           7.19
          ],
          [
           "left 4 dead 2",
           12165,
           234,
           7.19
          ],
          [
           "left 4 dead 2",
           15207,
           200,
           7.19
          ],
          [
           "left 4 dead 2",
           17402,
           444,
           7.19
          ],
          [
           "left 4 dead 2",
           16203,
           280,
           7.19
          ],
          [
           "left 4 dead 2",
           12767,
           204,
           7.19
          ],
          [
           "left 4 dead 2",
           15717,
           190,
           7.19
          ],
          [
           "left 4 dead 2",
           20696,
           524,
           7.19
          ],
          [
           "left 4 dead 2",
           18180,
           253,
           7.19
          ],
          [
           "left 4 dead 2",
           19747,
           324,
           7.19
          ],
          [
           "left 4 dead 2",
           19631,
           503,
           7.19
          ],
          [
           "left 4 dead 2",
           20492,
           507,
           7.19
          ],
          [
           "left 4 dead 2",
           20843,
           1012,
           7.19
          ],
          [
           "left 4 dead 2",
           22060,
           505,
           7.19
          ],
          [
           "left 4 dead 2",
           25279,
           535,
           7.19
          ],
          [
           "left 4 dead 2",
           76048,
           1957,
           7.19
          ],
          [
           "left 4 dead 2",
           77128,
           1456,
           7.19
          ],
          [
           "left 4 dead 2",
           56808,
           831,
           7.19
          ],
          [
           "left 4 dead 2",
           64943,
           891,
           7.19
          ],
          [
           "portal 2",
           7278,
           413,
           7.19
          ],
          [
           "portal 2",
           6036,
           307,
           7.19
          ],
          [
           "portal 2",
           9010,
           384,
           7.19
          ],
          [
           "portal 2",
           12946,
           394,
           7.19
          ],
          [
           "portal 2",
           9359,
           316,
           7.19
          ],
          [
           "portal 2",
           13007,
           493,
           7.19
          ],
          [
           "portal 2",
           11500,
           488,
           7.19
          ],
          [
           "portal 2",
           14180,
           393,
           7.19
          ],
          [
           "portal 2",
           13297,
           500,
           7.19
          ],
          [
           "vampire the masquerade bloodlines",
           625,
           129,
           14.99
          ],
          [
           "vampire the masquerade bloodlines",
           1255,
           268,
           14.99
          ],
          [
           "vampire the masquerade bloodlines",
           2227,
           282,
           14.99
          ],
          [
           "vampire the masquerade bloodlines",
           1859,
           506,
           14.99
          ],
          [
           "call of duty 2",
           898,
           259,
           14.99
          ],
          [
           "star wars jedi knight ii jedi outcast",
           277,
           205,
           7.19
          ],
          [
           "hitman 2",
           29072,
           4095,
           8.29
          ],
          [
           "hitman 2",
           14911,
           699,
           8.29
          ],
          [
           "hitman 2",
           15092,
           1357,
           8.29
          ],
          [
           "hitman blood money",
           860,
           126,
           9.29
          ],
          [
           "deus ex",
           606,
           342,
           4.99
          ],
          [
           "deus ex",
           574,
           380,
           4.99
          ],
          [
           "call of duty 4 modern warfare",
           5273,
           223,
           19.99
          ],
          [
           "call of duty 4 modern warfare",
           7951,
           351,
           19.99
          ],
          [
           "call of duty 4 modern warfare",
           12728,
           511,
           19.99
          ],
          [
           "eve online",
           9751,
           379,
           0
          ],
          [
           "eve online",
           9180,
           349,
           0
          ],
          [
           "eve online",
           9295,
           483,
           0
          ],
          [
           "eve online",
           13566,
           832,
           0
          ],
          [
           "eve online",
           11337,
           542,
           0
          ],
          [
           "eve online",
           7843,
           374,
           0
          ],
          [
           "eve online",
           7890,
           383,
           0
          ],
          [
           "eve online",
           6587,
           287,
           0
          ],
          [
           "eve online",
           6595,
           245,
           0
          ],
          [
           "eve online",
           7855,
           620,
           0
          ],
          [
           "eve online",
           12451,
           678,
           0
          ],
          [
           "eve online",
           14796,
           851,
           0
          ],
          [
           "eve online",
           12174,
           786,
           0
          ],
          [
           "eve online",
           10422,
           736,
           0
          ],
          [
           "eve online",
           9911,
           429,
           0
          ],
          [
           "eve online",
           10582,
           415,
           0
          ],
          [
           "eve online",
           12044,
           397,
           0
          ],
          [
           "eve online",
           9774,
           377,
           0
          ],
          [
           "eve online",
           9706,
           327,
           0
          ],
          [
           "eve online",
           9660,
           510,
           0
          ],
          [
           "eve online",
           11227,
           398,
           0
          ],
          [
           "eve online",
           10943,
           394,
           0
          ],
          [
           "eve online",
           10011,
           385,
           0
          ],
          [
           "eve online",
           9730,
           342,
           0
          ],
          [
           "eve online",
           11410,
           573,
           0
          ],
          [
           "eve online",
           11361,
           319,
           0
          ],
          [
           "eve online",
           11613,
           331,
           0
          ],
          [
           "eve online",
           12413,
           428,
           0
          ],
          [
           "eve online",
           12474,
           422,
           0
          ],
          [
           "eve online",
           13705,
           376,
           0
          ],
          [
           "eve online",
           13802,
           560,
           0
          ],
          [
           "eve online",
           13046,
           619,
           0
          ],
          [
           "eve online",
           10795,
           342,
           0
          ],
          [
           "eve online",
           11420,
           349,
           0
          ],
          [
           "eve online",
           11524,
           318,
           0
          ],
          [
           "eve online",
           14951,
           465,
           0
          ],
          [
           "bioshock infinite",
           2858,
           329,
           19.99
          ],
          [
           "bioshock infinite",
           7682,
           876,
           19.99
          ],
          [
           "sid meiers civilization 5",
           11711,
           550,
           19.99
          ],
          [
           "sid meiers civilization 5",
           11077,
           627,
           19.99
          ],
          [
           "sid meiers civilization 5",
           9958,
           652,
           19.99
          ],
          [
           "sid meiers civilization 5",
           13205,
           512,
           19.99
          ],
          [
           "sid meiers civilization 5",
           11420,
           567,
           19.99
          ],
          [
           "sid meiers civilization 5",
           12224,
           372,
           19.99
          ],
          [
           "sid meiers civilization 5",
           11135,
           527,
           19.99
          ],
          [
           "sid meiers civilization 5",
           9304,
           405,
           19.99
          ],
          [
           "sid meiers civilization 5",
           11983,
           371,
           19.99
          ],
          [
           "sid meiers civilization 5",
           6934,
           286,
           19.99
          ],
          [
           "sid meiers civilization 5",
           7514,
           255,
           19.99
          ],
          [
           "sid meiers civilization 5",
           6599,
           256,
           19.99
          ],
          [
           "sid meiers civilization 5",
           6281,
           288,
           19.99
          ],
          [
           "sid meiers civilization 5",
           7474,
           235,
           19.99
          ],
          [
           "sid meiers civilization 5",
           9029,
           293,
           19.99
          ],
          [
           "sid meiers civilization 5",
           8022,
           279,
           19.99
          ],
          [
           "sid meiers civilization 5",
           8278,
           263,
           19.99
          ],
          [
           "sid meiers civilization 5",
           9718,
           324,
           19.99
          ],
          [
           "sid meiers civilization 5",
           10270,
           736,
           19.99
          ],
          [
           "sid meiers civilization 5",
           9694,
           278,
           19.99
          ],
          [
           "sid meiers civilization 5",
           8512,
           336,
           19.99
          ],
          [
           "sid meiers civilization 5",
           9148,
           300,
           19.99
          ],
          [
           "sid meiers civilization 5",
           10146,
           368,
           19.99
          ],
          [
           "sid meiers civilization 5",
           11163,
           665,
           19.99
          ],
          [
           "sid meiers civilization 5",
           7695,
           954,
           19.99
          ],
          [
           "sid meiers civilization 5",
           8503,
           500,
           19.99
          ],
          [
           "doom 3",
           1981,
           157,
           0
          ],
          [
           "grand theft auto 4",
           1118,
           291,
           5.99
          ],
          [
           "grand theft auto vice city",
           1719,
           360,
           5.99
          ],
          [
           "grand theft auto vice city",
           3906,
           481,
           5.99
          ],
          [
           "grand theft auto san andreas",
           10551,
           300,
           9.99
          ],
          [
           "grand theft auto san andreas",
           8607,
           258,
           9.99
          ],
          [
           "grand theft auto san andreas",
           8265,
           201,
           9.99
          ],
          [
           "grand theft auto san andreas",
           7511,
           276,
           9.99
          ],
          [
           "grand theft auto san andreas",
           6960,
           130,
           9.99
          ],
          [
           "grand theft auto san andreas",
           8275,
           198,
           9.99
          ],
          [
           "grand theft auto san andreas",
           11518,
           315,
           9.99
          ],
          [
           "grand theft auto san andreas",
           8269,
           176,
           9.99
          ],
          [
           "grand theft auto san andreas",
           8954,
           154,
           9.99
          ],
          [
           "grand theft auto san andreas",
           8613,
           188,
           9.99
          ],
          [
           "grand theft auto san andreas",
           11745,
           398,
           9.99
          ],
          [
           "grand theft auto san andreas",
           9412,
           367,
           9.99
          ],
          [
           "grand theft auto san andreas",
           9290,
           258,
           9.99
          ],
          [
           "grand theft auto san andreas",
           7916,
           252,
           9.99
          ],
          [
           "grand theft auto san andreas",
           11027,
           304,
           9.99
          ],
          [
           "grand theft auto san andreas",
           10306,
           267,
           9.99
          ],
          [
           "grand theft auto san andreas",
           8134,
           484,
           9.99
          ],
          [
           "grand theft auto san andreas",
           9312,
           454,
           9.99
          ],
          [
           "grand theft auto san andreas",
           11382,
           576,
           9.99
          ],
          [
           "grand theft auto san andreas",
           14572,
           382,
           9.99
          ],
          [
           "grand theft auto san andreas",
           13143,
           403,
           9.99
          ],
          [
           "grand theft auto san andreas",
           13013,
           378,
           9.99
          ],
          [
           "grand theft auto san andreas",
           10974,
           347,
           9.99
          ],
          [
           "grand theft auto san andreas",
           11295,
           381,
           9.99
          ],
          [
           "grand theft auto san andreas",
           15562,
           1486,
           9.99
          ],
          [
           "grand theft auto san andreas",
           13448,
           291,
           9.99
          ],
          [
           "grand theft auto san andreas",
           9771,
           341,
           9.99
          ],
          [
           "grand theft auto san andreas",
           17067,
           742,
           9.99
          ],
          [
           "grand theft auto san andreas",
           13539,
           744,
           9.99
          ],
          [
           "grand theft auto san andreas",
           16946,
           530,
           9.99
          ],
          [
           "grand theft auto san andreas",
           17655,
           551,
           9.99
          ],
          [
           "grand theft auto san andreas",
           18256,
           838,
           9.99
          ],
          [
           "grand theft auto san andreas",
           19194,
           427,
           9.99
          ],
          [
           "grand theft auto san andreas",
           18111,
           466,
           9.99
          ],
          [
           "grand theft auto san andreas",
           17551,
           399,
           9.99
          ],
          [
           "grand theft auto san andreas",
           17131,
           412,
           9.99
          ],
          [
           "grand theft auto san andreas",
           15673,
           365,
           9.99
          ],
          [
           "grand theft auto san andreas",
           16346,
           529,
           9.99
          ],
          [
           "grand theft auto san andreas",
           22565,
           2586,
           9.99
          ],
          [
           "grand theft auto san andreas",
           20425,
           888,
           9.99
          ],
          [
           "grand theft auto san andreas",
           24743,
           706,
           9.99
          ],
          [
           "grand theft auto san andreas",
           34819,
           882,
           9.99
          ],
          [
           "grand theft auto san andreas",
           36041,
           992,
           9.99
          ],
          [
           "grand theft auto san andreas",
           30283,
           1554,
           9.99
          ],
          [
           "grand theft auto san andreas",
           32563,
           1076,
           9.99
          ],
          [
           "grand theft auto san andreas",
           31718,
           809,
           9.99
          ],
          [
           "grand theft auto iv",
           2666,
           444,
           19.99
          ],
          [
           "grand theft auto iv",
           2848,
           444,
           19.99
          ],
          [
           "grand theft auto iv",
           4127,
           848,
           19.99
          ],
          [
           "overlord 2",
           167,
           282,
           6.99
          ],
          [
           "prince of persia the sands of time",
           330,
           297,
           8.59
          ],
          [
           "mirrors edge",
           1528,
           281,
           9.99
          ],
          [
           "mirrors edge",
           901,
           302,
           9.99
          ],
          [
           "mass effect",
           3208,
           239,
           7.99
          ],
          [
           "mass effect",
           10222,
           172,
           7.99
          ],
          [
           "mass effect",
           15051,
           410,
           7.99
          ],
          [
           "mass effect",
           17298,
           777,
           7.99
          ],
          [
           "mass effect",
           16599,
           348,
           7.99
          ],
          [
           "mass effect",
           4005,
           323,
           7.99
          ],
          [
           "mass effect",
           6650,
           444,
           7.99
          ],
          [
           "dead space",
           2307,
           187,
           14.99
          ],
          [
           "dead space",
           6604,
           428,
           14.99
          ],
          [
           "dead space",
           6757,
           283,
           14.99
          ],
          [
           "the witcher",
           4100,
           489,
           6.99
          ],
          [
           "the witcher",
           4864,
           467,
           6.99
          ],
          [
           "the witcher",
           27384,
           1014,
           6.99
          ],
          [
           "the witcher",
           4100,
           489,
           6.99
          ],
          [
           "the witcher",
           4864,
           467,
           6.99
          ],
          [
           "the witcher",
           27384,
           1014,
           6.99
          ],
          [
           "the witcher 2 assassins of kings",
           2569,
           386,
           14.99
          ],
          [
           "the witcher 2 assassins of kings",
           10868,
           709,
           14.99
          ],
          [
           "bionic commando rearmed",
           32,
           330,
           6.49
          ],
          [
           "fallout 3",
           4723,
           381,
           7.99
          ],
          [
           "fallout 3",
           11910,
           367,
           7.99
          ],
          [
           "the elder scrolls iii morrowind",
           1819,
           725,
           12.99
          ],
          [
           "the elder scrolls iv oblivion",
           1723,
           263,
           12.99
          ],
          [
           "the elder scrolls iv oblivion",
           3321,
           242,
           12.99
          ],
          [
           "the elder scrolls iv oblivion",
           3165,
           158,
           12.99
          ],
          [
           "the elder scrolls iv oblivion",
           5308,
           943,
           12.99
          ],
          [
           "the elder scrolls iv oblivion",
           5754,
           698,
           12.99
          ],
          [
           "the elder scrolls iv oblivion",
           5372,
           434,
           12.99
          ],
          [
           "the elder scrolls iv oblivion",
           8292,
           749,
           12.99
          ],
          [
           "fallout new vegas",
           4993,
           306,
           7.99
          ],
          [
           "fallout new vegas",
           6609,
           415,
           7.99
          ],
          [
           "fallout new vegas",
           6696,
           445,
           7.99
          ],
          [
           "fallout new vegas",
           10910,
           236,
           7.99
          ],
          [
           "fallout new vegas",
           11550,
           452,
           7.99
          ],
          [
           "fallout new vegas",
           13251,
           471,
           7.99
          ],
          [
           "fallout new vegas",
           25177,
           383,
           7.99
          ],
          [
           "fallout new vegas",
           22936,
           901,
           7.99
          ],
          [
           "fallout new vegas",
           12213,
           451,
           7.99
          ],
          [
           "fallout new vegas",
           13296,
           600,
           7.99
          ],
          [
           "fallout new vegas",
           11413,
           348,
           7.99
          ],
          [
           "battlefield bad company 2",
           1081,
           174,
           14.99
          ],
          [
           "mass effect 2",
           8299,
           451,
           19.99
          ],
          [
           "mass effect 2",
           14808,
           492,
           19.99
          ],
          [
           "mass effect 2",
           20344,
           1005,
           19.99
          ],
          [
           "mass effect 2",
           20499,
           376,
           19.99
          ],
          [
           "star wars knights of the old republic",
           812,
           261,
           7.19
          ],
          [
           "star wars knights of the old republic",
           4423,
           596,
           7.19
          ],
          [
           "assassins creed 2",
           3049,
           459,
           8.59
          ],
          [
           "rift",
           7707,
           282,
           0
          ],
          [
           "mafia",
           1074,
           333,
           7.99
          ],
          [
           "mafia",
           661,
           242,
           7.99
          ],
          [
           "mafia",
           67181,
           7503,
           7.99
          ],
          [
           "mafia",
           61766,
           1462,
           7.99
          ],
          [
           "stalker call of pripyat",
           1670,
           161,
           12.99
          ],
          [
           "stalker call of pripyat",
           3467,
           467,
           12.99
          ],
          [
           "dead space 2",
           2629,
           341,
           14.99
          ],
          [
           "dead space 2",
           4694,
           518,
           14.99
          ],
          [
           "dead space 2",
           2621,
           503,
           14.99
          ],
          [
           "mount blade warband",
           5236,
           196,
           14.99
          ],
          [
           "mount blade warband",
           7995,
           869,
           14.99
          ],
          [
           "mount blade warband",
           6980,
           247,
           14.99
          ],
          [
           "mount blade warband",
           7404,
           1303,
           14.99
          ],
          [
           "mount blade warband",
           8176,
           624,
           14.99
          ],
          [
           "mount blade warband",
           5560,
           541,
           14.99
          ],
          [
           "mount blade warband",
           5274,
           975,
           14.99
          ],
          [
           "borderlands 2",
           21849,
           235,
           19.99
          ],
          [
           "borderlands 2",
           19789,
           220,
           19.99
          ],
          [
           "borderlands 2",
           20000,
           184,
           19.99
          ],
          [
           "borderlands 2",
           18194,
           155,
           19.99
          ],
          [
           "borderlands 2",
           17069,
           380,
           19.99
          ],
          [
           "borderlands 2",
           19234,
           361,
           19.99
          ],
          [
           "borderlands 2",
           24691,
           337,
           19.99
          ],
          [
           "borderlands 2",
           20283,
           287,
           19.99
          ],
          [
           "borderlands 2",
           17544,
           178,
           19.99
          ],
          [
           "borderlands 2",
           17876,
           182,
           19.99
          ],
          [
           "borderlands 2",
           18871,
           195,
           19.99
          ],
          [
           "borderlands 2",
           18833,
           380,
           19.99
          ],
          [
           "borderlands 2",
           45794,
           2450,
           19.99
          ],
          [
           "borderlands 2",
           23524,
           605,
           19.99
          ],
          [
           "borderlands 2",
           30289,
           531,
           19.99
          ],
          [
           "borderlands 2",
           28406,
           689,
           19.99
          ],
          [
           "borderlands 2",
           26797,
           944,
           19.99
          ],
          [
           "borderlands 2",
           28485,
           592,
           19.99
          ],
          [
           "borderlands 2",
           32629,
           422,
           19.99
          ],
          [
           "borderlands 2",
           25994,
           410,
           19.99
          ],
          [
           "borderlands 2",
           20224,
           261,
           19.99
          ],
          [
           "borderlands 2",
           20928,
           266,
           19.99
          ],
          [
           "borderlands 2",
           22041,
           335,
           19.99
          ],
          [
           "borderlands 2",
           20166,
           326,
           19.99
          ],
          [
           "borderlands 2",
           29352,
           492,
           19.99
          ],
          [
           "borderlands 2",
           40702,
           1208,
           19.99
          ],
          [
           "borderlands 2",
           34364,
           552,
           19.99
          ],
          [
           "borderlands 2",
           33834,
           1171,
           19.99
          ],
          [
           "borderlands 2",
           33085,
           592,
           19.99
          ],
          [
           "borderlands 2",
           33253,
           512,
           19.99
          ],
          [
           "borderlands 2",
           35198,
           504,
           19.99
          ],
          [
           "borderlands 2",
           25648,
           346,
           19.99
          ],
          [
           "borderlands 2",
           26668,
           430,
           19.99
          ],
          [
           "borderlands 2",
           23724,
           376,
           19.99
          ],
          [
           "borderlands 2",
           29958,
           853,
           19.99
          ],
          [
           "borderlands 2",
           40049,
           694,
           19.99
          ],
          [
           "borderlands 2",
           43508,
           1572,
           19.99
          ],
          [
           "borderlands 2",
           50301,
           954,
           19.99
          ],
          [
           "borderlands 2",
           70429,
           1647,
           19.99
          ],
          [
           "borderlands 2",
           79127,
           1953,
           19.99
          ],
          [
           "borderlands 2",
           61350,
           909,
           19.99
          ],
          [
           "borderlands 2",
           48937,
           760,
           19.99
          ],
          [
           "amnesia the dark descent",
           4310,
           303,
           14.99
          ],
          [
           "vvvvvv",
           297,
           223,
           3.99
          ],
          [
           "the elder scrolls v skyrim",
           32134,
           1605,
           9.99
          ],
          [
           "the elder scrolls v skyrim",
           27231,
           378,
           9.99
          ],
          [
           "the elder scrolls v skyrim",
           26735,
           355,
           9.99
          ],
          [
           "the elder scrolls v skyrim",
           26348,
           426,
           9.99
          ],
          [
           "the elder scrolls v skyrim",
           25972,
           327,
           9.99
          ],
          [
           "the elder scrolls v skyrim",
           30469,
           464,
           9.99
          ],
          [
           "the elder scrolls v skyrim",
           33762,
           1920,
           9.99
          ],
          [
           "the elder scrolls v skyrim",
           41807,
           2148,
           9.99
          ],
          [
           "the elder scrolls v skyrim",
           29130,
           657,
           9.99
          ],
          [
           "the elder scrolls v skyrim",
           82520,
           1519,
           9.99
          ],
          [
           "the elder scrolls v skyrim",
           213593,
           4496,
           9.99
          ],
          [
           "the elder scrolls v skyrim",
           98724,
           1750,
           9.99
          ],
          [
           "the elder scrolls v skyrim",
           83904,
           1366,
           9.99
          ],
          [
           "the elder scrolls v skyrim",
           72218,
           904,
           9.99
          ],
          [
           "the elder scrolls v skyrim",
           64496,
           727,
           9.99
          ],
          [
           "the elder scrolls v skyrim",
           52583,
           492,
           9.99
          ],
          [
           "the elder scrolls v skyrim",
           59269,
           504,
           9.99
          ],
          [
           "the elder scrolls v skyrim",
           62381,
           750,
           9.99
          ],
          [
           "the elder scrolls v skyrim",
           69989,
           1083,
           9.99
          ],
          [
           "the elder scrolls v skyrim",
           63199,
           651,
           9.99
          ],
          [
           "the elder scrolls v skyrim",
           60145,
           594,
           9.99
          ],
          [
           "the elder scrolls v skyrim",
           56134,
           626,
           9.99
          ],
          [
           "the elder scrolls v skyrim",
           61304,
           864,
           9.99
          ],
          [
           "the elder scrolls v skyrim",
           72892,
           1868,
           9.99
          ],
          [
           "the elder scrolls v skyrim",
           84629,
           1542,
           9.99
          ],
          [
           "the elder scrolls v skyrim",
           62986,
           1499,
           9.99
          ],
          [
           "the elder scrolls v skyrim",
           69509,
           1765,
           9.99
          ],
          [
           "the elder scrolls v skyrim",
           77241,
           988,
           9.99
          ],
          [
           "the elder scrolls v skyrim",
           67436,
           926,
           9.99
          ],
          [
           "the elder scrolls v skyrim",
           67735,
           872,
           9.99
          ],
          [
           "the elder scrolls v skyrim",
           74077,
           1680,
           9.99
          ],
          [
           "the elder scrolls v skyrim",
           69243,
           1104,
           9.99
          ],
          [
           "the elder scrolls v skyrim",
           57012,
           579,
           9.99
          ],
          [
           "the elder scrolls v skyrim",
           62736,
           617,
           9.99
          ],
          [
           "the elder scrolls v skyrim",
           55007,
           851,
           9.99
          ],
          [
           "the elder scrolls v skyrim",
           61423,
           843,
           9.99
          ],
          [
           "the elder scrolls v skyrim",
           79659,
           2027,
           9.99
          ],
          [
           "the elder scrolls v skyrim",
           63082,
           1108,
           9.99
          ],
          [
           "the elder scrolls v skyrim",
           68943,
           754,
           9.99
          ],
          [
           "the elder scrolls v skyrim",
           67659,
           886,
           9.99
          ],
          [
           "the elder scrolls v skyrim",
           72247,
           2787,
           9.99
          ],
          [
           "the elder scrolls v skyrim",
           67769,
           1577,
           9.99
          ],
          [
           "the elder scrolls v skyrim",
           64381,
           871,
           9.99
          ],
          [
           "the elder scrolls v skyrim",
           64189,
           1063,
           9.99
          ],
          [
           "the elder scrolls v skyrim",
           48045,
           661,
           9.99
          ],
          [
           "the elder scrolls v skyrim",
           47697,
           476,
           9.99
          ],
          [
           "the elder scrolls v skyrim",
           49790,
           542,
           9.99
          ],
          [
           "the elder scrolls v skyrim",
           59704,
           701,
           9.99
          ],
          [
           "the elder scrolls v skyrim",
           73470,
           829,
           9.99
          ],
          [
           "the elder scrolls v skyrim",
           62473,
           821,
           9.99
          ],
          [
           "the elder scrolls v skyrim",
           73779,
           915,
           9.99
          ],
          [
           "the elder scrolls v skyrim",
           99901,
           1592,
           9.99
          ],
          [
           "the elder scrolls v skyrim",
           108975,
           1438,
           9.99
          ],
          [
           "the elder scrolls v skyrim",
           107967,
           3405,
           9.99
          ],
          [
           "the elder scrolls v skyrim",
           113273,
           1680,
           9.99
          ],
          [
           "the elder scrolls v skyrim",
           121853,
           1429,
           9.99
          ],
          [
           "the elder scrolls v skyrim",
           109242,
           1951,
           9.99
          ],
          [
           "the elder scrolls v skyrim",
           104009,
           1002,
           9.99
          ],
          [
           "the elder scrolls v skyrim",
           108492,
           1134,
           9.99
          ],
          [
           "the elder scrolls v skyrim",
           138481,
           1258,
           9.99
          ],
          [
           "the elder scrolls v skyrim",
           167379,
           1817,
           9.99
          ],
          [
           "the elder scrolls v skyrim",
           144049,
           2352,
           9.99
          ],
          [
           "the elder scrolls v skyrim",
           148229,
           1641,
           9.99
          ],
          [
           "the elder scrolls v skyrim",
           129131,
           1516,
           9.99
          ],
          [
           "orcs must die",
           6827,
           200,
           7.99
          ],
          [
           "terraria",
           28667,
           356,
           6.99
          ],
          [
           "terraria",
           22403,
           330,
           6.99
          ],
          [
           "terraria",
           21016,
           196,
           6.99
          ],
          [
           "terraria",
           19982,
           252,
           6.99
          ],
          [
           "terraria",
           22846,
           300,
           6.99
          ],
          [
           "terraria",
           29262,
           830,
           6.99
          ],
          [
           "terraria",
           30261,
           501,
           6.99
          ],
          [
           "terraria",
           22941,
           164,
           6.99
          ],
          [
           "terraria",
           15679,
           148,
           6.99
          ],
          [
           "terraria",
           16997,
           177,
           6.99
          ],
          [
           "terraria",
           22131,
           198,
           6.99
          ],
          [
           "terraria",
           23155,
           371,
           6.99
          ],
          [
           "terraria",
           22994,
           306,
           6.99
          ],
          [
           "terraria",
           20676,
           457,
           6.99
          ],
          [
           "terraria",
           22414,
           346,
           6.99
          ],
          [
           "terraria",
           23580,
           219,
           6.99
          ],
          [
           "terraria",
           29020,
           353,
           6.99
          ],
          [
           "terraria",
           26071,
           525,
           6.99
          ],
          [
           "terraria",
           19332,
           347,
           6.99
          ],
          [
           "terraria",
           25334,
           339,
           6.99
          ],
          [
           "terraria",
           29084,
           484,
           6.99
          ],
          [
           "terraria",
           27995,
           947,
           6.99
          ],
          [
           "terraria",
           33283,
           1002,
           6.99
          ],
          [
           "terraria",
           32836,
           1085,
           6.99
          ],
          [
           "terraria",
           33694,
           1223,
           6.99
          ],
          [
           "terraria",
           32798,
           784,
           6.99
          ],
          [
           "terraria",
           42414,
           2307,
           6.99
          ],
          [
           "terraria",
           35762,
           1745,
           6.99
          ],
          [
           "terraria",
           31453,
           1539,
           6.99
          ],
          [
           "terraria",
           30519,
           1248,
           6.99
          ],
          [
           "terraria",
           27249,
           342,
           6.99
          ],
          [
           "terraria",
           30324,
           567,
           6.99
          ],
          [
           "terraria",
           45890,
           678,
           6.99
          ],
          [
           "terraria",
           33346,
           459,
           6.99
          ],
          [
           "terraria",
           36074,
           510,
           6.99
          ],
          [
           "terraria",
           37830,
           643,
           6.99
          ],
          [
           "terraria",
           38296,
           575,
           6.99
          ],
          [
           "terraria",
           44907,
           1306,
           6.99
          ],
          [
           "terraria",
           43726,
           724,
           6.99
          ],
          [
           "terraria",
           35448,
           629,
           6.99
          ],
          [
           "terraria",
           59682,
           703,
           6.99
          ],
          [
           "terraria",
           53382,
           1245,
           6.99
          ],
          [
           "terraria",
           43984,
           1118,
           6.99
          ],
          [
           "terraria",
           51247,
           690,
           6.99
          ],
          [
           "terraria",
           90553,
           826,
           6.99
          ],
          [
           "terraria",
           195641,
           7297,
           6.99
          ],
          [
           "terraria",
           107678,
           2063,
           6.99
          ],
          [
           "terraria",
           87420,
           1586,
           6.99
          ],
          [
           "terraria",
           70217,
           874,
           6.99
          ],
          [
           "terraria",
           96416,
           800,
           6.99
          ],
          [
           "terraria",
           98903,
           984,
           6.99
          ],
          [
           "terraria",
           120082,
           2241,
           6.99
          ],
          [
           "terraria",
           123196,
           3097,
           6.99
          ],
          [
           "terraria",
           113601,
           1107,
           6.99
          ],
          [
           "terraria",
           99521,
           1108,
           6.99
          ],
          [
           "batman arkham city",
           985,
           437,
           14.99
          ],
          [
           "dishonored",
           2206,
           226,
           7.99
          ],
          [
           "dishonored",
           6743,
           191,
           7.99
          ],
          [
           "dishonored",
           4414,
           297,
           7.99
          ],
          [
           "dishonored",
           14202,
           587,
           7.99
          ],
          [
           "everquest",
           10371,
           370,
           0
          ],
          [
           "everquest",
           13332,
           799,
           0
          ],
          [
           "star wars knights of the old republic ii the sith lords",
           1152,
           741,
           7.19
          ],
          [
           "payday 2",
           19865,
           149,
           7.49
          ],
          [
           "payday 2",
           20532,
           142,
           7.49
          ],
          [
           "payday 2",
           19711,
           137,
           7.49
          ],
          [
           "payday 2",
           24071,
           174,
           7.49
          ],
          [
           "payday 2",
           26841,
           422,
           7.49
          ],
          [
           "payday 2",
           22458,
           164,
           7.49
          ],
          [
           "payday 2",
           24697,
           229,
           7.49
          ],
          [
           "payday 2",
           19125,
           159,
           7.49
          ],
          [
           "payday 2",
           18477,
           186,
           7.49
          ],
          [
           "payday 2",
           19146,
           191,
           7.49
          ],
          [
           "payday 2",
           17160,
           244,
           7.49
          ],
          [
           "payday 2",
           62211,
           457,
           7.49
          ],
          [
           "brothers a tale of two sons",
           703,
           346,
           10.99
          ],
          [
           "war thunder",
           19505,
           201,
           0
          ],
          [
           "war thunder",
           20210,
           185,
           0
          ],
          [
           "war thunder",
           18161,
           171,
           0
          ],
          [
           "war thunder",
           20886,
           197,
           0
          ],
          [
           "war thunder",
           21989,
           226,
           0
          ],
          [
           "war thunder",
           22576,
           213,
           0
          ],
          [
           "war thunder",
           23817,
           264,
           0
          ],
          [
           "war thunder",
           25080,
           243,
           0
          ],
          [
           "deus ex human revolution",
           567,
           197,
           12.99
          ],
          [
           "deus ex human revolution",
           6252,
           650,
           12.99
          ],
          [
           "path of exile",
           63038,
           2290,
           0
          ],
          [
           "path of exile",
           36739,
           1907,
           0
          ],
          [
           "path of exile",
           95545,
           5243,
           0
          ],
          [
           "path of exile",
           58329,
           2686,
           0
          ],
          [
           "path of exile",
           38867,
           1506,
           0
          ],
          [
           "path of exile",
           67495,
           3313,
           0
          ],
          [
           "path of exile",
           42756,
           1751,
           0
          ],
          [
           "path of exile",
           28848,
           1258,
           0
          ],
          [
           "path of exile",
           78612,
           4616,
           0
          ],
          [
           "path of exile",
           57212,
           2383,
           0
          ],
          [
           "path of exile",
           40531,
           2076,
           0
          ],
          [
           "path of exile",
           116640,
           7268,
           0
          ],
          [
           "path of exile",
           80142,
           4076,
           0
          ],
          [
           "path of exile",
           45071,
           2305,
           0
          ],
          [
           "path of exile",
           152138,
           7667,
           0
          ],
          [
           "path of exile",
           82653,
           4367,
           0
          ],
          [
           "path of exile",
           52145,
           2080,
           0
          ],
          [
           "path of exile",
           63130,
           4262,
           0
          ],
          [
           "path of exile",
           59807,
           3012,
           0
          ],
          [
           "path of exile",
           243592,
           13450,
           0
          ],
          [
           "path of exile",
           141945,
           6266,
           0
          ],
          [
           "path of exile",
           76268,
           2658,
           0
          ],
          [
           "path of exile",
           71435,
           4168,
           0
          ],
          [
           "path of exile",
           195555,
           11958,
           0
          ],
          [
           "path of exile",
           144680,
           5645,
           0
          ],
          [
           "path of exile",
           60258,
           2504,
           0
          ],
          [
           "path of exile",
           232397,
           11753,
           0
          ],
          [
           "path of exile",
           117897,
           5540,
           0
          ],
          [
           "path of exile",
           104096,
           4787,
           0
          ],
          [
           "path of exile",
           255432,
           13371,
           0
          ],
          [
           "path of exile",
           113146,
           4513,
           0
          ],
          [
           "path of exile",
           84838,
           3931,
           0
          ],
          [
           "path of exile",
           219377,
           11841,
           0
          ],
          [
           "path of exile",
           117333,
           4938,
           0
          ],
          [
           "path of exile",
           81866,
           3797,
           0
          ],
          [
           "path of exile",
           217870,
           12887,
           0
          ],
          [
           "path of exile",
           74386,
           4902,
           0
          ],
          [
           "path of exile",
           165354,
           5775,
           0
          ],
          [
           "path of exile",
           130477,
           4936,
           0
          ],
          [
           "path of exile",
           203520,
           10466,
           0
          ],
          [
           "path of exile",
           81605,
           3126,
           0
          ],
          [
           "path of exile",
           210760,
           10173,
           0
          ],
          [
           "path of exile",
           108311,
           4471,
           0
          ],
          [
           "path of exile",
           77526,
           5630,
           0
          ],
          [
           "path of exile",
           282855,
           19690,
           0
          ],
          [
           "path of exile",
           106347,
           6177,
           0
          ],
          [
           "path of exile",
           239978,
           13079,
           0
          ],
          [
           "path of exile",
           134392,
           7331,
           0
          ],
          [
           "path of exile",
           248266,
           13807,
           0
          ],
          [
           "path of exile",
           125666,
           7680,
           0
          ],
          [
           "path of exile",
           248166,
           15774,
           0
          ],
          [
           "path of exile",
           136899,
           6632,
           0
          ],
          [
           "path of exile",
           117463,
           5230,
           0
          ],
          [
           "path of exile",
           154609,
           7320,
           0
          ],
          [
           "the binding of isaac rebirth",
           7787,
           363,
           10.99
          ],
          [
           "bioshock",
           3650,
           254,
           9.99
          ],
          [
           "bioshock",
           6428,
           506,
           9.99
          ]
         ],
         "hovertemplate": "<b>%{hovertext}</b><br><br>Class=%{marker.color}<br>PC 1=%{x}<br>PC 2=%{y}<br>PC 3=%{z}<br>GameName=%{customdata[0]}<br>S_Hours=%{customdata[1]}<br>tw_Avg_viewers=%{customdata[2]}<br>st_price=%{customdata[3]}<extra></extra>",
         "hovertext": [
          "halflife 2",
          "halflife 2",
          "halflife 2",
          "team fortress 2",
          "team fortress 2",
          "team fortress 2",
          "team fortress 2",
          "team fortress 2",
          "team fortress 2",
          "team fortress 2",
          "team fortress 2",
          "team fortress 2",
          "team fortress 2",
          "team fortress 2",
          "team fortress 2",
          "team fortress 2",
          "team fortress 2",
          "team fortress 2",
          "team fortress 2",
          "team fortress 2",
          "team fortress 2",
          "team fortress 2",
          "team fortress 2",
          "team fortress 2",
          "team fortress 2",
          "team fortress 2",
          "team fortress 2",
          "team fortress 2",
          "team fortress 2",
          "team fortress 2",
          "team fortress 2",
          "team fortress 2",
          "team fortress 2",
          "team fortress 2",
          "left 4 dead",
          "left 4 dead 2",
          "left 4 dead 2",
          "left 4 dead 2",
          "left 4 dead 2",
          "left 4 dead 2",
          "left 4 dead 2",
          "left 4 dead 2",
          "left 4 dead 2",
          "left 4 dead 2",
          "left 4 dead 2",
          "left 4 dead 2",
          "left 4 dead 2",
          "left 4 dead 2",
          "left 4 dead 2",
          "left 4 dead 2",
          "left 4 dead 2",
          "left 4 dead 2",
          "left 4 dead 2",
          "left 4 dead 2",
          "left 4 dead 2",
          "left 4 dead 2",
          "left 4 dead 2",
          "left 4 dead 2",
          "left 4 dead 2",
          "left 4 dead 2",
          "left 4 dead 2",
          "portal 2",
          "portal 2",
          "portal 2",
          "portal 2",
          "portal 2",
          "portal 2",
          "portal 2",
          "portal 2",
          "portal 2",
          "vampire the masquerade bloodlines",
          "vampire the masquerade bloodlines",
          "vampire the masquerade bloodlines",
          "vampire the masquerade bloodlines",
          "call of duty 2",
          "star wars jedi knight ii jedi outcast",
          "hitman 2",
          "hitman 2",
          "hitman 2",
          "hitman blood money",
          "deus ex",
          "deus ex",
          "call of duty 4 modern warfare",
          "call of duty 4 modern warfare",
          "call of duty 4 modern warfare",
          "eve online",
          "eve online",
          "eve online",
          "eve online",
          "eve online",
          "eve online",
          "eve online",
          "eve online",
          "eve online",
          "eve online",
          "eve online",
          "eve online",
          "eve online",
          "eve online",
          "eve online",
          "eve online",
          "eve online",
          "eve online",
          "eve online",
          "eve online",
          "eve online",
          "eve online",
          "eve online",
          "eve online",
          "eve online",
          "eve online",
          "eve online",
          "eve online",
          "eve online",
          "eve online",
          "eve online",
          "eve online",
          "eve online",
          "eve online",
          "eve online",
          "eve online",
          "bioshock infinite",
          "bioshock infinite",
          "sid meiers civilization 5",
          "sid meiers civilization 5",
          "sid meiers civilization 5",
          "sid meiers civilization 5",
          "sid meiers civilization 5",
          "sid meiers civilization 5",
          "sid meiers civilization 5",
          "sid meiers civilization 5",
          "sid meiers civilization 5",
          "sid meiers civilization 5",
          "sid meiers civilization 5",
          "sid meiers civilization 5",
          "sid meiers civilization 5",
          "sid meiers civilization 5",
          "sid meiers civilization 5",
          "sid meiers civilization 5",
          "sid meiers civilization 5",
          "sid meiers civilization 5",
          "sid meiers civilization 5",
          "sid meiers civilization 5",
          "sid meiers civilization 5",
          "sid meiers civilization 5",
          "sid meiers civilization 5",
          "sid meiers civilization 5",
          "sid meiers civilization 5",
          "sid meiers civilization 5",
          "doom 3",
          "grand theft auto 4",
          "grand theft auto vice city",
          "grand theft auto vice city",
          "grand theft auto san andreas",
          "grand theft auto san andreas",
          "grand theft auto san andreas",
          "grand theft auto san andreas",
          "grand theft auto san andreas",
          "grand theft auto san andreas",
          "grand theft auto san andreas",
          "grand theft auto san andreas",
          "grand theft auto san andreas",
          "grand theft auto san andreas",
          "grand theft auto san andreas",
          "grand theft auto san andreas",
          "grand theft auto san andreas",
          "grand theft auto san andreas",
          "grand theft auto san andreas",
          "grand theft auto san andreas",
          "grand theft auto san andreas",
          "grand theft auto san andreas",
          "grand theft auto san andreas",
          "grand theft auto san andreas",
          "grand theft auto san andreas",
          "grand theft auto san andreas",
          "grand theft auto san andreas",
          "grand theft auto san andreas",
          "grand theft auto san andreas",
          "grand theft auto san andreas",
          "grand theft auto san andreas",
          "grand theft auto san andreas",
          "grand theft auto san andreas",
          "grand theft auto san andreas",
          "grand theft auto san andreas",
          "grand theft auto san andreas",
          "grand theft auto san andreas",
          "grand theft auto san andreas",
          "grand theft auto san andreas",
          "grand theft auto san andreas",
          "grand theft auto san andreas",
          "grand theft auto san andreas",
          "grand theft auto san andreas",
          "grand theft auto san andreas",
          "grand theft auto san andreas",
          "grand theft auto san andreas",
          "grand theft auto san andreas",
          "grand theft auto san andreas",
          "grand theft auto san andreas",
          "grand theft auto san andreas",
          "grand theft auto iv",
          "grand theft auto iv",
          "grand theft auto iv",
          "overlord 2",
          "prince of persia the sands of time",
          "mirrors edge",
          "mirrors edge",
          "mass effect",
          "mass effect",
          "mass effect",
          "mass effect",
          "mass effect",
          "mass effect",
          "mass effect",
          "dead space",
          "dead space",
          "dead space",
          "the witcher",
          "the witcher",
          "the witcher",
          "the witcher",
          "the witcher",
          "the witcher",
          "the witcher 2 assassins of kings",
          "the witcher 2 assassins of kings",
          "bionic commando rearmed",
          "fallout 3",
          "fallout 3",
          "the elder scrolls iii morrowind",
          "the elder scrolls iv oblivion",
          "the elder scrolls iv oblivion",
          "the elder scrolls iv oblivion",
          "the elder scrolls iv oblivion",
          "the elder scrolls iv oblivion",
          "the elder scrolls iv oblivion",
          "the elder scrolls iv oblivion",
          "fallout new vegas",
          "fallout new vegas",
          "fallout new vegas",
          "fallout new vegas",
          "fallout new vegas",
          "fallout new vegas",
          "fallout new vegas",
          "fallout new vegas",
          "fallout new vegas",
          "fallout new vegas",
          "fallout new vegas",
          "battlefield bad company 2",
          "mass effect 2",
          "mass effect 2",
          "mass effect 2",
          "mass effect 2",
          "star wars knights of the old republic",
          "star wars knights of the old republic",
          "assassins creed 2",
          "rift",
          "mafia",
          "mafia",
          "mafia",
          "mafia",
          "stalker call of pripyat",
          "stalker call of pripyat",
          "dead space 2",
          "dead space 2",
          "dead space 2",
          "mount blade warband",
          "mount blade warband",
          "mount blade warband",
          "mount blade warband",
          "mount blade warband",
          "mount blade warband",
          "mount blade warband",
          "borderlands 2",
          "borderlands 2",
          "borderlands 2",
          "borderlands 2",
          "borderlands 2",
          "borderlands 2",
          "borderlands 2",
          "borderlands 2",
          "borderlands 2",
          "borderlands 2",
          "borderlands 2",
          "borderlands 2",
          "borderlands 2",
          "borderlands 2",
          "borderlands 2",
          "borderlands 2",
          "borderlands 2",
          "borderlands 2",
          "borderlands 2",
          "borderlands 2",
          "borderlands 2",
          "borderlands 2",
          "borderlands 2",
          "borderlands 2",
          "borderlands 2",
          "borderlands 2",
          "borderlands 2",
          "borderlands 2",
          "borderlands 2",
          "borderlands 2",
          "borderlands 2",
          "borderlands 2",
          "borderlands 2",
          "borderlands 2",
          "borderlands 2",
          "borderlands 2",
          "borderlands 2",
          "borderlands 2",
          "borderlands 2",
          "borderlands 2",
          "borderlands 2",
          "borderlands 2",
          "amnesia the dark descent",
          "vvvvvv",
          "the elder scrolls v skyrim",
          "the elder scrolls v skyrim",
          "the elder scrolls v skyrim",
          "the elder scrolls v skyrim",
          "the elder scrolls v skyrim",
          "the elder scrolls v skyrim",
          "the elder scrolls v skyrim",
          "the elder scrolls v skyrim",
          "the elder scrolls v skyrim",
          "the elder scrolls v skyrim",
          "the elder scrolls v skyrim",
          "the elder scrolls v skyrim",
          "the elder scrolls v skyrim",
          "the elder scrolls v skyrim",
          "the elder scrolls v skyrim",
          "the elder scrolls v skyrim",
          "the elder scrolls v skyrim",
          "the elder scrolls v skyrim",
          "the elder scrolls v skyrim",
          "the elder scrolls v skyrim",
          "the elder scrolls v skyrim",
          "the elder scrolls v skyrim",
          "the elder scrolls v skyrim",
          "the elder scrolls v skyrim",
          "the elder scrolls v skyrim",
          "the elder scrolls v skyrim",
          "the elder scrolls v skyrim",
          "the elder scrolls v skyrim",
          "the elder scrolls v skyrim",
          "the elder scrolls v skyrim",
          "the elder scrolls v skyrim",
          "the elder scrolls v skyrim",
          "the elder scrolls v skyrim",
          "the elder scrolls v skyrim",
          "the elder scrolls v skyrim",
          "the elder scrolls v skyrim",
          "the elder scrolls v skyrim",
          "the elder scrolls v skyrim",
          "the elder scrolls v skyrim",
          "the elder scrolls v skyrim",
          "the elder scrolls v skyrim",
          "the elder scrolls v skyrim",
          "the elder scrolls v skyrim",
          "the elder scrolls v skyrim",
          "the elder scrolls v skyrim",
          "the elder scrolls v skyrim",
          "the elder scrolls v skyrim",
          "the elder scrolls v skyrim",
          "the elder scrolls v skyrim",
          "the elder scrolls v skyrim",
          "the elder scrolls v skyrim",
          "the elder scrolls v skyrim",
          "the elder scrolls v skyrim",
          "the elder scrolls v skyrim",
          "the elder scrolls v skyrim",
          "the elder scrolls v skyrim",
          "the elder scrolls v skyrim",
          "the elder scrolls v skyrim",
          "the elder scrolls v skyrim",
          "the elder scrolls v skyrim",
          "the elder scrolls v skyrim",
          "the elder scrolls v skyrim",
          "the elder scrolls v skyrim",
          "the elder scrolls v skyrim",
          "orcs must die",
          "terraria",
          "terraria",
          "terraria",
          "terraria",
          "terraria",
          "terraria",
          "terraria",
          "terraria",
          "terraria",
          "terraria",
          "terraria",
          "terraria",
          "terraria",
          "terraria",
          "terraria",
          "terraria",
          "terraria",
          "terraria",
          "terraria",
          "terraria",
          "terraria",
          "terraria",
          "terraria",
          "terraria",
          "terraria",
          "terraria",
          "terraria",
          "terraria",
          "terraria",
          "terraria",
          "terraria",
          "terraria",
          "terraria",
          "terraria",
          "terraria",
          "terraria",
          "terraria",
          "terraria",
          "terraria",
          "terraria",
          "terraria",
          "terraria",
          "terraria",
          "terraria",
          "terraria",
          "terraria",
          "terraria",
          "terraria",
          "terraria",
          "terraria",
          "terraria",
          "terraria",
          "terraria",
          "terraria",
          "terraria",
          "batman arkham city",
          "dishonored",
          "dishonored",
          "dishonored",
          "dishonored",
          "everquest",
          "everquest",
          "star wars knights of the old republic ii the sith lords",
          "payday 2",
          "payday 2",
          "payday 2",
          "payday 2",
          "payday 2",
          "payday 2",
          "payday 2",
          "payday 2",
          "payday 2",
          "payday 2",
          "payday 2",
          "payday 2",
          "brothers a tale of two sons",
          "war thunder",
          "war thunder",
          "war thunder",
          "war thunder",
          "war thunder",
          "war thunder",
          "war thunder",
          "war thunder",
          "deus ex human revolution",
          "deus ex human revolution",
          "path of exile",
          "path of exile",
          "path of exile",
          "path of exile",
          "path of exile",
          "path of exile",
          "path of exile",
          "path of exile",
          "path of exile",
          "path of exile",
          "path of exile",
          "path of exile",
          "path of exile",
          "path of exile",
          "path of exile",
          "path of exile",
          "path of exile",
          "path of exile",
          "path of exile",
          "path of exile",
          "path of exile",
          "path of exile",
          "path of exile",
          "path of exile",
          "path of exile",
          "path of exile",
          "path of exile",
          "path of exile",
          "path of exile",
          "path of exile",
          "path of exile",
          "path of exile",
          "path of exile",
          "path of exile",
          "path of exile",
          "path of exile",
          "path of exile",
          "path of exile",
          "path of exile",
          "path of exile",
          "path of exile",
          "path of exile",
          "path of exile",
          "path of exile",
          "path of exile",
          "path of exile",
          "path of exile",
          "path of exile",
          "path of exile",
          "path of exile",
          "path of exile",
          "path of exile",
          "path of exile",
          "path of exile",
          "the binding of isaac rebirth",
          "bioshock",
          "bioshock"
         ],
         "legendgroup": "3",
         "marker": {
          "color": [
           3,
           3,
           3,
           3,
           3,
           3,
           3,
           3,
           3,
           3,
           3,
           3,
           3,
           3,
           3,
           3,
           3,
           3,
           3,
           3,
           3,
           3,
           3,
           3,
           3,
           3,
           3,
           3,
           3,
           3,
           3,
           3,
           3,
           3,
           3,
           3,
           3,
           3,
           3,
           3,
           3,
           3,
           3,
           3,
           3,
           3,
           3,
           3,
           3,
           3,
           3,
           3,
           3,
           3,
           3,
           3,
           3,
           3,
           3,
           3,
           3,
           3,
           3,
           3,
           3,
           3,
           3,
           3,
           3,
           3,
           3,
           3,
           3,
           3,
           3,
           3,
           3,
           3,
           3,
           3,
           3,
           3,
           3,
           3,
           3,
           3,
           3,
           3,
           3,
           3,
           3,
           3,
           3,
           3,
           3,
           3,
           3,
           3,
           3,
           3,
           3,
           3,
           3,
           3,
           3,
           3,
           3,
           3,
           3,
           3,
           3,
           3,
           3,
           3,
           3,
           3,
           3,
           3,
           3,
           3,
           3,
           3,
           3,
           3,
           3,
           3,
           3,
           3,
           3,
           3,
           3,
           3,
           3,
           3,
           3,
           3,
           3,
           3,
           3,
           3,
           3,
           3,
           3,
           3,
           3,
           3,
           3,
           3,
           3,
           3,
           3,
           3,
           3,
           3,
           3,
           3,
           3,
           3,
           3,
           3,
           3,
           3,
           3,
           3,
           3,
           3,
           3,
           3,
           3,
           3,
           3,
           3,
           3,
           3,
           3,
           3,
           3,
           3,
           3,
           3,
           3,
           3,
           3,
           3,
           3,
           3,
           3,
           3,
           3,
           3,
           3,
           3,
           3,
           3,
           3,
           3,
           3,
           3,
           3,
           3,
           3,
           3,
           3,
           3,
           3,
           3,
           3,
           3,
           3,
           3,
           3,
           3,
           3,
           3,
           3,
           3,
           3,
           3,
           3,
           3,
           3,
           3,
           3,
           3,
           3,
           3,
           3,
           3,
           3,
           3,
           3,
           3,
           3,
           3,
           3,
           3,
           3,
           3,
           3,
           3,
           3,
           3,
           3,
           3,
           3,
           3,
           3,
           3,
           3,
           3,
           3,
           3,
           3,
           3,
           3,
           3,
           3,
           3,
           3,
           3,
           3,
           3,
           3,
           3,
           3,
           3,
           3,
           3,
           3,
           3,
           3,
           3,
           3,
           3,
           3,
           3,
           3,
           3,
           3,
           3,
           3,
           3,
           3,
           3,
           3,
           3,
           3,
           3,
           3,
           3,
           3,
           3,
           3,
           3,
           3,
           3,
           3,
           3,
           3,
           3,
           3,
           3,
           3,
           3,
           3,
           3,
           3,
           3,
           3,
           3,
           3,
           3,
           3,
           3,
           3,
           3,
           3,
           3,
           3,
           3,
           3,
           3,
           3,
           3,
           3,
           3,
           3,
           3,
           3,
           3,
           3,
           3,
           3,
           3,
           3,
           3,
           3,
           3,
           3,
           3,
           3,
           3,
           3,
           3,
           3,
           3,
           3,
           3,
           3,
           3,
           3,
           3,
           3,
           3,
           3,
           3,
           3,
           3,
           3,
           3,
           3,
           3,
           3,
           3,
           3,
           3,
           3,
           3,
           3,
           3,
           3,
           3,
           3,
           3,
           3,
           3,
           3,
           3,
           3,
           3,
           3,
           3,
           3,
           3,
           3,
           3,
           3,
           3,
           3,
           3,
           3,
           3,
           3,
           3,
           3,
           3,
           3,
           3,
           3,
           3,
           3,
           3,
           3,
           3,
           3,
           3,
           3,
           3,
           3,
           3,
           3,
           3,
           3,
           3,
           3,
           3,
           3,
           3,
           3,
           3,
           3,
           3,
           3,
           3,
           3,
           3,
           3,
           3,
           3,
           3,
           3,
           3,
           3,
           3,
           3,
           3,
           3,
           3,
           3,
           3,
           3,
           3,
           3,
           3,
           3,
           3,
           3,
           3,
           3,
           3,
           3,
           3,
           3,
           3,
           3,
           3,
           3,
           3,
           3,
           3,
           3,
           3,
           3,
           3,
           3,
           3,
           3,
           3,
           3,
           3,
           3,
           3,
           3,
           3,
           3,
           3,
           3,
           3,
           3,
           3,
           3,
           3,
           3,
           3,
           3,
           3,
           3,
           3,
           3,
           3,
           3,
           3,
           3,
           3,
           3,
           3,
           3,
           3,
           3,
           3,
           3,
           3,
           3,
           3,
           3,
           3,
           3,
           3,
           3,
           3,
           3,
           3,
           3,
           3,
           3,
           3,
           3,
           3,
           3,
           3,
           3,
           3,
           3
          ],
          "coloraxis": "coloraxis",
          "symbol": "circle"
         },
         "mode": "markers",
         "name": "3",
         "scene": "scene",
         "showlegend": true,
         "type": "scatter3d",
         "x": [
          -0.7689805197939917,
          -0.7476879535711785,
          -0.9604798445989847,
          0.2221390106078994,
          0.15577286962602896,
          0.2228094427197409,
          0.2959529437056733,
          0.34978075192482094,
          0.1962780650944212,
          0.1639072729407197,
          0.1725915277842019,
          0.17678722720329712,
          -0.017594548122650606,
          -0.012958691732352824,
          -0.09618617976475828,
          -0.10119872797840682,
          0.01898800307410663,
          -0.03583289761423748,
          -0.05203777667520137,
          -0.09632115338726888,
          -0.07041853477291775,
          -0.06367301575906975,
          -0.07311681157325876,
          0.12718231196830312,
          -0.07386698319310614,
          -0.1349261142558824,
          0.04989370756054232,
          0.11663623102317677,
          0.018020905520914718,
          -0.08585025775170384,
          0.08312263131388357,
          -0.05798767060902501,
          0.19592761224085067,
          0.0172810447344369,
          -1.160089957129159,
          -0.5006163559233638,
          -0.6988416685386183,
          -0.8387344069195408,
          -0.766171080250535,
          -0.8678015217143885,
          -0.7401976745252161,
          -0.81968599545765,
          -0.885337500162986,
          -0.8920366017773228,
          -1.0060315177372787,
          -0.6725725163740237,
          -0.7389803979814927,
          -0.9081229012503419,
          -0.954008078117095,
          -0.2621848543291245,
          -0.8731431752772132,
          -0.8067729136111247,
          -0.7839618803982493,
          -0.7044187186001282,
          -0.44778583177416287,
          -0.7054547724487716,
          -0.6838814942090715,
          0.2001839660184437,
          -0.1611502293053629,
          -0.4857291366285078,
          -0.19899898001231173,
          -0.6097201379145005,
          -0.9809995383037242,
          -0.8595169798067994,
          -0.6145897731493263,
          -1.0137484939421668,
          -1.0210429913838701,
          -0.6519041407190208,
          -1.0479626404410356,
          -0.9619979373885033,
          -1.957374768484661,
          -1.7458239740515744,
          -1.8155846266143707,
          -1.6716959740368522,
          -1.6939977903264476,
          -1.6939081183490396,
          -0.7322466162751573,
          -1.3971676411195875,
          -1.3052980231642792,
          -1.9046131225218788,
          -1.499800045485741,
          -1.3334700262910875,
          -1.4312635843583053,
          -1.4027028042380603,
          -1.23981017204541,
          -1.3224251787810235,
          -1.2705584306971516,
          -1.1760478361715971,
          -1.0706156891546217,
          -1.1330628300988346,
          -1.229424479684917,
          -1.3145266336324009,
          -1.3658638629971342,
          -1.3561865412147323,
          -1.1441919113981056,
          -1.1646007578733866,
          -1.1075581643843466,
          -1.147285247428707,
          -1.145773530162627,
          -1.2046665951423159,
          -1.251232814583268,
          -1.270377855245019,
          -1.2782933389981979,
          -1.4915197435663246,
          -1.247305670434493,
          -1.3097416558077095,
          -1.30808600375693,
          -1.3525059099256993,
          -1.367904974116997,
          -1.1362391792077537,
          -1.354791533292192,
          -1.364037687613225,
          -1.3044682404961172,
          -1.3184539683024978,
          -1.4701431159000313,
          -1.2821425251335319,
          -1.1896163807381437,
          -1.456694457710109,
          -1.4315054533730256,
          -1.503185023635277,
          -1.272793705977938,
          -1.4285899131307855,
          -1.3141733848462562,
          -0.9016421302998904,
          -0.8615130187191754,
          -0.8357524654465828,
          -0.8701893088279894,
          -0.8603166780049533,
          -1.0538907199253962,
          -0.904348955534329,
          -0.951912856655715,
          -0.9899464858632395,
          -1.169568096296869,
          -1.1237280582536304,
          -1.1500003267525425,
          -1.1360133422926677,
          -1.200063384062994,
          -1.1643878201704758,
          -1.1978361863602107,
          -1.2130808667038167,
          -1.1551758146486044,
          -0.8347295302701808,
          -1.2219938782246371,
          -1.2241226331085402,
          -1.2535037268835048,
          -1.186272120269308,
          -0.9205037274408742,
          -0.8444235023310142,
          -1.0274253433050786,
          -1.6812518094221254,
          -1.2971334482668235,
          -1.2535630519389123,
          -1.164203457300096,
          -1.5655762514953973,
          -1.4949585590830503,
          -1.593678915438112,
          -1.4789704456125816,
          -1.7317094909546464,
          -1.5510193592787511,
          -1.4564592210781746,
          -1.6152752212120909,
          -1.7202745773378356,
          -1.7521966111670682,
          -1.5140954867831216,
          -1.462196232678524,
          -1.5079174919398932,
          -1.536551936640615,
          -1.6337267690741633,
          -1.5954550101049494,
          -1.415357380978764,
          -1.4417520920814213,
          -1.3747012064730728,
          -1.4769450744799635,
          -1.4115685185246347,
          -1.4320149485550668,
          -1.5165196250027082,
          -1.5132766934283584,
          -1.1132786947127036,
          -1.6201983139331448,
          -1.6252312851014479,
          -1.3155916716905345,
          -1.2636119873471399,
          -1.4071755233589056,
          -1.376837242548032,
          -1.222359691538333,
          -1.467249652808076,
          -1.4219631724830553,
          -1.4567782431253575,
          -1.5404420239905345,
          -1.5214986372232946,
          -1.4248714898623955,
          -0.6184079815541401,
          -1.1853769683906448,
          -1.3372342287747332,
          -1.2668355134179776,
          -1.273669324773056,
          -1.1124125574805577,
          -1.2522862386303788,
          -1.35341489657747,
          -1.2639887042127813,
          -1.3478078061400405,
          -1.1015360410783315,
          -1.6568447549764311,
          -1.4916520413030812,
          -1.2938672662959885,
          -1.4159664309632312,
          -1.6426317932295222,
          -1.700387896439634,
          -1.525435606217069,
          -1.284791691793725,
          -1.435209422626732,
          -1.3658349587794005,
          -1.5919276875501767,
          -1.7616378414470035,
          -1.4847070233002846,
          -1.6780524571791176,
          -1.480340631041448,
          -1.5396697143685145,
          -1.1580900628369695,
          -1.5414451288024402,
          -1.6007742121295057,
          -1.2191945605979606,
          -1.564762058067378,
          -1.4009013544643694,
          -1.38022888795973,
          -1.4956928167634282,
          -1.5870383961729457,
          -0.9868372547096584,
          -1.6334118576188483,
          -1.2952080561604815,
          -1.7191755476598836,
          -1.1931839278497887,
          -1.3423081329835604,
          -1.4633930209599362,
          -1.4756472148170943,
          -1.3487638890384328,
          -0.9723389128488245,
          -1.3059789798152253,
          -1.5901348386462844,
          -1.337724525623642,
          -1.3232002820719209,
          -1.4622574985389838,
          -1.153401812102451,
          -1.459195769889965,
          -1.2363226393914495,
          -1.504689867049178,
          -1.6552254992278546,
          -1.458366837722502,
          -1.393950030548416,
          -1.177185122880794,
          -1.410603381937476,
          -1.4789474803719875,
          -1.4830261845202861,
          -1.3395413320169307,
          -1.4698798915676015,
          -1.6104939891892942,
          -1.8755284065126443,
          0.17981710088172007,
          -1.1181666412265991,
          -1.6636666523452568,
          -1.4611336929916965,
          -1.6010326553863128,
          -1.6070427057799974,
          -1.707345353177407,
          -1.4835340453839299,
          -1.0662045075341062,
          -1.4333951258557611,
          -0.9768551811835778,
          -1.1634271938058178,
          -1.2271201296214136,
          -1.0471936411652183,
          -1.1876177294817132,
          -1.0571741627932663,
          -1.1135295468756128,
          -1.209699591346732,
          -0.8603218216737515,
          -0.8613752160562084,
          -0.986227202518098,
          -0.9717624844569605,
          -1.1061603396628432,
          -1.1828814756236297,
          -1.1115943328377478,
          -1.0190466077386586,
          0.10682509904798874,
          -0.7193859252720405,
          -0.7564506062695749,
          -0.7362591570879615,
          -0.6509224786230634,
          -0.7413428869688036,
          -0.956972673801529,
          -0.9397143923700009,
          -1.1080557153054267,
          -1.0980947162983679,
          -1.0189726083633097,
          -1.0346672047251324,
          -0.8317740853016924,
          -0.5105456213749181,
          -0.7682855793319155,
          -0.6005780163405618,
          -0.7784853060791235,
          -0.9113638553050906,
          -0.9240786065912775,
          -1.0295491339956653,
          -0.9746059547832182,
          -1.0408691969994879,
          -0.7182079218634952,
          -0.7870546183515696,
          -0.4182612545327213,
          -0.2808969099782532,
          -0.34470967470869884,
          -0.2376352498146276,
          -0.5338697134479921,
          -0.5717256962759854,
          -1.68627586609008,
          -1.5304064399204804,
          0.09804395437015617,
          -0.2313388005682977,
          -0.2378524803865789,
          -0.22292441948861663,
          -0.23413062450025043,
          -0.16368229683398758,
          0.4769243615247547,
          0.19211565554928403,
          -0.07800775973232389,
          0.5944581192094714,
          0.9946222987888113,
          0.24730711490668614,
          0.24418408209851183,
          0.1335237630573772,
          0.05451556100063799,
          -0.08513140741001717,
          -0.06481551462007701,
          0.067068723730591,
          0.14642351453156022,
          -0.028379540447554693,
          -0.01717678497531982,
          -0.05468121889980879,
          0.03841033320895056,
          0.2878658405529212,
          0.7710338206164206,
          0.26559062335059475,
          0.2538768238489884,
          0.1643998777695314,
          0.09589363695427196,
          0.043388843140788606,
          0.2619264163686769,
          0.11001701855862915,
          -0.12510030973330294,
          -0.08716182984289764,
          -0.036081653925273294,
          -0.005953174641731817,
          0.35009748178414485,
          0.11912001162101127,
          0.03543306006276018,
          0.05367255418032203,
          0.3602965274982644,
          0.5021865615056497,
          0.08384208669944546,
          0.17016992417920263,
          -0.0856135710928385,
          -0.2714883741922162,
          -0.16884243390910825,
          -0.07179455466886671,
          0.029773605836069084,
          -0.0077035185650225855,
          0.03160116002113245,
          0.2428197639319301,
          0.1996975918927342,
          0.5383322320292621,
          0.2695631516391474,
          0.26297441885912676,
          0.3496882433163538,
          0.028167039932432317,
          0.11948977287582038,
          0.2496946969548584,
          0.7906106409146545,
          0.5590871443834274,
          0.41256479373989197,
          0.27497200019208523,
          -1.7149836579752702,
          -0.7484414845941649,
          -0.7345648994082075,
          -0.9065567596526543,
          -0.8042807973009967,
          -0.7187256758842948,
          -0.47364993607421163,
          -0.6005618446210063,
          -1.0007172939005748,
          -1.033655677365936,
          -1.0605094988441626,
          -0.89956210966807,
          -0.7718739591897162,
          -0.9242453356812289,
          -0.6852077424517397,
          -0.7548836661133268,
          -0.935577519299815,
          -0.8297198665800355,
          -0.6583331679957519,
          -0.7735829079349749,
          -0.7928628275182373,
          -0.6599715959099818,
          -0.4877971279810506,
          -0.43462684153948966,
          -0.38961662235990985,
          -0.44686345500651387,
          -0.5852385529801475,
          -0.27767731768560416,
          -0.37058165319405806,
          -0.3985172651531512,
          -0.4815063082214355,
          -0.880891240853786,
          -0.7211888105917628,
          -0.535173247959693,
          -0.7411022471690156,
          -0.6948176780424324,
          -0.5801188121056909,
          -0.6650568407319931,
          -0.3684690435331948,
          -0.5005233561603892,
          -0.5830898517804225,
          -0.4948259555217333,
          0.11209053921539415,
          -0.37064648514905,
          -0.5587658678581102,
          -0.3694841212229354,
          0.7482007639978725,
          -0.034071508235720464,
          -0.25339102667228325,
          -0.5589186177917912,
          -0.5141078047531997,
          -0.4469338737857213,
          0.10457051561382885,
          0.7741630094719305,
          -0.28785614876244675,
          -0.460878666406229,
          -1.1616632174169754,
          -1.5886216717319168,
          -1.534682286808279,
          -1.2969654510094981,
          -1.3248343627090031,
          -1.5485304467655518,
          -1.5953249348952878,
          -1.483967261872697,
          -0.24293753006580396,
          -0.2634041396868154,
          -0.2127748730529153,
          -0.12033745441538214,
          0.13837016221076204,
          -0.2103173353366576,
          -0.10314048322706441,
          -0.2602602701150019,
          -0.2782077712064348,
          -0.16683721027874593,
          -0.015877974821228238,
          0.3747325795340347,
          -1.4232736859204866,
          -0.9473842922690047,
          -1.0785334104668183,
          -1.071334043907321,
          -1.119610974602842,
          -1.080282201670675,
          -1.0632270083167636,
          -1.004869130479505,
          -1.0341427482966654,
          -1.6870093648613373,
          -1.3280414912964407,
          -0.42466011756242317,
          -0.516941282568048,
          0.03058073556661258,
          -0.38174439572043906,
          -0.518592259380391,
          -0.21409187116465464,
          -0.5445846007598917,
          -0.6168017584182357,
          -0.10455758888434834,
          -0.4525389334020557,
          -0.537611218185231,
          0.15154262434481072,
          -0.2023210135515525,
          -0.3834920389147975,
          0.5143335244463798,
          -0.19078906454580896,
          -0.42844980159641544,
          -0.19576626363689403,
          -0.30297793393014183,
          1.2595366737720115,
          0.14972473783033113,
          -0.3303195928624348,
          -0.1111079073056567,
          0.930083019698458,
          0.1295337786209563,
          -0.3280302911813432,
          1.214291579536877,
          0.046351618902434506,
          0.19133138641549405,
          1.459702544788893,
          -0.012388235424401062,
          0.452103865949818,
          0.9429814892560595,
          -0.03905437080989171,
          -0.21352400940356656,
          0.7655764405645085,
          -0.09335036620428505,
          0.2734165696301519,
          0.30185614137825006,
          0.5662743837868113,
          -0.20991208092546448,
          1.2812362262086923,
          -0.06338031158279288,
          0.5631556479455635,
          1.271863112326491,
          0.1515904755064926,
          0.7620613327351935,
          0.18370046329947712,
          0.8626544224797954,
          0.1695292468783115,
          0.9190849764217639,
          0.26224983814424857,
          0.24418214698555465,
          0.3784202086963943,
          -1.328165734260917,
          -1.5071741932714993,
          -1.630493709767218
         ],
         "y": [
          4.503331887420084,
          4.425529661515914,
          4.198628779275481,
          6.405642655570682,
          6.395476768265832,
          6.367855094090198,
          6.351321925686948,
          6.359657274428562,
          6.37423637639061,
          6.387301217049551,
          6.385474649279908,
          6.384156138448249,
          6.444488397341516,
          6.441193785259045,
          6.47418307922703,
          6.433235896597716,
          6.404384967722756,
          6.405987405355259,
          6.409415766085038,
          6.425354120607247,
          6.416718864585745,
          6.416934345027877,
          6.422129567059919,
          6.3622800190753495,
          6.4200723043912715,
          6.441589854005244,
          6.338647097761169,
          6.32411246483173,
          6.348523692944895,
          6.385903234322141,
          6.3372249961366185,
          6.375836886106756,
          6.379643081442127,
          6.4046134117844575,
          2.939831324392347,
          3.2690809555039215,
          3.227327299549752,
          3.2592440980707207,
          3.2543030119095664,
          3.2629343983136927,
          3.2394124748740114,
          3.274364912463666,
          3.2700566897928622,
          3.2779242523738645,
          3.3158834142551465,
          3.191837328579388,
          3.1840976610301217,
          3.235998108480372,
          3.2578951088301453,
          3.1473512368056715,
          3.18425262926572,
          3.1925017171967727,
          3.1586900437289134,
          3.090224241312261,
          3.0095411966488355,
          3.0924159735342265,
          3.035837832380687,
          2.8478256919155913,
          2.8995244108660434,
          3.015331816996039,
          2.9690687033164593,
          3.3331506291300235,
          3.2486189699808006,
          3.240239519761851,
          3.330468010583238,
          3.2217439628298785,
          3.18511809846453,
          3.235452022960082,
          3.192467579400765,
          3.1311456330273737,
          2.1071959654266035,
          2.0403681603165507,
          1.9647465690531416,
          1.8875850438513597,
          1.7784115983284827,
          3.4342781720745377,
          2.820461338761605,
          2.9215620084541203,
          2.7552873439891257,
          2.4437374200457955,
          3.891361676521205,
          3.951510453676513,
          2.3479230254402226,
          2.314309611902314,
          2.2861022913561473,
          2.1762754023244435,
          2.1570686414216076,
          2.1323207255516974,
          2.1030965253743164,
          2.1124233280671696,
          2.144971954085197,
          2.173259055537298,
          2.1906220293288765,
          2.184398722497113,
          2.1274163792593552,
          2.1255418912018595,
          2.124808800027207,
          2.0768711282156143,
          2.0748265395383116,
          2.0909348149336053,
          2.106459479682028,
          2.111086333866371,
          2.1148643990972267,
          2.1933150410900906,
          2.113331265828902,
          2.126129673108492,
          2.1275303487940653,
          2.138745518244695,
          2.1464668083536145,
          2.045414971493248,
          2.0964476820520903,
          2.098494577487763,
          2.090532889490302,
          2.0887289083148257,
          2.1404318946198133,
          2.0803043243721655,
          2.051736352944462,
          2.129658079368161,
          2.126438962647,
          2.147551510576835,
          2.0396726784649513,
          1.9816105725830262,
          1.7934651969726707,
          2.1813641890132325,
          2.1746039938850443,
          2.185712303056098,
          2.1745910892403466,
          2.1705812634993213,
          2.2331656804224918,
          2.1842238831023155,
          2.195793779458072,
          2.2145267042236085,
          2.224344711605662,
          2.2068369379746358,
          2.2161727468182457,
          2.2122759105663223,
          2.233168084033419,
          2.2268673392540497,
          2.2347289988766557,
          2.241631402916154,
          2.2197200153340684,
          2.1708727579773845,
          2.198246925772451,
          2.2068693966083837,
          2.211576506225537,
          2.188398438628281,
          2.1449006688080803,
          2.046345676405111,
          2.122434514065151,
          2.1895249878599388,
          3.5923352070417476,
          3.6920933906926625,
          3.594451872405338,
          3.264009255425599,
          3.2358818587619287,
          3.267697197578508,
          3.22801922885063,
          3.3145965660551964,
          3.2543526622998455,
          3.228386631079476,
          3.2747782848073084,
          3.322070771461679,
          3.325286646080564,
          3.200902959240746,
          3.1797733819537646,
          3.1932654782016177,
          3.206454866921925,
          3.254434232089139,
          3.2269803817332665,
          3.165985669396757,
          3.1757908945593005,
          3.1614596000664568,
          3.141523056403126,
          3.118979235307106,
          3.127712494958116,
          3.154996811177849,
          3.1541423618481836,
          3.0489723476885655,
          3.199492928932844,
          3.1921367848069147,
          3.054690501314104,
          3.05224930333643,
          3.0801704949737987,
          3.0755207618291376,
          3.0293116974088745,
          3.099771658455189,
          3.0885913208281734,
          3.0971665004963875,
          3.121717223987006,
          3.118621561158384,
          3.0839428300016243,
          2.9480087589806736,
          2.975741637596452,
          3.013499270786531,
          2.991425645014781,
          3.0154327611920335,
          2.9532334671934533,
          3.000993770327742,
          3.03756698179478,
          1.73251484706119,
          1.7694452743668208,
          1.6085535836072828,
          1.7445579366388486,
          2.5766966359751584,
          1.9068912918626517,
          1.891186085201987,
          2.4278868416612425,
          2.4382698972957155,
          2.335747915259276,
          2.2597817729094705,
          2.301842752138265,
          2.38738866862986,
          2.2941030494539247,
          2.0791719002913513,
          1.9858562890595304,
          2.0199480576133415,
          2.2778066723992776,
          2.2448981869105844,
          2.0613758327685567,
          2.2257586886355036,
          2.19285020314681,
          2.009327849004783,
          1.8802027192135249,
          1.7017250855989674,
          2.0632004432034288,
          1.825156744573036,
          1.8184146343034326,
          3.158253044452788,
          2.7492510780448507,
          2.7955309399052704,
          2.761840155884769,
          2.517261488175365,
          2.569910049311027,
          2.5713256073728195,
          2.5196810261708853,
          2.015858550621384,
          2.0568973145592526,
          1.9504066779981386,
          2.0433939136774457,
          1.9318307556996215,
          1.9256439875444815,
          1.9598828673378015,
          1.8666772700340217,
          1.9214037544838607,
          1.8534647218558415,
          1.9230154321845887,
          1.8979619178619611,
          2.078325827158748,
          2.0293835695275693,
          1.9618018823041308,
          2.007892543593375,
          3.6330858731108924,
          3.3339027817481033,
          1.4003868666447734,
          1.44622287951813,
          2.592955639928807,
          2.6377524726457495,
          2.1491399312990165,
          2.265216024408372,
          1.3535510520896794,
          1.244658773708054,
          1.5553519681776284,
          1.4236612321316293,
          1.4073120561405146,
          1.500072965979918,
          1.3671720607084445,
          1.4818144512549947,
          1.3080421807886362,
          1.3639338278228925,
          1.3364099675436185,
          1.2849114886908413,
          1.7588825295629311,
          1.710715059024696,
          1.731666303984576,
          1.7615778526823362,
          1.6441781101343758,
          1.6531751280783826,
          1.6927055409415646,
          1.695954935581085,
          1.7264992321659858,
          1.7529583957694688,
          1.7275438491394774,
          1.698498263905579,
          1.5617309819690752,
          1.594034320873678,
          1.567965744195546,
          1.5609223998805002,
          1.5585172008450556,
          1.5788517061643992,
          1.6348079685435122,
          1.627142493616523,
          1.6850078649517832,
          1.6780002538159247,
          1.6524030320072811,
          1.6589606883807766,
          1.5490626553212192,
          1.4583219305333783,
          1.5285241408651649,
          1.4859801563471802,
          1.5404367836680053,
          1.5778845703193853,
          1.5826285559067965,
          1.6130782839823337,
          1.6053511126668376,
          1.6134545100597077,
          1.5349982534249769,
          1.4992058758797597,
          1.4041702849042097,
          1.447399867112,
          1.379834907335077,
          1.3554305250226895,
          1.4191613030803623,
          1.4391368239198872,
          1.7701792577704658,
          1.7141852622057598,
          2.6379795230741117,
          2.7013296931951056,
          2.6995346001639327,
          2.693571672358924,
          2.707412270043931,
          2.6768353384937864,
          2.68260065550746,
          2.6209096229260824,
          2.6524128397682434,
          2.504582757471624,
          2.416397572825287,
          2.578435209837413,
          2.5283187410577077,
          2.5516648515741185,
          2.5702708480657677,
          2.6137725441991084,
          2.608500835163948,
          2.573665779967713,
          2.5524715350097806,
          2.6003586487855475,
          2.592612777729718,
          2.6085969231862123,
          2.5873686167156533,
          2.5390373827997537,
          2.537613718681366,
          2.4836969478101985,
          2.483427086884445,
          2.5005071547240525,
          2.520676467902384,
          2.5392920483970576,
          2.482768537956888,
          2.5205744153135057,
          2.5907899078786603,
          2.5722877835765976,
          2.568618060982063,
          2.554197383170275,
          2.426256139994905,
          2.4713723177362503,
          2.4978814942161542,
          2.4906233463889182,
          2.419984744626079,
          2.492421633435991,
          2.4741381897324772,
          2.4716345814071934,
          2.523326967236053,
          2.58543733100713,
          2.5491843026807333,
          2.52975471897348,
          2.449390659888217,
          2.462596601845866,
          2.4535799780800196,
          2.396214921733694,
          2.4161525734482927,
          2.3448609030899785,
          2.39329376384197,
          2.3996142249355943,
          2.3925422760537947,
          2.464788061706581,
          2.452085756448522,
          2.404182356190375,
          2.3154573806507925,
          2.284827234523738,
          2.3410720903705755,
          2.373890987319288,
          1.358804721990703,
          1.8312275128828115,
          1.8094221272230095,
          1.8700838066403838,
          1.8319641819687909,
          1.8069935719174424,
          1.7341152140119918,
          1.7737184235188919,
          1.9016391337596423,
          1.9092712573223545,
          1.9186522819741225,
          1.8699709202295394,
          1.8530208184541077,
          1.8543763601698025,
          1.7492180871795602,
          1.7733173026459572,
          1.8324768667476785,
          1.8227243124459804,
          1.7593217819501428,
          1.8139576282810337,
          1.7945896750772086,
          1.7030923802028952,
          1.645959303040295,
          1.6472751926958822,
          1.6518780023489459,
          1.6388999220746443,
          1.679364254529094,
          1.6056247233615564,
          1.6204245483517397,
          1.6253174323263895,
          1.6501262189068984,
          1.7842841937678098,
          1.7398748173651817,
          1.6586863555729134,
          1.6823314277595378,
          1.6818702444161384,
          1.6487588993812232,
          1.6752322836580742,
          1.585810184678405,
          1.610275273950029,
          1.6381685088429563,
          1.622212404957738,
          1.5888279919785178,
          1.5431331501005272,
          1.6057618481701104,
          1.5692416385950907,
          1.3131459429636225,
          1.4724154456284302,
          1.5104766236205713,
          1.6043741370130666,
          1.6026161670270076,
          1.567700803298009,
          1.4075600848545646,
          1.4636532046800736,
          1.5185144047687043,
          1.5322780538112424,
          1.7404229807257352,
          1.702519864999479,
          1.7068309903587735,
          1.746383672976401,
          1.6158734357680058,
          2.6298924689319803,
          2.5162143660177283,
          2.1183135687609673,
          2.0829083934736343,
          2.0905234037818157,
          2.073658398752481,
          2.0416949575233416,
          1.9778098852048416,
          2.070708306343234,
          2.039784499184678,
          2.085761197341232,
          2.103667654499362,
          2.0105373337048866,
          1.9999059141719164,
          1.8508360486003173,
          1.2457555151292987,
          1.1921573867637005,
          1.2406081729751541,
          1.2347368213057799,
          1.2510343566444218,
          1.197686209600458,
          1.1898781928998958,
          1.1697389672321228,
          1.1806791437178252,
          1.4533811054341224,
          1.3243372274780865,
          1.7518612794995683,
          1.7961930952411471,
          1.6822175040096512,
          1.7536880989845332,
          1.7850999671558603,
          1.7169549659319643,
          1.7804099275473564,
          1.7982421268014464,
          1.7087534743606265,
          1.7652832159646779,
          1.7848941290177072,
          1.6712355605567886,
          1.6805187868331781,
          1.7233195937062198,
          1.5459421312983226,
          1.6737085100785554,
          1.709542513038782,
          1.682129570274812,
          1.6846198850367866,
          1.4653004518256834,
          1.610220677873325,
          1.6887322991632732,
          1.6660261147470425,
          1.4948779225257498,
          1.5576197000278866,
          1.6408885618158484,
          1.385171043707907,
          1.5826286306347475,
          1.540637684690372,
          1.3633109780284338,
          1.5895004638721448,
          1.5162495017570092,
          1.4423987670118665,
          1.5893925732019565,
          1.6343460638874028,
          1.4333672822390724,
          1.5579517452169176,
          1.4784962003369184,
          1.4667115176825727,
          1.4511245355318994,
          1.5747242912987938,
          1.3235732000241702,
          1.5390078197741495,
          1.643589416662838,
          1.33855627684414,
          1.474106780377885,
          1.3760149886763957,
          1.4649763675866523,
          1.3839731903468337,
          1.4775293047306168,
          1.3898366030234224,
          1.457886735609844,
          1.444954467030394,
          1.3831597954696975,
          1.1916537543156986,
          2.1587080599516075,
          1.9831237638460835
         ],
         "z": [
          0.6317607105620849,
          0.5903118589717973,
          1.0003598105792368,
          -3.379286123818928,
          -3.4241074123975297,
          -3.4036367289048677,
          -3.3920619005809654,
          -3.4076420496112343,
          -3.5064270428864552,
          -3.56112131344768,
          -3.583717505514849,
          -3.609693975108254,
          -3.7694420226689314,
          -3.792745737857891,
          -3.8818139564991183,
          -3.4641498887562117,
          -3.4231000589684655,
          -3.473537694143785,
          -3.5132203651854477,
          -3.57545729929004,
          -3.5875427335582115,
          -3.644851249500146,
          -3.682109687920251,
          -3.58567042813063,
          -3.741605123304095,
          -3.8131888035433725,
          -3.295280132784961,
          -3.287560418166673,
          -3.377899297670015,
          -3.4812633968905584,
          -3.4634307936902853,
          -3.611308095329989,
          -3.546183752927539,
          -3.6663955438068143,
          0.6363208070254653,
          0.3100861437738448,
          0.2459987191230903,
          0.13238219397766154,
          0.13039734940540523,
          0.056779384963862874,
          0.09838500215320649,
          0.004647131444046341,
          -0.07180005427144845,
          -0.11185729603349286,
          -0.24822743274498918,
          0.372643974697316,
          0.29608552148370904,
          0.1570983413636695,
          0.05605340399894946,
          0.6228029900834757,
          0.3288493666663243,
          0.07610104972605176,
          0.08931585786910293,
          0.2982011059465848,
          0.44168058856338593,
          0.23512604111180727,
          0.6784392682532584,
          0.9031844297845987,
          0.6969409541381454,
          0.42200866257610015,
          0.952754642397361,
          0.8290442173254696,
          0.7654934589903878,
          0.7256559888516528,
          0.7014515485214219,
          0.8604061633579881,
          0.9772739837767866,
          0.9214525024036254,
          0.6299878732362085,
          1.1061877462917777,
          -0.9462486569574645,
          -0.9235368753737718,
          -0.6231160168556181,
          -0.638481297728922,
          -0.04255924909639049,
          -0.8940514221226211,
          -0.5738944989492919,
          -0.9580349713388361,
          -0.2648126861197712,
          -1.137950915407246,
          -0.7611048380988932,
          -0.8661798628610141,
          -0.9119382532094893,
          -1.021157796540163,
          -0.9697486839708055,
          -0.994044291360846,
          -0.9869506874434983,
          -0.956632685439081,
          -0.9199259286720856,
          -0.9829631933331614,
          -1.077811932068291,
          -1.1652906823198452,
          -1.2304773278584198,
          -1.251949768533852,
          -1.1453870951218503,
          -1.1857596353913236,
          -1.1926467910509189,
          -0.7771300743678354,
          -0.8041568716671452,
          -0.8734499716683258,
          -0.9357472679426864,
          -0.9779130818738034,
          -1.0130041168977073,
          -1.1951255326183903,
          -1.0576913399198573,
          -1.1252919566947543,
          -1.1554406527338976,
          -1.2117789960162426,
          -1.2549212042448388,
          -0.688797443464851,
          -0.8503598052921416,
          -0.8849944979013876,
          -0.8851904015208942,
          -0.9183135165463489,
          -1.0539578350414989,
          -0.9559212042933684,
          -0.9237583618898892,
          -1.1267981282482662,
          -1.1443518495197957,
          -1.221047986957909,
          -0.9791788862237266,
          0.4875001097189505,
          1.081131281773943,
          -0.34247915843105703,
          -0.34895940582126156,
          -0.3779652046733446,
          -0.4154952420136536,
          -0.4357655673306162,
          -0.5981344047613166,
          -0.5240005901664013,
          -0.5826872135042873,
          -0.6467155779332919,
          -0.4239393967572491,
          -0.4208938207080553,
          -0.4683062361238656,
          -0.48854446025416337,
          -0.563806496602322,
          -0.6046518117032953,
          -0.6536467840717359,
          -0.6957967979770097,
          -0.6843918951167736,
          -0.544613459898499,
          -0.42444485284467975,
          -0.580275277488519,
          -0.6264475037030488,
          -0.6100876660195389,
          -0.4975962072783064,
          -0.2832299731655405,
          -0.4585623778609507,
          -0.07417850182450636,
          -0.7140608914684778,
          0.9284201158234354,
          1.159438894703931,
          0.735345685258839,
          0.7591036767815623,
          0.6627556821498567,
          0.7144616981340564,
          0.5085933449106084,
          0.6017925127792252,
          0.6006449782713459,
          0.4693205511203512,
          0.3264738278368039,
          0.28392723026626654,
          0.8708111516437268,
          0.8809543711610188,
          0.8214358972124526,
          0.7696657531620239,
          0.5977539658702278,
          0.6077057867626608,
          0.7061506661148459,
          0.6259894660066501,
          0.6339756563824906,
          0.9944583672462914,
          1.010653047158272,
          0.9654874625953699,
          0.8800915851258347,
          0.852560989992893,
          1.0465889255861867,
          0.6783883008325254,
          0.5973204874169592,
          1.1932965661124262,
          1.187150736441192,
          1.0736747733940815,
          1.059269228193158,
          1.1319074311118529,
          0.9116476560492673,
          0.9100450714558452,
          0.8576657244725414,
          0.7757648879159045,
          0.7565109030877285,
          0.7957932812847005,
          1.620675711503,
          1.339949396744341,
          1.2142001347761786,
          1.2267575454315947,
          1.172711881444948,
          1.2678345002852813,
          1.1375145500038835,
          1.0348022622084654,
          0.531516135485034,
          0.2863951733732211,
          0.8247132537218727,
          -1.065684588729071,
          0.2492387178277899,
          0.46569816495554806,
          0.3240532910865341,
          -1.0397234383087808,
          -1.110060446811214,
          -0.5955555660263646,
          -0.4639373312628222,
          -0.5915553549825676,
          -0.5153791165569407,
          -0.4589376788968636,
          0.43112509342968236,
          0.37950482433372096,
          0.33055993272906414,
          0.47832093949818727,
          0.7200083453423638,
          1.2205672725417998,
          0.34759312367701256,
          0.5892805295211894,
          1.0898394567206242,
          0.4164540558002764,
          1.1027890451751436,
          -0.034560324304981245,
          -0.5972976454656113,
          -0.4275091771413532,
          -0.8707682510102657,
          -0.8399879626684896,
          -0.9407985981832921,
          -1.100784288546588,
          -0.3442460324973097,
          -0.6329925187589935,
          -0.5371326875373412,
          -0.4657829090071816,
          0.014974323788112648,
          0.41420248227650064,
          0.35668832200977674,
          -0.05013681090283833,
          0.3550312181097432,
          0.33485410248835745,
          0.21160815061953725,
          0.3900727752043972,
          0.3161683414932522,
          0.43313946906707296,
          0.14816426142542005,
          0.3492008732048506,
          -0.7287257833716317,
          -0.30959844429148436,
          -0.19605888989408,
          -0.3599023193880158,
          0.5233586689649297,
          1.191034758694485,
          -0.9836394444661827,
          0.1299217288776841,
          0.2687153348985637,
          0.18905396067104432,
          1.5360221321365681,
          0.8994177736104997,
          -1.5032118328233224,
          -1.1478816655289716,
          -0.8753488843114989,
          -0.5867227047888443,
          -0.30766135112123,
          -0.4340176152594417,
          -0.1781339504191973,
          -0.4587173674365244,
          0.033764208627411044,
          -0.1284859406317701,
          -0.18613352153903637,
          -0.12264680889055743,
          0.11561319154459143,
          0.17996982934749092,
          0.10937722602128457,
          0.016989487912492017,
          0.22905797966508018,
          0.18898565601469666,
          0.07236375729945285,
          0.047458984930235544,
          -0.060685518390711776,
          -0.1447658695945322,
          -0.12378871113479278,
          -0.0876183747663768,
          0.8375102563293626,
          0.47124248103777544,
          0.4478117837459043,
          0.435111314344993,
          0.44137385856270017,
          0.3546459792085711,
          0.18917888195320215,
          0.17725320610678208,
          0.03333499050899584,
          0.013462220758537986,
          0.03635549095767369,
          -0.0044794020796574555,
          0.5533820500349226,
          0.7230747480068049,
          0.5335855485789062,
          0.6101861948765052,
          0.4591330177863488,
          0.344359079341291,
          0.3046357221768402,
          0.21294659173164318,
          0.21047352742029524,
          0.1505765765561103,
          0.2824603326326824,
          0.6673924690408227,
          0.8639390722987546,
          0.8350203816706313,
          0.8091229616826519,
          0.8082088115358236,
          0.6146361343872182,
          0.5553220491192397,
          0.418414939567178,
          -1.1690173021749612,
          0.031075114340685158,
          -0.1866739541821712,
          -0.21647657989348598,
          -0.23479157335697456,
          -0.28186072955338015,
          -0.25937969774405184,
          -0.04520651513682181,
          -0.1293591968794576,
          -0.29196329780376296,
          0.020817892545102808,
          0.17363355721095677,
          -0.21950451528658602,
          0.20612545371147348,
          0.11594664410277332,
          0.048302156714481494,
          -0.0687678505069615,
          -0.09202560467728264,
          -0.04189959235548063,
          -0.023927532813703502,
          -0.16145013586650808,
          -0.17890496184115792,
          -0.23381401628188078,
          -0.2117558773917248,
          -0.10404911932979206,
          0.455813604654929,
          0.29639985421182197,
          0.2622327125407645,
          0.17198028322011316,
          0.10507641501325668,
          0.036423034156854495,
          0.14276374323024538,
          0.02128333536008752,
          -0.15746441783768297,
          -0.15853344493858904,
          -0.16060413562298603,
          -0.1696296062738313,
          0.4637151240423151,
          0.30802982143031604,
          0.21859613428634175,
          0.20277083933929435,
          0.36292945309763947,
          0.3146852178563159,
          0.14343813025742846,
          0.1494017840406231,
          -0.01720774707210047,
          -0.17340973733358955,
          -0.1331986580914284,
          -0.11426364190999301,
          0.3766531762971223,
          0.3264895363071174,
          0.31386150899490284,
          0.4066061741201973,
          0.33813430607062206,
          0.5107436323923877,
          0.3239475228301617,
          0.28004967431987865,
          0.29832084078464205,
          0.07976011884318998,
          0.09258822195817053,
          0.13890128497050586,
          0.7962810827256205,
          0.7189530127969936,
          0.5803638529222458,
          0.4781084043900351,
          -0.9557796639992128,
          -0.10629294847008239,
          -0.10690943356810345,
          -0.25707789593675273,
          -0.2123132812255578,
          -0.18894699589409386,
          -0.059994238580277255,
          -0.176907911467686,
          -0.4715532489156415,
          -0.5167450050359115,
          -0.5651581260253444,
          -0.4935361018607426,
          -0.455478232288415,
          -0.13255441194768025,
          0.026448413636971882,
          -0.11296509502851951,
          -0.2667796121914679,
          -0.2501571512431189,
          -0.15374648182380596,
          -0.3338519040180003,
          -0.35780630030361293,
          0.16052330157510256,
          0.25085483817859394,
          0.237966577595717,
          0.22131701816498564,
          0.1824892357714387,
          0.06044942870910025,
          0.21870737340778953,
          0.14094942014990497,
          0.09734094938454722,
          0.012381517980689333,
          -0.2953655465359916,
          -0.22525090597689387,
          0.295427453825331,
          0.1724410531010031,
          0.16032955334334198,
          0.2026820729777669,
          0.11646616338716316,
          0.28011043900498656,
          0.17600545852359795,
          0.09387083354361637,
          0.006014662561000223,
          0.658474386452205,
          0.4946880171276311,
          0.329394350155162,
          0.3835579514665462,
          0.9489047987835779,
          0.5070798231342194,
          0.36910906766644047,
          0.142918678431916,
          0.08536279568870976,
          0.1126101150978913,
          0.8459971839647804,
          1.0144486836073534,
          0.5340984822678978,
          0.4350803051312662,
          0.9330650064447226,
          0.6452647937452439,
          0.5339823538164596,
          0.5622694890165474,
          0.5446278718490976,
          -0.5769118296049072,
          -0.31592522817315477,
          0.4617768391776852,
          -3.4471454015849856,
          -3.521902984111543,
          -3.5169947487921895,
          -3.4858186545205943,
          -3.359709425990811,
          -3.604176055315518,
          -3.5964007806344513,
          -3.7232844144076642,
          -3.772830016427484,
          -3.3527554946941036,
          -3.3155146237746935,
          -3.097167574119377,
          -0.45867241533615993,
          -0.3811144964014413,
          -0.5049043160946299,
          -0.5252827550091816,
          -0.5872245947386386,
          -0.3798222768397454,
          -0.3963339481917939,
          -0.38621274273028594,
          -0.4375655839763173,
          -0.8407985852960356,
          -0.7244135352934896,
          0.4519914020564283,
          0.3588025416244977,
          0.6186053366343949,
          0.38112724531457703,
          0.27434755098553143,
          0.4112299132242061,
          0.21054724394862007,
          0.14217445214922067,
          0.3720784203550224,
          0.1652901268872677,
          0.0928401583187265,
          0.41046720691423283,
          0.6597355585406124,
          0.5296602104803548,
          0.9600162012337303,
          0.5810671978931659,
          0.43224244085929714,
          0.5187000193601339,
          0.4413879287779034,
          1.138622826693303,
          0.5918996276589403,
          0.32833845308820314,
          0.40720195187293384,
          0.8885621384535762,
          0.9268556735991657,
          0.674388359014771,
          1.3964204310469037,
          0.795961286423362,
          0.8515263896471226,
          1.4092573775962558,
          0.6753282215305464,
          0.8727402307893786,
          1.0780764684860016,
          0.5775489287487864,
          0.45204340297471796,
          1.3342653457072262,
          0.901116483901934,
          1.0062908992668997,
          1.0045544774195954,
          1.0627059134670174,
          0.6521521687985135,
          1.350111669437623,
          0.6751755675000758,
          0.8031661854945642,
          1.674599461180956,
          1.116426022471569,
          1.3480784652739066,
          1.0451611100027673,
          1.2923748369986858,
          0.9461630021896947,
          1.2292713591305073,
          0.8907485230716632,
          0.8634335464030479,
          1.2946010093368026,
          -0.9286415567466172,
          0.7435552356925229,
          0.97305435590484
         ]
        },
        {
         "customdata": [
          [
           "dota 2",
           433397,
           60815,
           0
          ],
          [
           "dota 2",
           384500,
           59243,
           0
          ],
          [
           "dota 2",
           363215,
           57288,
           0
          ],
          [
           "dota 2",
           319832,
           59375,
           0
          ],
          [
           "dota 2",
           310231,
           63009,
           0
          ],
          [
           "dota 2",
           272972,
           78392,
           0
          ],
          [
           "dota 2",
           277739,
           43754,
           0
          ],
          [
           "dota 2",
           289605,
           70648,
           0
          ],
          [
           "dota 2",
           296977,
           34500,
           0
          ],
          [
           "dota 2",
           305625,
           45254,
           0
          ],
          [
           "dota 2",
           296445,
           46415,
           0
          ],
          [
           "dota 2",
           302113,
           60544,
           0
          ],
          [
           "dota 2",
           359580,
           52538,
           0
          ],
          [
           "dota 2",
           326907,
           47861,
           0
          ],
          [
           "dota 2",
           333056,
           51657,
           0
          ],
          [
           "dota 2",
           284239,
           68206,
           0
          ],
          [
           "dota 2",
           312599,
           46230,
           0
          ],
          [
           "dota 2",
           303654,
           57661,
           0
          ],
          [
           "dota 2",
           322095,
           32810,
           0
          ],
          [
           "dota 2",
           303454,
           78965,
           0
          ],
          [
           "dota 2",
           301995,
           40398,
           0
          ],
          [
           "dota 2",
           315955,
           42562,
           0
          ],
          [
           "dota 2",
           342701,
           55117,
           0
          ],
          [
           "dota 2",
           357781,
           43267,
           0
          ],
          [
           "dota 2",
           409908,
           41617,
           0
          ],
          [
           "dota 2",
           385397,
           49147,
           0
          ],
          [
           "dota 2",
           421360,
           53984,
           0
          ],
          [
           "dota 2",
           401310,
           55830,
           0
          ],
          [
           "dota 2",
           427341,
           52576,
           0
          ],
          [
           "dota 2",
           420651,
           66896,
           0
          ],
          [
           "dota 2",
           439102,
           38690,
           0
          ],
          [
           "dota 2",
           439437,
           93911,
           0
          ],
          [
           "dota 2",
           431392,
           41324,
           0
          ],
          [
           "dota 2",
           451820,
           47456,
           0
          ],
          [
           "dota 2",
           451289,
           62083,
           0
          ],
          [
           "dota 2",
           465590,
           44369,
           0
          ],
          [
           "dota 2",
           546394,
           62600,
           0
          ],
          [
           "dota 2",
           528057,
           74901,
           0
          ],
          [
           "dota 2",
           563468,
           67743,
           0
          ],
          [
           "dota 2",
           450484,
           41027,
           0
          ],
          [
           "dota 2",
           490819,
           62867,
           0
          ],
          [
           "dota 2",
           440912,
           59706,
           0
          ],
          [
           "dota 2",
           461803,
           55148,
           0
          ],
          [
           "dota 2",
           487148,
           95404,
           0
          ],
          [
           "dota 2",
           449103,
           35959,
           0
          ],
          [
           "dota 2",
           449514,
           40421,
           0
          ],
          [
           "dota 2",
           428219,
           48360,
           0
          ],
          [
           "dota 2",
           419408,
           46110,
           0
          ],
          [
           "dota 2",
           442024,
           59253,
           0
          ],
          [
           "dota 2",
           436925,
           50318,
           0
          ],
          [
           "dota 2",
           544228,
           56324,
           0
          ],
          [
           "dota 2",
           673933,
           75767,
           0
          ],
          [
           "dota 2",
           717401,
           68672,
           0
          ],
          [
           "dota 2",
           569147,
           57269,
           0
          ],
          [
           "dota 2",
           571211,
           48326,
           0
          ],
          [
           "dota 2",
           554956,
           51483,
           0
          ],
          [
           "dota 2",
           551165,
           53000,
           0
          ],
          [
           "dota 2",
           599493,
           45119,
           0
          ],
          [
           "dota 2",
           626431,
           56961,
           0
          ],
          [
           "dota 2",
           631156,
           57714,
           0
          ],
          [
           "dota 2",
           721543,
           53224,
           0
          ],
          [
           "dota 2",
           614150,
           57984,
           0
          ],
          [
           "dota 2",
           659629,
           53806,
           0
          ],
          [
           "dota 2",
           666178,
           69242,
           0
          ],
          [
           "terraria",
           387419,
           17899,
           6.99
          ],
          [
           "path of exile",
           332498,
           21671,
           0
          ],
          [
           "path of exile",
           279445,
           15971,
           0
          ],
          [
           "path of exile",
           366201,
           21693,
           0
          ],
          [
           "path of exile",
           324264,
           26076,
           0
          ],
          [
           "path of exile",
           292398,
           18743,
           0
          ],
          [
           "path of exile",
           261238,
           18149,
           0
          ],
          [
           "path of exile",
           254794,
           17405,
           0
          ],
          [
           "path of exile",
           360277,
           28612,
           0
          ],
          [
           "path of exile",
           317139,
           26598,
           0
          ],
          [
           "rocket league",
           339652,
           12454,
           14.99
          ],
          [
           "rocket league",
           422375,
           14129,
           14.99
          ],
          [
           "rocket league",
           525512,
           11432,
           14.99
          ],
          [
           "rocket league",
           535445,
           9366,
           14.99
          ],
          [
           "rocket league",
           465670,
           8624,
           14.99
          ],
          [
           "rocket league",
           503218,
           8620,
           14.99
          ],
          [
           "rocket league",
           484991,
           13153,
           14.99
          ],
          [
           "rocket league",
           705274,
           19565,
           14.99
          ],
          [
           "rocket league",
           1210744,
           29653,
           14.99
          ],
          [
           "rocket league",
           1160498,
           26609,
           14.99
          ],
          [
           "rocket league",
           1246148,
           30085,
           14.99
          ],
          [
           "rocket league",
           1395752,
           31160,
           14.99
          ],
          [
           "rocket league",
           1170093,
           29348,
           14.99
          ],
          [
           "rocket league",
           1192179,
           34245,
           14.99
          ],
          [
           "rocket league",
           1326664,
           36583,
           14.99
          ],
          [
           "grand theft auto 5",
           407172,
           5402,
           24.99
          ],
          [
           "grand theft auto 5",
           342897,
           4627,
           24.99
          ],
          [
           "grand theft auto 5",
           333677,
           3587,
           24.99
          ],
          [
           "grand theft auto 5",
           313808,
           3300,
           24.99
          ],
          [
           "grand theft auto 5",
           298872,
           4122,
           24.99
          ],
          [
           "grand theft auto 5",
           429032,
           6063,
           24.99
          ],
          [
           "grand theft auto 5",
           444433,
           5883,
           24.99
          ],
          [
           "grand theft auto 5",
           360902,
           3874,
           24.99
          ],
          [
           "grand theft auto 5",
           221364,
           2071,
           24.99
          ],
          [
           "grand theft auto 5",
           287165,
           3042,
           24.99
          ],
          [
           "grand theft auto 5",
           245729,
           2697,
           24.99
          ],
          [
           "grand theft auto 5",
           362906,
           3956,
           24.99
          ],
          [
           "grand theft auto 5",
           384895,
           5778,
           24.99
          ],
          [
           "grand theft auto 5",
           273933,
           3380,
           24.99
          ],
          [
           "grand theft auto 5",
           268592,
           4142,
           24.99
          ],
          [
           "grand theft auto 5",
           276137,
           21458,
           24.99
          ],
          [
           "grand theft auto 5",
           304565,
           26755,
           24.99
          ],
          [
           "grand theft auto 5",
           381643,
           19372,
           24.99
          ],
          [
           "grand theft auto 5",
           389718,
           20900,
           24.99
          ],
          [
           "grand theft auto 5",
           340624,
           14414,
           24.99
          ],
          [
           "grand theft auto 5",
           276611,
           12373,
           24.99
          ],
          [
           "grand theft auto 5",
           245367,
           10156,
           24.99
          ],
          [
           "grand theft auto 5",
           242948,
           13768,
           24.99
          ],
          [
           "grand theft auto 5",
           368062,
           14500,
           24.99
          ],
          [
           "grand theft auto 5",
           384142,
           17411,
           24.99
          ],
          [
           "grand theft auto 5",
           312072,
           21800,
           24.99
          ],
          [
           "grand theft auto 5",
           318586,
           14045,
           24.99
          ],
          [
           "grand theft auto 5",
           298587,
           13714,
           24.99
          ],
          [
           "grand theft auto 5",
           306957,
           15718,
           24.99
          ],
          [
           "grand theft auto 5",
           309499,
           16945,
           24.99
          ],
          [
           "grand theft auto 5",
           450846,
           21755,
           24.99
          ],
          [
           "grand theft auto 5",
           460256,
           20556,
           24.99
          ],
          [
           "grand theft auto 5",
           330492,
           18300,
           24.99
          ],
          [
           "grand theft auto 5",
           306630,
           16020,
           24.99
          ],
          [
           "grand theft auto 5",
           282564,
           13389,
           24.99
          ],
          [
           "grand theft auto 5",
           332127,
           12616,
           24.99
          ],
          [
           "grand theft auto 5",
           401455,
           16343,
           24.99
          ],
          [
           "grand theft auto 5",
           356112,
           19100,
           24.99
          ],
          [
           "grand theft auto 5",
           535486,
           82794,
           24.99
          ],
          [
           "grand theft auto 5",
           727591,
           115515,
           24.99
          ],
          [
           "grand theft auto 5",
           739013,
           100570,
           24.99
          ],
          [
           "grand theft auto 5",
           700622,
           83216,
           24.99
          ],
          [
           "grand theft auto 5",
           902463,
           84409,
           24.99
          ],
          [
           "grand theft auto 5",
           887662,
           87103,
           24.99
          ],
          [
           "grand theft auto 5",
           643978,
           54922,
           24.99
          ],
          [
           "grand theft auto 5",
           595432,
           49646,
           24.99
          ],
          [
           "grand theft auto 5",
           567027,
           46104,
           24.99
          ],
          [
           "grand theft auto 5",
           751436,
           50966,
           24.99
          ],
          [
           "grand theft auto 5",
           936367,
           57398,
           24.99
          ],
          [
           "grand theft auto 5",
           917355,
           62479,
           24.99
          ],
          [
           "grand theft auto 5",
           1056098,
           75604,
           24.99
          ],
          [
           "grand theft auto 5",
           1228347,
           81989,
           24.99
          ],
          [
           "grand theft auto 5",
           1225664,
           75145,
           24.99
          ],
          [
           "grand theft auto 5",
           1359793,
           71923,
           24.99
          ],
          [
           "tom clancys rainbow six siege",
           457121,
           9665,
           16.99
          ],
          [
           "tom clancys rainbow six siege",
           546065,
           7379,
           16.99
          ],
          [
           "tom clancys rainbow six siege",
           558547,
           16950,
           16.99
          ],
          [
           "tom clancys rainbow six siege",
           700213,
           12678,
           16.99
          ],
          [
           "tom clancys rainbow six siege",
           547067,
           11183,
           16.99
          ],
          [
           "tom clancys rainbow six siege",
           553945,
           12669,
           16.99
          ],
          [
           "tom clancys rainbow six siege",
           609834,
           12324,
           16.99
          ],
          [
           "tom clancys rainbow six siege",
           675463,
           17640,
           16.99
          ],
          [
           "tom clancys rainbow six siege",
           821421,
           19082,
           16.99
          ],
          [
           "tom clancys rainbow six siege",
           779591,
           15022,
           16.99
          ],
          [
           "tom clancys rainbow six siege",
           620043,
           9199,
           16.99
          ],
          [
           "tom clancys rainbow six siege",
           566368,
           12089,
           16.99
          ],
          [
           "tom clancys rainbow six siege",
           745405,
           12504,
           16.99
          ],
          [
           "tom clancys rainbow six siege",
           923985,
           16291,
           16.99
          ],
          [
           "tom clancys rainbow six siege",
           629487,
           16819,
           16.99
          ],
          [
           "tom clancys rainbow six siege",
           792698,
           12180,
           16.99
          ],
          [
           "tom clancys rainbow six siege",
           729483,
           11504,
           16.99
          ],
          [
           "tom clancys rainbow six siege",
           747799,
           12816,
           16.99
          ],
          [
           "tom clancys rainbow six siege",
           909556,
           16828,
           16.99
          ],
          [
           "tom clancys rainbow six siege",
           902912,
           14448,
           16.99
          ],
          [
           "tom clancys rainbow six siege",
           872935,
           19154,
           16.99
          ],
          [
           "tom clancys rainbow six siege",
           854160,
           15161,
           16.99
          ],
          [
           "tom clancys rainbow six siege",
           710604,
           11134,
           16.99
          ],
          [
           "tom clancys rainbow six siege",
           628954,
           12284,
           16.99
          ],
          [
           "tom clancys rainbow six siege",
           779514,
           15697,
           16.99
          ],
          [
           "tom clancys rainbow six siege",
           983629,
           15833,
           16.99
          ],
          [
           "tom clancys rainbow six siege",
           886577,
           25441,
           16.99
          ],
          [
           "tom clancys rainbow six siege",
           1143568,
           17592,
           16.99
          ],
          [
           "tom clancys rainbow six siege",
           1293668,
           15846,
           16.99
          ],
          [
           "tom clancys rainbow six siege",
           1338101,
           15455,
           16.99
          ],
          [
           "tom clancys rainbow six siege",
           1279671,
           16709,
           16.99
          ],
          [
           "tom clancys rainbow six siege",
           1365588,
           17465,
           16.99
          ],
          [
           "tom clancys rainbow six siege",
           1236678,
           16802,
           16.99
          ],
          [
           "tom clancys rainbow six siege",
           1222013,
           15414,
           16.99
          ],
          [
           "tom clancys rainbow six siege",
           1046300,
           14690,
           16.99
          ],
          [
           "tom clancys rainbow six siege",
           850246,
           15896,
           16.99
          ],
          [
           "tom clancys rainbow six siege",
           1049311,
           14859,
           16.99
          ],
          [
           "tom clancys rainbow six siege",
           1270903,
           23545,
           16.99
          ],
          [
           "tom clancys rainbow six siege",
           1115909,
           37724,
           16.99
          ],
          [
           "tom clancys rainbow six siege",
           1212667,
           26302,
           16.99
          ],
          [
           "tom clancys rainbow six siege",
           1095416,
           33609,
           16.99
          ],
          [
           "tom clancys the division",
           1008790,
           26514,
           41.99
          ],
          [
           "dark souls 4",
           749702,
           25006,
           39.99
          ],
          [
           "monster hunter world",
           672519,
           15383,
           49.99
          ]
         ],
         "hovertemplate": "<b>%{hovertext}</b><br><br>Class=%{marker.color}<br>PC 1=%{x}<br>PC 2=%{y}<br>PC 3=%{z}<br>GameName=%{customdata[0]}<br>S_Hours=%{customdata[1]}<br>tw_Avg_viewers=%{customdata[2]}<br>st_price=%{customdata[3]}<extra></extra>",
         "hovertext": [
          "dota 2",
          "dota 2",
          "dota 2",
          "dota 2",
          "dota 2",
          "dota 2",
          "dota 2",
          "dota 2",
          "dota 2",
          "dota 2",
          "dota 2",
          "dota 2",
          "dota 2",
          "dota 2",
          "dota 2",
          "dota 2",
          "dota 2",
          "dota 2",
          "dota 2",
          "dota 2",
          "dota 2",
          "dota 2",
          "dota 2",
          "dota 2",
          "dota 2",
          "dota 2",
          "dota 2",
          "dota 2",
          "dota 2",
          "dota 2",
          "dota 2",
          "dota 2",
          "dota 2",
          "dota 2",
          "dota 2",
          "dota 2",
          "dota 2",
          "dota 2",
          "dota 2",
          "dota 2",
          "dota 2",
          "dota 2",
          "dota 2",
          "dota 2",
          "dota 2",
          "dota 2",
          "dota 2",
          "dota 2",
          "dota 2",
          "dota 2",
          "dota 2",
          "dota 2",
          "dota 2",
          "dota 2",
          "dota 2",
          "dota 2",
          "dota 2",
          "dota 2",
          "dota 2",
          "dota 2",
          "dota 2",
          "dota 2",
          "dota 2",
          "dota 2",
          "terraria",
          "path of exile",
          "path of exile",
          "path of exile",
          "path of exile",
          "path of exile",
          "path of exile",
          "path of exile",
          "path of exile",
          "path of exile",
          "rocket league",
          "rocket league",
          "rocket league",
          "rocket league",
          "rocket league",
          "rocket league",
          "rocket league",
          "rocket league",
          "rocket league",
          "rocket league",
          "rocket league",
          "rocket league",
          "rocket league",
          "rocket league",
          "rocket league",
          "grand theft auto 5",
          "grand theft auto 5",
          "grand theft auto 5",
          "grand theft auto 5",
          "grand theft auto 5",
          "grand theft auto 5",
          "grand theft auto 5",
          "grand theft auto 5",
          "grand theft auto 5",
          "grand theft auto 5",
          "grand theft auto 5",
          "grand theft auto 5",
          "grand theft auto 5",
          "grand theft auto 5",
          "grand theft auto 5",
          "grand theft auto 5",
          "grand theft auto 5",
          "grand theft auto 5",
          "grand theft auto 5",
          "grand theft auto 5",
          "grand theft auto 5",
          "grand theft auto 5",
          "grand theft auto 5",
          "grand theft auto 5",
          "grand theft auto 5",
          "grand theft auto 5",
          "grand theft auto 5",
          "grand theft auto 5",
          "grand theft auto 5",
          "grand theft auto 5",
          "grand theft auto 5",
          "grand theft auto 5",
          "grand theft auto 5",
          "grand theft auto 5",
          "grand theft auto 5",
          "grand theft auto 5",
          "grand theft auto 5",
          "grand theft auto 5",
          "grand theft auto 5",
          "grand theft auto 5",
          "grand theft auto 5",
          "grand theft auto 5",
          "grand theft auto 5",
          "grand theft auto 5",
          "grand theft auto 5",
          "grand theft auto 5",
          "grand theft auto 5",
          "grand theft auto 5",
          "grand theft auto 5",
          "grand theft auto 5",
          "grand theft auto 5",
          "grand theft auto 5",
          "grand theft auto 5",
          "grand theft auto 5",
          "tom clancys rainbow six siege",
          "tom clancys rainbow six siege",
          "tom clancys rainbow six siege",
          "tom clancys rainbow six siege",
          "tom clancys rainbow six siege",
          "tom clancys rainbow six siege",
          "tom clancys rainbow six siege",
          "tom clancys rainbow six siege",
          "tom clancys rainbow six siege",
          "tom clancys rainbow six siege",
          "tom clancys rainbow six siege",
          "tom clancys rainbow six siege",
          "tom clancys rainbow six siege",
          "tom clancys rainbow six siege",
          "tom clancys rainbow six siege",
          "tom clancys rainbow six siege",
          "tom clancys rainbow six siege",
          "tom clancys rainbow six siege",
          "tom clancys rainbow six siege",
          "tom clancys rainbow six siege",
          "tom clancys rainbow six siege",
          "tom clancys rainbow six siege",
          "tom clancys rainbow six siege",
          "tom clancys rainbow six siege",
          "tom clancys rainbow six siege",
          "tom clancys rainbow six siege",
          "tom clancys rainbow six siege",
          "tom clancys rainbow six siege",
          "tom clancys rainbow six siege",
          "tom clancys rainbow six siege",
          "tom clancys rainbow six siege",
          "tom clancys rainbow six siege",
          "tom clancys rainbow six siege",
          "tom clancys rainbow six siege",
          "tom clancys rainbow six siege",
          "tom clancys rainbow six siege",
          "tom clancys rainbow six siege",
          "tom clancys rainbow six siege",
          "tom clancys rainbow six siege",
          "tom clancys rainbow six siege",
          "tom clancys rainbow six siege",
          "tom clancys the division",
          "dark souls 4",
          "monster hunter world"
         ],
         "legendgroup": "2",
         "marker": {
          "color": [
           2,
           2,
           2,
           2,
           2,
           2,
           2,
           2,
           2,
           2,
           2,
           2,
           2,
           2,
           2,
           2,
           2,
           2,
           2,
           2,
           2,
           2,
           2,
           2,
           2,
           2,
           2,
           2,
           2,
           2,
           2,
           2,
           2,
           2,
           2,
           2,
           2,
           2,
           2,
           2,
           2,
           2,
           2,
           2,
           2,
           2,
           2,
           2,
           2,
           2,
           2,
           2,
           2,
           2,
           2,
           2,
           2,
           2,
           2,
           2,
           2,
           2,
           2,
           2,
           2,
           2,
           2,
           2,
           2,
           2,
           2,
           2,
           2,
           2,
           2,
           2,
           2,
           2,
           2,
           2,
           2,
           2,
           2,
           2,
           2,
           2,
           2,
           2,
           2,
           2,
           2,
           2,
           2,
           2,
           2,
           2,
           2,
           2,
           2,
           2,
           2,
           2,
           2,
           2,
           2,
           2,
           2,
           2,
           2,
           2,
           2,
           2,
           2,
           2,
           2,
           2,
           2,
           2,
           2,
           2,
           2,
           2,
           2,
           2,
           2,
           2,
           2,
           2,
           2,
           2,
           2,
           2,
           2,
           2,
           2,
           2,
           2,
           2,
           2,
           2,
           2,
           2,
           2,
           2,
           2,
           2,
           2,
           2,
           2,
           2,
           2,
           2,
           2,
           2,
           2,
           2,
           2,
           2,
           2,
           2,
           2,
           2,
           2,
           2,
           2,
           2,
           2,
           2,
           2,
           2,
           2,
           2,
           2,
           2,
           2,
           2,
           2,
           2,
           2,
           2,
           2,
           2,
           2,
           2,
           2,
           2,
           2
          ],
          "coloraxis": "coloraxis",
          "symbol": "diamond"
         },
         "mode": "markers",
         "name": "2",
         "scene": "scene",
         "showlegend": true,
         "type": "scatter3d",
         "x": [
          6.451347999988249,
          5.9801993019332125,
          6.112346700186427,
          5.982344549524479,
          6.042807959746792,
          6.774219813705755,
          5.038813087094835,
          7.009170518018061,
          4.49896101880352,
          5.187588554848495,
          5.0657314611801185,
          6.041688149524817,
          5.687575822111026,
          5.429006379167305,
          5.888816639319682,
          7.040155969093319,
          5.28688712606867,
          5.95464217727875,
          4.596432426534168,
          7.872575882532943,
          4.968143023455259,
          5.279973553341138,
          5.633046542359735,
          5.474908302818236,
          5.361661500037425,
          5.796540080618019,
          6.554756130413915,
          6.273830846041006,
          6.327369572680828,
          6.675519035970445,
          5.318154163090428,
          8.646862778648254,
          5.469545250359968,
          5.862601120248093,
          6.696344093401592,
          5.926742479371139,
          7.330065455552916,
          7.241595958804951,
          7.335510830531679,
          5.550194820573273,
          6.98367294314635,
          6.774051184364969,
          6.266326015553091,
          9.634194577075363,
          5.282601280338005,
          5.514525903470183,
          5.899697631054779,
          5.629589876345329,
          6.583702605475381,
          5.964217524078153,
          6.383307507316207,
          7.848815902444793,
          7.311195422090247,
          6.5017152693109015,
          6.1111615253570495,
          6.088805962428965,
          6.432691659381714,
          6.065153885295014,
          6.6774970153009745,
          6.745144917087948,
          6.761883112618783,
          6.772718287792666,
          6.757713221622539,
          7.650588378459161,
          3.4846675772359847,
          2.375475757168197,
          2.0329511691411217,
          2.487954064261852,
          2.6444256085368587,
          2.332905111469907,
          2.4871551929581766,
          2.3730175805494924,
          3.6090748355464886,
          3.4785389970277416,
          1.8758638172576423,
          2.550669375766639,
          2.521399794326148,
          2.269988587310278,
          1.9282281257976144,
          1.9504357558455545,
          2.477834285733565,
          4.505343507790685,
          7.000809881094609,
          6.455726617056792,
          6.8992901711613,
          7.733720158584695,
          7.083996192560282,
          6.955478352414599,
          7.575565881976894,
          3.6920385597070235,
          3.4074232119932657,
          3.279237265797311,
          3.1376527337009934,
          3.168576744525907,
          3.953788503899232,
          4.113758758025434,
          3.3725887147559463,
          2.6676233347011946,
          2.992655187431197,
          2.7562304065417393,
          2.876171333118478,
          3.704642046583959,
          3.0684613371078098,
          2.836312921187471,
          3.812494587266055,
          4.114227404137463,
          4.224332612881577,
          4.099314044188131,
          3.665078252514655,
          3.276958180477957,
          2.991235866198612,
          3.1156373367255052,
          3.903161019282262,
          3.9337235334359666,
          3.81430528626104,
          3.5209299659061717,
          3.3831928461252,
          3.5712424484193535,
          3.608124036046452,
          4.496414058055263,
          4.3509091250714835,
          3.686147623742999,
          3.479338193830507,
          3.3492117673444466,
          3.5929003362989698,
          4.038736380524081,
          3.9762858434432573,
          7.309154561051636,
          8.817005999517878,
          8.18912413203733,
          7.468226968872465,
          8.675856294431691,
          8.425301042838115,
          6.3553519781960155,
          5.923298059616557,
          5.909340453584317,
          6.757666567861373,
          7.717646947515258,
          7.750547737056325,
          8.90393935702501,
          9.656878713923101,
          9.302759858170283,
          9.85006983096914,
          2.322413951182014,
          2.4501333314001945,
          3.466175205351511,
          3.6069855935205046,
          2.6022208428157354,
          3.0247554346630317,
          3.128377783913678,
          3.31745957542426,
          4.498108026053349,
          3.718768874129969,
          2.8605267727980213,
          3.041094774292044,
          3.457212037616756,
          4.459732022359585,
          3.955471097994402,
          3.7704764787645004,
          3.4449404320214727,
          3.723085470787746,
          4.738936714599594,
          4.1499903047216335,
          4.544554285387908,
          4.208715113611945,
          3.180226431527193,
          3.031384983108668,
          3.732071945397836,
          4.559036364230654,
          5.022535164855797,
          5.306739714688443,
          5.412835178429979,
          5.592967418065994,
          5.6326081695925385,
          5.569201072291094,
          5.4531781714009835,
          5.397138582270354,
          4.485521842643371,
          3.9134013470180773,
          4.550317007914548,
          5.994249863590532,
          6.211231635578039,
          6.1437847900477704,
          5.919923081942646,
          5.599489910821868,
          3.565293794571088,
          4.169017829454124
         ],
         "y": [
          2.253721051863146,
          2.2620084864630137,
          2.329776977108884,
          2.3771304558926736,
          2.389566106893196,
          2.5155492191776063,
          2.3244803857181524,
          2.5336276346251823,
          2.2564664842621247,
          2.318303147325214,
          2.308260759493208,
          2.476170190350768,
          2.2288722504344016,
          2.2129152512944046,
          2.2665581306984977,
          2.4886582754084006,
          2.251421465798716,
          2.3147076121371124,
          2.182012762632364,
          2.57582813468492,
          2.2560391518564122,
          2.280510894720824,
          2.2543015809772995,
          2.2508752407957697,
          2.0996329646433436,
          2.1466460038996638,
          2.144495989349272,
          2.1352990960422495,
          2.15173721416701,
          2.1733126267540746,
          2.0472069091760896,
          2.3763285768641516,
          2.041356217617703,
          2.060716538880298,
          2.13205124980707,
          2.0581302343931123,
          2.0298907687154735,
          1.9635220393561719,
          1.9917043351853296,
          1.9525389762696845,
          2.077003965710594,
          2.1243651214410018,
          2.054131626372505,
          2.393418865905048,
          1.9485503898177177,
          1.9915029344465964,
          2.034800316187923,
          2.0443729155381893,
          2.0530544398179735,
          1.9729481231140233,
          1.8692754132922298,
          1.880071128438406,
          1.7916627744931268,
          1.887751409700097,
          1.885526460445247,
          1.9000921197022598,
          1.9212340697614911,
          1.8279976937051428,
          1.8512118900988381,
          1.872210272977682,
          1.6803649460886148,
          1.7639570844929462,
          1.7654580833984996,
          1.8286931342580464,
          0.831998836782079,
          1.2530465597686749,
          1.2163387043095328,
          1.1670140782596485,
          1.2099316895257817,
          1.1380751551944628,
          1.11484601412798,
          1.1408610415255234,
          1.051594204369185,
          1.0852142406928025,
          -0.03152057997504763,
          -0.14002070490839494,
          -0.2109100356146755,
          -0.21518677592066626,
          -0.15959027937662376,
          -0.19868437758576296,
          -0.14078081683393895,
          -0.6294071367202939,
          -1.046676846630331,
          -1.0413860722225465,
          -1.1234198683811913,
          -1.3624365854078218,
          -1.1490336262624294,
          -1.0887980638756953,
          -1.2099069331861079,
          1.2823682441454707,
          1.3519214961905504,
          1.3765679769454073,
          1.38955756695911,
          1.4104959565681736,
          1.2438396652365802,
          1.1973893068298413,
          1.3449082395999092,
          1.4926218753392224,
          1.4289998827577337,
          1.4874776775823118,
          1.4703097633287345,
          1.2462635505924191,
          1.377975295224839,
          1.4259369153276378,
          1.4714508337117511,
          1.4282775912390082,
          1.2758686802323704,
          1.3192597253543736,
          1.3540451462707377,
          1.4159110195562845,
          1.4561866690867329,
          1.4695133099805182,
          1.3280395466232457,
          1.2646443869279493,
          1.3515461185245723,
          1.326019421078168,
          1.3513876308172925,
          1.3562839269334854,
          1.3482120600012948,
          1.1751765437571668,
          1.1915642676760427,
          1.3306906172466495,
          1.3624821823083417,
          1.3762032996009286,
          1.3044161867657404,
          1.1900666509867361,
          1.2290550197056254,
          1.2670711471421754,
          1.1421984350765058,
          1.0961722910105276,
          1.0829244223865966,
          0.847786594200467,
          0.9234830055320212,
          1.0728665979314582,
          1.1112784504170865,
          1.1512274348167162,
          0.9216625908650145,
          0.7082495496341171,
          0.7048739675878305,
          0.6194753216393917,
          0.6123039684629753,
          0.531081482317586,
          0.3490147535835647,
          -1.1773929175789477,
          -1.305675387381575,
          -1.2684170918771394,
          -1.537865848539851,
          -1.314785089050286,
          -1.26523679781033,
          -1.4174479402117603,
          -1.4100850462000933,
          -1.5413510094500649,
          -1.5535079379254093,
          -1.393368298841605,
          -1.2920627805753502,
          -1.5049676485323071,
          -1.715091061267597,
          -1.4716276190748432,
          -1.6147131981271285,
          -1.568967166162606,
          -1.535905372697352,
          -1.7131329211839421,
          -1.6973603969373443,
          -1.6193502146109344,
          -1.6866602172056318,
          -1.5050514511331963,
          -1.4239105141328292,
          -1.5768463530514298,
          -1.848416917260927,
          -1.6953726544919208,
          -2.001562640483716,
          -2.0762257375075253,
          -2.058485942991853,
          -2.113816077658842,
          -2.09475954663583,
          -2.002009958682645,
          -2.0680991304668623,
          -1.837395262474924,
          -1.655754336587752,
          -1.8428189950182776,
          -2.1262978915191706,
          -1.9788398605115975,
          -2.0933218648804295,
          -1.9831996801783036,
          -3.0137841551100193,
          -1.241139159108463,
          -3.6460613288349957
         ],
         "z": [
          1.03248630387571,
          0.8244407058104205,
          0.8008273735077878,
          0.709314560493157,
          0.7218319396041966,
          0.9480899411403811,
          0.25731373216244513,
          0.9150317030938133,
          -0.006474284882715412,
          0.22534415955724257,
          0.16556704801229138,
          0.4460124524768197,
          0.8298152018111065,
          0.6875813028213346,
          0.8209601885301007,
          1.1316134186371938,
          0.5319281962116035,
          0.7517054754981911,
          0.20028673685921625,
          1.2985448823866923,
          0.2612209153117641,
          0.33590043129717617,
          0.5073836449179899,
          0.3571641349218549,
          0.8015666914044738,
          0.9218025421009627,
          1.198103218922282,
          1.0864051184020227,
          1.0420358853514298,
          1.1942350805788944,
          0.6218878746395913,
          1.8313371948663795,
          0.6320279612610739,
          0.7611181508291225,
          1.0464104628071356,
          0.703102607760413,
          1.6942090057769381,
          1.7299619878851902,
          1.6867848910642065,
          0.9369057778212402,
          1.436335935314578,
          1.2865282703887553,
          1.1060308023239713,
          2.2276686119289106,
          0.6691097649846256,
          0.7203930220853014,
          0.8397061118741648,
          0.7029797074869559,
          1.498088265913308,
          1.2477916007777754,
          1.4588451928323385,
          2.000748061858283,
          1.8064690373393977,
          1.390299272173648,
          1.1801639246985243,
          1.154003632289021,
          1.23210871587952,
          1.0909165274319006,
          1.309020121796687,
          1.2982887256235467,
          1.79463313116441,
          1.7400232337384125,
          1.691138661843998,
          2.003553312415651,
          2.3244163543356255,
          1.6651561357901967,
          1.8927643818952915,
          2.0029984403961416,
          1.8906623099413966,
          2.1398990271686418,
          2.127621852055468,
          1.97483905786342,
          2.8220680539228478,
          2.6572387088132876,
          1.8359872564451776,
          2.110662312431422,
          2.07170414977952,
          1.9439537577887542,
          1.7694958913055545,
          1.7664412765635247,
          1.9114484056862657,
          2.909590157103879,
          3.9368974205848706,
          3.707162084090549,
          3.8916300454580735,
          4.714733813069719,
          4.340921046046656,
          4.270838819460861,
          4.522284543927421,
          0.610390139087727,
          0.44462491050761277,
          0.3480997021679391,
          0.2638259889088785,
          0.2373958624955347,
          0.5773377744124955,
          0.6271162520714796,
          0.24650558713824197,
          -0.1068966356347818,
          0.011023730215283094,
          -0.13304149920455605,
          -0.11002091621842047,
          0.7159065190552386,
          0.3856769292268773,
          0.2572376137326536,
          0.6380853688123332,
          0.763933595329842,
          0.8144174006163495,
          0.7182180388625972,
          0.4910120409086931,
          0.28812151240949324,
          0.1278849377509191,
          0.15191499810399448,
          0.46744267822555696,
          0.9363250447197199,
          0.8408933909575705,
          0.6888030673031694,
          0.5944651423045041,
          0.6387443361766444,
          0.6296529307632844,
          1.0255854511658142,
          0.9199334096599663,
          0.5811493520153919,
          0.453577737289988,
          0.3563441403228523,
          0.44426155919257343,
          1.086707986430414,
          1.0295439778110174,
          2.461591313871566,
          3.167643042891696,
          2.877088846254655,
          2.5048948419035497,
          3.026164962361181,
          2.870867073147875,
          1.8940904079633218,
          1.6796966116495238,
          1.593945328350275,
          2.003896935612127,
          2.876823393717497,
          2.880140317713342,
          3.37339278589746,
          3.444189854058776,
          3.3273893561497623,
          3.5521500366634107,
          1.1750432055033562,
          1.3786864622589199,
          1.7177200354550666,
          1.8804194253805906,
          1.3683275154623122,
          1.4564834818640042,
          1.5545636383020476,
          1.5971763319885834,
          2.0363932984805273,
          1.7294054483485701,
          1.3040287676342428,
          1.291480576773255,
          1.513217494071832,
          2.387123323460243,
          2.0839771817860675,
          2.0312993409051803,
          1.861254619822902,
          1.9106432147129753,
          2.336798290085939,
          2.080792634896292,
          2.168839500083756,
          2.0516845040137013,
          1.5558597719239735,
          1.4387337899776809,
          1.7451365849938643,
          2.5740589218596392,
          2.668630902814988,
          2.852864311000582,
          2.863519941927491,
          2.8749414932117787,
          2.922181071683542,
          2.835594700529118,
          2.731294349699448,
          2.721456644268203,
          2.250708531218174,
          1.9475350878052098,
          2.2174318280428214,
          3.3171193487846975,
          3.3567209254772377,
          3.3192887933631297,
          3.1999130575329695,
          3.219824426807432,
          2.928420088484809,
          1.9719891985207822
         ]
        },
        {
         "customdata": [
          [
           "counterstrike global offensive",
           830105,
           64378,
           0
          ],
          [
           "counterstrike global offensive",
           754901,
           64652,
           0
          ],
          [
           "counterstrike global offensive",
           742531,
           96854,
           0
          ],
          [
           "counterstrike global offensive",
           721644,
           99754,
           0
          ],
          [
           "counterstrike global offensive",
           663528,
           60407,
           0
          ],
          [
           "counterstrike global offensive",
           576786,
           50260,
           0
          ],
          [
           "counterstrike global offensive",
           596141,
           71269,
           0
          ],
          [
           "counterstrike global offensive",
           642691,
           35333,
           0
          ],
          [
           "counterstrike global offensive",
           548932,
           42783,
           0
          ],
          [
           "counterstrike global offensive",
           577243,
           47707,
           0
          ],
          [
           "counterstrike global offensive",
           574651,
           45798,
           0
          ],
          [
           "counterstrike global offensive",
           594414,
           41152,
           0
          ],
          [
           "counterstrike global offensive",
           694606,
           97411,
           0
          ],
          [
           "counterstrike global offensive",
           677884,
           60328,
           0
          ],
          [
           "counterstrike global offensive",
           703107,
           49624,
           0
          ],
          [
           "counterstrike global offensive",
           630577,
           50861,
           0
          ],
          [
           "counterstrike global offensive",
           614559,
           31446,
           0
          ],
          [
           "counterstrike global offensive",
           566198,
           30360,
           0
          ],
          [
           "counterstrike global offensive",
           625409,
           91707,
           0
          ],
          [
           "counterstrike global offensive",
           642880,
           27138,
           0
          ],
          [
           "counterstrike global offensive",
           557376,
           37956,
           0
          ],
          [
           "counterstrike global offensive",
           593047,
           38207,
           0
          ],
          [
           "counterstrike global offensive",
           574183,
           35748,
           0
          ],
          [
           "counterstrike global offensive",
           642004,
           25068,
           0
          ],
          [
           "counterstrike global offensive",
           784226,
           93678,
           0
          ],
          [
           "counterstrike global offensive",
           778934,
           55866,
           0
          ],
          [
           "counterstrike global offensive",
           790038,
           37790,
           0
          ],
          [
           "counterstrike global offensive",
           661902,
           31885,
           0
          ],
          [
           "counterstrike global offensive",
           612457,
           35571,
           0
          ],
          [
           "counterstrike global offensive",
           600193,
           30455,
           0
          ],
          [
           "counterstrike global offensive",
           691064,
           36019,
           0
          ],
          [
           "counterstrike global offensive",
           760366,
           29203,
           0
          ],
          [
           "counterstrike global offensive",
           703957,
           98142,
           0
          ],
          [
           "counterstrike global offensive",
           719986,
           32576,
           0
          ],
          [
           "counterstrike global offensive",
           709424,
           36935,
           0
          ],
          [
           "counterstrike global offensive",
           874586,
           34411,
           0
          ],
          [
           "counterstrike global offensive",
           1051447,
           41424,
           0
          ],
          [
           "counterstrike global offensive",
           744851,
           70426,
           0
          ],
          [
           "counterstrike global offensive",
           913794,
           47660,
           0
          ],
          [
           "counterstrike global offensive",
           845555,
           42911,
           0
          ],
          [
           "counterstrike global offensive",
           860011,
           39921,
           0
          ],
          [
           "counterstrike global offensive",
           842383,
           42086,
           0
          ],
          [
           "counterstrike global offensive",
           914238,
           54777,
           0
          ],
          [
           "counterstrike global offensive",
           974890,
           62063,
           0
          ],
          [
           "counterstrike global offensive",
           914564,
           63988,
           0
          ],
          [
           "counterstrike global offensive",
           932539,
           60249,
           0
          ],
          [
           "counterstrike global offensive",
           890153,
           49522,
           0
          ],
          [
           "counterstrike global offensive",
           977970,
           54455,
           0
          ],
          [
           "counterstrike global offensive",
           1217678,
           45616,
           0
          ],
          [
           "counterstrike global offensive",
           1135106,
           71649,
           0
          ],
          [
           "counterstrike global offensive",
           1511619,
           89902,
           0
          ],
          [
           "counterstrike global offensive",
           1981314,
           120546,
           0
          ],
          [
           "counterstrike global offensive",
           1783788,
           103346,
           0
          ],
          [
           "counterstrike global offensive",
           1403689,
           105704,
           0
          ],
          [
           "counterstrike global offensive",
           1187042,
           56396,
           0
          ],
          [
           "counterstrike global offensive",
           1071229,
           64930,
           0
          ],
          [
           "counterstrike global offensive",
           1029871,
           74580,
           0
          ],
          [
           "counterstrike global offensive",
           1138329,
           78816,
           0
          ],
          [
           "counterstrike global offensive",
           1297659,
           84442,
           0
          ],
          [
           "counterstrike global offensive",
           1426365,
           81772,
           0
          ],
          [
           "counterstrike global offensive",
           1669538,
           81964,
           0
          ],
          [
           "counterstrike global offensive",
           1507029,
           100713,
           0
          ],
          [
           "counterstrike global offensive",
           1626300,
           97409,
           0
          ],
          [
           "counterstrike global offensive",
           1464933,
           97458,
           0
          ],
          [
           "grand theft auto 5",
           1450376,
           105346,
           24.99
          ],
          [
           "grand theft auto 5",
           2101914,
           134656,
           24.99
          ],
          [
           "grand theft auto 5",
           1681199,
           139823,
           24.99
          ],
          [
           "grand theft auto 5",
           1614402,
           126689,
           24.99
          ],
          [
           "grand theft auto 5",
           1515588,
           112140,
           24.99
          ],
          [
           "grand theft auto 5",
           1807602,
           83054,
           24.99
          ],
          [
           "grand theft auto 5",
           2032778,
           99677,
           24.99
          ],
          [
           "grand theft auto 5",
           2006058,
           205223,
           24.99
          ],
          [
           "grand theft auto 5",
           2255433,
           248422,
           24.99
          ],
          [
           "grand theft auto 5",
           2508876,
           333016,
           24.99
          ],
          [
           "playerunknowns battlegrounds",
           289011,
           33483,
           26.99
          ],
          [
           "playerunknowns battlegrounds",
           840827,
           64310,
           26.99
          ],
          [
           "playerunknowns battlegrounds",
           1082310,
           63540,
           26.99
          ],
          [
           "playerunknowns battlegrounds",
           1212289,
           63492,
           26.99
          ],
          [
           "playerunknowns battlegrounds",
           1703176,
           82055,
           26.99
          ],
          [
           "playerunknowns battlegrounds",
           1970087,
           99339,
           26.99
          ],
          [
           "playerunknowns battlegrounds",
           1967541,
           101630,
           26.99
          ],
          [
           "playerunknowns battlegrounds",
           1780287,
           82007,
           26.99
          ],
          [
           "playerunknowns battlegrounds",
           1516141,
           69021,
           26.99
          ],
          [
           "playerunknowns battlegrounds",
           1992300,
           74514,
           26.99
          ],
          [
           "playerunknowns battlegrounds",
           2405462,
           72400,
           26.99
          ],
          [
           "playerunknowns battlegrounds",
           1919967,
           64654,
           26.99
          ],
          [
           "playerunknowns battlegrounds",
           2008073,
           63399,
           26.99
          ],
          [
           "playerunknowns battlegrounds",
           1803794,
           69010,
           26.99
          ],
          [
           "playerunknowns battlegrounds",
           1497470,
           59450,
           26.99
          ],
          [
           "playerunknowns battlegrounds",
           1369697,
           52139,
           26.99
          ],
          [
           "playerunknowns battlegrounds",
           1449520,
           59495,
           26.99
          ],
          [
           "playerunknowns battlegrounds",
           1356731,
           47752,
           26.99
          ],
          [
           "playerunknowns battlegrounds",
           1087252,
           37497,
           26.99
          ],
          [
           "playerunknowns battlegrounds",
           920520,
           31361,
           26.99
          ],
          [
           "playerunknowns battlegrounds",
           754094,
           28466,
           26.99
          ],
          [
           "playerunknowns battlegrounds",
           1061107,
           37926,
           26.99
          ],
          [
           "playerunknowns battlegrounds",
           1234877,
           40177,
           26.99
          ],
          [
           "playerunknowns battlegrounds",
           789359,
           26772,
           26.99
          ],
          [
           "playerunknowns battlegrounds",
           815594,
           27526,
           26.99
          ],
          [
           "playerunknowns battlegrounds",
           846962,
           28772,
           26.99
          ],
          [
           "playerunknowns battlegrounds",
           979620,
           32013,
           26.99
          ],
          [
           "playerunknowns battlegrounds",
           900575,
           29051,
           26.99
          ],
          [
           "playerunknowns battlegrounds",
           966182,
           29507,
           26.99
          ],
          [
           "playerunknowns battlegrounds",
           1049803,
           33667,
           26.99
          ],
          [
           "playerunknowns battlegrounds",
           833556,
           25583,
           26.99
          ],
          [
           "playerunknowns battlegrounds",
           823528,
           22343,
           26.99
          ],
          [
           "playerunknowns battlegrounds",
           743072,
           22734,
           26.99
          ],
          [
           "playerunknowns battlegrounds",
           774882,
           22078,
           26.99
          ],
          [
           "playerunknowns battlegrounds",
           856439,
           25536,
           26.99
          ],
          [
           "playerunknowns battlegrounds",
           732289,
           20101,
           26.99
          ],
          [
           "playerunknowns battlegrounds",
           623229,
           18540,
           26.99
          ],
          [
           "playerunknowns battlegrounds",
           619812,
           16621,
           26.99
          ],
          [
           "playerunknowns battlegrounds",
           594699,
           19135,
           26.99
          ],
          [
           "playerunknowns battlegrounds",
           508739,
           17345,
           26.99
          ],
          [
           "playerunknowns battlegrounds",
           589688,
           15775,
           26.99
          ],
          [
           "playerunknowns battlegrounds",
           600713,
           15409,
           26.99
          ],
          [
           "playerunknowns battlegrounds",
           640763,
           15949,
           26.99
          ],
          [
           "playerunknowns battlegrounds",
           633737,
           15654,
           26.99
          ],
          [
           "playerunknowns battlegrounds",
           637623,
           19054,
           26.99
          ],
          [
           "playerunknowns battlegrounds",
           665913,
           15137,
           26.99
          ],
          [
           "playerunknowns battlegrounds",
           718778,
           16087,
           26.99
          ],
          [
           "playerunknowns battlegrounds",
           631560,
           29870,
           26.99
          ],
          [
           "playerunknowns battlegrounds",
           649177,
           23092,
           26.99
          ],
          [
           "playerunknowns battlegrounds",
           610450,
           18281,
           26.99
          ]
         ],
         "hovertemplate": "<b>%{hovertext}</b><br><br>Class=%{marker.color}<br>PC 1=%{x}<br>PC 2=%{y}<br>PC 3=%{z}<br>GameName=%{customdata[0]}<br>S_Hours=%{customdata[1]}<br>tw_Avg_viewers=%{customdata[2]}<br>st_price=%{customdata[3]}<extra></extra>",
         "hovertext": [
          "counterstrike global offensive",
          "counterstrike global offensive",
          "counterstrike global offensive",
          "counterstrike global offensive",
          "counterstrike global offensive",
          "counterstrike global offensive",
          "counterstrike global offensive",
          "counterstrike global offensive",
          "counterstrike global offensive",
          "counterstrike global offensive",
          "counterstrike global offensive",
          "counterstrike global offensive",
          "counterstrike global offensive",
          "counterstrike global offensive",
          "counterstrike global offensive",
          "counterstrike global offensive",
          "counterstrike global offensive",
          "counterstrike global offensive",
          "counterstrike global offensive",
          "counterstrike global offensive",
          "counterstrike global offensive",
          "counterstrike global offensive",
          "counterstrike global offensive",
          "counterstrike global offensive",
          "counterstrike global offensive",
          "counterstrike global offensive",
          "counterstrike global offensive",
          "counterstrike global offensive",
          "counterstrike global offensive",
          "counterstrike global offensive",
          "counterstrike global offensive",
          "counterstrike global offensive",
          "counterstrike global offensive",
          "counterstrike global offensive",
          "counterstrike global offensive",
          "counterstrike global offensive",
          "counterstrike global offensive",
          "counterstrike global offensive",
          "counterstrike global offensive",
          "counterstrike global offensive",
          "counterstrike global offensive",
          "counterstrike global offensive",
          "counterstrike global offensive",
          "counterstrike global offensive",
          "counterstrike global offensive",
          "counterstrike global offensive",
          "counterstrike global offensive",
          "counterstrike global offensive",
          "counterstrike global offensive",
          "counterstrike global offensive",
          "counterstrike global offensive",
          "counterstrike global offensive",
          "counterstrike global offensive",
          "counterstrike global offensive",
          "counterstrike global offensive",
          "counterstrike global offensive",
          "counterstrike global offensive",
          "counterstrike global offensive",
          "counterstrike global offensive",
          "counterstrike global offensive",
          "counterstrike global offensive",
          "counterstrike global offensive",
          "counterstrike global offensive",
          "counterstrike global offensive",
          "grand theft auto 5",
          "grand theft auto 5",
          "grand theft auto 5",
          "grand theft auto 5",
          "grand theft auto 5",
          "grand theft auto 5",
          "grand theft auto 5",
          "grand theft auto 5",
          "grand theft auto 5",
          "grand theft auto 5",
          "playerunknowns battlegrounds",
          "playerunknowns battlegrounds",
          "playerunknowns battlegrounds",
          "playerunknowns battlegrounds",
          "playerunknowns battlegrounds",
          "playerunknowns battlegrounds",
          "playerunknowns battlegrounds",
          "playerunknowns battlegrounds",
          "playerunknowns battlegrounds",
          "playerunknowns battlegrounds",
          "playerunknowns battlegrounds",
          "playerunknowns battlegrounds",
          "playerunknowns battlegrounds",
          "playerunknowns battlegrounds",
          "playerunknowns battlegrounds",
          "playerunknowns battlegrounds",
          "playerunknowns battlegrounds",
          "playerunknowns battlegrounds",
          "playerunknowns battlegrounds",
          "playerunknowns battlegrounds",
          "playerunknowns battlegrounds",
          "playerunknowns battlegrounds",
          "playerunknowns battlegrounds",
          "playerunknowns battlegrounds",
          "playerunknowns battlegrounds",
          "playerunknowns battlegrounds",
          "playerunknowns battlegrounds",
          "playerunknowns battlegrounds",
          "playerunknowns battlegrounds",
          "playerunknowns battlegrounds",
          "playerunknowns battlegrounds",
          "playerunknowns battlegrounds",
          "playerunknowns battlegrounds",
          "playerunknowns battlegrounds",
          "playerunknowns battlegrounds",
          "playerunknowns battlegrounds",
          "playerunknowns battlegrounds",
          "playerunknowns battlegrounds",
          "playerunknowns battlegrounds",
          "playerunknowns battlegrounds",
          "playerunknowns battlegrounds",
          "playerunknowns battlegrounds",
          "playerunknowns battlegrounds",
          "playerunknowns battlegrounds",
          "playerunknowns battlegrounds",
          "playerunknowns battlegrounds",
          "playerunknowns battlegrounds",
          "playerunknowns battlegrounds",
          "playerunknowns battlegrounds",
          "playerunknowns battlegrounds"
         ],
         "legendgroup": "4",
         "marker": {
          "color": [
           4,
           4,
           4,
           4,
           4,
           4,
           4,
           4,
           4,
           4,
           4,
           4,
           4,
           4,
           4,
           4,
           4,
           4,
           4,
           4,
           4,
           4,
           4,
           4,
           4,
           4,
           4,
           4,
           4,
           4,
           4,
           4,
           4,
           4,
           4,
           4,
           4,
           4,
           4,
           4,
           4,
           4,
           4,
           4,
           4,
           4,
           4,
           4,
           4,
           4,
           4,
           4,
           4,
           4,
           4,
           4,
           4,
           4,
           4,
           4,
           4,
           4,
           4,
           4,
           4,
           4,
           4,
           4,
           4,
           4,
           4,
           4,
           4,
           4,
           4,
           4,
           4,
           4,
           4,
           4,
           4,
           4,
           4,
           4,
           4,
           4,
           4,
           4,
           4,
           4,
           4,
           4,
           4,
           4,
           4,
           4,
           4,
           4,
           4,
           4,
           4,
           4,
           4,
           4,
           4,
           4,
           4,
           4,
           4,
           4,
           4,
           4,
           4,
           4,
           4,
           4,
           4,
           4,
           4,
           4,
           4,
           4,
           4,
           4
          ],
          "coloraxis": "coloraxis",
          "symbol": "square"
         },
         "mode": "markers",
         "name": "4",
         "scene": "scene",
         "showlegend": true,
         "type": "scatter3d",
         "x": [
          11.636427716204654,
          10.957406304729764,
          13.309444630737472,
          14.040906051554575,
          10.788409126549439,
          9.75439532581168,
          11.757917969984412,
          9.259850221286182,
          9.64374211536711,
          9.956766621285508,
          9.522906349993935,
          9.067812331089252,
          14.555553623361673,
          11.210164086453322,
          10.925606650627412,
          10.453052280344695,
          9.332633128286767,
          9.327682869404166,
          13.216179486497257,
          9.29203663603146,
          9.519536373132933,
          10.419936578528008,
          9.488277286916306,
          9.30519160229864,
          14.898086201560554,
          11.346123486280213,
          11.118965810051625,
          9.925028087993335,
          9.596374575113028,
          9.480745444717293,
          9.894832586614271,
          9.813473184497964,
          13.507565715316145,
          9.899257785807977,
          10.232833427067407,
          11.168204014796421,
          11.596807334717655,
          12.261368568761213,
          12.799314124646434,
          11.040635395901866,
          10.769190276420462,
          11.036938604956292,
          11.8587858558153,
          12.605703600208038,
          12.867154951933246,
          12.113889507196275,
          11.39694111965523,
          12.002711409535129,
          12.549190645975111,
          13.963744839482061,
          16.781542186497497,
          18.494069338569133,
          16.624099969284416,
          15.62901483524721,
          12.194468469570614,
          12.25477353716186,
          12.46394100510106,
          13.371409372967438,
          14.531467809332264,
          14.563424858204433,
          16.106578168230655,
          16.224618058840676,
          16.009228883207346,
          15.40415073362221,
          11.280095428266831,
          15.181059924187618,
          13.544526402709199,
          12.571622726989736,
          11.753175783470809,
          12.624205778429467,
          13.65981983235806,
          17.415737806058498,
          19.870193049315535,
          24.806421772833563,
          6.425814003791497,
          9.070666228967735,
          10.390244437831186,
          10.570139288234083,
          12.878620138935956,
          15.05226852444878,
          14.652128349123304,
          13.201262041222728,
          11.95821601847975,
          14.448104758062,
          15.516494222288326,
          14.45839563890025,
          14.06590120791523,
          14.393099202669829,
          11.80615302418676,
          11.055546416009562,
          12.509359292796304,
          10.57709962989856,
          9.456988997061064,
          8.462981071904075,
          7.6125748371772195,
          9.177976035643274,
          9.8143239375988,
          8.00708923553337,
          7.7377517489171295,
          8.018789367166779,
          8.497459202290282,
          8.04989159337644,
          8.391924699437249,
          9.19206112299149,
          7.6617497610908325,
          7.535858554684805,
          7.342504945152328,
          7.2996847450185225,
          7.789301223943263,
          7.281093255539978,
          6.716033609522185,
          6.530423011136094,
          6.469636962708994,
          6.129345712023318,
          6.262349031617375,
          6.478554422218105,
          6.559860531549546,
          6.414677723606041,
          6.599714881310458,
          6.541902717134371,
          7.034920908289897,
          7.3370143835739405,
          7.024488816292722,
          6.60873863352673
         ],
         "y": [
          1.3733408624172183,
          1.3849994012769762,
          1.6975295189004442,
          1.8066360401426345,
          1.5230986392122203,
          1.5499339286007205,
          1.7740377553663098,
          1.456648729899636,
          1.5851595454518457,
          1.5933193143832298,
          1.5569210044183794,
          1.6508460675403145,
          1.7998883572672022,
          1.4497347164604462,
          1.4938480242985488,
          1.5244844060625162,
          1.3938265616259615,
          1.4710520822982447,
          1.7849728677403365,
          1.3754729960363248,
          1.5005477973557801,
          1.5780911721981732,
          1.485856950194484,
          1.3730565028633988,
          1.6902708881439161,
          1.2225833004526723,
          1.2612469349820739,
          1.3243910874094063,
          1.368154760182136,
          1.3617094485095764,
          1.2914032722496551,
          1.1932836914241232,
          1.5881939076617808,
          1.2398431286910119,
          1.2817575166169715,
          0.996650675317128,
          0.8169099942037124,
          1.2503529270470033,
          1.2360154984819491,
          1.0918460424416905,
          1.0578142517984743,
          1.1210160079863258,
          1.1073675378785117,
          1.105067544356631,
          1.1916129626793264,
          1.0707651075458002,
          1.0518479431422807,
          0.9807423624029268,
          0.6405844454384062,
          0.8832274051360894,
          0.6002412725568019,
          0.1515053875737464,
          0.31235012839306525,
          0.6916995299547288,
          0.7730450558684108,
          0.9600227871974936,
          0.9847737652769144,
          0.9412413742143392,
          0.8110982032256101,
          0.6242743538623488,
          0.3982216629338506,
          0.5197684882762982,
          0.4332852446566331,
          0.5371485912638929,
          0.3551294217650982,
          -0.1827245674560838,
          0.270704132991276,
          0.3947745296587514,
          0.45374486452674745,
          -0.15800312094211152,
          -0.24314644251716613,
          -0.061190202076873264,
          -0.06715086571064309,
          0.001130527268883562,
          -3.4368913989327665,
          -3.822005094762366,
          -3.972789008892689,
          -4.203643653801968,
          -4.535986471800893,
          -4.659668521480759,
          -4.791613691332375,
          -4.639231034029765,
          -4.429706665971824,
          -4.924023706456888,
          -5.354219566079753,
          -4.899542800100878,
          -4.942933110884206,
          -5.014629109027399,
          -4.5194551715060225,
          -4.4362765718552275,
          -4.3297388946194095,
          -4.4052017859524994,
          -4.180179632958807,
          -4.035926048511572,
          -3.9019547293917385,
          -4.170278876115639,
          -4.355947801658209,
          -4.07391913994476,
          -3.9728802072651193,
          -4.014131766616336,
          -4.115608392641361,
          -4.073724018725201,
          -4.13286531920052,
          -4.1163692343593015,
          -4.023566906366862,
          -4.014587406877326,
          -3.919628691148523,
          -3.9491357818433053,
          -4.103820697741352,
          -4.038768195637509,
          -3.8941384765043883,
          -3.867983020846341,
          -3.8262802032762693,
          -3.751209395792365,
          -3.821809458363757,
          -3.8168315941112883,
          -3.8840579354711995,
          -3.8518361958195437,
          -3.8585693050479772,
          -3.8762010738023593,
          -3.9602158250578032,
          -3.8995012531026307,
          -3.89518970001029,
          -3.908018492702167
         ],
         "z": [
          -2.4340569633810163,
          -2.7008438855058143,
          -1.933359019586434,
          -1.774726629753198,
          -2.932501930690616,
          -3.3801501303706583,
          -2.757242172871881,
          -3.642881612484181,
          -3.5688740549366766,
          -3.468279182411688,
          -3.636506128164973,
          -3.897416186416477,
          -1.429549310912336,
          -2.600180324406251,
          -2.79761596202066,
          -2.997327317741056,
          -3.4306522749312496,
          -3.518224584981263,
          -2.0808919190849178,
          -3.5557392175957934,
          -3.513941107927648,
          -3.289981339962343,
          -3.5905265468365037,
          -3.679897171546854,
          -1.2137500543379371,
          -2.3767655691702627,
          -2.595701653136973,
          -3.091000595693559,
          -3.2284093025801552,
          -3.32686706609388,
          -3.150443470499601,
          -3.196046083894722,
          -1.8232612719147923,
          -3.2253663690015304,
          -3.1465284922698835,
          -2.701834020253293,
          -2.032893498405126,
          -1.9180284965578083,
          -1.902451641585263,
          -2.454376212980968,
          -2.5685338624459217,
          -2.5441812017170338,
          -2.218066241291203,
          -1.9638809533888844,
          -1.9433447031623177,
          -2.1607510052031604,
          -2.4837023956433426,
          -2.242237124216276,
          -1.522506441554693,
          -1.0844395440019485,
          0.09605257800564504,
          1.0226428955665663,
          0.2025400664231552,
          -0.3433988123488519,
          -1.8382391222646086,
          -1.9047140744509434,
          -1.8226385621962213,
          -1.49911755487126,
          -1.054673407789237,
          -0.976385335589294,
          0.057861450303787754,
          0.08730427392029651,
          0.04029332670930203,
          -0.24571916018231457,
          4.417395626399287,
          6.134140954355047,
          5.334132336175248,
          4.8377898024037815,
          4.421918042888436,
          4.8121076626651185,
          5.659104381847451,
          7.337821982994739,
          8.43194196564972,
          10.440692693728387,
          -3.832919695604364,
          -2.6508092397223035,
          -2.1808549553408665,
          -2.0275300182564884,
          -1.0322349759040006,
          -0.19095246338792057,
          -0.26672001082938457,
          -0.9600397638616313,
          -1.5904075826558821,
          -0.4861111090569606,
          0.4666676650065498,
          -0.21142891324564117,
          -0.3362242481794109,
          -0.10663587854525199,
          -1.3709771042007772,
          -1.738669547689095,
          -1.3047455516697795,
          -1.995241897205753,
          -2.5677684738734485,
          -3.0287554978984352,
          -3.427651535897551,
          -2.7464577218669013,
          -2.023113136870359,
          -2.8538638714639735,
          -3.0374823930515107,
          -2.946763588330199,
          -2.749522636009411,
          -2.9699144480427884,
          -2.845348936336296,
          -2.608884701352431,
          -3.2292286175491483,
          -3.318795402551246,
          -3.466688218985224,
          -3.4992345377440808,
          -2.8190991213365186,
          -3.079867015018343,
          -3.3824573682544874,
          -3.5074530888333966,
          -3.5613799795626115,
          -3.7566070611811364,
          -3.7144349785885575,
          -3.677689131408706,
          -3.6441190314615532,
          -3.7431433485250785,
          -3.6896856675413194,
          -3.7534427785892066,
          -3.1298277862916044,
          -3.0085400932091875,
          -3.179084119389347,
          -3.366973268919944
         ]
        },
        {
         "customdata": [
          [
           "condemned criminal origins",
           723,
           210,
           9.99
          ],
          [
           "call of duty modern warfare 2",
           6427,
           160,
           19.99
          ],
          [
           "call of duty modern warfare 2",
           5333,
           204,
           19.99
          ],
          [
           "call of duty modern warfare 2",
           4436,
           494,
           19.99
          ],
          [
           "call of duty modern warfare 2",
           14477,
           335,
           19.99
          ],
          [
           "call of duty modern warfare 2",
           22032,
           356,
           19.99
          ],
          [
           "call of duty modern warfare 2",
           27045,
           791,
           19.99
          ],
          [
           "call of duty black ops",
           17676,
           473,
           29.99
          ],
          [
           "call of duty black ops",
           13553,
           182,
           29.99
          ],
          [
           "call of duty black ops",
           8023,
           249,
           29.99
          ],
          [
           "grid 2",
           1173,
           237,
           19.98
          ],
          [
           "devil may cry 4",
           10628,
           678,
           15.99
          ],
          [
           "dead rising 2",
           1988,
           333,
           14.99
          ],
          [
           "mount blade warband",
           7709,
           928,
           14.99
          ],
          [
           "mount blade warband",
           9889,
           1528,
           14.99
          ],
          [
           "mount blade warband",
           9941,
           824,
           14.99
          ],
          [
           "borderlands 2",
           121828,
           1824,
           19.99
          ],
          [
           "borderlands 2",
           146344,
           3241,
           19.99
          ],
          [
           "mafia 2",
           2506,
           290,
           19.99
          ],
          [
           "mafia 2",
           4710,
           744,
           19.99
          ],
          [
           "mafia 2",
           5050,
           193,
           19.99
          ],
          [
           "mafia 2",
           3366,
           499,
           19.99
          ],
          [
           "mafia 2",
           22825,
           1306,
           19.99
          ],
          [
           "kingdoms of amalur reckoning",
           26492,
           1706,
           19.99
          ],
          [
           "la noire",
           1946,
           897,
           19.99
          ],
          [
           "la noire",
           10703,
           1080,
           19.99
          ],
          [
           "la noire",
           8072,
           374,
           19.99
          ],
          [
           "owlboy",
           4865,
           344,
           18.99
          ],
          [
           "owlboy",
           935,
           397,
           18.99
          ],
          [
           "orcs must die 2",
           485,
           288,
           11.99
          ],
          [
           "wolfenstein the new order",
           1893,
           353,
           14.99
          ],
          [
           "wolfenstein the new order",
           7368,
           265,
           14.99
          ],
          [
           "wolfenstein the new order",
           6708,
           290,
           14.99
          ],
          [
           "wolfenstein the new order",
           8260,
           389,
           14.99
          ],
          [
           "hitman absolution",
           1512,
           297,
           14.99
          ],
          [
           "crusader kings 2",
           3163,
           166,
           29.99
          ],
          [
           "max payne 3",
           2509,
           1594,
           14.99
          ],
          [
           "speedrunners",
           2336,
           402,
           10.99
          ],
          [
           "speedrunners",
           2273,
           170,
           10.99
          ],
          [
           "starbound",
           20908,
           836,
           11.99
          ],
          [
           "starbound",
           18936,
           294,
           11.99
          ],
          [
           "starbound",
           2805,
           283,
           11.99
          ],
          [
           "starbound",
           7654,
           271,
           11.99
          ],
          [
           "starbound",
           3626,
           318,
           11.99
          ],
          [
           "starbound",
           4160,
           207,
           11.99
          ],
          [
           "starbound",
           5377,
           293,
           11.99
          ],
          [
           "ftl faster than light",
           3598,
           257,
           6.99
          ],
          [
           "ftl faster than light",
           2820,
           189,
           6.99
          ],
          [
           "ftl faster than light",
           2929,
           211,
           6.99
          ],
          [
           "ftl faster than light",
           3566,
           261,
           6.99
          ],
          [
           "ftl faster than light",
           3207,
           281,
           6.99
          ],
          [
           "ftl faster than light",
           3350,
           338,
           6.99
          ],
          [
           "ftl faster than light",
           3239,
           251,
           6.99
          ],
          [
           "ftl faster than light",
           3286,
           356,
           6.99
          ],
          [
           "ftl faster than light",
           3057,
           319,
           6.99
          ],
          [
           "ftl faster than light",
           2981,
           208,
           6.99
          ],
          [
           "ftl faster than light",
           3537,
           307,
           6.99
          ],
          [
           "ftl faster than light",
           4753,
           415,
           6.99
          ],
          [
           "ftl faster than light",
           3901,
           322,
           6.99
          ],
          [
           "ftl faster than light",
           4208,
           409,
           6.99
          ],
          [
           "ftl faster than light",
           4234,
           251,
           6.99
          ],
          [
           "ftl faster than light",
           4254,
           272,
           6.99
          ],
          [
           "ftl faster than light",
           4463,
           391,
           6.99
          ],
          [
           "ftl faster than light",
           3638,
           268,
           6.99
          ],
          [
           "ftl faster than light",
           3772,
           276,
           6.99
          ],
          [
           "ftl faster than light",
           3510,
           281,
           6.99
          ],
          [
           "ftl faster than light",
           3334,
           337,
           6.99
          ],
          [
           "ftl faster than light",
           4076,
           401,
           6.99
          ],
          [
           "ftl faster than light",
           3701,
           406,
           6.99
          ],
          [
           "ftl faster than light",
           3733,
           436,
           6.99
          ],
          [
           "ftl faster than light",
           4599,
           426,
           6.99
          ],
          [
           "ftl faster than light",
           6403,
           724,
           6.99
          ],
          [
           "south park the stick of truth",
           3150,
           342,
           25.99
          ],
          [
           "south park the stick of truth",
           5543,
           236,
           25.99
          ],
          [
           "south park the stick of truth",
           6012,
           356,
           25.99
          ],
          [
           "south park the stick of truth",
           3556,
           291,
           25.99
          ],
          [
           "south park the stick of truth",
           5521,
           289,
           25.99
          ],
          [
           "south park the stick of truth",
           15121,
           578,
           25.99
          ],
          [
           "alien isolation",
           11799,
           355,
           29.99
          ],
          [
           "alien isolation",
           7771,
           157,
           29.99
          ],
          [
           "alien isolation",
           7052,
           170,
           29.99
          ],
          [
           "alien isolation",
           7207,
           163,
           29.99
          ],
          [
           "alien isolation",
           9398,
           354,
           29.99
          ],
          [
           "alien isolation",
           7483,
           168,
           29.99
          ],
          [
           "alien isolation",
           5866,
           202,
           29.99
          ],
          [
           "alien isolation",
           7350,
           225,
           29.99
          ],
          [
           "alien isolation",
           7629,
           373,
           29.99
          ],
          [
           "alien isolation",
           14409,
           504,
           29.99
          ],
          [
           "alien isolation",
           17144,
           404,
           29.99
          ],
          [
           "alien isolation",
           10348,
           797,
           29.99
          ],
          [
           "alien isolation",
           9347,
           500,
           29.99
          ],
          [
           "alien isolation",
           53337,
           876,
           29.99
          ],
          [
           "alien isolation",
           31177,
           1061,
           29.99
          ],
          [
           "alien isolation",
           30768,
           665,
           29.99
          ],
          [
           "alien isolation",
           62274,
           1738,
           29.99
          ],
          [
           "alien isolation",
           34388,
           778,
           29.99
          ],
          [
           "guacamelee",
           168,
           314,
           9.99
          ],
          [
           "planetside 2",
           13700,
           193,
           0
          ],
          [
           "planetside 2",
           8502,
           219,
           0
          ],
          [
           "grim dawn",
           8944,
           362,
           19.99
          ],
          [
           "grim dawn",
           12606,
           201,
           19.99
          ],
          [
           "grim dawn",
           19953,
           892,
           19.99
          ],
          [
           "grim dawn",
           11954,
           269,
           19.99
          ],
          [
           "grim dawn",
           6544,
           360,
           19.99
          ],
          [
           "grim dawn",
           14903,
           557,
           19.99
          ],
          [
           "grim dawn",
           25161,
           961,
           19.99
          ],
          [
           "kerbal space program",
           11554,
           381,
           29.99
          ],
          [
           "kerbal space program",
           9266,
           356,
           29.99
          ],
          [
           "kerbal space program",
           8475,
           387,
           29.99
          ],
          [
           "kerbal space program",
           11636,
           719,
           29.99
          ],
          [
           "kerbal space program",
           10441,
           461,
           29.99
          ],
          [
           "kerbal space program",
           7082,
           272,
           29.99
          ],
          [
           "kerbal space program",
           13261,
           549,
           29.99
          ],
          [
           "kerbal space program",
           10557,
           386,
           29.99
          ],
          [
           "kerbal space program",
           8922,
           378,
           29.99
          ],
          [
           "kerbal space program",
           10261,
           371,
           29.99
          ],
          [
           "kerbal space program",
           8628,
           256,
           29.99
          ],
          [
           "kerbal space program",
           8198,
           390,
           29.99
          ],
          [
           "kerbal space program",
           9887,
           359,
           29.99
          ],
          [
           "kerbal space program",
           7797,
           254,
           29.99
          ],
          [
           "kerbal space program",
           8916,
           281,
           29.99
          ],
          [
           "kerbal space program",
           9147,
           275,
           29.99
          ],
          [
           "kerbal space program",
           8800,
           229,
           29.99
          ],
          [
           "kerbal space program",
           7840,
           233,
           29.99
          ],
          [
           "kerbal space program",
           10560,
           262,
           29.99
          ],
          [
           "kerbal space program",
           13235,
           593,
           29.99
          ],
          [
           "kerbal space program",
           11790,
           358,
           29.99
          ],
          [
           "kerbal space program",
           9245,
           1014,
           29.99
          ],
          [
           "kerbal space program",
           8195,
           321,
           29.99
          ],
          [
           "kerbal space program",
           10243,
           774,
           29.99
          ],
          [
           "kerbal space program",
           10352,
           493,
           29.99
          ],
          [
           "kerbal space program",
           13225,
           469,
           29.99
          ],
          [
           "kerbal space program",
           11633,
           428,
           29.99
          ],
          [
           "euro truck simulator 2",
           47937,
           1493,
           14.99
          ],
          [
           "euro truck simulator 2",
           23108,
           330,
           14.99
          ],
          [
           "euro truck simulator 2",
           21718,
           297,
           14.99
          ],
          [
           "euro truck simulator 2",
           21521,
           296,
           14.99
          ],
          [
           "euro truck simulator 2",
           26229,
           336,
           14.99
          ],
          [
           "euro truck simulator 2",
           23011,
           267,
           14.99
          ],
          [
           "euro truck simulator 2",
           28516,
           362,
           14.99
          ],
          [
           "euro truck simulator 2",
           29291,
           448,
           14.99
          ],
          [
           "euro truck simulator 2",
           27055,
           336,
           14.99
          ],
          [
           "euro truck simulator 2",
           31268,
           346,
           14.99
          ],
          [
           "euro truck simulator 2",
           28765,
           329,
           14.99
          ],
          [
           "euro truck simulator 2",
           44703,
           687,
           14.99
          ],
          [
           "euro truck simulator 2",
           44302,
           677,
           14.99
          ],
          [
           "euro truck simulator 2",
           34933,
           430,
           14.99
          ],
          [
           "euro truck simulator 2",
           34031,
           386,
           14.99
          ],
          [
           "euro truck simulator 2",
           34727,
           408,
           14.99
          ],
          [
           "euro truck simulator 2",
           48378,
           598,
           14.99
          ],
          [
           "euro truck simulator 2",
           38182,
           439,
           14.99
          ],
          [
           "euro truck simulator 2",
           51358,
           570,
           14.99
          ],
          [
           "euro truck simulator 2",
           49817,
           453,
           14.99
          ],
          [
           "euro truck simulator 2",
           46273,
           623,
           14.99
          ],
          [
           "euro truck simulator 2",
           41790,
           411,
           14.99
          ],
          [
           "euro truck simulator 2",
           45888,
           815,
           14.99
          ],
          [
           "euro truck simulator 2",
           74740,
           1123,
           14.99
          ],
          [
           "euro truck simulator 2",
           63750,
           792,
           14.99
          ],
          [
           "euro truck simulator 2",
           47867,
           575,
           14.99
          ],
          [
           "euro truck simulator 2",
           50580,
           432,
           14.99
          ],
          [
           "euro truck simulator 2",
           51626,
           523,
           14.99
          ],
          [
           "euro truck simulator 2",
           55910,
           578,
           14.99
          ],
          [
           "euro truck simulator 2",
           49589,
           552,
           14.99
          ],
          [
           "euro truck simulator 2",
           55341,
           905,
           14.99
          ],
          [
           "euro truck simulator 2",
           61200,
           850,
           14.99
          ],
          [
           "euro truck simulator 2",
           57824,
           754,
           14.99
          ],
          [
           "euro truck simulator 2",
           60499,
           970,
           14.99
          ],
          [
           "euro truck simulator 2",
           54644,
           1131,
           14.99
          ],
          [
           "euro truck simulator 2",
           75785,
           1272,
           14.99
          ],
          [
           "euro truck simulator 2",
           71109,
           1010,
           14.99
          ],
          [
           "euro truck simulator 2",
           62439,
           808,
           14.99
          ],
          [
           "euro truck simulator 2",
           74406,
           728,
           14.99
          ],
          [
           "euro truck simulator 2",
           64691,
           622,
           14.99
          ],
          [
           "euro truck simulator 2",
           61310,
           557,
           14.99
          ],
          [
           "euro truck simulator 2",
           54866,
           651,
           14.99
          ],
          [
           "euro truck simulator 2",
           66269,
           821,
           14.99
          ],
          [
           "euro truck simulator 2",
           63617,
           735,
           14.99
          ],
          [
           "euro truck simulator 2",
           57687,
           656,
           14.99
          ],
          [
           "euro truck simulator 2",
           77336,
           837,
           14.99
          ],
          [
           "euro truck simulator 2",
           71683,
           932,
           14.99
          ],
          [
           "euro truck simulator 2",
           93910,
           1925,
           14.99
          ],
          [
           "euro truck simulator 2",
           89138,
           1002,
           14.99
          ],
          [
           "euro truck simulator 2",
           77818,
           836,
           14.99
          ],
          [
           "euro truck simulator 2",
           92264,
           818,
           14.99
          ],
          [
           "euro truck simulator 2",
           133837,
           1431,
           14.99
          ],
          [
           "euro truck simulator 2",
           110073,
           1769,
           14.99
          ],
          [
           "euro truck simulator 2",
           102710,
           1192,
           14.99
          ],
          [
           "euro truck simulator 2",
           103230,
           1075,
           14.99
          ],
          [
           "euro truck simulator 2",
           86502,
           959,
           14.99
          ],
          [
           "euro truck simulator 2",
           85959,
           977,
           14.99
          ],
          [
           "euro truck simulator 2",
           102814,
           937,
           14.99
          ],
          [
           "euro truck simulator 2",
           101940,
           1504,
           14.99
          ],
          [
           "euro truck simulator 2",
           126271,
           1613,
           14.99
          ],
          [
           "euro truck simulator 2",
           139367,
           1588,
           14.99
          ],
          [
           "euro truck simulator 2",
           128869,
           1887,
           14.99
          ],
          [
           "euro truck simulator 2",
           137622,
           1708,
           14.99
          ],
          [
           "euro truck simulator 2",
           161066,
           3294,
           14.99
          ],
          [
           "naruto shippuden ultimate ninja storm 3 full burst",
           782,
           229,
           14.99
          ],
          [
           "war thunder",
           24090,
           246,
           0
          ],
          [
           "war thunder",
           24120,
           260,
           0
          ],
          [
           "war thunder",
           24256,
           316,
           0
          ],
          [
           "war thunder",
           22978,
           238,
           0
          ],
          [
           "war thunder",
           21489,
           245,
           0
          ],
          [
           "war thunder",
           22652,
           323,
           0
          ],
          [
           "war thunder",
           20968,
           227,
           0
          ],
          [
           "war thunder",
           23149,
           248,
           0
          ],
          [
           "war thunder",
           21181,
           238,
           0
          ],
          [
           "war thunder",
           22329,
           294,
           0
          ],
          [
           "war thunder",
           21688,
           248,
           0
          ],
          [
           "war thunder",
           22483,
           335,
           0
          ],
          [
           "war thunder",
           30721,
           259,
           0
          ],
          [
           "war thunder",
           36381,
           353,
           0
          ],
          [
           "war thunder",
           34689,
           407,
           0
          ],
          [
           "war thunder",
           35691,
           551,
           0
          ],
          [
           "war thunder",
           36419,
           532,
           0
          ],
          [
           "war thunder",
           31683,
           353,
           0
          ],
          [
           "war thunder",
           47610,
           500,
           0
          ],
          [
           "war thunder",
           67668,
           1486,
           0
          ],
          [
           "war thunder",
           61573,
           1067,
           0
          ],
          [
           "war thunder",
           89507,
           2397,
           0
          ],
          [
           "war thunder",
           93093,
           2087,
           0
          ],
          [
           "war thunder",
           91247,
           1064,
           0
          ],
          [
           "war thunder",
           88999,
           1210,
           0
          ],
          [
           "war thunder",
           102472,
           1606,
           0
          ],
          [
           "dark souls 2",
           6900,
           177,
           29.99
          ],
          [
           "dark souls 2",
           11739,
           609,
           29.99
          ],
          [
           "dark souls 2",
           11854,
           261,
           29.99
          ],
          [
           "dark souls 2",
           3105,
           219,
           29.99
          ],
          [
           "dark souls 2",
           3350,
           394,
           29.99
          ],
          [
           "dark souls 2",
           3637,
           342,
           29.99
          ],
          [
           "dark souls 2",
           3773,
           202,
           29.99
          ],
          [
           "dark souls 2",
           5114,
           418,
           29.99
          ],
          [
           "dark souls 2",
           5552,
           812,
           29.99
          ],
          [
           "dark souls 2",
           4024,
           183,
           29.99
          ],
          [
           "dark souls 2",
           4824,
           426,
           29.99
          ],
          [
           "dark souls 2",
           4482,
           202,
           29.99
          ],
          [
           "dark souls 2",
           4166,
           247,
           29.99
          ],
          [
           "dark souls 2",
           4315,
           299,
           29.99
          ],
          [
           "dark souls 2",
           7270,
           1483,
           29.99
          ],
          [
           "dark souls 2",
           5336,
           472,
           29.99
          ],
          [
           "dark souls 2",
           3897,
           875,
           29.99
          ],
          [
           "dark souls 2",
           13568,
           1112,
           29.99
          ],
          [
           "dark souls 2",
           29315,
           1071,
           29.99
          ],
          [
           "dark souls 2",
           43183,
           1026,
           29.99
          ],
          [
           "dark souls 2",
           39170,
           932,
           29.99
          ],
          [
           "dark souls 2",
           42196,
           1221,
           29.99
          ],
          [
           "europa universalis iv",
           6157,
           198,
           34.99
          ],
          [
           "europa universalis iv",
           7928,
           369,
           34.99
          ],
          [
           "europa universalis iv",
           5089,
           167,
           34.99
          ],
          [
           "europa universalis iv",
           7234,
           337,
           34.99
          ],
          [
           "europa universalis iv",
           7024,
           338,
           34.99
          ],
          [
           "europa universalis iv",
           6783,
           239,
           34.99
          ],
          [
           "europa universalis iv",
           6844,
           345,
           34.99
          ],
          [
           "europa universalis iv",
           6565,
           409,
           34.99
          ],
          [
           "europa universalis iv",
           6536,
           394,
           34.99
          ],
          [
           "europa universalis iv",
           8117,
           451,
           34.99
          ],
          [
           "europa universalis iv",
           7345,
           325,
           34.99
          ],
          [
           "europa universalis iv",
           8241,
           247,
           34.99
          ],
          [
           "europa universalis iv",
           7466,
           330,
           34.99
          ],
          [
           "europa universalis iv",
           7313,
           288,
           34.99
          ],
          [
           "europa universalis iv",
           7925,
           358,
           34.99
          ],
          [
           "europa universalis iv",
           10390,
           568,
           34.99
          ],
          [
           "europa universalis iv",
           9381,
           406,
           34.99
          ],
          [
           "europa universalis iv",
           10496,
           333,
           34.99
          ],
          [
           "europa universalis iv",
           8925,
           245,
           34.99
          ],
          [
           "europa universalis iv",
           11521,
           410,
           34.99
          ],
          [
           "europa universalis iv",
           10895,
           326,
           34.99
          ],
          [
           "europa universalis iv",
           10024,
           383,
           34.99
          ],
          [
           "europa universalis iv",
           9712,
           344,
           34.99
          ],
          [
           "europa universalis iv",
           13374,
           861,
           34.99
          ],
          [
           "europa universalis iv",
           11939,
           832,
           34.99
          ],
          [
           "europa universalis iv",
           10362,
           614,
           34.99
          ],
          [
           "europa universalis iv",
           11224,
           544,
           34.99
          ],
          [
           "europa universalis iv",
           12189,
           441,
           34.99
          ],
          [
           "europa universalis iv",
           10470,
           396,
           34.99
          ],
          [
           "europa universalis iv",
           11717,
           546,
           34.99
          ],
          [
           "europa universalis iv",
           9327,
           479,
           34.99
          ],
          [
           "europa universalis iv",
           10828,
           391,
           34.99
          ],
          [
           "europa universalis iv",
           9949,
           386,
           34.99
          ],
          [
           "europa universalis iv",
           9074,
           443,
           34.99
          ],
          [
           "europa universalis iv",
           10776,
           548,
           34.99
          ],
          [
           "europa universalis iv",
           10529,
           691,
           34.99
          ],
          [
           "europa universalis iv",
           9880,
           461,
           34.99
          ],
          [
           "europa universalis iv",
           10812,
           616,
           34.99
          ],
          [
           "europa universalis iv",
           11038,
           640,
           34.99
          ],
          [
           "europa universalis iv",
           12202,
           776,
           34.99
          ],
          [
           "europa universalis iv",
           14576,
           763,
           34.99
          ],
          [
           "europa universalis iv",
           20967,
           1225,
           34.99
          ],
          [
           "europa universalis iv",
           13757,
           697,
           34.99
          ],
          [
           "outlast",
           16863,
           386,
           15.49
          ],
          [
           "outlast",
           15075,
           379,
           15.49
          ],
          [
           "outlast",
           16491,
           258,
           15.49
          ],
          [
           "outlast",
           14396,
           201,
           15.49
          ],
          [
           "outlast",
           19653,
           336,
           15.49
          ],
          [
           "outlast",
           19987,
           388,
           15.49
          ],
          [
           "outlast",
           17966,
           337,
           15.49
          ],
          [
           "outlast",
           15023,
           282,
           15.49
          ],
          [
           "outlast",
           10602,
           194,
           15.49
          ],
          [
           "outlast",
           20991,
           548,
           15.49
          ],
          [
           "outlast",
           14222,
           256,
           15.49
          ],
          [
           "outlast",
           63545,
           397,
           15.49
          ],
          [
           "outlast",
           38133,
           361,
           15.49
          ],
          [
           "outlast",
           16397,
           257,
           15.49
          ],
          [
           "outlast",
           13136,
           216,
           15.49
          ],
          [
           "outlast",
           18250,
           527,
           15.49
          ],
          [
           "outlast",
           17069,
           342,
           15.49
          ],
          [
           "outlast",
           20607,
           394,
           15.49
          ],
          [
           "outlast",
           19232,
           398,
           15.49
          ],
          [
           "outlast",
           13262,
           415,
           15.49
          ],
          [
           "outlast",
           12960,
           389,
           15.49
          ],
          [
           "outlast",
           17801,
           465,
           15.49
          ],
          [
           "outlast",
           32271,
           779,
           15.49
          ],
          [
           "outlast",
           31963,
           724,
           15.49
          ],
          [
           "outlast",
           47094,
           955,
           15.49
          ],
          [
           "outlast",
           27662,
           698,
           15.49
          ],
          [
           "battleblock theater",
           2041,
           447,
           10.99
          ],
          [
           "path of exile",
           284633,
           19869,
           0
          ],
          [
           "papers please",
           2447,
           706,
           6.99
          ],
          [
           "wasteland 2",
           1906,
           728,
           23.79
          ],
          [
           "nuclear throne",
           5744,
           420,
           9.29
          ],
          [
           "nuclear throne",
           2282,
           155,
           9.29
          ],
          [
           "the forest",
           10618,
           348,
           15.49
          ],
          [
           "the forest",
           10790,
           172,
           15.49
          ],
          [
           "the forest",
           9464,
           185,
           15.49
          ],
          [
           "the forest",
           11066,
           183,
           15.49
          ],
          [
           "the forest",
           13155,
           333,
           15.49
          ],
          [
           "the forest",
           13877,
           321,
           15.49
          ],
          [
           "the forest",
           10502,
           177,
           15.49
          ],
          [
           "the forest",
           21441,
           868,
           15.49
          ],
          [
           "the forest",
           45374,
           2514,
           15.49
          ],
          [
           "the forest",
           18305,
           423,
           15.49
          ],
          [
           "the forest",
           12442,
           309,
           15.49
          ],
          [
           "the forest",
           17428,
           416,
           15.49
          ],
          [
           "the forest",
           13208,
           283,
           15.49
          ],
          [
           "the forest",
           15147,
           296,
           15.49
          ],
          [
           "the forest",
           19433,
           348,
           15.49
          ],
          [
           "the forest",
           23944,
           316,
           15.49
          ],
          [
           "the forest",
           24422,
           352,
           15.49
          ],
          [
           "the forest",
           20379,
           312,
           15.49
          ],
          [
           "the forest",
           90510,
           3560,
           15.49
          ],
          [
           "the forest",
           51972,
           1078,
           15.49
          ],
          [
           "the forest",
           45178,
           1464,
           15.49
          ],
          [
           "the forest",
           26984,
           380,
           15.49
          ],
          [
           "the forest",
           21446,
           354,
           15.49
          ],
          [
           "the forest",
           22191,
           342,
           15.49
          ],
          [
           "the forest",
           56190,
           529,
           15.49
          ],
          [
           "the forest",
           66708,
           1005,
           15.49
          ],
          [
           "the forest",
           75857,
           1572,
           15.49
          ],
          [
           "the forest",
           47540,
           489,
           15.49
          ],
          [
           "the forest",
           43055,
           424,
           15.49
          ],
          [
           "the forest",
           35647,
           597,
           15.49
          ],
          [
           "the forest",
           35050,
           860,
           15.49
          ],
          [
           "the forest",
           32749,
           457,
           15.49
          ],
          [
           "the forest",
           30693,
           492,
           15.49
          ],
          [
           "the forest",
           31809,
           424,
           15.49
          ],
          [
           "the forest",
           32154,
           417,
           15.49
          ],
          [
           "the forest",
           46567,
           409,
           15.49
          ],
          [
           "the forest",
           50889,
           1003,
           15.49
          ],
          [
           "the forest",
           41900,
           878,
           15.49
          ],
          [
           "the forest",
           66124,
           980,
           15.49
          ],
          [
           "the forest",
           79777,
           732,
           15.49
          ],
          [
           "the forest",
           103038,
           1435,
           15.49
          ],
          [
           "the forest",
           78142,
           1009,
           15.49
          ],
          [
           "the forest",
           100544,
           1719,
           15.49
          ],
          [
           "the forest",
           64794,
           777,
           15.49
          ],
          [
           "the forest",
           57441,
           1190,
           15.49
          ],
          [
           "the forest",
           92843,
           1282,
           15.49
          ],
          [
           "the forest",
           121462,
           1355,
           15.49
          ],
          [
           "the forest",
           229930,
           2245,
           15.49
          ],
          [
           "the forest",
           140607,
           1474,
           15.49
          ],
          [
           "the forest",
           108245,
           1077,
           15.49
          ],
          [
           "the forest",
           114555,
           1771,
           15.49
          ],
          [
           "trials fusion",
           4184,
           367,
           16.99
          ],
          [
           "trials fusion",
           3175,
           249,
           16.99
          ],
          [
           "trials fusion",
           5960,
           344,
           16.99
          ],
          [
           "freedom planet",
           358,
           301,
           10.99
          ],
          [
           "dungeon of the endless",
           713,
           251,
           8.99
          ],
          [
           "the binding of isaac rebirth",
           41360,
           1433,
           10.99
          ],
          [
           "rocket league",
           151028,
           2108,
           14.99
          ],
          [
           "rocket league",
           185207,
           2651,
           14.99
          ],
          [
           "rocket league",
           189233,
           2531,
           14.99
          ],
          [
           "rocket league",
           172514,
           2681,
           14.99
          ],
          [
           "rocket league",
           135938,
           2615,
           14.99
          ],
          [
           "rocket league",
           121906,
           2162,
           14.99
          ],
          [
           "rocket league",
           110279,
           2410,
           14.99
          ],
          [
           "rocket league",
           114974,
           3368,
           14.99
          ],
          [
           "rocket league",
           116205,
           2513,
           14.99
          ],
          [
           "rocket league",
           118822,
           2484,
           14.99
          ],
          [
           "rocket league",
           114674,
           2256,
           14.99
          ],
          [
           "rocket league",
           135824,
           3063,
           14.99
          ],
          [
           "rocket league",
           151291,
           3177,
           14.99
          ],
          [
           "rocket league",
           136327,
           3247,
           14.99
          ],
          [
           "rocket league",
           149494,
           3843,
           14.99
          ],
          [
           "rocket league",
           142679,
           3990,
           14.99
          ],
          [
           "rocket league",
           141958,
           2844,
           14.99
          ],
          [
           "rocket league",
           135730,
           6535,
           14.99
          ],
          [
           "rocket league",
           168192,
           2834,
           14.99
          ],
          [
           "rocket league",
           153465,
           4212,
           14.99
          ],
          [
           "rocket league",
           147194,
           7678,
           14.99
          ],
          [
           "rocket league",
           163101,
           5935,
           14.99
          ],
          [
           "rocket league",
           146609,
           5966,
           14.99
          ],
          [
           "rocket league",
           172061,
           3076,
           14.99
          ],
          [
           "rocket league",
           199446,
           3387,
           14.99
          ],
          [
           "rocket league",
           190166,
           2605,
           14.99
          ],
          [
           "rocket league",
           205161,
           7443,
           14.99
          ],
          [
           "rocket league",
           214415,
           7614,
           14.99
          ],
          [
           "rocket league",
           202604,
           3027,
           14.99
          ],
          [
           "rocket league",
           212778,
           5700,
           14.99
          ],
          [
           "rocket league",
           250769,
           4814,
           14.99
          ],
          [
           "rocket league",
           237630,
           5227,
           14.99
          ],
          [
           "rocket league",
           241545,
           8824,
           14.99
          ],
          [
           "rocket league",
           227718,
           7197,
           14.99
          ],
          [
           "rocket league",
           225248,
           7375,
           14.99
          ],
          [
           "rocket league",
           260284,
           4143,
           14.99
          ],
          [
           "rocket league",
           296047,
           5003,
           14.99
          ],
          [
           "rocket league",
           233398,
           5615,
           14.99
          ],
          [
           "rocket league",
           265268,
           4891,
           14.99
          ],
          [
           "rocket league",
           263789,
           7463,
           14.99
          ],
          [
           "rocket league",
           282468,
           7817,
           14.99
          ],
          [
           "rocket league",
           273764,
           8140,
           14.99
          ],
          [
           "rocket league",
           282548,
           4890,
           14.99
          ],
          [
           "rocket league",
           265216,
           5193,
           14.99
          ],
          [
           "rocket league",
           250133,
           4884,
           14.99
          ],
          [
           "rocket league",
           272336,
           9024,
           14.99
          ],
          [
           "rocket league",
           254760,
           7871,
           14.99
          ],
          [
           "rocket league",
           311157,
           8313,
           14.99
          ],
          [
           "rocket league",
           379221,
           7643,
           14.99
          ],
          [
           "resident evil 4",
           3739,
           156,
           14.99
          ],
          [
           "resident evil 4",
           10904,
           185,
           14.99
          ],
          [
           "resident evil 4",
           38240,
           357,
           14.99
          ],
          [
           "resident evil 4",
           15560,
           204,
           14.99
          ],
          [
           "resident evil 4",
           11995,
           205,
           14.99
          ],
          [
           "resident evil 4",
           16354,
           433,
           14.99
          ],
          [
           "resident evil 4",
           11184,
           338,
           14.99
          ],
          [
           "resident evil 4",
           11175,
           309,
           14.99
          ],
          [
           "resident evil 4",
           11528,
           604,
           14.99
          ],
          [
           "resident evil 4",
           17057,
           903,
           14.99
          ],
          [
           "resident evil 4",
           13441,
           380,
           14.99
          ],
          [
           "resident evil 4",
           21692,
           459,
           14.99
          ],
          [
           "resident evil 4",
           16667,
           639,
           14.99
          ],
          [
           "cities skylines",
           8602,
           232,
           22.99
          ],
          [
           "cities skylines",
           13155,
           556,
           22.99
          ],
          [
           "cities skylines",
           9172,
           209,
           22.99
          ],
          [
           "cities skylines",
           6960,
           446,
           22.99
          ],
          [
           "cities skylines",
           7143,
           381,
           22.99
          ],
          [
           "cities skylines",
           6893,
           228,
           22.99
          ],
          [
           "cities skylines",
           6963,
           160,
           22.99
          ],
          [
           "cities skylines",
           6174,
           212,
           22.99
          ],
          [
           "cities skylines",
           9323,
           353,
           22.99
          ],
          [
           "cities skylines",
           7117,
           209,
           22.99
          ],
          [
           "cities skylines",
           7758,
           218,
           22.99
          ],
          [
           "cities skylines",
           16206,
           679,
           22.99
          ],
          [
           "cities skylines",
           13565,
           799,
           22.99
          ],
          [
           "cities skylines",
           12396,
           391,
           22.99
          ],
          [
           "cities skylines",
           15401,
           227,
           22.99
          ],
          [
           "cities skylines",
           13172,
           320,
           22.99
          ],
          [
           "cities skylines",
           14329,
           476,
           22.99
          ],
          [
           "cities skylines",
           12279,
           320,
           22.99
          ],
          [
           "cities skylines",
           13380,
           485,
           22.99
          ],
          [
           "cities skylines",
           13632,
           279,
           22.99
          ],
          [
           "cities skylines",
           13682,
           549,
           22.99
          ],
          [
           "cities skylines",
           18763,
           916,
           22.99
          ],
          [
           "cities skylines",
           16923,
           465,
           22.99
          ],
          [
           "cities skylines",
           15333,
           350,
           22.99
          ],
          [
           "cities skylines",
           18387,
           591,
           22.99
          ],
          [
           "cities skylines",
           18358,
           362,
           22.99
          ],
          [
           "cities skylines",
           16209,
           436,
           22.99
          ],
          [
           "cities skylines",
           17562,
           353,
           22.99
          ],
          [
           "cities skylines",
           18851,
           640,
           22.99
          ],
          [
           "cities skylines",
           19715,
           547,
           22.99
          ],
          [
           "cities skylines",
           17007,
           433,
           22.99
          ],
          [
           "cities skylines",
           21190,
           656,
           22.99
          ],
          [
           "cities skylines",
           28418,
           847,
           22.99
          ],
          [
           "hyper light drifter",
           11517,
           356,
           14.99
          ],
          [
           "darkest dungeon",
           33174,
           3586,
           18.99
          ],
          [
           "darkest dungeon",
           33017,
           2731,
           18.99
          ],
          [
           "darkest dungeon",
           12111,
           477,
           18.99
          ],
          [
           "darkest dungeon",
           6048,
           182,
           18.99
          ],
          [
           "darkest dungeon",
           6111,
           206,
           18.99
          ],
          [
           "darkest dungeon",
           6597,
           250,
           18.99
          ],
          [
           "darkest dungeon",
           9836,
           322,
           18.99
          ],
          [
           "darkest dungeon",
           9265,
           375,
           18.99
          ],
          [
           "darkest dungeon",
           10293,
           486,
           18.99
          ],
          [
           "darkest dungeon",
           17280,
           957,
           18.99
          ],
          [
           "darkest dungeon",
           16276,
           1104,
           18.99
          ],
          [
           "darkest dungeon",
           12966,
           967,
           18.99
          ],
          [
           "darkest dungeon",
           10987,
           516,
           18.99
          ],
          [
           "darkest dungeon",
           11144,
           559,
           18.99
          ],
          [
           "darkest dungeon",
           43611,
           6534,
           18.99
          ],
          [
           "darkest dungeon",
           56711,
           3828,
           18.99
          ],
          [
           "darkest dungeon",
           18901,
           622,
           18.99
          ],
          [
           "darkest dungeon",
           13118,
           375,
           18.99
          ],
          [
           "darkest dungeon",
           13296,
           308,
           18.99
          ],
          [
           "darkest dungeon",
           16587,
           669,
           18.99
          ],
          [
           "darkest dungeon",
           15581,
           829,
           18.99
          ],
          [
           "darkest dungeon",
           19577,
           521,
           18.99
          ],
          [
           "darkest dungeon",
           14288,
           476,
           18.99
          ],
          [
           "darkest dungeon",
           12799,
           307,
           18.99
          ],
          [
           "darkest dungeon",
           18517,
           1433,
           18.99
          ],
          [
           "darkest dungeon",
           18038,
           803,
           18.99
          ],
          [
           "darkest dungeon",
           39654,
           4397,
           18.99
          ],
          [
           "darkest dungeon",
           49789,
           3601,
           18.99
          ],
          [
           "darkest dungeon",
           21109,
           1006,
           18.99
          ],
          [
           "darkest dungeon",
           13663,
           503,
           18.99
          ],
          [
           "darkest dungeon",
           16972,
           384,
           18.99
          ],
          [
           "darkest dungeon",
           17454,
           585,
           18.99
          ],
          [
           "darkest dungeon",
           14760,
           662,
           18.99
          ],
          [
           "darkest dungeon",
           21929,
           1900,
           18.99
          ],
          [
           "darkest dungeon",
           19751,
           759,
           18.99
          ],
          [
           "darkest dungeon",
           26382,
           937,
           18.99
          ],
          [
           "darkest dungeon",
           16838,
           455,
           18.99
          ],
          [
           "darkest dungeon",
           17311,
           616,
           18.99
          ],
          [
           "darkest dungeon",
           18977,
           1178,
           18.99
          ],
          [
           "darkest dungeon",
           16270,
           889,
           18.99
          ],
          [
           "darkest dungeon",
           14066,
           547,
           18.99
          ],
          [
           "darkest dungeon",
           12250,
           901,
           18.99
          ],
          [
           "darkest dungeon",
           14176,
           1008,
           18.99
          ],
          [
           "darkest dungeon",
           13285,
           384,
           18.99
          ],
          [
           "darkest dungeon",
           14320,
           534,
           18.99
          ],
          [
           "darkest dungeon",
           14543,
           486,
           18.99
          ],
          [
           "darkest dungeon",
           16559,
           582,
           18.99
          ],
          [
           "darkest dungeon",
           19894,
           784,
           18.99
          ],
          [
           "darkest dungeon",
           25549,
           1272,
           18.99
          ],
          [
           "darkest dungeon",
           17909,
           1080,
           18.99
          ],
          [
           "darkest dungeon",
           18369,
           3060,
           18.99
          ],
          [
           "darkest dungeon",
           19189,
           1304,
           18.99
          ],
          [
           "darkest dungeon",
           24203,
           808,
           18.99
          ],
          [
           "darkest dungeon",
           21913,
           1927,
           18.99
          ],
          [
           "darkest dungeon",
           30689,
           1507,
           18.99
          ],
          [
           "subnautica",
           5619,
           271,
           19.49
          ],
          [
           "subnautica",
           5047,
           137,
           19.49
          ],
          [
           "subnautica",
           6454,
           228,
           19.49
          ],
          [
           "subnautica",
           6764,
           727,
           19.49
          ],
          [
           "subnautica",
           12710,
           661,
           19.49
          ],
          [
           "subnautica",
           12951,
           603,
           19.49
          ],
          [
           "subnautica",
           14127,
           433,
           19.49
          ],
          [
           "subnautica",
           7625,
           355,
           19.49
          ],
          [
           "subnautica",
           5868,
           231,
           19.49
          ],
          [
           "subnautica",
           10749,
           1245,
           19.49
          ],
          [
           "subnautica",
           14816,
           592,
           19.49
          ],
          [
           "subnautica",
           9480,
           195,
           19.49
          ],
          [
           "subnautica",
           9952,
           203,
           19.49
          ],
          [
           "subnautica",
           10872,
           574,
           19.49
          ],
          [
           "subnautica",
           15560,
           451,
           19.49
          ],
          [
           "subnautica",
           10291,
           217,
           19.49
          ],
          [
           "subnautica",
           7502,
           371,
           19.49
          ],
          [
           "subnautica",
           95845,
           6705,
           19.49
          ],
          [
           "subnautica",
           131046,
           5317,
           19.49
          ],
          [
           "subnautica",
           50028,
           1352,
           19.49
          ],
          [
           "subnautica",
           25286,
           532,
           19.49
          ],
          [
           "subnautica",
           17472,
           274,
           19.49
          ],
          [
           "subnautica",
           21008,
           509,
           19.49
          ],
          [
           "subnautica",
           22716,
           567,
           19.49
          ],
          [
           "subnautica",
           15200,
           336,
           19.49
          ],
          [
           "subnautica",
           14459,
           308,
           19.49
          ],
          [
           "subnautica",
           107230,
           1379,
           19.49
          ],
          [
           "subnautica",
           100619,
           2837,
           19.49
          ],
          [
           "subnautica",
           60609,
           1463,
           19.49
          ],
          [
           "subnautica",
           39976,
           1364,
           19.49
          ],
          [
           "subnautica",
           21134,
           699,
           19.49
          ],
          [
           "subnautica",
           24584,
           905,
           19.49
          ],
          [
           "subnautica",
           16875,
           347,
           19.49
          ],
          [
           "subnautica",
           17238,
           474,
           19.49
          ],
          [
           "subnautica",
           28301,
           430,
           19.49
          ],
          [
           "subnautica",
           33505,
           956,
           19.49
          ],
          [
           "subnautica",
           34977,
           833,
           19.49
          ],
          [
           "subnautica",
           58423,
           1754,
           19.49
          ],
          [
           "subnautica",
           59821,
           1573,
           19.49
          ],
          [
           "subnautica",
           48160,
           874,
           19.49
          ],
          [
           "subnautica",
           53141,
           705,
           19.49
          ],
          [
           "subnautica",
           60881,
           1167,
           19.49
          ],
          [
           "subnautica",
           48806,
           735,
           19.49
          ],
          [
           "subnautica",
           56220,
           966,
           19.49
          ],
          [
           "subnautica",
           87455,
           1089,
           19.49
          ],
          [
           "subnautica",
           63448,
           925,
           19.49
          ],
          [
           "subnautica",
           130791,
           1337,
           19.49
          ],
          [
           "subnautica",
           212990,
           1766,
           19.49
          ],
          [
           "hand of fate",
           1075,
           274,
           14.99
          ],
          [
           "hand of fate",
           705,
           264,
           14.99
          ],
          [
           "cuphead",
           21352,
           2232,
           14.99
          ],
          [
           "cuphead",
           175435,
           8688,
           14.99
          ],
          [
           "cuphead",
           40760,
           860,
           14.99
          ],
          [
           "cuphead",
           28732,
           505,
           14.99
          ],
          [
           "cuphead",
           26583,
           385,
           14.99
          ],
          [
           "cuphead",
           11511,
           473,
           14.99
          ],
          [
           "cuphead",
           13779,
           379,
           14.99
          ],
          [
           "cuphead",
           10156,
           914,
           14.99
          ],
          [
           "cuphead",
           10223,
           631,
           14.99
          ],
          [
           "cuphead",
           43208,
           692,
           14.99
          ],
          [
           "cuphead",
           37553,
           1421,
           14.99
          ],
          [
           "cuphead",
           42554,
           868,
           14.99
          ],
          [
           "cuphead",
           32868,
           915,
           14.99
          ],
          [
           "cuphead",
           31721,
           1106,
           14.99
          ],
          [
           "darkwood",
           5898,
           456,
           11.99
          ],
          [
           "darkwood",
           5363,
           1005,
           11.99
          ],
          [
           "darkwood",
           2579,
           828,
           11.99
          ],
          [
           "stellaris",
           35360,
           1932,
           34.99
          ],
          [
           "stellaris",
           14324,
           601,
           34.99
          ],
          [
           "stellaris",
           10821,
           195,
           34.99
          ],
          [
           "stellaris",
           8676,
           301,
           34.99
          ],
          [
           "stellaris",
           17806,
           587,
           34.99
          ],
          [
           "stellaris",
           16281,
           384,
           34.99
          ],
          [
           "stellaris",
           20163,
           805,
           34.99
          ],
          [
           "stellaris",
           12510,
           516,
           34.99
          ],
          [
           "stellaris",
           20133,
           756,
           34.99
          ],
          [
           "this war of mine",
           5831,
           357,
           14.99
          ],
          [
           "soma",
           4496,
           299,
           22.99
          ],
          [
           "soma",
           5734,
           305,
           22.99
          ],
          [
           "metro 2033",
           4965,
           207,
           14.99
          ],
          [
           "metro 2033",
           14794,
           623,
           14.99
          ],
          [
           "metro last light",
           1309,
           250,
           14.99
          ],
          [
           "metro last light",
           1041,
           130,
           14.99
          ],
          [
           "metro last light",
           1710,
           249,
           14.99
          ],
          [
           "metro last light",
           3867,
           242,
           14.99
          ],
          [
           "metro last light",
           13918,
           1006,
           14.99
          ],
          [
           "metal gearid v the phantom pain",
           35966,
           423,
           24.99
          ],
          [
           "metal gearid v the phantom pain",
           31467,
           349,
           24.99
          ],
          [
           "metal gearid v the phantom pain",
           25680,
           138,
           24.99
          ],
          [
           "metal gearid v the phantom pain",
           26627,
           240,
           24.99
          ],
          [
           "metal gearid v the phantom pain",
           27442,
           183,
           24.99
          ],
          [
           "metal gearid v the phantom pain",
           21243,
           196,
           24.99
          ],
          [
           "metal gearid v the phantom pain",
           13591,
           234,
           24.99
          ],
          [
           "metal gearid v the phantom pain",
           12729,
           188,
           24.99
          ],
          [
           "metal gearid v the phantom pain",
           13470,
           210,
           24.99
          ],
          [
           "metal gearid v the phantom pain",
           42262,
           227,
           24.99
          ],
          [
           "sid meiers civilization 6",
           110,
           283,
           49.99
          ],
          [
           "sid meiers civilization 6",
           38500,
           4265,
           49.99
          ],
          [
           "sid meiers civilization 6",
           26737,
           1803,
           49.99
          ],
          [
           "sid meiers civilization 6",
           9448,
           899,
           49.99
          ],
          [
           "sid meiers civilization 6",
           5564,
           217,
           49.99
          ],
          [
           "sid meiers civilization 6",
           16585,
           384,
           49.99
          ],
          [
           "sid meiers civilization 6",
           18512,
           1011,
           49.99
          ],
          [
           "sid meiers civilization 6",
           11380,
           709,
           49.99
          ],
          [
           "sid meiers civilization 6",
           27015,
           2820,
           49.99
          ],
          [
           "sid meiers civilization 6",
           24260,
           901,
           49.99
          ],
          [
           "sid meiers civilization 6",
           13367,
           595,
           49.99
          ],
          [
           "sid meiers civilization 6",
           11076,
           425,
           49.99
          ],
          [
           "sid meiers civilization 6",
           15808,
           481,
           49.99
          ],
          [
           "sid meiers civilization 6",
           16225,
           572,
           49.99
          ],
          [
           "sid meiers civilization 6",
           23914,
           1144,
           49.99
          ],
          [
           "sid meiers civilization 6",
           83399,
           2458,
           49.99
          ],
          [
           "sid meiers civilization 6",
           58452,
           1464,
           49.99
          ],
          [
           "sid meiers civilization 6",
           35136,
           1695,
           49.99
          ],
          [
           "sid meiers civilization 6",
           27475,
           1299,
           49.99
          ],
          [
           "sid meiers civilization 6",
           23997,
           1038,
           49.99
          ],
          [
           "sid meiers civilization 6",
           28971,
           811,
           49.99
          ],
          [
           "sid meiers civilization 6",
           27764,
           739,
           49.99
          ],
          [
           "sid meiers civilization 6",
           34751,
           955,
           49.99
          ],
          [
           "sid meiers civilization 6",
           33025,
           941,
           49.99
          ],
          [
           "pillars of eternity",
           4619,
           939,
           22.99
          ],
          [
           "pillars of eternity",
           8662,
           366,
           22.99
          ],
          [
           "the witcher 3 wild hunt",
           43966,
           629,
           24.99
          ],
          [
           "the witcher 3 wild hunt",
           36497,
           297,
           24.99
          ],
          [
           "the witcher 3 wild hunt",
           36794,
           337,
           24.99
          ],
          [
           "the witcher 3 wild hunt",
           67863,
           1697,
           24.99
          ],
          [
           "the witcher 3 wild hunt",
           120248,
           3153,
           24.99
          ],
          [
           "the witcher 3 wild hunt",
           58449,
           670,
           24.99
          ],
          [
           "the witcher 3 wild hunt",
           44510,
           382,
           24.99
          ],
          [
           "the witcher 3 wild hunt",
           41835,
           529,
           24.99
          ],
          [
           "the witcher 3 wild hunt",
           34403,
           355,
           24.99
          ],
          [
           "the witcher 3 wild hunt",
           32770,
           350,
           24.99
          ],
          [
           "the witcher 3 wild hunt",
           37571,
           696,
           24.99
          ],
          [
           "the witcher 3 wild hunt",
           53217,
           1436,
           24.99
          ],
          [
           "the witcher 3 wild hunt",
           45399,
           1452,
           24.99
          ],
          [
           "the witcher 3 wild hunt",
           43990,
           1231,
           24.99
          ],
          [
           "the witcher 3 wild hunt",
           38659,
           896,
           24.99
          ],
          [
           "the witcher 3 wild hunt",
           42984,
           555,
           24.99
          ],
          [
           "the witcher 3 wild hunt",
           56757,
           1644,
           24.99
          ],
          [
           "the witcher 3 wild hunt",
           51198,
           824,
           24.99
          ],
          [
           "the witcher 3 wild hunt",
           39698,
           460,
           24.99
          ],
          [
           "the witcher 3 wild hunt",
           39264,
           501,
           24.99
          ],
          [
           "the witcher 3 wild hunt",
           38006,
           344,
           24.99
          ],
          [
           "the witcher 3 wild hunt",
           39471,
           463,
           24.99
          ],
          [
           "the witcher 3 wild hunt",
           40935,
           1482,
           24.99
          ],
          [
           "the witcher 3 wild hunt",
           56267,
           1604,
           24.99
          ],
          [
           "the witcher 3 wild hunt",
           55793,
           1402,
           24.99
          ],
          [
           "the witcher 3 wild hunt",
           47479,
           574,
           24.99
          ],
          [
           "the witcher 3 wild hunt",
           46821,
           649,
           24.99
          ],
          [
           "the witcher 3 wild hunt",
           46255,
           907,
           24.99
          ],
          [
           "the witcher 3 wild hunt",
           56835,
           2545,
           24.99
          ],
          [
           "the witcher 3 wild hunt",
           64174,
           1788,
           24.99
          ],
          [
           "the witcher 3 wild hunt",
           48985,
           1034,
           24.99
          ],
          [
           "the witcher 3 wild hunt",
           48716,
           1064,
           24.99
          ],
          [
           "the witcher 3 wild hunt",
           45903,
           824,
           24.99
          ],
          [
           "the witcher 3 wild hunt",
           41275,
           561,
           24.99
          ],
          [
           "the witcher 3 wild hunt",
           41362,
           482,
           24.99
          ],
          [
           "the witcher 3 wild hunt",
           52413,
           1083,
           24.99
          ],
          [
           "the witcher 3 wild hunt",
           44450,
           721,
           24.99
          ],
          [
           "the witcher 3 wild hunt",
           51074,
           779,
           24.99
          ],
          [
           "the witcher 3 wild hunt",
           48317,
           684,
           24.99
          ],
          [
           "the witcher 3 wild hunt",
           46001,
           906,
           24.99
          ],
          [
           "the witcher 3 wild hunt",
           56700,
           783,
           24.99
          ],
          [
           "the witcher 3 wild hunt",
           70223,
           2221,
           24.99
          ],
          [
           "the witcher 3 wild hunt",
           61504,
           1096,
           24.99
          ],
          [
           "the witcher 3 wild hunt",
           46508,
           637,
           24.99
          ],
          [
           "the witcher 3 wild hunt",
           40540,
           530,
           24.99
          ],
          [
           "the witcher 3 wild hunt",
           42142,
           579,
           24.99
          ],
          [
           "the witcher 3 wild hunt",
           102872,
           2646,
           24.99
          ],
          [
           "the witcher 3 wild hunt",
           223895,
           8456,
           24.99
          ],
          [
           "the witcher 3 wild hunt",
           103574,
           3118,
           24.99
          ],
          [
           "the witcher 3 wild hunt",
           86371,
           1777,
           24.99
          ],
          [
           "the witcher 3 wild hunt",
           101232,
           2192,
           24.99
          ],
          [
           "the witcher 3 wild hunt",
           110808,
           1702,
           24.99
          ],
          [
           "the witcher 3 wild hunt",
           90291,
           1710,
           24.99
          ],
          [
           "the witcher 3 wild hunt",
           88392,
           1041,
           24.99
          ],
          [
           "the witcher 3 wild hunt",
           81397,
           1641,
           24.99
          ],
          [
           "the witcher 3 wild hunt",
           87979,
           3162,
           24.99
          ],
          [
           "the witcher 3 wild hunt",
           80839,
           1526,
           24.99
          ],
          [
           "the witcher 3 wild hunt",
           86758,
           1289,
           24.99
          ],
          [
           "the witcher 3 wild hunt",
           78731,
           1193,
           24.99
          ],
          [
           "the witcher 3 wild hunt",
           85842,
           1134,
           24.99
          ],
          [
           "the witcher 3 wild hunt",
           70960,
           993,
           24.99
          ],
          [
           "the witcher 3 wild hunt",
           80352,
           1257,
           24.99
          ],
          [
           "inside",
           13111,
           1354,
           14.99
          ],
          [
           "dirt rally",
           22621,
           156,
           24.99
          ],
          [
           "enter the gungeon",
           48408,
           2999,
           10.99
          ],
          [
           "enter the gungeon",
           18663,
           836,
           10.99
          ],
          [
           "enter the gungeon",
           8587,
           260,
           10.99
          ],
          [
           "enter the gungeon",
           9244,
           463,
           10.99
          ],
          [
           "enter the gungeon",
           13423,
           555,
           10.99
          ],
          [
           "enter the gungeon",
           6249,
           225,
           10.99
          ],
          [
           "enter the gungeon",
           8983,
           604,
           10.99
          ],
          [
           "enter the gungeon",
           41958,
           3423,
           10.99
          ],
          [
           "enter the gungeon",
           40073,
           2006,
           10.99
          ],
          [
           "enter the gungeon",
           18202,
           771,
           10.99
          ],
          [
           "enter the gungeon",
           13204,
           478,
           10.99
          ],
          [
           "enter the gungeon",
           11340,
           322,
           10.99
          ],
          [
           "enter the gungeon",
           41401,
           2162,
           10.99
          ],
          [
           "enter the gungeon",
           23285,
           704,
           10.99
          ],
          [
           "enter the gungeon",
           27601,
           503,
           10.99
          ],
          [
           "life is strange",
           12760,
           239,
           0
          ],
          [
           "life is strange",
           10857,
           329,
           0
          ],
          [
           "life is strange",
           10492,
           129,
           0
          ],
          [
           "life is strange",
           6017,
           140,
           0
          ],
          [
           "life is strange",
           6493,
           144,
           0
          ],
          [
           "life is strange",
           14538,
           322,
           0
          ],
          [
           "life is strange",
           12424,
           438,
           0
          ],
          [
           "life is strange",
           6998,
           165,
           0
          ],
          [
           "life is strange",
           8111,
           185,
           0
          ],
          [
           "life is strange",
           8659,
           397,
           0
          ],
          [
           "life is strange",
           7173,
           184,
           0
          ],
          [
           "life is strange",
           16534,
           322,
           0
          ],
          [
           "life is strange",
           13231,
           328,
           0
          ],
          [
           "life is strange",
           12539,
           328,
           0
          ],
          [
           "superhot",
           4797,
           553,
           17.99
          ],
          [
           "superhot",
           4294,
           142,
           17.99
          ],
          [
           "frostpunk",
           40281,
           3453,
           24.99
          ],
          [
           "frostpunk",
           34034,
           1625,
           24.99
          ],
          [
           "frostpunk",
           10064,
           915,
           24.99
          ],
          [
           "frostpunk",
           6565,
           496,
           24.99
          ],
          [
           "frostpunk",
           5652,
           403,
           24.99
          ],
          [
           "frostpunk",
           14042,
           984,
           24.99
          ],
          [
           "tales from the borderlands",
           3140,
           335,
           11.99
          ],
          [
           "tom clancys rainbow six siege",
           242134,
           6549,
           16.99
          ],
          [
           "tom clancys rainbow six siege",
           219127,
           4658,
           16.99
          ],
          [
           "tom clancys rainbow six siege",
           152463,
           2574,
           16.99
          ],
          [
           "tom clancys rainbow six siege",
           143717,
           2293,
           16.99
          ],
          [
           "black mesa",
           7369,
           443,
           14.99
          ],
          [
           "black mesa",
           22545,
           1597,
           14.99
          ],
          [
           "hollow knight",
           6216,
           523,
           10.99
          ],
          [
           "hollow knight",
           20027,
           1034,
           10.99
          ],
          [
           "hollow knight",
           8177,
           202,
           10.99
          ],
          [
           "hollow knight",
           9403,
           341,
           10.99
          ],
          [
           "hollow knight",
           20690,
           615,
           10.99
          ],
          [
           "hollow knight",
           16479,
           274,
           10.99
          ],
          [
           "hollow knight",
           13404,
           310,
           10.99
          ],
          [
           "hollow knight",
           20031,
           429,
           10.99
          ],
          [
           "hollow knight",
           16722,
           470,
           10.99
          ],
          [
           "hollow knight",
           27448,
           614,
           10.99
          ],
          [
           "hollow knight",
           29790,
           524,
           10.99
          ],
          [
           "hollow knight",
           30992,
           740,
           10.99
          ],
          [
           "hollow knight",
           31458,
           392,
           10.99
          ],
          [
           "hollow knight",
           26895,
           346,
           10.99
          ],
          [
           "hollow knight",
           24664,
           364,
           10.99
          ],
          [
           "hollow knight",
           33989,
           1027,
           10.99
          ],
          [
           "hollow knight",
           33076,
           956,
           10.99
          ],
          [
           "hollow knight",
           36036,
           576,
           10.99
          ],
          [
           "hollow knight",
           26868,
           770,
           10.99
          ],
          [
           "hollow knight",
           35871,
           553,
           10.99
          ],
          [
           "hollow knight",
           29697,
           367,
           10.99
          ],
          [
           "hollow knight",
           25529,
           379,
           10.99
          ],
          [
           "hollow knight",
           34711,
           960,
           10.99
          ],
          [
           "hollow knight",
           32879,
           737,
           10.99
          ],
          [
           "hollow knight",
           38399,
           690,
           10.99
          ],
          [
           "hollow knight",
           57738,
           1284,
           10.99
          ],
          [
           "hollow knight",
           52941,
           825,
           10.99
          ],
          [
           "hollow knight",
           62439,
           958,
           10.99
          ],
          [
           "hollow knight",
           60091,
           880,
           10.99
          ],
          [
           "hollow knight",
           57077,
           1578,
           10.99
          ],
          [
           "hollow knight",
           52852,
           762,
           10.99
          ],
          [
           "hollow knight",
           139622,
           1113,
           10.99
          ],
          [
           "hollow knight",
           106854,
           1370,
           10.99
          ],
          [
           "hollow knight",
           117767,
           1663,
           10.99
          ],
          [
           "hollow knight",
           97617,
           1263,
           10.99
          ],
          [
           "hollow knight",
           102956,
           2062,
           10.99
          ],
          [
           "hollow knight",
           85114,
           1634,
           10.99
          ],
          [
           "divinity original sin",
           2092,
           152,
           29.99
          ],
          [
           "divinity original sin",
           3918,
           425,
           29.99
          ],
          [
           "divinity original sin",
           6984,
           478,
           29.99
          ],
          [
           "dark souls 4",
           46336,
           7533,
           39.99
          ],
          [
           "dark souls 4",
           393112,
           10008,
           39.99
          ],
          [
           "dark souls 4",
           149879,
           3058,
           39.99
          ],
          [
           "dark souls 4",
           103510,
           1885,
           39.99
          ],
          [
           "dark souls 4",
           84652,
           1083,
           39.99
          ],
          [
           "dark souls 4",
           80717,
           1483,
           39.99
          ],
          [
           "dark souls 4",
           128053,
           4503,
           39.99
          ],
          [
           "dark souls 4",
           95641,
           3414,
           39.99
          ],
          [
           "dark souls 4",
           73218,
           1965,
           39.99
          ],
          [
           "dark souls 4",
           97695,
           3143,
           39.99
          ],
          [
           "dark souls 4",
           76025,
           1609,
           39.99
          ],
          [
           "dark souls 4",
           130920,
           4651,
           39.99
          ],
          [
           "dark souls 4",
           174943,
           5324,
           39.99
          ],
          [
           "dark souls 4",
           108052,
           2200,
           39.99
          ],
          [
           "dark souls 4",
           76837,
           1251,
           39.99
          ],
          [
           "dark souls 4",
           91377,
           1833,
           39.99
          ],
          [
           "dark souls 4",
           74965,
           1770,
           39.99
          ],
          [
           "dark souls 4",
           67118,
           1727,
           39.99
          ],
          [
           "dark souls 4",
           59205,
           1056,
           39.99
          ],
          [
           "dark souls 4",
           58074,
           1206,
           39.99
          ],
          [
           "dark souls 4",
           80142,
           2504,
           39.99
          ],
          [
           "dark souls 4",
           126343,
           3237,
           39.99
          ],
          [
           "dark souls 4",
           104108,
           2719,
           39.99
          ],
          [
           "dark souls 4",
           103532,
           2165,
           39.99
          ],
          [
           "dark souls 4",
           89240,
           1924,
           39.99
          ],
          [
           "dark souls 4",
           83423,
           1746,
           39.99
          ],
          [
           "dark souls 4",
           85413,
           1610,
           39.99
          ],
          [
           "dark souls 4",
           96853,
           2424,
           39.99
          ],
          [
           "dark souls 4",
           70638,
           1318,
           39.99
          ],
          [
           "dark souls 4",
           57852,
           1113,
           39.99
          ],
          [
           "dark souls 4",
           60455,
           1234,
           39.99
          ],
          [
           "dark souls 4",
           68582,
           1608,
           39.99
          ],
          [
           "dark souls 4",
           81202,
           2734,
           39.99
          ],
          [
           "dark souls 4",
           130316,
           4770,
           39.99
          ],
          [
           "dark souls 4",
           86025,
           2295,
           39.99
          ],
          [
           "dark souls 4",
           94156,
           2196,
           39.99
          ],
          [
           "dark souls 4",
           69462,
           1261,
           39.99
          ],
          [
           "dark souls 4",
           74361,
           1384,
           39.99
          ],
          [
           "dark souls 4",
           70121,
           1378,
           39.99
          ],
          [
           "dark souls 4",
           73566,
           1270,
           39.99
          ],
          [
           "dark souls 4",
           70139,
           1320,
           39.99
          ],
          [
           "dark souls 4",
           58792,
           1081,
           39.99
          ],
          [
           "dark souls 4",
           55648,
           1513,
           39.99
          ],
          [
           "dark souls 4",
           58919,
           890,
           39.99
          ],
          [
           "dark souls 4",
           73875,
           1504,
           39.99
          ],
          [
           "dark souls 4",
           95083,
           2834,
           39.99
          ],
          [
           "dark souls 4",
           89677,
           3508,
           39.99
          ],
          [
           "dark souls 4",
           97795,
           1967,
           39.99
          ],
          [
           "dark souls 4",
           140545,
           3611,
           39.99
          ],
          [
           "dark souls 4",
           185872,
           5794,
           39.99
          ],
          [
           "dark souls 4",
           153732,
           4088,
           39.99
          ],
          [
           "dark souls 4",
           183516,
           5808,
           39.99
          ],
          [
           "dark souls 4",
           151980,
           3014,
           39.99
          ],
          [
           "dark souls 4",
           130075,
           2815,
           39.99
          ],
          [
           "dark souls 4",
           116098,
           2098,
           39.99
          ],
          [
           "dark souls 4",
           152333,
           2574,
           39.99
          ],
          [
           "dark souls 4",
           175104,
           2587,
           39.99
          ],
          [
           "dark souls 4",
           189975,
           3573,
           39.99
          ],
          [
           "dark souls 4",
           156640,
           3803,
           39.99
          ],
          [
           "dark souls 4",
           164754,
           4091,
           39.99
          ],
          [
           "dark souls 4",
           179386,
           5093,
           39.99
          ],
          [
           "final fantasy 9",
           7487,
           1846,
           15.99
          ],
          [
           "doom",
           19742,
           1121,
           14.99
          ],
          [
           "doom",
           191421,
           5815,
           14.99
          ],
          [
           "doom",
           55602,
           499,
           14.99
          ],
          [
           "doom",
           33331,
           248,
           14.99
          ],
          [
           "doom",
           25609,
           235,
           14.99
          ],
          [
           "doom",
           16134,
           186,
           14.99
          ],
          [
           "doom",
           16908,
           448,
           14.99
          ],
          [
           "doom",
           14529,
           300,
           14.99
          ],
          [
           "doom",
           19170,
           269,
           14.99
          ],
          [
           "doom",
           21973,
           319,
           14.99
          ],
          [
           "doom",
           10599,
           185,
           14.99
          ],
          [
           "doom",
           19694,
           712,
           14.99
          ],
          [
           "doom",
           15589,
           387,
           14.99
          ],
          [
           "doom",
           17707,
           377,
           14.99
          ],
          [
           "doom",
           24538,
           1398,
           14.99
          ],
          [
           "doom",
           30764,
           579,
           14.99
          ],
          [
           "doom",
           65634,
           1243,
           14.99
          ],
          [
           "smite",
           114041,
           5099,
           0
          ],
          [
           "smite",
           113862,
           3972,
           0
          ],
          [
           "smite",
           154060,
           3987,
           0
          ],
          [
           "smite",
           173748,
           4902,
           0
          ],
          [
           "smite",
           152509,
           3966,
           0
          ],
          [
           "smite",
           135056,
           3308,
           0
          ],
          [
           "smite",
           124370,
           2539,
           0
          ],
          [
           "smite",
           126919,
           3216,
           0
          ],
          [
           "smite",
           108497,
           2747,
           0
          ],
          [
           "smite",
           111857,
           3296,
           0
          ],
          [
           "smite",
           105160,
           3813,
           0
          ],
          [
           "smite",
           110390,
           3057,
           0
          ],
          [
           "smite",
           149152,
           8072,
           0
          ],
          [
           "smite",
           132455,
           5886,
           0
          ],
          [
           "smite",
           128157,
           4717,
           0
          ],
          [
           "smite",
           111138,
           5992,
           0
          ],
          [
           "smite",
           113737,
           4147,
           0
          ],
          [
           "smite",
           99337,
           3890,
           0
          ],
          [
           "smite",
           114792,
           3510,
           0
          ],
          [
           "smite",
           112601,
           3203,
           0
          ],
          [
           "smite",
           89576,
           3416,
           0
          ],
          [
           "smite",
           93036,
           3175,
           0
          ],
          [
           "smite",
           97462,
           4304,
           0
          ],
          [
           "smite",
           99368,
           2853,
           0
          ],
          [
           "smite",
           124550,
           5596,
           0
          ],
          [
           "smite",
           138499,
           3459,
           0
          ],
          [
           "smite",
           121466,
           2653,
           0
          ],
          [
           "smite",
           116750,
           2551,
           0
          ],
          [
           "smite",
           113161,
           2757,
           0
          ],
          [
           "smite",
           103250,
           1923,
           0
          ],
          [
           "smite",
           114968,
           2380,
           0
          ],
          [
           "smite",
           118140,
           2381,
           0
          ],
          [
           "smite",
           100920,
           2065,
           0
          ],
          [
           "smite",
           92020,
           2095,
           0
          ],
          [
           "smite",
           95623,
           3089,
           0
          ],
          [
           "smite",
           107579,
           2442,
           0
          ],
          [
           "smite",
           124939,
           2909,
           0
          ],
          [
           "smite",
           103751,
           2510,
           0
          ],
          [
           "smite",
           129272,
           2704,
           0
          ],
          [
           "smite",
           128841,
           2611,
           0
          ],
          [
           "smite",
           122679,
           2419,
           0
          ],
          [
           "smite",
           106287,
           2370,
           0
          ],
          [
           "smite",
           103011,
           2159,
           0
          ],
          [
           "smite",
           99204,
           1972,
           0
          ],
          [
           "smite",
           87158,
           1860,
           0
          ],
          [
           "smite",
           90879,
           1809,
           0
          ],
          [
           "smite",
           96385,
           2910,
           0
          ],
          [
           "smite",
           102314,
           2154,
           0
          ],
          [
           "smite",
           121506,
           2475,
           0
          ],
          [
           "smite",
           118510,
           3398,
           0
          ],
          [
           "smite",
           131331,
           3848,
           0
          ],
          [
           "smite",
           172933,
           5662,
           0
          ],
          [
           "smite",
           186584,
           6298,
           0
          ],
          [
           "smite",
           176255,
           5362,
           0
          ],
          [
           "smite",
           230443,
           6553,
           0
          ],
          [
           "smite",
           224702,
           6927,
           0
          ],
          [
           "smite",
           199425,
           5650,
           0
          ],
          [
           "smite",
           193068,
           5417,
           0
          ],
          [
           "smite",
           204422,
           5557,
           0
          ],
          [
           "smite",
           200209,
           4725,
           0
          ],
          [
           "smite",
           259115,
           10454,
           0
          ],
          [
           "smite",
           263254,
           9163,
           0
          ],
          [
           "smite",
           256344,
           9003,
           0
          ],
          [
           "smite",
           224634,
           8760,
           0
          ],
          [
           "ori and the blind forest",
           7448,
           356,
           14.99
          ],
          [
           "ori and the blind forest",
           2789,
           302,
           14.99
          ],
          [
           "ori and the blind forest",
           11681,
           199,
           14.99
          ],
          [
           "ori and the blind forest",
           6893,
           380,
           14.99
          ],
          [
           "ori and the blind forest",
           45972,
           998,
           14.99
          ],
          [
           "ori and the blind forest",
           7448,
           356,
           14.99
          ],
          [
           "ori and the blind forest",
           2789,
           302,
           14.99
          ],
          [
           "ori and the blind forest",
           11681,
           199,
           14.99
          ],
          [
           "ori and the blind forest",
           6893,
           380,
           14.99
          ],
          [
           "ori and the blind forest",
           45972,
           998,
           14.99
          ],
          [
           "rise of the tomb raider",
           32074,
           930,
           39.99
          ],
          [
           "rise of the tomb raider",
           12303,
           158,
           39.99
          ],
          [
           "rise of the tomb raider",
           36788,
           216,
           39.99
          ],
          [
           "rise of the tomb raider",
           14973,
           388,
           39.99
          ],
          [
           "undertale",
           25568,
           497,
           6.99
          ],
          [
           "undertale",
           18197,
           218,
           6.99
          ],
          [
           "undertale",
           15642,
           220,
           6.99
          ],
          [
           "undertale",
           12492,
           144,
           6.99
          ],
          [
           "undertale",
           11963,
           145,
           6.99
          ],
          [
           "undertale",
           8553,
           157,
           6.99
          ],
          [
           "undertale",
           7614,
           175,
           6.99
          ],
          [
           "undertale",
           8589,
           184,
           6.99
          ],
          [
           "undertale",
           11016,
           1167,
           6.99
          ],
          [
           "undertale",
           9842,
           389,
           6.99
          ],
          [
           "undertale",
           7653,
           201,
           6.99
          ],
          [
           "undertale",
           6858,
           247,
           6.99
          ],
          [
           "undertale",
           6625,
           461,
           6.99
          ],
          [
           "undertale",
           18012,
           342,
           6.99
          ],
          [
           "undertale",
           26015,
           1616,
           6.99
          ],
          [
           "atlas reactor",
           1461,
           182,
           0
          ],
          [
           "atlas reactor",
           7997,
           301,
           0
          ],
          [
           "stardew valley",
           11046,
           1282,
           10.99
          ],
          [
           "stardew valley",
           137735,
           7974,
           10.99
          ],
          [
           "stardew valley",
           46361,
           1174,
           10.99
          ],
          [
           "stardew valley",
           21589,
           507,
           10.99
          ],
          [
           "stardew valley",
           14457,
           277,
           10.99
          ],
          [
           "stardew valley",
           27048,
           1124,
           10.99
          ],
          [
           "stardew valley",
           18631,
           574,
           10.99
          ],
          [
           "stardew valley",
           29320,
           559,
           10.99
          ],
          [
           "stardew valley",
           39692,
           937,
           10.99
          ],
          [
           "stardew valley",
           35036,
           963,
           10.99
          ],
          [
           "stardew valley",
           28681,
           380,
           10.99
          ],
          [
           "stardew valley",
           20573,
           289,
           10.99
          ],
          [
           "stardew valley",
           23416,
           274,
           10.99
          ],
          [
           "stardew valley",
           23661,
           316,
           10.99
          ],
          [
           "stardew valley",
           34325,
           575,
           10.99
          ],
          [
           "stardew valley",
           26872,
           397,
           10.99
          ],
          [
           "stardew valley",
           23485,
           541,
           10.99
          ],
          [
           "stardew valley",
           32747,
           693,
           10.99
          ],
          [
           "stardew valley",
           35347,
           929,
           10.99
          ],
          [
           "stardew valley",
           32084,
           455,
           10.99
          ],
          [
           "stardew valley",
           43250,
           638,
           10.99
          ],
          [
           "stardew valley",
           32506,
           447,
           10.99
          ],
          [
           "stardew valley",
           34159,
           513,
           10.99
          ],
          [
           "stardew valley",
           34396,
           854,
           10.99
          ],
          [
           "stardew valley",
           145566,
           3534,
           10.99
          ],
          [
           "stardew valley",
           67662,
           1093,
           10.99
          ],
          [
           "stardew valley",
           57228,
           818,
           10.99
          ],
          [
           "stardew valley",
           59627,
           699,
           10.99
          ],
          [
           "stardew valley",
           41653,
           506,
           10.99
          ],
          [
           "stardew valley",
           34735,
           373,
           10.99
          ],
          [
           "stardew valley",
           31487,
           342,
           10.99
          ],
          [
           "stardew valley",
           36730,
           383,
           10.99
          ],
          [
           "stardew valley",
           50706,
           556,
           10.99
          ],
          [
           "stardew valley",
           40916,
           902,
           10.99
          ],
          [
           "stardew valley",
           58688,
           983,
           10.99
          ],
          [
           "stardew valley",
           54475,
           1007,
           10.99
          ],
          [
           "stardew valley",
           49405,
           763,
           10.99
          ],
          [
           "stardew valley",
           42475,
           698,
           10.99
          ],
          [
           "stardew valley",
           46371,
           582,
           10.99
          ],
          [
           "stardew valley",
           37851,
           452,
           10.99
          ],
          [
           "stardew valley",
           33927,
           603,
           10.99
          ],
          [
           "stardew valley",
           35713,
           564,
           10.99
          ],
          [
           "stardew valley",
           43176,
           877,
           10.99
          ],
          [
           "stardew valley",
           83495,
           2390,
           10.99
          ],
          [
           "stardew valley",
           89011,
           1548,
           10.99
          ],
          [
           "stardew valley",
           78398,
           1645,
           10.99
          ],
          [
           "stardew valley",
           96548,
           1435,
           10.99
          ],
          [
           "stardew valley",
           83374,
           826,
           10.99
          ],
          [
           "stardew valley",
           68427,
           738,
           10.99
          ],
          [
           "stardew valley",
           71286,
           733,
           10.99
          ],
          [
           "stardew valley",
           79119,
           1221,
           10.99
          ],
          [
           "stardew valley",
           154976,
           3398,
           10.99
          ],
          [
           "stardew valley",
           316734,
           10160,
           10.99
          ],
          [
           "stardew valley",
           234020,
           4375,
           10.99
          ],
          [
           "stardew valley",
           240202,
           3872,
           10.99
          ],
          [
           "stardew valley",
           188307,
           2355,
           10.99
          ],
          [
           "danganronpa trigger happy havoc",
           2708,
           208,
           14.99
          ],
          [
           "danganronpa trigger happy havoc",
           4192,
           1275,
           14.99
          ],
          [
           "devil daggers",
           1297,
           242,
           3.99
          ],
          [
           "divinity original sin 2",
           1621,
           209,
           29.99
          ],
          [
           "divinity original sin 2",
           91883,
           5212,
           29.99
          ],
          [
           "divinity original sin 2",
           63959,
           1085,
           29.99
          ],
          [
           "divinity original sin 2",
           21185,
           278,
           29.99
          ],
          [
           "divinity original sin 2",
           16548,
           479,
           29.99
          ],
          [
           "divinity original sin 2",
           17958,
           316,
           29.99
          ],
          [
           "divinity original sin 2",
           27432,
           941,
           29.99
          ],
          [
           "divinity original sin 2",
           21866,
           540,
           29.99
          ],
          [
           "divinity original sin 2",
           18844,
           372,
           29.99
          ],
          [
           "divinity original sin 2",
           21558,
           406,
           29.99
          ],
          [
           "divinity original sin 2",
           13688,
           1309,
           29.99
          ],
          [
           "divinity original sin 2",
           14021,
           1236,
           29.99
          ],
          [
           "divinity original sin 2",
           18608,
           750,
           29.99
          ],
          [
           "divinity original sin 2",
           33841,
           972,
           29.99
          ],
          [
           "divinity original sin 2",
           36421,
           1325,
           29.99
          ],
          [
           "bayonetta",
           9267,
           551,
           14.99
          ],
          [
           "night in the woods",
           3291,
           299,
           14.99
          ],
          [
           "night in the woods",
           5625,
           277,
           14.99
          ],
          [
           "arcanum of steamworks and magick obscura",
           238,
           431,
           4.99
          ],
          [
           "what remains of edith finch",
           769,
           187,
           14.99
          ],
          [
           "what remains of edith finch",
           2395,
           377,
           14.99
          ],
          [
           "battlerite",
           30820,
           1705,
           0
          ],
          [
           "battlerite",
           52409,
           1733,
           0
          ],
          [
           "battlerite",
           22196,
           699,
           0
          ],
          [
           "battlerite",
           23674,
           829,
           0
          ],
          [
           "battlerite",
           16393,
           321,
           0
          ],
          [
           "battlerite",
           9420,
           292,
           0
          ],
          [
           "battlerite",
           9707,
           217,
           0
          ],
          [
           "battlerite",
           11924,
           361,
           0
          ],
          [
           "battlerite",
           7805,
           187,
           0
          ],
          [
           "battlerite",
           90363,
           3885,
           0
          ],
          [
           "battlerite",
           57290,
           1153,
           0
          ],
          [
           "battlerite",
           36777,
           520,
           0
          ],
          [
           "battlerite",
           20547,
           250,
           0
          ],
          [
           "battlerite",
           36885,
           1297,
           0
          ],
          [
           "battlerite",
           30853,
           513,
           0
          ],
          [
           "battlerite",
           28015,
           539,
           0
          ],
          [
           "world of warships",
           26471,
           582,
           0
          ],
          [
           "world of warships",
           24420,
           472,
           0
          ],
          [
           "world of warships",
           26901,
           805,
           0
          ],
          [
           "world of warships",
           27601,
           576,
           0
          ],
          [
           "world of warships",
           23974,
           526,
           0
          ],
          [
           "world of warships",
           24413,
           523,
           0
          ],
          [
           "world of warships",
           27974,
           750,
           0
          ],
          [
           "world of warships",
           29390,
           724,
           0
          ],
          [
           "world of warships",
           29464,
           722,
           0
          ],
          [
           "world of warships",
           28219,
           766,
           0
          ],
          [
           "world of warships",
           34655,
           893,
           0
          ],
          [
           "world of warships",
           38119,
           1119,
           0
          ],
          [
           "world of warships",
           31318,
           963,
           0
          ],
          [
           "world of warships",
           31365,
           804,
           0
          ],
          [
           "world of warships",
           30875,
           949,
           0
          ],
          [
           "world of warships",
           33526,
           819,
           0
          ],
          [
           "world of warships",
           30762,
           708,
           0
          ],
          [
           "world of warships",
           33565,
           702,
           0
          ],
          [
           "world of warships",
           32452,
           716,
           0
          ],
          [
           "world of warships",
           35907,
           792,
           0
          ],
          [
           "world of warships",
           34276,
           721,
           0
          ],
          [
           "world of warships",
           34008,
           708,
           0
          ],
          [
           "world of warships",
           38998,
           739,
           0
          ],
          [
           "world of warships",
           44484,
           841,
           0
          ],
          [
           "world of warships",
           39875,
           817,
           0
          ],
          [
           "world of warships",
           42932,
           848,
           0
          ],
          [
           "world of warships",
           41921,
           778,
           0
          ],
          [
           "world of warships",
           44725,
           1088,
           0
          ],
          [
           "world of warships",
           40755,
           883,
           0
          ],
          [
           "world of warships",
           45743,
           914,
           0
          ],
          [
           "world of warships",
           46248,
           980,
           0
          ],
          [
           "world of warships",
           42717,
           1006,
           0
          ],
          [
           "world of warships",
           42779,
           931,
           0
          ],
          [
           "world of warships",
           38093,
           1121,
           0
          ],
          [
           "world of warships",
           52785,
           2215,
           0
          ],
          [
           "world of warships",
           59599,
           2353,
           0
          ],
          [
           "world of warships",
           47249,
           2180,
           0
          ],
          [
           "world of warships",
           51961,
           2020,
           0
          ],
          [
           "world of warships",
           54618,
           2444,
           0
          ],
          [
           "world of warships",
           53324,
           1517,
           0
          ],
          [
           "world of warships",
           49596,
           2182,
           0
          ],
          [
           "world of warships",
           50803,
           2184,
           0
          ],
          [
           "world of warships",
           57828,
           2404,
           0
          ],
          [
           "world of warships",
           55756,
           2336,
           0
          ],
          [
           "world of warships",
           59334,
           2625,
           0
          ],
          [
           "world of warships",
           54160,
           2359,
           0
          ],
          [
           "world of warships",
           59767,
           3088,
           0
          ],
          [
           "world of warships",
           61464,
           2841,
           0
          ],
          [
           "world of warships",
           60421,
           2937,
           0
          ],
          [
           "world of warships",
           61758,
           3141,
           0
          ],
          [
           "world of warships",
           74954,
           4429,
           0
          ],
          [
           "world of warships",
           81788,
           4081,
           0
          ],
          [
           "world of warships",
           68118,
           3453,
           0
          ],
          [
           "world of warships",
           74394,
           3722,
           0
          ],
          [
           "world of warships",
           76034,
           3889,
           0
          ],
          [
           "world of warships",
           77105,
           4532,
           0
          ],
          [
           "world of warships",
           79571,
           4342,
           0
          ],
          [
           "world of warships",
           72500,
           3621,
           0
          ],
          [
           "world of warships",
           77748,
           4591,
           0
          ],
          [
           "world of warships",
           84013,
           4174,
           0
          ],
          [
           "world of warships",
           71447,
           4209,
           0
          ],
          [
           "world of warships",
           76545,
           3596,
           0
          ],
          [
           "world of warships",
           67218,
           3545,
           0
          ],
          [
           "doki doki literature club",
           16821,
           573,
           0
          ],
          [
           "doki doki literature club",
           16855,
           502,
           0
          ],
          [
           "doki doki literature club",
           32415,
           943,
           0
          ],
          [
           "doki doki literature club",
           39055,
           1946,
           0
          ],
          [
           "doki doki literature club",
           17661,
           469,
           0
          ],
          [
           "doki doki literature club",
           7344,
           511,
           0
          ]
         ],
         "hovertemplate": "<b>%{hovertext}</b><br><br>Class=%{marker.color}<br>PC 1=%{x}<br>PC 2=%{y}<br>PC 3=%{z}<br>GameName=%{customdata[0]}<br>S_Hours=%{customdata[1]}<br>tw_Avg_viewers=%{customdata[2]}<br>st_price=%{customdata[3]}<extra></extra>",
         "hovertext": [
          "condemned criminal origins",
          "call of duty modern warfare 2",
          "call of duty modern warfare 2",
          "call of duty modern warfare 2",
          "call of duty modern warfare 2",
          "call of duty modern warfare 2",
          "call of duty modern warfare 2",
          "call of duty black ops",
          "call of duty black ops",
          "call of duty black ops",
          "grid 2",
          "devil may cry 4",
          "dead rising 2",
          "mount blade warband",
          "mount blade warband",
          "mount blade warband",
          "borderlands 2",
          "borderlands 2",
          "mafia 2",
          "mafia 2",
          "mafia 2",
          "mafia 2",
          "mafia 2",
          "kingdoms of amalur reckoning",
          "la noire",
          "la noire",
          "la noire",
          "owlboy",
          "owlboy",
          "orcs must die 2",
          "wolfenstein the new order",
          "wolfenstein the new order",
          "wolfenstein the new order",
          "wolfenstein the new order",
          "hitman absolution",
          "crusader kings 2",
          "max payne 3",
          "speedrunners",
          "speedrunners",
          "starbound",
          "starbound",
          "starbound",
          "starbound",
          "starbound",
          "starbound",
          "starbound",
          "ftl faster than light",
          "ftl faster than light",
          "ftl faster than light",
          "ftl faster than light",
          "ftl faster than light",
          "ftl faster than light",
          "ftl faster than light",
          "ftl faster than light",
          "ftl faster than light",
          "ftl faster than light",
          "ftl faster than light",
          "ftl faster than light",
          "ftl faster than light",
          "ftl faster than light",
          "ftl faster than light",
          "ftl faster than light",
          "ftl faster than light",
          "ftl faster than light",
          "ftl faster than light",
          "ftl faster than light",
          "ftl faster than light",
          "ftl faster than light",
          "ftl faster than light",
          "ftl faster than light",
          "ftl faster than light",
          "ftl faster than light",
          "south park the stick of truth",
          "south park the stick of truth",
          "south park the stick of truth",
          "south park the stick of truth",
          "south park the stick of truth",
          "south park the stick of truth",
          "alien isolation",
          "alien isolation",
          "alien isolation",
          "alien isolation",
          "alien isolation",
          "alien isolation",
          "alien isolation",
          "alien isolation",
          "alien isolation",
          "alien isolation",
          "alien isolation",
          "alien isolation",
          "alien isolation",
          "alien isolation",
          "alien isolation",
          "alien isolation",
          "alien isolation",
          "alien isolation",
          "guacamelee",
          "planetside 2",
          "planetside 2",
          "grim dawn",
          "grim dawn",
          "grim dawn",
          "grim dawn",
          "grim dawn",
          "grim dawn",
          "grim dawn",
          "kerbal space program",
          "kerbal space program",
          "kerbal space program",
          "kerbal space program",
          "kerbal space program",
          "kerbal space program",
          "kerbal space program",
          "kerbal space program",
          "kerbal space program",
          "kerbal space program",
          "kerbal space program",
          "kerbal space program",
          "kerbal space program",
          "kerbal space program",
          "kerbal space program",
          "kerbal space program",
          "kerbal space program",
          "kerbal space program",
          "kerbal space program",
          "kerbal space program",
          "kerbal space program",
          "kerbal space program",
          "kerbal space program",
          "kerbal space program",
          "kerbal space program",
          "kerbal space program",
          "kerbal space program",
          "euro truck simulator 2",
          "euro truck simulator 2",
          "euro truck simulator 2",
          "euro truck simulator 2",
          "euro truck simulator 2",
          "euro truck simulator 2",
          "euro truck simulator 2",
          "euro truck simulator 2",
          "euro truck simulator 2",
          "euro truck simulator 2",
          "euro truck simulator 2",
          "euro truck simulator 2",
          "euro truck simulator 2",
          "euro truck simulator 2",
          "euro truck simulator 2",
          "euro truck simulator 2",
          "euro truck simulator 2",
          "euro truck simulator 2",
          "euro truck simulator 2",
          "euro truck simulator 2",
          "euro truck simulator 2",
          "euro truck simulator 2",
          "euro truck simulator 2",
          "euro truck simulator 2",
          "euro truck simulator 2",
          "euro truck simulator 2",
          "euro truck simulator 2",
          "euro truck simulator 2",
          "euro truck simulator 2",
          "euro truck simulator 2",
          "euro truck simulator 2",
          "euro truck simulator 2",
          "euro truck simulator 2",
          "euro truck simulator 2",
          "euro truck simulator 2",
          "euro truck simulator 2",
          "euro truck simulator 2",
          "euro truck simulator 2",
          "euro truck simulator 2",
          "euro truck simulator 2",
          "euro truck simulator 2",
          "euro truck simulator 2",
          "euro truck simulator 2",
          "euro truck simulator 2",
          "euro truck simulator 2",
          "euro truck simulator 2",
          "euro truck simulator 2",
          "euro truck simulator 2",
          "euro truck simulator 2",
          "euro truck simulator 2",
          "euro truck simulator 2",
          "euro truck simulator 2",
          "euro truck simulator 2",
          "euro truck simulator 2",
          "euro truck simulator 2",
          "euro truck simulator 2",
          "euro truck simulator 2",
          "euro truck simulator 2",
          "euro truck simulator 2",
          "euro truck simulator 2",
          "euro truck simulator 2",
          "euro truck simulator 2",
          "euro truck simulator 2",
          "euro truck simulator 2",
          "naruto shippuden ultimate ninja storm 3 full burst",
          "war thunder",
          "war thunder",
          "war thunder",
          "war thunder",
          "war thunder",
          "war thunder",
          "war thunder",
          "war thunder",
          "war thunder",
          "war thunder",
          "war thunder",
          "war thunder",
          "war thunder",
          "war thunder",
          "war thunder",
          "war thunder",
          "war thunder",
          "war thunder",
          "war thunder",
          "war thunder",
          "war thunder",
          "war thunder",
          "war thunder",
          "war thunder",
          "war thunder",
          "war thunder",
          "dark souls 2",
          "dark souls 2",
          "dark souls 2",
          "dark souls 2",
          "dark souls 2",
          "dark souls 2",
          "dark souls 2",
          "dark souls 2",
          "dark souls 2",
          "dark souls 2",
          "dark souls 2",
          "dark souls 2",
          "dark souls 2",
          "dark souls 2",
          "dark souls 2",
          "dark souls 2",
          "dark souls 2",
          "dark souls 2",
          "dark souls 2",
          "dark souls 2",
          "dark souls 2",
          "dark souls 2",
          "europa universalis iv",
          "europa universalis iv",
          "europa universalis iv",
          "europa universalis iv",
          "europa universalis iv",
          "europa universalis iv",
          "europa universalis iv",
          "europa universalis iv",
          "europa universalis iv",
          "europa universalis iv",
          "europa universalis iv",
          "europa universalis iv",
          "europa universalis iv",
          "europa universalis iv",
          "europa universalis iv",
          "europa universalis iv",
          "europa universalis iv",
          "europa universalis iv",
          "europa universalis iv",
          "europa universalis iv",
          "europa universalis iv",
          "europa universalis iv",
          "europa universalis iv",
          "europa universalis iv",
          "europa universalis iv",
          "europa universalis iv",
          "europa universalis iv",
          "europa universalis iv",
          "europa universalis iv",
          "europa universalis iv",
          "europa universalis iv",
          "europa universalis iv",
          "europa universalis iv",
          "europa universalis iv",
          "europa universalis iv",
          "europa universalis iv",
          "europa universalis iv",
          "europa universalis iv",
          "europa universalis iv",
          "europa universalis iv",
          "europa universalis iv",
          "europa universalis iv",
          "europa universalis iv",
          "outlast",
          "outlast",
          "outlast",
          "outlast",
          "outlast",
          "outlast",
          "outlast",
          "outlast",
          "outlast",
          "outlast",
          "outlast",
          "outlast",
          "outlast",
          "outlast",
          "outlast",
          "outlast",
          "outlast",
          "outlast",
          "outlast",
          "outlast",
          "outlast",
          "outlast",
          "outlast",
          "outlast",
          "outlast",
          "outlast",
          "battleblock theater",
          "path of exile",
          "papers please",
          "wasteland 2",
          "nuclear throne",
          "nuclear throne",
          "the forest",
          "the forest",
          "the forest",
          "the forest",
          "the forest",
          "the forest",
          "the forest",
          "the forest",
          "the forest",
          "the forest",
          "the forest",
          "the forest",
          "the forest",
          "the forest",
          "the forest",
          "the forest",
          "the forest",
          "the forest",
          "the forest",
          "the forest",
          "the forest",
          "the forest",
          "the forest",
          "the forest",
          "the forest",
          "the forest",
          "the forest",
          "the forest",
          "the forest",
          "the forest",
          "the forest",
          "the forest",
          "the forest",
          "the forest",
          "the forest",
          "the forest",
          "the forest",
          "the forest",
          "the forest",
          "the forest",
          "the forest",
          "the forest",
          "the forest",
          "the forest",
          "the forest",
          "the forest",
          "the forest",
          "the forest",
          "the forest",
          "the forest",
          "the forest",
          "trials fusion",
          "trials fusion",
          "trials fusion",
          "freedom planet",
          "dungeon of the endless",
          "the binding of isaac rebirth",
          "rocket league",
          "rocket league",
          "rocket league",
          "rocket league",
          "rocket league",
          "rocket league",
          "rocket league",
          "rocket league",
          "rocket league",
          "rocket league",
          "rocket league",
          "rocket league",
          "rocket league",
          "rocket league",
          "rocket league",
          "rocket league",
          "rocket league",
          "rocket league",
          "rocket league",
          "rocket league",
          "rocket league",
          "rocket league",
          "rocket league",
          "rocket league",
          "rocket league",
          "rocket league",
          "rocket league",
          "rocket league",
          "rocket league",
          "rocket league",
          "rocket league",
          "rocket league",
          "rocket league",
          "rocket league",
          "rocket league",
          "rocket league",
          "rocket league",
          "rocket league",
          "rocket league",
          "rocket league",
          "rocket league",
          "rocket league",
          "rocket league",
          "rocket league",
          "rocket league",
          "rocket league",
          "rocket league",
          "rocket league",
          "rocket league",
          "resident evil 4",
          "resident evil 4",
          "resident evil 4",
          "resident evil 4",
          "resident evil 4",
          "resident evil 4",
          "resident evil 4",
          "resident evil 4",
          "resident evil 4",
          "resident evil 4",
          "resident evil 4",
          "resident evil 4",
          "resident evil 4",
          "cities skylines",
          "cities skylines",
          "cities skylines",
          "cities skylines",
          "cities skylines",
          "cities skylines",
          "cities skylines",
          "cities skylines",
          "cities skylines",
          "cities skylines",
          "cities skylines",
          "cities skylines",
          "cities skylines",
          "cities skylines",
          "cities skylines",
          "cities skylines",
          "cities skylines",
          "cities skylines",
          "cities skylines",
          "cities skylines",
          "cities skylines",
          "cities skylines",
          "cities skylines",
          "cities skylines",
          "cities skylines",
          "cities skylines",
          "cities skylines",
          "cities skylines",
          "cities skylines",
          "cities skylines",
          "cities skylines",
          "cities skylines",
          "cities skylines",
          "hyper light drifter",
          "darkest dungeon",
          "darkest dungeon",
          "darkest dungeon",
          "darkest dungeon",
          "darkest dungeon",
          "darkest dungeon",
          "darkest dungeon",
          "darkest dungeon",
          "darkest dungeon",
          "darkest dungeon",
          "darkest dungeon",
          "darkest dungeon",
          "darkest dungeon",
          "darkest dungeon",
          "darkest dungeon",
          "darkest dungeon",
          "darkest dungeon",
          "darkest dungeon",
          "darkest dungeon",
          "darkest dungeon",
          "darkest dungeon",
          "darkest dungeon",
          "darkest dungeon",
          "darkest dungeon",
          "darkest dungeon",
          "darkest dungeon",
          "darkest dungeon",
          "darkest dungeon",
          "darkest dungeon",
          "darkest dungeon",
          "darkest dungeon",
          "darkest dungeon",
          "darkest dungeon",
          "darkest dungeon",
          "darkest dungeon",
          "darkest dungeon",
          "darkest dungeon",
          "darkest dungeon",
          "darkest dungeon",
          "darkest dungeon",
          "darkest dungeon",
          "darkest dungeon",
          "darkest dungeon",
          "darkest dungeon",
          "darkest dungeon",
          "darkest dungeon",
          "darkest dungeon",
          "darkest dungeon",
          "darkest dungeon",
          "darkest dungeon",
          "darkest dungeon",
          "darkest dungeon",
          "darkest dungeon",
          "darkest dungeon",
          "darkest dungeon",
          "subnautica",
          "subnautica",
          "subnautica",
          "subnautica",
          "subnautica",
          "subnautica",
          "subnautica",
          "subnautica",
          "subnautica",
          "subnautica",
          "subnautica",
          "subnautica",
          "subnautica",
          "subnautica",
          "subnautica",
          "subnautica",
          "subnautica",
          "subnautica",
          "subnautica",
          "subnautica",
          "subnautica",
          "subnautica",
          "subnautica",
          "subnautica",
          "subnautica",
          "subnautica",
          "subnautica",
          "subnautica",
          "subnautica",
          "subnautica",
          "subnautica",
          "subnautica",
          "subnautica",
          "subnautica",
          "subnautica",
          "subnautica",
          "subnautica",
          "subnautica",
          "subnautica",
          "subnautica",
          "subnautica",
          "subnautica",
          "subnautica",
          "subnautica",
          "subnautica",
          "subnautica",
          "subnautica",
          "subnautica",
          "hand of fate",
          "hand of fate",
          "cuphead",
          "cuphead",
          "cuphead",
          "cuphead",
          "cuphead",
          "cuphead",
          "cuphead",
          "cuphead",
          "cuphead",
          "cuphead",
          "cuphead",
          "cuphead",
          "cuphead",
          "cuphead",
          "darkwood",
          "darkwood",
          "darkwood",
          "stellaris",
          "stellaris",
          "stellaris",
          "stellaris",
          "stellaris",
          "stellaris",
          "stellaris",
          "stellaris",
          "stellaris",
          "this war of mine",
          "soma",
          "soma",
          "metro 2033",
          "metro 2033",
          "metro last light",
          "metro last light",
          "metro last light",
          "metro last light",
          "metro last light",
          "metal gearid v the phantom pain",
          "metal gearid v the phantom pain",
          "metal gearid v the phantom pain",
          "metal gearid v the phantom pain",
          "metal gearid v the phantom pain",
          "metal gearid v the phantom pain",
          "metal gearid v the phantom pain",
          "metal gearid v the phantom pain",
          "metal gearid v the phantom pain",
          "metal gearid v the phantom pain",
          "sid meiers civilization 6",
          "sid meiers civilization 6",
          "sid meiers civilization 6",
          "sid meiers civilization 6",
          "sid meiers civilization 6",
          "sid meiers civilization 6",
          "sid meiers civilization 6",
          "sid meiers civilization 6",
          "sid meiers civilization 6",
          "sid meiers civilization 6",
          "sid meiers civilization 6",
          "sid meiers civilization 6",
          "sid meiers civilization 6",
          "sid meiers civilization 6",
          "sid meiers civilization 6",
          "sid meiers civilization 6",
          "sid meiers civilization 6",
          "sid meiers civilization 6",
          "sid meiers civilization 6",
          "sid meiers civilization 6",
          "sid meiers civilization 6",
          "sid meiers civilization 6",
          "sid meiers civilization 6",
          "sid meiers civilization 6",
          "pillars of eternity",
          "pillars of eternity",
          "the witcher 3 wild hunt",
          "the witcher 3 wild hunt",
          "the witcher 3 wild hunt",
          "the witcher 3 wild hunt",
          "the witcher 3 wild hunt",
          "the witcher 3 wild hunt",
          "the witcher 3 wild hunt",
          "the witcher 3 wild hunt",
          "the witcher 3 wild hunt",
          "the witcher 3 wild hunt",
          "the witcher 3 wild hunt",
          "the witcher 3 wild hunt",
          "the witcher 3 wild hunt",
          "the witcher 3 wild hunt",
          "the witcher 3 wild hunt",
          "the witcher 3 wild hunt",
          "the witcher 3 wild hunt",
          "the witcher 3 wild hunt",
          "the witcher 3 wild hunt",
          "the witcher 3 wild hunt",
          "the witcher 3 wild hunt",
          "the witcher 3 wild hunt",
          "the witcher 3 wild hunt",
          "the witcher 3 wild hunt",
          "the witcher 3 wild hunt",
          "the witcher 3 wild hunt",
          "the witcher 3 wild hunt",
          "the witcher 3 wild hunt",
          "the witcher 3 wild hunt",
          "the witcher 3 wild hunt",
          "the witcher 3 wild hunt",
          "the witcher 3 wild hunt",
          "the witcher 3 wild hunt",
          "the witcher 3 wild hunt",
          "the witcher 3 wild hunt",
          "the witcher 3 wild hunt",
          "the witcher 3 wild hunt",
          "the witcher 3 wild hunt",
          "the witcher 3 wild hunt",
          "the witcher 3 wild hunt",
          "the witcher 3 wild hunt",
          "the witcher 3 wild hunt",
          "the witcher 3 wild hunt",
          "the witcher 3 wild hunt",
          "the witcher 3 wild hunt",
          "the witcher 3 wild hunt",
          "the witcher 3 wild hunt",
          "the witcher 3 wild hunt",
          "the witcher 3 wild hunt",
          "the witcher 3 wild hunt",
          "the witcher 3 wild hunt",
          "the witcher 3 wild hunt",
          "the witcher 3 wild hunt",
          "the witcher 3 wild hunt",
          "the witcher 3 wild hunt",
          "the witcher 3 wild hunt",
          "the witcher 3 wild hunt",
          "the witcher 3 wild hunt",
          "the witcher 3 wild hunt",
          "the witcher 3 wild hunt",
          "the witcher 3 wild hunt",
          "the witcher 3 wild hunt",
          "inside",
          "dirt rally",
          "enter the gungeon",
          "enter the gungeon",
          "enter the gungeon",
          "enter the gungeon",
          "enter the gungeon",
          "enter the gungeon",
          "enter the gungeon",
          "enter the gungeon",
          "enter the gungeon",
          "enter the gungeon",
          "enter the gungeon",
          "enter the gungeon",
          "enter the gungeon",
          "enter the gungeon",
          "enter the gungeon",
          "life is strange",
          "life is strange",
          "life is strange",
          "life is strange",
          "life is strange",
          "life is strange",
          "life is strange",
          "life is strange",
          "life is strange",
          "life is strange",
          "life is strange",
          "life is strange",
          "life is strange",
          "life is strange",
          "superhot",
          "superhot",
          "frostpunk",
          "frostpunk",
          "frostpunk",
          "frostpunk",
          "frostpunk",
          "frostpunk",
          "tales from the borderlands",
          "tom clancys rainbow six siege",
          "tom clancys rainbow six siege",
          "tom clancys rainbow six siege",
          "tom clancys rainbow six siege",
          "black mesa",
          "black mesa",
          "hollow knight",
          "hollow knight",
          "hollow knight",
          "hollow knight",
          "hollow knight",
          "hollow knight",
          "hollow knight",
          "hollow knight",
          "hollow knight",
          "hollow knight",
          "hollow knight",
          "hollow knight",
          "hollow knight",
          "hollow knight",
          "hollow knight",
          "hollow knight",
          "hollow knight",
          "hollow knight",
          "hollow knight",
          "hollow knight",
          "hollow knight",
          "hollow knight",
          "hollow knight",
          "hollow knight",
          "hollow knight",
          "hollow knight",
          "hollow knight",
          "hollow knight",
          "hollow knight",
          "hollow knight",
          "hollow knight",
          "hollow knight",
          "hollow knight",
          "hollow knight",
          "hollow knight",
          "hollow knight",
          "hollow knight",
          "divinity original sin",
          "divinity original sin",
          "divinity original sin",
          "dark souls 4",
          "dark souls 4",
          "dark souls 4",
          "dark souls 4",
          "dark souls 4",
          "dark souls 4",
          "dark souls 4",
          "dark souls 4",
          "dark souls 4",
          "dark souls 4",
          "dark souls 4",
          "dark souls 4",
          "dark souls 4",
          "dark souls 4",
          "dark souls 4",
          "dark souls 4",
          "dark souls 4",
          "dark souls 4",
          "dark souls 4",
          "dark souls 4",
          "dark souls 4",
          "dark souls 4",
          "dark souls 4",
          "dark souls 4",
          "dark souls 4",
          "dark souls 4",
          "dark souls 4",
          "dark souls 4",
          "dark souls 4",
          "dark souls 4",
          "dark souls 4",
          "dark souls 4",
          "dark souls 4",
          "dark souls 4",
          "dark souls 4",
          "dark souls 4",
          "dark souls 4",
          "dark souls 4",
          "dark souls 4",
          "dark souls 4",
          "dark souls 4",
          "dark souls 4",
          "dark souls 4",
          "dark souls 4",
          "dark souls 4",
          "dark souls 4",
          "dark souls 4",
          "dark souls 4",
          "dark souls 4",
          "dark souls 4",
          "dark souls 4",
          "dark souls 4",
          "dark souls 4",
          "dark souls 4",
          "dark souls 4",
          "dark souls 4",
          "dark souls 4",
          "dark souls 4",
          "dark souls 4",
          "dark souls 4",
          "dark souls 4",
          "final fantasy 9",
          "doom",
          "doom",
          "doom",
          "doom",
          "doom",
          "doom",
          "doom",
          "doom",
          "doom",
          "doom",
          "doom",
          "doom",
          "doom",
          "doom",
          "doom",
          "doom",
          "doom",
          "smite",
          "smite",
          "smite",
          "smite",
          "smite",
          "smite",
          "smite",
          "smite",
          "smite",
          "smite",
          "smite",
          "smite",
          "smite",
          "smite",
          "smite",
          "smite",
          "smite",
          "smite",
          "smite",
          "smite",
          "smite",
          "smite",
          "smite",
          "smite",
          "smite",
          "smite",
          "smite",
          "smite",
          "smite",
          "smite",
          "smite",
          "smite",
          "smite",
          "smite",
          "smite",
          "smite",
          "smite",
          "smite",
          "smite",
          "smite",
          "smite",
          "smite",
          "smite",
          "smite",
          "smite",
          "smite",
          "smite",
          "smite",
          "smite",
          "smite",
          "smite",
          "smite",
          "smite",
          "smite",
          "smite",
          "smite",
          "smite",
          "smite",
          "smite",
          "smite",
          "smite",
          "smite",
          "smite",
          "smite",
          "ori and the blind forest",
          "ori and the blind forest",
          "ori and the blind forest",
          "ori and the blind forest",
          "ori and the blind forest",
          "ori and the blind forest",
          "ori and the blind forest",
          "ori and the blind forest",
          "ori and the blind forest",
          "ori and the blind forest",
          "rise of the tomb raider",
          "rise of the tomb raider",
          "rise of the tomb raider",
          "rise of the tomb raider",
          "undertale",
          "undertale",
          "undertale",
          "undertale",
          "undertale",
          "undertale",
          "undertale",
          "undertale",
          "undertale",
          "undertale",
          "undertale",
          "undertale",
          "undertale",
          "undertale",
          "undertale",
          "atlas reactor",
          "atlas reactor",
          "stardew valley",
          "stardew valley",
          "stardew valley",
          "stardew valley",
          "stardew valley",
          "stardew valley",
          "stardew valley",
          "stardew valley",
          "stardew valley",
          "stardew valley",
          "stardew valley",
          "stardew valley",
          "stardew valley",
          "stardew valley",
          "stardew valley",
          "stardew valley",
          "stardew valley",
          "stardew valley",
          "stardew valley",
          "stardew valley",
          "stardew valley",
          "stardew valley",
          "stardew valley",
          "stardew valley",
          "stardew valley",
          "stardew valley",
          "stardew valley",
          "stardew valley",
          "stardew valley",
          "stardew valley",
          "stardew valley",
          "stardew valley",
          "stardew valley",
          "stardew valley",
          "stardew valley",
          "stardew valley",
          "stardew valley",
          "stardew valley",
          "stardew valley",
          "stardew valley",
          "stardew valley",
          "stardew valley",
          "stardew valley",
          "stardew valley",
          "stardew valley",
          "stardew valley",
          "stardew valley",
          "stardew valley",
          "stardew valley",
          "stardew valley",
          "stardew valley",
          "stardew valley",
          "stardew valley",
          "stardew valley",
          "stardew valley",
          "stardew valley",
          "danganronpa trigger happy havoc",
          "danganronpa trigger happy havoc",
          "devil daggers",
          "divinity original sin 2",
          "divinity original sin 2",
          "divinity original sin 2",
          "divinity original sin 2",
          "divinity original sin 2",
          "divinity original sin 2",
          "divinity original sin 2",
          "divinity original sin 2",
          "divinity original sin 2",
          "divinity original sin 2",
          "divinity original sin 2",
          "divinity original sin 2",
          "divinity original sin 2",
          "divinity original sin 2",
          "divinity original sin 2",
          "bayonetta",
          "night in the woods",
          "night in the woods",
          "arcanum of steamworks and magick obscura",
          "what remains of edith finch",
          "what remains of edith finch",
          "battlerite",
          "battlerite",
          "battlerite",
          "battlerite",
          "battlerite",
          "battlerite",
          "battlerite",
          "battlerite",
          "battlerite",
          "battlerite",
          "battlerite",
          "battlerite",
          "battlerite",
          "battlerite",
          "battlerite",
          "battlerite",
          "world of warships",
          "world of warships",
          "world of warships",
          "world of warships",
          "world of warships",
          "world of warships",
          "world of warships",
          "world of warships",
          "world of warships",
          "world of warships",
          "world of warships",
          "world of warships",
          "world of warships",
          "world of warships",
          "world of warships",
          "world of warships",
          "world of warships",
          "world of warships",
          "world of warships",
          "world of warships",
          "world of warships",
          "world of warships",
          "world of warships",
          "world of warships",
          "world of warships",
          "world of warships",
          "world of warships",
          "world of warships",
          "world of warships",
          "world of warships",
          "world of warships",
          "world of warships",
          "world of warships",
          "world of warships",
          "world of warships",
          "world of warships",
          "world of warships",
          "world of warships",
          "world of warships",
          "world of warships",
          "world of warships",
          "world of warships",
          "world of warships",
          "world of warships",
          "world of warships",
          "world of warships",
          "world of warships",
          "world of warships",
          "world of warships",
          "world of warships",
          "world of warships",
          "world of warships",
          "world of warships",
          "world of warships",
          "world of warships",
          "world of warships",
          "world of warships",
          "world of warships",
          "world of warships",
          "world of warships",
          "world of warships",
          "world of warships",
          "world of warships",
          "doki doki literature club",
          "doki doki literature club",
          "doki doki literature club",
          "doki doki literature club",
          "doki doki literature club",
          "doki doki literature club"
         ],
         "legendgroup": "1",
         "marker": {
          "color": [
           1,
           1,
           1,
           1,
           1,
           1,
           1,
           1,
           1,
           1,
           1,
           1,
           1,
           1,
           1,
           1,
           1,
           1,
           1,
           1,
           1,
           1,
           1,
           1,
           1,
           1,
           1,
           1,
           1,
           1,
           1,
           1,
           1,
           1,
           1,
           1,
           1,
           1,
           1,
           1,
           1,
           1,
           1,
           1,
           1,
           1,
           1,
           1,
           1,
           1,
           1,
           1,
           1,
           1,
           1,
           1,
           1,
           1,
           1,
           1,
           1,
           1,
           1,
           1,
           1,
           1,
           1,
           1,
           1,
           1,
           1,
           1,
           1,
           1,
           1,
           1,
           1,
           1,
           1,
           1,
           1,
           1,
           1,
           1,
           1,
           1,
           1,
           1,
           1,
           1,
           1,
           1,
           1,
           1,
           1,
           1,
           1,
           1,
           1,
           1,
           1,
           1,
           1,
           1,
           1,
           1,
           1,
           1,
           1,
           1,
           1,
           1,
           1,
           1,
           1,
           1,
           1,
           1,
           1,
           1,
           1,
           1,
           1,
           1,
           1,
           1,
           1,
           1,
           1,
           1,
           1,
           1,
           1,
           1,
           1,
           1,
           1,
           1,
           1,
           1,
           1,
           1,
           1,
           1,
           1,
           1,
           1,
           1,
           1,
           1,
           1,
           1,
           1,
           1,
           1,
           1,
           1,
           1,
           1,
           1,
           1,
           1,
           1,
           1,
           1,
           1,
           1,
           1,
           1,
           1,
           1,
           1,
           1,
           1,
           1,
           1,
           1,
           1,
           1,
           1,
           1,
           1,
           1,
           1,
           1,
           1,
           1,
           1,
           1,
           1,
           1,
           1,
           1,
           1,
           1,
           1,
           1,
           1,
           1,
           1,
           1,
           1,
           1,
           1,
           1,
           1,
           1,
           1,
           1,
           1,
           1,
           1,
           1,
           1,
           1,
           1,
           1,
           1,
           1,
           1,
           1,
           1,
           1,
           1,
           1,
           1,
           1,
           1,
           1,
           1,
           1,
           1,
           1,
           1,
           1,
           1,
           1,
           1,
           1,
           1,
           1,
           1,
           1,
           1,
           1,
           1,
           1,
           1,
           1,
           1,
           1,
           1,
           1,
           1,
           1,
           1,
           1,
           1,
           1,
           1,
           1,
           1,
           1,
           1,
           1,
           1,
           1,
           1,
           1,
           1,
           1,
           1,
           1,
           1,
           1,
           1,
           1,
           1,
           1,
           1,
           1,
           1,
           1,
           1,
           1,
           1,
           1,
           1,
           1,
           1,
           1,
           1,
           1,
           1,
           1,
           1,
           1,
           1,
           1,
           1,
           1,
           1,
           1,
           1,
           1,
           1,
           1,
           1,
           1,
           1,
           1,
           1,
           1,
           1,
           1,
           1,
           1,
           1,
           1,
           1,
           1,
           1,
           1,
           1,
           1,
           1,
           1,
           1,
           1,
           1,
           1,
           1,
           1,
           1,
           1,
           1,
           1,
           1,
           1,
           1,
           1,
           1,
           1,
           1,
           1,
           1,
           1,
           1,
           1,
           1,
           1,
           1,
           1,
           1,
           1,
           1,
           1,
           1,
           1,
           1,
           1,
           1,
           1,
           1,
           1,
           1,
           1,
           1,
           1,
           1,
           1,
           1,
           1,
           1,
           1,
           1,
           1,
           1,
           1,
           1,
           1,
           1,
           1,
           1,
           1,
           1,
           1,
           1,
           1,
           1,
           1,
           1,
           1,
           1,
           1,
           1,
           1,
           1,
           1,
           1,
           1,
           1,
           1,
           1,
           1,
           1,
           1,
           1,
           1,
           1,
           1,
           1,
           1,
           1,
           1,
           1,
           1,
           1,
           1,
           1,
           1,
           1,
           1,
           1,
           1,
           1,
           1,
           1,
           1,
           1,
           1,
           1,
           1,
           1,
           1,
           1,
           1,
           1,
           1,
           1,
           1,
           1,
           1,
           1,
           1,
           1,
           1,
           1,
           1,
           1,
           1,
           1,
           1,
           1,
           1,
           1,
           1,
           1,
           1,
           1,
           1,
           1,
           1,
           1,
           1,
           1,
           1,
           1,
           1,
           1,
           1,
           1,
           1,
           1,
           1,
           1,
           1,
           1,
           1,
           1,
           1,
           1,
           1,
           1,
           1,
           1,
           1,
           1,
           1,
           1,
           1,
           1,
           1,
           1,
           1,
           1,
           1,
           1,
           1,
           1,
           1,
           1,
           1,
           1,
           1,
           1,
           1,
           1,
           1,
           1,
           1,
           1,
           1,
           1,
           1,
           1,
           1,
           1,
           1,
           1,
           1,
           1,
           1,
           1,
           1,
           1,
           1,
           1,
           1,
           1,
           1,
           1,
           1,
           1,
           1,
           1,
           1,
           1,
           1,
           1,
           1,
           1,
           1,
           1,
           1,
           1,
           1,
           1,
           1,
           1,
           1,
           1,
           1,
           1,
           1,
           1,
           1,
           1,
           1,
           1,
           1,
           1,
           1,
           1,
           1,
           1,
           1,
           1,
           1,
           1,
           1,
           1,
           1,
           1,
           1,
           1,
           1,
           1,
           1,
           1,
           1,
           1,
           1,
           1,
           1,
           1,
           1,
           1,
           1,
           1,
           1,
           1,
           1,
           1,
           1,
           1,
           1,
           1,
           1,
           1,
           1,
           1,
           1,
           1,
           1,
           1,
           1,
           1,
           1,
           1,
           1,
           1,
           1,
           1,
           1,
           1,
           1,
           1,
           1,
           1,
           1,
           1,
           1,
           1,
           1,
           1,
           1,
           1,
           1,
           1,
           1,
           1,
           1,
           1,
           1,
           1,
           1,
           1,
           1,
           1,
           1,
           1,
           1,
           1,
           1,
           1,
           1,
           1,
           1,
           1,
           1,
           1,
           1,
           1,
           1,
           1,
           1,
           1,
           1,
           1,
           1,
           1,
           1,
           1,
           1,
           1,
           1,
           1,
           1,
           1,
           1,
           1,
           1,
           1,
           1,
           1,
           1,
           1,
           1,
           1,
           1,
           1,
           1,
           1,
           1,
           1,
           1,
           1,
           1,
           1,
           1,
           1,
           1,
           1,
           1,
           1,
           1,
           1,
           1,
           1,
           1,
           1,
           1,
           1,
           1,
           1,
           1,
           1,
           1,
           1,
           1,
           1,
           1,
           1,
           1,
           1,
           1,
           1,
           1,
           1,
           1,
           1,
           1,
           1,
           1,
           1,
           1,
           1,
           1,
           1,
           1,
           1,
           1,
           1,
           1,
           1,
           1,
           1,
           1,
           1,
           1,
           1,
           1,
           1,
           1,
           1,
           1,
           1,
           1,
           1,
           1,
           1,
           1,
           1,
           1,
           1,
           1,
           1,
           1,
           1,
           1,
           1,
           1,
           1,
           1,
           1,
           1,
           1,
           1,
           1,
           1,
           1,
           1,
           1,
           1,
           1,
           1,
           1,
           1,
           1,
           1,
           1,
           1,
           1,
           1,
           1,
           1,
           1,
           1,
           1,
           1,
           1,
           1,
           1,
           1,
           1,
           1,
           1,
           1,
           1,
           1,
           1,
           1,
           1,
           1,
           1,
           1,
           1,
           1,
           1,
           1,
           1,
           1,
           1,
           1,
           1,
           1,
           1,
           1,
           1,
           1,
           1,
           1,
           1,
           1,
           1,
           1,
           1,
           1,
           1,
           1,
           1,
           1,
           1,
           1,
           1,
           1,
           1,
           1,
           1,
           1,
           1,
           1,
           1,
           1,
           1,
           1,
           1,
           1,
           1,
           1,
           1,
           1,
           1,
           1,
           1,
           1,
           1,
           1,
           1,
           1,
           1,
           1,
           1,
           1,
           1,
           1,
           1,
           1,
           1,
           1,
           1,
           1,
           1,
           1,
           1,
           1,
           1,
           1,
           1,
           1,
           1,
           1,
           1,
           1,
           1,
           1,
           1,
           1,
           1,
           1,
           1,
           1,
           1,
           1,
           1,
           1,
           1,
           1,
           1,
           1,
           1,
           1,
           1,
           1,
           1,
           1,
           1,
           1,
           1,
           1,
           1,
           1,
           1,
           1,
           1,
           1,
           1,
           1,
           1,
           1,
           1,
           1,
           1,
           1,
           1,
           1,
           1,
           1,
           1,
           1,
           1,
           1,
           1,
           1,
           1,
           1,
           1,
           1,
           1,
           1,
           1,
           1,
           1,
           1,
           1,
           1,
           1,
           1,
           1,
           1,
           1,
           1,
           1,
           1,
           1,
           1,
           1,
           1,
           1,
           1,
           1,
           1,
           1,
           1,
           1,
           1,
           1,
           1,
           1,
           1,
           1,
           1,
           1,
           1,
           1,
           1,
           1,
           1,
           1,
           1,
           1,
           1,
           1,
           1,
           1,
           1,
           1,
           1,
           1,
           1,
           1,
           1,
           1,
           1,
           1,
           1,
           1,
           1,
           1,
           1,
           1,
           1,
           1,
           1,
           1,
           1,
           1,
           1,
           1,
           1,
           1,
           1,
           1,
           1,
           1,
           1,
           1,
           1,
           1,
           1,
           1,
           1,
           1,
           1,
           1,
           1,
           1,
           1,
           1,
           1,
           1,
           1,
           1,
           1,
           1,
           1,
           1,
           1,
           1,
           1,
           1,
           1,
           1,
           1,
           1,
           1,
           1,
           1,
           1,
           1,
           1,
           1,
           1,
           1,
           1,
           1,
           1,
           1,
           1,
           1,
           1,
           1,
           1,
           1,
           1,
           1,
           1,
           1,
           1,
           1,
           1,
           1,
           1,
           1,
           1,
           1,
           1,
           1,
           1,
           1,
           1,
           1,
           1,
           1,
           1,
           1,
           1,
           1,
           1,
           1,
           1,
           1,
           1,
           1,
           1,
           1,
           1,
           1,
           1,
           1,
           1,
           1,
           1,
           1,
           1,
           1,
           1,
           1,
           1,
           1,
           1,
           1,
           1,
           1,
           1,
           1,
           1,
           1,
           1,
           1,
           1,
           1,
           1,
           1,
           1,
           1,
           1,
           1,
           1,
           1,
           1,
           1,
           1,
           1,
           1,
           1,
           1
          ],
          "coloraxis": "coloraxis",
          "symbol": "x"
         },
         "mode": "markers",
         "name": "1",
         "scene": "scene",
         "showlegend": true,
         "type": "scatter3d",
         "x": [
          -1.859239891353569,
          -1.3047138449668723,
          -1.201191069202586,
          -0.9068230146728384,
          -1.0230476874125924,
          -1.0533254208837188,
          -0.8596187599368736,
          -1.1588035866646582,
          -1.517279000977308,
          -1.392072611038795,
          -1.7877416573008331,
          -1.477149465489955,
          -1.4990973998575758,
          -1.060216219056275,
          -0.8897671163505482,
          -1.0959225680393847,
          -0.05444235350914192,
          0.6881298198149962,
          -1.715967023206875,
          -1.3167460300582803,
          -1.7927808019936715,
          -1.6372981730253744,
          -1.2363852512218836,
          -1.0316836460098875,
          -1.3461254248560908,
          -1.3639145673075443,
          -1.5661446797460534,
          -1.5868561648217625,
          -1.3669301026103138,
          -1.764312244554981,
          -1.4288011946121326,
          -1.6754245101634873,
          -1.8370841702777636,
          -1.6265585183044147,
          -1.5503049813098837,
          -2.005656287499406,
          -1.3164816477358718,
          -1.623056759135453,
          -1.8717103560049475,
          -1.0022812902728069,
          -1.313491583531291,
          -1.3473124837458865,
          -1.3647263910289245,
          -1.4168391802783569,
          -1.5555747415060255,
          -1.4124024345839903,
          -1.6874926136013049,
          -1.8039282320039698,
          -1.7258107562597917,
          -1.6557272158039573,
          -1.8052569533598979,
          -1.6608387362079935,
          -1.6998670551307662,
          -1.6288680152383148,
          -1.6874846059874347,
          -1.8801986176616934,
          -1.7219513247534062,
          -1.5619869679820548,
          -1.6746963355253786,
          -1.5988502204367752,
          -1.827169266427958,
          -1.7957642627440673,
          -1.6661354478477037,
          -1.8054760637606297,
          -1.795575333033129,
          -1.7722095890813379,
          -1.8164748964599917,
          -1.7934904882117808,
          -1.7032189972161687,
          -1.7470595554897175,
          -1.7104288855044067,
          -1.5120198981315927,
          -1.602528171865722,
          -1.7242268091054982,
          -1.7078472071338946,
          -1.7284617647503648,
          -1.9103578826920702,
          -1.5046025371331437,
          -1.754343499306042,
          -1.9647168668187713,
          -1.9509812010151537,
          -1.993194284709816,
          -1.6847620557650502,
          -1.9721328252661998,
          -1.997877892070474,
          -1.9004786163201624,
          -1.760873802784381,
          -1.6072439941965657,
          -1.7450627853741014,
          -1.5432689173056178,
          -1.8043586221737078,
          -1.516331421830073,
          -1.4438923322932538,
          -1.5558695255255437,
          -1.1380735524163565,
          -1.5864499437240056,
          -1.4254844390722559,
          -1.2530925665699444,
          -1.4408077126978525,
          -1.4575583925782607,
          -1.6407889205204576,
          -1.298766330889838,
          -1.6835993708413852,
          -1.5295230954460963,
          -1.4279642921914062,
          -1.2773414394977365,
          -1.3808048749970883,
          -1.3402927201487522,
          -1.311467448725232,
          -1.1067334756915852,
          -1.2421187643116653,
          -1.3942131950412322,
          -1.2377956979586566,
          -1.333178950941689,
          -1.3056615115231205,
          -1.3498118354335227,
          -1.4611384933945912,
          -1.43594053094116,
          -1.505947473144537,
          -1.5299643157643834,
          -1.3957069753303524,
          -1.4349522536771924,
          -1.522247205958734,
          -1.5305462618484733,
          -1.5044302055901573,
          -1.2263220312035452,
          -1.4291057713859443,
          -1.2209372180164242,
          -1.5366440583906216,
          -1.2369932977250169,
          -1.325145927799468,
          -1.3806601889471177,
          -1.417813518516972,
          -0.696769518071103,
          -1.116583712578811,
          -1.1401530472200385,
          -1.1596912123188419,
          -1.0935525330175433,
          -1.1440201599132718,
          -1.161953510956624,
          -0.9789598322340245,
          -1.0929366100129791,
          -1.1121040161539424,
          -1.1411950838581575,
          -0.9507283878234599,
          -0.9401001014413066,
          -1.0423942875626844,
          -1.038620594753456,
          -1.0102301798888578,
          -0.8849030503216317,
          -1.0245756612101584,
          -0.9603420160858643,
          -1.018185775787384,
          -0.900841383316774,
          -1.0720782839084158,
          -0.8301934642317046,
          -0.6448467696309873,
          -0.7812519430942871,
          -0.9049218604441799,
          -0.9909498186152207,
          -0.9810853570085066,
          -0.9162851377749829,
          -1.0187048624525283,
          -0.7868962526704517,
          -0.7836274632147302,
          -0.7840261116434968,
          -0.7673410868181978,
          -0.7199557282970442,
          -0.6067518988787255,
          -0.6913044546637187,
          -0.8131709807313496,
          -0.7797786042115393,
          -0.9142761977786691,
          -1.0149215820297786,
          -0.9402551148905418,
          -0.7300545667496371,
          -0.7442660998514207,
          -0.8455273784485141,
          -0.7296528070626948,
          -0.7199229219558303,
          -0.45586810416936796,
          -0.6278185342456764,
          -0.7573403564415628,
          -0.7568158148113989,
          -0.4039434500364983,
          -0.4346625623234464,
          -0.658770415022079,
          -0.7445508401064113,
          -0.816370465362967,
          -0.8302609386046893,
          -0.8303855479951412,
          -0.5842695738897051,
          -0.4577521733383163,
          -0.4041260284405568,
          -0.35032889954023266,
          -0.4635320138431312,
          0.0740194352266602,
          -1.8059823091686922,
          -0.8883619099701991,
          -0.8508584277575947,
          -0.7633366829843777,
          -0.8483578025840223,
          -0.8528559881849156,
          -0.8388585278065915,
          -1.052375346745779,
          -0.8924616059966867,
          -0.9402412870162011,
          -0.870812404136819,
          -0.9382481991251826,
          -0.8951169457658803,
          -0.9868029499998484,
          -0.9076768412890012,
          -0.8093100261596273,
          -0.7315269050839257,
          -0.7651914451972041,
          -0.9276419634818818,
          -0.8236179492250272,
          -0.4058950683920306,
          -0.5413734667433394,
          -0.1707596561596734,
          -0.2143965413611064,
          -0.44630481683269213,
          -0.4536062801402666,
          -0.3411209335562589,
          -1.494883366764644,
          -1.1206498209275546,
          -1.3211003795761895,
          -1.4163415747889716,
          -1.2709328441739718,
          -1.3436183800149215,
          -1.5840874287339246,
          -1.3640196634893473,
          -1.1454359849146338,
          -1.532069114387841,
          -1.2812432239208922,
          -1.527039112395714,
          -1.5104386719863674,
          -1.4586568996774538,
          -0.9795783675147103,
          -1.4404170392091145,
          -0.7687643417306614,
          -1.1179872683496128,
          -1.167935001903836,
          -1.1004017268109056,
          -1.1967727084914517,
          -1.1368180116237507,
          -1.381467275451964,
          -1.1601416299491671,
          -1.3995654783519926,
          -1.2297304212284716,
          -1.251125393216273,
          -1.3962958159783152,
          -1.3684808319296897,
          -1.1943102423264886,
          -1.167406825485985,
          -1.1532622556117145,
          -1.2558914962002121,
          -1.3492312630302135,
          -1.3042675684507217,
          -1.357458504118545,
          -1.2748663736169314,
          -1.15035166635229,
          -1.2397261351860642,
          -1.3456033606014701,
          -1.40958770564121,
          -1.1872884946647928,
          -1.308120973693286,
          -1.2864482368539387,
          -1.4128838454472652,
          -1.0204592226782305,
          -1.0995312513335955,
          -1.1889283274987357,
          -1.2911045601727194,
          -1.3468356619299426,
          -1.30354198403355,
          -1.2050817867530577,
          -1.3125758096531075,
          -1.3225713645058728,
          -1.351216878290859,
          -1.2720848595566092,
          -1.2015291199680045,
          -1.1115632632518102,
          -1.259653218689152,
          -1.1843379231715896,
          -1.1940221758091438,
          -1.143696124040692,
          -1.226168972964582,
          -0.9873846795827625,
          -1.297223660612961,
          -1.3821738584012637,
          -1.5690826540878522,
          -1.6682083510183472,
          -1.7450229413831284,
          -1.5341728116719329,
          -1.5030048171341057,
          -1.6864750836173215,
          -1.7021750601348424,
          -1.7686840715971797,
          -1.3706812573819873,
          -1.6405244092520743,
          -1.3717950325096406,
          -1.5562029446218084,
          -1.7486419183483914,
          -1.7720762698038297,
          -1.465339981914367,
          -1.5999018816651982,
          -1.5519176336810754,
          -1.553329295667094,
          -1.710738796488912,
          -1.7279915352064235,
          -1.6269380019880166,
          -1.5422096671173624,
          -1.574770844293432,
          -1.288760330234235,
          -1.4314344394775191,
          -1.1995694151496414,
          1.2632752710637092,
          -1.4628027736586942,
          -1.567215792503716,
          -1.457338564334202,
          -1.7826788020018942,
          -1.2763374882495855,
          -1.478518193067831,
          -1.4512009150762488,
          -1.4044049852086196,
          -1.2204526244908263,
          -1.316664439494784,
          -1.4275586386910815,
          -1.0762253118578222,
          -0.6736199053625317,
          -1.1831365229966608,
          -1.1664793856654703,
          -1.3008115267060139,
          -1.4064262746277452,
          -1.3679213213097972,
          -1.266119184578064,
          -1.3897107791117527,
          -1.2544388960083808,
          -1.343010275000312,
          -0.3418043647600765,
          -0.864509038744935,
          -0.8198237934008422,
          -1.2483624278476921,
          -1.3704006488543545,
          -1.3738177405792795,
          -1.0214347158430075,
          -0.7513914677122845,
          -0.5384851662050161,
          -1.0836804757741192,
          -1.2044433497727542,
          -1.0891235362587286,
          -0.9253134450387944,
          -1.2594328667004357,
          -1.129329818096412,
          -1.2336128203931245,
          -1.2301437925525882,
          -1.2020754023513922,
          -0.8347926148497923,
          -0.9061961205509191,
          -0.8291742989421251,
          -0.9950746951303735,
          -0.6442649920007246,
          -0.767915419801925,
          -0.5813847493528825,
          -1.0504075497941656,
          -0.884125491698833,
          -0.7426633081711538,
          -0.48258953175684466,
          0.09246509279245159,
          -0.4070225977099651,
          -0.7834498613493978,
          -0.5475038104241389,
          -1.3690012550127013,
          -1.830685032720565,
          -1.8713109581130234,
          -1.532024699095261,
          -1.8317649555520295,
          -0.9743942662320577,
          0.24904634826901637,
          0.3842021599547347,
          0.36446563077418137,
          0.3784970470453407,
          0.20958257317910442,
          0.11054306655664038,
          -0.02165756591419826,
          0.22271770751066441,
          0.16120739820515376,
          -0.018780712377367562,
          -0.07651644769110003,
          -0.014093583497443874,
          0.31977275543697226,
          0.26029339729305556,
          0.3302594651982119,
          0.2286456032558213,
          0.26866778798351876,
          0.8003607807415,
          0.418440422679438,
          0.4350584573702365,
          0.568887179717826,
          0.52327108868816,
          0.7095485421274605,
          0.39731901908922684,
          0.631241095369209,
          0.5012186963809421,
          0.9716922672066173,
          1.0024831727382155,
          0.6247358134161148,
          1.0583395846404573,
          0.9108040775949088,
          0.8922899293950297,
          1.117553601935899,
          0.9224751676568231,
          1.148879307956753,
          0.8904591194605078,
          1.1185973835832588,
          0.9595337428426226,
          0.9568647056763682,
          1.1548953551232426,
          1.3424284049220419,
          1.5098238883358832,
          1.038986942265936,
          0.9436056932648541,
          0.9019282750377134,
          1.2215564864437574,
          1.0632066260934252,
          1.8013159305992243,
          1.6258476281991483,
          -1.7738971837435948,
          -1.6872057473298363,
          -1.3970934116002922,
          -1.7901792255654183,
          -1.7386141314554138,
          -1.5882598075579266,
          -1.6554356118346314,
          -1.7983074098625917,
          -1.1708372833626959,
          -1.4142214696336481,
          -1.6761528145543563,
          -1.642773956230459,
          -1.1044792441378672,
          -1.711963520786792,
          -1.2389284641355212,
          -1.5495188430689222,
          -1.2943988723417008,
          -1.2964453195568302,
          -1.4745294973407945,
          -1.6651997809007122,
          -1.5675895113136842,
          -1.470915553516202,
          -1.5925067806923323,
          -1.5874979742842625,
          -1.2565837982719221,
          -1.1714478302671143,
          -1.5197418309420225,
          -1.6192157961180509,
          -1.5155469681028717,
          -1.4041288675732442,
          -1.5379964607449723,
          -1.3495686454681481,
          -1.5425884745601433,
          -1.350359468552366,
          -1.1766820269287834,
          -1.4639477842846635,
          -1.5560208074510389,
          -1.3334017260998607,
          -1.5488160172129095,
          -1.5027179824159407,
          -1.5445667957382427,
          -1.315748688820447,
          -1.4232904091537917,
          -1.519344709598449,
          -1.2990201915133273,
          -1.242249964412,
          -1.521019264692622,
          -1.00241154709355,
          -1.112396042652798,
          -1.5055318937582738,
          -1.8284746852784408,
          -1.7420258515912674,
          -1.672486764035862,
          -1.646953441266574,
          -1.6247700470504183,
          -1.6368496374037658,
          -1.3832919391038057,
          -1.358870696653369,
          -1.3783640896062022,
          -1.5060502036880061,
          -1.5103137624591916,
          -0.7709300901195159,
          -0.9193163617207527,
          -1.5043016959388558,
          -1.654534457898062,
          -1.741226957714789,
          -1.5122184520384394,
          -1.4746271155177655,
          -1.5146046868797352,
          -1.5211396602541707,
          -1.757513628029734,
          -1.2598654108019185,
          -1.4219926305768635,
          -0.8892183402565551,
          -0.9562303980572584,
          -1.3749594398663985,
          -1.6411935920380931,
          -1.6869001273700164,
          -1.5614124737985626,
          -1.5610958462680704,
          -1.2101341259742417,
          -1.433685685402544,
          -1.3673075399476025,
          -1.6602512958636206,
          -1.5727695541175644,
          -1.3754224239860946,
          -1.3608494495678485,
          -1.5842629242706407,
          -1.405259729104438,
          -1.4021380596574746,
          -1.7805557157426235,
          -1.6325736651342069,
          -1.680522154748643,
          -1.6625837753574237,
          -1.5947652735626705,
          -1.3968188367351841,
          -1.502850537608553,
          -1.1716482638407273,
          -1.4035761172539538,
          -1.60629099517549,
          -1.2492397873949121,
          -1.411931775333369,
          -1.6429013382003381,
          -1.837747294496724,
          -1.5397433644385237,
          -1.3087540782733234,
          -1.263700143986677,
          -1.2984401973550799,
          -1.4034710353993936,
          -1.4807708989445403,
          -1.5946842627002,
          -1.2694776900287177,
          -1.4037198407143794,
          -1.6984448258185871,
          -1.7075889534015762,
          -1.3393281850875898,
          -1.488604971943086,
          -1.7451983358370604,
          -1.5941377499926215,
          -0.2867998740757348,
          -0.33988063741846786,
          -1.02712727649962,
          -1.404231691759956,
          -1.6635198577501578,
          -1.5073151099879787,
          -1.466635463577305,
          -1.679024013506099,
          -1.6948123596997369,
          -0.7137160770562208,
          -0.5275345855109889,
          -0.8979627192127096,
          -1.0275367581784665,
          -1.295993982782953,
          -1.2122623964909347,
          -1.6418412943971659,
          -1.5552129764144451,
          -1.5237248487220234,
          -0.9584403778249972,
          -1.2574103179729679,
          -0.9323458498133663,
          -1.0462830016854152,
          -1.3527272626435956,
          -1.4460887148913675,
          -1.2023697841993684,
          -1.4512072602295825,
          -1.3250181426026844,
          -1.0805787716025634,
          -1.316434897085054,
          -0.6305829977045079,
          -0.38929538421386056,
          -1.7846283898131803,
          -1.8980749745013303,
          -0.6097255984432032,
          0.20115159774714067,
          -1.2611876193649263,
          -1.4540405435142945,
          -1.5448772842176066,
          -1.2126623544721913,
          -1.7306498369151035,
          -0.9987152079371873,
          -1.5470026152063887,
          -1.528905422749732,
          -1.1258153136430546,
          -1.1368556411231736,
          -1.5024162842087145,
          -1.3229682607705642,
          -1.686738239918501,
          -1.5134923578999109,
          -1.5602307590753228,
          -1.1079151002475391,
          -1.4995828538995122,
          -1.8789413439711669,
          -1.7761089423989997,
          -1.4826159394729952,
          -1.6361805378271348,
          -1.4960031851749676,
          -1.7079678956720223,
          -1.5038250868934762,
          -1.7741734318158804,
          -1.6568431019313916,
          -1.7640153936262124,
          -1.8594727043227062,
          -1.5400071496529617,
          -1.8975512261225753,
          -2.0304859748488004,
          -1.8956669521558744,
          -1.8606200603760912,
          -1.4265145221862425,
          -1.1304610819359258,
          -1.1951420962785129,
          -1.5108481780479739,
          -1.4745356435644275,
          -1.463677283248474,
          -1.404932728410372,
          -1.521021100017763,
          -1.5441991228391432,
          -1.554273741461353,
          -1.3607435127813907,
          -1.4591341639282869,
          -0.6756052559849013,
          -1.0342851355624383,
          -1.2572726003556152,
          -1.6447345075207074,
          -1.47953242756917,
          -1.1375208161251515,
          -1.3810593350661942,
          -0.7462129247000089,
          -1.1970452467972288,
          -1.4165771955638775,
          -1.5005906056036586,
          -1.4919050106994491,
          -1.4837766194315063,
          -1.191637161023719,
          -0.6597108732436967,
          -1.0086360762604676,
          -1.0953894377106324,
          -0.8929507259350249,
          -1.3097847612806002,
          -1.4586034412387276,
          -1.4545014987074218,
          -1.3078090552441917,
          -1.3547470247640478,
          -1.3577109072075157,
          -1.6531609095073694,
          -0.7561134475126716,
          -0.9601477791576306,
          -0.9325915794969202,
          -0.2852386505721211,
          -0.08289127524811044,
          -0.7111816387263054,
          -0.8864228874950818,
          -0.7866452967484368,
          -0.9531113244046312,
          -0.9869312245396223,
          -0.8892093825985962,
          -0.573104413638371,
          -0.593528632598298,
          -0.6500571222805114,
          -0.7173661429470142,
          -0.8386864231551848,
          -0.5438192552942196,
          -0.732569012229733,
          -0.9363569171466488,
          -0.9102734844816184,
          -1.028565563589085,
          -0.9537651277908132,
          -0.6638535926638413,
          -0.5232047139978356,
          -0.5240134846362327,
          -0.8015866816458421,
          -0.8042982517402154,
          -0.7202253869603136,
          -0.4239350208812878,
          -0.48044942012546793,
          -0.7035987947468785,
          -0.6543498851393874,
          -0.8006443751549175,
          -0.9525235518703964,
          -1.0547040462605193,
          -0.6343178453905536,
          -0.8062763641841554,
          -0.7452689131638486,
          -0.829585129565809,
          -0.7507874968101413,
          -0.7346250338940447,
          -0.38693776917661854,
          -0.6151919200462478,
          -0.8452000880349682,
          -0.9675412063294103,
          -0.8821587458268737,
          -0.07504185468982542,
          0.697805644848984,
          -0.11707975194473033,
          -0.37959864063327226,
          -0.35514242654724193,
          -0.44712953863603255,
          -0.4759008296420087,
          -0.7151637351722939,
          -0.34429133578264176,
          -0.3103063296847535,
          -0.5779177813251386,
          -0.6533339710697765,
          -0.7088482868308907,
          -0.6773896632886786,
          -0.8106716731209342,
          -0.7368802509573684,
          -1.2688846383659935,
          -1.9120193737520537,
          -0.8417913392451126,
          -1.275868300574356,
          -1.5568589853532304,
          -1.5449346424834967,
          -1.429312183478617,
          -1.8052990240168938,
          -1.1754565667816663,
          -0.8406166442011642,
          -1.0140728436366855,
          -1.3414811787568413,
          -1.5452074373853002,
          -1.749283573128816,
          -0.9442934961710714,
          -1.4089169954253051,
          -1.4476712895752266,
          -1.6602379309562307,
          -1.397811535778247,
          -1.7139936439775938,
          -1.6880149758679348,
          -1.6893822687478188,
          -1.4815671529874141,
          -1.286443390290606,
          -1.6284578312782354,
          -1.7514252176864624,
          -1.3969190209638924,
          -1.6454295776695878,
          -1.3683533015175013,
          -1.4974024011016942,
          -1.5614268162730969,
          -1.42814260012697,
          -1.9479307856703314,
          -0.7975731028083975,
          -1.1782239139583774,
          -1.5499302476911516,
          -1.7842443588626602,
          -1.8052198126003758,
          -1.4516760089924865,
          -1.6861657639300134,
          0.9664826356604022,
          0.7960446898048424,
          0.3725641181384003,
          0.31541246154930813,
          -1.7674887211460009,
          -1.2237440787441418,
          -1.4349143718829307,
          -1.3058129449181943,
          -1.7902436397515737,
          -1.6320294550893408,
          -1.1020448920487587,
          -1.7269514480072445,
          -1.7255830448006697,
          -1.1259317395640038,
          -1.5678684381662467,
          -1.4975817612520315,
          -1.4854194304980612,
          -1.388925723427352,
          -1.6046051463608275,
          -1.6920301067506986,
          -1.7529866186221694,
          -0.9372714649113909,
          -1.2787063455164964,
          -1.4665066545289205,
          -1.421502320030975,
          -1.4861714282488474,
          -1.6915247345420787,
          -1.6952423463895085,
          -1.2982475570162983,
          -1.41487669905837,
          -1.4532230495892888,
          -1.3015159912689314,
          -1.4576425899415872,
          -1.3911640095193585,
          -1.192986229334552,
          -1.1399110978039733,
          -1.487291326603222,
          -0.9953805356136565,
          -1.0389942842116031,
          -0.9492050693735136,
          -1.14345737730863,
          -0.9516183318762855,
          -1.1145950819934165,
          -2.043485377560437,
          -1.6322481174338979,
          -1.6769426121781994,
          -0.21851214543412384,
          1.2328322923379793,
          -0.31375562937277107,
          -0.6417606794251569,
          -0.800592310511779,
          -0.754216174047595,
          0.006395939867414084,
          -0.5953118143022076,
          -0.8636194143734528,
          0.10770663606517067,
          -0.7185234307757405,
          0.12366235463305854,
          -0.09438645854468826,
          -0.5836989864903165,
          -0.7455286778580931,
          -0.23182058877994585,
          -0.7279612668186453,
          -0.7842261133305154,
          -0.9563383524744831,
          -0.9293295315760416,
          -0.64689049396715,
          0.06833643914725324,
          -0.5080573115062859,
          -0.5800984018272978,
          -0.6652596261928787,
          -0.728488982456743,
          -0.7397623691556346,
          -0.6190801603280901,
          -0.8573823954002849,
          -0.9275389784493318,
          -0.7657872827907595,
          -0.8300964538274898,
          -0.6359987225127077,
          0.34794407061702526,
          -0.6196105082640933,
          -0.6075142954600008,
          -0.8624878484384927,
          -0.839598772296034,
          -0.8699409171347743,
          -0.8337295718120118,
          -0.8556761668805324,
          -0.9243396153036194,
          -0.874174386852444,
          -1.0349274857935273,
          -0.8173538038037381,
          -0.5709103595683225,
          -0.5249008578761082,
          -0.6523482133841525,
          -0.2829757515858436,
          -0.04108776889403618,
          -0.26813549103990664,
          -0.10059820504319578,
          -0.41941873088328413,
          -0.5017701779952193,
          -0.6338128458824056,
          -0.4325984911991118,
          -0.37759806079764247,
          -0.16555536774029608,
          -0.23147473361967744,
          -0.2428088218690973,
          -0.017082476504093294,
          -0.8806723224509466,
          -1.034070682937927,
          0.4614422621360786,
          -1.1666353277255033,
          -1.641743795567881,
          -1.6068084938886733,
          -1.6876836627980212,
          -1.461668716564959,
          -1.6048336253603028,
          -1.702927320515097,
          -1.677575203162531,
          -1.776318607560051,
          -0.9715664152935269,
          -1.3511397712029631,
          -1.639860805555341,
          -0.8663170167330255,
          -1.4497559061237029,
          -0.985142799476391,
          -0.2832178985254269,
          -0.4294017095190607,
          -0.22846970466355715,
          -0.14227452685383687,
          -0.27119924480344004,
          -0.3823108765740766,
          -0.4667238945144166,
          -0.447020985259061,
          -0.5348403544181097,
          -0.5057314565266218,
          -0.523678263517987,
          -0.6624237040072679,
          0.1273562136103024,
          -0.2399064124154119,
          -0.36717251882135254,
          -0.3334653941861692,
          -0.4116999631932222,
          -0.49624017025713874,
          -0.4308765793394424,
          -0.501038576282775,
          -0.6044801266125239,
          -0.6165779716857883,
          -0.4506899918222095,
          -0.620835718074834,
          -0.12199632333083497,
          -0.2834274567089475,
          -0.49291708529568307,
          -0.499076022886432,
          -0.5213756972384825,
          -0.6477652128117501,
          -0.549846499355505,
          -0.5145714881283394,
          -0.6389209377240949,
          -0.6820045261431276,
          -0.5584283247248102,
          -0.6171868636220741,
          -0.4368234010472254,
          -0.534189604744654,
          -0.44074606695338103,
          -0.4454158994163916,
          -0.4856701235615433,
          -0.5977803436816093,
          -0.5941917739063194,
          -0.6608220151262851,
          -0.703178194580614,
          -0.7005154566518741,
          -0.48843042631926464,
          -0.659675264309983,
          -0.4686950610454221,
          -0.3742732369530253,
          -0.34749568373971407,
          -0.11417403567062825,
          -0.02866500651635311,
          -0.09841018229279602,
          0.15702177763058298,
          0.12793018252046745,
          -0.05676861118914085,
          -0.0704080078562431,
          -0.03324233230227931,
          -0.11838530976221906,
          0.6996616724843934,
          0.4694601955859836,
          0.3619656414912887,
          0.25877863739853496,
          -1.468151404204002,
          -1.7719006813210498,
          -1.9112930988988024,
          -1.472922512420104,
          -1.3396953272015646,
          -1.4699283553250777,
          -1.7736776324421268,
          -1.9130700500198792,
          -1.4746994635411799,
          -1.3414722783226412,
          -1.3231551554286116,
          -1.8902584771476878,
          -1.7122345019433676,
          -1.531916093884139,
          -1.390036449069862,
          -1.6420611009885309,
          -1.6510403313400175,
          -1.8028072875046233,
          -1.8076841438886502,
          -1.807517872327991,
          -1.8130429763657483,
          -1.9150676531358384,
          -0.7877179502846396,
          -1.5704646208053625,
          -1.7526079123384215,
          -1.7957213728420924,
          -1.3659704001823851,
          -1.6304827277212541,
          -0.950789451917875,
          -1.8134454164084166,
          -1.6960112042129103,
          -1.0777380326865116,
          -0.2706233867001517,
          -1.0651310484436471,
          -1.2894157578187566,
          -1.45939671535133,
          -1.1737702431943786,
          -1.378213595273535,
          -1.4011329992727832,
          -1.1755433601075522,
          -1.1723406898903255,
          -1.3829577903918289,
          -1.5166489978509115,
          -1.5287870411525104,
          -1.476789862085914,
          -1.3356233710906733,
          -1.4821483595953437,
          -1.3183541223227089,
          -1.2831603070325077,
          -1.217226988420415,
          -1.4164559519281175,
          -1.2451050215434643,
          -1.3066760628236431,
          -1.3356515742184765,
          -1.0244064703324456,
          -0.3416776282522292,
          -1.0248373676822875,
          -1.197061005166943,
          -1.188320925136912,
          -1.408444429758391,
          -1.5248205192455746,
          -1.595716310452879,
          -1.569220062987078,
          -1.3695749459161808,
          -1.1099870035822412,
          -1.0785880813545552,
          -1.0978296052839895,
          -1.2240898146974264,
          -1.220591972246061,
          -1.2730989840386415,
          -1.4502602436768948,
          -1.313459631212023,
          -1.3337962324592678,
          -1.1538770830566718,
          -0.797069430661719,
          -0.8321945498194708,
          -0.8148689856747506,
          -0.8192111876958867,
          -1.1703574612179457,
          -1.3572528275602889,
          -1.3423036144647262,
          -1.1066206684699655,
          -0.30586729936854246,
          0.6241867050379071,
          0.0652568986813406,
          0.13435998810046335,
          -0.4506650383938063,
          -1.8558285240868269,
          -1.4207417574938215,
          -1.701469570145028,
          -1.6987538732775227,
          -0.5619123529433486,
          -1.0900317127403454,
          -1.6830893078802045,
          -1.5106859216685644,
          -1.6494336765719784,
          -1.2964970140416086,
          -1.5203903208153946,
          -1.6666920594443755,
          -1.6701390184506175,
          -1.2524378644319965,
          -1.2723618797613836,
          -1.4438422555118426,
          -1.2835187005082471,
          -1.200169611716138,
          -1.489606752077454,
          -1.8615036384191046,
          -1.7703043208921998,
          -1.8796260037312478,
          -1.9196424903654206,
          -1.7745867292434998,
          -1.070583745919802,
          -1.0492062306147099,
          -1.3947318609434372,
          -1.347053433676609,
          -1.7387162561996665,
          -1.6710604583564088,
          -1.714462960974731,
          -1.522426256021341,
          -1.8269336921056503,
          -0.6317946380931672,
          -1.0868725930199743,
          -1.3285443673152104,
          -1.721292113075659,
          -1.1169912611749133,
          -1.473602851279756,
          -1.4743352175045128,
          -1.43424981119794,
          -1.490082176567441,
          -1.3564814273445571,
          -1.4009993046428826,
          -1.4375272950449067,
          -1.4937658787676824,
          -1.3826880864815252,
          -1.3641131892692988,
          -1.4007500977908036,
          -1.4341098314114207,
          -1.4274333373744783,
          -1.2974813429155554,
          -1.3466149619044767,
          -1.3665843085901737,
          -1.3206540285624115,
          -1.3789839139232816,
          -1.4017511067130675,
          -1.438320306988729,
          -1.4378259770180266,
          -1.3774083111220818,
          -1.4085232236015048,
          -1.4513310134867308,
          -1.425441124779902,
          -1.3295248743678307,
          -1.3327698745296683,
          -1.3139321839968103,
          -1.3508323180816022,
          -1.2871226326324932,
          -1.3860767110287053,
          -1.3658462580771453,
          -1.3488693526019013,
          -1.2955144208400258,
          -1.3837946214694794,
          -1.3339433400011422,
          -1.13910581810574,
          -1.0569170284573504,
          -1.0995516628984074,
          -1.1052787170400051,
          -1.0398097674341662,
          -1.1635106955804901,
          -1.1355918693866969,
          -1.0762737832805784,
          -1.0629703035458364,
          -1.0527500764607873,
          -1.028113421756993,
          -1.093308169612082,
          -1.019543885792383,
          -0.9863033169329484,
          -0.9660136219098804,
          -0.9645269143448639,
          -0.8137278535944987,
          -0.8678144727906425,
          -0.9398498901410509,
          -0.9157092218795234,
          -0.9201678183013393,
          -0.8752260162286141,
          -0.8771809193347655,
          -0.9769830543173955,
          -0.768602081827299,
          -0.8351027091068084,
          -0.8781806928101419,
          -0.9000383967382272,
          -0.9696507463597127,
          -1.6835709581107117,
          -1.7128578884464796,
          -1.4803421125259757,
          -1.2458492395814147,
          -1.7094364116847842,
          -1.8683102494181425
         ],
         "y": [
          1.2689390630803734,
          1.044147615281248,
          1.0214192881473279,
          0.9382463400720463,
          0.8856693034994513,
          0.8796009858521342,
          0.7672184472138229,
          0.35210629607706295,
          0.46316412008419683,
          0.4109015611511241,
          0.27275959407184164,
          0.5739933623665529,
          0.3270315060351634,
          1.283379384122371,
          1.19300578072108,
          1.2456802592357383,
          1.3023365205214024,
          1.2795671440257361,
          1.1682624668211978,
          1.0528452468611056,
          1.189415095288803,
          0.9906187532569635,
          0.8714604148118139,
          -0.2524728310964306,
          0.9606227454967722,
          0.8687586622153657,
          0.9575206786910483,
          -0.27420205817259286,
          -0.284573844834609,
          0.9154345652125714,
          0.4954735530527481,
          0.39557186011137985,
          0.4641481610677887,
          0.38238559499958935,
          0.44957604188009426,
          0.8096690648548658,
          0.7377649777678927,
          0.2901829506606238,
          0.35264444261501077,
          -0.1200658304145508,
          -0.034020300903458874,
          -0.039501398389270366,
          -0.04501857506461988,
          -0.027547569372577532,
          0.018365495543480326,
          -0.07522605313413377,
          1.112765690261117,
          1.1424718484557028,
          1.1148958291186688,
          1.093525168984606,
          1.1468045414059993,
          1.0964407456653686,
          1.105258495076241,
          1.0874831807116239,
          1.105257869334735,
          1.178493383243027,
          1.0711193039350628,
          1.0189337176061373,
          1.05347116450014,
          1.037159361684072,
          1.1062192341157662,
          1.0989595290954262,
          1.0572714845789095,
          1.1058690561176678,
          1.102176605515232,
          1.0462646204418722,
          1.067448516182467,
          1.065406685345809,
          0.9847968218003524,
          1.0010304784429964,
          0.9858174147154672,
          0.8947547675158147,
          0.5468675761961501,
          0.5535124733711657,
          0.55914129896149,
          0.5635442873016142,
          0.5879928261103289,
          0.45492191819952055,
          0.07223955455386386,
          0.14253584379468076,
          0.13038692085374187,
          0.14183690178636876,
          0.045529118348076734,
          0.13448732045673917,
          0.14579740072176955,
          0.06562086739154527,
          0.032296404004411125,
          -0.01711062680673966,
          -0.026300193703523825,
          -0.10683947702630153,
          -0.09031098761918654,
          -0.17155756269700012,
          -0.1771456997118257,
          -0.08763740409292892,
          -0.2718789059017598,
          -0.13784384665705518,
          0.6185047210592601,
          1.0623193278650485,
          1.09783111582619,
          0.2074170688966577,
          0.2628505717986452,
          0.10441996060338825,
          0.22428310954080022,
          0.1464609493278224,
          0.06886397678008258,
          0.011000874524847116,
          0.2731946617485676,
          0.2563738230244484,
          0.24582209271341454,
          0.220362638772118,
          0.22456599593371607,
          0.26829705858983705,
          0.22342174593358913,
          0.2506145120679402,
          0.23992843466252808,
          0.25657163184954396,
          0.2922879186434409,
          0.2931128738471561,
          0.2673163072721086,
          0.2776402294059894,
          0.2291920073021562,
          0.2431920635806595,
          0.2695497162840855,
          0.27193810957840386,
          0.23031728002990298,
          0.12854260383654922,
          0.19776672053767858,
          0.14267838281829484,
          0.18849186735453125,
          0.09484832634756586,
          0.14834950021255613,
          0.14085705312107055,
          0.15112770329851963,
          0.5718778560558303,
          0.6587557555015127,
          0.6666600269642391,
          0.6704881568208942,
          0.64562015849113,
          0.6696231519887615,
          0.6758338352190597,
          0.6400019369705634,
          0.6484487916589601,
          0.6555664856714074,
          0.6681830884113619,
          0.6265651795257735,
          0.5656920510991567,
          0.5893771860170284,
          0.5951050281590746,
          0.6055800203746967,
          0.5522022306851081,
          0.585187635035816,
          0.5746354591209412,
          0.5971355522742096,
          0.5587792078436257,
          0.6008782691907483,
          0.570277204288468,
          0.5085049241935033,
          0.4754790315720115,
          0.5138240475741261,
          0.5359122765596471,
          0.5358825036479894,
          0.5228646642146053,
          0.5479514954858019,
          0.5064697715980997,
          0.5004238838243292,
          0.499877230303103,
          0.494978024723773,
          0.484176486155758,
          0.4632418732151878,
          0.4346320815398056,
          0.43867112705516015,
          0.43964058291203956,
          0.4729665846565325,
          0.502933187796644,
          0.482840121908694,
          0.4315302238476607,
          0.4379053812688205,
          0.46399770118431183,
          0.41705555804371336,
          0.41680636339533333,
          0.3681302230344375,
          0.35259598545336496,
          0.3794361882398339,
          0.386741667840231,
          0.31699020038756937,
          0.3284557058575106,
          0.36302687147405827,
          0.38752847125313555,
          0.4198440601786607,
          0.4151219412150175,
          0.41483242916237617,
          0.35769104801544094,
          0.3307521222779108,
          0.2585353485429086,
          0.24409804017263173,
          0.27526805905458945,
          0.18268003444891473,
          -0.024854453419406976,
          1.1755252987824092,
          1.1625264881855537,
          1.1495880840465464,
          1.1607598066825344,
          1.1621313018871195,
          1.1622175428473362,
          1.187088671221084,
          1.1315403074577384,
          1.1474639243889118,
          1.1276927634258962,
          1.1464744735747032,
          1.1394205270715758,
          1.1219054470249266,
          1.0531633458891991,
          1.0398565342249952,
          0.9935497020749132,
          1.0059139527711103,
          1.0564427771815073,
          0.9864277052912452,
          0.8793763932153714,
          0.9066763978050887,
          0.826729146786947,
          0.8331762407351478,
          0.8468508130969326,
          0.8483024478086624,
          0.8143774163669734,
          0.18574001610240756,
          0.06055067213230769,
          0.12378557059400966,
          0.15151675936645037,
          0.10822178564736783,
          0.1308765374460786,
          0.20980785046618422,
          0.09580705573695779,
          0.027575827658585097,
          0.15235814604483117,
          0.06447451330650228,
          0.14654067124577347,
          0.14011816423944687,
          0.0788627283363698,
          -0.0398076046728103,
          0.07597518151917444,
          0.008287477378627069,
          -0.09321370130283542,
          -0.09284737428179804,
          -0.15093216391373768,
          -0.12283366044175893,
          -0.1384307561234579,
          0.5820009564911032,
          0.5090867718995499,
          0.5899469652687683,
          0.5340457944432043,
          0.5332166318604675,
          0.5896051294822788,
          0.5355745536423387,
          0.47269793788066117,
          0.4631892012355209,
          0.458110630725166,
          0.49010008266959876,
          0.5201054826682264,
          0.5151849306961748,
          0.5245326581975509,
          0.498480502446404,
          0.46036252076610656,
          0.48550248197927953,
          0.4796292416455542,
          0.5013116627190702,
          0.42655473986584713,
          0.4644491916775399,
          0.46087541215348526,
          0.5010424660746492,
          0.3795282633401007,
          0.39935388873444516,
          0.42988751279693066,
          0.46066307997736217,
          0.4361622209640336,
          0.4188084276184725,
          0.38890770691635634,
          0.4235263192232889,
          0.4237163665794011,
          0.4341090625994459,
          0.40658892726083207,
          0.3834203655732547,
          0.3562768965039891,
          0.41531915760329813,
          0.3376672217858818,
          0.3401545727081766,
          0.3253824015312353,
          0.3528014721853182,
          0.28596519956272703,
          0.3785951003554668,
          0.522038818345749,
          0.4683462894572231,
          0.49897296793521817,
          0.5249695202265813,
          0.4602222112552339,
          0.45152176758903423,
          0.5038372190212167,
          0.5102949753789189,
          0.5347154101427106,
          0.4249579950028828,
          0.49483942064463343,
          0.43254925300032016,
          0.43339155320751327,
          0.4837524377155446,
          0.48525657181236437,
          0.3959306344859159,
          0.4496763612692258,
          0.42941064228028897,
          0.4134047278585052,
          0.3872003131009001,
          0.40514764106859774,
          0.3625166159123763,
          0.3193662198778739,
          0.31527120323357055,
          0.23256968943646264,
          0.3620501570412747,
          0.7301626467237928,
          1.2908408369544326,
          0.889658314586434,
          -0.7789793732227107,
          0.07277437375391531,
          0.14875688066443077,
          -0.21420124678177177,
          -0.178117702758719,
          -0.1941700770031283,
          -0.2096752893848673,
          -0.2708559836717834,
          -0.214828086550422,
          -0.17251680220531976,
          -0.29780669362184026,
          -0.43346096444504084,
          -0.32124818613412176,
          -0.2824362299509798,
          -0.27276810634831133,
          -0.25097633712415895,
          -0.2559288248014476,
          -0.2827929312716211,
          -0.2950268489877253,
          -0.3457613379042307,
          -0.30995305173207177,
          -0.5445227740787919,
          -0.44904695025486574,
          -0.4557213396402485,
          -0.32052370038271566,
          -0.30260586492785435,
          -0.3041977677986395,
          -0.38578462197220564,
          -0.4539018614067871,
          -0.5396925733699323,
          -0.4327305013746518,
          -0.39459267168306883,
          -0.4211259919261532,
          -0.4557519156610659,
          -0.3666236039862158,
          -0.39334182491258735,
          -0.3921791922668074,
          -0.38931653883371375,
          -0.39180905730936455,
          -0.5420413378002259,
          -0.5168471667423852,
          -0.5436212261735007,
          -0.48628976389487966,
          -0.5631942447857247,
          -0.5212073400590974,
          -0.5968457069414755,
          -0.4647544185125513,
          -0.5244463357660157,
          -0.5456472757853984,
          -0.6040629519123611,
          -0.8080090780304838,
          -0.6618479798520664,
          -0.5582849504086599,
          -0.6499064079304561,
          -0.8921287372323384,
          -0.9302890445358697,
          -0.975829136158977,
          -0.014058190735253282,
          -0.1589454486465217,
          0.8857998263228505,
          0.3983117537816767,
          0.3186770966246002,
          0.32482880730155683,
          0.3354292558718387,
          0.3660202100468653,
          0.3799253654638077,
          0.4127071592181704,
          0.42893084830711226,
          0.3858418472761961,
          0.4155772598387698,
          0.42703871320681686,
          0.46298341900955947,
          0.30687106048266977,
          0.33754807356832967,
          0.32650025557128554,
          0.3429692537696131,
          0.3271776782370851,
          0.3901035827975334,
          0.2892932847684153,
          0.31567794282050904,
          0.33258302646192084,
          0.32809588554093355,
          0.380491979108569,
          0.32225060339032346,
          0.22637381542741772,
          0.20227295036089368,
          0.19232503500928852,
          0.18564908376612768,
          0.2031677294286667,
          0.23356891911866667,
          0.12946877485392774,
          0.15536288757381364,
          0.14955313481428614,
          0.18574119119642463,
          0.22221927270945815,
          0.16703003883562131,
          0.05525072867123343,
          0.09357295023882509,
          0.06704303931697646,
          0.06801542943764005,
          0.07402834892843896,
          0.10625808610969247,
          0.06287673709804546,
          0.07456517574958553,
          0.11239040812296322,
          0.09646014777576337,
          0.11264546505690842,
          0.0910096675242646,
          -0.11053752751975303,
          -0.28310846854056076,
          -0.3403588591960645,
          -0.4404546376622509,
          -0.31661248730521113,
          -0.3342411639034404,
          -0.4164649951772855,
          -0.3939023721165617,
          -0.4025318570105515,
          -0.42303440281901206,
          -0.5133879774671695,
          -0.4352483290994966,
          -0.48095667228079564,
          -0.5102480166632017,
          0.6494845213170044,
          0.49639391796496535,
          0.5908290423668108,
          0.5280844494170646,
          0.530928191942341,
          0.5781849521915906,
          0.6208411850995481,
          0.5986558241384002,
          0.5829253665728655,
          0.55448015193928,
          0.5510891677726093,
          0.45212361065461504,
          0.44537129535691006,
          0.5409731271039289,
          0.5674046589187176,
          0.5303872175225723,
          0.49422100143956876,
          0.5376404093756696,
          0.43687724138322936,
          0.4964033771428924,
          0.4341964156050546,
          0.3858830596587,
          0.4748055232199409,
          0.5026081663902007,
          0.4338714896380644,
          0.4980000508712434,
          0.5089449243921543,
          0.4544431991842457,
          0.3870868100828912,
          0.4173389699501556,
          0.46362226280279856,
          0.36167705307503656,
          0.34073608645257747,
          -0.33570771313390785,
          -0.038108535745869705,
          -0.034363917267551086,
          0.043178681730492684,
          0.14440324768774004,
          0.1135976729501836,
          0.08943706031830222,
          0.09310430743299868,
          0.07960617861567434,
          0.08117569019893973,
          -0.031863207836463424,
          -0.04605510545697501,
          -0.03844021912926619,
          -0.0014780215221255832,
          0.003155346584737355,
          -0.10131573971804982,
          -0.12722745728928336,
          -0.0019181528320992018,
          0.043901172603099226,
          0.0699540626938809,
          -0.00004255658427796622,
          -0.005189637921773726,
          -0.04434728901134691,
          -0.04269468653960122,
          0.03206145625411656,
          -0.1121197058047954,
          -0.06436319870647059,
          -0.16303433630365938,
          -0.16404020934634492,
          -0.06931824809067635,
          0.007682062147767409,
          0.022145303490180405,
          -0.014899519409804643,
          -0.015898793304474846,
          -0.16340772395973396,
          -0.10586998137641196,
          -0.1344662528494181,
          -0.043960368571908486,
          -0.07327676609866232,
          -0.12089892127431535,
          -0.12760135235574982,
          -0.06800202039602699,
          -0.1120655314199053,
          -0.11801870879160656,
          -0.00689142711279645,
          -0.0936083724430312,
          -0.05988928433315425,
          -0.08668393061763827,
          -0.10571836704707799,
          -0.1445528381490472,
          -0.12394569447120929,
          -0.2052842930471998,
          -0.14406628490773263,
          -0.09196635551032194,
          -0.23045959263600646,
          -0.19528927688920697,
          0.039861756762256645,
          0.06858748046194896,
          0.0005857543992552356,
          -0.08465958827992158,
          -0.10634100736228501,
          -0.1036558895069433,
          -0.058381495155269206,
          -0.03203489392519434,
          -0.01673216839900909,
          -0.08677522365963015,
          -0.1086350180250619,
          -0.022112967083533618,
          -0.01652736371271229,
          -0.11593701762290692,
          -0.06737002196196817,
          -0.006323112314246756,
          -0.05679223815101674,
          -0.3605116151315655,
          -0.3975956212034382,
          -0.26209507881919686,
          -0.16379014471331138,
          -0.07365746169866141,
          -0.12548970897490622,
          -0.13989823456174494,
          -0.073466931642249,
          -0.06543570411017366,
          -0.3310964670541158,
          -0.3849161320922642,
          -0.3288879631076034,
          -0.29563317055040306,
          -0.22427789280141677,
          -0.2524827863017604,
          -0.13177359443679715,
          -0.15530964067158506,
          -0.16626834944304925,
          -0.263684880374255,
          -0.29004009235581685,
          -0.3403745531134979,
          -0.3210966075430429,
          -0.25865579491122537,
          -0.22239588254460788,
          -0.294471267148111,
          -0.22305862290585635,
          -0.25818962590610545,
          -0.37277802392353704,
          -0.305827640957109,
          -0.4669114320990655,
          -0.5431959925731492,
          -0.5746477790100629,
          -0.5564707462000376,
          -0.033786911726414265,
          -0.21987424441049408,
          0.028701506524565306,
          0.08404517763967434,
          0.06598563322372039,
          0.16258344347218504,
          0.1304967807464532,
          0.0555955129061545,
          -0.006310603425198435,
          -0.0155171042066874,
          -0.05492184263469954,
          -0.043880333341674196,
          -0.06363051903717118,
          -0.03288279738768103,
          -0.9384172456176836,
          -1.0060201426964177,
          -0.9639434511139324,
          -0.8344985927614786,
          -0.811843690608012,
          -0.6864718973580523,
          -0.7204895168435859,
          -0.8579063397000253,
          -0.8114393524002803,
          -0.8485329214835249,
          -0.8292400093343623,
          -0.9176183656555569,
          0.43462877706761943,
          -0.3405642822534193,
          -0.4043458338122442,
          0.8851275910338732,
          0.6990582011617582,
          0.7039099834984652,
          0.7230485576057705,
          0.6314644588695196,
          0.6062020765102588,
          0.3918799224676094,
          0.10027936588907728,
          0.11752803744512967,
          0.22380710106682822,
          0.2139591281072689,
          0.20838301722989447,
          0.18563459767237997,
          0.18071669699656304,
          0.18613424919752355,
          0.19549477971573495,
          0.14164532502197266,
          -0.38776400456251375,
          -0.7613865718370211,
          -0.7137918608727698,
          -0.651221983299885,
          -0.603453976963233,
          -0.7009986810707823,
          -0.7996976085072441,
          -0.7696065653529576,
          -0.8818685869568151,
          -0.8254244620123182,
          -0.7626473238155641,
          -0.7377647482162646,
          -0.7393073390052027,
          -0.7824028157234031,
          -0.8471145931823045,
          -0.9925235515388577,
          -0.91734395283087,
          -0.8871905354885977,
          -0.8028952700472949,
          -0.8283730669091658,
          -0.782129895247502,
          -0.785672918815869,
          -0.8714449195688587,
          -0.8523298278534226,
          0.0280741841256824,
          0.10712267508177509,
          0.8916927954496696,
          0.9489449598776512,
          0.9409274586674089,
          0.808546176797687,
          0.7601560320058621,
          0.8769546978967734,
          0.9338582195886401,
          0.8920993564237837,
          0.9482249776943943,
          0.9578049498216947,
          0.9292820438936382,
          0.8123400662471676,
          0.8106297218326773,
          0.8253184151182529,
          0.8374293063723478,
          0.8676566230132593,
          0.7914721311272155,
          0.8442643313769059,
          0.9068486574449128,
          0.8910188925572309,
          0.9274038258813463,
          0.9034034436640409,
          0.8299630866748032,
          0.7483926121696141,
          0.7395276544022663,
          0.8127392303679241,
          0.8196091299199049,
          0.7953074825531719,
          0.7391350503938934,
          0.7414653329372353,
          0.7961676926328236,
          0.7814031662609732,
          0.8238228316214943,
          0.8607739671577462,
          0.8966888964975008,
          0.7475216489221324,
          0.7799574291790522,
          0.7603000689969546,
          0.7860330090458573,
          0.7545460503419633,
          0.758427487388811,
          0.6676008300305106,
          0.713861445221108,
          0.7792135676967196,
          0.8188654517817936,
          0.794125865963811,
          0.6091490690110917,
          0.4199271323270321,
          0.5679430859813189,
          0.6209446659935387,
          0.6153832193838695,
          0.6391268542712316,
          0.6397572079469993,
          0.713696845017718,
          0.6914800997352416,
          0.6213004887068311,
          0.6831493404942984,
          0.7044146698975878,
          0.7198531975611199,
          0.6580052376706352,
          0.7001854384904208,
          0.6900240517867176,
          -0.29755885292331535,
          0.3649086753568321,
          -0.21485866203777135,
          -0.15203644571341576,
          -0.06292674257921949,
          -0.10737876634166171,
          -0.14711454157610102,
          -0.022620839666713695,
          -0.11414952877430289,
          -0.31288776920512995,
          -0.29123101091735054,
          -0.21255083470067115,
          -0.14703811308693102,
          -0.08964265858856757,
          -0.34933238384795007,
          -0.24237709427360188,
          -0.20641695893210674,
          0.8655019120171372,
          0.7798657964881537,
          0.8792027345393245,
          0.8700651964790924,
          0.8690418436965608,
          0.8071434726208674,
          0.7578446573212128,
          0.8480326112899308,
          0.894838883455237,
          0.7412816951308391,
          0.8120133230177221,
          0.7276700739527708,
          0.7651655027258947,
          0.7428735250025021,
          -0.4513506633914555,
          -0.3347688830942247,
          -0.766341067394114,
          -0.699314948832953,
          -0.6199984079177117,
          -0.5569469880312922,
          -0.5853231725007434,
          -0.7323022566994115,
          0.26047587427915875,
          -0.8664083395799077,
          -0.8414374797482325,
          -0.7565451535697268,
          -0.7315250689027376,
          0.5694053068859725,
          0.38844853085771147,
          0.04112772208851665,
          -0.027728149553293148,
          0.11471014224799268,
          0.060230063076486685,
          0.06766768996400346,
          0.09747455032553123,
          0.09302778471045671,
          0.062390109944602735,
          0.004437921993699492,
          -0.014571184702735976,
          -0.025255258881970468,
          -0.05389739482955131,
          0.0197343637196887,
          0.04369024281173222,
          0.06672286186537289,
          -0.0609463455118616,
          -0.12455195006769333,
          -0.07319444049627499,
          -0.0866356387377632,
          -0.06909171125415851,
          -0.0047873396077013335,
          0.0008629184428273285,
          -0.16296189366285402,
          -0.1306799590948316,
          -0.11394926936155225,
          -0.15931759165726403,
          -0.11429046788598139,
          -0.13219465094892677,
          -0.09028810065953657,
          -0.17576178032582462,
          -0.08538014766110595,
          -0.2269125417510131,
          -0.20969623953773425,
          -0.3004996374656585,
          -0.24276895092308057,
          -0.2787122299893004,
          -0.23851099315294141,
          0.10476025788319615,
          -0.0319885667822071,
          -0.05539598179428437,
          -0.4329144612623194,
          -0.8719227037154916,
          -0.5526351340690797,
          -0.4976134725905202,
          -0.46673232944507037,
          -0.4758701882522851,
          -0.5848442840257547,
          -0.4887427264528913,
          -0.43226568989204034,
          -0.45989500973154807,
          -0.5254530359752261,
          -0.6260289059973693,
          -0.6445201305606566,
          -0.5627300969584801,
          -0.4959351571081955,
          -0.4562070392423122,
          -0.5114473439954662,
          -0.5061953250733449,
          -0.47100639214101264,
          -0.4802317504027402,
          -0.5152907675002731,
          -0.5682850859062691,
          -0.6191330592366715,
          -0.6037753647420944,
          -0.5875543367463514,
          -0.5624680339818456,
          -0.5661396324419601,
          -0.5890158194421202,
          -0.5372761932512925,
          -0.5235281749708972,
          -0.48611903686728175,
          -0.5381717419034431,
          -0.5599583929552755,
          -0.5987360399150929,
          -0.6380321433727805,
          -0.6375603620769492,
          -0.5868439055774797,
          -0.5927196663612656,
          -0.5849605957848295,
          -0.5999999200540764,
          -0.5937270403059597,
          -0.564380875473881,
          -0.5844504710735139,
          -0.5426708764559018,
          -0.5867977574374376,
          -0.6967618985993379,
          -0.7060919772897718,
          -0.6834440439592122,
          -0.7289477143334487,
          -0.7759294523537783,
          -0.7527637857367676,
          -0.7766599724788312,
          -0.724375086121971,
          -0.7020304778281556,
          -0.6701282702406136,
          -0.7287073595574609,
          -0.7408156643454527,
          -0.8255586271174868,
          -0.7951216163658654,
          -0.7963124495844791,
          -0.8075375041886731,
          -1.1401989542701547,
          -0.023744196697120846,
          -0.3045666796924225,
          -0.016458189990789907,
          0.12653522734053774,
          0.10679554056921055,
          0.13163868948116886,
          0.055254299438127034,
          0.10279531590669956,
          0.13344123212589382,
          0.10429585940464522,
          0.12274668434479781,
          0.05471135207871944,
          0.10720766383088458,
          -0.005587294258967472,
          -0.1466051083689543,
          -0.09817164978867297,
          -0.23714690867310256,
          0.7273706443350614,
          0.6984563986545083,
          0.6589225006086186,
          0.6390188523600747,
          0.6722890918311688,
          0.6914091429822188,
          0.700751999704968,
          0.7014916440789514,
          0.713041793979476,
          0.7173228747516206,
          0.7298977197595838,
          0.7477580998319222,
          0.6356979715130952,
          0.6309505927383419,
          0.6505223312536589,
          0.664790020871561,
          0.6561556078904692,
          0.6737333810319738,
          0.6659055953644595,
          0.6632360337670645,
          0.6901198751718096,
          0.6917084492188429,
          0.6711915271605993,
          0.691712721504522,
          0.6191226358468855,
          0.562664524170311,
          0.6008214448372474,
          0.6013641873470895,
          0.6151571426299434,
          0.6363271104532928,
          0.6140423310311381,
          0.6101318586656417,
          0.628722360005252,
          0.642721794884675,
          0.6415699625384992,
          0.6355684138124156,
          0.5440251386519613,
          0.5602546247000002,
          0.5413116717841135,
          0.5403088935872133,
          0.5565491910332224,
          0.5799535636692615,
          0.5722024332687872,
          0.5939584128990414,
          0.6002901732576104,
          0.5977471365110245,
          0.5904396722630553,
          0.5897444044869649,
          0.5054121237659137,
          0.4940565253086761,
          0.4799779863342764,
          0.4460098172002332,
          0.4426878712996371,
          0.4430590403337648,
          0.3945077973372904,
          0.3998446115005056,
          0.43453288738790247,
          0.43752273125493846,
          0.43036828550052,
          0.43272441160616104,
          0.31318156596639124,
          0.28965118019625324,
          0.3185381030586711,
          0.34793940541372925,
          0.19563101687383072,
          0.1690573709493142,
          0.152248034597749,
          0.10853132660660546,
          -0.1470443417713816,
          0.3664058262505841,
          0.3398321803260677,
          0.32302284397450265,
          0.27930613598335907,
          0.023730467605371744,
          -0.6248575904235217,
          -0.460311976646821,
          -0.5032784319250895,
          -0.5239947934121458,
          0.5712657925173685,
          0.6479470390573473,
          0.6521462769113102,
          0.7017959646130643,
          0.7082761582973384,
          0.7006466492115593,
          0.703091155353834,
          0.7396427099624157,
          0.5905313274634416,
          0.5857310079036514,
          0.6446134174522725,
          0.6582685873639494,
          0.6248903870585945,
          0.5751088146233726,
          0.3827851179556309,
          -0.3934991166603567,
          -0.45082093439997634,
          0.16363539845795275,
          0.010421523992378612,
          0.11810486820506916,
          0.17515107473499436,
          0.2282207619686223,
          0.14281779208665335,
          0.20198449584195266,
          0.205071946700659,
          0.09499072592043487,
          0.09174245900677865,
          0.15092306605052314,
          0.19412822739216987,
          0.19952520361079723,
          0.18022676615121833,
          0.1416116922219536,
          0.18493300114751743,
          0.1653173435440802,
          0.1233787108582061,
          0.11044146011285327,
          0.16330226011389992,
          0.06794007478023234,
          0.10711922530616516,
          0.09496261011660811,
          0.045255076659829384,
          -0.1221365502046538,
          0.018398048000348288,
          0.06564980929678871,
          0.05526567458619329,
          0.12211933496409148,
          0.15677160272828075,
          0.18010142982500688,
          0.17613619343123485,
          0.07294147744635227,
          0.017267775551712015,
          -0.020713629941604313,
          -0.009841154476296155,
          0.020307536247775027,
          0.042802708799577524,
          0.0469433321332853,
          0.08736499612282958,
          0.04964420098778997,
          0.06273473845714893,
          0.0028179541665587296,
          -0.08099433687472109,
          -0.1308662696112201,
          -0.12619085200247776,
          -0.12800064283452342,
          -0.029056365049266734,
          0.027222696586314207,
          0.024480361128328458,
          -0.0352406907065915,
          -0.22611364001488643,
          -0.44531983319093554,
          -0.35867802272371563,
          -0.3211334535044051,
          -0.25716444007196015,
          -1.0550374995001128,
          -1.348014041559317,
          -1.0777944388893923,
          -0.1618773707330317,
          -0.4510746449442883,
          -0.3899496769346639,
          -0.21803604452721706,
          -0.307265251120304,
          -0.26055362094878265,
          -0.3793074044130207,
          -0.31159596338152246,
          -0.26518184321655086,
          -0.3054355040424838,
          -0.4390287690081088,
          -0.4243253278913719,
          -0.3751221414554474,
          -0.4522968378400274,
          -0.4435509692056445,
          -0.6998154955317643,
          -1.183730708554853,
          -1.2015994551387257,
          1.3802388316343905,
          -1.043991924574829,
          -1.138542542664224,
          -0.46384327247310153,
          -0.4724279708501046,
          -0.3898289902272563,
          -0.38585198125328996,
          -0.3250485157011221,
          -0.3463684669560239,
          -0.3423385317781633,
          -0.3836259213657235,
          -0.3041512543165833,
          -0.57749716678687,
          -0.5094160620912418,
          -0.47766463617443566,
          -0.3797346876707821,
          -0.5432190079843273,
          -0.45949349762246544,
          -0.4599676990417725,
          -0.7630800776133625,
          -0.7459122715101119,
          -0.7723548374986019,
          -0.7748731689982444,
          -0.7653985148726965,
          -0.7464585132490541,
          -0.7797465667903857,
          -0.7873847581115129,
          -0.7734515404572907,
          -0.7593139116731243,
          -0.7629777340919242,
          -0.8404008187237638,
          -0.8324915898208463,
          -0.828898251005396,
          -0.8380705556579869,
          -0.8212866824541913,
          -0.8173775395666948,
          -0.8032868449253244,
          -0.7978978090710828,
          -0.8219807968211356,
          -0.8103786218858203,
          -0.7996314515089314,
          -0.8015280335234526,
          -0.8809899236735634,
          -0.8786738571962774,
          -0.8789570878306946,
          -0.8741712214454989,
          -0.8891215434246899,
          -0.8617522599609768,
          -0.8674833403449528,
          -0.8729813801938013,
          -0.8861834596075454,
          -0.8621561903507602,
          -0.8608157783551371,
          -0.9174323966740529,
          -0.992609651811786,
          -0.9845731105964838,
          -0.982911299847794,
          -0.9862426018002399,
          -0.969730229760176,
          -0.9706155185589064,
          -0.990568610302142,
          -0.9856052348361892,
          -0.9907451875119422,
          -0.9975137264854405,
          -0.984119798068525,
          -0.9919771784775538,
          -1.0527055377792367,
          -1.0558283494851695,
          -1.0544352109395965,
          -1.0624612012006514,
          -1.063758571748312,
          -1.0494892760006458,
          -1.051592041093563,
          -1.0516781951283591,
          -1.0515492918867728,
          -1.0486986426764027,
          -1.0429268400487055,
          -1.0359303213570406,
          -1.1229384757812617,
          -1.1080594549882843,
          -1.0916603513878298,
          -1.0824284827065511,
          -1.057814036963483,
          -1.0426590223409178,
          -1.1019404681424683,
          -1.2121570354575433,
          -1.10767588868876,
          -1.040840839883083
         ],
         "z": [
          -0.3837032147576518,
          -0.5767832614907873,
          -0.6344285505681805,
          -0.5002995875982807,
          -0.3425977682563975,
          -0.38306006071653076,
          0.02843266061853562,
          -0.23192823079862437,
          -0.4952164788505135,
          -0.24739185714008122,
          -1.5181721587148396,
          0.4608577883747928,
          -1.3791056755199518,
          0.10578770101379889,
          0.40431305563090963,
          0.2395787390510617,
          0.9819774248357732,
          1.2061378797090994,
          -0.18527209951654014,
          0.01398848739822882,
          -0.33095982953688585,
          0.35840967223617853,
          0.5413278042677876,
          -0.3599552913608648,
          -0.9700074855374969,
          -0.9843418571508242,
          -1.1767504880252193,
          0.2967531169107701,
          0.8292265359598255,
          0.6049119982719654,
          -1.0031069027195505,
          -0.9325719979497928,
          -1.0839104461605145,
          -1.019473103957054,
          0.2460270311883965,
          0.22482218647882926,
          -0.46904794271436584,
          -0.6119263802838683,
          -0.8006168125453949,
          0.11066110772951894,
          -0.11659129421553235,
          0.06885655815260779,
          -1.29300897585563e-7,
          -0.14812121694677813,
          -0.275832308256498,
          0.18888420081589327,
          0.6236085850826437,
          0.4932395011366044,
          0.5186638058758085,
          0.5346263742242411,
          0.401094286199097,
          0.4729108863354289,
          0.4182103198306093,
          0.4341801276136914,
          0.3653763060527073,
          0.1939049639204784,
          0.7073125507921718,
          0.7861535211442583,
          0.6819101420965258,
          0.6968536301443997,
          0.4549707524876361,
          0.44381116983966196,
          0.5031094053075402,
          0.3751103074289553,
          0.3524525582568862,
          0.7679832547144417,
          0.5255122928404344,
          0.4463948783582202,
          0.909920655735385,
          0.7906019211992407,
          0.756338291406202,
          1.0901950191943635,
          0.712732755330601,
          0.5349922787847622,
          0.5078625196256072,
          0.4695194917113052,
          0.4626050502442078,
          0.6400334114964084,
          -0.8124121348128148,
          -0.9845515903790033,
          -1.0267983886738619,
          -1.1722512569195966,
          -1.0277581899064894,
          -1.2477763775866126,
          -1.2932271960708908,
          -0.9499026134214453,
          -0.9245768436342762,
          -0.8867084131702131,
          -0.8760702337622152,
          -0.38929197612012445,
          -0.47765354391413933,
          -0.41506342832176485,
          -0.3952460518572852,
          -0.5813220707779464,
          -0.3332616120775992,
          -0.6432060712851867,
          -0.5540367596740836,
          0.2547288583448576,
          -0.05097138105314287,
          -1.1971869823290704,
          -1.3507097593323063,
          -1.2269875115318403,
          -1.511275027674006,
          -1.0510386976053983,
          -0.9208514487404802,
          -0.8423555538617338,
          0.5365299731351358,
          0.5383417260954549,
          0.5304839899902632,
          0.6014976171465315,
          0.5156270966926609,
          0.38927255394662386,
          0.45653718339564336,
          0.3666560015099621,
          0.3583890031700254,
          0.29575798156359645,
          0.19124791228817872,
          0.17332145025314719,
          0.5529368078809944,
          0.504736247877794,
          0.5698254968961389,
          0.5122279750332146,
          0.42502949080509433,
          0.3905637524689275,
          0.6126642319679534,
          0.7825503939165049,
          0.6116293482881396,
          0.5419909049983452,
          0.6991229588397337,
          0.8120654202388973,
          0.667127426272028,
          0.62042735126145,
          0.5679580797271727,
          0.34466656334809675,
          0.08393460997584996,
          0.04031062857117581,
          -0.00010221405063785183,
          0.015234676412544987,
          -0.054419501503333426,
          -0.09925981671717561,
          -0.026812487636006528,
          -0.1072891216524608,
          -0.15296679555406617,
          -0.20429905178854624,
          -0.1272030743823253,
          0.3136732298490677,
          0.22690267258815724,
          0.19567541288358875,
          0.16541272357013032,
          0.2229595785635505,
          0.11596034934273389,
          0.11386082501774138,
          0.04217630891333011,
          0.09458251696305356,
          -0.036807944772857086,
          0.05197953676396481,
          0.1331700902752674,
          0.5012060712054451,
          0.39688357136412256,
          0.31353363589829764,
          0.28754925265188114,
          0.29083151135133234,
          0.2021166620136726,
          0.2969773276168847,
          0.27074234759243226,
          0.24123846618637051,
          0.22287289253347256,
          0.22235873436840753,
          0.24476778888106468,
          0.6258703411834285,
          0.5492996736130604,
          0.525835293119112,
          0.41954358822593035,
          0.32619948328202464,
          0.3461272641610105,
          0.4376926072370167,
          0.397496605250385,
          0.3081966654649678,
          0.3556316495192193,
          0.33217099026795927,
          0.4391827210889132,
          0.7723068489809474,
          0.6735087305861873,
          0.6291082094083069,
          0.7762534515613982,
          0.7400513932590077,
          0.5959164330776863,
          0.5115234019061582,
          0.43374303581183465,
          0.4022391644639636,
          0.3643507322304666,
          0.4803502898830505,
          0.5099143224916918,
          0.9744115066400028,
          0.9807542530691046,
          0.8787141030439862,
          1.1242023742566132,
          -0.9880019934500098,
          -0.1378480098906617,
          -0.14126383425543892,
          -0.1258296503915067,
          -0.19788086583734193,
          -0.22956915563124342,
          -0.28359326236859195,
          -0.15090036139225044,
          -0.06999716755521629,
          -0.1311622861206475,
          -0.11750276726414827,
          -0.19002377110343993,
          -0.2262989374330559,
          -0.07423745810135515,
          0.1033622764240849,
          0.005212476990282082,
          0.04679874404220686,
          -0.0068033904284092814,
          -0.14258241274491362,
          0.24813669618797873,
          0.4383812380608667,
          0.33438705664227725,
          0.3877026638546258,
          0.3332270614484958,
          0.6148961453687053,
          0.5801834739864524,
          0.6208652036553817,
          -1.2171851491044645,
          -0.9905760079655103,
          -1.158082280982734,
          -1.3591020017193471,
          -1.2905362591269118,
          -1.370695033507782,
          -1.5660543936661822,
          -0.9917829173718313,
          -0.8721538374165843,
          -1.1994256368182825,
          -1.0506056132522434,
          -1.2521008107786367,
          -1.29796507574694,
          -1.0452863808335704,
          -0.8032211470679042,
          -1.2724327085266884,
          -0.7104381114046734,
          -0.7948419883695595,
          -0.8544273823493462,
          -0.45889412297055276,
          -0.5508184921255964,
          -0.5723537173895079,
          -2.1409644969552493,
          -2.02043372583793,
          -2.214329076847628,
          -2.2475833670454515,
          -2.284643409924208,
          -2.4213249620741744,
          -1.975082433314431,
          -1.8811641120754017,
          -1.891507706127097,
          -1.9126677405076404,
          -2.011112584645287,
          -2.1055046757489286,
          -2.141751141005536,
          -2.2008240979394937,
          -2.175071291473064,
          -2.1231507709329014,
          -2.210206965835333,
          -1.861219850134288,
          -1.9354074236440117,
          -1.8127452652489924,
          -1.923332815117858,
          -1.9400563899517433,
          -2.0843485146751495,
          -1.8828621141353896,
          -1.95929374784535,
          -2.051762387253497,
          -2.1495985379870746,
          -1.7647517070045262,
          -1.7621449153071178,
          -1.7260533232812123,
          -1.8866414007157504,
          -1.922397407594365,
          -1.9718825373593698,
          -1.9456840082601727,
          -1.927540103885986,
          -1.8970393294205943,
          -2.0386262406930755,
          -1.5530093357666237,
          -1.5890427869811266,
          -1.585637277072904,
          -1.6736232252786776,
          -1.583921865013791,
          -1.8427555872179697,
          0.7289481382292896,
          0.6796058323540259,
          0.5824456254888719,
          0.500913448493928,
          0.6056535352625819,
          0.5963056930498056,
          0.4508159946687286,
          0.41187218086233507,
          0.3371504074457118,
          0.5488385599284732,
          0.35626695582672396,
          0.4603677614336146,
          0.7780467137970976,
          0.6509973592848597,
          0.616495179399734,
          0.7813075171866872,
          0.528080491893109,
          0.5332186830759083,
          0.6053956890276891,
          0.7263313915776279,
          0.6736585528971616,
          0.6846653986601468,
          0.9562839468706122,
          0.9171084586909853,
          0.9629030045393339,
          0.7524552749038278,
          0.8426864060444431,
          1.7354826373068266,
          1.1212550740242604,
          -0.16224629053119174,
          -0.22796388662297984,
          -0.5682896211571369,
          0.3662876274744602,
          0.22521191580382224,
          0.1919996667002854,
          0.1930221129077234,
          0.2879524357490671,
          0.16995378884063192,
          -0.028514833613134137,
          0.18988149089710057,
          0.8406861033361965,
          0.5206185705669448,
          0.46643093219223486,
          0.28483716076304194,
          0.19715638988189096,
          0.1551148625504842,
          0.15558534398157797,
          0.5021747633453251,
          0.5692010101442071,
          0.47652852583568545,
          0.9809175688839704,
          0.6763252234793536,
          0.6780451657911315,
          0.36828065699175466,
          0.27981662160250653,
          0.24950842210061866,
          0.40287225175160885,
          0.5329374769563112,
          1.0756464205593164,
          0.7538361265736699,
          0.6480179126935633,
          0.6916408959096876,
          0.7576608991432018,
          0.5188164718800569,
          0.534764238485189,
          0.46307273378360125,
          0.402105754945421,
          0.3747303384580878,
          1.0374281658129432,
          0.9621026307086575,
          0.9704621509288108,
          0.8188600870004294,
          0.9826061990055962,
          0.8778892363138395,
          0.9789918951010168,
          0.6683718927816212,
          0.7296097274037256,
          0.7518807821087506,
          0.8513425957363716,
          1.5846474617791209,
          1.277144376017412,
          1.0340932818091841,
          1.1730367962819488,
          0.1173201712130732,
          0.18425372338418544,
          0.11645299787411317,
          0.3280711861294731,
          -0.828375597376855,
          -0.009936891741119955,
          0.70329375240133,
          0.768736264023681,
          0.726897473630336,
          0.7001526550861938,
          0.599179227636647,
          0.5273488085986774,
          0.43281959053564223,
          0.48386678375924835,
          0.4575253235162145,
          0.3408266333026232,
          0.2822747270800792,
          0.25814081633808017,
          0.8704896237929717,
          0.8010211052426973,
          0.810736019912806,
          0.7356694480325074,
          0.7203149916657914,
          0.8559632254844111,
          0.7304901695127467,
          0.7056118031390672,
          0.7353911277061862,
          0.6759294277305021,
          0.6760780574483944,
          0.5497211707038006,
          1.0927937232710345,
          1.0292643068132474,
          1.203711436529943,
          1.185737021672383,
          0.9826401822840994,
          1.0964982159700285,
          1.0745589558265567,
          1.023251893691075,
          1.099927188297516,
          0.9721037190489751,
          0.9928771341674539,
          0.8821503116822329,
          1.4381155171275977,
          1.345192329498946,
          1.3209042216301268,
          1.3767144413938315,
          1.4055734475505073,
          1.413163564665031,
          1.227868885134043,
          1.165472673867025,
          1.0942825299733567,
          1.2128732716207207,
          1.1108200764272549,
          1.3399207235408723,
          1.798922551449696,
          -0.6856425130434224,
          -0.7627253082404587,
          -0.6043305074781539,
          -0.8795580563546694,
          -0.8713419371317306,
          -0.38513370996237156,
          -0.6958133146729928,
          -0.4161847050975426,
          -0.30835424971359915,
          -0.34781513602636965,
          -0.550125913381154,
          -0.23549640682174447,
          0.056688018908773175,
          0.3307572741472884,
          0.6176519424452478,
          0.3851799651760645,
          0.5141593360126486,
          0.4799898715164776,
          0.33757331487528863,
          0.1365598776928266,
          0.13521612744806258,
          0.15654079971738896,
          0.4619310057732564,
          0.4363137949733078,
          0.6196438892670696,
          0.6311155000388575,
          0.3798209095288468,
          0.2841990503828087,
          0.30019097847655113,
          0.3461053229123118,
          0.22619756923049641,
          0.7753834798957925,
          0.6151333731435792,
          0.6883049626008393,
          0.7669872836839094,
          0.5450214366084797,
          0.3953536785243093,
          0.5119569004083286,
          0.34064753913734047,
          0.3208261399707986,
          0.6790987836673077,
          0.7982738055942089,
          0.6991857966761021,
          0.5918279908257617,
          0.9128853807458205,
          0.9214874232396056,
          -0.16455818927004442,
          0.8552854375347368,
          0.7741426605213034,
          0.5255244550191072,
          0.2830301301964253,
          0.31423872607113895,
          0.3328789280789499,
          0.21800500788180818,
          0.2100764941036063,
          0.17612544446462605,
          0.7576496423765365,
          0.7512122441166521,
          0.7104714746299283,
          0.5953201470410644,
          0.559965148889908,
          0.9190774945998957,
          0.8321442740245663,
          0.4715198565237926,
          0.3452610241804523,
          0.258028547370357,
          0.37962070520361485,
          0.37131339864490437,
          0.7716300836744423,
          0.7403836433723602,
          0.5530755902535203,
          0.8478205114720477,
          0.7089575726286588,
          0.9761439604258773,
          0.9134378119249318,
          0.6409703292806851,
          0.44166577041652,
          0.37790951789063076,
          0.43052924302876444,
          0.40470602341609196,
          1.062214447217144,
          0.8858723931683424,
          0.9060902301808001,
          0.6855630915634786,
          0.7169931088888714,
          0.8080661766112749,
          0.7901394577809984,
          0.6201504027823134,
          0.6734458758204468,
          0.6493042733976572,
          0.37027687099002515,
          0.8911493913970718,
          0.8116208923068922,
          0.8124105803421163,
          0.8252239873715146,
          0.9042235994004983,
          0.7911067095807189,
          0.9780016450955613,
          0.7880875856488287,
          0.5656523566377146,
          1.1926583868811396,
          1.0610777917263308,
          0.7263020890789595,
          0.5949165434800445,
          0.7396483927393158,
          0.8818688756035173,
          0.8798900587768826,
          0.8342532375359812,
          0.7209983592111867,
          0.6431756309343852,
          0.5568325163613527,
          0.6625087241209519,
          1.0048747529092354,
          0.755525928408845,
          0.6868091054774283,
          0.8894659392198911,
          0.7547048932889917,
          0.5740161787471447,
          0.5917645095989,
          1.692094811706585,
          1.6459039316907913,
          1.2663995710836455,
          1.0150450311712798,
          0.8084947184012309,
          0.8839843267887959,
          0.8828304364346747,
          0.6851901747619518,
          0.6427059367140288,
          1.13240315608753,
          1.6576823478814493,
          1.451521215416979,
          1.3600414823069158,
          1.0830513759664033,
          1.1100622376799036,
          0.8087124307785287,
          0.8341666574695333,
          0.7876667344355844,
          1.4753625857561083,
          1.3549597850879693,
          1.4561189265067482,
          1.364697527812847,
          1.164684828132996,
          1.0631378496323625,
          1.1893598549001412,
          0.974846015693633,
          1.0207093940532377,
          1.5551041658165843,
          1.386735154362521,
          1.7087337949972985,
          1.8033470720812081,
          -0.5180241205132348,
          -0.7764330329082718,
          -0.037542576005431046,
          0.3357925785231628,
          -0.411527230501239,
          -0.5566259309116384,
          -0.18696819116299931,
          -0.28653868689322637,
          -0.48344535023918245,
          0.10599895280637718,
          -0.019218482227086508,
          -0.2070979210869212,
          -0.13052988400480958,
          0.23336579382827916,
          0.09021250376851117,
          0.07281006601716926,
          0.5024676615239929,
          0.6101168398284385,
          0.5348112044019222,
          0.3783177707162346,
          0.305784479414818,
          0.016781009390820688,
          -0.03030694642840242,
          0.46575219838115206,
          0.3371991476138626,
          0.15510565273116203,
          0.2983955945088136,
          0.5985859202850067,
          0.47941527993478683,
          -0.17123615240478868,
          -0.42312030831597586,
          0.2915993938660888,
          0.811036982749647,
          0.5485576004279592,
          0.23741244084461072,
          0.6387955796245076,
          0.5492822143814207,
          1.1398457244263838,
          -0.7821717430166508,
          -0.8487802242599035,
          -1.1222865530116932,
          -1.159243687296528,
          -1.1806997302641435,
          -1.1637364385768143,
          -0.9313357606951219,
          -1.0339549786759752,
          -1.1357611457687906,
          -1.0962694504451866,
          -0.40768403360665845,
          0.02682435916097949,
          -0.1843759318859835,
          -0.34570057004742955,
          -0.27477549208893876,
          0.04590478479593375,
          0.2373743661343077,
          0.21067451713487853,
          0.5229954575277455,
          0.26318827590113647,
          0.09855718199451653,
          -0.16441773801832268,
          -0.19267574951947716,
          0.17593057354428523,
          0.3143595983625627,
          0.5804573817500347,
          0.36599724323379235,
          0.2948097491537193,
          0.26636486588779523,
          0.10241790785095017,
          -0.06019293700623081,
          -0.08447154455274027,
          0.4317114525262819,
          0.36624155941748593,
          -0.4908195521135444,
          -0.7198500083580589,
          0.8103115232659086,
          0.6545692510963311,
          0.6426208733912638,
          0.957441024713294,
          1.0293833005102824,
          0.6838446940507976,
          0.5432148639899981,
          0.591036769881798,
          0.45132511626426547,
          0.401167814128954,
          0.43857599378094325,
          1.0404915241230783,
          1.007656800327505,
          0.9453747769715217,
          0.8801705809146112,
          0.7706706925851399,
          0.9196310615498412,
          0.7698974591620299,
          0.6110306271553778,
          0.6054919472116101,
          0.4966869978015941,
          0.5174851042542776,
          0.670131563636464,
          1.174172135465445,
          1.1488283082806907,
          0.9493758060163261,
          0.912519579093898,
          0.9390656482147383,
          1.074510635942885,
          1.013814100071869,
          0.8545588982544962,
          0.8564031621620215,
          0.7336861717258597,
          0.6134734728300365,
          0.5123704671102679,
          1.1897705529798233,
          1.0663390869929554,
          1.076017860664959,
          0.9908764843439376,
          1.0232549577506465,
          0.9878530401695264,
          1.1733399389320809,
          1.0144689605649244,
          0.8435631350260673,
          0.7352538160605286,
          0.758757561673484,
          1.1659331033137312,
          1.981654449815283,
          1.554452624819872,
          1.3818155324785195,
          1.3626745191782985,
          1.2691765215343718,
          1.238515501432568,
          1.0491298460908125,
          1.1866547308017983,
          1.2384123920026122,
          1.0471243377552548,
          0.9630846189868485,
          0.9022703283993362,
          1.3534625844515773,
          1.2393622013647547,
          1.2148324175039025,
          0.08149202214775722,
          -0.9422793100880437,
          -0.5191717981946231,
          -0.7593002625237014,
          -0.9731486941169565,
          -0.720139066680182,
          -0.6731883724318398,
          -1.2233114058123935,
          -0.6651336440975679,
          -0.3951943665320653,
          -0.5156370342364094,
          -0.7333349946672056,
          -0.897874050838296,
          -1.0572188723972336,
          -0.2612137500858028,
          -0.5588598919300162,
          -0.6461221691752693,
          0.5285842295247044,
          0.677860710320353,
          0.4365325219027899,
          0.3990537241838214,
          0.3692136089759206,
          0.46842840928917684,
          0.5604568484120727,
          0.3213429740757232,
          0.14455807559706182,
          0.7740110710472761,
          0.5853644571746672,
          0.6659226068699957,
          0.5306822004873551,
          0.7944052997124998,
          -0.5721362011262487,
          -0.9097831725796321,
          0.032861991678141335,
          -0.20180644184461685,
          -0.4261600578711138,
          -0.7223676294677472,
          -0.37870569926698416,
          -0.026846312692674252,
          -0.5324230038948536,
          0.49196776996517455,
          0.37755286717655373,
          0.14448120950741195,
          0.07768675550140539,
          -0.5966587463936084,
          0.09572748800238864,
          -0.36910964231975407,
          -0.2925018288000808,
          -0.6343798028653267,
          -0.5540742027994439,
          -0.4279169455002893,
          -0.7197343163315114,
          -0.8320386300620349,
          -0.19666201652837625,
          -0.39641114236948977,
          -0.4480768003684884,
          -0.4671242246272634,
          -0.43298233675212816,
          -0.6133057767327473,
          -0.696110616649904,
          -0.7681063853320004,
          0.03980831238161452,
          -0.06163034944248189,
          -0.21189487487935546,
          -0.20505305637473217,
          -0.34216123513988017,
          -0.5051450418218536,
          -0.6289849669516077,
          0.0545112664712128,
          -0.049762371757281446,
          -0.11280518268735035,
          -0.08003176721030027,
          -0.21100811115054013,
          -0.2034860973383036,
          -0.1966010142458462,
          -0.12286267634943494,
          -0.3682747232358641,
          -0.1356791322595906,
          -0.17442122113457495,
          0.3238411375702663,
          0.1743280796669611,
          0.2545080926281386,
          0.13289072562595883,
          -1.0295408123076866,
          -0.7772707268305605,
          -0.7194830683763607,
          1.1602602175335017,
          1.8293170168882344,
          1.0485516302004962,
          0.8690616831760148,
          0.759345396444877,
          0.7586689303432133,
          1.0884453299907342,
          0.773966170413393,
          0.6079287928541812,
          1.3629911283922462,
          1.0856719182905852,
          1.438357582670248,
          1.3325784340853672,
          1.0677894893649553,
          0.9285591598277186,
          1.0513752783136663,
          0.8962145571785833,
          0.8445906669046033,
          0.7192303745654293,
          0.7091387167528075,
          0.8109373547711441,
          1.4891232437931106,
          1.2967751800644176,
          1.2272510358950002,
          1.1574989032498586,
          1.084201555077529,
          1.0497741336044097,
          1.0866276394027445,
          0.9286164504598383,
          0.8669439044124887,
          0.8630480216093307,
          0.8535408969402486,
          0.9150621483224555,
          1.6885957951508137,
          1.3413168245479619,
          1.3125322504394037,
          1.1488075464804415,
          1.132772940669481,
          1.0857741302080879,
          1.0820362511550188,
          1.0408535089225437,
          0.9630049611006314,
          0.9764440856312555,
          0.8413664044306445,
          0.92784742838246,
          1.5021557708635953,
          1.5036866926804378,
          1.393353070545229,
          1.5280828249779665,
          1.6222368047920217,
          1.4916322331871432,
          1.5412291018369924,
          1.3463683209920774,
          1.275380755444316,
          1.1716677898214374,
          1.2474865864384943,
          1.239241015147359,
          1.7812195470135888,
          1.7125447638672813,
          1.6823878252361937,
          1.7428082360563337,
          0.7203333630024652,
          1.0296602772600603,
          1.7162326007718993,
          0.8929915660361354,
          0.5695381249834588,
          0.5770479628399482,
          0.5007544639235876,
          0.6285786278647981,
          0.5017039787350188,
          0.40751663225626555,
          0.8223463890579799,
          0.6877746212227986,
          0.9583288777118175,
          0.8561994851180359,
          0.8771428382256531,
          1.5365112999755126,
          1.2320183704169574,
          1.4818815641975263,
          0.6629978612846196,
          0.5936637271324677,
          0.6499794995351744,
          0.6655827047295805,
          0.5645593027834641,
          0.4829030079528262,
          0.41557534102237254,
          0.39677905973953653,
          0.33010010825467684,
          0.31054488518738915,
          0.2697346860416807,
          0.1756365843285827,
          0.9514134219309829,
          0.7833686658448442,
          0.6931409101957365,
          0.678101803756802,
          0.613070952649658,
          0.5415892882017058,
          0.5347964994550927,
          0.4808769653611929,
          0.40177610003013264,
          0.3636004124181502,
          0.41448703362809464,
          0.29675702434745077,
          0.9355985746411947,
          0.8698746692789776,
          0.7395068610093227,
          0.7068840808686004,
          0.6601515055022557,
          0.5633977100470587,
          0.5874055125229138,
          0.571779654357257,
          0.48755760568544027,
          0.4347251398037972,
          0.45504226905405865,
          0.3985235912785441,
          0.928488360758141,
          0.8538398893310637,
          0.8666089453104732,
          0.8341332853002377,
          0.7767621581253982,
          0.692747071281072,
          0.6737016164419152,
          0.600012798395069,
          0.5541383799864529,
          0.5271890811975447,
          0.5848587033910436,
          0.48460389799806275,
          1.0095700302667503,
          1.030327732402366,
          1.0202246153649919,
          1.0979596263253986,
          1.101251403509066,
          1.0422526442048374,
          1.1300339171234384,
          1.0915724688646045,
          0.9660287743181875,
          0.9323718423852583,
          0.9154033068260973,
          0.8507439144964387,
          1.648338884547596,
          1.5377382126634918,
          1.4544371686746174,
          1.372190300609049,
          -0.3409796874889797,
          -0.6913767117660052,
          -0.5652126709481493,
          -0.1467080746943902,
          0.16732081964834172,
          -0.35374002145349015,
          -0.7041370457305162,
          -0.5779730049126599,
          -0.15946840865890072,
          0.15456048568383127,
          0.7510660605130461,
          0.3673148199568959,
          0.24687674070361543,
          0.5857531813096557,
          1.2026730151532645,
          1.0118095179210997,
          0.9770338115784865,
          0.846341198539116,
          0.8091278097551836,
          0.7289733402445976,
          0.6666401173067874,
          0.5660159029601629,
          1.5186278141500258,
          1.1915283178780842,
          1.039535033573565,
          0.7433410450094511,
          1.1748452864344126,
          0.9565198762090195,
          1.835595722756592,
          -0.6850970280357929,
          -0.8352654769966513,
          0.9640853743704906,
          1.3399763186443263,
          0.9268561285225533,
          0.7721863128955749,
          0.6326367269740596,
          0.6978819672239891,
          0.5385118860190572,
          0.493268402789363,
          1.0557826714116427,
          1.0325289806055808,
          0.871341280133548,
          0.7561167670032538,
          0.7142310225867097,
          0.7213026257127928,
          0.7753165480206411,
          0.6547494741010329,
          0.7074300635620642,
          0.7244580975820355,
          0.7307363858771748,
          0.5765977022902973,
          1.1081441151341633,
          1.023753043301142,
          0.9948631122119149,
          1.123726891565042,
          1.4526235787426205,
          1.0721413590936482,
          0.9407985452828616,
          0.9209709330607886,
          0.7571552611759499,
          0.6562129294226806,
          0.5795999299540953,
          0.5602071627492625,
          1.1079004434363384,
          1.2332875632025937,
          1.2418924750356983,
          1.1970034256087063,
          1.094182838463577,
          1.047260942638083,
          0.992020352207759,
          0.8636100423687804,
          0.9226333545502367,
          0.8721908334494799,
          0.9595676787080829,
          1.1276294564243492,
          1.537323130338224,
          1.5152982947208622,
          1.473237559320555,
          1.227398673667145,
          1.0848173030911343,
          1.031206094573712,
          1.0511863775350525,
          1.4570064545025743,
          2.3445923918900258,
          2.032020472721121,
          1.9941419722482452,
          1.7059837915877156,
          0.2490347667770562,
          0.9586733022694937,
          0.4405311899065918,
          0.4413999560734152,
          1.1573619356329186,
          0.8669965972348253,
          0.477374842718885,
          0.8948688424423541,
          0.7680090927905535,
          0.8885466076044373,
          0.7139187781587009,
          0.5865535112908133,
          0.8573777212585861,
          1.0022233024173206,
          0.9497951881907521,
          0.8026179631035445,
          1.250696173565694,
          1.0666050917095944,
          0.22544503411016079,
          0.8686418572965466,
          0.8863543077638588,
          0.36635448449747726,
          0.8650730979848954,
          0.9708293776130221,
          0.9457809758628486,
          0.9202503764131612,
          0.6987971178234255,
          0.6848037077433785,
          0.8667679189963258,
          0.8861727994270853,
          0.8360796337215592,
          0.915316679899853,
          0.6998109003988308,
          1.1830280616811397,
          0.928229054875426,
          1.2040669495699101,
          0.9455946923711043,
          1.2890774831392646,
          1.0479862937284004,
          1.0207292594717394,
          0.5716791357452157,
          0.5065293904282646,
          0.5517939931439408,
          0.5054089892220416,
          0.45492962958838157,
          0.38660509610737026,
          0.428493170061275,
          0.41143444051711026,
          0.35550306086849487,
          0.30121704078886574,
          0.27699531392987703,
          0.7791052023525854,
          0.7251096838732255,
          0.6852641442047691,
          0.6819461747398401,
          0.6121017050468687,
          0.5706257838373158,
          0.5131182412034269,
          0.47894936666613364,
          0.4923933403905942,
          0.44071421775117053,
          0.38444516545178825,
          0.3638229525481542,
          0.8553319330814259,
          0.8230473238837201,
          0.8002934386980664,
          0.7517295550414831,
          0.7612721215280843,
          0.6696592917816293,
          0.6504116717224268,
          0.6322640218421276,
          0.6363892537696472,
          0.5513683396933506,
          0.5426627557963339,
          0.6369485342013528,
          1.1191433940784743,
          1.0700739285024063,
          1.0349103846210936,
          1.0326611222174322,
          0.9368669948185944,
          0.924690915580724,
          0.9351380778171084,
          0.9034903284988547,
          0.8818674068463166,
          0.8685316483307179,
          0.8024770563981085,
          0.8097743806667337,
          1.2605135622069963,
          1.2407035991988704,
          1.212486633162323,
          1.2459556747775524,
          1.1924227549350315,
          1.1256206811599523,
          1.105558199520337,
          1.0748792860879814,
          1.0642078949898215,
          1.029204798312746,
          0.9554986668631332,
          1.0018451590548219,
          1.4355349922942704,
          1.3791102649820335,
          1.322533335685037,
          1.2620830202972393,
          0.8844949267088901,
          0.8281909437845841,
          0.9322772556843463,
          1.5087025853184857,
          1.2140722889460203,
          0.9557815298128663
         ]
        },
        {
         "customdata": [
          [
           "final fantasy xiv online",
           28073,
           718,
           9.99
          ],
          [
           "final fantasy xiv online",
           161306,
           4042,
           9.99
          ],
          [
           "final fantasy xiv online",
           156870,
           2828,
           9.99
          ],
          [
           "final fantasy xiv online",
           112170,
           1289,
           9.99
          ],
          [
           "final fantasy xiv online",
           80248,
           1132,
           9.99
          ],
          [
           "final fantasy xiv online",
           85820,
           1872,
           9.99
          ],
          [
           "final fantasy xiv online",
           77544,
           1243,
           9.99
          ],
          [
           "final fantasy xiv online",
           73167,
           829,
           9.99
          ],
          [
           "final fantasy xiv online",
           88859,
           1228,
           9.99
          ],
          [
           "final fantasy xiv online",
           118759,
           1264,
           9.99
          ],
          [
           "final fantasy xiv online",
           109948,
           1230,
           9.99
          ],
          [
           "final fantasy xiv online",
           97983,
           1554,
           9.99
          ],
          [
           "final fantasy xiv online",
           103695,
           1395,
           9.99
          ],
          [
           "final fantasy xiv online",
           127596,
           2796,
           9.99
          ],
          [
           "final fantasy xiv online",
           118993,
           1348,
           9.99
          ],
          [
           "final fantasy xiv online",
           88536,
           1056,
           9.99
          ],
          [
           "final fantasy xiv online",
           126316,
           1793,
           9.99
          ],
          [
           "final fantasy xiv online",
           116031,
           1305,
           9.99
          ],
          [
           "final fantasy xiv online",
           95303,
           1609,
           9.99
          ],
          [
           "final fantasy xiv online",
           103348,
           1371,
           9.99
          ],
          [
           "final fantasy xiv online",
           141456,
           1963,
           9.99
          ],
          [
           "final fantasy xiv online",
           136395,
           3053,
           9.99
          ],
          [
           "final fantasy xiv online",
           157226,
           3224,
           9.99
          ],
          [
           "final fantasy xiv online",
           161263,
           2687,
           9.99
          ],
          [
           "final fantasy xiv online",
           187296,
           3897,
           9.99
          ],
          [
           "final fantasy xiv online",
           253068,
           5391,
           9.99
          ],
          [
           "final fantasy xiv online",
           336957,
           6817,
           9.99
          ],
          [
           "final fantasy xiv online",
           311020,
           4379,
           9.99
          ],
          [
           "final fantasy xiv online",
           165842,
           2531,
           9.99
          ],
          [
           "final fantasy xiv online",
           152916,
           2243,
           9.99
          ],
          [
           "final fantasy xiv online",
           212298,
           5230,
           9.99
          ],
          [
           "final fantasy xiv online",
           187627,
           2605,
           9.99
          ],
          [
           "final fantasy xiv online",
           175048,
           2195,
           9.99
          ],
          [
           "final fantasy xiv online",
           261416,
           4002,
           9.99
          ],
          [
           "final fantasy xiv online",
           240505,
           2575,
           9.99
          ],
          [
           "final fantasy xiv online",
           239858,
           2812,
           9.99
          ],
          [
           "final fantasy xiv online",
           278327,
           3071,
           9.99
          ],
          [
           "final fantasy xiv online",
           232262,
           3004,
           9.99
          ],
          [
           "final fantasy xiv online",
           251952,
           3157,
           9.99
          ],
          [
           "final fantasy xiv online",
           334905,
           4573,
           9.99
          ],
          [
           "final fantasy xiv online",
           301407,
           4151,
           9.99
          ],
          [
           "final fantasy xiv online",
           262800,
           3020,
           9.99
          ],
          [
           "final fantasy xiv online",
           219617,
           2539,
           9.99
          ],
          [
           "final fantasy xiv online",
           435487,
           4636,
           9.99
          ],
          [
           "final fantasy xiv online",
           368697,
           3863,
           9.99
          ],
          [
           "final fantasy xiv online",
           341041,
           5279,
           9.99
          ],
          [
           "final fantasy xiv online",
           337230,
           4109,
           9.99
          ],
          [
           "final fantasy xiv online",
           337502,
           4226,
           9.99
          ],
          [
           "the witness",
           16728,
           732,
           29.99
          ],
          [
           "the witness",
           4191,
           239,
           29.99
          ],
          [
           "wreckfest",
           11441,
           1186,
           38.99
          ],
          [
           "wreckfest",
           13207,
           819,
           38.99
          ],
          [
           "wreckfest",
           7605,
           389,
           38.99
          ],
          [
           "company of heroes 2",
           7386,
           236,
           14.99
          ],
          [
           "company of heroes 2",
           7282,
           224,
           14.99
          ],
          [
           "company of heroes 2",
           7083,
           185,
           14.99
          ],
          [
           "company of heroes 2",
           6404,
           143,
           14.99
          ],
          [
           "company of heroes 2",
           5463,
           229,
           14.99
          ],
          [
           "company of heroes 2",
           4926,
           139,
           14.99
          ],
          [
           "company of heroes 2",
           5043,
           184,
           14.99
          ],
          [
           "company of heroes 2",
           7086,
           341,
           14.99
          ],
          [
           "company of heroes 2",
           7627,
           285,
           14.99
          ],
          [
           "a hat in time",
           20147,
           657,
           22.99
          ],
          [
           "a hat in time",
           6774,
           297,
           22.99
          ],
          [
           "a hat in time",
           14520,
           398,
           22.99
          ],
          [
           "xcom 2",
           101051,
           9208,
           34.99
          ],
          [
           "xcom 2",
           18384,
           546,
           34.99
          ],
          [
           "xcom 2",
           7105,
           182,
           34.99
          ],
          [
           "xcom 2",
           7580,
           211,
           34.99
          ],
          [
           "xcom 2",
           6162,
           197,
           34.99
          ],
          [
           "xcom 2",
           8322,
           235,
           34.99
          ],
          [
           "xcom 2",
           8345,
           151,
           34.99
          ],
          [
           "xcom 2",
           17852,
           199,
           34.99
          ],
          [
           "xcom 2",
           24183,
           1640,
           34.99
          ],
          [
           "xcom 2",
           20230,
           1047,
           34.99
          ],
          [
           "xcom 2",
           12455,
           582,
           34.99
          ],
          [
           "xcom 2",
           7424,
           311,
           34.99
          ],
          [
           "xcom 2",
           13280,
           1166,
           34.99
          ],
          [
           "xcom 2",
           14707,
           674,
           34.99
          ],
          [
           "xcom 2",
           16617,
           323,
           34.99
          ],
          [
           "xcom 2",
           18427,
           1809,
           34.99
          ],
          [
           "xcom 2",
           15779,
           1986,
           34.99
          ],
          [
           "duelyst",
           6281,
           664,
           0
          ],
          [
           "duelyst",
           2946,
           308,
           0
          ],
          [
           "duelyst",
           3087,
           208,
           0
          ],
          [
           "duelyst",
           2985,
           167,
           0
          ],
          [
           "duelyst",
           2082,
           173,
           0
          ],
          [
           "duelyst",
           3516,
           150,
           0
          ],
          [
           "duelyst",
           3836,
           165,
           0
          ],
          [
           "duelyst",
           2686,
           193,
           0
          ],
          [
           "far cry 4",
           20024,
           222,
           25.99
          ],
          [
           "archeage",
           6033,
           199,
           0
          ],
          [
           "archeage",
           5311,
           180,
           0
          ],
          [
           "archeage",
           25083,
           1120,
           0
          ],
          [
           "archeage",
           14811,
           331,
           0
          ],
          [
           "archeage",
           5951,
           645,
           0
          ],
          [
           "archeage",
           5060,
           494,
           0
          ],
          [
           "archeage",
           16391,
           371,
           0
          ],
          [
           "archeage",
           11834,
           698,
           0
          ],
          [
           "archeage",
           42321,
           2234,
           0
          ],
          [
           "archeage",
           23754,
           731,
           0
          ],
          [
           "zero escape zero time dilemma",
           3755,
           433,
           15.49
          ],
          [
           "sniper elite 4",
           20330,
           1275,
           39.99
          ],
          [
           "five nights at freddys",
           9694,
           805,
           3.99
          ],
          [
           "shadow warrior 2",
           14698,
           1034,
           34.99
          ],
          [
           "dark souls ii scholar of the first sin",
           63293,
           2305,
           29.99
          ],
          [
           "dark souls ii scholar of the first sin",
           77164,
           2125,
           29.99
          ],
          [
           "dark souls ii scholar of the first sin",
           50095,
           938,
           29.99
          ],
          [
           "dark souls ii scholar of the first sin",
           13640,
           170,
           29.99
          ],
          [
           "dark souls ii scholar of the first sin",
           14052,
           160,
           29.99
          ],
          [
           "dark souls ii scholar of the first sin",
           13353,
           218,
           29.99
          ],
          [
           "dark souls ii scholar of the first sin",
           18153,
           297,
           29.99
          ],
          [
           "dark souls ii scholar of the first sin",
           16191,
           189,
           29.99
          ],
          [
           "dark souls ii scholar of the first sin",
           16827,
           290,
           29.99
          ],
          [
           "dark souls ii scholar of the first sin",
           19150,
           323,
           29.99
          ],
          [
           "dark souls ii scholar of the first sin",
           17746,
           274,
           29.99
          ],
          [
           "dark souls ii scholar of the first sin",
           18685,
           350,
           29.99
          ],
          [
           "dark souls ii scholar of the first sin",
           17652,
           267,
           29.99
          ],
          [
           "dark souls ii scholar of the first sin",
           14213,
           411,
           29.99
          ],
          [
           "dark souls ii scholar of the first sin",
           16896,
           440,
           29.99
          ],
          [
           "dark souls ii scholar of the first sin",
           23315,
           395,
           29.99
          ],
          [
           "dark souls ii scholar of the first sin",
           19403,
           447,
           29.99
          ],
          [
           "dark souls ii scholar of the first sin",
           20537,
           511,
           29.99
          ],
          [
           "dark souls ii scholar of the first sin",
           19129,
           326,
           29.99
          ],
          [
           "dark souls ii scholar of the first sin",
           18967,
           496,
           29.99
          ],
          [
           "dark souls ii scholar of the first sin",
           19732,
           417,
           29.99
          ],
          [
           "dark souls ii scholar of the first sin",
           21533,
           340,
           29.99
          ],
          [
           "dark souls ii scholar of the first sin",
           16191,
           438,
           29.99
          ],
          [
           "dark souls ii scholar of the first sin",
           25743,
           1022,
           29.99
          ],
          [
           "dark souls ii scholar of the first sin",
           20421,
           656,
           29.99
          ],
          [
           "dark souls ii scholar of the first sin",
           21981,
           528,
           29.99
          ],
          [
           "dark souls ii scholar of the first sin",
           19566,
           581,
           29.99
          ],
          [
           "dark souls ii scholar of the first sin",
           18690,
           525,
           29.99
          ],
          [
           "dark souls ii scholar of the first sin",
           19890,
           694,
           29.99
          ],
          [
           "dark souls ii scholar of the first sin",
           18428,
           395,
           29.99
          ],
          [
           "dark souls ii scholar of the first sin",
           14482,
           338,
           29.99
          ],
          [
           "dark souls ii scholar of the first sin",
           13542,
           475,
           29.99
          ],
          [
           "dark souls ii scholar of the first sin",
           14901,
           422,
           29.99
          ],
          [
           "dark souls ii scholar of the first sin",
           18517,
           1033,
           29.99
          ],
          [
           "dark souls ii scholar of the first sin",
           25609,
           1019,
           29.99
          ],
          [
           "dark souls ii scholar of the first sin",
           25264,
           1233,
           29.99
          ],
          [
           "dark souls ii scholar of the first sin",
           26638,
           1236,
           29.99
          ],
          [
           "dark souls ii scholar of the first sin",
           33432,
           942,
           29.99
          ],
          [
           "dark souls ii scholar of the first sin",
           44757,
           774,
           29.99
          ],
          [
           "dark souls ii scholar of the first sin",
           43903,
           1151,
           29.99
          ],
          [
           "deus ex mankind divided",
           28711,
           3362,
           19.99
          ],
          [
           "deus ex mankind divided",
           10856,
           190,
           19.99
          ],
          [
           "elite dangerous",
           30244,
           383,
           19.99
          ],
          [
           "elite dangerous",
           20735,
           218,
           19.99
          ],
          [
           "elite dangerous",
           16841,
           165,
           19.99
          ],
          [
           "elite dangerous",
           17416,
           194,
           19.99
          ],
          [
           "elite dangerous",
           15072,
           169,
           19.99
          ],
          [
           "elite dangerous",
           18859,
           270,
           19.99
          ],
          [
           "elite dangerous",
           17061,
           207,
           19.99
          ],
          [
           "elite dangerous",
           16688,
           178,
           19.99
          ],
          [
           "elite dangerous",
           15629,
           182,
           19.99
          ],
          [
           "elite dangerous",
           29434,
           904,
           19.99
          ],
          [
           "elite dangerous",
           22278,
           319,
           19.99
          ],
          [
           "elite dangerous",
           18658,
           212,
           19.99
          ],
          [
           "elite dangerous",
           20742,
           265,
           19.99
          ],
          [
           "elite dangerous",
           20002,
           200,
           19.99
          ],
          [
           "elite dangerous",
           22107,
           231,
           19.99
          ],
          [
           "elite dangerous",
           39996,
           312,
           19.99
          ],
          [
           "elite dangerous",
           22949,
           259,
           19.99
          ],
          [
           "elite dangerous",
           25060,
           313,
           19.99
          ],
          [
           "elite dangerous",
           20932,
           217,
           19.99
          ],
          [
           "elite dangerous",
           25713,
           318,
           19.99
          ],
          [
           "elite dangerous",
           35522,
           380,
           19.99
          ],
          [
           "elite dangerous",
           27937,
           332,
           19.99
          ],
          [
           "elite dangerous",
           35079,
           345,
           19.99
          ],
          [
           "elite dangerous",
           29537,
           453,
           19.99
          ],
          [
           "elite dangerous",
           37881,
           526,
           19.99
          ],
          [
           "elite dangerous",
           23085,
           374,
           19.99
          ],
          [
           "tom clancys rainbow six siege",
           185962,
           2498,
           16.99
          ],
          [
           "tom clancys rainbow six siege",
           187356,
           1999,
           16.99
          ],
          [
           "tom clancys rainbow six siege",
           217976,
           2454,
           16.99
          ],
          [
           "tom clancys rainbow six siege",
           319737,
           4718,
           16.99
          ],
          [
           "tom clancys rainbow six siege",
           227208,
           3944,
           16.99
          ],
          [
           "tom clancys rainbow six siege",
           217913,
           2675,
           16.99
          ],
          [
           "tom clancys rainbow six siege",
           248170,
           5300,
           16.99
          ],
          [
           "tom clancys rainbow six siege",
           291276,
           4721,
           16.99
          ],
          [
           "tom clancys rainbow six siege",
           377942,
           7148,
           16.99
          ],
          [
           "tom clancys rainbow six siege",
           415794,
           6349,
           16.99
          ],
          [
           "tom clancys rainbow six siege",
           335216,
           5419,
           16.99
          ],
          [
           "tom clancys rainbow six siege",
           341844,
           5028,
           16.99
          ],
          [
           "tom clancys rainbow six siege",
           336562,
           5055,
           16.99
          ],
          [
           "tom clancys rainbow six siege",
           422296,
           6009,
           16.99
          ],
          [
           "tom clancys rainbow six siege",
           444348,
           6110,
           16.99
          ],
          [
           "tom clancys rainbow six siege",
           396763,
           8330,
           16.99
          ],
          [
           "tom clancys rainbow six siege",
           320703,
           6040,
           16.99
          ],
          [
           "tom clancys rainbow six siege",
           326018,
           6823,
           16.99
          ],
          [
           "tom clancys rainbow six siege",
           456948,
           7856,
           16.99
          ],
          [
           "tyranny",
           6105,
           383,
           23.79
          ],
          [
           "total war warhammer",
           28006,
           4229,
           39.99
          ],
          [
           "total war warhammer",
           25515,
           1263,
           39.99
          ],
          [
           "total war warhammer",
           10173,
           450,
           39.99
          ],
          [
           "total war warhammer",
           7866,
           419,
           39.99
          ],
          [
           "total war warhammer",
           7722,
           335,
           39.99
          ],
          [
           "total war warhammer",
           9793,
           249,
           39.99
          ],
          [
           "total war warhammer",
           6592,
           343,
           39.99
          ],
          [
           "total war warhammer",
           9488,
           389,
           39.99
          ],
          [
           "total war warhammer",
           13118,
           569,
           39.99
          ],
          [
           "total war warhammer",
           9696,
           340,
           39.99
          ],
          [
           "the elder scrolls legends",
           16505,
           527,
           0
          ],
          [
           "the elder scrolls legends",
           7259,
           258,
           0
          ],
          [
           "the elder scrolls legends",
           6603,
           424,
           0
          ],
          [
           "the elder scrolls legends",
           4131,
           171,
           0
          ],
          [
           "the elder scrolls legends",
           3251,
           203,
           0
          ],
          [
           "the elder scrolls legends",
           4786,
           501,
           0
          ],
          [
           "the elder scrolls legends",
           4321,
           386,
           0
          ],
          [
           "the elder scrolls legends",
           12690,
           1023,
           0
          ],
          [
           "the elder scrolls legends",
           19545,
           2486,
           0
          ],
          [
           "the elder scrolls legends",
           26762,
           3681,
           0
          ],
          [
           "the elder scrolls legends",
           24788,
           3890,
           0
          ],
          [
           "the elder scrolls legends",
           16647,
           2859,
           0
          ],
          [
           "the elder scrolls legends",
           13744,
           2422,
           0
          ],
          [
           "the elder scrolls legends",
           14200,
           1743,
           0
          ],
          [
           "the elder scrolls legends",
           12536,
           1275,
           0
          ],
          [
           "the elder scrolls legends",
           11297,
           1335,
           0
          ],
          [
           "the elder scrolls legends",
           13516,
           1458,
           0
          ],
          [
           "the elder scrolls legends",
           15317,
           2139,
           0
          ],
          [
           "the elder scrolls legends",
           13995,
           2105,
           0
          ],
          [
           "the elder scrolls legends",
           12529,
           2058,
           0
          ],
          [
           "the elder scrolls legends",
           13839,
           1906,
           0
          ],
          [
           "the elder scrolls legends",
           15968,
           1782,
           0
          ],
          [
           "the elder scrolls legends",
           12790,
           1018,
           0
          ],
          [
           "the elder scrolls legends",
           6111,
           370,
           0
          ],
          [
           "the elder scrolls legends",
           7549,
           465,
           0
          ],
          [
           "the elder scrolls legends",
           6217,
           334,
           0
          ],
          [
           "the elder scrolls legends",
           8136,
           713,
           0
          ],
          [
           "the elder scrolls legends",
           7178,
           736,
           0
          ],
          [
           "the elder scrolls legends",
           6331,
           524,
           0
          ],
          [
           "the elder scrolls legends",
           5866,
           525,
           0
          ],
          [
           "the elder scrolls legends",
           5181,
           418,
           0
          ],
          [
           "the elder scrolls legends",
           5095,
           396,
           0
          ],
          [
           "the elder scrolls legends",
           4468,
           337,
           0
          ],
          [
           "battle brothers",
           3191,
           237,
           22.99
          ],
          [
           "battle brothers",
           3287,
           310,
           22.99
          ],
          [
           "battle brothers",
           8061,
           680,
           22.99
          ],
          [
           "battle brothers",
           6723,
           582,
           22.99
          ],
          [
           "battle brothers",
           9614,
           1062,
           22.99
          ],
          [
           "tom clancys the division",
           61799,
           6051,
           41.99
          ],
          [
           "tom clancys the division",
           89433,
           3953,
           41.99
          ],
          [
           "tom clancys the division",
           542007,
           9822,
           41.99
          ],
          [
           "tom clancys the division",
           292302,
           5584,
           41.99
          ],
          [
           "tom clancys the division",
           206650,
           4604,
           41.99
          ],
          [
           "tom clancys the division",
           158276,
           3688,
           41.99
          ],
          [
           "tom clancys the division",
           109265,
           827,
           41.99
          ],
          [
           "tom clancys the division",
           67294,
           733,
           41.99
          ],
          [
           "tom clancys the division",
           76637,
           840,
           41.99
          ],
          [
           "tom clancys the division",
           149423,
           3577,
           41.99
          ],
          [
           "tom clancys the division",
           201034,
           3379,
           41.99
          ],
          [
           "tom clancys the division",
           182745,
           2949,
           41.99
          ],
          [
           "tom clancys the division",
           116861,
           1424,
           41.99
          ],
          [
           "tom clancys the division",
           127682,
           1388,
           41.99
          ],
          [
           "tom clancys the division",
           71353,
           670,
           41.99
          ],
          [
           "tom clancys the division",
           86399,
           718,
           41.99
          ],
          [
           "tom clancys the division",
           72029,
           604,
           41.99
          ],
          [
           "tom clancys the division",
           78056,
           568,
           41.99
          ],
          [
           "tom clancys the division",
           85531,
           656,
           41.99
          ],
          [
           "tom clancys the division",
           67671,
           587,
           41.99
          ],
          [
           "tom clancys the division",
           59124,
           520,
           41.99
          ],
          [
           "tom clancys the division",
           46166,
           416,
           41.99
          ],
          [
           "tom clancys the division",
           138131,
           3685,
           41.99
          ],
          [
           "tom clancys the division",
           156828,
           1882,
           41.99
          ],
          [
           "tom clancys the division",
           88921,
           903,
           41.99
          ],
          [
           "tom clancys the division",
           104058,
           1417,
           41.99
          ],
          [
           "tom clancys the division",
           83502,
           810,
           41.99
          ],
          [
           "tom clancys the division",
           64627,
           523,
           41.99
          ],
          [
           "tom clancys the division",
           93570,
           993,
           41.99
          ],
          [
           "tom clancys the division",
           93216,
           827,
           41.99
          ],
          [
           "tom clancys the division",
           71818,
           605,
           41.99
          ],
          [
           "tom clancys the division",
           58080,
           462,
           41.99
          ],
          [
           "tom clancys the division",
           43301,
           341,
           41.99
          ],
          [
           "tom clancys the division",
           37515,
           363,
           41.99
          ],
          [
           "tom clancys the division",
           52153,
           620,
           41.99
          ],
          [
           "tom clancys the division",
           94116,
           1046,
           41.99
          ],
          [
           "tom clancys the division",
           77389,
           725,
           41.99
          ],
          [
           "dragons dogma dark arisen",
           34912,
           2033,
           23.99
          ],
          [
           "dragons dogma dark arisen",
           11882,
           423,
           23.99
          ],
          [
           "dragons dogma dark arisen",
           33232,
           294,
           23.99
          ],
          [
           "dragons dogma dark arisen",
           4111,
           785,
           23.99
          ],
          [
           "dragons dogma dark arisen",
           5033,
           945,
           23.99
          ],
          [
           "trackmania turbo",
           9840,
           606,
           33.99
          ],
          [
           "trackmania turbo",
           10261,
           374,
           33.99
          ],
          [
           "fallout 4",
           269643,
           2263,
           19.99
          ],
          [
           "fallout 4",
           149634,
           983,
           19.99
          ],
          [
           "fallout 4",
           150412,
           1076,
           19.99
          ],
          [
           "fallout 4",
           130886,
           993,
           19.99
          ],
          [
           "fallout 4",
           177926,
           2019,
           19.99
          ],
          [
           "fallout 4",
           159267,
           1170,
           19.99
          ],
          [
           "fallout 4",
           121460,
           1177,
           19.99
          ],
          [
           "fallout 4",
           124087,
           1313,
           19.99
          ],
          [
           "fallout 4",
           114858,
           1031,
           19.99
          ],
          [
           "fallout 4",
           79092,
           468,
           19.99
          ],
          [
           "fallout 4",
           77859,
           473,
           19.99
          ],
          [
           "fallout 4",
           70952,
           442,
           19.99
          ],
          [
           "fallout 4",
           81507,
           1964,
           19.99
          ],
          [
           "fallout 4",
           69704,
           877,
           19.99
          ],
          [
           "fallout 4",
           60741,
           584,
           19.99
          ],
          [
           "fallout 4",
           53783,
           466,
           19.99
          ],
          [
           "fallout 4",
           63442,
           406,
           19.99
          ],
          [
           "fallout 4",
           68972,
           561,
           19.99
          ],
          [
           "fallout 4",
           73803,
           503,
           19.99
          ],
          [
           "fallout 4",
           65534,
           576,
           19.99
          ],
          [
           "fallout 4",
           57354,
           581,
           19.99
          ],
          [
           "fallout 4",
           56123,
           398,
           19.99
          ],
          [
           "fallout 4",
           55272,
           745,
           19.99
          ],
          [
           "fallout 4",
           65720,
           1026,
           19.99
          ],
          [
           "fallout 4",
           70626,
           516,
           19.99
          ],
          [
           "fallout 4",
           62921,
           395,
           19.99
          ],
          [
           "fallout 4",
           60154,
           360,
           19.99
          ],
          [
           "fallout 4",
           52458,
           553,
           19.99
          ],
          [
           "fallout 4",
           60176,
           800,
           19.99
          ],
          [
           "fallout 4",
           122025,
           1140,
           19.99
          ],
          [
           "fallout 4",
           101963,
           1129,
           19.99
          ],
          [
           "fallout 4",
           78709,
           801,
           19.99
          ],
          [
           "fallout 4",
           67130,
           587,
           19.99
          ],
          [
           "fallout 4",
           84908,
           1777,
           19.99
          ],
          [
           "fallout 4",
           65860,
           1076,
           19.99
          ],
          [
           "fallout 4",
           40091,
           719,
           19.99
          ],
          [
           "fallout 4",
           38531,
           357,
           19.99
          ],
          [
           "fallout 4",
           42317,
           415,
           19.99
          ],
          [
           "fallout 4",
           57019,
           1739,
           19.99
          ],
          [
           "final fantasy 9",
           15487,
           343,
           15.99
          ],
          [
           "final fantasy 9",
           10061,
           243,
           15.99
          ],
          [
           "final fantasy 9",
           5003,
           185,
           15.99
          ],
          [
           "final fantasy 9",
           3879,
           172,
           15.99
          ],
          [
           "final fantasy 9",
           4499,
           211,
           15.99
          ],
          [
           "project cars 2",
           10663,
           279,
           44.99
          ],
          [
           "firewatch",
           28712,
           2257,
           14.99
          ],
          [
           "abzu",
           5738,
           455,
           14.99
          ],
          [
           "tekken 7",
           502,
           143,
           34.99
          ],
          [
           "tekken 7",
           618,
           214,
           34.99
          ],
          [
           "tekken 7",
           96360,
           8758,
           34.99
          ],
          [
           "tekken 7",
           43615,
           3259,
           34.99
          ],
          [
           "tekken 7",
           33642,
           1593,
           34.99
          ],
          [
           "tekken 7",
           28659,
           1557,
           34.99
          ],
          [
           "tekken 7",
           25863,
           1315,
           34.99
          ],
          [
           "tekken 7",
           25923,
           1734,
           34.99
          ],
          [
           "tekken 7",
           29360,
           1275,
           34.99
          ],
          [
           "tekken 7",
           29038,
           1017,
           34.99
          ],
          [
           "tekken 7",
           22594,
           1066,
           34.99
          ],
          [
           "tekken 7",
           30760,
           2018,
           34.99
          ],
          [
           "tekken 7",
           26992,
           1419,
           34.99
          ],
          [
           "tekken 7",
           28516,
           1737,
           34.99
          ],
          [
           "tekken 7",
           28593,
           1446,
           34.99
          ],
          [
           "tekken 7",
           32797,
           1853,
           34.99
          ],
          [
           "tekken 7",
           37265,
           2930,
           34.99
          ],
          [
           "tekken 7",
           48991,
           4671,
           34.99
          ],
          [
           "tekken 7",
           40716,
           2286,
           34.99
          ],
          [
           "tekken 7",
           31959,
           1343,
           34.99
          ],
          [
           "tekken 7",
           41646,
           2838,
           34.99
          ],
          [
           "tekken 7",
           40938,
           1145,
           34.99
          ],
          [
           "tekken 7",
           36167,
           1539,
           34.99
          ],
          [
           "tekken 7",
           42427,
           1611,
           34.99
          ],
          [
           "tekken 7",
           38912,
           1455,
           34.99
          ],
          [
           "tekken 7",
           39250,
           2208,
           34.99
          ],
          [
           "tekken 7",
           39397,
           2386,
           34.99
          ],
          [
           "tekken 7",
           42893,
           2328,
           34.99
          ],
          [
           "tekken 7",
           50706,
           4084,
           34.99
          ],
          [
           "tekken 7",
           52215,
           2683,
           34.99
          ],
          [
           "tekken 7",
           43624,
           1868,
           34.99
          ],
          [
           "tekken 7",
           38121,
           2185,
           34.99
          ],
          [
           "tekken 7",
           48171,
           3383,
           34.99
          ],
          [
           "tekken 7",
           45593,
           1612,
           34.99
          ],
          [
           "tekken 7",
           41318,
           1132,
           34.99
          ],
          [
           "tekken 7",
           47567,
           1347,
           34.99
          ],
          [
           "tekken 7",
           48374,
           1190,
           34.99
          ],
          [
           "tekken 7",
           57439,
           1729,
           34.99
          ],
          [
           "tekken 7",
           51028,
           1367,
           34.99
          ],
          [
           "tekken 7",
           56907,
           1478,
           34.99
          ],
          [
           "tekken 7",
           60067,
           1738,
           34.99
          ],
          [
           "tekken 7",
           58270,
           2019,
           34.99
          ],
          [
           "tekken 7",
           55473,
           1572,
           34.99
          ],
          [
           "tekken 7",
           73724,
           3156,
           34.99
          ],
          [
           "tekken 7",
           62516,
           2039,
           34.99
          ],
          [
           "tekken 7",
           63175,
           1663,
           34.99
          ],
          [
           "tekken 7",
           54745,
           1608,
           34.99
          ],
          [
           "tekken 7",
           66144,
           1896,
           34.99
          ],
          [
           "tekken 7",
           63164,
           1803,
           34.99
          ],
          [
           "f1 2016",
           4626,
           202,
           39.99
          ],
          [
           "f1 2016",
           3712,
           133,
           39.99
          ],
          [
           "hearts of iron iv",
           14033,
           1339,
           34.99
          ],
          [
           "hearts of iron iv",
           7580,
           341,
           34.99
          ],
          [
           "hearts of iron iv",
           3294,
           226,
           34.99
          ],
          [
           "hearts of iron iv",
           6600,
           349,
           34.99
          ],
          [
           "hearts of iron iv",
           7236,
           367,
           34.99
          ],
          [
           "hearts of iron iv",
           11426,
           403,
           34.99
          ],
          [
           "hearts of iron iv",
           9101,
           472,
           34.99
          ],
          [
           "hearts of iron iv",
           10356,
           435,
           34.99
          ],
          [
           "hearts of iron iv",
           9365,
           294,
           34.99
          ],
          [
           "hearts of iron iv",
           9562,
           402,
           34.99
          ],
          [
           "hearts of iron iv",
           11852,
           525,
           34.99
          ],
          [
           "hearts of iron iv",
           12213,
           989,
           34.99
          ],
          [
           "hearts of iron iv",
           16736,
           647,
           34.99
          ],
          [
           "hearts of iron iv",
           10802,
           451,
           34.99
          ],
          [
           "hearts of iron iv",
           10579,
           400,
           34.99
          ],
          [
           "hearts of iron iv",
           8621,
           395,
           34.99
          ],
          [
           "hearts of iron iv",
           8896,
           381,
           34.99
          ],
          [
           "hearts of iron iv",
           8540,
           398,
           34.99
          ],
          [
           "hearts of iron iv",
           11683,
           820,
           34.99
          ],
          [
           "hearts of iron iv",
           12619,
           557,
           34.99
          ],
          [
           "hearts of iron iv",
           13549,
           712,
           34.99
          ],
          [
           "hearts of iron iv",
           16141,
           1123,
           34.99
          ],
          [
           "hearts of iron iv",
           18433,
           1216,
           34.99
          ],
          [
           "everspace",
           2611,
           196,
           22.99
          ],
          [
           "faeria",
           2855,
           560,
           18.99
          ],
          [
           "faeria",
           3260,
           627,
           18.99
          ],
          [
           "faeria",
           1826,
           255,
           18.99
          ],
          [
           "faeria",
           1690,
           180,
           18.99
          ],
          [
           "dishonored 2",
           49624,
           3257,
           29.99
          ],
          [
           "dishonored 2",
           17773,
           267,
           29.99
          ],
          [
           "hex shards of fate",
           3917,
           226,
           0
          ],
          [
           "hex shards of fate",
           2524,
           293,
           0
          ],
          [
           "hex shards of fate",
           2281,
           134,
           0
          ],
          [
           "danganronpa trigger happy havoc",
           2075,
           155,
           14.99
          ],
          [
           "danganronpa trigger happy havoc",
           3075,
           478,
           14.99
          ],
          [
           "hellblade senuas sacrifice",
           42996,
           2002,
           24.99
          ],
          [
           "hellblade senuas sacrifice",
           8012,
           230,
           24.99
          ],
          [
           "motorsport manager",
           2338,
           1182,
           24.99
          ],
          [
           "motorsport manager",
           6162,
           1237,
           24.99
          ],
          [
           "shadow tactics blades of the shogun",
           4900,
           279,
           34.99
          ],
          [
           "rising storm 2 vietnam",
           10072,
           227,
           18.99
          ],
          [
           "rising storm 2 vietnam",
           11863,
           223,
           18.99
          ],
          [
           "little nightmares",
           11513,
           867,
           15.99
          ],
          [
           "little nightmares",
           25346,
           1046,
           15.99
          ],
          [
           "little nightmares",
           7677,
           477,
           15.99
          ],
          [
           "little nightmares",
           3484,
           219,
           15.99
          ],
          [
           "little nightmares",
           88858,
           2470,
           15.99
          ],
          [
           "little nightmares",
           81702,
           2425,
           15.99
          ],
          [
           "little nightmares",
           42456,
           1519,
           15.99
          ],
          [
           "tales of berseria",
           3837,
           398,
           39.99
          ],
          [
           "tales of berseria",
           22357,
           384,
           39.99
          ],
          [
           "slime rancher",
           2240,
           202,
           14.99
          ],
          [
           "slime rancher",
           26859,
           596,
           14.99
          ],
          [
           "slime rancher",
           36511,
           376,
           14.99
          ],
          [
           "battle chasers nightwar",
           16914,
           1061,
           24.99
          ],
          [
           "hand of fate 2",
           14237,
           1894,
           23.79
          ],
          [
           "hand of fate 2",
           3497,
           349,
           23.79
          ],
          [
           "vanquish",
           3074,
           272,
           14.99
          ],
          [
           "prey",
           1427,
           214,
           19.99
          ],
          [
           "prey",
           100209,
           4494,
           19.99
          ],
          [
           "prey",
           18320,
           251,
           19.99
          ],
          [
           "prey",
           10967,
           423,
           19.99
          ],
          [
           "prey",
           15594,
           690,
           19.99
          ],
          [
           "nioh",
           1382,
           213,
           39.99
          ],
          [
           "nioh",
           5358,
           1033,
           39.99
          ],
          [
           "nioh",
           199161,
           12862,
           39.99
          ],
          [
           "nioh",
           45516,
           623,
           39.99
          ],
          [
           "nioh",
           17824,
           178,
           39.99
          ],
          [
           "nioh",
           23912,
           480,
           39.99
          ],
          [
           "nioh",
           17175,
           520,
           39.99
          ],
          [
           "nioh",
           11373,
           324,
           39.99
          ],
          [
           "nioh",
           13113,
           212,
           39.99
          ],
          [
           "nioh",
           45994,
           2017,
           39.99
          ],
          [
           "nioh",
           33870,
           907,
           39.99
          ],
          [
           "nioh",
           28451,
           371,
           39.99
          ],
          [
           "nioh",
           15231,
           279,
           39.99
          ],
          [
           "nioh",
           23411,
           418,
           39.99
          ],
          [
           "nioh",
           22541,
           434,
           39.99
          ],
          [
           "nioh",
           32048,
           856,
           39.99
          ],
          [
           "south park the fractured but whole",
           99180,
           9316,
           49.99
          ],
          [
           "south park the fractured but whole",
           28396,
           883,
           49.99
          ],
          [
           "south park the fractured but whole",
           8286,
           409,
           49.99
          ],
          [
           "south park the fractured but whole",
           2421,
           402,
           49.99
          ],
          [
           "rime",
           3286,
           207,
           29.99
          ],
          [
           "rime",
           4275,
           253,
           29.99
          ],
          [
           "planet coaster",
           3206,
           174,
           29.99
          ],
          [
           "planet coaster",
           2057,
           169,
           29.99
          ],
          [
           "planet coaster",
           41844,
           5007,
           29.99
          ],
          [
           "planet coaster",
           24326,
           1255,
           29.99
          ],
          [
           "planet coaster",
           6899,
           553,
           29.99
          ],
          [
           "planet coaster",
           10224,
           581,
           29.99
          ],
          [
           "celeste",
           20863,
           1056,
           14.99
          ],
          [
           "celeste",
           12945,
           446,
           14.99
          ],
          [
           "celeste",
           8569,
           415,
           14.99
          ],
          [
           "celeste",
           11888,
           410,
           14.99
          ],
          [
           "celeste",
           22740,
           950,
           14.99
          ],
          [
           "celeste",
           11618,
           333,
           14.99
          ],
          [
           "celeste",
           32004,
           577,
           14.99
          ],
          [
           "celeste",
           14029,
           390,
           14.99
          ],
          [
           "f1 2017",
           8322,
           401,
           44.99
          ],
          [
           "f1 2017",
           4282,
           259,
           44.99
          ],
          [
           "f1 2017",
           6369,
           317,
           44.99
          ],
          [
           "star trek bridge crew",
           588,
           354,
           33.99
          ],
          [
           "star trek bridge crew",
           2116,
           296,
           33.99
          ],
          [
           "for the king",
           3301,
           372,
           15.49
          ],
          [
           "for the king",
           8806,
           508,
           15.49
          ],
          [
           "for the king",
           8442,
           1844,
           15.49
          ],
          [
           "for the king",
           37744,
           1466,
           15.49
          ],
          [
           "two point hospital",
           12475,
           1512,
           24.99
          ],
          [
           "two point hospital",
           42847,
           2293,
           24.99
          ],
          [
           "two point hospital",
           7343,
           302,
           24.99
          ],
          [
           "warhammer vermintide 2",
           14782,
           1406,
           23.79
          ],
          [
           "warhammer vermintide 2",
           193482,
           6259,
           23.79
          ],
          [
           "warhammer vermintide 2",
           47601,
           739,
           23.79
          ],
          [
           "warhammer vermintide 2",
           18674,
           343,
           23.79
          ],
          [
           "warhammer vermintide 2",
           24954,
           545,
           23.79
          ],
          [
           "far cry 5",
           191608,
           13752,
           49.99
          ],
          [
           "far cry 5",
           270768,
           5784,
           49.99
          ],
          [
           "far cry 5",
           52405,
           556,
           49.99
          ],
          [
           "life is strange before the storm",
           17191,
           631,
           13.99
          ],
          [
           "life is strange before the storm",
           15498,
           345,
           13.99
          ],
          [
           "life is strange before the storm",
           6110,
           241,
           13.99
          ],
          [
           "life is strange before the storm",
           19177,
           433,
           13.99
          ],
          [
           "life is strange before the storm",
           13526,
           308,
           13.99
          ],
          [
           "detention",
           5696,
           831,
           8.99
          ],
          [
           "stories untold",
           433,
           183,
           6.99
          ],
          [
           "pillars of eternity ii deadfire",
           25887,
           2330,
           32.99
          ],
          [
           "thimbleweed park",
           3268,
           381,
           14.99
          ],
          [
           "dark souls",
           30235,
           1582,
           34.99
          ],
          [
           "dark souls",
           35863,
           2699,
           34.99
          ],
          [
           "dark souls",
           52021,
           2315,
           34.99
          ],
          [
           "dark souls",
           55440,
           2012,
           34.99
          ],
          [
           "dark souls",
           33781,
           623,
           34.99
          ],
          [
           "dark souls",
           24032,
           502,
           34.99
          ],
          [
           "dark souls",
           19173,
           356,
           34.99
          ],
          [
           "dark souls",
           18729,
           691,
           34.99
          ],
          [
           "dark souls",
           16559,
           671,
           34.99
          ],
          [
           "dark souls",
           21700,
           663,
           34.99
          ],
          [
           "dark souls",
           20934,
           502,
           34.99
          ],
          [
           "dark souls",
           22574,
           1032,
           34.99
          ],
          [
           "dark souls",
           26597,
           904,
           34.99
          ],
          [
           "dark souls",
           22568,
           663,
           34.99
          ],
          [
           "dark souls",
           22749,
           473,
           34.99
          ],
          [
           "dark souls",
           30551,
           1117,
           34.99
          ],
          [
           "dark souls",
           28375,
           673,
           34.99
          ],
          [
           "dark souls",
           24252,
           633,
           34.99
          ],
          [
           "dark souls",
           25638,
           1151,
           34.99
          ],
          [
           "dark souls",
           25818,
           1112,
           34.99
          ],
          [
           "dark souls",
           22632,
           551,
           34.99
          ],
          [
           "dark souls",
           23022,
           522,
           34.99
          ],
          [
           "dark souls",
           23268,
           1202,
           34.99
          ],
          [
           "dark souls",
           25610,
           858,
           34.99
          ],
          [
           "dark souls",
           34356,
           1286,
           34.99
          ],
          [
           "dark souls",
           25942,
           976,
           34.99
          ],
          [
           "dark souls",
           27746,
           889,
           34.99
          ],
          [
           "dark souls",
           25856,
           725,
           34.99
          ],
          [
           "dark souls",
           105505,
           8072,
           34.99
          ],
          [
           "dark souls",
           136788,
           8044,
           34.99
          ],
          [
           "dark souls",
           59393,
           2439,
           34.99
          ],
          [
           "dark souls",
           31402,
           999,
           34.99
          ],
          [
           "dark souls",
           25209,
           810,
           34.99
          ],
          [
           "dark souls",
           27280,
           821,
           34.99
          ],
          [
           "dark souls",
           25280,
           582,
           34.99
          ],
          [
           "dark souls",
           33837,
           2638,
           34.99
          ],
          [
           "dark souls",
           60038,
           4051,
           34.99
          ],
          [
           "dark souls",
           37003,
           1137,
           34.99
          ],
          [
           "dark souls",
           40164,
           1307,
           34.99
          ],
          [
           "dark souls",
           32756,
           825,
           34.99
          ],
          [
           "dark souls",
           33709,
           1426,
           34.99
          ],
          [
           "dark souls",
           35572,
           1805,
           34.99
          ],
          [
           "dark souls",
           37116,
           1516,
           34.99
          ],
          [
           "dark souls",
           36436,
           1802,
           34.99
          ],
          [
           "dark souls",
           28111,
           1099,
           34.99
          ],
          [
           "dark souls",
           26648,
           881,
           34.99
          ],
          [
           "dark souls",
           28449,
           927,
           34.99
          ],
          [
           "dark souls",
           33687,
           822,
           34.99
          ],
          [
           "dark souls",
           44402,
           1875,
           34.99
          ],
          [
           "dark souls",
           42309,
           1541,
           34.99
          ],
          [
           "dark souls",
           44559,
           1124,
           34.99
          ],
          [
           "dark souls",
           58952,
           2983,
           34.99
          ],
          [
           "dark souls",
           73249,
           2686,
           34.99
          ],
          [
           "dark souls",
           64271,
           1426,
           34.99
          ],
          [
           "dark souls",
           68581,
           2043,
           34.99
          ],
          [
           "dark souls",
           60967,
           1137,
           34.99
          ],
          [
           "dark souls",
           56874,
           2210,
           34.99
          ],
          [
           "dark souls",
           49781,
           1324,
           34.99
          ],
          [
           "dark souls",
           70228,
           1541,
           34.99
          ],
          [
           "dark souls",
           69134,
           1615,
           34.99
          ],
          [
           "dark souls",
           76507,
           1756,
           34.99
          ],
          [
           "dark souls",
           70457,
           2123,
           34.99
          ],
          [
           "dark souls",
           79472,
           2157,
           34.99
          ],
          [
           "dark souls",
           72093,
           2235,
           34.99
          ],
          [
           "playerunknowns battlegrounds",
           743,
           226,
           26.99
          ],
          [
           "playerunknowns battlegrounds",
           8909,
           1193,
           26.99
          ],
          [
           "playerunknowns battlegrounds",
           3771,
           869,
           26.99
          ],
          [
           "playerunknowns battlegrounds",
           12467,
           3099,
           26.99
          ],
          [
           "monster hunter world",
           33277,
           3283,
           49.99
          ],
          [
           "monster hunter world",
           226032,
           16608,
           49.99
          ],
          [
           "monster hunter world",
           419257,
           19635,
           49.99
          ],
          [
           "monster hunter world",
           156107,
           4525,
           49.99
          ],
          [
           "monster hunter world",
           101447,
           2652,
           49.99
          ],
          [
           "monster hunter world",
           59106,
           1207,
           49.99
          ],
          [
           "monster hunter world",
           60961,
           1328,
           49.99
          ],
          [
           "monster hunter world",
           60693,
           1130,
           49.99
          ],
          [
           "monster hunter world",
           254112,
           4545,
           49.99
          ],
          [
           "monster hunter world",
           122172,
           1883,
           49.99
          ],
          [
           "monster hunter world",
           100672,
           1597,
           49.99
          ],
          [
           "monster hunter world",
           132334,
           2062,
           49.99
          ],
          [
           "monster hunter world",
           165608,
           2363,
           49.99
          ],
          [
           "monster hunter world",
           107656,
           1893,
           49.99
          ],
          [
           "monster hunter world",
           72753,
           907,
           49.99
          ],
          [
           "monster hunter world",
           83985,
           1184,
           49.99
          ],
          [
           "monster hunter world",
           126896,
           2153,
           49.99
          ],
          [
           "monster hunter world",
           118315,
           2482,
           49.99
          ],
          [
           "monster hunter world",
           140855,
           2815,
           49.99
          ],
          [
           "monster hunter world",
           153332,
           3687,
           49.99
          ],
          [
           "monster hunter world",
           282546,
           11776,
           49.99
          ],
          [
           "monster hunter world",
           177198,
           4208,
           49.99
          ],
          [
           "monster hunter world",
           101951,
           1600,
           49.99
          ],
          [
           "monster hunter world",
           156725,
           4126,
           49.99
          ],
          [
           "monster hunter world",
           319826,
           12385,
           49.99
          ],
          [
           "monster hunter world",
           214834,
           5045,
           49.99
          ],
          [
           "monster hunter world",
           231102,
           4020,
           49.99
          ],
          [
           "monster hunter world",
           219139,
           3565,
           49.99
          ],
          [
           "monster hunter world",
           196237,
           3761,
           49.99
          ],
          [
           "monster hunter world",
           121283,
           1903,
           49.99
          ],
          [
           "monster hunter world",
           244255,
           5064,
           49.99
          ],
          [
           "monster hunter world",
           172461,
           2696,
           49.99
          ],
          [
           "monster hunter world",
           161071,
           2362,
           49.99
          ],
          [
           "monster hunter world",
           249123,
           5778,
           49.99
          ],
          [
           "monster hunter world",
           128856,
           1711,
           49.99
          ],
          [
           "monster hunter world",
           127412,
           1441,
           49.99
          ],
          [
           "monster hunter world",
           162954,
           2139,
           49.99
          ],
          [
           "monster hunter world",
           125510,
           2155,
           49.99
          ],
          [
           "monster hunter world",
           128585,
           1720,
           49.99
          ],
          [
           "assassins creed origins",
           49693,
           4710,
           49.99
          ],
          [
           "assassins creed origins",
           103414,
           4178,
           49.99
          ],
          [
           "assassins creed origins",
           36865,
           589,
           49.99
          ],
          [
           "assassins creed origins",
           34414,
           440,
           49.99
          ],
          [
           "assassins creed origins",
           28746,
           267,
           49.99
          ],
          [
           "assassins creed origins",
           28268,
           306,
           49.99
          ],
          [
           "the end is nigh",
           7300,
           835,
           10.99
          ],
          [
           "dead cells",
           29167,
           1863,
           21.99
          ],
          [
           "dead cells",
           16746,
           422,
           21.99
          ],
          [
           "dead cells",
           7253,
           228,
           21.99
          ],
          [
           "dead cells",
           10988,
           324,
           21.99
          ],
          [
           "dead cells",
           7126,
           322,
           21.99
          ],
          [
           "dead cells",
           7762,
           266,
           21.99
          ],
          [
           "dead cells",
           10017,
           347,
           21.99
          ],
          [
           "dead cells",
           70860,
           3295,
           21.99
          ],
          [
           "dead cells",
           26113,
           958,
           21.99
          ],
          [
           "dead cells",
           14985,
           361,
           21.99
          ],
          [
           "dead cells",
           10479,
           608,
           21.99
          ],
          [
           "dead cells",
           10674,
           360,
           21.99
          ],
          [
           "dead cells",
           20617,
           708,
           21.99
          ],
          [
           "ni no kuni ii revenant kingdom",
           40633,
           1290,
           49.99
          ],
          [
           "ni no kuni ii revenant kingdom",
           33829,
           610,
           49.99
          ],
          [
           "the red strings club",
           657,
           295,
           11.39
          ],
          [
           "into the breach",
           5069,
           830,
           11.39
          ],
          [
           "into the breach",
           20098,
           1058,
           11.39
          ],
          [
           "total war warhammer 2",
           11073,
           1809,
           39.99
          ],
          [
           "total war warhammer 2",
           32502,
           1636,
           39.99
          ],
          [
           "total war warhammer 2",
           13895,
           614,
           39.99
          ],
          [
           "total war warhammer 2",
           9093,
           229,
           39.99
          ],
          [
           "total war warhammer 2",
           15186,
           618,
           39.99
          ],
          [
           "total war warhammer 2",
           10476,
           400,
           39.99
          ],
          [
           "total war warhammer 2",
           10869,
           1192,
           39.99
          ],
          [
           "total war warhammer 2",
           10756,
           650,
           39.99
          ],
          [
           "total war warhammer 2",
           15341,
           722,
           39.99
          ],
          [
           "total war warhammer 2",
           13159,
           486,
           39.99
          ],
          [
           "total war warhammer 2",
           10971,
           973,
           39.99
          ],
          [
           "total war warhammer 2",
           10411,
           430,
           39.99
          ],
          [
           "total war warhammer 2",
           13840,
           786,
           39.99
          ],
          [
           "total war warhammer 2",
           18446,
           1030,
           39.99
          ],
          [
           "total war warhammer 2",
           13919,
           462,
           39.99
          ],
          [
           "total war warhammer 2",
           15649,
           510,
           39.99
          ],
          [
           "total war warhammer 2",
           12253,
           553,
           39.99
          ],
          [
           "total war warhammer 2",
           19040,
           867,
           39.99
          ],
          [
           "total war warhammer 2",
           15493,
           423,
           39.99
          ],
          [
           "total war warhammer 2",
           15530,
           590,
           39.99
          ],
          [
           "total war warhammer 2",
           14847,
           578,
           39.99
          ],
          [
           "total war warhammer 2",
           10409,
           364,
           39.99
          ],
          [
           "total war warhammer 2",
           19608,
           878,
           39.99
          ],
          [
           "total war warhammer 2",
           17417,
           507,
           39.99
          ],
          [
           "total war warhammer 2",
           15086,
           651,
           39.99
          ],
          [
           "total war warhammer 2",
           16170,
           560,
           39.99
          ],
          [
           "total war warhammer 2",
           36455,
           1759,
           39.99
          ],
          [
           "total war warhammer 2",
           31630,
           1873,
           39.99
          ],
          [
           "total war warhammer 2",
           24418,
           1168,
           39.99
          ],
          [
           "total war warhammer 2",
           20658,
           967,
           39.99
          ],
          [
           "total war warhammer 2",
           27517,
           1076,
           39.99
          ],
          [
           "total war warhammer 2",
           23151,
           766,
           39.99
          ],
          [
           "total war warhammer 2",
           26740,
           1038,
           39.99
          ],
          [
           "final fantasy xii the zodiac age",
           24809,
           1117,
           34.99
          ],
          [
           "paradigm",
           816,
           272,
           10.99
          ],
          [
           "the evil within 2",
           92347,
           8761,
           39.99
          ],
          [
           "the evil within 2",
           23915,
           1256,
           39.99
          ],
          [
           "the evil within 2",
           12969,
           335,
           39.99
          ],
          [
           "the evil within 2",
           7801,
           443,
           39.99
          ],
          [
           "far lone sails",
           3483,
           539,
           11.39
          ],
          [
           "wolfenstein ii the new colossus",
           20024,
           2655,
           39.99
          ],
          [
           "wolfenstein ii the new colossus",
           24079,
           1283,
           39.99
          ],
          [
           "wolfenstein ii the new colossus",
           9184,
           271,
           39.99
          ],
          [
           "wolfenstein ii the new colossus",
           3551,
           281,
           39.99
          ],
          [
           "dishonored death of the outsider",
           6634,
           438,
           19.99
          ],
          [
           "football manager 2018",
           12576,
           981,
           37.99
          ],
          [
           "football manager 2018",
           10431,
           467,
           37.99
          ],
          [
           "football manager 2018",
           10899,
           1080,
           37.99
          ],
          [
           "football manager 2018",
           8771,
           232,
           37.99
          ],
          [
           "football manager 2018",
           10537,
           609,
           37.99
          ],
          [
           "football manager 2018",
           10875,
           315,
           37.99
          ],
          [
           "football manager 2018",
           10708,
           689,
           37.99
          ],
          [
           "football manager 2018",
           13711,
           390,
           37.99
          ],
          [
           "football manager 2018",
           15465,
           548,
           37.99
          ],
          [
           "football manager 2018",
           10695,
           715,
           37.99
          ],
          [
           "injustice 2",
           1460,
           299,
           39.99
          ],
          [
           "injustice 2",
           67609,
           4620,
           39.99
          ],
          [
           "injustice 2",
           37287,
           1725,
           39.99
          ],
          [
           "injustice 2",
           23809,
           965,
           39.99
          ],
          [
           "injustice 2",
           18483,
           773,
           39.99
          ],
          [
           "injustice 2",
           12210,
           544,
           39.99
          ],
          [
           "injustice 2",
           9234,
           210,
           39.99
          ],
          [
           "injustice 2",
           13833,
           414,
           39.99
          ],
          [
           "injustice 2",
           12121,
           339,
           39.99
          ],
          [
           "injustice 2",
           9628,
           318,
           39.99
          ],
          [
           "battletech",
           25209,
           1653,
           34.99
          ],
          [
           "battletech",
           28616,
           799,
           34.99
          ],
          [
           "final fantasy xv",
           1075,
           519,
           34.99
          ],
          [
           "final fantasy xv",
           1385,
           149,
           34.99
          ],
          [
           "final fantasy xv",
           120488,
           4635,
           34.99
          ],
          [
           "final fantasy xv",
           552689,
           7195,
           34.99
          ],
          [
           "final fantasy xv",
           145401,
           1082,
           34.99
          ],
          [
           "final fantasy xv",
           60424,
           385,
           34.99
          ],
          [
           "final fantasy xv",
           45901,
           168,
           34.99
          ],
          [
           "final fantasy xv",
           31696,
           264,
           34.99
          ],
          [
           "final fantasy xv",
           92132,
           1357,
           34.99
          ],
          [
           "final fantasy xv",
           35603,
           522,
           34.99
          ],
          [
           "yakuza 0",
           296,
           286,
           14.99
          ],
          [
           "yakuza 0",
           436,
           450,
           14.99
          ],
          [
           "yakuza 0",
           439,
           172,
           14.99
          ],
          [
           "yakuza 0",
           351,
           133,
           14.99
          ],
          [
           "yakuza 0",
           256,
           265,
           14.99
          ],
          [
           "yakuza 0",
           460,
           332,
           14.99
          ],
          [
           "yakuza 0",
           1912,
           1183,
           14.99
          ],
          [
           "yakuza 0",
           1222,
           194,
           14.99
          ],
          [
           "yakuza 0",
           11534,
           477,
           14.99
          ],
          [
           "yakuza 0",
           18319,
           908,
           14.99
          ],
          [
           "yakuza 0",
           5402,
           525,
           14.99
          ],
          [
           "yakuza 0",
           4870,
           244,
           14.99
          ],
          [
           "yakuza 0",
           5840,
           210,
           14.99
          ],
          [
           "yakuza 0",
           3799,
           336,
           14.99
          ],
          [
           "yakuza 0",
           5051,
           551,
           14.99
          ],
          [
           "yakuza 0",
           5909,
           378,
           14.99
          ],
          [
           "yakuza 0",
           3973,
           564,
           14.99
          ],
          [
           "yakuza 0",
           7088,
           1166,
           14.99
          ],
          [
           "yakuza 0",
           6410,
           374,
           14.99
          ],
          [
           "yakuza 0",
           32801,
           1201,
           14.99
          ],
          [
           "yakuza 0",
           16751,
           536,
           14.99
          ],
          [
           "yakuza 0",
           10418,
           463,
           14.99
          ],
          [
           "yakuza 0",
           11991,
           392,
           14.99
          ],
          [
           "batman the enemy within",
           3302,
           526,
           11.99
          ],
          [
           "dragon ball fighterz",
           3005,
           593,
           44.99
          ],
          [
           "dragon ball fighterz",
           101608,
           5655,
           44.99
          ],
          [
           "dragon ball fighterz",
           108567,
           5742,
           44.99
          ],
          [
           "dragon ball fighterz",
           59880,
           2729,
           44.99
          ],
          [
           "dragon ball fighterz",
           43508,
           1799,
           44.99
          ],
          [
           "dragon ball fighterz",
           33523,
           1898,
           44.99
          ],
          [
           "dragon ball fighterz",
           31666,
           2306,
           44.99
          ],
          [
           "dragon ball fighterz",
           29337,
           1261,
           44.99
          ],
          [
           "dragon ball fighterz",
           37615,
           3544,
           44.99
          ],
          [
           "dragon ball fighterz",
           31366,
           1608,
           44.99
          ],
          [
           "dragon ball fighterz",
           30817,
           1500,
           44.99
          ],
          [
           "dragon ball fighterz",
           26085,
           1084,
           44.99
          ],
          [
           "dragon ball fighterz",
           24496,
           688,
           44.99
          ],
          [
           "dragon ball fighterz",
           29815,
           2115,
           44.99
          ],
          [
           "dragon ball fighterz",
           29282,
           966,
           44.99
          ],
          [
           "dragon ball fighterz",
           25657,
           844,
           44.99
          ],
          [
           "dragon ball fighterz",
           24030,
           749,
           44.99
          ],
          [
           "dragon ball fighterz",
           22759,
           743,
           44.99
          ],
          [
           "dragon ball fighterz",
           17477,
           550,
           44.99
          ],
          [
           "dragon ball fighterz",
           17849,
           525,
           44.99
          ],
          [
           "dragon ball fighterz",
           25269,
           1314,
           44.99
          ],
          [
           "dragon ball fighterz",
           22517,
           707,
           44.99
          ],
          [
           "dragon ball fighterz",
           20537,
           785,
           44.99
          ],
          [
           "dragon ball fighterz",
           17919,
           1062,
           44.99
          ],
          [
           "dragon ball fighterz",
           24940,
           644,
           44.99
          ],
          [
           "dragon ball fighterz",
           23099,
           520,
           44.99
          ],
          [
           "dragon ball fighterz",
           32183,
           2028,
           44.99
          ],
          [
           "dragon ball fighterz",
           37304,
           1087,
           44.99
          ],
          [
           "dragon ball fighterz",
           34552,
           622,
           44.99
          ],
          [
           "dragon ball fighterz",
           52580,
           1321,
           44.99
          ],
          [
           "dragon ball fighterz",
           42411,
           816,
           44.99
          ],
          [
           "dragon ball fighterz",
           46921,
           1083,
           44.99
          ],
          [
           "dragon ball fighterz",
           47641,
           979,
           44.99
          ],
          [
           "dragon ball fighterz",
           51392,
           1701,
           44.99
          ],
          [
           "dragon ball fighterz",
           46656,
           1335,
           44.99
          ],
          [
           "dragon ball fighterz",
           43935,
           1250,
           44.99
          ],
          [
           "dragon ball fighterz",
           52197,
           1471,
           44.99
          ],
          [
           "dragon ball fighterz",
           76203,
           2242,
           44.99
          ],
          [
           "dragon ball fighterz",
           52913,
           1165,
           44.99
          ],
          [
           "dragon ball fighterz",
           73145,
           2322,
           44.99
          ],
          [
           "bridge constructor portal",
           3090,
           840,
           7.19
          ],
          [
           "bridge constructor portal",
           3347,
           455,
           7.19
          ],
          [
           "chuchel",
           1158,
           328,
           7.99
          ],
          [
           "borderlands",
           80946,
           2464,
           24.99
          ],
          [
           "the messenger",
           9522,
           718,
           15.49
          ],
          [
           "the messenger",
           5746,
           466,
           15.49
          ],
          [
           "the awesome adventures of captain spirit",
           11897,
           567,
           0
          ],
          [
           "mark of the ninja",
           341,
           225,
           15.49
          ]
         ],
         "hovertemplate": "<b>%{hovertext}</b><br><br>Class=%{marker.color}<br>PC 1=%{x}<br>PC 2=%{y}<br>PC 3=%{z}<br>GameName=%{customdata[0]}<br>S_Hours=%{customdata[1]}<br>tw_Avg_viewers=%{customdata[2]}<br>st_price=%{customdata[3]}<extra></extra>",
         "hovertext": [
          "final fantasy xiv online",
          "final fantasy xiv online",
          "final fantasy xiv online",
          "final fantasy xiv online",
          "final fantasy xiv online",
          "final fantasy xiv online",
          "final fantasy xiv online",
          "final fantasy xiv online",
          "final fantasy xiv online",
          "final fantasy xiv online",
          "final fantasy xiv online",
          "final fantasy xiv online",
          "final fantasy xiv online",
          "final fantasy xiv online",
          "final fantasy xiv online",
          "final fantasy xiv online",
          "final fantasy xiv online",
          "final fantasy xiv online",
          "final fantasy xiv online",
          "final fantasy xiv online",
          "final fantasy xiv online",
          "final fantasy xiv online",
          "final fantasy xiv online",
          "final fantasy xiv online",
          "final fantasy xiv online",
          "final fantasy xiv online",
          "final fantasy xiv online",
          "final fantasy xiv online",
          "final fantasy xiv online",
          "final fantasy xiv online",
          "final fantasy xiv online",
          "final fantasy xiv online",
          "final fantasy xiv online",
          "final fantasy xiv online",
          "final fantasy xiv online",
          "final fantasy xiv online",
          "final fantasy xiv online",
          "final fantasy xiv online",
          "final fantasy xiv online",
          "final fantasy xiv online",
          "final fantasy xiv online",
          "final fantasy xiv online",
          "final fantasy xiv online",
          "final fantasy xiv online",
          "final fantasy xiv online",
          "final fantasy xiv online",
          "final fantasy xiv online",
          "final fantasy xiv online",
          "the witness",
          "the witness",
          "wreckfest",
          "wreckfest",
          "wreckfest",
          "company of heroes 2",
          "company of heroes 2",
          "company of heroes 2",
          "company of heroes 2",
          "company of heroes 2",
          "company of heroes 2",
          "company of heroes 2",
          "company of heroes 2",
          "company of heroes 2",
          "a hat in time",
          "a hat in time",
          "a hat in time",
          "xcom 2",
          "xcom 2",
          "xcom 2",
          "xcom 2",
          "xcom 2",
          "xcom 2",
          "xcom 2",
          "xcom 2",
          "xcom 2",
          "xcom 2",
          "xcom 2",
          "xcom 2",
          "xcom 2",
          "xcom 2",
          "xcom 2",
          "xcom 2",
          "xcom 2",
          "duelyst",
          "duelyst",
          "duelyst",
          "duelyst",
          "duelyst",
          "duelyst",
          "duelyst",
          "duelyst",
          "far cry 4",
          "archeage",
          "archeage",
          "archeage",
          "archeage",
          "archeage",
          "archeage",
          "archeage",
          "archeage",
          "archeage",
          "archeage",
          "zero escape zero time dilemma",
          "sniper elite 4",
          "five nights at freddys",
          "shadow warrior 2",
          "dark souls ii scholar of the first sin",
          "dark souls ii scholar of the first sin",
          "dark souls ii scholar of the first sin",
          "dark souls ii scholar of the first sin",
          "dark souls ii scholar of the first sin",
          "dark souls ii scholar of the first sin",
          "dark souls ii scholar of the first sin",
          "dark souls ii scholar of the first sin",
          "dark souls ii scholar of the first sin",
          "dark souls ii scholar of the first sin",
          "dark souls ii scholar of the first sin",
          "dark souls ii scholar of the first sin",
          "dark souls ii scholar of the first sin",
          "dark souls ii scholar of the first sin",
          "dark souls ii scholar of the first sin",
          "dark souls ii scholar of the first sin",
          "dark souls ii scholar of the first sin",
          "dark souls ii scholar of the first sin",
          "dark souls ii scholar of the first sin",
          "dark souls ii scholar of the first sin",
          "dark souls ii scholar of the first sin",
          "dark souls ii scholar of the first sin",
          "dark souls ii scholar of the first sin",
          "dark souls ii scholar of the first sin",
          "dark souls ii scholar of the first sin",
          "dark souls ii scholar of the first sin",
          "dark souls ii scholar of the first sin",
          "dark souls ii scholar of the first sin",
          "dark souls ii scholar of the first sin",
          "dark souls ii scholar of the first sin",
          "dark souls ii scholar of the first sin",
          "dark souls ii scholar of the first sin",
          "dark souls ii scholar of the first sin",
          "dark souls ii scholar of the first sin",
          "dark souls ii scholar of the first sin",
          "dark souls ii scholar of the first sin",
          "dark souls ii scholar of the first sin",
          "dark souls ii scholar of the first sin",
          "dark souls ii scholar of the first sin",
          "dark souls ii scholar of the first sin",
          "deus ex mankind divided",
          "deus ex mankind divided",
          "elite dangerous",
          "elite dangerous",
          "elite dangerous",
          "elite dangerous",
          "elite dangerous",
          "elite dangerous",
          "elite dangerous",
          "elite dangerous",
          "elite dangerous",
          "elite dangerous",
          "elite dangerous",
          "elite dangerous",
          "elite dangerous",
          "elite dangerous",
          "elite dangerous",
          "elite dangerous",
          "elite dangerous",
          "elite dangerous",
          "elite dangerous",
          "elite dangerous",
          "elite dangerous",
          "elite dangerous",
          "elite dangerous",
          "elite dangerous",
          "elite dangerous",
          "elite dangerous",
          "tom clancys rainbow six siege",
          "tom clancys rainbow six siege",
          "tom clancys rainbow six siege",
          "tom clancys rainbow six siege",
          "tom clancys rainbow six siege",
          "tom clancys rainbow six siege",
          "tom clancys rainbow six siege",
          "tom clancys rainbow six siege",
          "tom clancys rainbow six siege",
          "tom clancys rainbow six siege",
          "tom clancys rainbow six siege",
          "tom clancys rainbow six siege",
          "tom clancys rainbow six siege",
          "tom clancys rainbow six siege",
          "tom clancys rainbow six siege",
          "tom clancys rainbow six siege",
          "tom clancys rainbow six siege",
          "tom clancys rainbow six siege",
          "tom clancys rainbow six siege",
          "tyranny",
          "total war warhammer",
          "total war warhammer",
          "total war warhammer",
          "total war warhammer",
          "total war warhammer",
          "total war warhammer",
          "total war warhammer",
          "total war warhammer",
          "total war warhammer",
          "total war warhammer",
          "the elder scrolls legends",
          "the elder scrolls legends",
          "the elder scrolls legends",
          "the elder scrolls legends",
          "the elder scrolls legends",
          "the elder scrolls legends",
          "the elder scrolls legends",
          "the elder scrolls legends",
          "the elder scrolls legends",
          "the elder scrolls legends",
          "the elder scrolls legends",
          "the elder scrolls legends",
          "the elder scrolls legends",
          "the elder scrolls legends",
          "the elder scrolls legends",
          "the elder scrolls legends",
          "the elder scrolls legends",
          "the elder scrolls legends",
          "the elder scrolls legends",
          "the elder scrolls legends",
          "the elder scrolls legends",
          "the elder scrolls legends",
          "the elder scrolls legends",
          "the elder scrolls legends",
          "the elder scrolls legends",
          "the elder scrolls legends",
          "the elder scrolls legends",
          "the elder scrolls legends",
          "the elder scrolls legends",
          "the elder scrolls legends",
          "the elder scrolls legends",
          "the elder scrolls legends",
          "the elder scrolls legends",
          "battle brothers",
          "battle brothers",
          "battle brothers",
          "battle brothers",
          "battle brothers",
          "tom clancys the division",
          "tom clancys the division",
          "tom clancys the division",
          "tom clancys the division",
          "tom clancys the division",
          "tom clancys the division",
          "tom clancys the division",
          "tom clancys the division",
          "tom clancys the division",
          "tom clancys the division",
          "tom clancys the division",
          "tom clancys the division",
          "tom clancys the division",
          "tom clancys the division",
          "tom clancys the division",
          "tom clancys the division",
          "tom clancys the division",
          "tom clancys the division",
          "tom clancys the division",
          "tom clancys the division",
          "tom clancys the division",
          "tom clancys the division",
          "tom clancys the division",
          "tom clancys the division",
          "tom clancys the division",
          "tom clancys the division",
          "tom clancys the division",
          "tom clancys the division",
          "tom clancys the division",
          "tom clancys the division",
          "tom clancys the division",
          "tom clancys the division",
          "tom clancys the division",
          "tom clancys the division",
          "tom clancys the division",
          "tom clancys the division",
          "tom clancys the division",
          "dragons dogma dark arisen",
          "dragons dogma dark arisen",
          "dragons dogma dark arisen",
          "dragons dogma dark arisen",
          "dragons dogma dark arisen",
          "trackmania turbo",
          "trackmania turbo",
          "fallout 4",
          "fallout 4",
          "fallout 4",
          "fallout 4",
          "fallout 4",
          "fallout 4",
          "fallout 4",
          "fallout 4",
          "fallout 4",
          "fallout 4",
          "fallout 4",
          "fallout 4",
          "fallout 4",
          "fallout 4",
          "fallout 4",
          "fallout 4",
          "fallout 4",
          "fallout 4",
          "fallout 4",
          "fallout 4",
          "fallout 4",
          "fallout 4",
          "fallout 4",
          "fallout 4",
          "fallout 4",
          "fallout 4",
          "fallout 4",
          "fallout 4",
          "fallout 4",
          "fallout 4",
          "fallout 4",
          "fallout 4",
          "fallout 4",
          "fallout 4",
          "fallout 4",
          "fallout 4",
          "fallout 4",
          "fallout 4",
          "fallout 4",
          "final fantasy 9",
          "final fantasy 9",
          "final fantasy 9",
          "final fantasy 9",
          "final fantasy 9",
          "project cars 2",
          "firewatch",
          "abzu",
          "tekken 7",
          "tekken 7",
          "tekken 7",
          "tekken 7",
          "tekken 7",
          "tekken 7",
          "tekken 7",
          "tekken 7",
          "tekken 7",
          "tekken 7",
          "tekken 7",
          "tekken 7",
          "tekken 7",
          "tekken 7",
          "tekken 7",
          "tekken 7",
          "tekken 7",
          "tekken 7",
          "tekken 7",
          "tekken 7",
          "tekken 7",
          "tekken 7",
          "tekken 7",
          "tekken 7",
          "tekken 7",
          "tekken 7",
          "tekken 7",
          "tekken 7",
          "tekken 7",
          "tekken 7",
          "tekken 7",
          "tekken 7",
          "tekken 7",
          "tekken 7",
          "tekken 7",
          "tekken 7",
          "tekken 7",
          "tekken 7",
          "tekken 7",
          "tekken 7",
          "tekken 7",
          "tekken 7",
          "tekken 7",
          "tekken 7",
          "tekken 7",
          "tekken 7",
          "tekken 7",
          "tekken 7",
          "tekken 7",
          "f1 2016",
          "f1 2016",
          "hearts of iron iv",
          "hearts of iron iv",
          "hearts of iron iv",
          "hearts of iron iv",
          "hearts of iron iv",
          "hearts of iron iv",
          "hearts of iron iv",
          "hearts of iron iv",
          "hearts of iron iv",
          "hearts of iron iv",
          "hearts of iron iv",
          "hearts of iron iv",
          "hearts of iron iv",
          "hearts of iron iv",
          "hearts of iron iv",
          "hearts of iron iv",
          "hearts of iron iv",
          "hearts of iron iv",
          "hearts of iron iv",
          "hearts of iron iv",
          "hearts of iron iv",
          "hearts of iron iv",
          "hearts of iron iv",
          "everspace",
          "faeria",
          "faeria",
          "faeria",
          "faeria",
          "dishonored 2",
          "dishonored 2",
          "hex shards of fate",
          "hex shards of fate",
          "hex shards of fate",
          "danganronpa trigger happy havoc",
          "danganronpa trigger happy havoc",
          "hellblade senuas sacrifice",
          "hellblade senuas sacrifice",
          "motorsport manager",
          "motorsport manager",
          "shadow tactics blades of the shogun",
          "rising storm 2 vietnam",
          "rising storm 2 vietnam",
          "little nightmares",
          "little nightmares",
          "little nightmares",
          "little nightmares",
          "little nightmares",
          "little nightmares",
          "little nightmares",
          "tales of berseria",
          "tales of berseria",
          "slime rancher",
          "slime rancher",
          "slime rancher",
          "battle chasers nightwar",
          "hand of fate 2",
          "hand of fate 2",
          "vanquish",
          "prey",
          "prey",
          "prey",
          "prey",
          "prey",
          "nioh",
          "nioh",
          "nioh",
          "nioh",
          "nioh",
          "nioh",
          "nioh",
          "nioh",
          "nioh",
          "nioh",
          "nioh",
          "nioh",
          "nioh",
          "nioh",
          "nioh",
          "nioh",
          "south park the fractured but whole",
          "south park the fractured but whole",
          "south park the fractured but whole",
          "south park the fractured but whole",
          "rime",
          "rime",
          "planet coaster",
          "planet coaster",
          "planet coaster",
          "planet coaster",
          "planet coaster",
          "planet coaster",
          "celeste",
          "celeste",
          "celeste",
          "celeste",
          "celeste",
          "celeste",
          "celeste",
          "celeste",
          "f1 2017",
          "f1 2017",
          "f1 2017",
          "star trek bridge crew",
          "star trek bridge crew",
          "for the king",
          "for the king",
          "for the king",
          "for the king",
          "two point hospital",
          "two point hospital",
          "two point hospital",
          "warhammer vermintide 2",
          "warhammer vermintide 2",
          "warhammer vermintide 2",
          "warhammer vermintide 2",
          "warhammer vermintide 2",
          "far cry 5",
          "far cry 5",
          "far cry 5",
          "life is strange before the storm",
          "life is strange before the storm",
          "life is strange before the storm",
          "life is strange before the storm",
          "life is strange before the storm",
          "detention",
          "stories untold",
          "pillars of eternity ii deadfire",
          "thimbleweed park",
          "dark souls",
          "dark souls",
          "dark souls",
          "dark souls",
          "dark souls",
          "dark souls",
          "dark souls",
          "dark souls",
          "dark souls",
          "dark souls",
          "dark souls",
          "dark souls",
          "dark souls",
          "dark souls",
          "dark souls",
          "dark souls",
          "dark souls",
          "dark souls",
          "dark souls",
          "dark souls",
          "dark souls",
          "dark souls",
          "dark souls",
          "dark souls",
          "dark souls",
          "dark souls",
          "dark souls",
          "dark souls",
          "dark souls",
          "dark souls",
          "dark souls",
          "dark souls",
          "dark souls",
          "dark souls",
          "dark souls",
          "dark souls",
          "dark souls",
          "dark souls",
          "dark souls",
          "dark souls",
          "dark souls",
          "dark souls",
          "dark souls",
          "dark souls",
          "dark souls",
          "dark souls",
          "dark souls",
          "dark souls",
          "dark souls",
          "dark souls",
          "dark souls",
          "dark souls",
          "dark souls",
          "dark souls",
          "dark souls",
          "dark souls",
          "dark souls",
          "dark souls",
          "dark souls",
          "dark souls",
          "dark souls",
          "dark souls",
          "dark souls",
          "dark souls",
          "playerunknowns battlegrounds",
          "playerunknowns battlegrounds",
          "playerunknowns battlegrounds",
          "playerunknowns battlegrounds",
          "monster hunter world",
          "monster hunter world",
          "monster hunter world",
          "monster hunter world",
          "monster hunter world",
          "monster hunter world",
          "monster hunter world",
          "monster hunter world",
          "monster hunter world",
          "monster hunter world",
          "monster hunter world",
          "monster hunter world",
          "monster hunter world",
          "monster hunter world",
          "monster hunter world",
          "monster hunter world",
          "monster hunter world",
          "monster hunter world",
          "monster hunter world",
          "monster hunter world",
          "monster hunter world",
          "monster hunter world",
          "monster hunter world",
          "monster hunter world",
          "monster hunter world",
          "monster hunter world",
          "monster hunter world",
          "monster hunter world",
          "monster hunter world",
          "monster hunter world",
          "monster hunter world",
          "monster hunter world",
          "monster hunter world",
          "monster hunter world",
          "monster hunter world",
          "monster hunter world",
          "monster hunter world",
          "monster hunter world",
          "monster hunter world",
          "assassins creed origins",
          "assassins creed origins",
          "assassins creed origins",
          "assassins creed origins",
          "assassins creed origins",
          "assassins creed origins",
          "the end is nigh",
          "dead cells",
          "dead cells",
          "dead cells",
          "dead cells",
          "dead cells",
          "dead cells",
          "dead cells",
          "dead cells",
          "dead cells",
          "dead cells",
          "dead cells",
          "dead cells",
          "dead cells",
          "ni no kuni ii revenant kingdom",
          "ni no kuni ii revenant kingdom",
          "the red strings club",
          "into the breach",
          "into the breach",
          "total war warhammer 2",
          "total war warhammer 2",
          "total war warhammer 2",
          "total war warhammer 2",
          "total war warhammer 2",
          "total war warhammer 2",
          "total war warhammer 2",
          "total war warhammer 2",
          "total war warhammer 2",
          "total war warhammer 2",
          "total war warhammer 2",
          "total war warhammer 2",
          "total war warhammer 2",
          "total war warhammer 2",
          "total war warhammer 2",
          "total war warhammer 2",
          "total war warhammer 2",
          "total war warhammer 2",
          "total war warhammer 2",
          "total war warhammer 2",
          "total war warhammer 2",
          "total war warhammer 2",
          "total war warhammer 2",
          "total war warhammer 2",
          "total war warhammer 2",
          "total war warhammer 2",
          "total war warhammer 2",
          "total war warhammer 2",
          "total war warhammer 2",
          "total war warhammer 2",
          "total war warhammer 2",
          "total war warhammer 2",
          "total war warhammer 2",
          "final fantasy xii the zodiac age",
          "paradigm",
          "the evil within 2",
          "the evil within 2",
          "the evil within 2",
          "the evil within 2",
          "far lone sails",
          "wolfenstein ii the new colossus",
          "wolfenstein ii the new colossus",
          "wolfenstein ii the new colossus",
          "wolfenstein ii the new colossus",
          "dishonored death of the outsider",
          "football manager 2018",
          "football manager 2018",
          "football manager 2018",
          "football manager 2018",
          "football manager 2018",
          "football manager 2018",
          "football manager 2018",
          "football manager 2018",
          "football manager 2018",
          "football manager 2018",
          "injustice 2",
          "injustice 2",
          "injustice 2",
          "injustice 2",
          "injustice 2",
          "injustice 2",
          "injustice 2",
          "injustice 2",
          "injustice 2",
          "injustice 2",
          "battletech",
          "battletech",
          "final fantasy xv",
          "final fantasy xv",
          "final fantasy xv",
          "final fantasy xv",
          "final fantasy xv",
          "final fantasy xv",
          "final fantasy xv",
          "final fantasy xv",
          "final fantasy xv",
          "final fantasy xv",
          "yakuza 0",
          "yakuza 0",
          "yakuza 0",
          "yakuza 0",
          "yakuza 0",
          "yakuza 0",
          "yakuza 0",
          "yakuza 0",
          "yakuza 0",
          "yakuza 0",
          "yakuza 0",
          "yakuza 0",
          "yakuza 0",
          "yakuza 0",
          "yakuza 0",
          "yakuza 0",
          "yakuza 0",
          "yakuza 0",
          "yakuza 0",
          "yakuza 0",
          "yakuza 0",
          "yakuza 0",
          "yakuza 0",
          "batman the enemy within",
          "dragon ball fighterz",
          "dragon ball fighterz",
          "dragon ball fighterz",
          "dragon ball fighterz",
          "dragon ball fighterz",
          "dragon ball fighterz",
          "dragon ball fighterz",
          "dragon ball fighterz",
          "dragon ball fighterz",
          "dragon ball fighterz",
          "dragon ball fighterz",
          "dragon ball fighterz",
          "dragon ball fighterz",
          "dragon ball fighterz",
          "dragon ball fighterz",
          "dragon ball fighterz",
          "dragon ball fighterz",
          "dragon ball fighterz",
          "dragon ball fighterz",
          "dragon ball fighterz",
          "dragon ball fighterz",
          "dragon ball fighterz",
          "dragon ball fighterz",
          "dragon ball fighterz",
          "dragon ball fighterz",
          "dragon ball fighterz",
          "dragon ball fighterz",
          "dragon ball fighterz",
          "dragon ball fighterz",
          "dragon ball fighterz",
          "dragon ball fighterz",
          "dragon ball fighterz",
          "dragon ball fighterz",
          "dragon ball fighterz",
          "dragon ball fighterz",
          "dragon ball fighterz",
          "dragon ball fighterz",
          "dragon ball fighterz",
          "dragon ball fighterz",
          "dragon ball fighterz",
          "bridge constructor portal",
          "bridge constructor portal",
          "chuchel",
          "borderlands",
          "the messenger",
          "the messenger",
          "the awesome adventures of captain spirit",
          "mark of the ninja"
         ],
         "legendgroup": "0",
         "marker": {
          "color": [
           0,
           0,
           0,
           0,
           0,
           0,
           0,
           0,
           0,
           0,
           0,
           0,
           0,
           0,
           0,
           0,
           0,
           0,
           0,
           0,
           0,
           0,
           0,
           0,
           0,
           0,
           0,
           0,
           0,
           0,
           0,
           0,
           0,
           0,
           0,
           0,
           0,
           0,
           0,
           0,
           0,
           0,
           0,
           0,
           0,
           0,
           0,
           0,
           0,
           0,
           0,
           0,
           0,
           0,
           0,
           0,
           0,
           0,
           0,
           0,
           0,
           0,
           0,
           0,
           0,
           0,
           0,
           0,
           0,
           0,
           0,
           0,
           0,
           0,
           0,
           0,
           0,
           0,
           0,
           0,
           0,
           0,
           0,
           0,
           0,
           0,
           0,
           0,
           0,
           0,
           0,
           0,
           0,
           0,
           0,
           0,
           0,
           0,
           0,
           0,
           0,
           0,
           0,
           0,
           0,
           0,
           0,
           0,
           0,
           0,
           0,
           0,
           0,
           0,
           0,
           0,
           0,
           0,
           0,
           0,
           0,
           0,
           0,
           0,
           0,
           0,
           0,
           0,
           0,
           0,
           0,
           0,
           0,
           0,
           0,
           0,
           0,
           0,
           0,
           0,
           0,
           0,
           0,
           0,
           0,
           0,
           0,
           0,
           0,
           0,
           0,
           0,
           0,
           0,
           0,
           0,
           0,
           0,
           0,
           0,
           0,
           0,
           0,
           0,
           0,
           0,
           0,
           0,
           0,
           0,
           0,
           0,
           0,
           0,
           0,
           0,
           0,
           0,
           0,
           0,
           0,
           0,
           0,
           0,
           0,
           0,
           0,
           0,
           0,
           0,
           0,
           0,
           0,
           0,
           0,
           0,
           0,
           0,
           0,
           0,
           0,
           0,
           0,
           0,
           0,
           0,
           0,
           0,
           0,
           0,
           0,
           0,
           0,
           0,
           0,
           0,
           0,
           0,
           0,
           0,
           0,
           0,
           0,
           0,
           0,
           0,
           0,
           0,
           0,
           0,
           0,
           0,
           0,
           0,
           0,
           0,
           0,
           0,
           0,
           0,
           0,
           0,
           0,
           0,
           0,
           0,
           0,
           0,
           0,
           0,
           0,
           0,
           0,
           0,
           0,
           0,
           0,
           0,
           0,
           0,
           0,
           0,
           0,
           0,
           0,
           0,
           0,
           0,
           0,
           0,
           0,
           0,
           0,
           0,
           0,
           0,
           0,
           0,
           0,
           0,
           0,
           0,
           0,
           0,
           0,
           0,
           0,
           0,
           0,
           0,
           0,
           0,
           0,
           0,
           0,
           0,
           0,
           0,
           0,
           0,
           0,
           0,
           0,
           0,
           0,
           0,
           0,
           0,
           0,
           0,
           0,
           0,
           0,
           0,
           0,
           0,
           0,
           0,
           0,
           0,
           0,
           0,
           0,
           0,
           0,
           0,
           0,
           0,
           0,
           0,
           0,
           0,
           0,
           0,
           0,
           0,
           0,
           0,
           0,
           0,
           0,
           0,
           0,
           0,
           0,
           0,
           0,
           0,
           0,
           0,
           0,
           0,
           0,
           0,
           0,
           0,
           0,
           0,
           0,
           0,
           0,
           0,
           0,
           0,
           0,
           0,
           0,
           0,
           0,
           0,
           0,
           0,
           0,
           0,
           0,
           0,
           0,
           0,
           0,
           0,
           0,
           0,
           0,
           0,
           0,
           0,
           0,
           0,
           0,
           0,
           0,
           0,
           0,
           0,
           0,
           0,
           0,
           0,
           0,
           0,
           0,
           0,
           0,
           0,
           0,
           0,
           0,
           0,
           0,
           0,
           0,
           0,
           0,
           0,
           0,
           0,
           0,
           0,
           0,
           0,
           0,
           0,
           0,
           0,
           0,
           0,
           0,
           0,
           0,
           0,
           0,
           0,
           0,
           0,
           0,
           0,
           0,
           0,
           0,
           0,
           0,
           0,
           0,
           0,
           0,
           0,
           0,
           0,
           0,
           0,
           0,
           0,
           0,
           0,
           0,
           0,
           0,
           0,
           0,
           0,
           0,
           0,
           0,
           0,
           0,
           0,
           0,
           0,
           0,
           0,
           0,
           0,
           0,
           0,
           0,
           0,
           0,
           0,
           0,
           0,
           0,
           0,
           0,
           0,
           0,
           0,
           0,
           0,
           0,
           0,
           0,
           0,
           0,
           0,
           0,
           0,
           0,
           0,
           0,
           0,
           0,
           0,
           0,
           0,
           0,
           0,
           0,
           0,
           0,
           0,
           0,
           0,
           0,
           0,
           0,
           0,
           0,
           0,
           0,
           0,
           0,
           0,
           0,
           0,
           0,
           0,
           0,
           0,
           0,
           0,
           0,
           0,
           0,
           0,
           0,
           0,
           0,
           0,
           0,
           0,
           0,
           0,
           0,
           0,
           0,
           0,
           0,
           0,
           0,
           0,
           0,
           0,
           0,
           0,
           0,
           0,
           0,
           0,
           0,
           0,
           0,
           0,
           0,
           0,
           0,
           0,
           0,
           0,
           0,
           0,
           0,
           0,
           0,
           0,
           0,
           0,
           0,
           0,
           0,
           0,
           0,
           0,
           0,
           0,
           0,
           0,
           0,
           0,
           0,
           0,
           0,
           0,
           0,
           0,
           0,
           0,
           0,
           0,
           0,
           0,
           0,
           0,
           0,
           0,
           0,
           0,
           0,
           0,
           0,
           0,
           0,
           0,
           0,
           0,
           0,
           0,
           0,
           0,
           0,
           0,
           0,
           0,
           0,
           0,
           0,
           0,
           0,
           0,
           0,
           0,
           0,
           0,
           0,
           0,
           0,
           0,
           0,
           0,
           0,
           0,
           0,
           0,
           0,
           0,
           0,
           0,
           0,
           0,
           0,
           0,
           0,
           0,
           0,
           0,
           0,
           0,
           0,
           0,
           0,
           0,
           0,
           0,
           0,
           0,
           0,
           0,
           0,
           0,
           0,
           0,
           0,
           0,
           0,
           0,
           0,
           0,
           0,
           0,
           0,
           0,
           0,
           0,
           0,
           0,
           0,
           0,
           0,
           0,
           0,
           0,
           0,
           0,
           0,
           0,
           0,
           0,
           0,
           0,
           0,
           0,
           0,
           0,
           0,
           0,
           0,
           0,
           0,
           0,
           0,
           0,
           0,
           0,
           0,
           0,
           0,
           0,
           0,
           0,
           0,
           0,
           0,
           0,
           0,
           0,
           0,
           0,
           0,
           0,
           0,
           0,
           0,
           0,
           0,
           0,
           0,
           0,
           0,
           0,
           0,
           0,
           0,
           0,
           0,
           0,
           0,
           0,
           0,
           0,
           0,
           0,
           0,
           0,
           0,
           0,
           0,
           0,
           0,
           0,
           0,
           0,
           0,
           0,
           0,
           0,
           0,
           0,
           0,
           0,
           0,
           0,
           0,
           0,
           0,
           0,
           0,
           0,
           0,
           0,
           0,
           0,
           0,
           0,
           0,
           0,
           0,
           0,
           0,
           0,
           0,
           0,
           0,
           0
          ],
          "coloraxis": "coloraxis",
          "symbol": "cross"
         },
         "mode": "markers",
         "name": "0",
         "scene": "scene",
         "showlegend": true,
         "type": "scatter3d",
         "x": [
          0.319920186018761,
          1.4037049480615336,
          1.1154240700576772,
          0.7200568385363331,
          0.6038563365464761,
          0.6868723743362457,
          0.5212762364935033,
          0.38158264767195743,
          0.738638645142014,
          0.8065037995388138,
          0.6932613182608179,
          0.7429826553426634,
          0.71646733880412,
          0.9325148239596655,
          0.7020532436335379,
          0.5378086171094045,
          0.9331400624083784,
          0.7021543291123518,
          0.8932377877569257,
          0.6638091686344338,
          0.9205228209599573,
          1.2060651954838115,
          1.3618004453340091,
          1.0603272993684594,
          1.3761585738704551,
          2.231731813874788,
          2.2010239789099812,
          1.9739217549935741,
          1.2973707501693212,
          1.1858762252312736,
          1.5477305768630585,
          1.1858626874172697,
          1.0919347944346092,
          1.8284788888219694,
          1.4524300162458383,
          1.447633243321123,
          1.4751886286483609,
          1.320910837694676,
          1.4338367579168496,
          1.9225867969725354,
          1.6485094113399759,
          1.4056410601003186,
          1.21008896269862,
          2.494148773803783,
          2.0469139342354046,
          2.403295303611058,
          1.883074193422205,
          2.03444643450759,
          -1.2935480669706803,
          -1.7678259207102636,
          -1.3023435593377324,
          -1.5675219361812887,
          -1.775137024182672,
          -1.4575402445318668,
          -1.3154316954780512,
          -1.3870584441857767,
          -1.5036378575803357,
          -1.333348651860234,
          -1.4886549727145937,
          -1.4294979761905489,
          -1.281839420973011,
          -1.370910040988851,
          -1.5612826472659367,
          -1.9180583252651453,
          -1.840052305160849,
          -0.13220361490650698,
          -1.3194046797505383,
          -1.7065672994491314,
          -1.5940296890313432,
          -1.637437741887365,
          -1.7322621607737676,
          -1.734899043088884,
          -1.6803886866980562,
          -1.1089739588377956,
          -1.2221884759921713,
          -1.337808720402037,
          -1.5521441288450175,
          -1.2397347340896607,
          -1.3827652326636155,
          -1.5699617010080156,
          -1.2528300069719172,
          -1.1828066946558937,
          0.43227131850167866,
          0.22867215938400745,
          0.11252792769209512,
          0.046645489297314796,
          0.03362772562462967,
          -0.08925044681108746,
          0.030067349031849225,
          -0.054792554995071095,
          -1.6054334473279517,
          -1.4799426050190474,
          -1.4632215702578228,
          -1.040074625684541,
          -1.453692301119056,
          -1.2317637494797027,
          -1.3080028440506049,
          -1.3274340143098655,
          -1.1666170977958377,
          -0.6994266605161177,
          -1.1324907276230176,
          -1.668863673300323,
          -1.304760561770314,
          -1.393230042827836,
          -1.4107619358562042,
          -0.924504435361965,
          -0.859086927614151,
          -1.0333899332748557,
          -1.7451822379457755,
          -1.720405285187888,
          -1.7439176044793925,
          -1.5654713504281013,
          -1.7062039344653237,
          -1.5454474048958724,
          -1.5203334451646608,
          -1.5683226498360052,
          -1.5759815681348721,
          -1.6574461593252532,
          -1.529530555284629,
          -1.4996004410229344,
          -1.4984920949142622,
          -1.4332010125915056,
          -1.4065924630882432,
          -1.5898276090782644,
          -1.4791348098144421,
          -1.5699614268556565,
          -1.693094158464593,
          -1.537406824602068,
          -1.25406103188108,
          -1.4181155575533628,
          -1.4774753279486308,
          -1.4893643304159982,
          -1.5303766736224067,
          -1.3264762567721398,
          -1.6041521764050808,
          -1.6856988627859015,
          -1.5919047345769926,
          -1.5766417509959119,
          -1.239709360764657,
          -1.2413192122204133,
          -1.2025335675487094,
          -1.216740634751825,
          -1.3328329411781312,
          -1.4660762332783965,
          -1.2151458208290635,
          -0.6214783294360796,
          -1.661555479134761,
          -1.3100437647247019,
          -1.4619189304403568,
          -1.5585775982890482,
          -1.4551129048402105,
          -1.553702388540806,
          -1.4329984416007382,
          -1.4605913685165368,
          -1.624823793791579,
          -1.5437364701355965,
          -1.1051869615376058,
          -1.3828002626472904,
          -1.4814341163957423,
          -1.3968498997500862,
          -1.5518894990609409,
          -1.4444461746536017,
          -1.4549772015033022,
          -1.4962368412170817,
          -1.4247923420459447,
          -1.5661297793425049,
          -1.4239507130591944,
          -1.343908312868587,
          -1.3218212552516229,
          -1.3274898323327056,
          -1.4162551740134066,
          -1.298317763507617,
          -1.4241711516657225,
          0.5446764831958624,
          0.4683331764241155,
          0.8557751440642323,
          1.2485434279768162,
          0.8590171230261585,
          0.6743240304052255,
          1.0748469807403713,
          0.7536603429243371,
          1.6657864478721836,
          1.6339988246083201,
          1.280283953116541,
          1.4538793584176273,
          1.3676522015918933,
          1.7830986828085775,
          1.9144976277924983,
          1.9027957877007773,
          1.3897046773495145,
          1.5920368251528603,
          2.0973600086225304,
          -1.6272962404445417,
          -0.6652434835247534,
          -1.0193561308211252,
          -1.2996836671992278,
          -1.4219712805979419,
          -1.4333832088634242,
          -1.4622014385046083,
          -1.370072084490305,
          -1.5069581344742025,
          -1.2871048977368875,
          -1.457873290793858,
          -1.3735191072758672,
          -1.6191143095732217,
          -1.4933398765432682,
          -1.81607062941664,
          -1.8114664986178386,
          -1.4217824187961887,
          -1.5359248479954548,
          -1.3108583685672612,
          -1.1374657545650748,
          -1.0443211230861955,
          -1.0754415574252536,
          -1.165844645467507,
          -1.2095913195717436,
          -1.2497400474896274,
          -1.2776811083551263,
          -1.2600659398666165,
          -1.2538360359060712,
          -1.167205868248714,
          -1.1661580763408614,
          -1.2301590171296906,
          -1.222836784896361,
          -1.137073596384026,
          -1.3546384561034897,
          -1.7147671573623553,
          -1.7017918697083758,
          -1.7403517465113931,
          -1.471276765296292,
          -1.4758398795358076,
          -1.646815189166976,
          -1.5874073515823537,
          -1.6690953932511348,
          -1.683031525272159,
          -1.760507905353934,
          -1.9692410710323522,
          -1.9046499368729504,
          -1.773799703958676,
          -1.8424824783030738,
          -1.7603847692127463,
          0.5722755355088704,
          0.5703989112049903,
          1.7159079417485945,
          0.3854084335090778,
          -0.05166277113244627,
          -0.22403747193374257,
          -0.6680542114860099,
          -0.9083610931028658,
          -0.8637096918550786,
          -0.2596742438819416,
          -0.3367808923547086,
          -0.18470519409514224,
          -0.49798632282445215,
          -0.5733009101886607,
          -0.9683386465939279,
          -0.8810165359530832,
          -0.9868528124482492,
          -1.0552297601854441,
          -0.9362485473052805,
          -1.0270811453452198,
          -1.0964642817894785,
          -1.2454087047428435,
          -0.3469142879020788,
          -0.4001951669718461,
          -0.8373912804878584,
          -0.6664589020762836,
          -0.9111947484398608,
          -1.1413037268746082,
          -0.8355701196493578,
          -0.9461572012030269,
          -1.0772681333220584,
          -1.2612543231097815,
          -1.402747508352944,
          -1.4175499149052349,
          -1.1532668893949736,
          -0.8260945504963928,
          -0.9641595995065819,
          -1.0818905797569265,
          -1.6071249169140724,
          -1.7144393909446578,
          -1.5510584586875669,
          -1.4821257133951173,
          -0.8960704376339833,
          -1.000194826519457,
          0.8794775135403741,
          0.18532549097574527,
          0.3168849430035039,
          0.07593767125376955,
          0.5682347585156039,
          0.2812598081685776,
          0.43515806352027286,
          0.19746845294612483,
          0.0708297098637894,
          -0.3109101572184465,
          -0.37405987855901923,
          -0.5399925165830501,
          -0.04904775775851451,
          -0.2312949999655692,
          -0.3468456424523982,
          -0.45906326265217373,
          -0.4322161017479689,
          -0.34890092553159285,
          -0.44588007449251243,
          -0.41132783341208196,
          -0.4149760871963063,
          -0.5228768282704173,
          -0.3950617862151472,
          -0.26605237974768425,
          -0.4030221219157198,
          -0.4836961671764899,
          -0.5525626084886656,
          -0.462242111786516,
          -0.32038499999721803,
          -0.010672009546047382,
          -0.09201760017965566,
          -0.30164239579334107,
          -0.4486487877823252,
          -0.07339318890326332,
          -0.2949691200050812,
          -0.5067885041475158,
          -0.7636912681537108,
          -0.6801354267802229,
          -0.2798301768885197,
          -1.4988150995017873,
          -1.607709532409908,
          -1.7376018764161887,
          -1.8343656679752094,
          -1.762727454019183,
          -1.8238174945854415,
          -0.6277654134186642,
          -1.48077323998262,
          -1.50103314998124,
          -1.374450507435577,
          0.12242175611141713,
          -0.26824210692456457,
          -0.7592065291842552,
          -0.7865722935674375,
          -0.8504114359236433,
          -0.7244548655567343,
          -0.8243084706268236,
          -0.7859920682212482,
          -0.8491647451810087,
          -0.6378987337315519,
          -0.7878232506057747,
          -0.7511914917989407,
          -0.8407969875305606,
          -0.6813056516459339,
          -0.24420978006140026,
          -0.4625244968550982,
          -0.6551589194928233,
          -0.7466491410817209,
          -0.555472652122789,
          -0.8540071695702056,
          -0.6840541959707805,
          -0.681930672052987,
          -0.7638592281226205,
          -0.6004394272793194,
          -0.6188381788955575,
          -0.6167134856389705,
          0.041861930091476804,
          -0.5445397902183376,
          -0.6851654994970287,
          -0.6967999819652799,
          -0.3907737795243481,
          -0.619904632394544,
          -0.8085617557835655,
          -0.7575224268478434,
          -0.9252948885328606,
          -0.7292624433697799,
          -0.7816870551315523,
          -0.8035907684420792,
          -0.7474282444144936,
          -0.7178719171276772,
          -0.8189973605627553,
          -0.44907265848532973,
          -0.6559325536740394,
          -0.7534614903573865,
          -0.839090272146934,
          -0.749143748647237,
          -0.7829202048192152,
          -1.8232615666156913,
          -2.021879107814591,
          -0.8659197342552577,
          -1.2907040092460353,
          -1.384283450589048,
          -1.2231113757425658,
          -1.198938136938707,
          -1.1607832182097273,
          -1.2809799227453285,
          -1.2873850928066073,
          -1.3932685851487236,
          -1.3239093301075562,
          -1.2666442771387352,
          -0.9583803048561539,
          -1.0877413862504344,
          -1.2566970627471346,
          -1.2892203616812756,
          -1.2745047020080618,
          -1.3185842884826522,
          -1.287540286050798,
          -1.0683747062215407,
          -1.270525984006166,
          -1.2407771668320164,
          -1.0492763642743244,
          -1.1208568299926192,
          -2.0444950303686222,
          -1.4599826984227626,
          -1.4515549466116695,
          -1.6308213777253127,
          -1.7914465771188528,
          -0.7222481265604808,
          -1.6587921923053857,
          -1.3944587893837523,
          -1.3178387348004748,
          -1.655746189581239,
          -2.0142962966452704,
          -1.8141691210985877,
          -0.8977537819005935,
          -1.9915126325196786,
          -1.2719199489168358,
          -1.3071309728391236,
          -1.9302954056218153,
          -1.5837986190778846,
          -1.6348614082968607,
          -1.3118711672324732,
          -1.2923182680839531,
          -1.6935490286300687,
          -2.0186295284728035,
          -0.5676124945517615,
          -0.8400140792730824,
          -1.173173306939861,
          -1.6438476062422303,
          -1.6327883598307982,
          -1.931459978589176,
          -1.4274795551477863,
          -1.5541199094878602,
          -1.4203611996792158,
          -1.3357556461510867,
          -1.8358298156685582,
          -1.8884366929228902,
          -1.7956311145949075,
          -0.39091838452387306,
          -1.779286235678589,
          -1.7531682861832094,
          -1.5495516391686623,
          -1.6217095555215049,
          -1.1501031214511122,
          0.5010879667455659,
          -1.20087333595918,
          -1.7437076256580546,
          -1.370030747963689,
          -1.4648225025464525,
          -1.5990178055516424,
          -1.7637343488074027,
          -1.022007479395926,
          -1.251779730827781,
          -1.5256977111082164,
          -1.6894129336797532,
          -1.5820566200881643,
          -1.5491054698144051,
          -1.304258275770657,
          -0.037511807182600526,
          -1.5203705942065315,
          -1.7596159485430385,
          -1.9492864791974838,
          -2.0302570318514297,
          -1.9396385177729902,
          -1.9397074502520153,
          -1.9575343826228295,
          -1.0089086529078704,
          -1.4532050778332386,
          -1.7644870231795804,
          -1.7458452393120467,
          -1.292259237436404,
          -1.611135015336303,
          -1.7189276151456934,
          -1.7605317466228407,
          -1.0193260295056576,
          -1.7791537959277008,
          -1.4261330740651994,
          -1.789977482529974,
          -1.6610772696051253,
          -1.9490957933514133,
          -1.8704238626331657,
          -1.8753323195941354,
          -1.9371144484865597,
          -1.8345053299407341,
          -1.6349718718090747,
          -1.2643436837044084,
          -1.3575843181307363,
          -1.1696116777211143,
          -1.09678947600706,
          -1.9683603143708728,
          -1.1778821038992258,
          -0.03488302839996834,
          -1.3350833295090456,
          -1.739631306113229,
          -1.5548105242553554,
          1.6765862851352844,
          0.6611053082247347,
          -1.2949263711633696,
          -1.361090753210871,
          -1.641824158451039,
          -1.9742882334635108,
          -1.603512384620734,
          -1.9287934805136726,
          -1.4814151465433123,
          -1.926429291465442,
          -1.1221475929685505,
          -1.7917556972661084,
          -1.2406571694406634,
          -1.1293395353393836,
          -1.0928922634143752,
          -1.076192067130822,
          -1.2920010500857524,
          -1.4252667639619607,
          -1.6406766676842839,
          -1.417356900809169,
          -1.4141418906570895,
          -1.4184337996942584,
          -1.5341311650860405,
          -1.3883046129502594,
          -1.3806667261843442,
          -1.4302891011947403,
          -1.4565077021547366,
          -1.2532823790596463,
          -1.4187215555122674,
          -1.4355899973369053,
          -0.8223216788662714,
          -1.3297521992807617,
          -1.505659515244977,
          -1.5204778801635948,
          -1.2984498188307367,
          -1.4209467820827195,
          -1.2094102603743682,
          -1.3187393934263905,
          -1.3375195819130727,
          -1.4184611171685626,
          -0.0821272320094834,
          -0.2882736698443012,
          -0.980411382356466,
          -1.3646701300302937,
          -1.378463562506506,
          -1.4333526380386907,
          -1.5464645794161722,
          -1.0905095701632725,
          -0.8367650050983433,
          -1.2409393281525014,
          -1.187542036361043,
          -1.3863131733123395,
          -1.1895594418180564,
          -0.8391570590468281,
          -1.1432308692654949,
          -1.1799407980305143,
          -1.2959289015658377,
          -1.3737247972663067,
          -1.3589397487570656,
          -1.3667788131725285,
          -0.683638010299909,
          -1.143986430491976,
          -1.2784684944905425,
          -0.9191465282939634,
          -0.929779066697697,
          -1.2111968712336625,
          -1.0644534521857392,
          -1.331316357537276,
          -1.0632217885111699,
          -1.3022149283880016,
          -1.1775071039213125,
          -1.1368868357278605,
          -1.0810613609350705,
          -1.0352774681341668,
          -1.0570452401168233,
          -1.0856234373736395,
          3.1903396660333265,
          3.579475186266324,
          3.4037737526130774,
          3.9244991917446677,
          0.5440859975778243,
          2.2918437420095725,
          2.430251813581082,
          0.4922629025657353,
          0.14369699890677115,
          -0.3539250251235737,
          -0.40855837666921296,
          -0.450577145212486,
          0.6571178910028439,
          -0.07143857888712984,
          -0.19562530694592656,
          -0.02163604674916112,
          0.18072780153264706,
          -0.11335234753980271,
          -0.47927045438058596,
          -0.3376064377490011,
          0.04132436194483548,
          0.03111520060310251,
          0.1132651804147786,
          0.18345859385869306,
          1.2249646659141011,
          0.2891646482085095,
          -0.24352369562416806,
          0.19990158153431428,
          1.4105895034534808,
          0.48239201556479566,
          0.5500956653298197,
          0.3748373439465664,
          0.32582074579561365,
          -0.20598699259332745,
          0.7457040078550353,
          0.14071393730618123,
          -0.004594920204897922,
          0.8611412392282877,
          -0.2407004073321786,
          -0.31330249220055933,
          -0.012841567351640907,
          -0.15069674760535862,
          -0.2801689106202857,
          -0.4420269441444399,
          -0.5020809105353109,
          -1.340390106940725,
          -1.3755874826743133,
          -1.5916163351650823,
          -1.5781843669613795,
          -1.5412114853843952,
          -1.098942890641608,
          -1.6109142542495622,
          -1.9396659846385267,
          -1.8482810721173615,
          -1.771131666886616,
          -1.9088593558981601,
          -1.8805243572930552,
          -0.8271617458809934,
          -1.3813225169413232,
          -1.8039083304708623,
          -1.6480196779220306,
          -1.6939907213892553,
          -1.5347337473866194,
          -1.2184234078171845,
          -1.6138534584645026,
          -1.9509001698275494,
          -1.3129707205029266,
          -1.304241551395108,
          -1.0252996932989462,
          -1.1112509670805344,
          -1.4567695856220282,
          -1.8014822784863327,
          -1.3750602953402784,
          -1.5389343299949334,
          -1.2692551640251035,
          -1.4262078651215728,
          -1.423416539335993,
          -1.6112308152262589,
          -1.3715026823624061,
          -1.6495919357009174,
          -1.4341787155253587,
          -1.341610303931001,
          -1.633769477878912,
          -1.615633880061195,
          -1.5336319970976684,
          -1.3417578120116138,
          -1.6590817706825907,
          -1.446216013689667,
          -1.475381009665519,
          -1.682176735232129,
          -1.3206712972216044,
          -1.5743082315858092,
          -1.5046802785365898,
          -1.600690007821314,
          -1.1176373232129209,
          -1.1578778283513331,
          -1.38033287490711,
          -1.4706831145638208,
          -1.3985254040113846,
          -1.5366904216897856,
          -1.4699798547238554,
          -1.4602521937883557,
          -1.8022988407520342,
          -0.27820081446126854,
          -1.532891593341398,
          -1.971197745980865,
          -1.8354403956961587,
          -1.797159981877917,
          -0.9425754311722409,
          -1.3022352844936802,
          -1.8687793837345956,
          -1.799786581610825,
          -1.7220360470693383,
          0.22250247114437027,
          0.03959550718082339,
          0.2928139236463587,
          -0.18645698460654353,
          0.12714776645941,
          -0.11253522064397453,
          0.12716753800463831,
          -0.10729174402231191,
          0.07240332975976321,
          0.151804502150639,
          -2.0256030855349345,
          -0.7019100675583023,
          -1.338771935433148,
          -1.5307476123496333,
          -1.7077231449472807,
          -1.7890970560679225,
          -2.1523551958263822,
          -1.858377427401508,
          -1.9712255077467207,
          -1.933360357613621,
          -1.136024096424766,
          -1.4873701542476339,
          -1.328526563113683,
          -1.9463239882342014,
          0.6928505485044043,
          1.3299872961085233,
          -0.8510543680030902,
          -1.4994724664268682,
          -1.8019388071777545,
          -1.791487014120345,
          -0.9167966720367166,
          -1.595876449386824,
          -1.8123311205233568,
          -1.6986480018989207,
          -1.9588481273197007,
          -2.0815156855806056,
          -1.9795870856441922,
          -1.827639666231756,
          -1.5329264081882295,
          -2.0807141561267604,
          -1.6387306847432446,
          -1.4920876893067565,
          -1.6602253897506856,
          -1.9170461826304304,
          -2.024637872089715,
          -1.878775478951406,
          -1.722852964095322,
          -1.8156272846279868,
          -1.6601018271561157,
          -1.4986377309689018,
          -1.821936185211486,
          -1.3801431752769788,
          -1.7413583006230982,
          -1.8129291084524133,
          -1.854213080936557,
          -1.658050574427642,
          -1.4758566218814289,
          -0.03245670799455922,
          -0.5160087422288796,
          -0.9202266790059659,
          -1.136541230982361,
          -1.1453478777258828,
          -1.1714837442157047,
          -1.3274032526317219,
          -0.5496730785061212,
          -1.276202151715258,
          -1.3309001698118472,
          -1.4818543053858304,
          -1.6252979796526914,
          -1.0407076264207993,
          -1.4164741732645294,
          -1.4940440369887207,
          -1.5687712238226497,
          -1.5071291337127866,
          -1.76095187138111,
          -1.7296283671232506,
          -1.1203658502114726,
          -1.5413116700002976,
          -1.5635193452698157,
          -1.4379280368911689,
          -1.6002606861118234,
          -1.7367247913120525,
          -0.9795189710147927,
          -1.416981264683915,
          -1.7761397628975721,
          -1.3845647903784721,
          -1.6691090366259147,
          -1.5315103513554835,
          -1.4487076730326542,
          -1.2881297992444105,
          -1.443193194198712,
          -1.5201732913886037,
          -1.3558171467552693,
          -1.03571286161508,
          -1.487630903067344,
          -0.942360589963884,
          -1.6218992068070712,
          -1.7226585393809954,
          -1.874653596910974,
          -0.876771368144394,
          -1.5910684057947684,
          -1.474915962826258,
          -1.6271562056132685,
          -1.8406452391037202
         ],
         "y": [
          0.13436042530509903,
          -0.12910149447036584,
          -0.06142365132329889,
          -0.001708696845438068,
          0.031268769108995106,
          0.021283596583692645,
          0.04837294857170879,
          0.09682930657187819,
          -0.03874797009359598,
          -0.06516266510113652,
          -0.03982541333583741,
          -0.04454042211022126,
          -0.03363996692520599,
          -0.07975834281809076,
          -0.030766340615831392,
          0.004937298189732751,
          -0.0879631064644366,
          -0.04018928491790753,
          -0.004319060118247777,
          -0.01579823599601427,
          -0.138906569268381,
          -0.13229452337744754,
          -0.12059294152735475,
          -0.16826167058075914,
          -0.1612517081372015,
          -0.38822590076717267,
          -0.41109699133865174,
          -0.37114773532146084,
          -0.1787606117429706,
          -0.1812463332207691,
          -0.24911647255374356,
          -0.181126933797102,
          -0.22945229202535186,
          -0.37846858533687056,
          -0.3171783981296609,
          -0.28912116259443993,
          -0.31312199046303224,
          -0.27377027683069627,
          -0.27188268202936483,
          -0.4083494924226821,
          -0.3322231583742022,
          -0.27484326082135596,
          -0.2210508941222833,
          -0.5387997553728008,
          -0.49460891197768353,
          -0.44146091722158354,
          -0.43345885637791337,
          -0.4703825357676701,
          -0.8901594189599039,
          -0.7891918130676522,
          -1.5055738009734725,
          -1.4860987273049941,
          -1.423373770329338,
          -0.34302265450357206,
          -0.3943948434758024,
          -0.3703341602523344,
          -0.32982826337006405,
          -0.3885975376668637,
          -0.3358735867602152,
          -0.4008760802068777,
          -0.4881231568212185,
          -0.4649642050965762,
          -1.2124853859983584,
          -1.1065948758810433,
          -1.189518263064788,
          -0.6875331926938156,
          -0.5275028933594872,
          -0.40246959755168915,
          -0.4422285165811209,
          -0.4254886168795993,
          -0.3882936978002415,
          -0.3921130699824179,
          -0.4078002753800278,
          -0.6153617733281281,
          -0.5962119030875112,
          -0.5663951275176277,
          -0.49509671141789324,
          -0.587683765657764,
          -0.5507003587721447,
          -0.4892239023434757,
          -0.7420903333402256,
          -0.736719818898812,
          -2.105590389179976,
          -2.05680233551017,
          -2.0169323151059353,
          -1.9969570454761825,
          -1.9906909568713824,
          -1.95652560059032,
          -1.9947254987064265,
          -1.9572629946037947,
          -0.5731370203966164,
          -0.7634896349238068,
          -0.7567151263528802,
          -0.8916990046228039,
          -0.8121554130647048,
          -0.8885874118450998,
          -0.8651480745549397,
          -0.901781189963465,
          -0.9976151742806402,
          -1.1059390436423684,
          -1.0078177757687767,
          -1.118101330594052,
          -1.9056807095814952,
          -0.727114551167283,
          -1.688662913077165,
          -1.0420883105726264,
          -1.0567479690530537,
          -1.020740980861049,
          -0.8267904474901532,
          -0.8356392893741168,
          -0.828730507160242,
          -0.928730693787507,
          -0.884013886053178,
          -0.9386944200163743,
          -0.9460094597065287,
          -0.9307499215999806,
          -0.9280286791432851,
          -0.8998190786913256,
          -0.9398842523249968,
          -0.9516300708972232,
          -0.9949075764892407,
          -1.0177994346349062,
          -1.021725377246039,
          -0.9647652283913287,
          -0.9966707912400127,
          -0.9550783734156173,
          -0.9303400524614246,
          -0.9839716757778041,
          -1.0974804994322775,
          -1.0656658683066436,
          -1.036003915112616,
          -1.0367727700684712,
          -1.0213041638888525,
          -1.077858274578829,
          -1.0029179087515079,
          -0.981659827042744,
          -1.0120204650994746,
          -1.0184965066754341,
          -1.1018768019807657,
          -1.1620034420197993,
          -1.1745620306370508,
          -1.1680307250170252,
          -1.1267286990065837,
          -1.0830046086137084,
          -1.1247802281066754,
          -0.7909566180880265,
          -0.6055583315658996,
          -0.7792599376287906,
          -0.7332005304065718,
          -0.7005259887443414,
          -0.736232258513342,
          -0.7044045013056448,
          -0.7433188708821891,
          -0.7356152983513381,
          -0.6787553648063758,
          -0.7076133309531412,
          -0.8814668644259671,
          -0.8050057225975553,
          -0.7735491275524697,
          -0.7959834850508983,
          -0.7485775979158547,
          -0.7807019055111072,
          -0.7617924280647344,
          -0.7628171177983615,
          -0.7869470478320315,
          -0.7429108025063463,
          -0.7865978697428749,
          -0.8578447270505438,
          -0.8621663249637652,
          -0.8636455821853622,
          -0.8220673250502917,
          -0.9079623089853003,
          -0.8747161958603243,
          -0.8038418046540299,
          -0.7961305085080558,
          -0.8408848278484949,
          -0.9620877755328643,
          -0.8550838747645871,
          -0.8364475608196441,
          -0.8675606203034344,
          -0.8332608396430408,
          -1.0800553100985797,
          -1.0846435560257766,
          -1.0094181489596188,
          -1.03574281476922,
          -1.0415741268869323,
          -1.126533628563631,
          -1.1512792310928457,
          -1.1160816845091717,
          -1.0035844387819146,
          -1.0135778477275765,
          -1.1491632166907,
          -1.44010577841183,
          -1.0464770428577441,
          -1.0189436460874168,
          -0.9359814881553217,
          -0.9024318819452619,
          -0.9478143149865955,
          -0.942566547906887,
          -0.951562945036203,
          -0.9189005225160644,
          -0.9899548758660216,
          -0.9398912771274498,
          -0.9290440929784278,
          -0.8671970430622019,
          -0.8967975690917404,
          -0.790481209839494,
          -0.7825299676351269,
          -0.954969812674234,
          -0.919168110702589,
          -0.9958737028601298,
          -1.0274398642921767,
          -1.0490651573464929,
          -1.041186733249081,
          -1.0230425622878536,
          -1.0182677344530289,
          -1.0059223404743014,
          -1.061345412899432,
          -1.066785791880691,
          -1.0648549407624925,
          -1.084245232798905,
          -1.0633955031971234,
          -1.0628677199151224,
          -1.069090752609394,
          -1.049872640293488,
          -1.0406797307314684,
          -0.9147097500844411,
          -0.9708760207205469,
          -0.9617974631343862,
          -1.0340660306252998,
          -1.0348095798102783,
          -0.9872794486574449,
          -1.0052957963649625,
          -0.9847442981212378,
          -0.981058456932702,
          -0.955565005682157,
          -1.307654015770281,
          -1.3322070655901603,
          -1.4020800919097993,
          -1.4383840855635652,
          -1.5059501974834884,
          -1.9598298373036451,
          -2.055245924002746,
          -2.34091773130872,
          -2.060484943025983,
          -1.9656945325992494,
          -1.913050820788395,
          -1.8467650465222523,
          -1.7893494820131324,
          -1.7952440722232579,
          -1.8998751639505413,
          -1.912371710232844,
          -1.9847402117869313,
          -1.9256106210998443,
          -1.912891083581719,
          -1.8173515437343433,
          -1.8362137797026188,
          -1.8067486411906184,
          -1.7847145509711275,
          -1.8134051474326822,
          -1.7963464507820746,
          -1.7747688972672786,
          -1.7308236277190643,
          -1.925196141463472,
          -2.004655260506335,
          -1.8954691067294211,
          -1.9343119799044202,
          -1.874102129579562,
          -1.804043041247318,
          -1.8885246828558009,
          -1.8585123624060265,
          -1.8256304012164632,
          -1.767866179550259,
          -1.7242710086017012,
          -1.7193273624642311,
          -1.772250731420533,
          -1.9363786021425369,
          -1.8980139302634034,
          -0.7179210739204096,
          -0.6177826206552368,
          -0.6193357976956934,
          -0.7740744095149524,
          -0.800218569765094,
          -2.4576656846388323,
          -2.4169874198244696,
          -1.0400787028558698,
          -0.8717610298446058,
          -0.8968523585910301,
          -0.8515575034690795,
          -0.9402589531231164,
          -0.9030306097509063,
          -0.801242876658264,
          -0.8718232869337182,
          -0.8487020642722559,
          -0.7512250705157385,
          -0.7294553408253159,
          -0.6832497656649936,
          -0.8572404988259351,
          -0.8076003347965549,
          -0.7890669158334586,
          -0.7569576789673824,
          -0.7607535476956782,
          -0.7867720355946479,
          -0.7512683879940536,
          -0.7663804183921752,
          -0.7670865022952162,
          -0.7315818979238983,
          -0.7702729185927186,
          -0.8065727552339268,
          -0.8145138981287535,
          -0.7902983599223028,
          -0.7706381971875433,
          -0.7928815506648159,
          -0.8334741766191173,
          -0.9188141623619432,
          -0.882073781372254,
          -0.8386701702618382,
          -0.7963731487336618,
          -0.8937478433024508,
          -0.8383943212299971,
          -0.783297365823323,
          -0.7444968170644437,
          -0.7782063478390561,
          -0.9218410989912613,
          -1.003280239098156,
          -0.971279979520058,
          -0.9237910292537032,
          -0.8942535314254859,
          -0.9546090992439797,
          -2.0878811301441043,
          -1.2941938515987375,
          -1.086933321962046,
          -2.078753850942777,
          -2.142141349054878,
          -2.477838205737656,
          -2.342502710422673,
          -2.354363208000451,
          -2.3510847013130247,
          -2.3351573711912237,
          -2.332422780640434,
          -2.3330315088416014,
          -2.372863449210009,
          -2.373514913463271,
          -2.4049817295315394,
          -2.388326930567865,
          -2.3834532280917804,
          -2.3812183279526127,
          -2.3908782234564487,
          -2.3601929913278967,
          -2.44059742358483,
          -2.4150216794934556,
          -2.3477157369340245,
          -2.403050524687589,
          -2.4282060977768336,
          -2.4433098310616765,
          -2.466618865516569,
          -2.4439129413822083,
          -2.4488690517025855,
          -2.4491908770521063,
          -2.4749962350094954,
          -2.4138250297809507,
          -2.4970548610333716,
          -2.4675147853314963,
          -2.4601530151115116,
          -2.463844181146088,
          -2.507017523371913,
          -2.4793352743144426,
          -2.4931263328472357,
          -2.4583362141165654,
          -2.4752386138160647,
          -2.4525686578077837,
          -2.4579839467676075,
          -2.4960311486547107,
          -2.4990341331178847,
          -2.4752303039130457,
          -2.531821568686006,
          -2.484407469510151,
          -2.5324126053419835,
          -2.518368950680486,
          -2.5323750284880746,
          -2.5162166285219794,
          -1.4869411197887996,
          -1.4471251848996387,
          -1.2889297845702608,
          -1.1734175138116727,
          -1.1203342844355575,
          -1.2407911993693925,
          -1.280067823247836,
          -1.2951399033536655,
          -1.264107268677887,
          -1.2545423613626043,
          -1.219241734692033,
          -1.2239731230074724,
          -1.3084086364586964,
          -1.4071002990769568,
          -1.368023260589565,
          -1.319431796447581,
          -1.3012125841867057,
          -1.3007120544128103,
          -1.2997395903392006,
          -1.2814056098654238,
          -1.4194334108952835,
          -1.3560743988462651,
          -1.3455967299913556,
          -1.4003808265456343,
          -1.4265758317901176,
          -1.6915535157259067,
          -1.3720980356564425,
          -1.3753192784414578,
          -1.322680757254075,
          -1.277062389182429,
          -1.038282685760225,
          -0.8649018808903784,
          -1.1816908026317912,
          -1.1945847714585116,
          -1.0981424345107442,
          -1.0005118449530253,
          -1.1875191486626295,
          -1.3755734884586348,
          -1.1370792533549021,
          -1.7010774057865137,
          -1.7136174133536273,
          -1.0275998188640565,
          -1.160891418130041,
          -1.1377372290664352,
          -1.2528649419449314,
          -1.2637836140701606,
          -1.1526714435396184,
          -1.0795728425614946,
          -1.5023371009114632,
          -1.5018943944963978,
          -1.3841400045033845,
          -2.1965840178862632,
          -2.2377763956907444,
          -0.6304558319110688,
          -0.8364550369687735,
          -0.8736645943598328,
          -2.0635880687490324,
          -1.8201320750519798,
          -1.7007268665383328,
          -1.3384681529929914,
          -1.2518349071947923,
          -1.5621472867603508,
          -1.3079693311164264,
          -1.3087478326538389,
          -1.4094878074993507,
          -2.357648130538645,
          -2.5007692795900938,
          -2.798530383281938,
          -2.553839459006845,
          -2.3835604789404465,
          -2.492773062252999,
          -2.4770011082165246,
          -2.430560560784772,
          -2.3759776777230295,
          -2.5846661611437285,
          -2.5250191509210254,
          -2.4962372994545237,
          -2.4450733101215407,
          -2.4781411772739523,
          -2.4742354862523768,
          -2.6362959462100966,
          -3.067538585435602,
          -2.9118169770868874,
          -2.8691518746943285,
          -2.8440194386217508,
          -2.3463168686829063,
          -2.3689445470491255,
          -0.9172042899659358,
          -0.9008808581334986,
          -1.123521018038101,
          -1.0730399426588344,
          -1.0851227219323163,
          -1.0958975523694876,
          -1.7644298599339328,
          -1.69413390248827,
          -1.6521965433839045,
          -1.6297151537665515,
          -1.7255807000898402,
          -1.6697022645113417,
          -1.7719756235339117,
          -1.6790055008960696,
          -2.105646574441515,
          -2.0487192144356623,
          -2.121416689095564,
          -2.190809599394162,
          -2.217821831380472,
          -2.1143053831224643,
          -2.2135475623859384,
          -2.3632345431323216,
          -2.432101574846414,
          -1.9776650238485007,
          -2.0111434561101342,
          -1.7882148704627325,
          -1.613307346160429,
          -1.830092815472771,
          -1.5854168355109834,
          -1.4700804876140396,
          -1.5680016759813504,
          -3.7410361525153,
          -3.7773788831719277,
          -3.352216001046898,
          -1.631374630087907,
          -1.5781293793621043,
          -1.4828556947034708,
          -1.592479871598628,
          -1.5399920139227488,
          -1.3661723531702372,
          -1.5741493048365913,
          -2.3088651493685304,
          -1.4389837005976776,
          -2.9995199138625255,
          -3.014031619622011,
          -3.0354646587093335,
          -3.045010035671963,
          -2.9835524344591398,
          -2.9652475438404045,
          -2.894586765593757,
          -2.9686797066484973,
          -2.970694054054772,
          -2.9625824039338355,
          -2.928371522011333,
          -2.955471246537014,
          -3.0184083049662096,
          -2.997961243594343,
          -2.9994493612148068,
          -3.049238902641738,
          -3.007787640200328,
          -3.0064094956851317,
          -2.9583318457219154,
          -3.031715023093457,
          -2.983256669229708,
          -2.9803284446541944,
          -3.0278509340105253,
          -3.0031105478519065,
          -3.110232780019356,
          -3.084040293274663,
          -3.0725540677436824,
          -3.0470853689814117,
          -3.2429439146119274,
          -3.2455840514900087,
          -3.1456595012153383,
          -3.0644670481648943,
          -3.0556568771185577,
          -3.0378144747664844,
          -3.0040280338551124,
          -3.096071957850659,
          -3.2087230076382505,
          -3.133709785531054,
          -3.1510320269990033,
          -3.0964291732524285,
          -3.141339557234783,
          -3.1102220109958783,
          -3.1667784595825945,
          -3.1600759613172245,
          -3.1339518042399446,
          -3.1083816962217106,
          -3.1089422456768485,
          -3.0887878979782775,
          -3.163998083415125,
          -3.220545541182457,
          -3.1796625943532915,
          -3.2352969738198047,
          -3.226255674310007,
          -3.1918350041918577,
          -3.2222042345936663,
          -3.151193913162574,
          -3.211580420851884,
          -3.1579967290217987,
          -3.188201224661097,
          -3.184565086014296,
          -3.2658388448652675,
          -3.2720465620759858,
          -3.2572875885665478,
          -3.256458318342438,
          -2.9551661729584255,
          -3.0848997394069393,
          -3.0369664872225557,
          -3.157021499331577,
          -2.7832425680861945,
          -3.1210053695316162,
          -3.2407842580341635,
          -2.9375281098755277,
          -2.872818079340904,
          -2.761594438371991,
          -2.747979656388727,
          -2.7336579968642516,
          -2.985665997581378,
          -2.834806160727956,
          -2.7985426510387175,
          -2.827853206075232,
          -2.9377959874486286,
          -2.870259671877942,
          -2.7807678135734517,
          -2.8093319151012466,
          -2.882128524730511,
          -2.8886704200554774,
          -2.911117032556216,
          -2.920707411052195,
          -3.056199551389975,
          -2.9427470679883587,
          -2.8379755771753317,
          -2.9181057027607076,
          -3.1555191002435583,
          -3.0436840756341463,
          -3.058772789580224,
          -3.0252047483990543,
          -2.9881880936928487,
          -2.8826385865135054,
          -3.0813087270992257,
          -2.9511347125204805,
          -2.9349384994263774,
          -3.098555699640602,
          -2.8710820769752865,
          -2.8499139736410823,
          -2.97307930358519,
          -2.94428129809993,
          -2.8975913592002067,
          -2.445436327483457,
          -2.4853775166626835,
          -2.311920811143181,
          -2.3426337132598363,
          -2.2816774973924003,
          -2.2825845626385903,
          -1.365264926712741,
          -1.0596773351988518,
          -0.9805403356239826,
          -0.8666777271489748,
          -0.9459969775078327,
          -0.9493966498673376,
          -0.9244573749163058,
          -0.931992204757557,
          -1.1882868512638831,
          -1.0801855742900497,
          -0.9610882301415471,
          -1.0584649427147188,
          -0.9879363818330078,
          -1.1204530458603754,
          -2.8988835986988732,
          -2.8139222082598456,
          -1.893233302309286,
          -1.7174975327066675,
          -1.7568460393845444,
          -1.657738974366889,
          -1.6693300793538794,
          -1.580101494723988,
          -1.4711037059620797,
          -1.6515313974655987,
          -1.6025869022183936,
          -1.6802180211256714,
          -1.6357355362021688,
          -1.633941562681714,
          -1.576480668204465,
          -1.6390640451425118,
          -1.5662914381707354,
          -1.6239840713335607,
          -1.6557143830055685,
          -1.5495058322077968,
          -1.6165446879180798,
          -1.6480758980574048,
          -1.701198065667557,
          -1.605145276574641,
          -1.6751197861338316,
          -1.661994009228939,
          -1.6015422618798558,
          -1.6894602147566238,
          -1.6776268544431276,
          -1.6998051136201238,
          -1.6676769374216045,
          -1.7899184208314292,
          -1.789601600197228,
          -1.7308104500484767,
          -1.6815318453033405,
          -1.7157006682455354,
          -1.7243592896402888,
          -1.7444775244253492,
          -2.686925047971298,
          -1.6094920780411697,
          -2.3839549367094777,
          -2.2773102017087505,
          -2.149612845486324,
          -2.229020861571294,
          -1.9174862883638666,
          -2.376933692804375,
          -2.3681173450591455,
          -2.2088751158958098,
          -2.2537420527264507,
          -2.3090591322417855,
          -3.7631986187028588,
          -3.709461329558679,
          -3.829087739663821,
          -3.68210168223926,
          -3.7799535434908935,
          -3.704724087552656,
          -3.774190595636503,
          -3.705498103587191,
          -3.766849125029212,
          -3.785112573264585,
          -2.203928316169084,
          -2.492236741676961,
          -2.3847101478240926,
          -2.3233531109157486,
          -2.310520041308317,
          -2.278136283036877,
          -2.171936316003711,
          -2.252108759058839,
          -2.2321856360531833,
          -2.281689278943261,
          -2.864440306744439,
          -2.784596443251389,
          -2.170489228483813,
          -2.090313249389875,
          -2.684046630128436,
          -2.893859247961048,
          -2.481960515046024,
          -2.3085315039531658,
          -2.2119611455777357,
          -2.219620341457028,
          -2.505808058996306,
          -2.3286812225094176,
          -1.6376931728676263,
          -1.6723059458690164,
          -1.6391937786671937,
          -1.5969905503655197,
          -1.5727958557026287,
          -1.6561748975490589,
          -1.7435680978006565,
          -1.6163746591147208,
          -1.7743742565456355,
          -1.8457418471583318,
          -1.8034691964777727,
          -1.7259849821710145,
          -1.6870109045718875,
          -1.7357030622225325,
          -1.7762987286819458,
          -1.7590496419201143,
          -1.8360187390116944,
          -1.8844998604690015,
          -1.7921327288091393,
          -1.9174016405393075,
          -1.8232393845851793,
          -1.8035150561636977,
          -1.8357432461772132,
          -2.6050386630946716,
          -2.8936868137444463,
          -3.2978388590997247,
          -3.1909217185665995,
          -3.1022557680192313,
          -3.0659120935461934,
          -3.042391445921238,
          -3.0567239034011755,
          -3.000082488151336,
          -2.99153666723681,
          -3.044712108579499,
          -3.0225766672684085,
          -2.9892909582631177,
          -2.9549540027557675,
          -3.080017833849549,
          -3.0654092991692563,
          -3.0414359025884687,
          -3.0134268035401335,
          -3.0125868944740217,
          -2.961699767853893,
          -2.9754042318562868,
          -3.043496056587377,
          -3.0329786538633154,
          -3.0234902670263315,
          -3.0400707310435484,
          -3.002198974596703,
          -3.0177058660149867,
          -3.146393574510175,
          -3.1028239484168796,
          -3.0017276294612536,
          -3.1017842918406586,
          -3.0356384993449184,
          -3.076330427356861,
          -3.0483861722383736,
          -3.122340108117986,
          -3.096683311367477,
          -3.0721064138903125,
          -3.0940963105319055,
          -3.2309422523504385,
          -3.122213304925576,
          -3.198513491855254,
          -2.537487240128922,
          -2.5599035656219793,
          -2.1206205286880473,
          -1.4191837493005257,
          -2.975666985504217,
          -2.884998318121962,
          -2.2160665438121376,
          -0.9573368737416119
         ],
         "z": [
          -3.1865085628119205,
          -2.638686774009454,
          -2.830936364322193,
          -3.047449120137803,
          -3.1339336511035,
          -3.121387235588335,
          -3.2359463959017245,
          -3.3616194463289575,
          -2.730178958476365,
          -2.725839920390119,
          -2.8138268496818677,
          -2.81359966668665,
          -2.8669259533557847,
          -2.777705067078031,
          -2.9415396407879766,
          -3.0515890822741656,
          -2.8683548985371066,
          -3.022330143793206,
          -3.0016940400584247,
          -3.110923197483993,
          -2.534239554902533,
          -2.4580726366800323,
          -2.4441949923166213,
          -2.550785710343613,
          -2.4731283394462347,
          -2.034217328573772,
          -2.0739983134655207,
          -2.2233490297235057,
          -2.611910672307169,
          -2.6760466581272326,
          -2.5229048790473105,
          -2.7459586200561126,
          -2.346468179603269,
          -2.0132938079830893,
          -2.2270889397397258,
          -2.2824744691274135,
          -2.2938986302696063,
          -2.395070782210471,
          -2.3914974013416552,
          -2.1572487017844835,
          -2.3384318484811977,
          -2.494453312429416,
          -2.6289178496230257,
          -2.0018757555255977,
          -1.7874161259529022,
          -1.7208825566215415,
          -1.943746509842235,
          -1.8931220329198948,
          -0.18607489163911672,
          -0.39202695169697027,
          -0.007049600388970726,
          -0.1588263119232346,
          -0.32387412536527516,
          -1.6365353876993638,
          -1.5664285881666378,
          -1.6452521257053627,
          -1.7560956054319183,
          -1.755144232439153,
          -1.892850786224132,
          -1.6038754371016444,
          -1.4106544210964425,
          -1.49631468386358,
          0.4869236899735891,
          0.20520831921021515,
          0.44874503989598885,
          -0.352861801811303,
          -0.9651371144532545,
          -1.2501554441302107,
          -1.201224868714235,
          -1.2616598052726686,
          -1.362350366601815,
          -1.4222107892442046,
          -1.422644721578105,
          -0.683971006268362,
          -0.776004206567789,
          -0.8733957865127683,
          -1.0780644005783053,
          -0.9018406302739637,
          -1.0250950398706122,
          -1.186958300869545,
          -0.4445148229961099,
          -0.4492849401357661,
          -4.426078934821542,
          -4.576047615856218,
          -4.689392207067446,
          -4.763098398655366,
          -4.80114541363112,
          -4.942012568777155,
          -4.892232964782219,
          -5.044480822419816,
          -1.0977791065358993,
          -1.7363737237281247,
          -1.8550359766304432,
          -1.7557560788933622,
          -1.599377507521331,
          -1.612375276491757,
          -1.6932689066209534,
          -1.5039265626045433,
          -1.4398300778253796,
          -1.2057009503603162,
          -1.4851620609302525,
          0.13620593887597882,
          -0.3456481591341184,
          -0.3754712061506939,
          0.13236316767847348,
          -0.9585373803022451,
          -0.958647574449193,
          -1.0803659673189938,
          -1.6232765896683916,
          -1.636145667769713,
          -1.7378002871933966,
          -1.2295476504384049,
          -1.3506894377509442,
          -1.269787061786068,
          -1.2849619144473634,
          -1.346383726140949,
          -1.4110692561770206,
          -1.4974911438959888,
          -1.4686570375652113,
          -1.4779562349035638,
          -1.0572556992708142,
          -1.0391870231871951,
          -1.055087686712265,
          -1.2066397902164259,
          -1.164003268609203,
          -1.2673761826177918,
          -1.3673747191701697,
          -1.2852426259272578,
          -0.810340211383548,
          -0.931191894293882,
          -1.0117493136433655,
          -1.0729003052140214,
          -1.132533505513891,
          -1.0327509759879732,
          -1.2372245703793872,
          -1.3153120692587972,
          -1.2797699542157248,
          -1.2994926926120203,
          -1.1234069157351412,
          -0.6886682277342717,
          -0.6911736904109732,
          -0.7325768720500111,
          -0.8503998512876991,
          -0.977636155400559,
          -0.9016812146394853,
          -0.7791012385691024,
          -1.3700506880969763,
          -1.3544820585565887,
          -1.4795659107896584,
          -1.5731855821651861,
          -1.5613424818199173,
          -1.6558902817000172,
          -1.635992031819438,
          -1.6825796738955026,
          -1.8264768539319904,
          -1.7983991007465943,
          -1.1218181972375316,
          -1.326451211984258,
          -1.4200628540726374,
          -1.3990540322050038,
          -1.5300810039754797,
          -1.4937464918424121,
          -1.5530954051734682,
          -1.618111571939256,
          -1.5987470586579549,
          -1.7204312843890956,
          -1.659073420640992,
          -1.1833935520717236,
          -1.1987466293440214,
          -1.2317244446986149,
          -1.5678761068270852,
          -1.0649235775100516,
          -1.1640380686351142,
          0.1685128151916747,
          0.09930982840829268,
          0.23191587675653702,
          0.4135050950585294,
          0.19164525302303811,
          0.0778993778048628,
          0.2204219335834095,
          0.0512472246459158,
          0.9208528263422157,
          0.8442241503181067,
          0.6520939573987907,
          0.6924660005593145,
          0.6351559307974405,
          0.7959290676245994,
          0.8242307389929575,
          0.7928587296454624,
          0.5087234640757163,
          0.5587593256323068,
          0.7732180677890329,
          -0.13854047109163733,
          -1.3426320175194293,
          -1.5461528515279659,
          -1.7517194947413979,
          -1.9751781733639595,
          -1.5848154347926773,
          -1.6322019421696456,
          -1.6149879800350508,
          -1.7877260095235177,
          -1.6715277406813847,
          -1.8107052597893203,
          -1.05903374728014,
          -1.23299853539123,
          -1.1849273937631515,
          -1.4349312425688414,
          -1.4679886963854856,
          -0.8347067312029669,
          -0.9418335570140595,
          -0.8491125267999666,
          -0.7767285889585127,
          -0.7480322686132784,
          -0.7939786547529089,
          -0.8738934710535784,
          -0.9259213362400707,
          -0.9886563340482619,
          -0.5659219110352485,
          -0.5833906417968237,
          -0.6125413870965669,
          -0.5882641181002835,
          -0.63449028955715,
          -0.6881773286539812,
          -0.7120220716183968,
          -0.7308033370192117,
          -0.8556916623608748,
          -1.1671576278467541,
          -0.755535664119386,
          -0.8090708643201535,
          -0.6979183513513766,
          -0.7265383503706074,
          -0.8665901117667394,
          -0.8564303645655571,
          -0.9365465401783963,
          -0.9755359763312368,
          -1.0877702292476605,
          0.32931651321620686,
          0.3482461692550862,
          0.3089496195796133,
          0.58214716171287,
          0.6455853827414254,
          0.916356355237919,
          0.9218212444419723,
          1.3756666539191698,
          0.7251865183864818,
          0.49155678123761143,
          0.3723350109558816,
          0.12694886821064313,
          -0.017777444578806912,
          -0.030572079646949475,
          0.231548738889357,
          0.17550749931314588,
          0.6728342683311596,
          0.4942296012719875,
          0.42963584784578035,
          0.1930401807409068,
          0.20157044362341178,
          0.11398384593544732,
          0.035729560553010006,
          0.07112341736004524,
          0.0016323222678648415,
          -0.06849856617137537,
          -0.1871664054242163,
          0.26298143167120347,
          0.6805644476354411,
          0.41866971631794303,
          0.48444606137822505,
          0.31669784615011987,
          0.14599090668531398,
          0.2899490736270152,
          0.19418899908098564,
          0.097018935397175,
          -0.04871501083894881,
          -0.1629535944044387,
          -0.1997863918525007,
          -0.08933921824534648,
          0.5468519217621554,
          0.43416284395250687,
          -0.48537345119683206,
          -0.795956747820642,
          -1.0313037213667933,
          -0.3544711028008095,
          -0.3355098081320687,
          -1.5277415121007276,
          -1.6351948408609551,
          0.30919674690735643,
          -0.06468412548885635,
          -0.026675659284397267,
          -0.16820191024899642,
          0.03814377377542181,
          -0.12545663459983003,
          -0.1633196648680836,
          -0.2204852130110886,
          -0.313101261134492,
          -0.5523346373296442,
          -0.6254793799441438,
          -0.7451842251370502,
          -0.023099772241809716,
          -0.1673680465063362,
          -0.2490785973378257,
          -0.3475068431591712,
          -0.3743881024454667,
          -0.35062362906024896,
          -0.4508508496517196,
          -0.44816557673910024,
          -0.4737833962829092,
          -0.5771400376505654,
          -0.5205812230704223,
          -0.4732378259054289,
          -0.137491230473632,
          -0.2181059379906803,
          -0.28793677558877817,
          -0.2580561905415052,
          -0.20179359385865722,
          -0.07490748332585785,
          -0.15346375611999422,
          -0.2892055681179402,
          -0.40783491569571956,
          -0.21083826374080336,
          -0.36882785263214013,
          -0.514062932929296,
          -0.43934949780694504,
          -0.40799119148903557,
          0.022683580918384162,
          0.07218441180910491,
          -0.02366129250736696,
          -0.14224256841801602,
          -0.264158341118709,
          -0.03521446137246514,
          0.28509917905488,
          0.04942272932104698,
          -0.40429583752105847,
          -1.7934807134778459,
          -1.6274360371089887,
          -0.8373050464898828,
          -1.1212218172472852,
          -1.3270507078088332,
          -1.3661730199818236,
          -1.4329249416543894,
          -1.41643094415804,
          -1.48898796906879,
          -1.053926030205575,
          -1.1019543943496144,
          -1.0229209698610355,
          -1.124978122466562,
          -1.1436774472081541,
          -1.2117105058076059,
          -1.1722413975324577,
          -1.0632094127171323,
          -1.100265617320827,
          -1.233039322485516,
          -1.3595036525653916,
          -1.2644828601832194,
          -0.9771790798347707,
          -0.9257384333399757,
          -0.9361864897599329,
          -1.0153415060506408,
          -0.9736652206088006,
          -1.0092607201796016,
          -1.0164280594274726,
          -0.8495288749068514,
          -1.0354105667955313,
          -1.1423122097441631,
          -1.1780367638801743,
          -1.0898200520608035,
          -0.7602077740830698,
          -0.88659252620947,
          -0.8867659009427803,
          -1.0118552431607049,
          -0.9537954025863267,
          -1.0232859343099778,
          -1.0585551492331717,
          -1.0323830093495099,
          -1.0464745572970693,
          -1.1358785692761355,
          -0.9789597037385371,
          -1.1280352902746351,
          -0.7381154241943993,
          -0.8102798110625544,
          -0.7981748118593668,
          -0.8526359619451205,
          0.13114552448769906,
          -0.009669697689930392,
          -1.6881212340226226,
          -1.9864998753346161,
          -2.215690845731444,
          -1.8117450816313276,
          -1.5909694709418083,
          -1.5956166504838838,
          -1.7558211921508453,
          -1.798117426552418,
          -1.9009221924084005,
          -1.9886058400727118,
          -1.5050228290575194,
          -1.3261096794086327,
          -1.4458121099881598,
          -1.6697903071011821,
          -1.7290143444314496,
          -1.7523563746247668,
          -1.829869878335164,
          -1.8638891296076447,
          -1.2987648454590637,
          -1.4653706870298828,
          -1.5521858443955445,
          -1.5476548545060604,
          -1.2854034573344832,
          0.21691467411414014,
          -0.6184908221236832,
          -0.6428918493831176,
          -0.8225848655980963,
          -1.0167800738751873,
          -0.7474403592974882,
          -1.278857435902823,
          -0.2094536809301259,
          -0.1940390570188692,
          -0.5031165647660356,
          -0.009553030116157227,
          0.4747528586297469,
          0.24605779535379257,
          -0.3934007102792689,
          0.3667430013864795,
          0.31178507128938265,
          -0.4447144931717812,
          -0.7684800302125824,
          -0.8377180417470429,
          0.14240310805700335,
          0.1214169649906637,
          -0.17663560815756452,
          -0.45245191085654723,
          0.8910657312439247,
          0.7666336531078503,
          0.5268242165736856,
          -0.08144530555176246,
          0.20847321134959365,
          -1.2850061121422809,
          -0.7539651974499206,
          -0.5138311816780357,
          0.2888666183370897,
          0.35949970887503824,
          0.030122894924246787,
          0.5889117900863551,
          -0.3327289746890698,
          0.39375029236046355,
          -0.35450828065777523,
          -0.365701621555765,
          -0.11127078667610844,
          -0.28423862257579424,
          0.1758748247044082,
          0.9618989884778009,
          0.11021463514940397,
          -0.2655183423156369,
          -0.05761083903546782,
          -0.1909987439266638,
          -0.31177696523817733,
          -0.45570120081272614,
          -0.023836226753055422,
          -0.19399774352964821,
          0.06139987184394406,
          -0.098981131548865,
          -0.12276306879702362,
          -0.14220762238038648,
          0.3292875210932277,
          0.9519431542516688,
          0.23341237163284578,
          0.47362052470772065,
          0.18099545434592934,
          0.2195254199922909,
          0.2446693170578923,
          -0.8276460340115963,
          -0.9660559555481918,
          -0.4943393698166524,
          -0.7462216758920364,
          -0.552026114740602,
          -0.5680740400224955,
          1.0439485167282254,
          0.8321081340829519,
          0.7269079546363013,
          0.5983993631317552,
          1.1954643612125053,
          0.8326881473362113,
          0.8350518704594706,
          0.5379568301938369,
          0.4580869111322429,
          0.2413745969130134,
          0.571125469729349,
          0.6020970414302249,
          0.5406605173091196,
          -0.043871949613584586,
          0.23225582989391594,
          0.5512881180081992,
          0.7806380009604327,
          0.982759603169259,
          0.9983972748140119,
          0.4518230178164935,
          1.121117961930867,
          1.6335343360920722,
          0.9517973992183281,
          0.6815347368477046,
          0.8058611715786125,
          0.9968939272120225,
          0.5472955545997116,
          -0.4700437207882207,
          -0.18285458450100922,
          -0.36767864347344714,
          -0.5951930180304819,
          -0.39924071335180605,
          -0.1758227813120237,
          0.15650457629763376,
          0.44305678088012596,
          0.8756767627321369,
          0.7125623526045207,
          0.38748468993931307,
          0.41540854068528715,
          0.4060591369518913,
          0.38482385316288475,
          0.22447178978391455,
          0.13254484301904562,
          -0.04011040157428882,
          0.08538525702008788,
          0.05944911462589043,
          0.017052530990841367,
          -0.08836078004705578,
          -0.03289003367131361,
          0.40681209337628793,
          0.3393523982660067,
          0.3006356676888672,
          0.3921668737192665,
          0.2603517289089108,
          0.22526068026324578,
          0.38493116185255033,
          0.23188842032023047,
          0.08895105268559786,
          0.05061563352589968,
          0.15268869133026267,
          0.0501192164458,
          0.6097253452258065,
          0.5172239917579817,
          0.46903511649210344,
          0.3853291602864142,
          1.018468222764137,
          0.9037920119201558,
          0.5406022963062006,
          0.3006247932961049,
          0.2599566452619392,
          0.19230108050805816,
          0.08843556334517726,
          0.3237997072272385,
          0.8993562630263109,
          0.6433300163630635,
          0.6499006454633781,
          0.49635705965798116,
          0.5857720659433319,
          0.6596515289822099,
          0.5653354199620373,
          0.5183434363792061,
          0.4206567793879871,
          0.33832719594686855,
          0.3130823396464787,
          0.2577974069300585,
          0.9694565084726363,
          0.8168630842866698,
          0.6956443680023628,
          0.85476767754872,
          0.8031562310915595,
          0.6329801489238231,
          0.6880442599696218,
          0.4915342459063448,
          0.6261011505864402,
          0.45645368583552204,
          0.4885844415695408,
          0.4727261570872854,
          0.9510742009127765,
          0.9472397370359416,
          0.8934264538303004,
          0.8556518201098698,
          -5.707497980876534,
          -5.516090454564097,
          -5.645310052354568,
          -4.984015721214429,
          -0.0191749147194775,
          1.2539211620473325,
          1.2947543281027765,
          0.364816843169904,
          0.17322904460771363,
          -0.11852529285335156,
          -0.17733376618358077,
          -0.23570482527743417,
          0.2544550291761551,
          -0.12215343684495443,
          -0.22185758038276893,
          -0.17552323578363127,
          0.37058425827082087,
          0.1974155767391895,
          -0.03136196130445466,
          0.011167602159979561,
          0.16802026477906076,
          0.14556294069172765,
          0.16160750394509976,
          0.16585562463873807,
          0.6198949952504471,
          0.16123970763081866,
          -0.13939192325774644,
          0.0550695422012976,
          1.0627407304463694,
          0.6013902598033097,
          0.5961415356222023,
          0.4767343828939872,
          0.41035926365286235,
          0.1152920922776015,
          0.5646172595151357,
          0.22273151882193595,
          0.12845016060426281,
          0.5339389055380012,
          -0.06424588370637963,
          -0.14150348315253117,
          0.4545285179670337,
          0.3634723825003515,
          0.2410013307667077,
          -0.7929845651899964,
          -0.8405500794587045,
          -1.317398219958683,
          -0.9176557066233709,
          -1.0811128593958863,
          -1.1037454136472848,
          0.6941364658474661,
          -0.07235471471637939,
          -0.36900203013131544,
          -0.7692587027062592,
          -0.2788394916280194,
          -0.33239806498119234,
          -0.43833191214041745,
          -0.4814510296698558,
          0.09128079150144716,
          -0.22684443504627558,
          -0.5199822619399391,
          -0.06990694374953767,
          -0.36329428848888856,
          0.07805024932806873,
          0.799766414857036,
          0.5506175536280594,
          0.8415559819377062,
          0.9584088053525237,
          0.9553822696825205,
          -0.9580752249755463,
          -1.024915312103097,
          -1.260827024145737,
          -1.5204694966312238,
          -0.8119824495918854,
          -0.9456443228874155,
          -0.8235790196667025,
          -0.9596652534437196,
          -0.9928594859461676,
          -1.1459162770281413,
          -1.0210426142549016,
          -1.2279515228628683,
          -1.1228045995011877,
          -1.092382546572047,
          -1.329209792694729,
          -0.8763235660566842,
          -0.8442703346465775,
          -0.7861235016578311,
          -1.0231672160363086,
          -0.9979104265636738,
          -1.048897444584615,
          -1.2110570273775545,
          -1.02659624428286,
          -0.7486429882245281,
          -0.7294282558684324,
          -0.8259432889045175,
          -0.5985168618011977,
          -0.6375022572995578,
          -0.805053215205864,
          -1.0028237568566307,
          -0.9800254530048972,
          -0.6358669962979536,
          -0.6235270245109564,
          0.6192830567269475,
          0.07134100422491703,
          1.1749360867564758,
          0.5866152426941381,
          0.2773754683237656,
          0.7625976402500954,
          0.8466319144253698,
          -0.17361992845617663,
          -0.35653898503400483,
          -0.7406938276372789,
          -0.31092228824371093,
          0.28528171170191136,
          -4.818709837076513,
          -4.969863667600831,
          -4.373229938957733,
          -4.726542143681591,
          -4.575254160215348,
          -4.767535210792733,
          -4.639592948346222,
          -4.825796904480607,
          -4.731425156576758,
          -4.709763089988688,
          0.7410059521122797,
          1.3675729666100291,
          1.0165807510788445,
          0.8641379667484783,
          0.7596740690938528,
          0.672842059127566,
          0.4082256433159956,
          0.559925783894599,
          0.4706639471788763,
          0.8860351503845959,
          -0.29410185641847875,
          -0.5300209472541803,
          -0.2057762028349653,
          -0.5695269225569141,
          0.6347734494219115,
          0.8785654671580917,
          0.2558606516271424,
          -0.12562333564527203,
          -0.3472876730334006,
          -0.5675806371024821,
          0.2846324067156372,
          -0.1254318226976452,
          0.6031111742207799,
          0.6506888080369293,
          0.44983895985717204,
          0.3335126762557364,
          0.3662843612436217,
          0.4487140221209371,
          0.5448835407616435,
          0.15822826867232906,
          0.8397471250505445,
          0.9296122783757709,
          0.7781516921417834,
          0.5766576595109169,
          0.40933716313785695,
          0.4545173098200872,
          0.521924826485094,
          0.4373550853067517,
          0.9278907310711887,
          1.007245763731135,
          0.7602263549806355,
          0.907198755780689,
          0.6627857436796588,
          0.5924160436049566,
          0.899705490880945,
          0.433414354319439,
          0.5404179305408038,
          1.669535896725404,
          1.3793255859587572,
          1.1388413666609891,
          1.0016727667427379,
          0.955232679854069,
          0.9322592975803387,
          0.7888970307260461,
          1.051193577000278,
          0.7892704249840025,
          0.719658749889648,
          0.6029771549010281,
          0.4857002814380219,
          1.2106536486864463,
          1.0174336399307136,
          0.9413248219912256,
          0.8582142886781552,
          0.8510121646972062,
          0.6825893604077758,
          0.6770274569102478,
          0.9377731311522998,
          0.73723349246212,
          0.694517160367803,
          0.7310978901533782,
          0.5953854249571671,
          0.9449984236889163,
          1.317539877553331,
          1.0779413649349814,
          0.8207581129865023,
          1.0214517506805532,
          0.8285589508390747,
          0.8867599098235552,
          0.8611269507790436,
          0.9603892861708486,
          0.851562613973576,
          0.770179726286419,
          0.8184724466079597,
          1.4365546734840575,
          1.1451256291319711,
          1.3832116786704023,
          0.22089170746234246,
          0.5777993292493645,
          0.8291043586492608,
          1.135930624511901,
          -0.17848926327871523,
          0.07964532787294354,
          0.22482809723853786,
          -0.018219105411593158
         ]
        }
       ],
       "layout": {
        "coloraxis": {
         "colorbar": {
          "title": {
           "text": "Class"
          }
         },
         "colorscale": [
          [
           0,
           "#0d0887"
          ],
          [
           0.1111111111111111,
           "#46039f"
          ],
          [
           0.2222222222222222,
           "#7201a8"
          ],
          [
           0.3333333333333333,
           "#9c179e"
          ],
          [
           0.4444444444444444,
           "#bd3786"
          ],
          [
           0.5555555555555556,
           "#d8576b"
          ],
          [
           0.6666666666666666,
           "#ed7953"
          ],
          [
           0.7777777777777778,
           "#fb9f3a"
          ],
          [
           0.8888888888888888,
           "#fdca26"
          ],
          [
           1,
           "#f0f921"
          ]
         ]
        },
        "legend": {
         "title": {
          "text": "Class"
         },
         "tracegroupgap": 0,
         "x": 0,
         "y": 1
        },
        "margin": {
         "t": 60
        },
        "scene": {
         "domain": {
          "x": [
           0,
           1
          ],
          "y": [
           0,
           1
          ]
         },
         "xaxis": {
          "title": {
           "text": "PC 1"
          }
         },
         "yaxis": {
          "title": {
           "text": "PC 2"
          }
         },
         "zaxis": {
          "title": {
           "text": "PC 3"
          }
         }
        },
        "template": {
         "data": {
          "bar": [
           {
            "error_x": {
             "color": "#2a3f5f"
            },
            "error_y": {
             "color": "#2a3f5f"
            },
            "marker": {
             "line": {
              "color": "#E5ECF6",
              "width": 0.5
             }
            },
            "type": "bar"
           }
          ],
          "barpolar": [
           {
            "marker": {
             "line": {
              "color": "#E5ECF6",
              "width": 0.5
             }
            },
            "type": "barpolar"
           }
          ],
          "carpet": [
           {
            "aaxis": {
             "endlinecolor": "#2a3f5f",
             "gridcolor": "white",
             "linecolor": "white",
             "minorgridcolor": "white",
             "startlinecolor": "#2a3f5f"
            },
            "baxis": {
             "endlinecolor": "#2a3f5f",
             "gridcolor": "white",
             "linecolor": "white",
             "minorgridcolor": "white",
             "startlinecolor": "#2a3f5f"
            },
            "type": "carpet"
           }
          ],
          "choropleth": [
           {
            "colorbar": {
             "outlinewidth": 0,
             "ticks": ""
            },
            "type": "choropleth"
           }
          ],
          "contour": [
           {
            "colorbar": {
             "outlinewidth": 0,
             "ticks": ""
            },
            "colorscale": [
             [
              0,
              "#0d0887"
             ],
             [
              0.1111111111111111,
              "#46039f"
             ],
             [
              0.2222222222222222,
              "#7201a8"
             ],
             [
              0.3333333333333333,
              "#9c179e"
             ],
             [
              0.4444444444444444,
              "#bd3786"
             ],
             [
              0.5555555555555556,
              "#d8576b"
             ],
             [
              0.6666666666666666,
              "#ed7953"
             ],
             [
              0.7777777777777778,
              "#fb9f3a"
             ],
             [
              0.8888888888888888,
              "#fdca26"
             ],
             [
              1,
              "#f0f921"
             ]
            ],
            "type": "contour"
           }
          ],
          "contourcarpet": [
           {
            "colorbar": {
             "outlinewidth": 0,
             "ticks": ""
            },
            "type": "contourcarpet"
           }
          ],
          "heatmap": [
           {
            "colorbar": {
             "outlinewidth": 0,
             "ticks": ""
            },
            "colorscale": [
             [
              0,
              "#0d0887"
             ],
             [
              0.1111111111111111,
              "#46039f"
             ],
             [
              0.2222222222222222,
              "#7201a8"
             ],
             [
              0.3333333333333333,
              "#9c179e"
             ],
             [
              0.4444444444444444,
              "#bd3786"
             ],
             [
              0.5555555555555556,
              "#d8576b"
             ],
             [
              0.6666666666666666,
              "#ed7953"
             ],
             [
              0.7777777777777778,
              "#fb9f3a"
             ],
             [
              0.8888888888888888,
              "#fdca26"
             ],
             [
              1,
              "#f0f921"
             ]
            ],
            "type": "heatmap"
           }
          ],
          "heatmapgl": [
           {
            "colorbar": {
             "outlinewidth": 0,
             "ticks": ""
            },
            "colorscale": [
             [
              0,
              "#0d0887"
             ],
             [
              0.1111111111111111,
              "#46039f"
             ],
             [
              0.2222222222222222,
              "#7201a8"
             ],
             [
              0.3333333333333333,
              "#9c179e"
             ],
             [
              0.4444444444444444,
              "#bd3786"
             ],
             [
              0.5555555555555556,
              "#d8576b"
             ],
             [
              0.6666666666666666,
              "#ed7953"
             ],
             [
              0.7777777777777778,
              "#fb9f3a"
             ],
             [
              0.8888888888888888,
              "#fdca26"
             ],
             [
              1,
              "#f0f921"
             ]
            ],
            "type": "heatmapgl"
           }
          ],
          "histogram": [
           {
            "marker": {
             "colorbar": {
              "outlinewidth": 0,
              "ticks": ""
             }
            },
            "type": "histogram"
           }
          ],
          "histogram2d": [
           {
            "colorbar": {
             "outlinewidth": 0,
             "ticks": ""
            },
            "colorscale": [
             [
              0,
              "#0d0887"
             ],
             [
              0.1111111111111111,
              "#46039f"
             ],
             [
              0.2222222222222222,
              "#7201a8"
             ],
             [
              0.3333333333333333,
              "#9c179e"
             ],
             [
              0.4444444444444444,
              "#bd3786"
             ],
             [
              0.5555555555555556,
              "#d8576b"
             ],
             [
              0.6666666666666666,
              "#ed7953"
             ],
             [
              0.7777777777777778,
              "#fb9f3a"
             ],
             [
              0.8888888888888888,
              "#fdca26"
             ],
             [
              1,
              "#f0f921"
             ]
            ],
            "type": "histogram2d"
           }
          ],
          "histogram2dcontour": [
           {
            "colorbar": {
             "outlinewidth": 0,
             "ticks": ""
            },
            "colorscale": [
             [
              0,
              "#0d0887"
             ],
             [
              0.1111111111111111,
              "#46039f"
             ],
             [
              0.2222222222222222,
              "#7201a8"
             ],
             [
              0.3333333333333333,
              "#9c179e"
             ],
             [
              0.4444444444444444,
              "#bd3786"
             ],
             [
              0.5555555555555556,
              "#d8576b"
             ],
             [
              0.6666666666666666,
              "#ed7953"
             ],
             [
              0.7777777777777778,
              "#fb9f3a"
             ],
             [
              0.8888888888888888,
              "#fdca26"
             ],
             [
              1,
              "#f0f921"
             ]
            ],
            "type": "histogram2dcontour"
           }
          ],
          "mesh3d": [
           {
            "colorbar": {
             "outlinewidth": 0,
             "ticks": ""
            },
            "type": "mesh3d"
           }
          ],
          "parcoords": [
           {
            "line": {
             "colorbar": {
              "outlinewidth": 0,
              "ticks": ""
             }
            },
            "type": "parcoords"
           }
          ],
          "pie": [
           {
            "automargin": true,
            "type": "pie"
           }
          ],
          "scatter": [
           {
            "marker": {
             "colorbar": {
              "outlinewidth": 0,
              "ticks": ""
             }
            },
            "type": "scatter"
           }
          ],
          "scatter3d": [
           {
            "line": {
             "colorbar": {
              "outlinewidth": 0,
              "ticks": ""
             }
            },
            "marker": {
             "colorbar": {
              "outlinewidth": 0,
              "ticks": ""
             }
            },
            "type": "scatter3d"
           }
          ],
          "scattercarpet": [
           {
            "marker": {
             "colorbar": {
              "outlinewidth": 0,
              "ticks": ""
             }
            },
            "type": "scattercarpet"
           }
          ],
          "scattergeo": [
           {
            "marker": {
             "colorbar": {
              "outlinewidth": 0,
              "ticks": ""
             }
            },
            "type": "scattergeo"
           }
          ],
          "scattergl": [
           {
            "marker": {
             "colorbar": {
              "outlinewidth": 0,
              "ticks": ""
             }
            },
            "type": "scattergl"
           }
          ],
          "scattermapbox": [
           {
            "marker": {
             "colorbar": {
              "outlinewidth": 0,
              "ticks": ""
             }
            },
            "type": "scattermapbox"
           }
          ],
          "scatterpolar": [
           {
            "marker": {
             "colorbar": {
              "outlinewidth": 0,
              "ticks": ""
             }
            },
            "type": "scatterpolar"
           }
          ],
          "scatterpolargl": [
           {
            "marker": {
             "colorbar": {
              "outlinewidth": 0,
              "ticks": ""
             }
            },
            "type": "scatterpolargl"
           }
          ],
          "scatterternary": [
           {
            "marker": {
             "colorbar": {
              "outlinewidth": 0,
              "ticks": ""
             }
            },
            "type": "scatterternary"
           }
          ],
          "surface": [
           {
            "colorbar": {
             "outlinewidth": 0,
             "ticks": ""
            },
            "colorscale": [
             [
              0,
              "#0d0887"
             ],
             [
              0.1111111111111111,
              "#46039f"
             ],
             [
              0.2222222222222222,
              "#7201a8"
             ],
             [
              0.3333333333333333,
              "#9c179e"
             ],
             [
              0.4444444444444444,
              "#bd3786"
             ],
             [
              0.5555555555555556,
              "#d8576b"
             ],
             [
              0.6666666666666666,
              "#ed7953"
             ],
             [
              0.7777777777777778,
              "#fb9f3a"
             ],
             [
              0.8888888888888888,
              "#fdca26"
             ],
             [
              1,
              "#f0f921"
             ]
            ],
            "type": "surface"
           }
          ],
          "table": [
           {
            "cells": {
             "fill": {
              "color": "#EBF0F8"
             },
             "line": {
              "color": "white"
             }
            },
            "header": {
             "fill": {
              "color": "#C8D4E3"
             },
             "line": {
              "color": "white"
             }
            },
            "type": "table"
           }
          ]
         },
         "layout": {
          "annotationdefaults": {
           "arrowcolor": "#2a3f5f",
           "arrowhead": 0,
           "arrowwidth": 1
          },
          "autotypenumbers": "strict",
          "coloraxis": {
           "colorbar": {
            "outlinewidth": 0,
            "ticks": ""
           }
          },
          "colorscale": {
           "diverging": [
            [
             0,
             "#8e0152"
            ],
            [
             0.1,
             "#c51b7d"
            ],
            [
             0.2,
             "#de77ae"
            ],
            [
             0.3,
             "#f1b6da"
            ],
            [
             0.4,
             "#fde0ef"
            ],
            [
             0.5,
             "#f7f7f7"
            ],
            [
             0.6,
             "#e6f5d0"
            ],
            [
             0.7,
             "#b8e186"
            ],
            [
             0.8,
             "#7fbc41"
            ],
            [
             0.9,
             "#4d9221"
            ],
            [
             1,
             "#276419"
            ]
           ],
           "sequential": [
            [
             0,
             "#0d0887"
            ],
            [
             0.1111111111111111,
             "#46039f"
            ],
            [
             0.2222222222222222,
             "#7201a8"
            ],
            [
             0.3333333333333333,
             "#9c179e"
            ],
            [
             0.4444444444444444,
             "#bd3786"
            ],
            [
             0.5555555555555556,
             "#d8576b"
            ],
            [
             0.6666666666666666,
             "#ed7953"
            ],
            [
             0.7777777777777778,
             "#fb9f3a"
            ],
            [
             0.8888888888888888,
             "#fdca26"
            ],
            [
             1,
             "#f0f921"
            ]
           ],
           "sequentialminus": [
            [
             0,
             "#0d0887"
            ],
            [
             0.1111111111111111,
             "#46039f"
            ],
            [
             0.2222222222222222,
             "#7201a8"
            ],
            [
             0.3333333333333333,
             "#9c179e"
            ],
            [
             0.4444444444444444,
             "#bd3786"
            ],
            [
             0.5555555555555556,
             "#d8576b"
            ],
            [
             0.6666666666666666,
             "#ed7953"
            ],
            [
             0.7777777777777778,
             "#fb9f3a"
            ],
            [
             0.8888888888888888,
             "#fdca26"
            ],
            [
             1,
             "#f0f921"
            ]
           ]
          },
          "colorway": [
           "#636efa",
           "#EF553B",
           "#00cc96",
           "#ab63fa",
           "#FFA15A",
           "#19d3f3",
           "#FF6692",
           "#B6E880",
           "#FF97FF",
           "#FECB52"
          ],
          "font": {
           "color": "#2a3f5f"
          },
          "geo": {
           "bgcolor": "white",
           "lakecolor": "white",
           "landcolor": "#E5ECF6",
           "showlakes": true,
           "showland": true,
           "subunitcolor": "white"
          },
          "hoverlabel": {
           "align": "left"
          },
          "hovermode": "closest",
          "mapbox": {
           "style": "light"
          },
          "paper_bgcolor": "white",
          "plot_bgcolor": "#E5ECF6",
          "polar": {
           "angularaxis": {
            "gridcolor": "white",
            "linecolor": "white",
            "ticks": ""
           },
           "bgcolor": "#E5ECF6",
           "radialaxis": {
            "gridcolor": "white",
            "linecolor": "white",
            "ticks": ""
           }
          },
          "scene": {
           "xaxis": {
            "backgroundcolor": "#E5ECF6",
            "gridcolor": "white",
            "gridwidth": 2,
            "linecolor": "white",
            "showbackground": true,
            "ticks": "",
            "zerolinecolor": "white"
           },
           "yaxis": {
            "backgroundcolor": "#E5ECF6",
            "gridcolor": "white",
            "gridwidth": 2,
            "linecolor": "white",
            "showbackground": true,
            "ticks": "",
            "zerolinecolor": "white"
           },
           "zaxis": {
            "backgroundcolor": "#E5ECF6",
            "gridcolor": "white",
            "gridwidth": 2,
            "linecolor": "white",
            "showbackground": true,
            "ticks": "",
            "zerolinecolor": "white"
           }
          },
          "shapedefaults": {
           "line": {
            "color": "#2a3f5f"
           }
          },
          "ternary": {
           "aaxis": {
            "gridcolor": "white",
            "linecolor": "white",
            "ticks": ""
           },
           "baxis": {
            "gridcolor": "white",
            "linecolor": "white",
            "ticks": ""
           },
           "bgcolor": "#E5ECF6",
           "caxis": {
            "gridcolor": "white",
            "linecolor": "white",
            "ticks": ""
           }
          },
          "title": {
           "x": 0.05
          },
          "xaxis": {
           "automargin": true,
           "gridcolor": "white",
           "linecolor": "white",
           "ticks": "",
           "title": {
            "standoff": 15
           },
           "zerolinecolor": "white",
           "zerolinewidth": 2
          },
          "yaxis": {
           "automargin": true,
           "gridcolor": "white",
           "linecolor": "white",
           "ticks": "",
           "title": {
            "standoff": 15
           },
           "zerolinecolor": "white",
           "zerolinewidth": 2
          }
         }
        },
        "width": 800
       }
      }
     },
     "metadata": {},
     "output_type": "display_data"
    }
   ],
   "source": [
    "# Creating a 3D-Scatter with the PCA data and the clusters\n",
    "\n",
    "fig = px.scatter_3d(\n",
    "    clustered_df,\n",
    "    x=\"PC 1\",\n",
    "    y=\"PC 2\",\n",
    "    z=\"PC 3\",\n",
    "    color=\"Class\",\n",
    "    symbol=\"Class\",\n",
    "    width=800,\n",
    "    hover_name=\"GameName\",\n",
    "    hover_data=[\"GameName\",\"S_Hours\",\"tw_Avg_viewers\",\"st_price\"]\n",
    ")\n",
    "fig.update_layout(legend=dict(x=0,y=1))\n",
    "fig.show()"
   ]
  },
  {
   "cell_type": "code",
   "execution_count": 79,
   "metadata": {},
   "outputs": [],
   "source": [
    "fig.write_html(\"clusters.html\")"
   ]
  }
 ],
 "metadata": {
  "kernelspec": {
   "display_name": "Python 3.7.9 64-bit ('PythonData': conda)",
   "name": "python379jvsc74a57bd0b0fa347580f6b5744895e324c059a722d46aa951281bb8db79f6de8594b072e0"
  },
  "language_info": {
   "codemirror_mode": {
    "name": "ipython",
    "version": 3
   },
   "file_extension": ".py",
   "mimetype": "text/x-python",
   "name": "python",
   "nbconvert_exporter": "python",
   "pygments_lexer": "ipython3",
   "version": "3.7.9"
  }
 },
 "nbformat": 4,
 "nbformat_minor": 4
}