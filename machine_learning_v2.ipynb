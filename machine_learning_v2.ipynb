{
 "metadata": {
  "language_info": {
   "codemirror_mode": {
    "name": "ipython",
    "version": 3
   },
   "file_extension": ".py",
   "mimetype": "text/x-python",
   "name": "python",
   "nbconvert_exporter": "python",
   "pygments_lexer": "ipython3",
   "version": "3.6.8"
  },
  "orig_nbformat": 2,
  "kernelspec": {
   "name": "python368jvsc74a57bd0361fc911a978f5bb4a8b5da503390c92993de73f05684b43cbfb6730cbc1a2c5",
   "display_name": "Python 3.6.8 64-bit"
  },
  "metadata": {
   "interpreter": {
    "hash": "361fc911a978f5bb4a8b5da503390c92993de73f05684b43cbfb6730cbc1a2c5"
   }
  }
 },
 "nbformat": 4,
 "nbformat_minor": 2,
 "cells": [
  {
   "cell_type": "code",
   "execution_count": 1,
   "metadata": {},
   "outputs": [],
   "source": [
    "import pandas as pd\n",
    "import numpy as np"
   ]
  },
  {
   "cell_type": "code",
   "execution_count": 2,
   "metadata": {},
   "outputs": [],
   "source": [
    "df = pd.read_csv('for_ml_model.csv')"
   ]
  },
  {
   "cell_type": "code",
   "execution_count": 3,
   "metadata": {},
   "outputs": [
    {
     "output_type": "execute_result",
     "data": {
      "text/plain": [
       "        appid                                Game  review  voted_up  \\\n",
       "0          20               team fortress classic    28.0  0.785714   \n",
       "1          20               team fortress classic    28.0  0.678571   \n",
       "2          20               team fortress classic    19.0  0.789474   \n",
       "3          20               team fortress classic    18.0  0.611111   \n",
       "4          20               team fortress classic    26.0  0.846154   \n",
       "...       ...                                 ...     ...       ...   \n",
       "38015  313120                       stranded deep   295.0  0.756757   \n",
       "38016  313120                       stranded deep   187.0  0.802139   \n",
       "38017  738060  freddy fazbears pizzeria simulator     1.0  1.000000   \n",
       "38018  738060  freddy fazbears pizzeria simulator     1.0  1.000000   \n",
       "38019  738060  freddy fazbears pizzeria simulator     1.0  1.000000   \n",
       "\n",
       "      release_date  english        developer          publisher  achievements  \\\n",
       "0       1999-04-01        1            Valve              Valve             0   \n",
       "1       1999-04-01        1            Valve              Valve             0   \n",
       "2       1999-04-01        1            Valve              Valve             0   \n",
       "3       1999-04-01        1            Valve              Valve             0   \n",
       "4       1999-04-01        1            Valve              Valve             0   \n",
       "...            ...      ...              ...                ...           ...   \n",
       "38015   2015-01-23        1  Beam Team Games  Beam Team Pty Ltd             8   \n",
       "38016   2015-01-23        1  Beam Team Games  Beam Team Pty Ltd             8   \n",
       "38017   2017-12-04        1    Scott Cawthon      Scott Cawthon             0   \n",
       "38018   2017-12-04        1    Scott Cawthon      Scott Cawthon             0   \n",
       "38019   2017-12-04        1    Scott Cawthon      Scott Cawthon             0   \n",
       "\n",
       "       recommended  ...  tw_Unnamed: 0  tw_Rank  tw_Hours_watched  \\\n",
       "0                0  ...         384991     5556             11940   \n",
       "1                0  ...         277517     5741              8340   \n",
       "2                0  ...         671313     4907              8700   \n",
       "3                0  ...           2271     2972             12900   \n",
       "4                0  ...         758661     3796             13500   \n",
       "...            ...  ...            ...      ...               ...   \n",
       "38015            1  ...         468740      362          30863160   \n",
       "38016            1  ...         360056     2721           4200600   \n",
       "38017            1  ...         915026     1562            688020   \n",
       "38018            1  ...         253956     4080            255420   \n",
       "38019            1  ...         468036     2358            400020   \n",
       "\n",
       "       tw_Hours_Streamed  tw_Peak_viewers  tw_Peak_channels  tw_Streamers  \\\n",
       "0                   3960               11                 2             9   \n",
       "1                   4260               10                 2            17   \n",
       "2                   4260               17                 2            16   \n",
       "3                   6480               70                 2            13   \n",
       "4                   3420               36                 2             9   \n",
       "...                  ...              ...               ...           ...   \n",
       "38015            2123460            24871               142          6335   \n",
       "38016             943920              742                66          2729   \n",
       "38017              79560             1699                15           603   \n",
       "38018              69960              230                10           500   \n",
       "38019              90300              893                10           678   \n",
       "\n",
       "       tw_Avg_viewers  tw_Avg_channels  tw_Avg_viewer_ratio  \n",
       "0                   0                0                 3.02  \n",
       "1                   0                0                 1.96  \n",
       "2                   0                0                 2.04  \n",
       "3                   0                0                 1.99  \n",
       "4                   0                0                 3.95  \n",
       "...               ...              ...                  ...  \n",
       "38015             692               47                14.53  \n",
       "38016             104               23                 4.45  \n",
       "38017              15                1                 8.65  \n",
       "38018               5                1                 3.65  \n",
       "38019               8                2                 4.43  \n",
       "\n",
       "[38020 rows x 54 columns]"
      ],
      "text/html": "<div>\n<style scoped>\n    .dataframe tbody tr th:only-of-type {\n        vertical-align: middle;\n    }\n\n    .dataframe tbody tr th {\n        vertical-align: top;\n    }\n\n    .dataframe thead th {\n        text-align: right;\n    }\n</style>\n<table border=\"1\" class=\"dataframe\">\n  <thead>\n    <tr style=\"text-align: right;\">\n      <th></th>\n      <th>appid</th>\n      <th>Game</th>\n      <th>review</th>\n      <th>voted_up</th>\n      <th>release_date</th>\n      <th>english</th>\n      <th>developer</th>\n      <th>publisher</th>\n      <th>achievements</th>\n      <th>recommended</th>\n      <th>...</th>\n      <th>tw_Unnamed: 0</th>\n      <th>tw_Rank</th>\n      <th>tw_Hours_watched</th>\n      <th>tw_Hours_Streamed</th>\n      <th>tw_Peak_viewers</th>\n      <th>tw_Peak_channels</th>\n      <th>tw_Streamers</th>\n      <th>tw_Avg_viewers</th>\n      <th>tw_Avg_channels</th>\n      <th>tw_Avg_viewer_ratio</th>\n    </tr>\n  </thead>\n  <tbody>\n    <tr>\n      <th>0</th>\n      <td>20</td>\n      <td>team fortress classic</td>\n      <td>28.0</td>\n      <td>0.785714</td>\n      <td>1999-04-01</td>\n      <td>1</td>\n      <td>Valve</td>\n      <td>Valve</td>\n      <td>0</td>\n      <td>0</td>\n      <td>...</td>\n      <td>384991</td>\n      <td>5556</td>\n      <td>11940</td>\n      <td>3960</td>\n      <td>11</td>\n      <td>2</td>\n      <td>9</td>\n      <td>0</td>\n      <td>0</td>\n      <td>3.02</td>\n    </tr>\n    <tr>\n      <th>1</th>\n      <td>20</td>\n      <td>team fortress classic</td>\n      <td>28.0</td>\n      <td>0.678571</td>\n      <td>1999-04-01</td>\n      <td>1</td>\n      <td>Valve</td>\n      <td>Valve</td>\n      <td>0</td>\n      <td>0</td>\n      <td>...</td>\n      <td>277517</td>\n      <td>5741</td>\n      <td>8340</td>\n      <td>4260</td>\n      <td>10</td>\n      <td>2</td>\n      <td>17</td>\n      <td>0</td>\n      <td>0</td>\n      <td>1.96</td>\n    </tr>\n    <tr>\n      <th>2</th>\n      <td>20</td>\n      <td>team fortress classic</td>\n      <td>19.0</td>\n      <td>0.789474</td>\n      <td>1999-04-01</td>\n      <td>1</td>\n      <td>Valve</td>\n      <td>Valve</td>\n      <td>0</td>\n      <td>0</td>\n      <td>...</td>\n      <td>671313</td>\n      <td>4907</td>\n      <td>8700</td>\n      <td>4260</td>\n      <td>17</td>\n      <td>2</td>\n      <td>16</td>\n      <td>0</td>\n      <td>0</td>\n      <td>2.04</td>\n    </tr>\n    <tr>\n      <th>3</th>\n      <td>20</td>\n      <td>team fortress classic</td>\n      <td>18.0</td>\n      <td>0.611111</td>\n      <td>1999-04-01</td>\n      <td>1</td>\n      <td>Valve</td>\n      <td>Valve</td>\n      <td>0</td>\n      <td>0</td>\n      <td>...</td>\n      <td>2271</td>\n      <td>2972</td>\n      <td>12900</td>\n      <td>6480</td>\n      <td>70</td>\n      <td>2</td>\n      <td>13</td>\n      <td>0</td>\n      <td>0</td>\n      <td>1.99</td>\n    </tr>\n    <tr>\n      <th>4</th>\n      <td>20</td>\n      <td>team fortress classic</td>\n      <td>26.0</td>\n      <td>0.846154</td>\n      <td>1999-04-01</td>\n      <td>1</td>\n      <td>Valve</td>\n      <td>Valve</td>\n      <td>0</td>\n      <td>0</td>\n      <td>...</td>\n      <td>758661</td>\n      <td>3796</td>\n      <td>13500</td>\n      <td>3420</td>\n      <td>36</td>\n      <td>2</td>\n      <td>9</td>\n      <td>0</td>\n      <td>0</td>\n      <td>3.95</td>\n    </tr>\n    <tr>\n      <th>...</th>\n      <td>...</td>\n      <td>...</td>\n      <td>...</td>\n      <td>...</td>\n      <td>...</td>\n      <td>...</td>\n      <td>...</td>\n      <td>...</td>\n      <td>...</td>\n      <td>...</td>\n      <td>...</td>\n      <td>...</td>\n      <td>...</td>\n      <td>...</td>\n      <td>...</td>\n      <td>...</td>\n      <td>...</td>\n      <td>...</td>\n      <td>...</td>\n      <td>...</td>\n      <td>...</td>\n    </tr>\n    <tr>\n      <th>38015</th>\n      <td>313120</td>\n      <td>stranded deep</td>\n      <td>295.0</td>\n      <td>0.756757</td>\n      <td>2015-01-23</td>\n      <td>1</td>\n      <td>Beam Team Games</td>\n      <td>Beam Team Pty Ltd</td>\n      <td>8</td>\n      <td>1</td>\n      <td>...</td>\n      <td>468740</td>\n      <td>362</td>\n      <td>30863160</td>\n      <td>2123460</td>\n      <td>24871</td>\n      <td>142</td>\n      <td>6335</td>\n      <td>692</td>\n      <td>47</td>\n      <td>14.53</td>\n    </tr>\n    <tr>\n      <th>38016</th>\n      <td>313120</td>\n      <td>stranded deep</td>\n      <td>187.0</td>\n      <td>0.802139</td>\n      <td>2015-01-23</td>\n      <td>1</td>\n      <td>Beam Team Games</td>\n      <td>Beam Team Pty Ltd</td>\n      <td>8</td>\n      <td>1</td>\n      <td>...</td>\n      <td>360056</td>\n      <td>2721</td>\n      <td>4200600</td>\n      <td>943920</td>\n      <td>742</td>\n      <td>66</td>\n      <td>2729</td>\n      <td>104</td>\n      <td>23</td>\n      <td>4.45</td>\n    </tr>\n    <tr>\n      <th>38017</th>\n      <td>738060</td>\n      <td>freddy fazbears pizzeria simulator</td>\n      <td>1.0</td>\n      <td>1.000000</td>\n      <td>2017-12-04</td>\n      <td>1</td>\n      <td>Scott Cawthon</td>\n      <td>Scott Cawthon</td>\n      <td>0</td>\n      <td>1</td>\n      <td>...</td>\n      <td>915026</td>\n      <td>1562</td>\n      <td>688020</td>\n      <td>79560</td>\n      <td>1699</td>\n      <td>15</td>\n      <td>603</td>\n      <td>15</td>\n      <td>1</td>\n      <td>8.65</td>\n    </tr>\n    <tr>\n      <th>38018</th>\n      <td>738060</td>\n      <td>freddy fazbears pizzeria simulator</td>\n      <td>1.0</td>\n      <td>1.000000</td>\n      <td>2017-12-04</td>\n      <td>1</td>\n      <td>Scott Cawthon</td>\n      <td>Scott Cawthon</td>\n      <td>0</td>\n      <td>1</td>\n      <td>...</td>\n      <td>253956</td>\n      <td>4080</td>\n      <td>255420</td>\n      <td>69960</td>\n      <td>230</td>\n      <td>10</td>\n      <td>500</td>\n      <td>5</td>\n      <td>1</td>\n      <td>3.65</td>\n    </tr>\n    <tr>\n      <th>38019</th>\n      <td>738060</td>\n      <td>freddy fazbears pizzeria simulator</td>\n      <td>1.0</td>\n      <td>1.000000</td>\n      <td>2017-12-04</td>\n      <td>1</td>\n      <td>Scott Cawthon</td>\n      <td>Scott Cawthon</td>\n      <td>0</td>\n      <td>1</td>\n      <td>...</td>\n      <td>468036</td>\n      <td>2358</td>\n      <td>400020</td>\n      <td>90300</td>\n      <td>893</td>\n      <td>10</td>\n      <td>678</td>\n      <td>8</td>\n      <td>2</td>\n      <td>4.43</td>\n    </tr>\n  </tbody>\n</table>\n<p>38020 rows × 54 columns</p>\n</div>"
     },
     "metadata": {},
     "execution_count": 3
    }
   ],
   "source": [
    "df"
   ]
  },
  {
   "cell_type": "code",
   "execution_count": 4,
   "metadata": {},
   "outputs": [
    {
     "output_type": "execute_result",
     "data": {
      "text/plain": [
       "['appid',\n",
       " 'Game',\n",
       " 'review',\n",
       " 'voted_up',\n",
       " 'release_date',\n",
       " 'english',\n",
       " 'developer',\n",
       " 'publisher',\n",
       " 'achievements',\n",
       " 'recommended',\n",
       " '2d',\n",
       " 'action',\n",
       " 'adventure',\n",
       " 'atmospheric',\n",
       " 'casual',\n",
       " 'co_op',\n",
       " 'difficult',\n",
       " 'fps',\n",
       " 'first_person',\n",
       " 'funny',\n",
       " 'great_soundtrack',\n",
       " 'indie',\n",
       " 'multiplayer',\n",
       " 'open_world',\n",
       " 'rpg',\n",
       " 'sandbox',\n",
       " 'sci_fi',\n",
       " 'shooter',\n",
       " 'simulation',\n",
       " 'singleplayer',\n",
       " 'story_rich',\n",
       " 'strategy',\n",
       " 'survival',\n",
       " 'third_person',\n",
       " 'year',\n",
       " 'month',\n",
       " 'gamename',\n",
       " 'avg',\n",
       " 'gain',\n",
       " 'peak',\n",
       " 'avg_peak_perc',\n",
       " 'windows',\n",
       " 'mac',\n",
       " 'linux',\n",
       " 'tw_Unnamed: 0',\n",
       " 'tw_Rank',\n",
       " 'tw_Hours_watched',\n",
       " 'tw_Hours_Streamed',\n",
       " 'tw_Peak_viewers',\n",
       " 'tw_Peak_channels',\n",
       " 'tw_Streamers',\n",
       " 'tw_Avg_viewers',\n",
       " 'tw_Avg_channels',\n",
       " 'tw_Avg_viewer_ratio']"
      ]
     },
     "metadata": {},
     "execution_count": 4
    }
   ],
   "source": [
    "list(df.columns)"
   ]
  },
  {
   "cell_type": "code",
   "execution_count": 5,
   "metadata": {},
   "outputs": [],
   "source": [
    "df.drop(['tw_Unnamed: 0'], axis=1, inplace=True)"
   ]
  },
  {
   "cell_type": "code",
   "execution_count": 6,
   "metadata": {},
   "outputs": [],
   "source": [
    "df['viewer_ratio_lagged'] = df.groupby(['appid'])['tw_Avg_viewer_ratio'].shift(-1)"
   ]
  },
  {
   "cell_type": "code",
   "execution_count": 7,
   "metadata": {},
   "outputs": [],
   "source": [
    "df['viewer_ratio_level'] = df['viewer_ratio_lagged'].apply(lambda x : 1 if x>35 else 0)"
   ]
  },
  {
   "cell_type": "code",
   "execution_count": 8,
   "metadata": {},
   "outputs": [
    {
     "output_type": "execute_result",
     "data": {
      "text/plain": [
       "3.0"
      ]
     },
     "metadata": {},
     "execution_count": 8
    }
   ],
   "source": [
    "np.percentile(list(df.groupby('publisher')['appid'].nunique()), 90)"
   ]
  },
  {
   "cell_type": "code",
   "execution_count": 9,
   "metadata": {},
   "outputs": [],
   "source": [
    "df['big_publisher'] = df.groupby('publisher')['appid'].transform('nunique')"
   ]
  },
  {
   "cell_type": "code",
   "execution_count": 10,
   "metadata": {},
   "outputs": [],
   "source": [
    "df['big_publisher'] = df['big_publisher'].apply(lambda x : 1 if x >3 else 0)"
   ]
  },
  {
   "cell_type": "code",
   "execution_count": 11,
   "metadata": {},
   "outputs": [],
   "source": [
    "genre = [ '2d',\n",
    " 'action',\n",
    " 'adventure',\n",
    " 'atmospheric',\n",
    " 'casual',\n",
    " 'co_op',\n",
    " 'difficult',\n",
    " 'fps',\n",
    " 'first_person',\n",
    " 'funny',\n",
    " 'great_soundtrack',\n",
    " 'indie',\n",
    " 'multiplayer',\n",
    " 'open_world',\n",
    " 'rpg',\n",
    " 'sandbox',\n",
    " 'sci_fi',\n",
    " 'shooter',\n",
    " 'simulation',\n",
    " 'singleplayer',\n",
    " 'story_rich',\n",
    " 'strategy',\n",
    " 'survival',\n",
    " 'third_person']\n",
    "basics = ['review','voted_up','recommended','achievements','avg','gain','mac','linux','big_publisher','viewer_ratio_level']\n",
    "variables = genre + basics"
   ]
  },
  {
   "cell_type": "code",
   "execution_count": 12,
   "metadata": {},
   "outputs": [],
   "source": [
    "df_ml = df[variables].dropna()"
   ]
  },
  {
   "cell_type": "code",
   "execution_count": 13,
   "metadata": {},
   "outputs": [],
   "source": [
    "for i in genre:\n",
    "    df_ml[i] = df_ml[i].apply(lambda x : 1 if x>0 else 0)"
   ]
  },
  {
   "cell_type": "code",
   "execution_count": 14,
   "metadata": {},
   "outputs": [],
   "source": [
    "from sklearn.model_selection import train_test_split\n",
    "from sklearn.preprocessing import StandardScaler\n",
    "from sklearn.ensemble import RandomForestClassifier\n",
    "from sklearn.metrics import confusion_matrix, accuracy_score, classification_report\n",
    "from sklearn.preprocessing import OneHotEncoder\n",
    "import pandas as pd\n",
    "import tensorflow as tf\n"
   ]
  },
  {
   "cell_type": "code",
   "execution_count": 15,
   "metadata": {},
   "outputs": [
    {
     "output_type": "execute_result",
     "data": {
      "text/plain": [
       "       2d  action  adventure  atmospheric  casual  co_op  difficult  fps  \\\n",
       "0       0       1          1            0       0      1          0    1   \n",
       "1       0       1          1            0       0      1          0    1   \n",
       "2       0       1          1            0       0      1          0    1   \n",
       "3       0       1          1            0       0      1          0    1   \n",
       "4       0       1          1            0       0      1          0    1   \n",
       "...    ..     ...        ...          ...     ...    ...        ...  ...   \n",
       "38015   0       1          1            1       0      1          0    0   \n",
       "38016   0       1          1            1       0      1          0    0   \n",
       "38017   0       0          1            1       0      0          1    0   \n",
       "38018   0       0          1            1       0      0          1    0   \n",
       "38019   0       0          1            1       0      0          1    0   \n",
       "\n",
       "       first_person  funny  ...  review  voted_up  recommended  achievements  \\\n",
       "0                 1      1  ...    28.0  0.785714            0             0   \n",
       "1                 1      1  ...    28.0  0.678571            0             0   \n",
       "2                 1      1  ...    19.0  0.789474            0             0   \n",
       "3                 1      1  ...    18.0  0.611111            0             0   \n",
       "4                 1      1  ...    26.0  0.846154            0             0   \n",
       "...             ...    ...  ...     ...       ...          ...           ...   \n",
       "38015             1      0  ...   295.0  0.756757            1             8   \n",
       "38016             1      0  ...   187.0  0.802139            1             8   \n",
       "38017             1      1  ...     1.0  1.000000            1             0   \n",
       "38018             1      1  ...     1.0  1.000000            1             0   \n",
       "38019             1      1  ...     1.0  1.000000            1             0   \n",
       "\n",
       "          avg    gain  mac  linux  big_publisher  viewer_ratio_level  \n",
       "0       70.16   -2.03    1      1              1                   0  \n",
       "1       69.93   -0.23    1      1              1                   0  \n",
       "2       63.04   -6.89    1      1              1                   0  \n",
       "3       60.49   -2.55    1      1              1                   0  \n",
       "4       59.40   -1.09    1      1              1                   0  \n",
       "...       ...     ...  ...    ...            ...                 ...  \n",
       "38015  747.84  205.91    1      1              0                   0  \n",
       "38016  542.77 -205.06    1      1              0                   0  \n",
       "38017  114.97    9.19    0      0              1                   0  \n",
       "38018  108.30   -6.66    0      0              1                   0  \n",
       "38019  124.39   16.08    0      0              1                   0  \n",
       "\n",
       "[38020 rows x 34 columns]"
      ],
      "text/html": "<div>\n<style scoped>\n    .dataframe tbody tr th:only-of-type {\n        vertical-align: middle;\n    }\n\n    .dataframe tbody tr th {\n        vertical-align: top;\n    }\n\n    .dataframe thead th {\n        text-align: right;\n    }\n</style>\n<table border=\"1\" class=\"dataframe\">\n  <thead>\n    <tr style=\"text-align: right;\">\n      <th></th>\n      <th>2d</th>\n      <th>action</th>\n      <th>adventure</th>\n      <th>atmospheric</th>\n      <th>casual</th>\n      <th>co_op</th>\n      <th>difficult</th>\n      <th>fps</th>\n      <th>first_person</th>\n      <th>funny</th>\n      <th>...</th>\n      <th>review</th>\n      <th>voted_up</th>\n      <th>recommended</th>\n      <th>achievements</th>\n      <th>avg</th>\n      <th>gain</th>\n      <th>mac</th>\n      <th>linux</th>\n      <th>big_publisher</th>\n      <th>viewer_ratio_level</th>\n    </tr>\n  </thead>\n  <tbody>\n    <tr>\n      <th>0</th>\n      <td>0</td>\n      <td>1</td>\n      <td>1</td>\n      <td>0</td>\n      <td>0</td>\n      <td>1</td>\n      <td>0</td>\n      <td>1</td>\n      <td>1</td>\n      <td>1</td>\n      <td>...</td>\n      <td>28.0</td>\n      <td>0.785714</td>\n      <td>0</td>\n      <td>0</td>\n      <td>70.16</td>\n      <td>-2.03</td>\n      <td>1</td>\n      <td>1</td>\n      <td>1</td>\n      <td>0</td>\n    </tr>\n    <tr>\n      <th>1</th>\n      <td>0</td>\n      <td>1</td>\n      <td>1</td>\n      <td>0</td>\n      <td>0</td>\n      <td>1</td>\n      <td>0</td>\n      <td>1</td>\n      <td>1</td>\n      <td>1</td>\n      <td>...</td>\n      <td>28.0</td>\n      <td>0.678571</td>\n      <td>0</td>\n      <td>0</td>\n      <td>69.93</td>\n      <td>-0.23</td>\n      <td>1</td>\n      <td>1</td>\n      <td>1</td>\n      <td>0</td>\n    </tr>\n    <tr>\n      <th>2</th>\n      <td>0</td>\n      <td>1</td>\n      <td>1</td>\n      <td>0</td>\n      <td>0</td>\n      <td>1</td>\n      <td>0</td>\n      <td>1</td>\n      <td>1</td>\n      <td>1</td>\n      <td>...</td>\n      <td>19.0</td>\n      <td>0.789474</td>\n      <td>0</td>\n      <td>0</td>\n      <td>63.04</td>\n      <td>-6.89</td>\n      <td>1</td>\n      <td>1</td>\n      <td>1</td>\n      <td>0</td>\n    </tr>\n    <tr>\n      <th>3</th>\n      <td>0</td>\n      <td>1</td>\n      <td>1</td>\n      <td>0</td>\n      <td>0</td>\n      <td>1</td>\n      <td>0</td>\n      <td>1</td>\n      <td>1</td>\n      <td>1</td>\n      <td>...</td>\n      <td>18.0</td>\n      <td>0.611111</td>\n      <td>0</td>\n      <td>0</td>\n      <td>60.49</td>\n      <td>-2.55</td>\n      <td>1</td>\n      <td>1</td>\n      <td>1</td>\n      <td>0</td>\n    </tr>\n    <tr>\n      <th>4</th>\n      <td>0</td>\n      <td>1</td>\n      <td>1</td>\n      <td>0</td>\n      <td>0</td>\n      <td>1</td>\n      <td>0</td>\n      <td>1</td>\n      <td>1</td>\n      <td>1</td>\n      <td>...</td>\n      <td>26.0</td>\n      <td>0.846154</td>\n      <td>0</td>\n      <td>0</td>\n      <td>59.40</td>\n      <td>-1.09</td>\n      <td>1</td>\n      <td>1</td>\n      <td>1</td>\n      <td>0</td>\n    </tr>\n    <tr>\n      <th>...</th>\n      <td>...</td>\n      <td>...</td>\n      <td>...</td>\n      <td>...</td>\n      <td>...</td>\n      <td>...</td>\n      <td>...</td>\n      <td>...</td>\n      <td>...</td>\n      <td>...</td>\n      <td>...</td>\n      <td>...</td>\n      <td>...</td>\n      <td>...</td>\n      <td>...</td>\n      <td>...</td>\n      <td>...</td>\n      <td>...</td>\n      <td>...</td>\n      <td>...</td>\n      <td>...</td>\n    </tr>\n    <tr>\n      <th>38015</th>\n      <td>0</td>\n      <td>1</td>\n      <td>1</td>\n      <td>1</td>\n      <td>0</td>\n      <td>1</td>\n      <td>0</td>\n      <td>0</td>\n      <td>1</td>\n      <td>0</td>\n      <td>...</td>\n      <td>295.0</td>\n      <td>0.756757</td>\n      <td>1</td>\n      <td>8</td>\n      <td>747.84</td>\n      <td>205.91</td>\n      <td>1</td>\n      <td>1</td>\n      <td>0</td>\n      <td>0</td>\n    </tr>\n    <tr>\n      <th>38016</th>\n      <td>0</td>\n      <td>1</td>\n      <td>1</td>\n      <td>1</td>\n      <td>0</td>\n      <td>1</td>\n      <td>0</td>\n      <td>0</td>\n      <td>1</td>\n      <td>0</td>\n      <td>...</td>\n      <td>187.0</td>\n      <td>0.802139</td>\n      <td>1</td>\n      <td>8</td>\n      <td>542.77</td>\n      <td>-205.06</td>\n      <td>1</td>\n      <td>1</td>\n      <td>0</td>\n      <td>0</td>\n    </tr>\n    <tr>\n      <th>38017</th>\n      <td>0</td>\n      <td>0</td>\n      <td>1</td>\n      <td>1</td>\n      <td>0</td>\n      <td>0</td>\n      <td>1</td>\n      <td>0</td>\n      <td>1</td>\n      <td>1</td>\n      <td>...</td>\n      <td>1.0</td>\n      <td>1.000000</td>\n      <td>1</td>\n      <td>0</td>\n      <td>114.97</td>\n      <td>9.19</td>\n      <td>0</td>\n      <td>0</td>\n      <td>1</td>\n      <td>0</td>\n    </tr>\n    <tr>\n      <th>38018</th>\n      <td>0</td>\n      <td>0</td>\n      <td>1</td>\n      <td>1</td>\n      <td>0</td>\n      <td>0</td>\n      <td>1</td>\n      <td>0</td>\n      <td>1</td>\n      <td>1</td>\n      <td>...</td>\n      <td>1.0</td>\n      <td>1.000000</td>\n      <td>1</td>\n      <td>0</td>\n      <td>108.30</td>\n      <td>-6.66</td>\n      <td>0</td>\n      <td>0</td>\n      <td>1</td>\n      <td>0</td>\n    </tr>\n    <tr>\n      <th>38019</th>\n      <td>0</td>\n      <td>0</td>\n      <td>1</td>\n      <td>1</td>\n      <td>0</td>\n      <td>0</td>\n      <td>1</td>\n      <td>0</td>\n      <td>1</td>\n      <td>1</td>\n      <td>...</td>\n      <td>1.0</td>\n      <td>1.000000</td>\n      <td>1</td>\n      <td>0</td>\n      <td>124.39</td>\n      <td>16.08</td>\n      <td>0</td>\n      <td>0</td>\n      <td>1</td>\n      <td>0</td>\n    </tr>\n  </tbody>\n</table>\n<p>38020 rows × 34 columns</p>\n</div>"
     },
     "metadata": {},
     "execution_count": 15
    }
   ],
   "source": [
    "df_ml"
   ]
  },
  {
   "cell_type": "code",
   "execution_count": 16,
   "metadata": {},
   "outputs": [],
   "source": [
    "y=df_ml.viewer_ratio_level"
   ]
  },
  {
   "cell_type": "code",
   "execution_count": 17,
   "metadata": {},
   "outputs": [],
   "source": [
    "X=df_ml.drop(columns=['viewer_ratio_level'])"
   ]
  },
  {
   "cell_type": "code",
   "execution_count": 18,
   "metadata": {},
   "outputs": [],
   "source": [
    "X_train, X_test, y_train, y_test = train_test_split(X, y, random_state=42, stratify=y)"
   ]
  },
  {
   "cell_type": "code",
   "execution_count": 19,
   "metadata": {},
   "outputs": [],
   "source": [
    "scaler = StandardScaler()"
   ]
  },
  {
   "cell_type": "code",
   "execution_count": 20,
   "metadata": {},
   "outputs": [],
   "source": [
    "X_scaler = scaler.fit(X_train)"
   ]
  },
  {
   "cell_type": "code",
   "execution_count": 21,
   "metadata": {},
   "outputs": [],
   "source": [
    "X_train_scaled = X_scaler.transform(X_train)\n",
    "X_test_scaled = X_scaler.transform(X_test)"
   ]
  },
  {
   "cell_type": "code",
   "execution_count": 22,
   "metadata": {},
   "outputs": [
    {
     "output_type": "stream",
     "name": "stdout",
     "text": [
      " Random forest predictive accuracy: 0.906\n"
     ]
    }
   ],
   "source": [
    "rf_model = RandomForestClassifier(n_estimators=128, random_state=78)\n",
    "\n",
    "rf_model = rf_model.fit(X_train_scaled, y_train)\n",
    "\n",
    "y_pred = rf_model.predict(X_test_scaled)\n",
    "print(f\" Random forest predictive accuracy: {accuracy_score(y_test,y_pred):.3f}\")"
   ]
  },
  {
   "cell_type": "code",
   "execution_count": 23,
   "metadata": {},
   "outputs": [],
   "source": [
    "predictions = rf_model.predict(X_test_scaled)"
   ]
  },
  {
   "cell_type": "code",
   "execution_count": 24,
   "metadata": {},
   "outputs": [
    {
     "output_type": "execute_result",
     "data": {
      "text/plain": [
       "          Predicted 0  Predicted 1\n",
       "Actual 0         8381          165\n",
       "Actual 1          731          228"
      ],
      "text/html": "<div>\n<style scoped>\n    .dataframe tbody tr th:only-of-type {\n        vertical-align: middle;\n    }\n\n    .dataframe tbody tr th {\n        vertical-align: top;\n    }\n\n    .dataframe thead th {\n        text-align: right;\n    }\n</style>\n<table border=\"1\" class=\"dataframe\">\n  <thead>\n    <tr style=\"text-align: right;\">\n      <th></th>\n      <th>Predicted 0</th>\n      <th>Predicted 1</th>\n    </tr>\n  </thead>\n  <tbody>\n    <tr>\n      <th>Actual 0</th>\n      <td>8381</td>\n      <td>165</td>\n    </tr>\n    <tr>\n      <th>Actual 1</th>\n      <td>731</td>\n      <td>228</td>\n    </tr>\n  </tbody>\n</table>\n</div>"
     },
     "metadata": {},
     "execution_count": 24
    }
   ],
   "source": [
    "cm = confusion_matrix(y_test, predictions)\n",
    "cm_df = pd.DataFrame(\n",
    "    cm, index=[\"Actual 0\", \"Actual 1\"], columns=[\"Predicted 0\", \"Predicted 1\"])\n",
    "\n",
    "cm_df"
   ]
  },
  {
   "cell_type": "code",
   "execution_count": 25,
   "metadata": {},
   "outputs": [
    {
     "output_type": "stream",
     "name": "stdout",
     "text": [
      "Confusion Matrix\n"
     ]
    },
    {
     "output_type": "display_data",
     "data": {
      "text/plain": "          Predicted 0  Predicted 1\nActual 0         8381          165\nActual 1          731          228",
      "text/html": "<div>\n<style scoped>\n    .dataframe tbody tr th:only-of-type {\n        vertical-align: middle;\n    }\n\n    .dataframe tbody tr th {\n        vertical-align: top;\n    }\n\n    .dataframe thead th {\n        text-align: right;\n    }\n</style>\n<table border=\"1\" class=\"dataframe\">\n  <thead>\n    <tr style=\"text-align: right;\">\n      <th></th>\n      <th>Predicted 0</th>\n      <th>Predicted 1</th>\n    </tr>\n  </thead>\n  <tbody>\n    <tr>\n      <th>Actual 0</th>\n      <td>8381</td>\n      <td>165</td>\n    </tr>\n    <tr>\n      <th>Actual 1</th>\n      <td>731</td>\n      <td>228</td>\n    </tr>\n  </tbody>\n</table>\n</div>"
     },
     "metadata": {}
    },
    {
     "output_type": "stream",
     "name": "stdout",
     "text": [
      "Accuracy Score : 0.9057338243029984\nClassification Report\n              precision    recall  f1-score   support\n\n           0       0.92      0.98      0.95      8546\n           1       0.58      0.24      0.34       959\n\n    accuracy                           0.91      9505\n   macro avg       0.75      0.61      0.64      9505\nweighted avg       0.89      0.91      0.89      9505\n\n"
     ]
    }
   ],
   "source": [
    "acc_score = accuracy_score(y_test, predictions)\n",
    "print(\"Confusion Matrix\")\n",
    "display(cm_df)\n",
    "print(f\"Accuracy Score : {acc_score}\")\n",
    "print(\"Classification Report\")\n",
    "print(classification_report(y_test, predictions))"
   ]
  },
  {
   "cell_type": "code",
   "execution_count": 26,
   "metadata": {},
   "outputs": [
    {
     "output_type": "stream",
     "name": "stdout",
     "text": [
      "Elapsed time to compute the importances: 0.028 seconds\n"
     ]
    }
   ],
   "source": [
    "import time\n",
    "import numpy as np\n",
    "\n",
    "start_time = time.time()\n",
    "importances = rf_model.feature_importances_\n",
    "std = np.std([\n",
    "    tree.feature_importances_ for tree in rf_model.estimators_], axis=0)\n",
    "elapsed_time = time.time() - start_time\n",
    "\n",
    "print(f\"Elapsed time to compute the importances: \"\n",
    "      f\"{elapsed_time:.3f} seconds\")"
   ]
  },
  {
   "cell_type": "code",
   "execution_count": 27,
   "metadata": {},
   "outputs": [
    {
     "output_type": "display_data",
     "data": {
      "text/plain": "<Figure size 432x288 with 1 Axes>",
      "image/svg+xml": "<?xml version=\"1.0\" encoding=\"utf-8\" standalone=\"no\"?>\r\n<!DOCTYPE svg PUBLIC \"-//W3C//DTD SVG 1.1//EN\"\r\n  \"http://www.w3.org/Graphics/SVG/1.1/DTD/svg11.dtd\">\r\n<!-- Created with matplotlib (https://matplotlib.org/) -->\r\n<svg height=\"280.029063pt\" version=\"1.1\" viewBox=\"0 0 424.113352 280.029063\" width=\"424.113352pt\" xmlns=\"http://www.w3.org/2000/svg\" xmlns:xlink=\"http://www.w3.org/1999/xlink\">\r\n <metadata>\r\n  <rdf:RDF xmlns:cc=\"http://creativecommons.org/ns#\" xmlns:dc=\"http://purl.org/dc/elements/1.1/\" xmlns:rdf=\"http://www.w3.org/1999/02/22-rdf-syntax-ns#\">\r\n   <cc:Work>\r\n    <dc:type rdf:resource=\"http://purl.org/dc/dcmitype/StillImage\"/>\r\n    <dc:date>2021-05-29T13:20:44.927952</dc:date>\r\n    <dc:format>image/svg+xml</dc:format>\r\n    <dc:creator>\r\n     <cc:Agent>\r\n      <dc:title>Matplotlib v3.3.3, https://matplotlib.org/</dc:title>\r\n     </cc:Agent>\r\n    </dc:creator>\r\n   </cc:Work>\r\n  </rdf:RDF>\r\n </metadata>\r\n <defs>\r\n  <style type=\"text/css\">*{stroke-linecap:butt;stroke-linejoin:round;}</style>\r\n </defs>\r\n <g id=\"figure_1\">\r\n  <g id=\"patch_1\">\r\n   <path d=\"M 0 280.029063 \r\nL 424.113352 280.029063 \r\nL 424.113352 0 \r\nL 0 0 \r\nz\r\n\" style=\"fill:none;\"/>\r\n  </g>\r\n  <g id=\"axes_1\">\r\n   <g id=\"patch_2\">\r\n    <path d=\"M 50.14375 178.593125 \r\nL 416.913352 178.593125 \r\nL 416.913352 22.318125 \r\nL 50.14375 22.318125 \r\nz\r\n\" style=\"fill:#ffffff;\"/>\r\n   </g>\r\n   <g id=\"patch_3\">\r\n    <path clip-path=\"url(#pa0823abaff)\" d=\"M 52.922308 178.593125 \r\nL 58.479423 178.593125 \r\nL 58.479423 173.239099 \r\nL 52.922308 173.239099 \r\nz\r\n\" style=\"fill:#1f77b4;\"/>\r\n   </g>\r\n   <g id=\"patch_4\">\r\n    <path clip-path=\"url(#pa0823abaff)\" d=\"M 64.036538 178.593125 \r\nL 69.593653 178.593125 \r\nL 69.593653 172.309269 \r\nL 64.036538 172.309269 \r\nz\r\n\" style=\"fill:#1f77b4;\"/>\r\n   </g>\r\n   <g id=\"patch_5\">\r\n    <path clip-path=\"url(#pa0823abaff)\" d=\"M 75.150768 178.593125 \r\nL 80.707884 178.593125 \r\nL 80.707884 172.191065 \r\nL 75.150768 172.191065 \r\nz\r\n\" style=\"fill:#1f77b4;\"/>\r\n   </g>\r\n   <g id=\"patch_6\">\r\n    <path clip-path=\"url(#pa0823abaff)\" d=\"M 86.264999 178.593125 \r\nL 91.822114 178.593125 \r\nL 91.822114 172.882896 \r\nL 86.264999 172.882896 \r\nz\r\n\" style=\"fill:#1f77b4;\"/>\r\n   </g>\r\n   <g id=\"patch_7\">\r\n    <path clip-path=\"url(#pa0823abaff)\" d=\"M 97.379229 178.593125 \r\nL 102.936344 178.593125 \r\nL 102.936344 172.975745 \r\nL 97.379229 172.975745 \r\nz\r\n\" style=\"fill:#1f77b4;\"/>\r\n   </g>\r\n   <g id=\"patch_8\">\r\n    <path clip-path=\"url(#pa0823abaff)\" d=\"M 108.493459 178.593125 \r\nL 114.050575 178.593125 \r\nL 114.050575 173.824159 \r\nL 108.493459 173.824159 \r\nz\r\n\" style=\"fill:#1f77b4;\"/>\r\n   </g>\r\n   <g id=\"patch_9\">\r\n    <path clip-path=\"url(#pa0823abaff)\" d=\"M 119.60769 178.593125 \r\nL 125.164805 178.593125 \r\nL 125.164805 171.65169 \r\nL 119.60769 171.65169 \r\nz\r\n\" style=\"fill:#1f77b4;\"/>\r\n   </g>\r\n   <g id=\"patch_10\">\r\n    <path clip-path=\"url(#pa0823abaff)\" d=\"M 130.72192 178.593125 \r\nL 136.279035 178.593125 \r\nL 136.279035 175.73377 \r\nL 130.72192 175.73377 \r\nz\r\n\" style=\"fill:#1f77b4;\"/>\r\n   </g>\r\n   <g id=\"patch_11\">\r\n    <path clip-path=\"url(#pa0823abaff)\" d=\"M 141.836151 178.593125 \r\nL 147.393266 178.593125 \r\nL 147.393266 174.451448 \r\nL 141.836151 174.451448 \r\nz\r\n\" style=\"fill:#1f77b4;\"/>\r\n   </g>\r\n   <g id=\"patch_12\">\r\n    <path clip-path=\"url(#pa0823abaff)\" d=\"M 152.950381 178.593125 \r\nL 158.507496 178.593125 \r\nL 158.507496 171.259248 \r\nL 152.950381 171.259248 \r\nz\r\n\" style=\"fill:#1f77b4;\"/>\r\n   </g>\r\n   <g id=\"patch_13\">\r\n    <path clip-path=\"url(#pa0823abaff)\" d=\"M 164.064611 178.593125 \r\nL 169.621726 178.593125 \r\nL 169.621726 172.930423 \r\nL 164.064611 172.930423 \r\nz\r\n\" style=\"fill:#1f77b4;\"/>\r\n   </g>\r\n   <g id=\"patch_14\">\r\n    <path clip-path=\"url(#pa0823abaff)\" d=\"M 175.178842 178.593125 \r\nL 180.735957 178.593125 \r\nL 180.735957 174.102258 \r\nL 175.178842 174.102258 \r\nz\r\n\" style=\"fill:#1f77b4;\"/>\r\n   </g>\r\n   <g id=\"patch_15\">\r\n    <path clip-path=\"url(#pa0823abaff)\" d=\"M 186.293072 178.593125 \r\nL 191.850187 178.593125 \r\nL 191.850187 172.230582 \r\nL 186.293072 172.230582 \r\nz\r\n\" style=\"fill:#1f77b4;\"/>\r\n   </g>\r\n   <g id=\"patch_16\">\r\n    <path clip-path=\"url(#pa0823abaff)\" d=\"M 197.407302 178.593125 \r\nL 202.964418 178.593125 \r\nL 202.964418 174.057221 \r\nL 197.407302 174.057221 \r\nz\r\n\" style=\"fill:#1f77b4;\"/>\r\n   </g>\r\n   <g id=\"patch_17\">\r\n    <path clip-path=\"url(#pa0823abaff)\" d=\"M 208.521533 178.593125 \r\nL 214.078648 178.593125 \r\nL 214.078648 173.641523 \r\nL 208.521533 173.641523 \r\nz\r\n\" style=\"fill:#1f77b4;\"/>\r\n   </g>\r\n   <g id=\"patch_18\">\r\n    <path clip-path=\"url(#pa0823abaff)\" d=\"M 219.635763 178.593125 \r\nL 225.192878 178.593125 \r\nL 225.192878 173.890272 \r\nL 219.635763 173.890272 \r\nz\r\n\" style=\"fill:#1f77b4;\"/>\r\n   </g>\r\n   <g id=\"patch_19\">\r\n    <path clip-path=\"url(#pa0823abaff)\" d=\"M 230.749994 178.593125 \r\nL 236.307109 178.593125 \r\nL 236.307109 175.285653 \r\nL 230.749994 175.285653 \r\nz\r\n\" style=\"fill:#1f77b4;\"/>\r\n   </g>\r\n   <g id=\"patch_20\">\r\n    <path clip-path=\"url(#pa0823abaff)\" d=\"M 241.864224 178.593125 \r\nL 247.421339 178.593125 \r\nL 247.421339 175.189701 \r\nL 241.864224 175.189701 \r\nz\r\n\" style=\"fill:#1f77b4;\"/>\r\n   </g>\r\n   <g id=\"patch_21\">\r\n    <path clip-path=\"url(#pa0823abaff)\" d=\"M 252.978454 178.593125 \r\nL 258.535569 178.593125 \r\nL 258.535569 172.074746 \r\nL 252.978454 172.074746 \r\nz\r\n\" style=\"fill:#1f77b4;\"/>\r\n   </g>\r\n   <g id=\"patch_22\">\r\n    <path clip-path=\"url(#pa0823abaff)\" d=\"M 264.092685 178.593125 \r\nL 269.6498 178.593125 \r\nL 269.6498 175.463377 \r\nL 264.092685 175.463377 \r\nz\r\n\" style=\"fill:#1f77b4;\"/>\r\n   </g>\r\n   <g id=\"patch_23\">\r\n    <path clip-path=\"url(#pa0823abaff)\" d=\"M 275.206915 178.593125 \r\nL 280.76403 178.593125 \r\nL 280.76403 174.759868 \r\nL 275.206915 174.759868 \r\nz\r\n\" style=\"fill:#1f77b4;\"/>\r\n   </g>\r\n   <g id=\"patch_24\">\r\n    <path clip-path=\"url(#pa0823abaff)\" d=\"M 286.321145 178.593125 \r\nL 291.878261 178.593125 \r\nL 291.878261 171.776711 \r\nL 286.321145 171.776711 \r\nz\r\n\" style=\"fill:#1f77b4;\"/>\r\n   </g>\r\n   <g id=\"patch_25\">\r\n    <path clip-path=\"url(#pa0823abaff)\" d=\"M 297.435376 178.593125 \r\nL 302.992491 178.593125 \r\nL 302.992491 174.106883 \r\nL 297.435376 174.106883 \r\nz\r\n\" style=\"fill:#1f77b4;\"/>\r\n   </g>\r\n   <g id=\"patch_26\">\r\n    <path clip-path=\"url(#pa0823abaff)\" d=\"M 308.549606 178.593125 \r\nL 314.106721 178.593125 \r\nL 314.106721 175.338586 \r\nL 308.549606 175.338586 \r\nz\r\n\" style=\"fill:#1f77b4;\"/>\r\n   </g>\r\n   <g id=\"patch_27\">\r\n    <path clip-path=\"url(#pa0823abaff)\" d=\"M 319.663837 178.593125 \r\nL 325.220952 178.593125 \r\nL 325.220952 58.055111 \r\nL 319.663837 58.055111 \r\nz\r\n\" style=\"fill:#1f77b4;\"/>\r\n   </g>\r\n   <g id=\"patch_28\">\r\n    <path clip-path=\"url(#pa0823abaff)\" d=\"M 330.778067 178.593125 \r\nL 336.335182 178.593125 \r\nL 336.335182 66.298744 \r\nL 330.778067 66.298744 \r\nz\r\n\" style=\"fill:#1f77b4;\"/>\r\n   </g>\r\n   <g id=\"patch_29\">\r\n    <path clip-path=\"url(#pa0823abaff)\" d=\"M 341.892297 178.593125 \r\nL 347.449412 178.593125 \r\nL 347.449412 172.531793 \r\nL 341.892297 172.531793 \r\nz\r\n\" style=\"fill:#1f77b4;\"/>\r\n   </g>\r\n   <g id=\"patch_30\">\r\n    <path clip-path=\"url(#pa0823abaff)\" d=\"M 353.006528 178.593125 \r\nL 358.563643 178.593125 \r\nL 358.563643 151.599453 \r\nL 353.006528 151.599453 \r\nz\r\n\" style=\"fill:#1f77b4;\"/>\r\n   </g>\r\n   <g id=\"patch_31\">\r\n    <path clip-path=\"url(#pa0823abaff)\" d=\"M 364.120758 178.593125 \r\nL 369.677873 178.593125 \r\nL 369.677873 36.637586 \r\nL 364.120758 36.637586 \r\nz\r\n\" style=\"fill:#1f77b4;\"/>\r\n   </g>\r\n   <g id=\"patch_32\">\r\n    <path clip-path=\"url(#pa0823abaff)\" d=\"M 375.234988 178.593125 \r\nL 380.792104 178.593125 \r\nL 380.792104 48.088685 \r\nL 375.234988 48.088685 \r\nz\r\n\" style=\"fill:#1f77b4;\"/>\r\n   </g>\r\n   <g id=\"patch_33\">\r\n    <path clip-path=\"url(#pa0823abaff)\" d=\"M 386.349219 178.593125 \r\nL 391.906334 178.593125 \r\nL 391.906334 173.384324 \r\nL 386.349219 173.384324 \r\nz\r\n\" style=\"fill:#1f77b4;\"/>\r\n   </g>\r\n   <g id=\"patch_34\">\r\n    <path clip-path=\"url(#pa0823abaff)\" d=\"M 397.463449 178.593125 \r\nL 403.020564 178.593125 \r\nL 403.020564 173.054732 \r\nL 397.463449 173.054732 \r\nz\r\n\" style=\"fill:#1f77b4;\"/>\r\n   </g>\r\n   <g id=\"patch_35\">\r\n    <path clip-path=\"url(#pa0823abaff)\" d=\"M 408.577679 178.593125 \r\nL 414.134795 178.593125 \r\nL 414.134795 173.974994 \r\nL 408.577679 173.974994 \r\nz\r\n\" style=\"fill:#1f77b4;\"/>\r\n   </g>\r\n   <g id=\"matplotlib.axis_1\">\r\n    <g id=\"xtick_1\">\r\n     <g id=\"line2d_1\">\r\n      <defs>\r\n       <path d=\"M 0 0 \r\nL 0 3.5 \r\n\" id=\"m93f3668d28\" style=\"stroke:#000000;stroke-width:0.8;\"/>\r\n      </defs>\r\n      <g>\r\n       <use style=\"stroke:#000000;stroke-width:0.8;\" x=\"55.700865\" xlink:href=\"#m93f3668d28\" y=\"178.593125\"/>\r\n      </g>\r\n     </g>\r\n     <g id=\"text_1\">\r\n      <!-- 2d -->\r\n      <g transform=\"translate(58.46024 198.304063)rotate(-90)scale(0.1 -0.1)\">\r\n       <defs>\r\n        <path d=\"M 19.1875 8.296875 \r\nL 53.609375 8.296875 \r\nL 53.609375 0 \r\nL 7.328125 0 \r\nL 7.328125 8.296875 \r\nQ 12.9375 14.109375 22.625 23.890625 \r\nQ 32.328125 33.6875 34.8125 36.53125 \r\nQ 39.546875 41.84375 41.421875 45.53125 \r\nQ 43.3125 49.21875 43.3125 52.78125 \r\nQ 43.3125 58.59375 39.234375 62.25 \r\nQ 35.15625 65.921875 28.609375 65.921875 \r\nQ 23.96875 65.921875 18.8125 64.3125 \r\nQ 13.671875 62.703125 7.8125 59.421875 \r\nL 7.8125 69.390625 \r\nQ 13.765625 71.78125 18.9375 73 \r\nQ 24.125 74.21875 28.421875 74.21875 \r\nQ 39.75 74.21875 46.484375 68.546875 \r\nQ 53.21875 62.890625 53.21875 53.421875 \r\nQ 53.21875 48.921875 51.53125 44.890625 \r\nQ 49.859375 40.875 45.40625 35.40625 \r\nQ 44.1875 33.984375 37.640625 27.21875 \r\nQ 31.109375 20.453125 19.1875 8.296875 \r\nz\r\n\" id=\"DejaVuSans-50\"/>\r\n        <path d=\"M 45.40625 46.390625 \r\nL 45.40625 75.984375 \r\nL 54.390625 75.984375 \r\nL 54.390625 0 \r\nL 45.40625 0 \r\nL 45.40625 8.203125 \r\nQ 42.578125 3.328125 38.25 0.953125 \r\nQ 33.9375 -1.421875 27.875 -1.421875 \r\nQ 17.96875 -1.421875 11.734375 6.484375 \r\nQ 5.515625 14.40625 5.515625 27.296875 \r\nQ 5.515625 40.1875 11.734375 48.09375 \r\nQ 17.96875 56 27.875 56 \r\nQ 33.9375 56 38.25 53.625 \r\nQ 42.578125 51.265625 45.40625 46.390625 \r\nz\r\nM 14.796875 27.296875 \r\nQ 14.796875 17.390625 18.875 11.75 \r\nQ 22.953125 6.109375 30.078125 6.109375 \r\nQ 37.203125 6.109375 41.296875 11.75 \r\nQ 45.40625 17.390625 45.40625 27.296875 \r\nQ 45.40625 37.203125 41.296875 42.84375 \r\nQ 37.203125 48.484375 30.078125 48.484375 \r\nQ 22.953125 48.484375 18.875 42.84375 \r\nQ 14.796875 37.203125 14.796875 27.296875 \r\nz\r\n\" id=\"DejaVuSans-100\"/>\r\n       </defs>\r\n       <use xlink:href=\"#DejaVuSans-50\"/>\r\n       <use x=\"63.623047\" xlink:href=\"#DejaVuSans-100\"/>\r\n      </g>\r\n     </g>\r\n    </g>\r\n    <g id=\"xtick_2\">\r\n     <g id=\"line2d_2\">\r\n      <g>\r\n       <use style=\"stroke:#000000;stroke-width:0.8;\" x=\"66.815096\" xlink:href=\"#m93f3668d28\" y=\"178.593125\"/>\r\n      </g>\r\n     </g>\r\n     <g id=\"text_2\">\r\n      <!-- action -->\r\n      <g transform=\"translate(69.574471 216.374375)rotate(-90)scale(0.1 -0.1)\">\r\n       <defs>\r\n        <path d=\"M 34.28125 27.484375 \r\nQ 23.390625 27.484375 19.1875 25 \r\nQ 14.984375 22.515625 14.984375 16.5 \r\nQ 14.984375 11.71875 18.140625 8.90625 \r\nQ 21.296875 6.109375 26.703125 6.109375 \r\nQ 34.1875 6.109375 38.703125 11.40625 \r\nQ 43.21875 16.703125 43.21875 25.484375 \r\nL 43.21875 27.484375 \r\nz\r\nM 52.203125 31.203125 \r\nL 52.203125 0 \r\nL 43.21875 0 \r\nL 43.21875 8.296875 \r\nQ 40.140625 3.328125 35.546875 0.953125 \r\nQ 30.953125 -1.421875 24.3125 -1.421875 \r\nQ 15.921875 -1.421875 10.953125 3.296875 \r\nQ 6 8.015625 6 15.921875 \r\nQ 6 25.140625 12.171875 29.828125 \r\nQ 18.359375 34.515625 30.609375 34.515625 \r\nL 43.21875 34.515625 \r\nL 43.21875 35.40625 \r\nQ 43.21875 41.609375 39.140625 45 \r\nQ 35.0625 48.390625 27.6875 48.390625 \r\nQ 23 48.390625 18.546875 47.265625 \r\nQ 14.109375 46.140625 10.015625 43.890625 \r\nL 10.015625 52.203125 \r\nQ 14.9375 54.109375 19.578125 55.046875 \r\nQ 24.21875 56 28.609375 56 \r\nQ 40.484375 56 46.34375 49.84375 \r\nQ 52.203125 43.703125 52.203125 31.203125 \r\nz\r\n\" id=\"DejaVuSans-97\"/>\r\n        <path d=\"M 48.78125 52.59375 \r\nL 48.78125 44.1875 \r\nQ 44.96875 46.296875 41.140625 47.34375 \r\nQ 37.3125 48.390625 33.40625 48.390625 \r\nQ 24.65625 48.390625 19.8125 42.84375 \r\nQ 14.984375 37.3125 14.984375 27.296875 \r\nQ 14.984375 17.28125 19.8125 11.734375 \r\nQ 24.65625 6.203125 33.40625 6.203125 \r\nQ 37.3125 6.203125 41.140625 7.25 \r\nQ 44.96875 8.296875 48.78125 10.40625 \r\nL 48.78125 2.09375 \r\nQ 45.015625 0.34375 40.984375 -0.53125 \r\nQ 36.96875 -1.421875 32.421875 -1.421875 \r\nQ 20.0625 -1.421875 12.78125 6.34375 \r\nQ 5.515625 14.109375 5.515625 27.296875 \r\nQ 5.515625 40.671875 12.859375 48.328125 \r\nQ 20.21875 56 33.015625 56 \r\nQ 37.15625 56 41.109375 55.140625 \r\nQ 45.0625 54.296875 48.78125 52.59375 \r\nz\r\n\" id=\"DejaVuSans-99\"/>\r\n        <path d=\"M 18.3125 70.21875 \r\nL 18.3125 54.6875 \r\nL 36.8125 54.6875 \r\nL 36.8125 47.703125 \r\nL 18.3125 47.703125 \r\nL 18.3125 18.015625 \r\nQ 18.3125 11.328125 20.140625 9.421875 \r\nQ 21.96875 7.515625 27.59375 7.515625 \r\nL 36.8125 7.515625 \r\nL 36.8125 0 \r\nL 27.59375 0 \r\nQ 17.1875 0 13.234375 3.875 \r\nQ 9.28125 7.765625 9.28125 18.015625 \r\nL 9.28125 47.703125 \r\nL 2.6875 47.703125 \r\nL 2.6875 54.6875 \r\nL 9.28125 54.6875 \r\nL 9.28125 70.21875 \r\nz\r\n\" id=\"DejaVuSans-116\"/>\r\n        <path d=\"M 9.421875 54.6875 \r\nL 18.40625 54.6875 \r\nL 18.40625 0 \r\nL 9.421875 0 \r\nz\r\nM 9.421875 75.984375 \r\nL 18.40625 75.984375 \r\nL 18.40625 64.59375 \r\nL 9.421875 64.59375 \r\nz\r\n\" id=\"DejaVuSans-105\"/>\r\n        <path d=\"M 30.609375 48.390625 \r\nQ 23.390625 48.390625 19.1875 42.75 \r\nQ 14.984375 37.109375 14.984375 27.296875 \r\nQ 14.984375 17.484375 19.15625 11.84375 \r\nQ 23.34375 6.203125 30.609375 6.203125 \r\nQ 37.796875 6.203125 41.984375 11.859375 \r\nQ 46.1875 17.53125 46.1875 27.296875 \r\nQ 46.1875 37.015625 41.984375 42.703125 \r\nQ 37.796875 48.390625 30.609375 48.390625 \r\nz\r\nM 30.609375 56 \r\nQ 42.328125 56 49.015625 48.375 \r\nQ 55.71875 40.765625 55.71875 27.296875 \r\nQ 55.71875 13.875 49.015625 6.21875 \r\nQ 42.328125 -1.421875 30.609375 -1.421875 \r\nQ 18.84375 -1.421875 12.171875 6.21875 \r\nQ 5.515625 13.875 5.515625 27.296875 \r\nQ 5.515625 40.765625 12.171875 48.375 \r\nQ 18.84375 56 30.609375 56 \r\nz\r\n\" id=\"DejaVuSans-111\"/>\r\n        <path d=\"M 54.890625 33.015625 \r\nL 54.890625 0 \r\nL 45.90625 0 \r\nL 45.90625 32.71875 \r\nQ 45.90625 40.484375 42.875 44.328125 \r\nQ 39.84375 48.1875 33.796875 48.1875 \r\nQ 26.515625 48.1875 22.3125 43.546875 \r\nQ 18.109375 38.921875 18.109375 30.90625 \r\nL 18.109375 0 \r\nL 9.078125 0 \r\nL 9.078125 54.6875 \r\nL 18.109375 54.6875 \r\nL 18.109375 46.1875 \r\nQ 21.34375 51.125 25.703125 53.5625 \r\nQ 30.078125 56 35.796875 56 \r\nQ 45.21875 56 50.046875 50.171875 \r\nQ 54.890625 44.34375 54.890625 33.015625 \r\nz\r\n\" id=\"DejaVuSans-110\"/>\r\n       </defs>\r\n       <use xlink:href=\"#DejaVuSans-97\"/>\r\n       <use x=\"61.279297\" xlink:href=\"#DejaVuSans-99\"/>\r\n       <use x=\"116.259766\" xlink:href=\"#DejaVuSans-116\"/>\r\n       <use x=\"155.46875\" xlink:href=\"#DejaVuSans-105\"/>\r\n       <use x=\"183.251953\" xlink:href=\"#DejaVuSans-111\"/>\r\n       <use x=\"244.433594\" xlink:href=\"#DejaVuSans-110\"/>\r\n      </g>\r\n     </g>\r\n    </g>\r\n    <g id=\"xtick_3\">\r\n     <g id=\"line2d_3\">\r\n      <g>\r\n       <use style=\"stroke:#000000;stroke-width:0.8;\" x=\"77.929326\" xlink:href=\"#m93f3668d28\" y=\"178.593125\"/>\r\n      </g>\r\n     </g>\r\n     <g id=\"text_3\">\r\n      <!-- adventure -->\r\n      <g transform=\"translate(80.688701 236.775938)rotate(-90)scale(0.1 -0.1)\">\r\n       <defs>\r\n        <path d=\"M 2.984375 54.6875 \r\nL 12.5 54.6875 \r\nL 29.59375 8.796875 \r\nL 46.6875 54.6875 \r\nL 56.203125 54.6875 \r\nL 35.6875 0 \r\nL 23.484375 0 \r\nz\r\n\" id=\"DejaVuSans-118\"/>\r\n        <path d=\"M 56.203125 29.59375 \r\nL 56.203125 25.203125 \r\nL 14.890625 25.203125 \r\nQ 15.484375 15.921875 20.484375 11.0625 \r\nQ 25.484375 6.203125 34.421875 6.203125 \r\nQ 39.59375 6.203125 44.453125 7.46875 \r\nQ 49.3125 8.734375 54.109375 11.28125 \r\nL 54.109375 2.78125 \r\nQ 49.265625 0.734375 44.1875 -0.34375 \r\nQ 39.109375 -1.421875 33.890625 -1.421875 \r\nQ 20.796875 -1.421875 13.15625 6.1875 \r\nQ 5.515625 13.8125 5.515625 26.8125 \r\nQ 5.515625 40.234375 12.765625 48.109375 \r\nQ 20.015625 56 32.328125 56 \r\nQ 43.359375 56 49.78125 48.890625 \r\nQ 56.203125 41.796875 56.203125 29.59375 \r\nz\r\nM 47.21875 32.234375 \r\nQ 47.125 39.59375 43.09375 43.984375 \r\nQ 39.0625 48.390625 32.421875 48.390625 \r\nQ 24.90625 48.390625 20.390625 44.140625 \r\nQ 15.875 39.890625 15.1875 32.171875 \r\nz\r\n\" id=\"DejaVuSans-101\"/>\r\n        <path d=\"M 8.5 21.578125 \r\nL 8.5 54.6875 \r\nL 17.484375 54.6875 \r\nL 17.484375 21.921875 \r\nQ 17.484375 14.15625 20.5 10.265625 \r\nQ 23.53125 6.390625 29.59375 6.390625 \r\nQ 36.859375 6.390625 41.078125 11.03125 \r\nQ 45.3125 15.671875 45.3125 23.6875 \r\nL 45.3125 54.6875 \r\nL 54.296875 54.6875 \r\nL 54.296875 0 \r\nL 45.3125 0 \r\nL 45.3125 8.40625 \r\nQ 42.046875 3.421875 37.71875 1 \r\nQ 33.40625 -1.421875 27.6875 -1.421875 \r\nQ 18.265625 -1.421875 13.375 4.4375 \r\nQ 8.5 10.296875 8.5 21.578125 \r\nz\r\nM 31.109375 56 \r\nz\r\n\" id=\"DejaVuSans-117\"/>\r\n        <path d=\"M 41.109375 46.296875 \r\nQ 39.59375 47.171875 37.8125 47.578125 \r\nQ 36.03125 48 33.890625 48 \r\nQ 26.265625 48 22.1875 43.046875 \r\nQ 18.109375 38.09375 18.109375 28.8125 \r\nL 18.109375 0 \r\nL 9.078125 0 \r\nL 9.078125 54.6875 \r\nL 18.109375 54.6875 \r\nL 18.109375 46.1875 \r\nQ 20.953125 51.171875 25.484375 53.578125 \r\nQ 30.03125 56 36.53125 56 \r\nQ 37.453125 56 38.578125 55.875 \r\nQ 39.703125 55.765625 41.0625 55.515625 \r\nz\r\n\" id=\"DejaVuSans-114\"/>\r\n       </defs>\r\n       <use xlink:href=\"#DejaVuSans-97\"/>\r\n       <use x=\"61.279297\" xlink:href=\"#DejaVuSans-100\"/>\r\n       <use x=\"124.755859\" xlink:href=\"#DejaVuSans-118\"/>\r\n       <use x=\"183.935547\" xlink:href=\"#DejaVuSans-101\"/>\r\n       <use x=\"245.458984\" xlink:href=\"#DejaVuSans-110\"/>\r\n       <use x=\"308.837891\" xlink:href=\"#DejaVuSans-116\"/>\r\n       <use x=\"348.046875\" xlink:href=\"#DejaVuSans-117\"/>\r\n       <use x=\"411.425781\" xlink:href=\"#DejaVuSans-114\"/>\r\n       <use x=\"450.289062\" xlink:href=\"#DejaVuSans-101\"/>\r\n      </g>\r\n     </g>\r\n    </g>\r\n    <g id=\"xtick_4\">\r\n     <g id=\"line2d_4\">\r\n      <g>\r\n       <use style=\"stroke:#000000;stroke-width:0.8;\" x=\"89.043556\" xlink:href=\"#m93f3668d28\" y=\"178.593125\"/>\r\n      </g>\r\n     </g>\r\n     <g id=\"text_4\">\r\n      <!-- atmospheric -->\r\n      <g transform=\"translate(91.802931 247.936875)rotate(-90)scale(0.1 -0.1)\">\r\n       <defs>\r\n        <path d=\"M 52 44.1875 \r\nQ 55.375 50.25 60.0625 53.125 \r\nQ 64.75 56 71.09375 56 \r\nQ 79.640625 56 84.28125 50.015625 \r\nQ 88.921875 44.046875 88.921875 33.015625 \r\nL 88.921875 0 \r\nL 79.890625 0 \r\nL 79.890625 32.71875 \r\nQ 79.890625 40.578125 77.09375 44.375 \r\nQ 74.3125 48.1875 68.609375 48.1875 \r\nQ 61.625 48.1875 57.5625 43.546875 \r\nQ 53.515625 38.921875 53.515625 30.90625 \r\nL 53.515625 0 \r\nL 44.484375 0 \r\nL 44.484375 32.71875 \r\nQ 44.484375 40.625 41.703125 44.40625 \r\nQ 38.921875 48.1875 33.109375 48.1875 \r\nQ 26.21875 48.1875 22.15625 43.53125 \r\nQ 18.109375 38.875 18.109375 30.90625 \r\nL 18.109375 0 \r\nL 9.078125 0 \r\nL 9.078125 54.6875 \r\nL 18.109375 54.6875 \r\nL 18.109375 46.1875 \r\nQ 21.1875 51.21875 25.484375 53.609375 \r\nQ 29.78125 56 35.6875 56 \r\nQ 41.65625 56 45.828125 52.96875 \r\nQ 50 49.953125 52 44.1875 \r\nz\r\n\" id=\"DejaVuSans-109\"/>\r\n        <path d=\"M 44.28125 53.078125 \r\nL 44.28125 44.578125 \r\nQ 40.484375 46.53125 36.375 47.5 \r\nQ 32.28125 48.484375 27.875 48.484375 \r\nQ 21.1875 48.484375 17.84375 46.4375 \r\nQ 14.5 44.390625 14.5 40.28125 \r\nQ 14.5 37.15625 16.890625 35.375 \r\nQ 19.28125 33.59375 26.515625 31.984375 \r\nL 29.59375 31.296875 \r\nQ 39.15625 29.25 43.1875 25.515625 \r\nQ 47.21875 21.78125 47.21875 15.09375 \r\nQ 47.21875 7.46875 41.1875 3.015625 \r\nQ 35.15625 -1.421875 24.609375 -1.421875 \r\nQ 20.21875 -1.421875 15.453125 -0.5625 \r\nQ 10.6875 0.296875 5.421875 2 \r\nL 5.421875 11.28125 \r\nQ 10.40625 8.6875 15.234375 7.390625 \r\nQ 20.0625 6.109375 24.8125 6.109375 \r\nQ 31.15625 6.109375 34.5625 8.28125 \r\nQ 37.984375 10.453125 37.984375 14.40625 \r\nQ 37.984375 18.0625 35.515625 20.015625 \r\nQ 33.0625 21.96875 24.703125 23.78125 \r\nL 21.578125 24.515625 \r\nQ 13.234375 26.265625 9.515625 29.90625 \r\nQ 5.8125 33.546875 5.8125 39.890625 \r\nQ 5.8125 47.609375 11.28125 51.796875 \r\nQ 16.75 56 26.8125 56 \r\nQ 31.78125 56 36.171875 55.265625 \r\nQ 40.578125 54.546875 44.28125 53.078125 \r\nz\r\n\" id=\"DejaVuSans-115\"/>\r\n        <path d=\"M 18.109375 8.203125 \r\nL 18.109375 -20.796875 \r\nL 9.078125 -20.796875 \r\nL 9.078125 54.6875 \r\nL 18.109375 54.6875 \r\nL 18.109375 46.390625 \r\nQ 20.953125 51.265625 25.265625 53.625 \r\nQ 29.59375 56 35.59375 56 \r\nQ 45.5625 56 51.78125 48.09375 \r\nQ 58.015625 40.1875 58.015625 27.296875 \r\nQ 58.015625 14.40625 51.78125 6.484375 \r\nQ 45.5625 -1.421875 35.59375 -1.421875 \r\nQ 29.59375 -1.421875 25.265625 0.953125 \r\nQ 20.953125 3.328125 18.109375 8.203125 \r\nz\r\nM 48.6875 27.296875 \r\nQ 48.6875 37.203125 44.609375 42.84375 \r\nQ 40.53125 48.484375 33.40625 48.484375 \r\nQ 26.265625 48.484375 22.1875 42.84375 \r\nQ 18.109375 37.203125 18.109375 27.296875 \r\nQ 18.109375 17.390625 22.1875 11.75 \r\nQ 26.265625 6.109375 33.40625 6.109375 \r\nQ 40.53125 6.109375 44.609375 11.75 \r\nQ 48.6875 17.390625 48.6875 27.296875 \r\nz\r\n\" id=\"DejaVuSans-112\"/>\r\n        <path d=\"M 54.890625 33.015625 \r\nL 54.890625 0 \r\nL 45.90625 0 \r\nL 45.90625 32.71875 \r\nQ 45.90625 40.484375 42.875 44.328125 \r\nQ 39.84375 48.1875 33.796875 48.1875 \r\nQ 26.515625 48.1875 22.3125 43.546875 \r\nQ 18.109375 38.921875 18.109375 30.90625 \r\nL 18.109375 0 \r\nL 9.078125 0 \r\nL 9.078125 75.984375 \r\nL 18.109375 75.984375 \r\nL 18.109375 46.1875 \r\nQ 21.34375 51.125 25.703125 53.5625 \r\nQ 30.078125 56 35.796875 56 \r\nQ 45.21875 56 50.046875 50.171875 \r\nQ 54.890625 44.34375 54.890625 33.015625 \r\nz\r\n\" id=\"DejaVuSans-104\"/>\r\n       </defs>\r\n       <use xlink:href=\"#DejaVuSans-97\"/>\r\n       <use x=\"61.279297\" xlink:href=\"#DejaVuSans-116\"/>\r\n       <use x=\"100.488281\" xlink:href=\"#DejaVuSans-109\"/>\r\n       <use x=\"197.900391\" xlink:href=\"#DejaVuSans-111\"/>\r\n       <use x=\"259.082031\" xlink:href=\"#DejaVuSans-115\"/>\r\n       <use x=\"311.181641\" xlink:href=\"#DejaVuSans-112\"/>\r\n       <use x=\"374.658203\" xlink:href=\"#DejaVuSans-104\"/>\r\n       <use x=\"438.037109\" xlink:href=\"#DejaVuSans-101\"/>\r\n       <use x=\"499.560547\" xlink:href=\"#DejaVuSans-114\"/>\r\n       <use x=\"540.673828\" xlink:href=\"#DejaVuSans-105\"/>\r\n       <use x=\"568.457031\" xlink:href=\"#DejaVuSans-99\"/>\r\n      </g>\r\n     </g>\r\n    </g>\r\n    <g id=\"xtick_5\">\r\n     <g id=\"line2d_5\">\r\n      <g>\r\n       <use style=\"stroke:#000000;stroke-width:0.8;\" x=\"100.157787\" xlink:href=\"#m93f3668d28\" y=\"178.593125\"/>\r\n      </g>\r\n     </g>\r\n     <g id=\"text_5\">\r\n      <!-- casual -->\r\n      <g transform=\"translate(102.917162 217.672813)rotate(-90)scale(0.1 -0.1)\">\r\n       <defs>\r\n        <path d=\"M 9.421875 75.984375 \r\nL 18.40625 75.984375 \r\nL 18.40625 0 \r\nL 9.421875 0 \r\nz\r\n\" id=\"DejaVuSans-108\"/>\r\n       </defs>\r\n       <use xlink:href=\"#DejaVuSans-99\"/>\r\n       <use x=\"54.980469\" xlink:href=\"#DejaVuSans-97\"/>\r\n       <use x=\"116.259766\" xlink:href=\"#DejaVuSans-115\"/>\r\n       <use x=\"168.359375\" xlink:href=\"#DejaVuSans-117\"/>\r\n       <use x=\"231.738281\" xlink:href=\"#DejaVuSans-97\"/>\r\n       <use x=\"293.017578\" xlink:href=\"#DejaVuSans-108\"/>\r\n      </g>\r\n     </g>\r\n    </g>\r\n    <g id=\"xtick_6\">\r\n     <g id=\"line2d_6\">\r\n      <g>\r\n       <use style=\"stroke:#000000;stroke-width:0.8;\" x=\"111.272017\" xlink:href=\"#m93f3668d28\" y=\"178.593125\"/>\r\n      </g>\r\n     </g>\r\n     <g id=\"text_6\">\r\n      <!-- co_op -->\r\n      <g transform=\"translate(113.753267 214.6775)rotate(-90)scale(0.1 -0.1)\">\r\n       <defs>\r\n        <path d=\"M 50.984375 -16.609375 \r\nL 50.984375 -23.578125 \r\nL -0.984375 -23.578125 \r\nL -0.984375 -16.609375 \r\nz\r\n\" id=\"DejaVuSans-95\"/>\r\n       </defs>\r\n       <use xlink:href=\"#DejaVuSans-99\"/>\r\n       <use x=\"54.980469\" xlink:href=\"#DejaVuSans-111\"/>\r\n       <use x=\"116.162109\" xlink:href=\"#DejaVuSans-95\"/>\r\n       <use x=\"166.162109\" xlink:href=\"#DejaVuSans-111\"/>\r\n       <use x=\"227.34375\" xlink:href=\"#DejaVuSans-112\"/>\r\n      </g>\r\n     </g>\r\n    </g>\r\n    <g id=\"xtick_7\">\r\n     <g id=\"line2d_7\">\r\n      <g>\r\n       <use style=\"stroke:#000000;stroke-width:0.8;\" x=\"122.386247\" xlink:href=\"#m93f3668d28\" y=\"178.593125\"/>\r\n      </g>\r\n     </g>\r\n     <g id=\"text_7\">\r\n      <!-- difficult -->\r\n      <g transform=\"translate(125.145622 223.072813)rotate(-90)scale(0.1 -0.1)\">\r\n       <defs>\r\n        <path d=\"M 37.109375 75.984375 \r\nL 37.109375 68.5 \r\nL 28.515625 68.5 \r\nQ 23.6875 68.5 21.796875 66.546875 \r\nQ 19.921875 64.59375 19.921875 59.515625 \r\nL 19.921875 54.6875 \r\nL 34.71875 54.6875 \r\nL 34.71875 47.703125 \r\nL 19.921875 47.703125 \r\nL 19.921875 0 \r\nL 10.890625 0 \r\nL 10.890625 47.703125 \r\nL 2.296875 47.703125 \r\nL 2.296875 54.6875 \r\nL 10.890625 54.6875 \r\nL 10.890625 58.5 \r\nQ 10.890625 67.625 15.140625 71.796875 \r\nQ 19.390625 75.984375 28.609375 75.984375 \r\nz\r\n\" id=\"DejaVuSans-102\"/>\r\n       </defs>\r\n       <use xlink:href=\"#DejaVuSans-100\"/>\r\n       <use x=\"63.476562\" xlink:href=\"#DejaVuSans-105\"/>\r\n       <use x=\"91.259766\" xlink:href=\"#DejaVuSans-102\"/>\r\n       <use x=\"126.464844\" xlink:href=\"#DejaVuSans-102\"/>\r\n       <use x=\"161.669922\" xlink:href=\"#DejaVuSans-105\"/>\r\n       <use x=\"189.453125\" xlink:href=\"#DejaVuSans-99\"/>\r\n       <use x=\"244.433594\" xlink:href=\"#DejaVuSans-117\"/>\r\n       <use x=\"307.8125\" xlink:href=\"#DejaVuSans-108\"/>\r\n       <use x=\"335.595703\" xlink:href=\"#DejaVuSans-116\"/>\r\n      </g>\r\n     </g>\r\n    </g>\r\n    <g id=\"xtick_8\">\r\n     <g id=\"line2d_8\">\r\n      <g>\r\n       <use style=\"stroke:#000000;stroke-width:0.8;\" x=\"133.500478\" xlink:href=\"#m93f3668d28\" y=\"178.593125\"/>\r\n      </g>\r\n     </g>\r\n     <g id=\"text_8\">\r\n      <!-- fps -->\r\n      <g transform=\"translate(136.259853 200.67125)rotate(-90)scale(0.1 -0.1)\">\r\n       <use xlink:href=\"#DejaVuSans-102\"/>\r\n       <use x=\"35.205078\" xlink:href=\"#DejaVuSans-112\"/>\r\n       <use x=\"98.681641\" xlink:href=\"#DejaVuSans-115\"/>\r\n      </g>\r\n     </g>\r\n    </g>\r\n    <g id=\"xtick_9\">\r\n     <g id=\"line2d_9\">\r\n      <g>\r\n       <use style=\"stroke:#000000;stroke-width:0.8;\" x=\"144.614708\" xlink:href=\"#m93f3668d28\" y=\"178.593125\"/>\r\n      </g>\r\n     </g>\r\n     <g id=\"text_9\">\r\n      <!-- first_person -->\r\n      <g transform=\"translate(147.235021 244.410313)rotate(-90)scale(0.1 -0.1)\">\r\n       <use xlink:href=\"#DejaVuSans-102\"/>\r\n       <use x=\"35.205078\" xlink:href=\"#DejaVuSans-105\"/>\r\n       <use x=\"62.988281\" xlink:href=\"#DejaVuSans-114\"/>\r\n       <use x=\"104.101562\" xlink:href=\"#DejaVuSans-115\"/>\r\n       <use x=\"156.201172\" xlink:href=\"#DejaVuSans-116\"/>\r\n       <use x=\"195.410156\" xlink:href=\"#DejaVuSans-95\"/>\r\n       <use x=\"245.410156\" xlink:href=\"#DejaVuSans-112\"/>\r\n       <use x=\"308.886719\" xlink:href=\"#DejaVuSans-101\"/>\r\n       <use x=\"370.410156\" xlink:href=\"#DejaVuSans-114\"/>\r\n       <use x=\"411.523438\" xlink:href=\"#DejaVuSans-115\"/>\r\n       <use x=\"463.623047\" xlink:href=\"#DejaVuSans-111\"/>\r\n       <use x=\"524.804688\" xlink:href=\"#DejaVuSans-110\"/>\r\n      </g>\r\n     </g>\r\n    </g>\r\n    <g id=\"xtick_10\">\r\n     <g id=\"line2d_10\">\r\n      <g>\r\n       <use style=\"stroke:#000000;stroke-width:0.8;\" x=\"155.728939\" xlink:href=\"#m93f3668d28\" y=\"178.593125\"/>\r\n      </g>\r\n     </g>\r\n     <g id=\"text_10\">\r\n      <!-- funny -->\r\n      <g transform=\"translate(158.488314 214.044688)rotate(-90)scale(0.1 -0.1)\">\r\n       <defs>\r\n        <path d=\"M 32.171875 -5.078125 \r\nQ 28.375 -14.84375 24.75 -17.8125 \r\nQ 21.140625 -20.796875 15.09375 -20.796875 \r\nL 7.90625 -20.796875 \r\nL 7.90625 -13.28125 \r\nL 13.1875 -13.28125 \r\nQ 16.890625 -13.28125 18.9375 -11.515625 \r\nQ 21 -9.765625 23.484375 -3.21875 \r\nL 25.09375 0.875 \r\nL 2.984375 54.6875 \r\nL 12.5 54.6875 \r\nL 29.59375 11.921875 \r\nL 46.6875 54.6875 \r\nL 56.203125 54.6875 \r\nz\r\n\" id=\"DejaVuSans-121\"/>\r\n       </defs>\r\n       <use xlink:href=\"#DejaVuSans-102\"/>\r\n       <use x=\"35.205078\" xlink:href=\"#DejaVuSans-117\"/>\r\n       <use x=\"98.583984\" xlink:href=\"#DejaVuSans-110\"/>\r\n       <use x=\"161.962891\" xlink:href=\"#DejaVuSans-110\"/>\r\n       <use x=\"225.341797\" xlink:href=\"#DejaVuSans-121\"/>\r\n      </g>\r\n     </g>\r\n    </g>\r\n    <g id=\"xtick_11\">\r\n     <g id=\"line2d_11\">\r\n      <g>\r\n       <use style=\"stroke:#000000;stroke-width:0.8;\" x=\"166.843169\" xlink:href=\"#m93f3668d28\" y=\"178.593125\"/>\r\n      </g>\r\n     </g>\r\n     <g id=\"text_11\">\r\n      <!-- great_soundtrack -->\r\n      <g transform=\"translate(169.463481 272.829063)rotate(-90)scale(0.1 -0.1)\">\r\n       <defs>\r\n        <path d=\"M 45.40625 27.984375 \r\nQ 45.40625 37.75 41.375 43.109375 \r\nQ 37.359375 48.484375 30.078125 48.484375 \r\nQ 22.859375 48.484375 18.828125 43.109375 \r\nQ 14.796875 37.75 14.796875 27.984375 \r\nQ 14.796875 18.265625 18.828125 12.890625 \r\nQ 22.859375 7.515625 30.078125 7.515625 \r\nQ 37.359375 7.515625 41.375 12.890625 \r\nQ 45.40625 18.265625 45.40625 27.984375 \r\nz\r\nM 54.390625 6.78125 \r\nQ 54.390625 -7.171875 48.1875 -13.984375 \r\nQ 42 -20.796875 29.203125 -20.796875 \r\nQ 24.46875 -20.796875 20.265625 -20.09375 \r\nQ 16.0625 -19.390625 12.109375 -17.921875 \r\nL 12.109375 -9.1875 \r\nQ 16.0625 -11.328125 19.921875 -12.34375 \r\nQ 23.78125 -13.375 27.78125 -13.375 \r\nQ 36.625 -13.375 41.015625 -8.765625 \r\nQ 45.40625 -4.15625 45.40625 5.171875 \r\nL 45.40625 9.625 \r\nQ 42.625 4.78125 38.28125 2.390625 \r\nQ 33.9375 0 27.875 0 \r\nQ 17.828125 0 11.671875 7.65625 \r\nQ 5.515625 15.328125 5.515625 27.984375 \r\nQ 5.515625 40.671875 11.671875 48.328125 \r\nQ 17.828125 56 27.875 56 \r\nQ 33.9375 56 38.28125 53.609375 \r\nQ 42.625 51.21875 45.40625 46.390625 \r\nL 45.40625 54.6875 \r\nL 54.390625 54.6875 \r\nz\r\n\" id=\"DejaVuSans-103\"/>\r\n        <path d=\"M 9.078125 75.984375 \r\nL 18.109375 75.984375 \r\nL 18.109375 31.109375 \r\nL 44.921875 54.6875 \r\nL 56.390625 54.6875 \r\nL 27.390625 29.109375 \r\nL 57.625 0 \r\nL 45.90625 0 \r\nL 18.109375 26.703125 \r\nL 18.109375 0 \r\nL 9.078125 0 \r\nz\r\n\" id=\"DejaVuSans-107\"/>\r\n       </defs>\r\n       <use xlink:href=\"#DejaVuSans-103\"/>\r\n       <use x=\"63.476562\" xlink:href=\"#DejaVuSans-114\"/>\r\n       <use x=\"102.339844\" xlink:href=\"#DejaVuSans-101\"/>\r\n       <use x=\"163.863281\" xlink:href=\"#DejaVuSans-97\"/>\r\n       <use x=\"225.142578\" xlink:href=\"#DejaVuSans-116\"/>\r\n       <use x=\"264.351562\" xlink:href=\"#DejaVuSans-95\"/>\r\n       <use x=\"314.351562\" xlink:href=\"#DejaVuSans-115\"/>\r\n       <use x=\"366.451172\" xlink:href=\"#DejaVuSans-111\"/>\r\n       <use x=\"427.632812\" xlink:href=\"#DejaVuSans-117\"/>\r\n       <use x=\"491.011719\" xlink:href=\"#DejaVuSans-110\"/>\r\n       <use x=\"554.390625\" xlink:href=\"#DejaVuSans-100\"/>\r\n       <use x=\"617.867188\" xlink:href=\"#DejaVuSans-116\"/>\r\n       <use x=\"657.076172\" xlink:href=\"#DejaVuSans-114\"/>\r\n       <use x=\"698.189453\" xlink:href=\"#DejaVuSans-97\"/>\r\n       <use x=\"759.46875\" xlink:href=\"#DejaVuSans-99\"/>\r\n       <use x=\"814.449219\" xlink:href=\"#DejaVuSans-107\"/>\r\n      </g>\r\n     </g>\r\n    </g>\r\n    <g id=\"xtick_12\">\r\n     <g id=\"line2d_12\">\r\n      <g>\r\n       <use style=\"stroke:#000000;stroke-width:0.8;\" x=\"177.957399\" xlink:href=\"#m93f3668d28\" y=\"178.593125\"/>\r\n      </g>\r\n     </g>\r\n     <g id=\"text_12\">\r\n      <!-- indie -->\r\n      <g transform=\"translate(180.716774 209.988438)rotate(-90)scale(0.1 -0.1)\">\r\n       <use xlink:href=\"#DejaVuSans-105\"/>\r\n       <use x=\"27.783203\" xlink:href=\"#DejaVuSans-110\"/>\r\n       <use x=\"91.162109\" xlink:href=\"#DejaVuSans-100\"/>\r\n       <use x=\"154.638672\" xlink:href=\"#DejaVuSans-105\"/>\r\n       <use x=\"182.421875\" xlink:href=\"#DejaVuSans-101\"/>\r\n      </g>\r\n     </g>\r\n    </g>\r\n    <g id=\"xtick_13\">\r\n     <g id=\"line2d_13\">\r\n      <g>\r\n       <use style=\"stroke:#000000;stroke-width:0.8;\" x=\"189.07163\" xlink:href=\"#m93f3668d28\" y=\"178.593125\"/>\r\n      </g>\r\n     </g>\r\n     <g id=\"text_13\">\r\n      <!-- multiplayer -->\r\n      <g transform=\"translate(191.831005 242.585313)rotate(-90)scale(0.1 -0.1)\">\r\n       <use xlink:href=\"#DejaVuSans-109\"/>\r\n       <use x=\"97.412109\" xlink:href=\"#DejaVuSans-117\"/>\r\n       <use x=\"160.791016\" xlink:href=\"#DejaVuSans-108\"/>\r\n       <use x=\"188.574219\" xlink:href=\"#DejaVuSans-116\"/>\r\n       <use x=\"227.783203\" xlink:href=\"#DejaVuSans-105\"/>\r\n       <use x=\"255.566406\" xlink:href=\"#DejaVuSans-112\"/>\r\n       <use x=\"319.042969\" xlink:href=\"#DejaVuSans-108\"/>\r\n       <use x=\"346.826172\" xlink:href=\"#DejaVuSans-97\"/>\r\n       <use x=\"408.105469\" xlink:href=\"#DejaVuSans-121\"/>\r\n       <use x=\"467.285156\" xlink:href=\"#DejaVuSans-101\"/>\r\n       <use x=\"528.808594\" xlink:href=\"#DejaVuSans-114\"/>\r\n      </g>\r\n     </g>\r\n    </g>\r\n    <g id=\"xtick_14\">\r\n     <g id=\"line2d_14\">\r\n      <g>\r\n       <use style=\"stroke:#000000;stroke-width:0.8;\" x=\"200.18586\" xlink:href=\"#m93f3668d28\" y=\"178.593125\"/>\r\n      </g>\r\n     </g>\r\n     <g id=\"text_14\">\r\n      <!-- open_world -->\r\n      <g transform=\"translate(202.806173 243.085313)rotate(-90)scale(0.1 -0.1)\">\r\n       <defs>\r\n        <path d=\"M 4.203125 54.6875 \r\nL 13.1875 54.6875 \r\nL 24.421875 12.015625 \r\nL 35.59375 54.6875 \r\nL 46.1875 54.6875 \r\nL 57.421875 12.015625 \r\nL 68.609375 54.6875 \r\nL 77.59375 54.6875 \r\nL 63.28125 0 \r\nL 52.6875 0 \r\nL 40.921875 44.828125 \r\nL 29.109375 0 \r\nL 18.5 0 \r\nz\r\n\" id=\"DejaVuSans-119\"/>\r\n       </defs>\r\n       <use xlink:href=\"#DejaVuSans-111\"/>\r\n       <use x=\"61.181641\" xlink:href=\"#DejaVuSans-112\"/>\r\n       <use x=\"124.658203\" xlink:href=\"#DejaVuSans-101\"/>\r\n       <use x=\"186.181641\" xlink:href=\"#DejaVuSans-110\"/>\r\n       <use x=\"249.560547\" xlink:href=\"#DejaVuSans-95\"/>\r\n       <use x=\"299.560547\" xlink:href=\"#DejaVuSans-119\"/>\r\n       <use x=\"381.347656\" xlink:href=\"#DejaVuSans-111\"/>\r\n       <use x=\"442.529297\" xlink:href=\"#DejaVuSans-114\"/>\r\n       <use x=\"483.642578\" xlink:href=\"#DejaVuSans-108\"/>\r\n       <use x=\"511.425781\" xlink:href=\"#DejaVuSans-100\"/>\r\n      </g>\r\n     </g>\r\n    </g>\r\n    <g id=\"xtick_15\">\r\n     <g id=\"line2d_15\">\r\n      <g>\r\n       <use style=\"stroke:#000000;stroke-width:0.8;\" x=\"211.30009\" xlink:href=\"#m93f3668d28\" y=\"178.593125\"/>\r\n      </g>\r\n     </g>\r\n     <g id=\"text_15\">\r\n      <!-- rpg -->\r\n      <g transform=\"translate(214.059465 202.400938)rotate(-90)scale(0.1 -0.1)\">\r\n       <use xlink:href=\"#DejaVuSans-114\"/>\r\n       <use x=\"41.113281\" xlink:href=\"#DejaVuSans-112\"/>\r\n       <use x=\"104.589844\" xlink:href=\"#DejaVuSans-103\"/>\r\n      </g>\r\n     </g>\r\n    </g>\r\n    <g id=\"xtick_16\">\r\n     <g id=\"line2d_16\">\r\n      <g>\r\n       <use style=\"stroke:#000000;stroke-width:0.8;\" x=\"222.414321\" xlink:href=\"#m93f3668d28\" y=\"178.593125\"/>\r\n      </g>\r\n     </g>\r\n     <g id=\"text_16\">\r\n      <!-- sandbox -->\r\n      <g transform=\"translate(225.173696 227.69)rotate(-90)scale(0.1 -0.1)\">\r\n       <defs>\r\n        <path d=\"M 48.6875 27.296875 \r\nQ 48.6875 37.203125 44.609375 42.84375 \r\nQ 40.53125 48.484375 33.40625 48.484375 \r\nQ 26.265625 48.484375 22.1875 42.84375 \r\nQ 18.109375 37.203125 18.109375 27.296875 \r\nQ 18.109375 17.390625 22.1875 11.75 \r\nQ 26.265625 6.109375 33.40625 6.109375 \r\nQ 40.53125 6.109375 44.609375 11.75 \r\nQ 48.6875 17.390625 48.6875 27.296875 \r\nz\r\nM 18.109375 46.390625 \r\nQ 20.953125 51.265625 25.265625 53.625 \r\nQ 29.59375 56 35.59375 56 \r\nQ 45.5625 56 51.78125 48.09375 \r\nQ 58.015625 40.1875 58.015625 27.296875 \r\nQ 58.015625 14.40625 51.78125 6.484375 \r\nQ 45.5625 -1.421875 35.59375 -1.421875 \r\nQ 29.59375 -1.421875 25.265625 0.953125 \r\nQ 20.953125 3.328125 18.109375 8.203125 \r\nL 18.109375 0 \r\nL 9.078125 0 \r\nL 9.078125 75.984375 \r\nL 18.109375 75.984375 \r\nz\r\n\" id=\"DejaVuSans-98\"/>\r\n        <path d=\"M 54.890625 54.6875 \r\nL 35.109375 28.078125 \r\nL 55.90625 0 \r\nL 45.3125 0 \r\nL 29.390625 21.484375 \r\nL 13.484375 0 \r\nL 2.875 0 \r\nL 24.125 28.609375 \r\nL 4.6875 54.6875 \r\nL 15.28125 54.6875 \r\nL 29.78125 35.203125 \r\nL 44.28125 54.6875 \r\nz\r\n\" id=\"DejaVuSans-120\"/>\r\n       </defs>\r\n       <use xlink:href=\"#DejaVuSans-115\"/>\r\n       <use x=\"52.099609\" xlink:href=\"#DejaVuSans-97\"/>\r\n       <use x=\"113.378906\" xlink:href=\"#DejaVuSans-110\"/>\r\n       <use x=\"176.757812\" xlink:href=\"#DejaVuSans-100\"/>\r\n       <use x=\"240.234375\" xlink:href=\"#DejaVuSans-98\"/>\r\n       <use x=\"303.710938\" xlink:href=\"#DejaVuSans-111\"/>\r\n       <use x=\"361.767578\" xlink:href=\"#DejaVuSans-120\"/>\r\n      </g>\r\n     </g>\r\n    </g>\r\n    <g id=\"xtick_17\">\r\n     <g id=\"line2d_17\">\r\n      <g>\r\n       <use style=\"stroke:#000000;stroke-width:0.8;\" x=\"233.528551\" xlink:href=\"#m93f3668d28\" y=\"178.593125\"/>\r\n      </g>\r\n     </g>\r\n     <g id=\"text_17\">\r\n      <!-- sci_fi -->\r\n      <g transform=\"translate(236.148864 210.3775)rotate(-90)scale(0.1 -0.1)\">\r\n       <use xlink:href=\"#DejaVuSans-115\"/>\r\n       <use x=\"52.099609\" xlink:href=\"#DejaVuSans-99\"/>\r\n       <use x=\"107.080078\" xlink:href=\"#DejaVuSans-105\"/>\r\n       <use x=\"134.863281\" xlink:href=\"#DejaVuSans-95\"/>\r\n       <use x=\"184.863281\" xlink:href=\"#DejaVuSans-102\"/>\r\n       <use x=\"220.068359\" xlink:href=\"#DejaVuSans-105\"/>\r\n      </g>\r\n     </g>\r\n    </g>\r\n    <g id=\"xtick_18\">\r\n     <g id=\"line2d_18\">\r\n      <g>\r\n       <use style=\"stroke:#000000;stroke-width:0.8;\" x=\"244.642782\" xlink:href=\"#m93f3668d28\" y=\"178.593125\"/>\r\n      </g>\r\n     </g>\r\n     <g id=\"text_18\">\r\n      <!-- shooter -->\r\n      <g transform=\"translate(247.402157 223.561875)rotate(-90)scale(0.1 -0.1)\">\r\n       <use xlink:href=\"#DejaVuSans-115\"/>\r\n       <use x=\"52.099609\" xlink:href=\"#DejaVuSans-104\"/>\r\n       <use x=\"115.478516\" xlink:href=\"#DejaVuSans-111\"/>\r\n       <use x=\"176.660156\" xlink:href=\"#DejaVuSans-111\"/>\r\n       <use x=\"237.841797\" xlink:href=\"#DejaVuSans-116\"/>\r\n       <use x=\"277.050781\" xlink:href=\"#DejaVuSans-101\"/>\r\n       <use x=\"338.574219\" xlink:href=\"#DejaVuSans-114\"/>\r\n      </g>\r\n     </g>\r\n    </g>\r\n    <g id=\"xtick_19\">\r\n     <g id=\"line2d_19\">\r\n      <g>\r\n       <use style=\"stroke:#000000;stroke-width:0.8;\" x=\"255.757012\" xlink:href=\"#m93f3668d28\" y=\"178.593125\"/>\r\n      </g>\r\n     </g>\r\n     <g id=\"text_19\">\r\n      <!-- simulation -->\r\n      <g transform=\"translate(258.516387 237.719688)rotate(-90)scale(0.1 -0.1)\">\r\n       <use xlink:href=\"#DejaVuSans-115\"/>\r\n       <use x=\"52.099609\" xlink:href=\"#DejaVuSans-105\"/>\r\n       <use x=\"79.882812\" xlink:href=\"#DejaVuSans-109\"/>\r\n       <use x=\"177.294922\" xlink:href=\"#DejaVuSans-117\"/>\r\n       <use x=\"240.673828\" xlink:href=\"#DejaVuSans-108\"/>\r\n       <use x=\"268.457031\" xlink:href=\"#DejaVuSans-97\"/>\r\n       <use x=\"329.736328\" xlink:href=\"#DejaVuSans-116\"/>\r\n       <use x=\"368.945312\" xlink:href=\"#DejaVuSans-105\"/>\r\n       <use x=\"396.728516\" xlink:href=\"#DejaVuSans-111\"/>\r\n       <use x=\"457.910156\" xlink:href=\"#DejaVuSans-110\"/>\r\n      </g>\r\n     </g>\r\n    </g>\r\n    <g id=\"xtick_20\">\r\n     <g id=\"line2d_20\">\r\n      <g>\r\n       <use style=\"stroke:#000000;stroke-width:0.8;\" x=\"266.871242\" xlink:href=\"#m93f3668d28\" y=\"178.593125\"/>\r\n      </g>\r\n     </g>\r\n     <g id=\"text_20\">\r\n      <!-- singleplayer -->\r\n      <g transform=\"translate(269.630617 246.635313)rotate(-90)scale(0.1 -0.1)\">\r\n       <use xlink:href=\"#DejaVuSans-115\"/>\r\n       <use x=\"52.099609\" xlink:href=\"#DejaVuSans-105\"/>\r\n       <use x=\"79.882812\" xlink:href=\"#DejaVuSans-110\"/>\r\n       <use x=\"143.261719\" xlink:href=\"#DejaVuSans-103\"/>\r\n       <use x=\"206.738281\" xlink:href=\"#DejaVuSans-108\"/>\r\n       <use x=\"234.521484\" xlink:href=\"#DejaVuSans-101\"/>\r\n       <use x=\"296.044922\" xlink:href=\"#DejaVuSans-112\"/>\r\n       <use x=\"359.521484\" xlink:href=\"#DejaVuSans-108\"/>\r\n       <use x=\"387.304688\" xlink:href=\"#DejaVuSans-97\"/>\r\n       <use x=\"448.583984\" xlink:href=\"#DejaVuSans-121\"/>\r\n       <use x=\"507.763672\" xlink:href=\"#DejaVuSans-101\"/>\r\n       <use x=\"569.287109\" xlink:href=\"#DejaVuSans-114\"/>\r\n      </g>\r\n     </g>\r\n    </g>\r\n    <g id=\"xtick_21\">\r\n     <g id=\"line2d_21\">\r\n      <g>\r\n       <use style=\"stroke:#000000;stroke-width:0.8;\" x=\"277.985473\" xlink:href=\"#m93f3668d28\" y=\"178.593125\"/>\r\n      </g>\r\n     </g>\r\n     <g id=\"text_21\">\r\n      <!-- story_rich -->\r\n      <g transform=\"translate(280.605785 234.59625)rotate(-90)scale(0.1 -0.1)\">\r\n       <use xlink:href=\"#DejaVuSans-115\"/>\r\n       <use x=\"52.099609\" xlink:href=\"#DejaVuSans-116\"/>\r\n       <use x=\"91.308594\" xlink:href=\"#DejaVuSans-111\"/>\r\n       <use x=\"152.490234\" xlink:href=\"#DejaVuSans-114\"/>\r\n       <use x=\"193.603516\" xlink:href=\"#DejaVuSans-121\"/>\r\n       <use x=\"252.783203\" xlink:href=\"#DejaVuSans-95\"/>\r\n       <use x=\"302.783203\" xlink:href=\"#DejaVuSans-114\"/>\r\n       <use x=\"343.896484\" xlink:href=\"#DejaVuSans-105\"/>\r\n       <use x=\"371.679688\" xlink:href=\"#DejaVuSans-99\"/>\r\n       <use x=\"426.660156\" xlink:href=\"#DejaVuSans-104\"/>\r\n      </g>\r\n     </g>\r\n    </g>\r\n    <g id=\"xtick_22\">\r\n     <g id=\"line2d_22\">\r\n      <g>\r\n       <use style=\"stroke:#000000;stroke-width:0.8;\" x=\"289.099703\" xlink:href=\"#m93f3668d28\" y=\"178.593125\"/>\r\n      </g>\r\n     </g>\r\n     <g id=\"text_22\">\r\n      <!-- strategy -->\r\n      <g transform=\"translate(291.859078 227.3025)rotate(-90)scale(0.1 -0.1)\">\r\n       <use xlink:href=\"#DejaVuSans-115\"/>\r\n       <use x=\"52.099609\" xlink:href=\"#DejaVuSans-116\"/>\r\n       <use x=\"91.308594\" xlink:href=\"#DejaVuSans-114\"/>\r\n       <use x=\"132.421875\" xlink:href=\"#DejaVuSans-97\"/>\r\n       <use x=\"193.701172\" xlink:href=\"#DejaVuSans-116\"/>\r\n       <use x=\"232.910156\" xlink:href=\"#DejaVuSans-101\"/>\r\n       <use x=\"294.433594\" xlink:href=\"#DejaVuSans-103\"/>\r\n       <use x=\"357.910156\" xlink:href=\"#DejaVuSans-121\"/>\r\n      </g>\r\n     </g>\r\n    </g>\r\n    <g id=\"xtick_23\">\r\n     <g id=\"line2d_23\">\r\n      <g>\r\n       <use style=\"stroke:#000000;stroke-width:0.8;\" x=\"300.213933\" xlink:href=\"#m93f3668d28\" y=\"178.593125\"/>\r\n      </g>\r\n     </g>\r\n     <g id=\"text_23\">\r\n      <!-- survival -->\r\n      <g transform=\"translate(302.973308 224.772813)rotate(-90)scale(0.1 -0.1)\">\r\n       <use xlink:href=\"#DejaVuSans-115\"/>\r\n       <use x=\"52.099609\" xlink:href=\"#DejaVuSans-117\"/>\r\n       <use x=\"115.478516\" xlink:href=\"#DejaVuSans-114\"/>\r\n       <use x=\"156.591797\" xlink:href=\"#DejaVuSans-118\"/>\r\n       <use x=\"215.771484\" xlink:href=\"#DejaVuSans-105\"/>\r\n       <use x=\"243.554688\" xlink:href=\"#DejaVuSans-118\"/>\r\n       <use x=\"302.734375\" xlink:href=\"#DejaVuSans-97\"/>\r\n       <use x=\"364.013672\" xlink:href=\"#DejaVuSans-108\"/>\r\n      </g>\r\n     </g>\r\n    </g>\r\n    <g id=\"xtick_24\">\r\n     <g id=\"line2d_24\">\r\n      <g>\r\n       <use style=\"stroke:#000000;stroke-width:0.8;\" x=\"311.328164\" xlink:href=\"#m93f3668d28\" y=\"178.593125\"/>\r\n      </g>\r\n     </g>\r\n     <g id=\"text_24\">\r\n      <!-- third_person -->\r\n      <g transform=\"translate(313.948476 248.191563)rotate(-90)scale(0.1 -0.1)\">\r\n       <use xlink:href=\"#DejaVuSans-116\"/>\r\n       <use x=\"39.208984\" xlink:href=\"#DejaVuSans-104\"/>\r\n       <use x=\"102.587891\" xlink:href=\"#DejaVuSans-105\"/>\r\n       <use x=\"130.371094\" xlink:href=\"#DejaVuSans-114\"/>\r\n       <use x=\"169.734375\" xlink:href=\"#DejaVuSans-100\"/>\r\n       <use x=\"233.210938\" xlink:href=\"#DejaVuSans-95\"/>\r\n       <use x=\"283.210938\" xlink:href=\"#DejaVuSans-112\"/>\r\n       <use x=\"346.6875\" xlink:href=\"#DejaVuSans-101\"/>\r\n       <use x=\"408.210938\" xlink:href=\"#DejaVuSans-114\"/>\r\n       <use x=\"449.324219\" xlink:href=\"#DejaVuSans-115\"/>\r\n       <use x=\"501.423828\" xlink:href=\"#DejaVuSans-111\"/>\r\n       <use x=\"562.605469\" xlink:href=\"#DejaVuSans-110\"/>\r\n      </g>\r\n     </g>\r\n    </g>\r\n    <g id=\"xtick_25\">\r\n     <g id=\"line2d_25\">\r\n      <g>\r\n       <use style=\"stroke:#000000;stroke-width:0.8;\" x=\"322.442394\" xlink:href=\"#m93f3668d28\" y=\"178.593125\"/>\r\n      </g>\r\n     </g>\r\n     <g id=\"text_25\">\r\n      <!-- review -->\r\n      <g transform=\"translate(325.201769 218.660313)rotate(-90)scale(0.1 -0.1)\">\r\n       <use xlink:href=\"#DejaVuSans-114\"/>\r\n       <use x=\"38.863281\" xlink:href=\"#DejaVuSans-101\"/>\r\n       <use x=\"100.386719\" xlink:href=\"#DejaVuSans-118\"/>\r\n       <use x=\"159.566406\" xlink:href=\"#DejaVuSans-105\"/>\r\n       <use x=\"187.349609\" xlink:href=\"#DejaVuSans-101\"/>\r\n       <use x=\"248.873047\" xlink:href=\"#DejaVuSans-119\"/>\r\n      </g>\r\n     </g>\r\n    </g>\r\n    <g id=\"xtick_26\">\r\n     <g id=\"line2d_26\">\r\n      <g>\r\n       <use style=\"stroke:#000000;stroke-width:0.8;\" x=\"333.556624\" xlink:href=\"#m93f3668d28\" y=\"178.593125\"/>\r\n      </g>\r\n     </g>\r\n     <g id=\"text_26\">\r\n      <!-- voted_up -->\r\n      <g transform=\"translate(336.176937 231.738438)rotate(-90)scale(0.1 -0.1)\">\r\n       <use xlink:href=\"#DejaVuSans-118\"/>\r\n       <use x=\"59.179688\" xlink:href=\"#DejaVuSans-111\"/>\r\n       <use x=\"120.361328\" xlink:href=\"#DejaVuSans-116\"/>\r\n       <use x=\"159.570312\" xlink:href=\"#DejaVuSans-101\"/>\r\n       <use x=\"221.09375\" xlink:href=\"#DejaVuSans-100\"/>\r\n       <use x=\"284.570312\" xlink:href=\"#DejaVuSans-95\"/>\r\n       <use x=\"334.570312\" xlink:href=\"#DejaVuSans-117\"/>\r\n       <use x=\"397.949219\" xlink:href=\"#DejaVuSans-112\"/>\r\n      </g>\r\n     </g>\r\n    </g>\r\n    <g id=\"xtick_27\">\r\n     <g id=\"line2d_27\">\r\n      <g>\r\n       <use style=\"stroke:#000000;stroke-width:0.8;\" x=\"344.670855\" xlink:href=\"#m93f3668d28\" y=\"178.593125\"/>\r\n      </g>\r\n     </g>\r\n     <g id=\"text_27\">\r\n      <!-- recommended -->\r\n      <g transform=\"translate(347.43023 258.07125)rotate(-90)scale(0.1 -0.1)\">\r\n       <use xlink:href=\"#DejaVuSans-114\"/>\r\n       <use x=\"38.863281\" xlink:href=\"#DejaVuSans-101\"/>\r\n       <use x=\"100.386719\" xlink:href=\"#DejaVuSans-99\"/>\r\n       <use x=\"155.367188\" xlink:href=\"#DejaVuSans-111\"/>\r\n       <use x=\"216.548828\" xlink:href=\"#DejaVuSans-109\"/>\r\n       <use x=\"313.960938\" xlink:href=\"#DejaVuSans-109\"/>\r\n       <use x=\"411.373047\" xlink:href=\"#DejaVuSans-101\"/>\r\n       <use x=\"472.896484\" xlink:href=\"#DejaVuSans-110\"/>\r\n       <use x=\"536.275391\" xlink:href=\"#DejaVuSans-100\"/>\r\n       <use x=\"599.751953\" xlink:href=\"#DejaVuSans-101\"/>\r\n       <use x=\"661.275391\" xlink:href=\"#DejaVuSans-100\"/>\r\n      </g>\r\n     </g>\r\n    </g>\r\n    <g id=\"xtick_28\">\r\n     <g id=\"line2d_28\">\r\n      <g>\r\n       <use style=\"stroke:#000000;stroke-width:0.8;\" x=\"355.785085\" xlink:href=\"#m93f3668d28\" y=\"178.593125\"/>\r\n      </g>\r\n     </g>\r\n     <g id=\"text_28\">\r\n      <!-- achievements -->\r\n      <g transform=\"translate(358.54446 255.92125)rotate(-90)scale(0.1 -0.1)\">\r\n       <use xlink:href=\"#DejaVuSans-97\"/>\r\n       <use x=\"61.279297\" xlink:href=\"#DejaVuSans-99\"/>\r\n       <use x=\"116.259766\" xlink:href=\"#DejaVuSans-104\"/>\r\n       <use x=\"179.638672\" xlink:href=\"#DejaVuSans-105\"/>\r\n       <use x=\"207.421875\" xlink:href=\"#DejaVuSans-101\"/>\r\n       <use x=\"268.945312\" xlink:href=\"#DejaVuSans-118\"/>\r\n       <use x=\"328.125\" xlink:href=\"#DejaVuSans-101\"/>\r\n       <use x=\"389.648438\" xlink:href=\"#DejaVuSans-109\"/>\r\n       <use x=\"487.060547\" xlink:href=\"#DejaVuSans-101\"/>\r\n       <use x=\"548.583984\" xlink:href=\"#DejaVuSans-110\"/>\r\n       <use x=\"611.962891\" xlink:href=\"#DejaVuSans-116\"/>\r\n       <use x=\"651.171875\" xlink:href=\"#DejaVuSans-115\"/>\r\n      </g>\r\n     </g>\r\n    </g>\r\n    <g id=\"xtick_29\">\r\n     <g id=\"line2d_29\">\r\n      <g>\r\n       <use style=\"stroke:#000000;stroke-width:0.8;\" x=\"366.899316\" xlink:href=\"#m93f3668d28\" y=\"178.593125\"/>\r\n      </g>\r\n     </g>\r\n     <g id=\"text_29\">\r\n      <!-- avg -->\r\n      <g transform=\"translate(369.658691 203.988438)rotate(-90)scale(0.1 -0.1)\">\r\n       <use xlink:href=\"#DejaVuSans-97\"/>\r\n       <use x=\"61.279297\" xlink:href=\"#DejaVuSans-118\"/>\r\n       <use x=\"120.458984\" xlink:href=\"#DejaVuSans-103\"/>\r\n      </g>\r\n     </g>\r\n    </g>\r\n    <g id=\"xtick_30\">\r\n     <g id=\"line2d_30\">\r\n      <g>\r\n       <use style=\"stroke:#000000;stroke-width:0.8;\" x=\"378.013546\" xlink:href=\"#m93f3668d28\" y=\"178.593125\"/>\r\n      </g>\r\n     </g>\r\n     <g id=\"text_30\">\r\n      <!-- gain -->\r\n      <g transform=\"translate(380.772921 207.185313)rotate(-90)scale(0.1 -0.1)\">\r\n       <use xlink:href=\"#DejaVuSans-103\"/>\r\n       <use x=\"63.476562\" xlink:href=\"#DejaVuSans-97\"/>\r\n       <use x=\"124.755859\" xlink:href=\"#DejaVuSans-105\"/>\r\n       <use x=\"152.539062\" xlink:href=\"#DejaVuSans-110\"/>\r\n      </g>\r\n     </g>\r\n    </g>\r\n    <g id=\"xtick_31\">\r\n     <g id=\"line2d_31\">\r\n      <g>\r\n       <use style=\"stroke:#000000;stroke-width:0.8;\" x=\"389.127776\" xlink:href=\"#m93f3668d28\" y=\"178.593125\"/>\r\n      </g>\r\n     </g>\r\n     <g id=\"text_31\">\r\n      <!-- mac -->\r\n      <g transform=\"translate(391.887151 206.960313)rotate(-90)scale(0.1 -0.1)\">\r\n       <use xlink:href=\"#DejaVuSans-109\"/>\r\n       <use x=\"97.412109\" xlink:href=\"#DejaVuSans-97\"/>\r\n       <use x=\"158.691406\" xlink:href=\"#DejaVuSans-99\"/>\r\n      </g>\r\n     </g>\r\n    </g>\r\n    <g id=\"xtick_32\">\r\n     <g id=\"line2d_32\">\r\n      <g>\r\n       <use style=\"stroke:#000000;stroke-width:0.8;\" x=\"400.242007\" xlink:href=\"#m93f3668d28\" y=\"178.593125\"/>\r\n      </g>\r\n     </g>\r\n     <g id=\"text_32\">\r\n      <!-- linux -->\r\n      <g transform=\"translate(403.001382 209.743125)rotate(-90)scale(0.1 -0.1)\">\r\n       <use xlink:href=\"#DejaVuSans-108\"/>\r\n       <use x=\"27.783203\" xlink:href=\"#DejaVuSans-105\"/>\r\n       <use x=\"55.566406\" xlink:href=\"#DejaVuSans-110\"/>\r\n       <use x=\"118.945312\" xlink:href=\"#DejaVuSans-117\"/>\r\n       <use x=\"182.324219\" xlink:href=\"#DejaVuSans-120\"/>\r\n      </g>\r\n     </g>\r\n    </g>\r\n    <g id=\"xtick_33\">\r\n     <g id=\"line2d_33\">\r\n      <g>\r\n       <use style=\"stroke:#000000;stroke-width:0.8;\" x=\"411.356237\" xlink:href=\"#m93f3668d28\" y=\"178.593125\"/>\r\n      </g>\r\n     </g>\r\n     <g id=\"text_33\">\r\n      <!-- big_publisher -->\r\n      <g transform=\"translate(413.97655 252.469688)rotate(-90)scale(0.1 -0.1)\">\r\n       <use xlink:href=\"#DejaVuSans-98\"/>\r\n       <use x=\"63.476562\" xlink:href=\"#DejaVuSans-105\"/>\r\n       <use x=\"91.259766\" xlink:href=\"#DejaVuSans-103\"/>\r\n       <use x=\"154.736328\" xlink:href=\"#DejaVuSans-95\"/>\r\n       <use x=\"204.736328\" xlink:href=\"#DejaVuSans-112\"/>\r\n       <use x=\"268.212891\" xlink:href=\"#DejaVuSans-117\"/>\r\n       <use x=\"331.591797\" xlink:href=\"#DejaVuSans-98\"/>\r\n       <use x=\"395.068359\" xlink:href=\"#DejaVuSans-108\"/>\r\n       <use x=\"422.851562\" xlink:href=\"#DejaVuSans-105\"/>\r\n       <use x=\"450.634766\" xlink:href=\"#DejaVuSans-115\"/>\r\n       <use x=\"502.734375\" xlink:href=\"#DejaVuSans-104\"/>\r\n       <use x=\"566.113281\" xlink:href=\"#DejaVuSans-101\"/>\r\n       <use x=\"627.636719\" xlink:href=\"#DejaVuSans-114\"/>\r\n      </g>\r\n     </g>\r\n    </g>\r\n   </g>\r\n   <g id=\"matplotlib.axis_2\">\r\n    <g id=\"ytick_1\">\r\n     <g id=\"line2d_34\">\r\n      <defs>\r\n       <path d=\"M 0 0 \r\nL -3.5 0 \r\n\" id=\"m195771e920\" style=\"stroke:#000000;stroke-width:0.8;\"/>\r\n      </defs>\r\n      <g>\r\n       <use style=\"stroke:#000000;stroke-width:0.8;\" x=\"50.14375\" xlink:href=\"#m195771e920\" y=\"178.593125\"/>\r\n      </g>\r\n     </g>\r\n     <g id=\"text_34\">\r\n      <!-- 0.00 -->\r\n      <g transform=\"translate(20.878125 182.392344)scale(0.1 -0.1)\">\r\n       <defs>\r\n        <path d=\"M 31.78125 66.40625 \r\nQ 24.171875 66.40625 20.328125 58.90625 \r\nQ 16.5 51.421875 16.5 36.375 \r\nQ 16.5 21.390625 20.328125 13.890625 \r\nQ 24.171875 6.390625 31.78125 6.390625 \r\nQ 39.453125 6.390625 43.28125 13.890625 \r\nQ 47.125 21.390625 47.125 36.375 \r\nQ 47.125 51.421875 43.28125 58.90625 \r\nQ 39.453125 66.40625 31.78125 66.40625 \r\nz\r\nM 31.78125 74.21875 \r\nQ 44.046875 74.21875 50.515625 64.515625 \r\nQ 56.984375 54.828125 56.984375 36.375 \r\nQ 56.984375 17.96875 50.515625 8.265625 \r\nQ 44.046875 -1.421875 31.78125 -1.421875 \r\nQ 19.53125 -1.421875 13.0625 8.265625 \r\nQ 6.59375 17.96875 6.59375 36.375 \r\nQ 6.59375 54.828125 13.0625 64.515625 \r\nQ 19.53125 74.21875 31.78125 74.21875 \r\nz\r\n\" id=\"DejaVuSans-48\"/>\r\n        <path d=\"M 10.6875 12.40625 \r\nL 21 12.40625 \r\nL 21 0 \r\nL 10.6875 0 \r\nz\r\n\" id=\"DejaVuSans-46\"/>\r\n       </defs>\r\n       <use xlink:href=\"#DejaVuSans-48\"/>\r\n       <use x=\"63.623047\" xlink:href=\"#DejaVuSans-46\"/>\r\n       <use x=\"95.410156\" xlink:href=\"#DejaVuSans-48\"/>\r\n       <use x=\"159.033203\" xlink:href=\"#DejaVuSans-48\"/>\r\n      </g>\r\n     </g>\r\n    </g>\r\n    <g id=\"ytick_2\">\r\n     <g id=\"line2d_35\">\r\n      <g>\r\n       <use style=\"stroke:#000000;stroke-width:0.8;\" x=\"50.14375\" xlink:href=\"#m195771e920\" y=\"144.864049\"/>\r\n      </g>\r\n     </g>\r\n     <g id=\"text_35\">\r\n      <!-- 0.05 -->\r\n      <g transform=\"translate(20.878125 148.663268)scale(0.1 -0.1)\">\r\n       <defs>\r\n        <path d=\"M 10.796875 72.90625 \r\nL 49.515625 72.90625 \r\nL 49.515625 64.59375 \r\nL 19.828125 64.59375 \r\nL 19.828125 46.734375 \r\nQ 21.96875 47.46875 24.109375 47.828125 \r\nQ 26.265625 48.1875 28.421875 48.1875 \r\nQ 40.625 48.1875 47.75 41.5 \r\nQ 54.890625 34.8125 54.890625 23.390625 \r\nQ 54.890625 11.625 47.5625 5.09375 \r\nQ 40.234375 -1.421875 26.90625 -1.421875 \r\nQ 22.3125 -1.421875 17.546875 -0.640625 \r\nQ 12.796875 0.140625 7.71875 1.703125 \r\nL 7.71875 11.625 \r\nQ 12.109375 9.234375 16.796875 8.0625 \r\nQ 21.484375 6.890625 26.703125 6.890625 \r\nQ 35.15625 6.890625 40.078125 11.328125 \r\nQ 45.015625 15.765625 45.015625 23.390625 \r\nQ 45.015625 31 40.078125 35.4375 \r\nQ 35.15625 39.890625 26.703125 39.890625 \r\nQ 22.75 39.890625 18.8125 39.015625 \r\nQ 14.890625 38.140625 10.796875 36.28125 \r\nz\r\n\" id=\"DejaVuSans-53\"/>\r\n       </defs>\r\n       <use xlink:href=\"#DejaVuSans-48\"/>\r\n       <use x=\"63.623047\" xlink:href=\"#DejaVuSans-46\"/>\r\n       <use x=\"95.410156\" xlink:href=\"#DejaVuSans-48\"/>\r\n       <use x=\"159.033203\" xlink:href=\"#DejaVuSans-53\"/>\r\n      </g>\r\n     </g>\r\n    </g>\r\n    <g id=\"ytick_3\">\r\n     <g id=\"line2d_36\">\r\n      <g>\r\n       <use style=\"stroke:#000000;stroke-width:0.8;\" x=\"50.14375\" xlink:href=\"#m195771e920\" y=\"111.134974\"/>\r\n      </g>\r\n     </g>\r\n     <g id=\"text_36\">\r\n      <!-- 0.10 -->\r\n      <g transform=\"translate(20.878125 114.934193)scale(0.1 -0.1)\">\r\n       <defs>\r\n        <path d=\"M 12.40625 8.296875 \r\nL 28.515625 8.296875 \r\nL 28.515625 63.921875 \r\nL 10.984375 60.40625 \r\nL 10.984375 69.390625 \r\nL 28.421875 72.90625 \r\nL 38.28125 72.90625 \r\nL 38.28125 8.296875 \r\nL 54.390625 8.296875 \r\nL 54.390625 0 \r\nL 12.40625 0 \r\nz\r\n\" id=\"DejaVuSans-49\"/>\r\n       </defs>\r\n       <use xlink:href=\"#DejaVuSans-48\"/>\r\n       <use x=\"63.623047\" xlink:href=\"#DejaVuSans-46\"/>\r\n       <use x=\"95.410156\" xlink:href=\"#DejaVuSans-49\"/>\r\n       <use x=\"159.033203\" xlink:href=\"#DejaVuSans-48\"/>\r\n      </g>\r\n     </g>\r\n    </g>\r\n    <g id=\"ytick_4\">\r\n     <g id=\"line2d_37\">\r\n      <g>\r\n       <use style=\"stroke:#000000;stroke-width:0.8;\" x=\"50.14375\" xlink:href=\"#m195771e920\" y=\"77.405898\"/>\r\n      </g>\r\n     </g>\r\n     <g id=\"text_37\">\r\n      <!-- 0.15 -->\r\n      <g transform=\"translate(20.878125 81.205117)scale(0.1 -0.1)\">\r\n       <use xlink:href=\"#DejaVuSans-48\"/>\r\n       <use x=\"63.623047\" xlink:href=\"#DejaVuSans-46\"/>\r\n       <use x=\"95.410156\" xlink:href=\"#DejaVuSans-49\"/>\r\n       <use x=\"159.033203\" xlink:href=\"#DejaVuSans-53\"/>\r\n      </g>\r\n     </g>\r\n    </g>\r\n    <g id=\"ytick_5\">\r\n     <g id=\"line2d_38\">\r\n      <g>\r\n       <use style=\"stroke:#000000;stroke-width:0.8;\" x=\"50.14375\" xlink:href=\"#m195771e920\" y=\"43.676823\"/>\r\n      </g>\r\n     </g>\r\n     <g id=\"text_38\">\r\n      <!-- 0.20 -->\r\n      <g transform=\"translate(20.878125 47.476041)scale(0.1 -0.1)\">\r\n       <use xlink:href=\"#DejaVuSans-48\"/>\r\n       <use x=\"63.623047\" xlink:href=\"#DejaVuSans-46\"/>\r\n       <use x=\"95.410156\" xlink:href=\"#DejaVuSans-50\"/>\r\n       <use x=\"159.033203\" xlink:href=\"#DejaVuSans-48\"/>\r\n      </g>\r\n     </g>\r\n    </g>\r\n    <g id=\"text_39\">\r\n     <!-- Mean decrease in impurity -->\r\n     <g transform=\"translate(14.798438 167.135313)rotate(-90)scale(0.1 -0.1)\">\r\n      <defs>\r\n       <path d=\"M 9.8125 72.90625 \r\nL 24.515625 72.90625 \r\nL 43.109375 23.296875 \r\nL 61.8125 72.90625 \r\nL 76.515625 72.90625 \r\nL 76.515625 0 \r\nL 66.890625 0 \r\nL 66.890625 64.015625 \r\nL 48.09375 14.015625 \r\nL 38.1875 14.015625 \r\nL 19.390625 64.015625 \r\nL 19.390625 0 \r\nL 9.8125 0 \r\nz\r\n\" id=\"DejaVuSans-77\"/>\r\n       <path id=\"DejaVuSans-32\"/>\r\n      </defs>\r\n      <use xlink:href=\"#DejaVuSans-77\"/>\r\n      <use x=\"86.279297\" xlink:href=\"#DejaVuSans-101\"/>\r\n      <use x=\"147.802734\" xlink:href=\"#DejaVuSans-97\"/>\r\n      <use x=\"209.082031\" xlink:href=\"#DejaVuSans-110\"/>\r\n      <use x=\"272.460938\" xlink:href=\"#DejaVuSans-32\"/>\r\n      <use x=\"304.248047\" xlink:href=\"#DejaVuSans-100\"/>\r\n      <use x=\"367.724609\" xlink:href=\"#DejaVuSans-101\"/>\r\n      <use x=\"429.248047\" xlink:href=\"#DejaVuSans-99\"/>\r\n      <use x=\"484.228516\" xlink:href=\"#DejaVuSans-114\"/>\r\n      <use x=\"523.091797\" xlink:href=\"#DejaVuSans-101\"/>\r\n      <use x=\"584.615234\" xlink:href=\"#DejaVuSans-97\"/>\r\n      <use x=\"645.894531\" xlink:href=\"#DejaVuSans-115\"/>\r\n      <use x=\"697.994141\" xlink:href=\"#DejaVuSans-101\"/>\r\n      <use x=\"759.517578\" xlink:href=\"#DejaVuSans-32\"/>\r\n      <use x=\"791.304688\" xlink:href=\"#DejaVuSans-105\"/>\r\n      <use x=\"819.087891\" xlink:href=\"#DejaVuSans-110\"/>\r\n      <use x=\"882.466797\" xlink:href=\"#DejaVuSans-32\"/>\r\n      <use x=\"914.253906\" xlink:href=\"#DejaVuSans-105\"/>\r\n      <use x=\"942.037109\" xlink:href=\"#DejaVuSans-109\"/>\r\n      <use x=\"1039.449219\" xlink:href=\"#DejaVuSans-112\"/>\r\n      <use x=\"1102.925781\" xlink:href=\"#DejaVuSans-117\"/>\r\n      <use x=\"1166.304688\" xlink:href=\"#DejaVuSans-114\"/>\r\n      <use x=\"1207.417969\" xlink:href=\"#DejaVuSans-105\"/>\r\n      <use x=\"1235.201172\" xlink:href=\"#DejaVuSans-116\"/>\r\n      <use x=\"1274.410156\" xlink:href=\"#DejaVuSans-121\"/>\r\n     </g>\r\n    </g>\r\n   </g>\r\n   <g id=\"LineCollection_1\">\r\n    <path clip-path=\"url(#pa0823abaff)\" d=\"M 55.700865 175.177975 \r\nL 55.700865 171.300223 \r\n\" style=\"fill:none;stroke:#000000;stroke-width:1.5;\"/>\r\n    <path clip-path=\"url(#pa0823abaff)\" d=\"M 66.815096 174.184256 \r\nL 66.815096 170.434283 \r\n\" style=\"fill:none;stroke:#000000;stroke-width:1.5;\"/>\r\n    <path clip-path=\"url(#pa0823abaff)\" d=\"M 77.929326 174.45119 \r\nL 77.929326 169.930941 \r\n\" style=\"fill:none;stroke:#000000;stroke-width:1.5;\"/>\r\n    <path clip-path=\"url(#pa0823abaff)\" d=\"M 89.043556 175.040145 \r\nL 89.043556 170.725648 \r\n\" style=\"fill:none;stroke:#000000;stroke-width:1.5;\"/>\r\n    <path clip-path=\"url(#pa0823abaff)\" d=\"M 100.157787 174.816482 \r\nL 100.157787 171.135008 \r\n\" style=\"fill:none;stroke:#000000;stroke-width:1.5;\"/>\r\n    <path clip-path=\"url(#pa0823abaff)\" d=\"M 111.272017 175.640263 \r\nL 111.272017 172.008054 \r\n\" style=\"fill:none;stroke:#000000;stroke-width:1.5;\"/>\r\n    <path clip-path=\"url(#pa0823abaff)\" d=\"M 122.386247 174.361495 \r\nL 122.386247 168.941884 \r\n\" style=\"fill:none;stroke:#000000;stroke-width:1.5;\"/>\r\n    <path clip-path=\"url(#pa0823abaff)\" d=\"M 133.500478 177.274897 \r\nL 133.500478 174.192643 \r\n\" style=\"fill:none;stroke:#000000;stroke-width:1.5;\"/>\r\n    <path clip-path=\"url(#pa0823abaff)\" d=\"M 144.614708 176.196774 \r\nL 144.614708 172.706123 \r\n\" style=\"fill:none;stroke:#000000;stroke-width:1.5;\"/>\r\n    <path clip-path=\"url(#pa0823abaff)\" d=\"M 155.728939 173.742263 \r\nL 155.728939 168.776233 \r\n\" style=\"fill:none;stroke:#000000;stroke-width:1.5;\"/>\r\n    <path clip-path=\"url(#pa0823abaff)\" d=\"M 166.843169 174.864196 \r\nL 166.843169 170.996651 \r\n\" style=\"fill:none;stroke:#000000;stroke-width:1.5;\"/>\r\n    <path clip-path=\"url(#pa0823abaff)\" d=\"M 177.957399 175.835493 \r\nL 177.957399 172.369023 \r\n\" style=\"fill:none;stroke:#000000;stroke-width:1.5;\"/>\r\n    <path clip-path=\"url(#pa0823abaff)\" d=\"M 189.07163 174.67593 \r\nL 189.07163 169.785234 \r\n\" style=\"fill:none;stroke:#000000;stroke-width:1.5;\"/>\r\n    <path clip-path=\"url(#pa0823abaff)\" d=\"M 200.18586 175.742994 \r\nL 200.18586 172.371447 \r\n\" style=\"fill:none;stroke:#000000;stroke-width:1.5;\"/>\r\n    <path clip-path=\"url(#pa0823abaff)\" d=\"M 211.30009 175.497947 \r\nL 211.30009 171.785099 \r\n\" style=\"fill:none;stroke:#000000;stroke-width:1.5;\"/>\r\n    <path clip-path=\"url(#pa0823abaff)\" d=\"M 222.414321 175.699611 \r\nL 222.414321 172.080934 \r\n\" style=\"fill:none;stroke:#000000;stroke-width:1.5;\"/>\r\n    <path clip-path=\"url(#pa0823abaff)\" d=\"M 233.528551 176.446731 \r\nL 233.528551 174.124574 \r\n\" style=\"fill:none;stroke:#000000;stroke-width:1.5;\"/>\r\n    <path clip-path=\"url(#pa0823abaff)\" d=\"M 244.642782 176.710209 \r\nL 244.642782 173.669193 \r\n\" style=\"fill:none;stroke:#000000;stroke-width:1.5;\"/>\r\n    <path clip-path=\"url(#pa0823abaff)\" d=\"M 255.757012 174.752486 \r\nL 255.757012 169.397006 \r\n\" style=\"fill:none;stroke:#000000;stroke-width:1.5;\"/>\r\n    <path clip-path=\"url(#pa0823abaff)\" d=\"M 266.871242 176.97418 \r\nL 266.871242 173.952573 \r\n\" style=\"fill:none;stroke:#000000;stroke-width:1.5;\"/>\r\n    <path clip-path=\"url(#pa0823abaff)\" d=\"M 277.985473 176.147283 \r\nL 277.985473 173.372454 \r\n\" style=\"fill:none;stroke:#000000;stroke-width:1.5;\"/>\r\n    <path clip-path=\"url(#pa0823abaff)\" d=\"M 289.099703 174.32571 \r\nL 289.099703 169.227712 \r\n\" style=\"fill:none;stroke:#000000;stroke-width:1.5;\"/>\r\n    <path clip-path=\"url(#pa0823abaff)\" d=\"M 300.213933 176.002948 \r\nL 300.213933 172.210819 \r\n\" style=\"fill:none;stroke:#000000;stroke-width:1.5;\"/>\r\n    <path clip-path=\"url(#pa0823abaff)\" d=\"M 311.328164 176.711194 \r\nL 311.328164 173.965977 \r\n\" style=\"fill:none;stroke:#000000;stroke-width:1.5;\"/>\r\n    <path clip-path=\"url(#pa0823abaff)\" d=\"M 322.442394 64.960349 \r\nL 322.442394 51.149874 \r\n\" style=\"fill:none;stroke:#000000;stroke-width:1.5;\"/>\r\n    <path clip-path=\"url(#pa0823abaff)\" d=\"M 333.556624 72.171237 \r\nL 333.556624 60.42625 \r\n\" style=\"fill:none;stroke:#000000;stroke-width:1.5;\"/>\r\n    <path clip-path=\"url(#pa0823abaff)\" d=\"M 344.670855 174.664649 \r\nL 344.670855 170.398937 \r\n\" style=\"fill:none;stroke:#000000;stroke-width:1.5;\"/>\r\n    <path clip-path=\"url(#pa0823abaff)\" d=\"M 355.785085 156.361341 \r\nL 355.785085 146.837564 \r\n\" style=\"fill:none;stroke:#000000;stroke-width:1.5;\"/>\r\n    <path clip-path=\"url(#pa0823abaff)\" d=\"M 366.899316 43.515379 \r\nL 366.899316 29.759792 \r\n\" style=\"fill:none;stroke:#000000;stroke-width:1.5;\"/>\r\n    <path clip-path=\"url(#pa0823abaff)\" d=\"M 378.013546 54.320661 \r\nL 378.013546 41.856708 \r\n\" style=\"fill:none;stroke:#000000;stroke-width:1.5;\"/>\r\n    <path clip-path=\"url(#pa0823abaff)\" d=\"M 389.127776 175.266496 \r\nL 389.127776 171.502152 \r\n\" style=\"fill:none;stroke:#000000;stroke-width:1.5;\"/>\r\n    <path clip-path=\"url(#pa0823abaff)\" d=\"M 400.242007 174.516289 \r\nL 400.242007 171.593175 \r\n\" style=\"fill:none;stroke:#000000;stroke-width:1.5;\"/>\r\n    <path clip-path=\"url(#pa0823abaff)\" d=\"M 411.356237 175.852622 \r\nL 411.356237 172.097366 \r\n\" style=\"fill:none;stroke:#000000;stroke-width:1.5;\"/>\r\n   </g>\r\n   <g id=\"patch_36\">\r\n    <path d=\"M 50.14375 178.593125 \r\nL 50.14375 22.318125 \r\n\" style=\"fill:none;stroke:#000000;stroke-linecap:square;stroke-linejoin:miter;stroke-width:0.8;\"/>\r\n   </g>\r\n   <g id=\"patch_37\">\r\n    <path d=\"M 416.913352 178.593125 \r\nL 416.913352 22.318125 \r\n\" style=\"fill:none;stroke:#000000;stroke-linecap:square;stroke-linejoin:miter;stroke-width:0.8;\"/>\r\n   </g>\r\n   <g id=\"patch_38\">\r\n    <path d=\"M 50.14375 178.593125 \r\nL 416.913352 178.593125 \r\n\" style=\"fill:none;stroke:#000000;stroke-linecap:square;stroke-linejoin:miter;stroke-width:0.8;\"/>\r\n   </g>\r\n   <g id=\"patch_39\">\r\n    <path d=\"M 50.14375 22.318125 \r\nL 416.913352 22.318125 \r\n\" style=\"fill:none;stroke:#000000;stroke-linecap:square;stroke-linejoin:miter;stroke-width:0.8;\"/>\r\n   </g>\r\n   <g id=\"text_40\">\r\n    <!-- Feature importances using MDI -->\r\n    <g transform=\"translate(139.960426 16.318125)scale(0.12 -0.12)\">\r\n     <defs>\r\n      <path d=\"M 9.8125 72.90625 \r\nL 51.703125 72.90625 \r\nL 51.703125 64.59375 \r\nL 19.671875 64.59375 \r\nL 19.671875 43.109375 \r\nL 48.578125 43.109375 \r\nL 48.578125 34.8125 \r\nL 19.671875 34.8125 \r\nL 19.671875 0 \r\nL 9.8125 0 \r\nz\r\n\" id=\"DejaVuSans-70\"/>\r\n      <path d=\"M 19.671875 64.796875 \r\nL 19.671875 8.109375 \r\nL 31.59375 8.109375 \r\nQ 46.6875 8.109375 53.6875 14.9375 \r\nQ 60.6875 21.78125 60.6875 36.53125 \r\nQ 60.6875 51.171875 53.6875 57.984375 \r\nQ 46.6875 64.796875 31.59375 64.796875 \r\nz\r\nM 9.8125 72.90625 \r\nL 30.078125 72.90625 \r\nQ 51.265625 72.90625 61.171875 64.09375 \r\nQ 71.09375 55.28125 71.09375 36.53125 \r\nQ 71.09375 17.671875 61.125 8.828125 \r\nQ 51.171875 0 30.078125 0 \r\nL 9.8125 0 \r\nz\r\n\" id=\"DejaVuSans-68\"/>\r\n      <path d=\"M 9.8125 72.90625 \r\nL 19.671875 72.90625 \r\nL 19.671875 0 \r\nL 9.8125 0 \r\nz\r\n\" id=\"DejaVuSans-73\"/>\r\n     </defs>\r\n     <use xlink:href=\"#DejaVuSans-70\"/>\r\n     <use x=\"52.019531\" xlink:href=\"#DejaVuSans-101\"/>\r\n     <use x=\"113.542969\" xlink:href=\"#DejaVuSans-97\"/>\r\n     <use x=\"174.822266\" xlink:href=\"#DejaVuSans-116\"/>\r\n     <use x=\"214.03125\" xlink:href=\"#DejaVuSans-117\"/>\r\n     <use x=\"277.410156\" xlink:href=\"#DejaVuSans-114\"/>\r\n     <use x=\"316.273438\" xlink:href=\"#DejaVuSans-101\"/>\r\n     <use x=\"377.796875\" xlink:href=\"#DejaVuSans-32\"/>\r\n     <use x=\"409.583984\" xlink:href=\"#DejaVuSans-105\"/>\r\n     <use x=\"437.367188\" xlink:href=\"#DejaVuSans-109\"/>\r\n     <use x=\"534.779297\" xlink:href=\"#DejaVuSans-112\"/>\r\n     <use x=\"598.255859\" xlink:href=\"#DejaVuSans-111\"/>\r\n     <use x=\"659.4375\" xlink:href=\"#DejaVuSans-114\"/>\r\n     <use x=\"700.550781\" xlink:href=\"#DejaVuSans-116\"/>\r\n     <use x=\"739.759766\" xlink:href=\"#DejaVuSans-97\"/>\r\n     <use x=\"801.039062\" xlink:href=\"#DejaVuSans-110\"/>\r\n     <use x=\"864.417969\" xlink:href=\"#DejaVuSans-99\"/>\r\n     <use x=\"919.398438\" xlink:href=\"#DejaVuSans-101\"/>\r\n     <use x=\"980.921875\" xlink:href=\"#DejaVuSans-115\"/>\r\n     <use x=\"1033.021484\" xlink:href=\"#DejaVuSans-32\"/>\r\n     <use x=\"1064.808594\" xlink:href=\"#DejaVuSans-117\"/>\r\n     <use x=\"1128.1875\" xlink:href=\"#DejaVuSans-115\"/>\r\n     <use x=\"1180.287109\" xlink:href=\"#DejaVuSans-105\"/>\r\n     <use x=\"1208.070312\" xlink:href=\"#DejaVuSans-110\"/>\r\n     <use x=\"1271.449219\" xlink:href=\"#DejaVuSans-103\"/>\r\n     <use x=\"1334.925781\" xlink:href=\"#DejaVuSans-32\"/>\r\n     <use x=\"1366.712891\" xlink:href=\"#DejaVuSans-77\"/>\r\n     <use x=\"1452.992188\" xlink:href=\"#DejaVuSans-68\"/>\r\n     <use x=\"1529.994141\" xlink:href=\"#DejaVuSans-73\"/>\r\n    </g>\r\n   </g>\r\n  </g>\r\n </g>\r\n <defs>\r\n  <clipPath id=\"pa0823abaff\">\r\n   <rect height=\"156.275\" width=\"366.769602\" x=\"50.14375\" y=\"22.318125\"/>\r\n  </clipPath>\r\n </defs>\r\n</svg>\r\n",
      "image/png": "[encoded data removed]"
     },
     "metadata": {
      "needs_background": "light"
     }
    }
   ],
   "source": [
    "import pandas as pd\n",
    "import matplotlib.pyplot as plt\n",
    "\n",
    "feature_names = X_train.columns\n",
    "\n",
    "forest_importances = pd.Series(importances, index=feature_names)\n",
    "\n",
    "fig, ax = plt.subplots()\n",
    "forest_importances.plot.bar(yerr=std, ax=ax)\n",
    "ax.set_title(\"Feature importances using MDI\")\n",
    "ax.set_ylabel(\"Mean decrease in impurity\")\n",
    "fig.tight_layout()"
   ]
  },
  {
   "cell_type": "code",
   "execution_count": 28,
   "metadata": {
    "tags": []
   },
   "outputs": [
    {
     "output_type": "stream",
     "name": "stdout",
     "text": [
      "Epoch 1/100\n",
      "892/892 [==============================] - 2s 2ms/step - loss: 0.3319 - accuracy: 0.8849\n",
      "Epoch 2/100\n",
      "892/892 [==============================] - 2s 2ms/step - loss: 0.2920 - accuracy: 0.9003\n",
      "Epoch 3/100\n",
      "892/892 [==============================] - 2s 2ms/step - loss: 0.2832 - accuracy: 0.9032\n",
      "Epoch 4/100\n",
      "892/892 [==============================] - 2s 2ms/step - loss: 0.2768 - accuracy: 0.9069\n",
      "Epoch 5/100\n",
      "892/892 [==============================] - 2s 2ms/step - loss: 0.2720 - accuracy: 0.9087\n",
      "Epoch 6/100\n",
      "892/892 [==============================] - 2s 2ms/step - loss: 0.2695 - accuracy: 0.9092\n",
      "Epoch 7/100\n",
      "892/892 [==============================] - 2s 2ms/step - loss: 0.2667 - accuracy: 0.9097\n",
      "Epoch 8/100\n",
      "892/892 [==============================] - 2s 2ms/step - loss: 0.2653 - accuracy: 0.9097\n",
      "Epoch 9/100\n",
      "892/892 [==============================] - 2s 2ms/step - loss: 0.2640 - accuracy: 0.9100\n",
      "Epoch 10/100\n",
      "892/892 [==============================] - 2s 2ms/step - loss: 0.2627 - accuracy: 0.9098\n",
      "Epoch 11/100\n",
      "892/892 [==============================] - 2s 2ms/step - loss: 0.2611 - accuracy: 0.9105\n",
      "Epoch 12/100\n",
      "892/892 [==============================] - 2s 2ms/step - loss: 0.2610 - accuracy: 0.9103\n",
      "Epoch 13/100\n",
      "892/892 [==============================] - 2s 2ms/step - loss: 0.2600 - accuracy: 0.9103\n",
      "Epoch 14/100\n",
      "892/892 [==============================] - 2s 2ms/step - loss: 0.2593 - accuracy: 0.9103\n",
      "Epoch 15/100\n",
      "892/892 [==============================] - 2s 2ms/step - loss: 0.2592 - accuracy: 0.9103\n",
      "Epoch 16/100\n",
      "892/892 [==============================] - 2s 2ms/step - loss: 0.2583 - accuracy: 0.9105\n",
      "Epoch 17/100\n",
      "892/892 [==============================] - 2s 2ms/step - loss: 0.2574 - accuracy: 0.9102\n",
      "Epoch 18/100\n",
      "892/892 [==============================] - 2s 2ms/step - loss: 0.2574 - accuracy: 0.9102\n",
      "Epoch 19/100\n",
      "892/892 [==============================] - 2s 2ms/step - loss: 0.2564 - accuracy: 0.9103\n",
      "Epoch 20/100\n",
      "892/892 [==============================] - 2s 2ms/step - loss: 0.2567 - accuracy: 0.9108\n",
      "Epoch 21/100\n",
      "892/892 [==============================] - 2s 2ms/step - loss: 0.2561 - accuracy: 0.9109\n",
      "Epoch 22/100\n",
      "892/892 [==============================] - 2s 2ms/step - loss: 0.2553 - accuracy: 0.9110\n",
      "Epoch 23/100\n",
      "892/892 [==============================] - 2s 2ms/step - loss: 0.2550 - accuracy: 0.9107\n",
      "Epoch 24/100\n",
      "892/892 [==============================] - 2s 2ms/step - loss: 0.2549 - accuracy: 0.9107\n",
      "Epoch 25/100\n",
      "892/892 [==============================] - 2s 2ms/step - loss: 0.2552 - accuracy: 0.9103\n",
      "Epoch 26/100\n",
      "892/892 [==============================] - 2s 2ms/step - loss: 0.2541 - accuracy: 0.9107\n",
      "Epoch 27/100\n",
      "892/892 [==============================] - 2s 2ms/step - loss: 0.2546 - accuracy: 0.9107\n",
      "Epoch 28/100\n",
      "892/892 [==============================] - 2s 2ms/step - loss: 0.2538 - accuracy: 0.9111\n",
      "Epoch 29/100\n",
      "892/892 [==============================] - 2s 2ms/step - loss: 0.2533 - accuracy: 0.9107\n",
      "Epoch 30/100\n",
      "892/892 [==============================] - 2s 2ms/step - loss: 0.2533 - accuracy: 0.9104\n",
      "Epoch 31/100\n",
      "892/892 [==============================] - 2s 2ms/step - loss: 0.2536 - accuracy: 0.9102\n",
      "Epoch 32/100\n",
      "892/892 [==============================] - 2s 2ms/step - loss: 0.2528 - accuracy: 0.9114\n",
      "Epoch 33/100\n",
      "892/892 [==============================] - 2s 2ms/step - loss: 0.2529 - accuracy: 0.9105\n",
      "Epoch 34/100\n",
      "892/892 [==============================] - 2s 2ms/step - loss: 0.2528 - accuracy: 0.9116\n",
      "Epoch 35/100\n",
      "892/892 [==============================] - 2s 2ms/step - loss: 0.2523 - accuracy: 0.9112\n",
      "Epoch 36/100\n",
      "892/892 [==============================] - 2s 2ms/step - loss: 0.2525 - accuracy: 0.9105\n",
      "Epoch 37/100\n",
      "892/892 [==============================] - 2s 2ms/step - loss: 0.2526 - accuracy: 0.9106\n",
      "Epoch 38/100\n",
      "892/892 [==============================] - 2s 2ms/step - loss: 0.2522 - accuracy: 0.9102\n",
      "Epoch 39/100\n",
      "892/892 [==============================] - 2s 2ms/step - loss: 0.2517 - accuracy: 0.9106\n",
      "Epoch 40/100\n",
      "892/892 [==============================] - 2s 2ms/step - loss: 0.2516 - accuracy: 0.9104\n",
      "Epoch 41/100\n",
      "892/892 [==============================] - 2s 2ms/step - loss: 0.2512 - accuracy: 0.9109\n",
      "Epoch 42/100\n",
      "892/892 [==============================] - 2s 2ms/step - loss: 0.2513 - accuracy: 0.9110\n",
      "Epoch 43/100\n",
      "892/892 [==============================] - 2s 2ms/step - loss: 0.2511 - accuracy: 0.9115\n",
      "Epoch 44/100\n",
      "892/892 [==============================] - 2s 2ms/step - loss: 0.2510 - accuracy: 0.9108\n",
      "Epoch 45/100\n",
      "892/892 [==============================] - 2s 2ms/step - loss: 0.2512 - accuracy: 0.9099\n",
      "Epoch 46/100\n",
      "892/892 [==============================] - 2s 2ms/step - loss: 0.2508 - accuracy: 0.9103\n",
      "Epoch 47/100\n",
      "892/892 [==============================] - 1s 2ms/step - loss: 0.2510 - accuracy: 0.9104\n",
      "Epoch 48/100\n",
      "892/892 [==============================] - 2s 2ms/step - loss: 0.2509 - accuracy: 0.9107\n",
      "Epoch 49/100\n",
      "892/892 [==============================] - 2s 2ms/step - loss: 0.2503 - accuracy: 0.9109\n",
      "Epoch 50/100\n",
      "892/892 [==============================] - 2s 2ms/step - loss: 0.2499 - accuracy: 0.9115\n",
      "Epoch 51/100\n",
      "892/892 [==============================] - 2s 2ms/step - loss: 0.2505 - accuracy: 0.9104\n",
      "Epoch 52/100\n",
      "892/892 [==============================] - 2s 2ms/step - loss: 0.2498 - accuracy: 0.9110\n",
      "Epoch 53/100\n",
      "892/892 [==============================] - 2s 2ms/step - loss: 0.2502 - accuracy: 0.9116\n",
      "Epoch 54/100\n",
      "892/892 [==============================] - 2s 2ms/step - loss: 0.2501 - accuracy: 0.9102\n",
      "Epoch 55/100\n",
      "892/892 [==============================] - 2s 2ms/step - loss: 0.2495 - accuracy: 0.9109\n",
      "Epoch 56/100\n",
      "892/892 [==============================] - 2s 2ms/step - loss: 0.2498 - accuracy: 0.9106\n",
      "Epoch 57/100\n",
      "892/892 [==============================] - 2s 2ms/step - loss: 0.2500 - accuracy: 0.9112\n",
      "Epoch 58/100\n",
      "892/892 [==============================] - 2s 2ms/step - loss: 0.2494 - accuracy: 0.9111\n",
      "Epoch 59/100\n",
      "892/892 [==============================] - 2s 2ms/step - loss: 0.2491 - accuracy: 0.9115\n",
      "Epoch 60/100\n",
      "892/892 [==============================] - 2s 2ms/step - loss: 0.2500 - accuracy: 0.9107\n",
      "Epoch 61/100\n",
      "892/892 [==============================] - 2s 2ms/step - loss: 0.2490 - accuracy: 0.9110\n",
      "Epoch 62/100\n",
      "892/892 [==============================] - 2s 2ms/step - loss: 0.2487 - accuracy: 0.9117\n",
      "Epoch 63/100\n",
      "892/892 [==============================] - 2s 2ms/step - loss: 0.2489 - accuracy: 0.9105\n",
      "Epoch 64/100\n",
      "892/892 [==============================] - 2s 2ms/step - loss: 0.2484 - accuracy: 0.9108\n",
      "Epoch 65/100\n",
      "892/892 [==============================] - 2s 2ms/step - loss: 0.2489 - accuracy: 0.9108\n",
      "Epoch 66/100\n",
      "892/892 [==============================] - 2s 2ms/step - loss: 0.2487 - accuracy: 0.9113\n",
      "Epoch 67/100\n",
      "892/892 [==============================] - 2s 2ms/step - loss: 0.2488 - accuracy: 0.9111\n",
      "Epoch 68/100\n",
      "892/892 [==============================] - 2s 2ms/step - loss: 0.2481 - accuracy: 0.9117\n",
      "Epoch 69/100\n",
      "892/892 [==============================] - 2s 2ms/step - loss: 0.2482 - accuracy: 0.9116\n",
      "Epoch 70/100\n",
      "892/892 [==============================] - 2s 2ms/step - loss: 0.2484 - accuracy: 0.9114\n",
      "Epoch 71/100\n",
      "892/892 [==============================] - 2s 2ms/step - loss: 0.2476 - accuracy: 0.9112\n",
      "Epoch 72/100\n",
      "892/892 [==============================] - 2s 2ms/step - loss: 0.2477 - accuracy: 0.9109\n",
      "Epoch 73/100\n",
      "892/892 [==============================] - 2s 2ms/step - loss: 0.2483 - accuracy: 0.9110\n",
      "Epoch 74/100\n",
      "892/892 [==============================] - 2s 2ms/step - loss: 0.2479 - accuracy: 0.9116\n",
      "Epoch 75/100\n",
      "892/892 [==============================] - 2s 2ms/step - loss: 0.2478 - accuracy: 0.9111\n",
      "Epoch 76/100\n",
      "892/892 [==============================] - 2s 2ms/step - loss: 0.2477 - accuracy: 0.9119\n",
      "Epoch 77/100\n",
      "892/892 [==============================] - 2s 2ms/step - loss: 0.2479 - accuracy: 0.9112\n",
      "Epoch 78/100\n",
      "892/892 [==============================] - 2s 2ms/step - loss: 0.2473 - accuracy: 0.9119\n",
      "Epoch 79/100\n",
      "892/892 [==============================] - 2s 2ms/step - loss: 0.2481 - accuracy: 0.9112\n",
      "Epoch 80/100\n",
      "892/892 [==============================] - 2s 2ms/step - loss: 0.2475 - accuracy: 0.9109\n",
      "Epoch 81/100\n",
      "892/892 [==============================] - 2s 2ms/step - loss: 0.2473 - accuracy: 0.9119\n",
      "Epoch 82/100\n",
      "892/892 [==============================] - 2s 2ms/step - loss: 0.2472 - accuracy: 0.9116\n",
      "Epoch 83/100\n",
      "892/892 [==============================] - 2s 2ms/step - loss: 0.2471 - accuracy: 0.9107\n",
      "Epoch 84/100\n",
      "892/892 [==============================] - 2s 2ms/step - loss: 0.2464 - accuracy: 0.9116\n",
      "Epoch 85/100\n",
      "892/892 [==============================] - 2s 2ms/step - loss: 0.2476 - accuracy: 0.9111\n",
      "Epoch 86/100\n",
      "892/892 [==============================] - 2s 2ms/step - loss: 0.2468 - accuracy: 0.9110\n",
      "Epoch 87/100\n",
      "892/892 [==============================] - 2s 2ms/step - loss: 0.2469 - accuracy: 0.9117\n",
      "Epoch 88/100\n",
      "892/892 [==============================] - 2s 2ms/step - loss: 0.2464 - accuracy: 0.9116\n",
      "Epoch 89/100\n",
      "892/892 [==============================] - 2s 2ms/step - loss: 0.2472 - accuracy: 0.9110\n",
      "Epoch 90/100\n",
      "892/892 [==============================] - 2s 2ms/step - loss: 0.2462 - accuracy: 0.9119\n",
      "Epoch 91/100\n",
      "892/892 [==============================] - 2s 2ms/step - loss: 0.2466 - accuracy: 0.9107\n",
      "Epoch 92/100\n",
      "892/892 [==============================] - 2s 2ms/step - loss: 0.2464 - accuracy: 0.9122\n",
      "Epoch 93/100\n",
      "892/892 [==============================] - 2s 2ms/step - loss: 0.2466 - accuracy: 0.9108\n",
      "Epoch 94/100\n",
      "892/892 [==============================] - 2s 2ms/step - loss: 0.2464 - accuracy: 0.9108\n",
      "Epoch 95/100\n",
      "892/892 [==============================] - 2s 2ms/step - loss: 0.2465 - accuracy: 0.9117\n",
      "Epoch 96/100\n",
      "892/892 [==============================] - 2s 2ms/step - loss: 0.2462 - accuracy: 0.9119\n",
      "Epoch 97/100\n",
      "892/892 [==============================] - 2s 2ms/step - loss: 0.2466 - accuracy: 0.9117\n",
      "Epoch 98/100\n",
      "892/892 [==============================] - 2s 2ms/step - loss: 0.2460 - accuracy: 0.9120\n",
      "Epoch 99/100\n",
      "892/892 [==============================] - 2s 2ms/step - loss: 0.2461 - accuracy: 0.9119\n",
      "Epoch 100/100\n",
      "892/892 [==============================] - 2s 2ms/step - loss: 0.2459 - accuracy: 0.9114\n",
      "298/298 - 0s - loss: 0.2752 - accuracy: 0.9085\n",
      "Loss: 0.2751513719558716, Accuracy: 0.9084692001342773\n"
     ]
    }
   ],
   "source": [
    "# Define the model - deep neural net\n",
    "number_input_features = len(X_train_scaled[0])\n",
    "hidden_nodes_layer1 =  24\n",
    "hidden_nodes_layer2 = 12\n",
    "\n",
    "nn = tf.keras.models.Sequential()\n",
    "\n",
    "# First hidden layer\n",
    "nn.add(\n",
    "    tf.keras.layers.Dense(units=hidden_nodes_layer1, input_dim=number_input_features, activation=\"relu\")\n",
    ")\n",
    "\n",
    "# Second hidden layer\n",
    "nn.add(tf.keras.layers.Dense(units=hidden_nodes_layer2, activation=\"relu\"))\n",
    "\n",
    "\n",
    "# Output layer\n",
    "nn.add(tf.keras.layers.Dense(units=1, activation=\"sigmoid\"))\n",
    "\n",
    "# Compile the Sequential model together and customize metrics\n",
    "nn.compile(loss=\"binary_crossentropy\", optimizer=\"adam\", metrics=[\"accuracy\"])\n",
    "\n",
    "# Train the model\n",
    "fit_model = nn.fit(X_train_scaled, y_train, epochs=100)\n",
    "\n",
    "# Evaluate the model using the test data\n",
    "model_loss, model_accuracy = nn.evaluate(X_test_scaled,y_test,verbose=2)\n",
    "print(f\"Loss: {model_loss}, Accuracy: {model_accuracy}\")"
   ]
  },
  {
   "cell_type": "code",
   "execution_count": 33,
   "metadata": {},
   "outputs": [
    {
     "output_type": "stream",
     "name": "stdout",
     "text": [
      "WARNING:tensorflow:From <ipython-input-33-b96eefa84d85>:1: Sequential.predict_classes (from tensorflow.python.keras.engine.sequential) is deprecated and will be removed after 2021-01-01.\nInstructions for updating:\nPlease use instead:* `np.argmax(model.predict(x), axis=-1)`,   if your model does multi-class classification   (e.g. if it uses a `softmax` last-layer activation).* `(model.predict(x) > 0.5).astype(\"int32\")`,   if your model does binary classification   (e.g. if it uses a `sigmoid` last-layer activation).\n"
     ]
    }
   ],
   "source": [
    "predictions = nn.predict_classes(X_test_scaled)"
   ]
  },
  {
   "cell_type": "code",
   "execution_count": 34,
   "metadata": {},
   "outputs": [
    {
     "output_type": "execute_result",
     "data": {
      "text/plain": [
       "array([[0],\n",
       "       [0],\n",
       "       [0],\n",
       "       ...,\n",
       "       [0],\n",
       "       [0],\n",
       "       [0]])"
      ]
     },
     "metadata": {},
     "execution_count": 34
    }
   ],
   "source": [
    "predictions"
   ]
  },
  {
   "cell_type": "code",
   "execution_count": 35,
   "metadata": {},
   "outputs": [
    {
     "output_type": "stream",
     "name": "stdout",
     "text": [
      "Confusion Matrix\n"
     ]
    },
    {
     "output_type": "display_data",
     "data": {
      "text/plain": "          Predicted 0  Predicted 1\nActual 0         8467           79\nActual 1          791          168",
      "text/html": "<div>\n<style scoped>\n    .dataframe tbody tr th:only-of-type {\n        vertical-align: middle;\n    }\n\n    .dataframe tbody tr th {\n        vertical-align: top;\n    }\n\n    .dataframe thead th {\n        text-align: right;\n    }\n</style>\n<table border=\"1\" class=\"dataframe\">\n  <thead>\n    <tr style=\"text-align: right;\">\n      <th></th>\n      <th>Predicted 0</th>\n      <th>Predicted 1</th>\n    </tr>\n  </thead>\n  <tbody>\n    <tr>\n      <th>Actual 0</th>\n      <td>8467</td>\n      <td>79</td>\n    </tr>\n    <tr>\n      <th>Actual 1</th>\n      <td>791</td>\n      <td>168</td>\n    </tr>\n  </tbody>\n</table>\n</div>"
     },
     "metadata": {}
    },
    {
     "output_type": "stream",
     "name": "stdout",
     "text": [
      "Accuracy Score : 0.9084692267227775\nClassification Report\n              precision    recall  f1-score   support\n\n           0       0.91      0.99      0.95      8546\n           1       0.68      0.18      0.28       959\n\n    accuracy                           0.91      9505\n   macro avg       0.80      0.58      0.61      9505\nweighted avg       0.89      0.91      0.88      9505\n\n"
     ]
    }
   ],
   "source": [
    "cm = confusion_matrix(y_test, predictions)\n",
    "cm_df = pd.DataFrame(\n",
    "    cm, index=[\"Actual 0\", \"Actual 1\"], columns=[\"Predicted 0\", \"Predicted 1\"])\n",
    "\n",
    "acc_score = accuracy_score(y_test, predictions)\n",
    "print(\"Confusion Matrix\")\n",
    "display(cm_df)\n",
    "print(f\"Accuracy Score : {acc_score}\")\n",
    "print(\"Classification Report\")\n",
    "print(classification_report(y_test, predictions))"
   ]
  },
  {
   "cell_type": "code",
   "execution_count": 28,
   "metadata": {},
   "outputs": [
    {
     "output_type": "execute_result",
     "data": {
      "text/plain": [
       "['loss', 'accuracy']"
      ]
     },
     "metadata": {},
     "execution_count": 28
    }
   ],
   "source": [
    "nn.metrics_names"
   ]
  },
  {
   "cell_type": "code",
   "execution_count": 34,
   "metadata": {},
   "outputs": [
    {
     "output_type": "execute_result",
     "data": {
      "text/plain": [
       "34.92999999999999"
      ]
     },
     "metadata": {},
     "execution_count": 34
    }
   ],
   "source": [
    "df.Avg_viewer_ratio.quantile(.70)"
   ]
  },
  {
   "cell_type": "code",
   "execution_count": null,
   "metadata": {},
   "outputs": [],
   "source": []
  }
 ]
}