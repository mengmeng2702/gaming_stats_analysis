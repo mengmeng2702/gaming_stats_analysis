{
 "metadata": {
  "language_info": {
   "codemirror_mode": {
    "name": "ipython",
    "version": 3
   },
   "file_extension": ".py",
   "mimetype": "text/x-python",
   "name": "python",
   "nbconvert_exporter": "python",
   "pygments_lexer": "ipython3",
   "version": "3.7.9"
  },
  "orig_nbformat": 2,
  "kernelspec": {
   "name": "python379jvsc74a57bd07d9cab6077ee277ff644ce2bf4be7e3fa172d69c64a6c9383e88e0197aa07a9c",
   "display_name": "Python 3.7.9 64-bit ('mlenv': conda)"
  }
 },
 "nbformat": 4,
 "nbformat_minor": 2,
 "cells": [
  {
   "cell_type": "code",
   "execution_count": 1,
   "metadata": {},
   "outputs": [],
   "source": [
    "# Import dependencies\n",
    "import pandas as pd"
   ]
  },
  {
   "cell_type": "code",
   "execution_count": 2,
   "metadata": {},
   "outputs": [
    {
     "output_type": "execute_result",
     "data": {
      "text/plain": [
       "               appid        review      voted_up  english  achievements  \\\n",
       "count   38020.000000  38020.000000  38020.000000  38020.0  38020.000000   \n",
       "mean   300102.720410    207.664203      0.838133      1.0     50.120700   \n",
       "std    175274.299389    843.033299      0.168222      0.0     94.506685   \n",
       "min        10.000000      1.000000      0.000000      1.0      0.000000   \n",
       "25%    219890.000000     18.000000      0.777778      1.0     11.000000   \n",
       "50%    283640.000000     47.000000      0.888889      1.0     34.000000   \n",
       "75%    394442.500000    132.000000      0.951613      1.0     59.000000   \n",
       "max    977950.000000  35868.000000      1.000000      1.0   1708.000000   \n",
       "\n",
       "        recommended            2d        action     adventure   atmospheric  \\\n",
       "count  38020.000000  38020.000000  38020.000000  38020.000000  38020.000000   \n",
       "mean       0.636796     58.840952    368.733719    242.843004    149.996633   \n",
       "std        0.480929    304.678195   1122.927974    756.449969    467.596711   \n",
       "min        0.000000      0.000000      0.000000      0.000000      0.000000   \n",
       "25%        0.000000      0.000000      8.000000      0.000000      0.000000   \n",
       "50%        1.000000      0.000000    111.000000     69.000000      9.000000   \n",
       "75%        1.000000     15.000000    305.000000    202.000000    123.000000   \n",
       "max        1.000000   5626.000000  17561.000000  10503.000000   8126.000000   \n",
       "\n",
       "       ...  tw_Unnamed: 0       tw_Rank  tw_Hours_watched  tw_Hours_Streamed  \\\n",
       "count  ...   3.802000e+04  38020.000000      3.802000e+04       3.802000e+04   \n",
       "mean   ...   5.533201e+05   2913.497396      1.644701e+07       5.894537e+05   \n",
       "std    ...   3.221961e+05   3139.223900      1.840185e+08       4.064842e+06   \n",
       "min    ...   1.000000e+00      1.000000      0.000000e+00       6.000000e+01   \n",
       "25%    ...   2.764732e+05    746.000000      6.724500e+04       1.140000e+04   \n",
       "50%    ...   5.570295e+05   1854.000000      3.870900e+05       3.828000e+04   \n",
       "75%    ...   8.303770e+05   3955.250000      2.428005e+06       1.756500e+05   \n",
       "max    ...   1.115592e+06  21713.000000      1.142811e+10       1.443277e+08   \n",
       "\n",
       "       tw_Peak_viewers  tw_Peak_channels   tw_Streamers  tw_Avg_viewers  \\\n",
       "count     3.802000e+04      38020.000000   38020.000000    38020.000000   \n",
       "mean      5.551302e+03         35.397186    1376.192267      375.830195   \n",
       "std       2.710217e+04        188.513475    7562.134932     4215.819902   \n",
       "min       0.000000e+00          1.000000       0.000000        0.000000   \n",
       "25%       9.100000e+01          3.000000      49.000000        1.000000   \n",
       "50%       5.620000e+02          6.000000     160.000000        8.000000   \n",
       "75%       3.168000e+03         17.000000     659.250000       55.000000   \n",
       "max       1.373791e+06       6530.000000  252217.000000   256350.000000   \n",
       "\n",
       "       tw_Avg_channels  tw_Avg_viewer_ratio  \n",
       "count     38020.000000         38020.000000  \n",
       "mean         13.075802            18.317769  \n",
       "std          92.882572            49.912067  \n",
       "min           0.000000             0.000000  \n",
       "25%           0.000000             4.040000  \n",
       "50%           0.000000             7.950000  \n",
       "75%           4.000000            16.800000  \n",
       "max        3237.000000          2261.000000  \n",
       "\n",
       "[8 rows x 48 columns]"
      ],
      "text/html": "<div>\n<style scoped>\n    .dataframe tbody tr th:only-of-type {\n        vertical-align: middle;\n    }\n\n    .dataframe tbody tr th {\n        vertical-align: top;\n    }\n\n    .dataframe thead th {\n        text-align: right;\n    }\n</style>\n<table border=\"1\" class=\"dataframe\">\n  <thead>\n    <tr style=\"text-align: right;\">\n      <th></th>\n      <th>appid</th>\n      <th>review</th>\n      <th>voted_up</th>\n      <th>english</th>\n      <th>achievements</th>\n      <th>recommended</th>\n      <th>2d</th>\n      <th>action</th>\n      <th>adventure</th>\n      <th>atmospheric</th>\n      <th>...</th>\n      <th>tw_Unnamed: 0</th>\n      <th>tw_Rank</th>\n      <th>tw_Hours_watched</th>\n      <th>tw_Hours_Streamed</th>\n      <th>tw_Peak_viewers</th>\n      <th>tw_Peak_channels</th>\n      <th>tw_Streamers</th>\n      <th>tw_Avg_viewers</th>\n      <th>tw_Avg_channels</th>\n      <th>tw_Avg_viewer_ratio</th>\n    </tr>\n  </thead>\n  <tbody>\n    <tr>\n      <th>count</th>\n      <td>38020.000000</td>\n      <td>38020.000000</td>\n      <td>38020.000000</td>\n      <td>38020.0</td>\n      <td>38020.000000</td>\n      <td>38020.000000</td>\n      <td>38020.000000</td>\n      <td>38020.000000</td>\n      <td>38020.000000</td>\n      <td>38020.000000</td>\n      <td>...</td>\n      <td>3.802000e+04</td>\n      <td>38020.000000</td>\n      <td>3.802000e+04</td>\n      <td>3.802000e+04</td>\n      <td>3.802000e+04</td>\n      <td>38020.000000</td>\n      <td>38020.000000</td>\n      <td>38020.000000</td>\n      <td>38020.000000</td>\n      <td>38020.000000</td>\n    </tr>\n    <tr>\n      <th>mean</th>\n      <td>300102.720410</td>\n      <td>207.664203</td>\n      <td>0.838133</td>\n      <td>1.0</td>\n      <td>50.120700</td>\n      <td>0.636796</td>\n      <td>58.840952</td>\n      <td>368.733719</td>\n      <td>242.843004</td>\n      <td>149.996633</td>\n      <td>...</td>\n      <td>5.533201e+05</td>\n      <td>2913.497396</td>\n      <td>1.644701e+07</td>\n      <td>5.894537e+05</td>\n      <td>5.551302e+03</td>\n      <td>35.397186</td>\n      <td>1376.192267</td>\n      <td>375.830195</td>\n      <td>13.075802</td>\n      <td>18.317769</td>\n    </tr>\n    <tr>\n      <th>std</th>\n      <td>175274.299389</td>\n      <td>843.033299</td>\n      <td>0.168222</td>\n      <td>0.0</td>\n      <td>94.506685</td>\n      <td>0.480929</td>\n      <td>304.678195</td>\n      <td>1122.927974</td>\n      <td>756.449969</td>\n      <td>467.596711</td>\n      <td>...</td>\n      <td>3.221961e+05</td>\n      <td>3139.223900</td>\n      <td>1.840185e+08</td>\n      <td>4.064842e+06</td>\n      <td>2.710217e+04</td>\n      <td>188.513475</td>\n      <td>7562.134932</td>\n      <td>4215.819902</td>\n      <td>92.882572</td>\n      <td>49.912067</td>\n    </tr>\n    <tr>\n      <th>min</th>\n      <td>10.000000</td>\n      <td>1.000000</td>\n      <td>0.000000</td>\n      <td>1.0</td>\n      <td>0.000000</td>\n      <td>0.000000</td>\n      <td>0.000000</td>\n      <td>0.000000</td>\n      <td>0.000000</td>\n      <td>0.000000</td>\n      <td>...</td>\n      <td>1.000000e+00</td>\n      <td>1.000000</td>\n      <td>0.000000e+00</td>\n      <td>6.000000e+01</td>\n      <td>0.000000e+00</td>\n      <td>1.000000</td>\n      <td>0.000000</td>\n      <td>0.000000</td>\n      <td>0.000000</td>\n      <td>0.000000</td>\n    </tr>\n    <tr>\n      <th>25%</th>\n      <td>219890.000000</td>\n      <td>18.000000</td>\n      <td>0.777778</td>\n      <td>1.0</td>\n      <td>11.000000</td>\n      <td>0.000000</td>\n      <td>0.000000</td>\n      <td>8.000000</td>\n      <td>0.000000</td>\n      <td>0.000000</td>\n      <td>...</td>\n      <td>2.764732e+05</td>\n      <td>746.000000</td>\n      <td>6.724500e+04</td>\n      <td>1.140000e+04</td>\n      <td>9.100000e+01</td>\n      <td>3.000000</td>\n      <td>49.000000</td>\n      <td>1.000000</td>\n      <td>0.000000</td>\n      <td>4.040000</td>\n    </tr>\n    <tr>\n      <th>50%</th>\n      <td>283640.000000</td>\n      <td>47.000000</td>\n      <td>0.888889</td>\n      <td>1.0</td>\n      <td>34.000000</td>\n      <td>1.000000</td>\n      <td>0.000000</td>\n      <td>111.000000</td>\n      <td>69.000000</td>\n      <td>9.000000</td>\n      <td>...</td>\n      <td>5.570295e+05</td>\n      <td>1854.000000</td>\n      <td>3.870900e+05</td>\n      <td>3.828000e+04</td>\n      <td>5.620000e+02</td>\n      <td>6.000000</td>\n      <td>160.000000</td>\n      <td>8.000000</td>\n      <td>0.000000</td>\n      <td>7.950000</td>\n    </tr>\n    <tr>\n      <th>75%</th>\n      <td>394442.500000</td>\n      <td>132.000000</td>\n      <td>0.951613</td>\n      <td>1.0</td>\n      <td>59.000000</td>\n      <td>1.000000</td>\n      <td>15.000000</td>\n      <td>305.000000</td>\n      <td>202.000000</td>\n      <td>123.000000</td>\n      <td>...</td>\n      <td>8.303770e+05</td>\n      <td>3955.250000</td>\n      <td>2.428005e+06</td>\n      <td>1.756500e+05</td>\n      <td>3.168000e+03</td>\n      <td>17.000000</td>\n      <td>659.250000</td>\n      <td>55.000000</td>\n      <td>4.000000</td>\n      <td>16.800000</td>\n    </tr>\n    <tr>\n      <th>max</th>\n      <td>977950.000000</td>\n      <td>35868.000000</td>\n      <td>1.000000</td>\n      <td>1.0</td>\n      <td>1708.000000</td>\n      <td>1.000000</td>\n      <td>5626.000000</td>\n      <td>17561.000000</td>\n      <td>10503.000000</td>\n      <td>8126.000000</td>\n      <td>...</td>\n      <td>1.115592e+06</td>\n      <td>21713.000000</td>\n      <td>1.142811e+10</td>\n      <td>1.443277e+08</td>\n      <td>1.373791e+06</td>\n      <td>6530.000000</td>\n      <td>252217.000000</td>\n      <td>256350.000000</td>\n      <td>3237.000000</td>\n      <td>2261.000000</td>\n    </tr>\n  </tbody>\n</table>\n<p>8 rows × 48 columns</p>\n</div>"
     },
     "metadata": {},
     "execution_count": 2
    }
   ],
   "source": [
    "# Read data source and explore\n",
    "df = pd.read_csv('for_ml_model.csv')\n",
    "df.describe()\n"
   ]
  },
  {
   "cell_type": "code",
   "execution_count": 3,
   "metadata": {},
   "outputs": [
    {
     "output_type": "execute_result",
     "data": {
      "text/plain": [
       "        appid  2d  action  adventure  atmospheric  casual  co_op  difficult  \\\n",
       "0          20   0     208         15            0       0     62          0   \n",
       "1          20   0     208         15            0       0     62          0   \n",
       "2          20   0     208         15            0       0     62          0   \n",
       "3          20   0     208         15            0       0     62          0   \n",
       "4          20   0     208         15            0       0     62          0   \n",
       "...       ...  ..     ...        ...          ...     ...    ...        ...   \n",
       "38015  313120   0     439       1050          404       0    441          0   \n",
       "38016  313120   0     439       1050          404       0    441          0   \n",
       "38017  738060   0       0         46           90       0      0        196   \n",
       "38018  738060   0       0         46           90       0      0        196   \n",
       "38019  738060   0       0         46           90       0      0        196   \n",
       "\n",
       "       fps  first_person  ...  rpg  sandbox  sci_fi  shooter  simulation  \\\n",
       "0      188           109  ...    0        0       0      134           0   \n",
       "1      188           109  ...    0        0       0      134           0   \n",
       "2      188           109  ...    0        0       0      134           0   \n",
       "3      188           109  ...    0        0       0      134           0   \n",
       "4      188           109  ...    0        0       0      134           0   \n",
       "...    ...           ...  ...  ...      ...     ...      ...         ...   \n",
       "38015    0          1066  ...    0      696       0        0         605   \n",
       "38016    0          1066  ...    0      696       0        0         605   \n",
       "38017    0           167  ...    0        0       0        0         262   \n",
       "38018    0           167  ...    0        0       0        0         262   \n",
       "38019    0           167  ...    0        0       0        0         262   \n",
       "\n",
       "       singleplayer  story_rich  strategy  survival  third_person  \n",
       "0                 0           0         0         0             0  \n",
       "1                 0           0         0         0             0  \n",
       "2                 0           0         0         0             0  \n",
       "3                 0           0         0         0             0  \n",
       "4                 0           0         0         0             0  \n",
       "...             ...         ...       ...       ...           ...  \n",
       "38015           873           0       339      2177             0  \n",
       "38016           873           0       339      2177             0  \n",
       "38017           288         149       167         0             0  \n",
       "38018           288         149       167         0             0  \n",
       "38019           288         149       167         0             0  \n",
       "\n",
       "[38020 rows x 25 columns]"
      ],
      "text/html": "<div>\n<style scoped>\n    .dataframe tbody tr th:only-of-type {\n        vertical-align: middle;\n    }\n\n    .dataframe tbody tr th {\n        vertical-align: top;\n    }\n\n    .dataframe thead th {\n        text-align: right;\n    }\n</style>\n<table border=\"1\" class=\"dataframe\">\n  <thead>\n    <tr style=\"text-align: right;\">\n      <th></th>\n      <th>appid</th>\n      <th>2d</th>\n      <th>action</th>\n      <th>adventure</th>\n      <th>atmospheric</th>\n      <th>casual</th>\n      <th>co_op</th>\n      <th>difficult</th>\n      <th>fps</th>\n      <th>first_person</th>\n      <th>...</th>\n      <th>rpg</th>\n      <th>sandbox</th>\n      <th>sci_fi</th>\n      <th>shooter</th>\n      <th>simulation</th>\n      <th>singleplayer</th>\n      <th>story_rich</th>\n      <th>strategy</th>\n      <th>survival</th>\n      <th>third_person</th>\n    </tr>\n  </thead>\n  <tbody>\n    <tr>\n      <th>0</th>\n      <td>20</td>\n      <td>0</td>\n      <td>208</td>\n      <td>15</td>\n      <td>0</td>\n      <td>0</td>\n      <td>62</td>\n      <td>0</td>\n      <td>188</td>\n      <td>109</td>\n      <td>...</td>\n      <td>0</td>\n      <td>0</td>\n      <td>0</td>\n      <td>134</td>\n      <td>0</td>\n      <td>0</td>\n      <td>0</td>\n      <td>0</td>\n      <td>0</td>\n      <td>0</td>\n    </tr>\n    <tr>\n      <th>1</th>\n      <td>20</td>\n      <td>0</td>\n      <td>208</td>\n      <td>15</td>\n      <td>0</td>\n      <td>0</td>\n      <td>62</td>\n      <td>0</td>\n      <td>188</td>\n      <td>109</td>\n      <td>...</td>\n      <td>0</td>\n      <td>0</td>\n      <td>0</td>\n      <td>134</td>\n      <td>0</td>\n      <td>0</td>\n      <td>0</td>\n      <td>0</td>\n      <td>0</td>\n      <td>0</td>\n    </tr>\n    <tr>\n      <th>2</th>\n      <td>20</td>\n      <td>0</td>\n      <td>208</td>\n      <td>15</td>\n      <td>0</td>\n      <td>0</td>\n      <td>62</td>\n      <td>0</td>\n      <td>188</td>\n      <td>109</td>\n      <td>...</td>\n      <td>0</td>\n      <td>0</td>\n      <td>0</td>\n      <td>134</td>\n      <td>0</td>\n      <td>0</td>\n      <td>0</td>\n      <td>0</td>\n      <td>0</td>\n      <td>0</td>\n    </tr>\n    <tr>\n      <th>3</th>\n      <td>20</td>\n      <td>0</td>\n      <td>208</td>\n      <td>15</td>\n      <td>0</td>\n      <td>0</td>\n      <td>62</td>\n      <td>0</td>\n      <td>188</td>\n      <td>109</td>\n      <td>...</td>\n      <td>0</td>\n      <td>0</td>\n      <td>0</td>\n      <td>134</td>\n      <td>0</td>\n      <td>0</td>\n      <td>0</td>\n      <td>0</td>\n      <td>0</td>\n      <td>0</td>\n    </tr>\n    <tr>\n      <th>4</th>\n      <td>20</td>\n      <td>0</td>\n      <td>208</td>\n      <td>15</td>\n      <td>0</td>\n      <td>0</td>\n      <td>62</td>\n      <td>0</td>\n      <td>188</td>\n      <td>109</td>\n      <td>...</td>\n      <td>0</td>\n      <td>0</td>\n      <td>0</td>\n      <td>134</td>\n      <td>0</td>\n      <td>0</td>\n      <td>0</td>\n      <td>0</td>\n      <td>0</td>\n      <td>0</td>\n    </tr>\n    <tr>\n      <th>...</th>\n      <td>...</td>\n      <td>...</td>\n      <td>...</td>\n      <td>...</td>\n      <td>...</td>\n      <td>...</td>\n      <td>...</td>\n      <td>...</td>\n      <td>...</td>\n      <td>...</td>\n      <td>...</td>\n      <td>...</td>\n      <td>...</td>\n      <td>...</td>\n      <td>...</td>\n      <td>...</td>\n      <td>...</td>\n      <td>...</td>\n      <td>...</td>\n      <td>...</td>\n      <td>...</td>\n    </tr>\n    <tr>\n      <th>38015</th>\n      <td>313120</td>\n      <td>0</td>\n      <td>439</td>\n      <td>1050</td>\n      <td>404</td>\n      <td>0</td>\n      <td>441</td>\n      <td>0</td>\n      <td>0</td>\n      <td>1066</td>\n      <td>...</td>\n      <td>0</td>\n      <td>696</td>\n      <td>0</td>\n      <td>0</td>\n      <td>605</td>\n      <td>873</td>\n      <td>0</td>\n      <td>339</td>\n      <td>2177</td>\n      <td>0</td>\n    </tr>\n    <tr>\n      <th>38016</th>\n      <td>313120</td>\n      <td>0</td>\n      <td>439</td>\n      <td>1050</td>\n      <td>404</td>\n      <td>0</td>\n      <td>441</td>\n      <td>0</td>\n      <td>0</td>\n      <td>1066</td>\n      <td>...</td>\n      <td>0</td>\n      <td>696</td>\n      <td>0</td>\n      <td>0</td>\n      <td>605</td>\n      <td>873</td>\n      <td>0</td>\n      <td>339</td>\n      <td>2177</td>\n      <td>0</td>\n    </tr>\n    <tr>\n      <th>38017</th>\n      <td>738060</td>\n      <td>0</td>\n      <td>0</td>\n      <td>46</td>\n      <td>90</td>\n      <td>0</td>\n      <td>0</td>\n      <td>196</td>\n      <td>0</td>\n      <td>167</td>\n      <td>...</td>\n      <td>0</td>\n      <td>0</td>\n      <td>0</td>\n      <td>0</td>\n      <td>262</td>\n      <td>288</td>\n      <td>149</td>\n      <td>167</td>\n      <td>0</td>\n      <td>0</td>\n    </tr>\n    <tr>\n      <th>38018</th>\n      <td>738060</td>\n      <td>0</td>\n      <td>0</td>\n      <td>46</td>\n      <td>90</td>\n      <td>0</td>\n      <td>0</td>\n      <td>196</td>\n      <td>0</td>\n      <td>167</td>\n      <td>...</td>\n      <td>0</td>\n      <td>0</td>\n      <td>0</td>\n      <td>0</td>\n      <td>262</td>\n      <td>288</td>\n      <td>149</td>\n      <td>167</td>\n      <td>0</td>\n      <td>0</td>\n    </tr>\n    <tr>\n      <th>38019</th>\n      <td>738060</td>\n      <td>0</td>\n      <td>0</td>\n      <td>46</td>\n      <td>90</td>\n      <td>0</td>\n      <td>0</td>\n      <td>196</td>\n      <td>0</td>\n      <td>167</td>\n      <td>...</td>\n      <td>0</td>\n      <td>0</td>\n      <td>0</td>\n      <td>0</td>\n      <td>262</td>\n      <td>288</td>\n      <td>149</td>\n      <td>167</td>\n      <td>0</td>\n      <td>0</td>\n    </tr>\n  </tbody>\n</table>\n<p>38020 rows × 25 columns</p>\n</div>"
     },
     "metadata": {},
     "execution_count": 3
    }
   ],
   "source": [
    "# Subset original df with columns of interest (appid and genres)\n",
    "df_genres = df[['appid','2d','action','adventure','atmospheric', 'casual', 'co_op', 'difficult', 'fps',\n",
    "       'first_person', 'funny', 'great_soundtrack', 'indie', 'multiplayer',\n",
    "       'open_world', 'rpg', 'sandbox', 'sci_fi', 'shooter', 'simulation',\n",
    "       'singleplayer', 'story_rich', 'strategy', 'survival', 'third_person']]\n",
    "\n",
    "df_genres   "
   ]
  },
  {
   "cell_type": "code",
   "execution_count": 4,
   "metadata": {},
   "outputs": [
    {
     "output_type": "execute_result",
     "data": {
      "text/plain": [
       "780"
      ]
     },
     "metadata": {},
     "execution_count": 4
    }
   ],
   "source": [
    "# Check number of unique games\n",
    "len(df_genres['appid'].unique())"
   ]
  },
  {
   "cell_type": "code",
   "execution_count": 5,
   "metadata": {},
   "outputs": [
    {
     "output_type": "execute_result",
     "data": {
      "text/plain": [
       "        2d  action  adventure  atmospheric  casual  co_op  difficult   fps  \\\n",
       "appid                                                                        \n",
       "10       0    2681          0            0       0      0          0  2048   \n",
       "20       0     208         15            0       0     62          0   188   \n",
       "30       0      99          0            0       0     12          0   138   \n",
       "50       0     211         87           73       0     27          0   235   \n",
       "70       0     766        306          263       0      0        113   929   \n",
       "...     ..     ...        ...          ...     ...    ...        ...   ...   \n",
       "871720   0     206          0          173       0      0        445     0   \n",
       "905370   0      47          0            0       0      0          0     0   \n",
       "942970   0       0          0            0       0      0          0     0   \n",
       "960090   0       0          0            0       0      0          0     0   \n",
       "977950   0      16          0            0       0      0         29     0   \n",
       "\n",
       "        first_person  funny  ...  rpg  sandbox  sci_fi  shooter  simulation  \\\n",
       "appid                        ...                                              \n",
       "10               799      0  ...    0        0       0     1420           0   \n",
       "20               109     20  ...    0        0       0      134           0   \n",
       "30                50      0  ...    0        0       0       95           0   \n",
       "50               126      0  ...    0        0     166      144           0   \n",
       "70               430      0  ...    0        0     666      503           0   \n",
       "...              ...    ...  ...  ...      ...     ...      ...         ...   \n",
       "871720           360    154  ...    0        0       0        0         133   \n",
       "905370             0      0  ...   40        0       0        0           0   \n",
       "942970             0      0  ...   25        0       0        0          23   \n",
       "960090             0      0  ...    0        0       0        0           0   \n",
       "977950             0      0  ...    0        0       0        0           0   \n",
       "\n",
       "        singleplayer  story_rich  strategy  survival  third_person  \n",
       "appid                                                               \n",
       "10                 0           0       329       192             0  \n",
       "20                 0           0         0         0             0  \n",
       "30                16           0         0         0             0  \n",
       "50               148          40         0         0             0  \n",
       "70               518         322         0         0             0  \n",
       "...              ...         ...       ...       ...           ...  \n",
       "871720           442         181       414       319             0  \n",
       "905370             0           0        41         0             0  \n",
       "942970             0          21         0         0             0  \n",
       "960090            26           0        43         0             0  \n",
       "977950             0           0         0         0             0  \n",
       "\n",
       "[780 rows x 24 columns]"
      ],
      "text/html": "<div>\n<style scoped>\n    .dataframe tbody tr th:only-of-type {\n        vertical-align: middle;\n    }\n\n    .dataframe tbody tr th {\n        vertical-align: top;\n    }\n\n    .dataframe thead th {\n        text-align: right;\n    }\n</style>\n<table border=\"1\" class=\"dataframe\">\n  <thead>\n    <tr style=\"text-align: right;\">\n      <th></th>\n      <th>2d</th>\n      <th>action</th>\n      <th>adventure</th>\n      <th>atmospheric</th>\n      <th>casual</th>\n      <th>co_op</th>\n      <th>difficult</th>\n      <th>fps</th>\n      <th>first_person</th>\n      <th>funny</th>\n      <th>...</th>\n      <th>rpg</th>\n      <th>sandbox</th>\n      <th>sci_fi</th>\n      <th>shooter</th>\n      <th>simulation</th>\n      <th>singleplayer</th>\n      <th>story_rich</th>\n      <th>strategy</th>\n      <th>survival</th>\n      <th>third_person</th>\n    </tr>\n    <tr>\n      <th>appid</th>\n      <th></th>\n      <th></th>\n      <th></th>\n      <th></th>\n      <th></th>\n      <th></th>\n      <th></th>\n      <th></th>\n      <th></th>\n      <th></th>\n      <th></th>\n      <th></th>\n      <th></th>\n      <th></th>\n      <th></th>\n      <th></th>\n      <th></th>\n      <th></th>\n      <th></th>\n      <th></th>\n      <th></th>\n    </tr>\n  </thead>\n  <tbody>\n    <tr>\n      <th>10</th>\n      <td>0</td>\n      <td>2681</td>\n      <td>0</td>\n      <td>0</td>\n      <td>0</td>\n      <td>0</td>\n      <td>0</td>\n      <td>2048</td>\n      <td>799</td>\n      <td>0</td>\n      <td>...</td>\n      <td>0</td>\n      <td>0</td>\n      <td>0</td>\n      <td>1420</td>\n      <td>0</td>\n      <td>0</td>\n      <td>0</td>\n      <td>329</td>\n      <td>192</td>\n      <td>0</td>\n    </tr>\n    <tr>\n      <th>20</th>\n      <td>0</td>\n      <td>208</td>\n      <td>15</td>\n      <td>0</td>\n      <td>0</td>\n      <td>62</td>\n      <td>0</td>\n      <td>188</td>\n      <td>109</td>\n      <td>20</td>\n      <td>...</td>\n      <td>0</td>\n      <td>0</td>\n      <td>0</td>\n      <td>134</td>\n      <td>0</td>\n      <td>0</td>\n      <td>0</td>\n      <td>0</td>\n      <td>0</td>\n      <td>0</td>\n    </tr>\n    <tr>\n      <th>30</th>\n      <td>0</td>\n      <td>99</td>\n      <td>0</td>\n      <td>0</td>\n      <td>0</td>\n      <td>12</td>\n      <td>0</td>\n      <td>138</td>\n      <td>50</td>\n      <td>0</td>\n      <td>...</td>\n      <td>0</td>\n      <td>0</td>\n      <td>0</td>\n      <td>95</td>\n      <td>0</td>\n      <td>16</td>\n      <td>0</td>\n      <td>0</td>\n      <td>0</td>\n      <td>0</td>\n    </tr>\n    <tr>\n      <th>50</th>\n      <td>0</td>\n      <td>211</td>\n      <td>87</td>\n      <td>73</td>\n      <td>0</td>\n      <td>27</td>\n      <td>0</td>\n      <td>235</td>\n      <td>126</td>\n      <td>0</td>\n      <td>...</td>\n      <td>0</td>\n      <td>0</td>\n      <td>166</td>\n      <td>144</td>\n      <td>0</td>\n      <td>148</td>\n      <td>40</td>\n      <td>0</td>\n      <td>0</td>\n      <td>0</td>\n    </tr>\n    <tr>\n      <th>70</th>\n      <td>0</td>\n      <td>766</td>\n      <td>306</td>\n      <td>263</td>\n      <td>0</td>\n      <td>0</td>\n      <td>113</td>\n      <td>929</td>\n      <td>430</td>\n      <td>0</td>\n      <td>...</td>\n      <td>0</td>\n      <td>0</td>\n      <td>666</td>\n      <td>503</td>\n      <td>0</td>\n      <td>518</td>\n      <td>322</td>\n      <td>0</td>\n      <td>0</td>\n      <td>0</td>\n    </tr>\n    <tr>\n      <th>...</th>\n      <td>...</td>\n      <td>...</td>\n      <td>...</td>\n      <td>...</td>\n      <td>...</td>\n      <td>...</td>\n      <td>...</td>\n      <td>...</td>\n      <td>...</td>\n      <td>...</td>\n      <td>...</td>\n      <td>...</td>\n      <td>...</td>\n      <td>...</td>\n      <td>...</td>\n      <td>...</td>\n      <td>...</td>\n      <td>...</td>\n      <td>...</td>\n      <td>...</td>\n      <td>...</td>\n    </tr>\n    <tr>\n      <th>871720</th>\n      <td>0</td>\n      <td>206</td>\n      <td>0</td>\n      <td>173</td>\n      <td>0</td>\n      <td>0</td>\n      <td>445</td>\n      <td>0</td>\n      <td>360</td>\n      <td>154</td>\n      <td>...</td>\n      <td>0</td>\n      <td>0</td>\n      <td>0</td>\n      <td>0</td>\n      <td>133</td>\n      <td>442</td>\n      <td>181</td>\n      <td>414</td>\n      <td>319</td>\n      <td>0</td>\n    </tr>\n    <tr>\n      <th>905370</th>\n      <td>0</td>\n      <td>47</td>\n      <td>0</td>\n      <td>0</td>\n      <td>0</td>\n      <td>0</td>\n      <td>0</td>\n      <td>0</td>\n      <td>0</td>\n      <td>0</td>\n      <td>...</td>\n      <td>40</td>\n      <td>0</td>\n      <td>0</td>\n      <td>0</td>\n      <td>0</td>\n      <td>0</td>\n      <td>0</td>\n      <td>41</td>\n      <td>0</td>\n      <td>0</td>\n    </tr>\n    <tr>\n      <th>942970</th>\n      <td>0</td>\n      <td>0</td>\n      <td>0</td>\n      <td>0</td>\n      <td>0</td>\n      <td>0</td>\n      <td>0</td>\n      <td>0</td>\n      <td>0</td>\n      <td>0</td>\n      <td>...</td>\n      <td>25</td>\n      <td>0</td>\n      <td>0</td>\n      <td>0</td>\n      <td>23</td>\n      <td>0</td>\n      <td>21</td>\n      <td>0</td>\n      <td>0</td>\n      <td>0</td>\n    </tr>\n    <tr>\n      <th>960090</th>\n      <td>0</td>\n      <td>0</td>\n      <td>0</td>\n      <td>0</td>\n      <td>0</td>\n      <td>0</td>\n      <td>0</td>\n      <td>0</td>\n      <td>0</td>\n      <td>0</td>\n      <td>...</td>\n      <td>0</td>\n      <td>0</td>\n      <td>0</td>\n      <td>0</td>\n      <td>0</td>\n      <td>26</td>\n      <td>0</td>\n      <td>43</td>\n      <td>0</td>\n      <td>0</td>\n    </tr>\n    <tr>\n      <th>977950</th>\n      <td>0</td>\n      <td>16</td>\n      <td>0</td>\n      <td>0</td>\n      <td>0</td>\n      <td>0</td>\n      <td>29</td>\n      <td>0</td>\n      <td>0</td>\n      <td>0</td>\n      <td>...</td>\n      <td>0</td>\n      <td>0</td>\n      <td>0</td>\n      <td>0</td>\n      <td>0</td>\n      <td>0</td>\n      <td>0</td>\n      <td>0</td>\n      <td>0</td>\n      <td>0</td>\n    </tr>\n  </tbody>\n</table>\n<p>780 rows × 24 columns</p>\n</div>"
     },
     "metadata": {},
     "execution_count": 5
    }
   ],
   "source": [
    "# As genres will not change per game, use groupby() to groupby appid and return the first instance of each game\n",
    "df_genres_group = df_genres.groupby('appid').first()\n",
    "df_genres_group"
   ]
  },
  {
   "cell_type": "code",
   "execution_count": 6,
   "metadata": {},
   "outputs": [],
   "source": [
    "# Check how many columns with genres we have\n",
    "column_length = len(df_genres_group.columns)"
   ]
  },
  {
   "cell_type": "code",
   "execution_count": null,
   "metadata": {},
   "outputs": [],
   "source": [
    "# Initialize a dictionary to hold appid and genres associated\n",
    "# Loop through all rows\n",
    "# For each row, loop through each column\n",
    "# If value in each column is > 0, then add row index to dictionary as key, and add value as value in dictionary"
   ]
  },
  {
   "cell_type": "code",
   "execution_count": 7,
   "metadata": {},
   "outputs": [],
   "source": [
    "# Instantiate an empty dictionary to hold our genres\n",
    "genre_dict = {}"
   ]
  },
  {
   "cell_type": "code",
   "execution_count": 33,
   "metadata": {},
   "outputs": [
    {
     "output_type": "execute_result",
     "data": {
      "text/plain": [
       "(10,\n",
       " 2d                     0\n",
       " action              2681\n",
       " adventure              0\n",
       " atmospheric            0\n",
       " casual                 0\n",
       " co_op                  0\n",
       " difficult              0\n",
       " fps                 2048\n",
       " first_person         799\n",
       " funny                  0\n",
       " great_soundtrack       0\n",
       " indie                  0\n",
       " multiplayer         1659\n",
       " open_world             0\n",
       " rpg                    0\n",
       " sandbox                0\n",
       " sci_fi                 0\n",
       " shooter             1420\n",
       " simulation             0\n",
       " singleplayer           0\n",
       " story_rich             0\n",
       " strategy             329\n",
       " survival             192\n",
       " third_person           0\n",
       " Name: 10, dtype: int64)"
      ]
     },
     "metadata": {},
     "execution_count": 33
    }
   ],
   "source": [
    "# Assess data structure of first row by using iterrows() method\r\n",
    "# data is returned as a tuple\r\n",
    "first_row = next(df_genres_group.iterrows())\r\n",
    "first_row"
   ]
  },
  {
   "cell_type": "code",
   "execution_count": 43,
   "metadata": {},
   "outputs": [
    {
     "output_type": "execute_result",
     "data": {
      "text/plain": [
       "2d                     0\n",
       "action              2681\n",
       "adventure              0\n",
       "atmospheric            0\n",
       "casual                 0\n",
       "co_op                  0\n",
       "difficult              0\n",
       "fps                 2048\n",
       "first_person         799\n",
       "funny                  0\n",
       "great_soundtrack       0\n",
       "indie                  0\n",
       "multiplayer         1659\n",
       "open_world             0\n",
       "rpg                    0\n",
       "sandbox                0\n",
       "sci_fi                 0\n",
       "shooter             1420\n",
       "simulation             0\n",
       "singleplayer           0\n",
       "story_rich             0\n",
       "strategy             329\n",
       "survival             192\n",
       "third_person           0\n",
       "Name: 10, dtype: int64"
      ]
     },
     "metadata": {},
     "execution_count": 43
    }
   ],
   "source": [
    "# Can access a Series of genres and their vote counts with indexing\n",
    "first_row[1]"
   ]
  },
  {
   "cell_type": "code",
   "execution_count": 83,
   "metadata": {},
   "outputs": [
    {
     "output_type": "error",
     "ename": "IndexError",
     "evalue": "index 2681 is out of bounds for axis 0 with size 24",
     "traceback": [
      "\u001b[1;31m---------------------------------------------------------------------------\u001b[0m",
      "\u001b[1;31mIndexError\u001b[0m                                Traceback (most recent call last)",
      "\u001b[1;32m<ipython-input-83-e8e72c0a1534>\u001b[0m in \u001b[0;36m<module>\u001b[1;34m\u001b[0m\n\u001b[0;32m      3\u001b[0m     \u001b[1;32mfor\u001b[0m \u001b[0mval\u001b[0m \u001b[1;32min\u001b[0m \u001b[0mrow\u001b[0m\u001b[1;33m[\u001b[0m\u001b[1;36m1\u001b[0m\u001b[1;33m]\u001b[0m\u001b[1;33m:\u001b[0m\u001b[1;33m\u001b[0m\u001b[1;33m\u001b[0m\u001b[0m\n\u001b[0;32m      4\u001b[0m         \u001b[1;32mif\u001b[0m \u001b[0mval\u001b[0m \u001b[1;33m>\u001b[0m \u001b[1;36m0\u001b[0m\u001b[1;33m:\u001b[0m\u001b[1;33m\u001b[0m\u001b[1;33m\u001b[0m\u001b[0m\n\u001b[1;32m----> 5\u001b[1;33m             \u001b[0mstorage_list\u001b[0m\u001b[1;33m.\u001b[0m\u001b[0mappend\u001b[0m\u001b[1;33m(\u001b[0m\u001b[0mrow\u001b[0m\u001b[1;33m[\u001b[0m\u001b[1;36m1\u001b[0m\u001b[1;33m]\u001b[0m\u001b[1;33m.\u001b[0m\u001b[0mindex\u001b[0m\u001b[1;33m.\u001b[0m\u001b[0mvalues\u001b[0m\u001b[1;33m[\u001b[0m\u001b[0mval\u001b[0m\u001b[1;33m]\u001b[0m\u001b[1;33m)\u001b[0m\u001b[1;33m\u001b[0m\u001b[1;33m\u001b[0m\u001b[0m\n\u001b[0m\u001b[0;32m      6\u001b[0m     \u001b[0mgenre_dict\u001b[0m\u001b[1;33m[\u001b[0m\u001b[0mrow\u001b[0m\u001b[1;33m[\u001b[0m\u001b[1;36m0\u001b[0m\u001b[1;33m]\u001b[0m\u001b[1;33m]\u001b[0m \u001b[1;33m=\u001b[0m \u001b[0mstorage_list\u001b[0m\u001b[1;33m\u001b[0m\u001b[1;33m\u001b[0m\u001b[0m\n",
      "\u001b[1;31mIndexError\u001b[0m: index 2681 is out of bounds for axis 0 with size 24"
     ]
    }
   ],
   "source": [
    "# for row in df_genres_group.iterrows():\n",
    "#     storage_list = []\n",
    "#     for val in row[1]:\n",
    "#         if val > 0:\n",
    "#             storage_list.append(row[1].index.values[val])\n",
    "#     genre_dict[row[0]] = storage_list"
   ]
  },
  {
   "cell_type": "code",
   "execution_count": 84,
   "metadata": {},
   "outputs": [],
   "source": [
    "# Loop through each row in our genres table\n",
    "for row in df_genres_group.iterrows():\n",
    "    # create an empty list to temporarily hold our genre data\n",
    "    storage_list = []\n",
    "    # Iterate through each value in our Series, and unpack our Series (row[1]) into index and value\n",
    "    for ind, val in row[1].iteritems():\n",
    "        # if a genre is represented in a game (val > 0), add the index (genre name) to storage list\n",
    "        if val > 0:\n",
    "            storage_list.append(ind)\n",
    "    # create a new key:value pair in dictionary, with key = appid, and value the list of represented genres\n",
    "    genre_dict[row[0]] = storage_list"
   ]
  },
  {
   "cell_type": "code",
   "execution_count": 87,
   "metadata": {},
   "outputs": [
    {
     "output_type": "execute_result",
     "data": {
      "text/plain": [
       "['action',\n",
       " 'fps',\n",
       " 'first_person',\n",
       " 'multiplayer',\n",
       " 'shooter',\n",
       " 'strategy',\n",
       " 'survival']"
      ]
     },
     "metadata": {},
     "execution_count": 87
    }
   ],
   "source": [
    "# assess data structure of first entry\n",
    "genre_dict[10]"
   ]
  },
  {
   "cell_type": "code",
   "execution_count": 118,
   "metadata": {},
   "outputs": [
    {
     "output_type": "execute_result",
     "data": {
      "text/plain": [
       "dict_keys([10, 20, 30, 50, 70, 80, 130, 220, 240, 300, 320, 340, 380, 400, 420, 440, 500, 550, 570, 620, 630, 730, 1250, 1840, 2600, 3830, 4000, 4500, 4920, 6860, 6910, 8190, 8870, 9420, 9480, 10090, 11020, 12100, 12110, 12120, 12140, 12200, 15620, 16450, 17080, 17300, 17450, 17460, 17470, 18500, 20510, 20920, 21090, 21100, 22000, 22100, 22300, 22350, 22380, 24980, 25000, 25890, 26800, 29800, 39000, 39120, 39140, 39150, 39210, 39510, 40100, 40300, 40700, 40970, 41000, 41070, 41500, 41700, 42910, 42960, 44350, 47410, 47810, 48000, 48700, 49520, 50300, 55100, 55150, 55230, 57300, 57690, 57900, 65800, 65930, 67370, 70000, 70300, 70400, 72850, 91700, 92800, 94400, 95400, 96000, 98800, 99900, 102600, 104200, 104900, 105600, 107100, 107410, 108600, 108710, 109600, 110800, 113200, 113400, 115800, 200170, 200510, 200710, 200900, 201790, 201810, 202750, 203160, 203290, 203750, 203770, 204030, 204100, 204340, 205100, 205910, 206190, 206420, 206440, 206500, 207140, 207170, 207690, 209080, 209670, 210770, 210970, 211400, 211820, 212070, 212160, 212680, 212800, 214340, 214420, 214490, 214730, 214770, 215080, 215280, 215470, 215530, 216150, 217200, 218230, 218620, 218640, 218680, 219150, 219640, 219830, 219890, 219990, 220200, 220700, 220780, 221100, 221260, 221640, 221910, 222730, 222880, 223470, 223710, 223750, 224260, 224480, 224600, 224760, 225080, 225600, 225840, 226580, 226840, 226860, 227100, 227300, 227940, 228280, 228300, 228380, 230050, 230190, 230410, 231160, 231430, 232010, 232090, 232430, 232790, 232890, 233130, 233150, 233450, 233470, 233610, 233860, 234140, 234630, 234650, 235460, 235540, 235800, 236090, 236110, 236390, 236690, 236850, 237310, 237870, 237930, 237990, 238010, 238210, 238320, 238370, 238430, 238960, 239030, 239070, 239140, 239160, 239200, 239820, 241600, 242640, 242680, 242700, 242720, 242760, 242820, 242860, 242920, 243970, 244160, 244210, 244450, 244850, 244930, 245470, 245620, 246420, 246620, 246900, 247020, 247080, 248310, 248390, 248570, 248610, 248820, 250180, 250260, 250320, 250340, 250400, 250600, 250900, 251060, 251150, 251570, 251990, 252330, 252410, 252490, 252610, 253030, 253110, 253230, 253250, 253430, 253710, 253980, 255710, 256290, 261640, 262060, 262410, 263060, 264200, 264710, 265210, 265630, 265890, 265930, 266010, 266210, 266510, 266840, 268050, 268130, 268420, 268750, 268910, 269210, 269770, 269950, 270150, 270210, 270450, 270550, 270850, 270880, 271590, 272060, 272510, 274170, 274190, 274520, 274900, 274920, 274940, 275850, 276810, 278360, 280160, 280790, 281990, 282070, 282140, 282800, 283640, 284160, 285190, 285900, 285920, 286160, 286570, 286690, 287390, 287450, 287700, 287980, 288160, 288470, 290080, 290300, 290340, 291480, 291550, 291650, 293260, 293780, 294100, 296300, 296470, 297130, 298630, 299360, 299460, 299740, 300380, 300550, 301520, 301640, 301910, 302380, 302510, 302670, 303210, 303390, 304030, 304050, 304430, 304930, 305620, 307690, 307780, 307880, 310080, 310560, 310950, 311310, 311340, 311690, 312530, 312660, 312990, 313120, 313160, 313340, 313740, 314020, 315430, 316010, 316790, 317360, 318600, 319510, 319910, 320240, 320300, 322170, 322330, 322500, 323190, 323320, 323470, 323850, 324800, 325610, 326460, 327890, 330830, 331470, 332200, 332310, 332500, 332800, 333420, 333600, 333950, 334230, 335240, 335670, 337320, 337340, 339800, 341000, 341800, 341940, 342180, 344760, 346010, 346110, 346120, 346900, 347620, 349040, 351640, 351920, 351970, 352520, 353560, 354140, 355180, 355840, 356570, 356670, 359050, 359320, 359870, 360170, 360740, 360940, 361280, 361420, 361800, 362680, 362890, 362930, 362960, 363890, 363970, 364360, 365360, 365450, 365960, 367450, 367500, 367520, 368230, 368340, 368360, 368370, 369990, 374040, 375230, 375950, 376210, 377160, 377840, 378540, 378610, 378860, 379430, 379720, 380600, 380840, 381210, 382310, 383080, 383120, 383150, 383870, 383980, 385760, 385770, 385800, 386070, 386180, 386940, 387290, 387990, 388090, 388880, 389430, 389730, 391040, 391460, 391540, 391720, 392110, 392160, 393380, 393420, 394310, 394360, 394690, 395170, 397060, 397340, 397950, 398710, 398850, 400910, 402570, 402710, 402840, 403190, 403640, 404410, 405640, 406150, 410110, 411300, 412830, 413150, 413410, 413420, 414340, 414700, 415200, 417860, 418030, 418240, 418340, 418460, 420110, 420290, 420530, 421020, 421040, 422970, 423230, 423880, 424280, 424370, 424840, 425580, 426000, 427290, 427520, 428690, 429050, 430960, 431240, 433340, 433850, 433950, 434570, 434650, 435400, 435530, 436150, 436520, 437920, 438740, 439190, 440900, 442080, 443810, 444640, 445220, 445980, 446800, 447020, 447530, 447820, 448510, 449540, 449960, 451340, 454650, 457140, 459820, 460790, 460930, 462770, 464060, 464920, 466170, 466240, 466560, 467960, 471710, 473690, 474750, 474960, 475150, 475550, 477160, 480490, 481510, 486310, 489520, 489830, 489940, 492720, 493340, 493900, 495890, 496300, 498240, 499440, 501300, 503560, 503940, 504230, 504370, 505460, 506610, 508440, 512900, 513710, 516750, 519190, 519860, 527230, 527430, 529180, 530330, 530700, 531640, 532210, 533300, 535230, 535930, 537180, 537800, 544920, 548430, 550650, 551170, 552100, 552500, 552990, 553640, 554620, 555160, 555220, 555570, 557600, 558100, 560130, 560380, 562220, 564710, 567640, 569480, 571740, 572410, 573090, 575640, 577800, 578080, 578620, 581320, 581630, 582500, 582660, 583950, 584400, 584980, 585420, 588650, 589290, 590380, 594570, 597170, 599140, 601150, 601430, 602520, 606280, 609320, 611500, 611790, 612880, 613100, 616560, 620980, 621060, 624090, 626690, 632360, 635260, 635730, 636480, 637090, 637650, 638970, 639790, 640820, 641990, 643270, 644560, 644570, 644930, 645630, 646570, 648350, 648800, 653530, 657200, 663090, 665300, 665360, 666140, 668630, 673950, 674020, 674940, 675010, 678950, 681660, 683320, 690790, 690830, 707010, 714010, 719890, 728880, 732430, 736220, 737800, 738060, 750920, 755790, 760060, 761890, 784150, 787860, 794260, 800270, 805550, 813820, 815370, 823130, 834910, 841370, 843380, 848450, 851100, 858810, 871720, 905370, 942970, 960090, 977950])"
      ]
     },
     "metadata": {},
     "execution_count": 118
    }
   ],
   "source": [
    "genre_dict.keys()"
   ]
  },
  {
   "cell_type": "code",
   "execution_count": 135,
   "metadata": {},
   "outputs": [
    {
     "output_type": "execute_result",
     "data": {
      "text/plain": [
       "['action',\n",
       " 'fps',\n",
       " 'first_person',\n",
       " 'multiplayer',\n",
       " 'shooter',\n",
       " 'strategy',\n",
       " 'survival']"
      ]
     },
     "metadata": {},
     "execution_count": 135
    }
   ],
   "source": [
    "genre_dict[10]"
   ]
  },
  {
   "cell_type": "code",
   "execution_count": 129,
   "metadata": {
    "tags": []
   },
   "outputs": [],
   "source": [
    "# Loop through genre dictionary, and for each key (game), add a unique row to a dataframe with each genre\n",
    "# Initialize an empty dataframe\n",
    "appid_list = []\n",
    "genre_column = []\n",
    "\n",
    "for key in genre_dict.keys():\n",
    "    for genre_list in genre_dict.values():\n",
    "        for genre in genre_list:\n",
    "            # df2 = pd.DataFrame([[key, genre]], columns=['appid','genre'])\n",
    "            # genres_by_appid_df.append(df2)\n",
    "            appid_list.append(key)\n",
    "            genre_column.append(genre)"
   ]
  },
  {
   "cell_type": "code",
   "execution_count": 136,
   "metadata": {},
   "outputs": [],
   "source": [
    "appid_list = []\n",
    "genre_column = []\n",
    "\n",
    "for key in genre_dict.keys():\n",
    "    for genre in genre_dict[key]:\n",
    "        appid_list.append(key)\n",
    "        genre_column.append(genre)"
   ]
  },
  {
   "cell_type": "code",
   "execution_count": 144,
   "metadata": {},
   "outputs": [],
   "source": [
    "df3 = pd.DataFrame(data={'appid':appid_list,'genre':genre_column})\n",
    "df3 = df3.set_index('appid')\n",
    "df3.to_csv('game_genres_separated.csv')"
   ]
  },
  {
   "cell_type": "code",
   "execution_count": 126,
   "metadata": {},
   "outputs": [
    {
     "output_type": "execute_result",
     "data": {
      "text/plain": [
       "    appid                                         genre\n",
       "0  977950  [action, difficult, great_soundtrack, indie]"
      ],
      "text/html": "<div>\n<style scoped>\n    .dataframe tbody tr th:only-of-type {\n        vertical-align: middle;\n    }\n\n    .dataframe tbody tr th {\n        vertical-align: top;\n    }\n\n    .dataframe thead th {\n        text-align: right;\n    }\n</style>\n<table border=\"1\" class=\"dataframe\">\n  <thead>\n    <tr style=\"text-align: right;\">\n      <th></th>\n      <th>appid</th>\n      <th>genre</th>\n    </tr>\n  </thead>\n  <tbody>\n    <tr>\n      <th>0</th>\n      <td>977950</td>\n      <td>[action, difficult, great_soundtrack, indie]</td>\n    </tr>\n  </tbody>\n</table>\n</div>"
     },
     "metadata": {},
     "execution_count": 126
    }
   ],
   "source": [
    "df2"
   ]
  },
  {
   "cell_type": "code",
   "execution_count": 124,
   "metadata": {},
   "outputs": [
    {
     "output_type": "execute_result",
     "data": {
      "text/plain": [
       "                                          genre\n",
       "0                                        977950\n",
       "1  [action, difficult, great_soundtrack, indie]"
      ],
      "text/html": "<div>\n<style scoped>\n    .dataframe tbody tr th:only-of-type {\n        vertical-align: middle;\n    }\n\n    .dataframe tbody tr th {\n        vertical-align: top;\n    }\n\n    .dataframe thead th {\n        text-align: right;\n    }\n</style>\n<table border=\"1\" class=\"dataframe\">\n  <thead>\n    <tr style=\"text-align: right;\">\n      <th></th>\n      <th>genre</th>\n    </tr>\n  </thead>\n  <tbody>\n    <tr>\n      <th>0</th>\n      <td>977950</td>\n    </tr>\n    <tr>\n      <th>1</th>\n      <td>[action, difficult, great_soundtrack, indie]</td>\n    </tr>\n  </tbody>\n</table>\n</div>"
     },
     "metadata": {},
     "execution_count": 124
    }
   ],
   "source": [
    "df2"
   ]
  },
  {
   "cell_type": "code",
   "execution_count": 89,
   "metadata": {},
   "outputs": [],
   "source": [
    "# Create dataframe from our dictionary, using orient='index' to ignore columns of varying lengths\n",
    "genre_df = pd.DataFrame.from_dict(genre_dict, orient='index')"
   ]
  },
  {
   "cell_type": "code",
   "execution_count": 92,
   "metadata": {},
   "outputs": [
    {
     "output_type": "execute_result",
     "data": {
      "text/plain": [
       "                  0            1                 2             3   \\\n",
       "10            action          fps      first_person   multiplayer   \n",
       "20            action    adventure             co_op           fps   \n",
       "30            action        co_op               fps  first_person   \n",
       "50            action    adventure       atmospheric         co_op   \n",
       "70            action    adventure       atmospheric     difficult   \n",
       "...              ...          ...               ...           ...   \n",
       "871720        action  atmospheric         difficult  first_person   \n",
       "905370        action   open_world               rpg      strategy   \n",
       "942970         indie          rpg        simulation    story_rich   \n",
       "960090  singleplayer     strategy              None          None   \n",
       "977950        action    difficult  great_soundtrack         indie   \n",
       "\n",
       "                  4             5                 6             7   \\\n",
       "10           shooter      strategy          survival          None   \n",
       "20      first_person         funny       multiplayer       shooter   \n",
       "30       multiplayer       shooter      singleplayer          None   \n",
       "50               fps  first_person  great_soundtrack        sci_fi   \n",
       "70               fps  first_person  great_soundtrack   multiplayer   \n",
       "...              ...           ...               ...           ...   \n",
       "871720         funny         indie        simulation  singleplayer   \n",
       "905370          None          None              None          None   \n",
       "942970          None          None              None          None   \n",
       "960090          None          None              None          None   \n",
       "977950          None          None              None          None   \n",
       "\n",
       "                8             9             10          11    12    13    14  \\\n",
       "10            None          None          None        None  None  None  None   \n",
       "20            None          None          None        None  None  None  None   \n",
       "30            None          None          None        None  None  None  None   \n",
       "50         shooter  singleplayer    story_rich        None  None  None  None   \n",
       "70          sci_fi       shooter  singleplayer  story_rich  None  None  None   \n",
       "...            ...           ...           ...         ...   ...   ...   ...   \n",
       "871720  story_rich      strategy      survival        None  None  None  None   \n",
       "905370        None          None          None        None  None  None  None   \n",
       "942970        None          None          None        None  None  None  None   \n",
       "960090        None          None          None        None  None  None  None   \n",
       "977950        None          None          None        None  None  None  None   \n",
       "\n",
       "          15  \n",
       "10      None  \n",
       "20      None  \n",
       "30      None  \n",
       "50      None  \n",
       "70      None  \n",
       "...      ...  \n",
       "871720  None  \n",
       "905370  None  \n",
       "942970  None  \n",
       "960090  None  \n",
       "977950  None  \n",
       "\n",
       "[780 rows x 16 columns]"
      ],
      "text/html": "<div>\n<style scoped>\n    .dataframe tbody tr th:only-of-type {\n        vertical-align: middle;\n    }\n\n    .dataframe tbody tr th {\n        vertical-align: top;\n    }\n\n    .dataframe thead th {\n        text-align: right;\n    }\n</style>\n<table border=\"1\" class=\"dataframe\">\n  <thead>\n    <tr style=\"text-align: right;\">\n      <th></th>\n      <th>0</th>\n      <th>1</th>\n      <th>2</th>\n      <th>3</th>\n      <th>4</th>\n      <th>5</th>\n      <th>6</th>\n      <th>7</th>\n      <th>8</th>\n      <th>9</th>\n      <th>10</th>\n      <th>11</th>\n      <th>12</th>\n      <th>13</th>\n      <th>14</th>\n      <th>15</th>\n    </tr>\n  </thead>\n  <tbody>\n    <tr>\n      <th>10</th>\n      <td>action</td>\n      <td>fps</td>\n      <td>first_person</td>\n      <td>multiplayer</td>\n      <td>shooter</td>\n      <td>strategy</td>\n      <td>survival</td>\n      <td>None</td>\n      <td>None</td>\n      <td>None</td>\n      <td>None</td>\n      <td>None</td>\n      <td>None</td>\n      <td>None</td>\n      <td>None</td>\n      <td>None</td>\n    </tr>\n    <tr>\n      <th>20</th>\n      <td>action</td>\n      <td>adventure</td>\n      <td>co_op</td>\n      <td>fps</td>\n      <td>first_person</td>\n      <td>funny</td>\n      <td>multiplayer</td>\n      <td>shooter</td>\n      <td>None</td>\n      <td>None</td>\n      <td>None</td>\n      <td>None</td>\n      <td>None</td>\n      <td>None</td>\n      <td>None</td>\n      <td>None</td>\n    </tr>\n    <tr>\n      <th>30</th>\n      <td>action</td>\n      <td>co_op</td>\n      <td>fps</td>\n      <td>first_person</td>\n      <td>multiplayer</td>\n      <td>shooter</td>\n      <td>singleplayer</td>\n      <td>None</td>\n      <td>None</td>\n      <td>None</td>\n      <td>None</td>\n      <td>None</td>\n      <td>None</td>\n      <td>None</td>\n      <td>None</td>\n      <td>None</td>\n    </tr>\n    <tr>\n      <th>50</th>\n      <td>action</td>\n      <td>adventure</td>\n      <td>atmospheric</td>\n      <td>co_op</td>\n      <td>fps</td>\n      <td>first_person</td>\n      <td>great_soundtrack</td>\n      <td>sci_fi</td>\n      <td>shooter</td>\n      <td>singleplayer</td>\n      <td>story_rich</td>\n      <td>None</td>\n      <td>None</td>\n      <td>None</td>\n      <td>None</td>\n      <td>None</td>\n    </tr>\n    <tr>\n      <th>70</th>\n      <td>action</td>\n      <td>adventure</td>\n      <td>atmospheric</td>\n      <td>difficult</td>\n      <td>fps</td>\n      <td>first_person</td>\n      <td>great_soundtrack</td>\n      <td>multiplayer</td>\n      <td>sci_fi</td>\n      <td>shooter</td>\n      <td>singleplayer</td>\n      <td>story_rich</td>\n      <td>None</td>\n      <td>None</td>\n      <td>None</td>\n      <td>None</td>\n    </tr>\n    <tr>\n      <th>...</th>\n      <td>...</td>\n      <td>...</td>\n      <td>...</td>\n      <td>...</td>\n      <td>...</td>\n      <td>...</td>\n      <td>...</td>\n      <td>...</td>\n      <td>...</td>\n      <td>...</td>\n      <td>...</td>\n      <td>...</td>\n      <td>...</td>\n      <td>...</td>\n      <td>...</td>\n      <td>...</td>\n    </tr>\n    <tr>\n      <th>871720</th>\n      <td>action</td>\n      <td>atmospheric</td>\n      <td>difficult</td>\n      <td>first_person</td>\n      <td>funny</td>\n      <td>indie</td>\n      <td>simulation</td>\n      <td>singleplayer</td>\n      <td>story_rich</td>\n      <td>strategy</td>\n      <td>survival</td>\n      <td>None</td>\n      <td>None</td>\n      <td>None</td>\n      <td>None</td>\n      <td>None</td>\n    </tr>\n    <tr>\n      <th>905370</th>\n      <td>action</td>\n      <td>open_world</td>\n      <td>rpg</td>\n      <td>strategy</td>\n      <td>None</td>\n      <td>None</td>\n      <td>None</td>\n      <td>None</td>\n      <td>None</td>\n      <td>None</td>\n      <td>None</td>\n      <td>None</td>\n      <td>None</td>\n      <td>None</td>\n      <td>None</td>\n      <td>None</td>\n    </tr>\n    <tr>\n      <th>942970</th>\n      <td>indie</td>\n      <td>rpg</td>\n      <td>simulation</td>\n      <td>story_rich</td>\n      <td>None</td>\n      <td>None</td>\n      <td>None</td>\n      <td>None</td>\n      <td>None</td>\n      <td>None</td>\n      <td>None</td>\n      <td>None</td>\n      <td>None</td>\n      <td>None</td>\n      <td>None</td>\n      <td>None</td>\n    </tr>\n    <tr>\n      <th>960090</th>\n      <td>singleplayer</td>\n      <td>strategy</td>\n      <td>None</td>\n      <td>None</td>\n      <td>None</td>\n      <td>None</td>\n      <td>None</td>\n      <td>None</td>\n      <td>None</td>\n      <td>None</td>\n      <td>None</td>\n      <td>None</td>\n      <td>None</td>\n      <td>None</td>\n      <td>None</td>\n      <td>None</td>\n    </tr>\n    <tr>\n      <th>977950</th>\n      <td>action</td>\n      <td>difficult</td>\n      <td>great_soundtrack</td>\n      <td>indie</td>\n      <td>None</td>\n      <td>None</td>\n      <td>None</td>\n      <td>None</td>\n      <td>None</td>\n      <td>None</td>\n      <td>None</td>\n      <td>None</td>\n      <td>None</td>\n      <td>None</td>\n      <td>None</td>\n      <td>None</td>\n    </tr>\n  </tbody>\n</table>\n<p>780 rows × 16 columns</p>\n</div>"
     },
     "metadata": {},
     "execution_count": 92
    }
   ],
   "source": [
    "genre_df"
   ]
  },
  {
   "cell_type": "code",
   "execution_count": 91,
   "metadata": {},
   "outputs": [],
   "source": [
    "genre_df.to_csv('game_genres.csv')"
   ]
  },
  {
   "cell_type": "code",
   "execution_count": null,
   "metadata": {},
   "outputs": [],
   "source": []
  }
 ]
}